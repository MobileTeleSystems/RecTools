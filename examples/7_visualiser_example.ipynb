{
 "cells": [
  {
   "cell_type": "code",
   "execution_count": 1,
   "id": "4b4dc6b9",
   "metadata": {},
   "outputs": [],
   "source": [
    "%load_ext autoreload\n",
    "%autoreload 2"
   ]
  },
  {
   "cell_type": "code",
   "execution_count": 2,
   "id": "8393d04f",
   "metadata": {},
   "outputs": [],
   "source": [
    "from pathlib import Path\n",
    "import sys\n",
    "root_directory = Path.cwd().parents[0].resolve()\n",
    "sys.path.append(str(root_directory))"
   ]
  },
  {
   "cell_type": "code",
   "execution_count": 3,
   "id": "4cdf1dd8",
   "metadata": {},
   "outputs": [],
   "source": [
    "import pandas as pd\n",
    "from rectools.utils.visualisation import Showcase"
   ]
  },
  {
   "cell_type": "code",
   "execution_count": 4,
   "id": "8a6eae19",
   "metadata": {},
   "outputs": [
    {
     "data": {
      "text/html": [
       "<div>\n",
       "<style scoped>\n",
       "    .dataframe tbody tr th:only-of-type {\n",
       "        vertical-align: middle;\n",
       "    }\n",
       "\n",
       "    .dataframe tbody tr th {\n",
       "        vertical-align: top;\n",
       "    }\n",
       "\n",
       "    .dataframe thead th {\n",
       "        text-align: right;\n",
       "    }\n",
       "</style>\n",
       "<table border=\"1\" class=\"dataframe\">\n",
       "  <thead>\n",
       "    <tr style=\"text-align: right;\">\n",
       "      <th></th>\n",
       "      <th>item_id</th>\n",
       "      <th>name</th>\n",
       "      <th>img_url</th>\n",
       "    </tr>\n",
       "  </thead>\n",
       "  <tbody>\n",
       "    <tr>\n",
       "      <th>0</th>\n",
       "      <td>0</td>\n",
       "      <td>Зеленая книга</td>\n",
       "      <td>https://recsysart.ru/posters/10772.jpg</td>\n",
       "    </tr>\n",
       "    <tr>\n",
       "      <th>1</th>\n",
       "      <td>1</td>\n",
       "      <td>Мейр из Исттауна</td>\n",
       "      <td>https://recsysart.ru/posters/1931.jpg</td>\n",
       "    </tr>\n",
       "    <tr>\n",
       "      <th>2</th>\n",
       "      <td>2</td>\n",
       "      <td>Настоящий детектив</td>\n",
       "      <td>https://recsysart.ru/posters/12048.jpg</td>\n",
       "    </tr>\n",
       "    <tr>\n",
       "      <th>3</th>\n",
       "      <td>3</td>\n",
       "      <td>Ла-ла-ленд</td>\n",
       "      <td>https://recsysart.ru/posters/3343.jpg</td>\n",
       "    </tr>\n",
       "    <tr>\n",
       "      <th>4</th>\n",
       "      <td>4</td>\n",
       "      <td>Джон Уик</td>\n",
       "      <td>https://recsysart.ru/posters/10073.jpg</td>\n",
       "    </tr>\n",
       "  </tbody>\n",
       "</table>\n",
       "</div>"
      ],
      "text/plain": [
       "   item_id                name                                 img_url\n",
       "0        0       Зеленая книга  https://recsysart.ru/posters/10772.jpg\n",
       "1        1    Мейр из Исттауна   https://recsysart.ru/posters/1931.jpg\n",
       "2        2  Настоящий детектив  https://recsysart.ru/posters/12048.jpg\n",
       "3        3          Ла-ла-ленд   https://recsysart.ru/posters/3343.jpg\n",
       "4        4            Джон Уик  https://recsysart.ru/posters/10073.jpg"
      ]
     },
     "execution_count": 4,
     "metadata": {},
     "output_type": "execute_result"
    }
   ],
   "source": [
    "item_data = pd.DataFrame({\n",
    "    \"item_id\": range(5),\n",
    "    \"name\": [\"Зеленая книга\", \"Мейр из Исттауна\", \"Настоящий детектив\", \"Ла-ла-ленд\", \"Джон Уик\"],\n",
    "    \"img_url\": ['https://recsysart.ru/posters/10772.jpg',\n",
    "       'https://recsysart.ru/posters/1931.jpg',\n",
    "       'https://recsysart.ru/posters/12048.jpg',\n",
    "       'https://recsysart.ru/posters/3343.jpg',\n",
    "       'https://recsysart.ru/posters/10073.jpg']\n",
    "    \n",
    "})\n",
    "item_data"
   ]
  },
  {
   "cell_type": "code",
   "execution_count": 5,
   "id": "a1ba98e3",
   "metadata": {},
   "outputs": [
    {
     "data": {
      "text/html": [
       "<div>\n",
       "<style scoped>\n",
       "    .dataframe tbody tr th:only-of-type {\n",
       "        vertical-align: middle;\n",
       "    }\n",
       "\n",
       "    .dataframe tbody tr th {\n",
       "        vertical-align: top;\n",
       "    }\n",
       "\n",
       "    .dataframe thead th {\n",
       "        text-align: right;\n",
       "    }\n",
       "</style>\n",
       "<table border=\"1\" class=\"dataframe\">\n",
       "  <thead>\n",
       "    <tr style=\"text-align: right;\">\n",
       "      <th></th>\n",
       "      <th>user_id</th>\n",
       "      <th>item_id</th>\n",
       "    </tr>\n",
       "  </thead>\n",
       "  <tbody>\n",
       "    <tr>\n",
       "      <th>0</th>\n",
       "      <td>1</td>\n",
       "      <td>0</td>\n",
       "    </tr>\n",
       "    <tr>\n",
       "      <th>1</th>\n",
       "      <td>1</td>\n",
       "      <td>1</td>\n",
       "    </tr>\n",
       "    <tr>\n",
       "      <th>2</th>\n",
       "      <td>2</td>\n",
       "      <td>2</td>\n",
       "    </tr>\n",
       "    <tr>\n",
       "      <th>3</th>\n",
       "      <td>2</td>\n",
       "      <td>3</td>\n",
       "    </tr>\n",
       "  </tbody>\n",
       "</table>\n",
       "</div>"
      ],
      "text/plain": [
       "   user_id  item_id\n",
       "0        1        0\n",
       "1        1        1\n",
       "2        2        2\n",
       "3        2        3"
      ]
     },
     "execution_count": 5,
     "metadata": {},
     "output_type": "execute_result"
    }
   ],
   "source": [
    "interactions = pd.DataFrame(\n",
    "    {\"user_id\": [1]*2 + [2]*2,\n",
    "    \"item_id\": range(4),\n",
    "    }\n",
    ")\n",
    "interactions"
   ]
  },
  {
   "cell_type": "code",
   "execution_count": 6,
   "id": "51f0c19a",
   "metadata": {},
   "outputs": [
    {
     "data": {
      "text/html": [
       "<div>\n",
       "<style scoped>\n",
       "    .dataframe tbody tr th:only-of-type {\n",
       "        vertical-align: middle;\n",
       "    }\n",
       "\n",
       "    .dataframe tbody tr th {\n",
       "        vertical-align: top;\n",
       "    }\n",
       "\n",
       "    .dataframe thead th {\n",
       "        text-align: right;\n",
       "    }\n",
       "</style>\n",
       "<table border=\"1\" class=\"dataframe\">\n",
       "  <thead>\n",
       "    <tr style=\"text-align: right;\">\n",
       "      <th></th>\n",
       "      <th>target_item_id</th>\n",
       "      <th>item_id</th>\n",
       "      <th>model</th>\n",
       "      <th>score</th>\n",
       "    </tr>\n",
       "  </thead>\n",
       "  <tbody>\n",
       "    <tr>\n",
       "      <th>0</th>\n",
       "      <td>1</td>\n",
       "      <td>2</td>\n",
       "      <td>model_one</td>\n",
       "      <td>100</td>\n",
       "    </tr>\n",
       "    <tr>\n",
       "      <th>1</th>\n",
       "      <td>1</td>\n",
       "      <td>3</td>\n",
       "      <td>model_one</td>\n",
       "      <td>100</td>\n",
       "    </tr>\n",
       "    <tr>\n",
       "      <th>2</th>\n",
       "      <td>2</td>\n",
       "      <td>4</td>\n",
       "      <td>model_one</td>\n",
       "      <td>100</td>\n",
       "    </tr>\n",
       "    <tr>\n",
       "      <th>3</th>\n",
       "      <td>2</td>\n",
       "      <td>5</td>\n",
       "      <td>model_one</td>\n",
       "      <td>100</td>\n",
       "    </tr>\n",
       "  </tbody>\n",
       "</table>\n",
       "</div>"
      ],
      "text/plain": [
       "   target_item_id  item_id      model  score\n",
       "0               1        2  model_one    100\n",
       "1               1        3  model_one    100\n",
       "2               2        4  model_one    100\n",
       "3               2        5  model_one    100"
      ]
     },
     "execution_count": 6,
     "metadata": {},
     "output_type": "execute_result"
    }
   ],
   "source": [
    "recos = pd.DataFrame(\n",
    "    {\"target_item_id\": [1]*2 + [2]*2,\n",
    "    \"item_id\": range(2, 6),\n",
    "    \"model\": [\"model_one\"]*4,\n",
    "#     \"model\": [\"model_one\", \"model_two\"]*2,\n",
    "    \"score\": [100]*4}\n",
    ")\n",
    "recos"
   ]
  },
  {
   "cell_type": "code",
   "execution_count": 7,
   "id": "6b2e242c",
   "metadata": {},
   "outputs": [],
   "source": [
    "# formatters should be a dict with column names as keys and functions to generate html code as values\n",
    "\n",
    "def path_to_image_html(url: str) -> str:\n",
    "    return '<img src=\"' + url + '\" style=max-height:150px;\"/>'\n",
    "\n",
    "formatters=dict(img_url=path_to_image_html)  # \"img_url\" здесь - это название колонки датафрейма"
   ]
  },
  {
   "cell_type": "code",
   "execution_count": 9,
   "id": "f9c57810",
   "metadata": {},
   "outputs": [
    {
     "data": {
      "application/vnd.jupyter.widget-view+json": {
       "model_id": "d1947ff45c624b469f75d9bd14acf2dd",
       "version_major": 2,
       "version_minor": 0
      },
      "text/plain": [
       "VBox(children=(ToggleButtons(button_style='warning', description='Select request target_item_id:', options=('u…"
      ]
     },
     "metadata": {},
     "output_type": "display_data"
    }
   ],
   "source": [
    "show = Showcase(\n",
    "    recos=recos, \n",
    "    item_data=item_data,\n",
    "    remove_exceeding_data=True,\n",
    "    is_u2i=False,  # u2i рекомендации\n",
    "    requests_dict={\"user_one\": 1},  # добавляем юзеров, которых хотим посмотреть (маппинг имен на id)\n",
    "    n_add_random_requests=0,  # добавляем количество рандомных юзеров\n",
    "    reco_cols=[\"score\"],  # добавляем колонки для отражения из recos датафрейма\n",
    "    item_data_cols=[\"item_id\", \"img_url\", \"name\"],  # добавляем колонки для отражения из item_data дарафрейма\n",
    "    item_df_formatters=formatters  # добавляем подготовленное форматирование колонок\n",
    ")"
   ]
  },
  {
   "cell_type": "markdown",
   "id": "60599d3f",
   "metadata": {},
   "source": [
    "# Junk"
   ]
  },
  {
   "cell_type": "code",
   "execution_count": 10,
   "id": "691caf90",
   "metadata": {},
   "outputs": [
    {
     "data": {
      "text/html": [
       "<table><tr><th>bar</th><th>bar</th></tr><tr><td>foo</td><td>foo</td></tr></table>"
      ],
      "text/plain": [
       "<IPython.core.display.HTML object>"
      ]
     },
     "execution_count": 10,
     "metadata": {},
     "output_type": "execute_result"
    }
   ],
   "source": [
    "from IPython.display import HTML\n",
    "table = \"<table><tr><th>bar</th><th>bar</th></tr><tr><td>foo</td><td>foo</td></tr></table>\"\n",
    "HTML(table)"
   ]
  },
  {
   "cell_type": "code",
   "execution_count": 13,
   "id": "c85fd73c",
   "metadata": {},
   "outputs": [],
   "source": [
    "css = \"\"\"<style>\n",
    "th {\n",
    "background-color:#55FF33;\n",
    "}\n",
    "td {\n",
    "background-color:#00FFFF;\n",
    "}\n",
    "</style>\"\"\""
   ]
  },
  {
   "cell_type": "code",
   "execution_count": 14,
   "id": "d74eb763",
   "metadata": {},
   "outputs": [
    {
     "data": {
      "text/html": [
       "<style>\n",
       "th {\n",
       "background-color:#55FF33;\n",
       "}\n",
       "td {\n",
       "background-color:#00FFFF;\n",
       "}\n",
       "</style>"
      ],
      "text/plain": [
       "<IPython.core.display.HTML object>"
      ]
     },
     "metadata": {},
     "output_type": "display_data"
    }
   ],
   "source": [
    "display(HTML(css))"
   ]
  },
  {
   "cell_type": "code",
   "execution_count": null,
   "id": "8f003e51",
   "metadata": {},
   "outputs": [],
   "source": []
  }
 ],
 "metadata": {
  "kernelspec": {
   "display_name": "rs_too_experiment",
   "language": "python",
   "name": "rs_too_experiment"
  },
  "language_info": {
   "codemirror_mode": {
    "name": "ipython",
    "version": 3
   },
   "file_extension": ".py",
   "mimetype": "text/x-python",
   "name": "python",
   "nbconvert_exporter": "python",
   "pygments_lexer": "ipython3",
   "version": "3.9.12"
  }
 },
 "nbformat": 4,
 "nbformat_minor": 5
}
