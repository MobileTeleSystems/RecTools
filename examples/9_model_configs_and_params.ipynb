{
 "cells": [
  {
   "cell_type": "markdown",
   "metadata": {},
   "source": [
    "# Model configs and params examples\n",
    "\n",
    "There are some common methods for RecTools models that simplify framework integration with experiment trackers (e.g. MlFlow) and allow running experiments from configs.\n",
    "They include:\n",
    "\n",
    "* `from_config`\n",
    "* `get_config`\n",
    "* `get_params`\n",
    "\n",
    "We also allow saving and loading models with methods:\n",
    "\n",
    "* `save`\n",
    "* `load`\n",
    "\n",
    "In this example we will show basic usage for all of these methods as well as config examples for our models."
   ]
  },
  {
   "cell_type": "code",
   "execution_count": 6,
   "metadata": {},
   "outputs": [],
   "source": [
    "from datetime import timedelta\n",
    "\n",
    "from rectools.models import (\n",
    "    ImplicitItemKNNWrapperModel, \n",
    "    ImplicitALSWrapperModel, \n",
    "    EASEModel, \n",
    "    PopularInCategoryModel, \n",
    "    PopularModel, \n",
    "    RandomModel, \n",
    "    LightFMWrapperModel,\n",
    "    PureSVDModel,\n",
    ")"
   ]
  },
  {
   "cell_type": "markdown",
   "metadata": {},
   "source": [
    "## Basic usage"
   ]
  },
  {
   "cell_type": "markdown",
   "metadata": {},
   "source": [
    "`from_config` methods allows model initialization from a dictionary of model hyper-params."
   ]
  },
  {
   "cell_type": "code",
   "execution_count": 12,
   "metadata": {},
   "outputs": [],
   "source": [
    "config = {\n",
    "    \"popularity\": \"n_interactions\",\n",
    "    \"period\": timedelta(weeks=2),\n",
    "}\n",
    "model = PopularModel.from_config(config)"
   ]
  },
  {
   "cell_type": "markdown",
   "metadata": {},
   "source": [
    "`get_config` method returns a dictionary of model hyper-params. In contrast to the previous method, here you will get a full list of model parameters, even the ones that were not specified during model initialization but instead were set to their default values."
   ]
  },
  {
   "cell_type": "code",
   "execution_count": 53,
   "metadata": {},
   "outputs": [
    {
     "data": {
      "text/plain": [
       "{'verbose': 0,\n",
       " 'popularity': <Popularity.N_INTERACTIONS: 'n_interactions'>,\n",
       " 'period': {'days': 14},\n",
       " 'begin_from': None,\n",
       " 'add_cold': False,\n",
       " 'inverse': False}"
      ]
     },
     "execution_count": 53,
     "metadata": {},
     "output_type": "execute_result"
    }
   ],
   "source": [
    "model.get_config()"
   ]
  },
  {
   "cell_type": "markdown",
   "metadata": {},
   "source": [
    "You can directly use output of `get_config` method to create new model instances using `from_config` method. New instances will have exactly the same hyper-params as the source model."
   ]
  },
  {
   "cell_type": "code",
   "execution_count": 6,
   "metadata": {},
   "outputs": [],
   "source": [
    "source_config = model.get_config()\n",
    "new_model = PopularModel.from_config(source_config)"
   ]
  },
  {
   "cell_type": "markdown",
   "metadata": {},
   "source": [
    "To get model config in json-compatible format pass `simple_types=True`. See how `popularity` parameter changes for the Popular model in the example below:"
   ]
  },
  {
   "cell_type": "code",
   "execution_count": 57,
   "metadata": {},
   "outputs": [
    {
     "data": {
      "text/plain": [
       "{'verbose': 0,\n",
       " 'popularity': 'n_interactions',\n",
       " 'period': {'days': 14},\n",
       " 'begin_from': None,\n",
       " 'add_cold': False,\n",
       " 'inverse': False}"
      ]
     },
     "execution_count": 57,
     "metadata": {},
     "output_type": "execute_result"
    }
   ],
   "source": [
    "model.get_config(simple_types=True)"
   ]
  },
  {
   "cell_type": "markdown",
   "metadata": {},
   "source": [
    "`get_params` method allows to get model hyper-parameters as a flat dictionary which is often more convenient for experiment trackers. \n",
    "\n",
    "\n",
    "Don't forget to pass `simple_types=True` to make the format json-compatible. Note that you can't initialize a new model from the output of this method."
   ]
  },
  {
   "cell_type": "code",
   "execution_count": 56,
   "metadata": {},
   "outputs": [
    {
     "data": {
      "text/plain": [
       "{'verbose': 0,\n",
       " 'popularity': 'n_interactions',\n",
       " 'period.days': 14,\n",
       " 'begin_from': None,\n",
       " 'add_cold': False,\n",
       " 'inverse': False}"
      ]
     },
     "execution_count": 56,
     "metadata": {},
     "output_type": "execute_result"
    }
   ],
   "source": [
    "model.get_params(simple_types=True)"
   ]
  },
  {
   "cell_type": "markdown",
   "metadata": {},
   "source": [
    "`save` and `load` model methods do exactly what you would expect from their naming :)\n",
    "Fit model to dataset before saving. Weights will be loaded during `load` method."
   ]
  },
  {
   "cell_type": "code",
   "execution_count": 13,
   "metadata": {},
   "outputs": [
    {
     "data": {
      "text/plain": [
       "220"
      ]
     },
     "execution_count": 13,
     "metadata": {},
     "output_type": "execute_result"
    }
   ],
   "source": [
    "model.save(\"pop_model.pkl\")"
   ]
  },
  {
   "cell_type": "code",
   "execution_count": 14,
   "metadata": {},
   "outputs": [],
   "source": [
    "loaded = PopularModel.load(\"pop_model.pkl\")"
   ]
  },
  {
   "cell_type": "markdown",
   "metadata": {},
   "source": [
    "## Configs examples for all models"
   ]
  },
  {
   "cell_type": "markdown",
   "metadata": {},
   "source": [
    "### ItemKNN\n",
    "`ImplicitItemKNNWrapperModel` is a wrapper.   \n",
    "Use \"model\" key in config to specify wrapped model class and params:\n",
    "\n",
    "Specify which model you want to wrap under the \"model.cls\" key. Options are:\n",
    "- \"TFIDFRecommender\"\n",
    "- \"CosineRecommender\"\n",
    "- \"BM25Recommender\"\n",
    "- \"ItemItemRecommender\"\n",
    "- A path to a class (including any custom class) that can be imported. Like \"implicit.nearest_neighbours.TFIDFRecommender\"\n",
    "\n",
    "Specify wrapped model hyper-params under the \"model.params\" key"
   ]
  },
  {
   "cell_type": "code",
   "execution_count": 58,
   "metadata": {},
   "outputs": [],
   "source": [
    "model = ImplicitItemKNNWrapperModel.from_config({\n",
    "    \"model\": {\n",
    "        \"cls\": \"TFIDFRecommender\",  # or \"implicit.nearest_neighbours.TFIDFRecommender\"\n",
    "        \"params\": {\"K\": 50, \"num_threads\": 1}\n",
    "    }\n",
    "})"
   ]
  },
  {
   "cell_type": "code",
   "execution_count": 59,
   "metadata": {},
   "outputs": [
    {
     "data": {
      "text/plain": [
       "{'verbose': 0,\n",
       " 'model.cls': 'TFIDFRecommender',\n",
       " 'model.params.K': 50,\n",
       " 'model.params.num_threads': 1}"
      ]
     },
     "execution_count": 59,
     "metadata": {},
     "output_type": "execute_result"
    }
   ],
   "source": [
    "model.get_params(simple_types=True)"
   ]
  },
  {
   "cell_type": "markdown",
   "metadata": {},
   "source": [
    "### iALS\n",
    "`ImplicitALSWrapperModel` is a wrapper.  \n",
    "Use \"model\" key in config to specify wrapped model class and params:  \n",
    "\n",
    "Specify which model you want to wrap under the \"model.cls\" key. Since there is only one default model, you can skip this step. \"implicit.als.AlternatingLeastSquares\" will be used by default. Also you can pass a path to a class (including any custom class) that can be imported.\n",
    "\n",
    "Specify wrapped model hyper-params under the \"model.params\" key.  \n",
    "\n",
    "Specify wrapper hyper-params under relevant keys."
   ]
  },
  {
   "cell_type": "code",
   "execution_count": 8,
   "metadata": {},
   "outputs": [],
   "source": [
    "config = {\n",
    "    \"model\": {\n",
    "        # \"cls\": \"AlternatingLeastSquares\",  # will work too\n",
    "        # \"cls\": \"implicit.als.AlternatingLeastSquares\",  # will work too\n",
    "        \"params\": {\n",
    "            \"factors\": 16,\n",
    "            \"num_threads\": 2,\n",
    "            \"iterations\": 2,\n",
    "            \"random_state\": 32\n",
    "        },\n",
    "    },\n",
    "    \"fit_features_together\": True,\n",
    "}\n",
    "model = ImplicitALSWrapperModel.from_config(config)"
   ]
  },
  {
   "cell_type": "code",
   "execution_count": 9,
   "metadata": {},
   "outputs": [
    {
     "data": {
      "text/plain": [
       "{'verbose': 0,\n",
       " 'model.cls': 'AlternatingLeastSquares',\n",
       " 'model.params.factors': 16,\n",
       " 'model.params.regularization': 0.01,\n",
       " 'model.params.alpha': 1.0,\n",
       " 'model.params.dtype': 'float32',\n",
       " 'model.params.use_native': True,\n",
       " 'model.params.use_cg': True,\n",
       " 'model.params.use_gpu': False,\n",
       " 'model.params.iterations': 2,\n",
       " 'model.params.calculate_training_loss': False,\n",
       " 'model.params.num_threads': 2,\n",
       " 'model.params.random_state': 32,\n",
       " 'fit_features_together': True}"
      ]
     },
     "execution_count": 9,
     "metadata": {},
     "output_type": "execute_result"
    }
   ],
   "source": [
    "model.get_params(simple_types=True)"
   ]
  },
  {
   "cell_type": "markdown",
   "metadata": {},
   "source": [
    "### EASE"
   ]
  },
  {
   "cell_type": "code",
   "execution_count": 65,
   "metadata": {},
   "outputs": [],
   "source": [
    "config = {\n",
    "    \"regularization\": 100,\n",
    "    \"verbose\": 1,\n",
    "}\n",
    "model = EASEModel.from_config(config)"
   ]
  },
  {
   "cell_type": "code",
   "execution_count": 66,
   "metadata": {},
   "outputs": [
    {
     "data": {
      "text/plain": [
       "{'verbose': 1, 'regularization': 100.0, 'num_threads': 1}"
      ]
     },
     "execution_count": 66,
     "metadata": {},
     "output_type": "execute_result"
    }
   ],
   "source": [
    "model.get_params(simple_types=True)"
   ]
  },
  {
   "cell_type": "markdown",
   "metadata": {},
   "source": [
    "### PureSVD"
   ]
  },
  {
   "cell_type": "code",
   "execution_count": 67,
   "metadata": {},
   "outputs": [],
   "source": [
    "config = {\n",
    "    \"factors\": 32,\n",
    "}\n",
    "model = PureSVDModel.from_config(config)"
   ]
  },
  {
   "cell_type": "code",
   "execution_count": 68,
   "metadata": {},
   "outputs": [
    {
     "data": {
      "text/plain": [
       "{'verbose': 0,\n",
       " 'factors': 32,\n",
       " 'tol': 0.0,\n",
       " 'maxiter': None,\n",
       " 'random_state': None}"
      ]
     },
     "execution_count": 68,
     "metadata": {},
     "output_type": "execute_result"
    }
   ],
   "source": [
    "model.get_params(simple_types=True)"
   ]
  },
  {
   "cell_type": "markdown",
   "metadata": {},
   "source": [
    "### LightFM\n",
    "\n",
    "`LightFMWrapperModel` is a wrapper.  \n",
    "Use \"model\" key in config to specify wrapped model class and params:  \n",
    "\n",
    "Specify which model you want to wrap under the \"model.cls\" key. Since there is only one default model, you can skip this step. \"LightFM\" will be used by default. Also you can pass a path to a class (including any custom class) that can be imported. Like \"lightfm.lightfm.LightFM\"\n",
    "\n",
    "Specify wrapped model hyper-params under the \"model.params\" key.  \n",
    "\n",
    "Specify wrapper hyper-params under relevant keys."
   ]
  },
  {
   "cell_type": "code",
   "execution_count": 74,
   "metadata": {},
   "outputs": [],
   "source": [
    "config = {\n",
    "    \"model\": {\n",
    "        # \"cls\": \"lightfm.lightfm.LightFM\",  # will work too \n",
    "        # \"cls\": \"LightFM\",  # will work too \n",
    "        \"params\": {\n",
    "            \"no_components\": 16,\n",
    "            \"learning_rate\": 0.03,\n",
    "            \"random_state\": 32,\n",
    "            \"loss\": \"warp\"\n",
    "        },\n",
    "    },\n",
    "    \"epochs\": 2,\n",
    "}\n",
    "model = LightFMWrapperModel.from_config(config)"
   ]
  },
  {
   "cell_type": "code",
   "execution_count": 75,
   "metadata": {},
   "outputs": [
    {
     "data": {
      "text/plain": [
       "{'verbose': 0,\n",
       " 'model.cls': 'LightFM',\n",
       " 'model.params.no_components': 16,\n",
       " 'model.params.k': 5,\n",
       " 'model.params.n': 10,\n",
       " 'model.params.learning_schedule': 'adagrad',\n",
       " 'model.params.loss': 'warp',\n",
       " 'model.params.learning_rate': 0.03,\n",
       " 'model.params.rho': 0.95,\n",
       " 'model.params.epsilon': 1e-06,\n",
       " 'model.params.item_alpha': 0.0,\n",
       " 'model.params.user_alpha': 0.0,\n",
       " 'model.params.max_sampled': 10,\n",
       " 'model.params.random_state': 32,\n",
       " 'epochs': 2,\n",
       " 'num_threads': 1}"
      ]
     },
     "execution_count": 75,
     "metadata": {},
     "output_type": "execute_result"
    }
   ],
   "source": [
    "model.get_params(simple_types=True)"
   ]
  },
  {
   "cell_type": "markdown",
   "metadata": {},
   "source": [
    "### Popular"
   ]
  },
  {
   "cell_type": "code",
   "execution_count": 76,
   "metadata": {},
   "outputs": [],
   "source": [
    "from datetime import timedelta\n",
    "config = {\n",
    "    \"popularity\": \"n_interactions\",\n",
    "    \"period\": timedelta(weeks=2),\n",
    "}\n",
    "model = PopularModel.from_config(config)"
   ]
  },
  {
   "cell_type": "code",
   "execution_count": 77,
   "metadata": {},
   "outputs": [
    {
     "data": {
      "text/plain": [
       "{'verbose': 0,\n",
       " 'popularity': 'n_interactions',\n",
       " 'period.days': 14,\n",
       " 'begin_from': None,\n",
       " 'add_cold': False,\n",
       " 'inverse': False}"
      ]
     },
     "execution_count": 77,
     "metadata": {},
     "output_type": "execute_result"
    }
   ],
   "source": [
    "model.get_params(simple_types=True)"
   ]
  },
  {
   "cell_type": "markdown",
   "metadata": {},
   "source": [
    "### Popular in category"
   ]
  },
  {
   "cell_type": "code",
   "execution_count": 78,
   "metadata": {},
   "outputs": [],
   "source": [
    "config = {\n",
    "    \"popularity\": \"n_interactions\",\n",
    "    \"period\": timedelta(days=1),\n",
    "    \"category_feature\": \"genres\",\n",
    "    \"mixing_strategy\": \"group\"\n",
    "}\n",
    "model = PopularInCategoryModel.from_config(config)"
   ]
  },
  {
   "cell_type": "code",
   "execution_count": 79,
   "metadata": {},
   "outputs": [
    {
     "data": {
      "text/plain": [
       "{'verbose': 0,\n",
       " 'popularity': 'n_interactions',\n",
       " 'period.days': 1,\n",
       " 'begin_from': None,\n",
       " 'add_cold': False,\n",
       " 'inverse': False,\n",
       " 'category_feature': 'genres',\n",
       " 'n_categories': None,\n",
       " 'mixing_strategy': 'group',\n",
       " 'ratio_strategy': 'proportional'}"
      ]
     },
     "execution_count": 79,
     "metadata": {},
     "output_type": "execute_result"
    }
   ],
   "source": [
    "model.get_params(simple_types=True)\n"
   ]
  },
  {
   "cell_type": "markdown",
   "metadata": {},
   "source": [
    "### Radom"
   ]
  },
  {
   "cell_type": "code",
   "execution_count": 80,
   "metadata": {},
   "outputs": [],
   "source": [
    "config = {\n",
    "    \"random_state\": 32,\n",
    "}\n",
    "model = RandomModel.from_config(config)"
   ]
  },
  {
   "cell_type": "code",
   "execution_count": 81,
   "metadata": {},
   "outputs": [
    {
     "data": {
      "text/plain": [
       "{'verbose': 0, 'random_state': 32}"
      ]
     },
     "execution_count": 81,
     "metadata": {},
     "output_type": "execute_result"
    }
   ],
   "source": [
    "model.get_params(simple_types=True)"
   ]
  }
 ],
 "metadata": {
  "language_info": {
   "name": "python"
  }
 },
 "nbformat": 4,
 "nbformat_minor": 2
}
