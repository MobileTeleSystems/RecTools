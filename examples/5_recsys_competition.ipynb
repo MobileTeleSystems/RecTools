{
 "cells": [
  {
   "cell_type": "markdown",
   "id": "35b8f0fe",
   "metadata": {
    "execution": {
     "iopub.execute_input": "2022-02-21T13:01:49.532634Z",
     "iopub.status.busy": "2022-02-21T13:01:49.532400Z",
     "iopub.status.idle": "2022-02-21T13:01:49.535108Z",
     "shell.execute_reply": "2022-02-21T13:01:49.534572Z",
     "shell.execute_reply.started": "2022-02-21T13:01:49.532613Z"
    }
   },
   "source": [
    "## MTS Your Second RecSys competition"
   ]
  },
  {
   "cell_type": "markdown",
   "id": "8c60772c",
   "metadata": {},
   "source": [
    "This notebook contains a solution to a RecSys competition which is a part of MTS Your Second RecSys course.\n",
    "\n",
    "MARS library is primarily used in this solution.\n",
    "\n",
    "The notebook includes:\n",
    "* fitting a model using hot users data and calculating recommendations for hot users\n",
    "* metrics evaluation using cross validation with time split\n",
    "* calculating recommendations for cold users"
   ]
  },
  {
   "cell_type": "markdown",
   "id": "dcddd7b8",
   "metadata": {},
   "source": [
    "Load datasets from https://ods.ai/tracks/recsys-course2021/competitions/competition-recsys-21/data "
   ]
  },
  {
   "cell_type": "code",
   "execution_count": 1,
   "id": "501d3824",
   "metadata": {},
   "outputs": [
    {
     "name": "stdout",
     "output_type": "stream",
     "text": [
      "--2022-08-01 15:55:56--  https://storage.yandexcloud.net/datasouls-ods/materials/7952fa0d/recsys_course.zip\n",
      "Распознаётся storage.yandexcloud.net (storage.yandexcloud.net)… 213.180.193.243\n",
      "Подключение к storage.yandexcloud.net (storage.yandexcloud.net)|213.180.193.243|:443... соединение установлено.\n",
      "HTTP-запрос отправлен. Ожидание ответа… 200 OK\n",
      "Длина: 79057125 (75M) [application/zip]\n",
      "Сохранение в: «recsys_course.zip»\n",
      "\n",
      "recsys_course.zip   100%[===================>]  75,39M  10,5MB/s    за 7,3s    \n",
      "\n",
      "2022-08-01 15:56:03 (10,4 MB/s) - «recsys_course.zip» сохранён [79057125/79057125]\n",
      "\n",
      "Archive:  recsys_course.zip\n",
      "  inflating: items.csv               \n",
      "  inflating: RecSys notebook Baseline.ipynb  \n",
      "  inflating: RecSys notebook EDA.ipynb  \n",
      "  inflating: sample_submission.csv   \n",
      "  inflating: users.csv               \n",
      "  inflating: interactions.csv        \n"
     ]
    }
   ],
   "source": [
    "!wget https://storage.yandexcloud.net/datasouls-ods/materials/7952fa0d/recsys_course.zip\n",
    "\n",
    "!unzip recsys_course.zip"
   ]
  },
  {
   "cell_type": "markdown",
   "id": "be8d9a58",
   "metadata": {},
   "source": [
    "### Importing libraries"
   ]
  },
  {
   "cell_type": "code",
   "execution_count": 17,
   "id": "33380398",
   "metadata": {
    "execution": {
     "iopub.execute_input": "2022-02-24T14:52:27.480327Z",
     "iopub.status.busy": "2022-02-24T14:52:27.479999Z",
     "iopub.status.idle": "2022-02-24T14:52:28.104453Z",
     "shell.execute_reply": "2022-02-24T14:52:28.103781Z",
     "shell.execute_reply.started": "2022-02-24T14:52:27.480245Z"
    }
   },
   "outputs": [],
   "source": [
    "import numpy as np\n",
    "import pandas as pd\n",
    "import scipy.sparse as sp\n",
    "import datetime\n",
    "from implicit.nearest_neighbours import TFIDFRecommender\n",
    "\n",
    "from rectools import Columns\n",
    "from rectools.dataset import Dataset\n",
    "from rectools.metrics import calc_metrics, MAP\n",
    "from rectools.models import ImplicitItemKNNWrapperModel\n",
    "from rectools.model_selection import TimeRangeSplit\n"
   ]
  },
  {
   "cell_type": "code",
   "execution_count": 3,
   "id": "05da478c",
   "metadata": {
    "execution": {
     "iopub.execute_input": "2022-02-24T14:52:29.717361Z",
     "iopub.status.busy": "2022-02-24T14:52:29.717094Z",
     "iopub.status.idle": "2022-02-24T14:52:29.720521Z",
     "shell.execute_reply": "2022-02-24T14:52:29.719909Z",
     "shell.execute_reply.started": "2022-02-24T14:52:29.717337Z"
    }
   },
   "outputs": [],
   "source": [
    "def fillna_cols(df):\n",
    "    return df.fillna({'age':'age_unknown','sex':'sex_unknown', 'income': 'income_unknown','kids_flg': False}).copy()\n"
   ]
  },
  {
   "cell_type": "markdown",
   "id": "8c710324",
   "metadata": {},
   "source": [
    "### Loading data"
   ]
  },
  {
   "cell_type": "code",
   "execution_count": 4,
   "id": "c6d7691c",
   "metadata": {},
   "outputs": [],
   "source": [
    "users_df = pd.read_csv('users.csv')\n",
    "items_df = pd.read_csv('items.csv')\n",
    "interactions_df = pd.read_csv('interactions.csv', parse_dates=['last_watch_dt'])\n",
    "submission = pd.read_csv('sample_submission.csv')"
   ]
  },
  {
   "cell_type": "markdown",
   "id": "c272fd42",
   "metadata": {},
   "source": [
    "### Preprocessing"
   ]
  },
  {
   "cell_type": "markdown",
   "id": "a9e87ed5",
   "metadata": {},
   "source": [
    "#### Users"
   ]
  },
  {
   "cell_type": "code",
   "execution_count": 5,
   "id": "79fdaca9",
   "metadata": {},
   "outputs": [],
   "source": [
    "users_df['age'] = users_df['age'].fillna('age_unknown')\n",
    "users_df['age'] = users_df['age'].astype('category')\n",
    "\n",
    "users_df['income'] = users_df['income'].fillna('income_unknown')\n",
    "users_df['income'] = users_df['income'].astype('category')\n",
    "\n",
    "users_df['sex'] = users_df['sex'].fillna('sex_unknown')\n",
    "users_df.loc[users_df.sex == 'М', 'sex'] = 'M'\n",
    "users_df.loc[users_df.sex == 'Ж', 'sex'] = 'F'\n",
    "users_df['sex'] = users_df['sex'].astype('category')\n",
    "\n",
    "users_df['kids_flg'] = users_df['kids_flg'].astype('bool')"
   ]
  },
  {
   "cell_type": "code",
   "execution_count": 6,
   "id": "a1f4c7b4",
   "metadata": {},
   "outputs": [
    {
     "name": "stdout",
     "output_type": "stream",
     "text": [
      "<class 'pandas.core.frame.DataFrame'>\n",
      "RangeIndex: 840197 entries, 0 to 840196\n",
      "Data columns (total 5 columns):\n",
      " #   Column    Non-Null Count   Dtype   \n",
      "---  ------    --------------   -----   \n",
      " 0   user_id   840197 non-null  int64   \n",
      " 1   age       840197 non-null  category\n",
      " 2   income    840197 non-null  category\n",
      " 3   sex       840197 non-null  category\n",
      " 4   kids_flg  840197 non-null  bool    \n",
      "dtypes: bool(1), category(3), int64(1)\n",
      "memory usage: 9.6 MB\n"
     ]
    },
    {
     "name": "stderr",
     "output_type": "stream",
     "text": [
      "/var/folders/m6/zwm77pk94gzgvxhxv086mjychvzkhw/T/ipykernel_92407/2901919997.py:1: FutureWarning: null_counts is deprecated. Use show_counts instead\n",
      "  users_df.info(verbose=True, null_counts=True)\n"
     ]
    }
   ],
   "source": [
    "users_df.info(verbose=True, null_counts=True)"
   ]
  },
  {
   "cell_type": "markdown",
   "id": "6d44e5cf",
   "metadata": {},
   "source": [
    "#### Items "
   ]
  },
  {
   "cell_type": "code",
   "execution_count": 7,
   "id": "08a3cfb7",
   "metadata": {},
   "outputs": [],
   "source": [
    "items_df['content_type'] = items_df['content_type'].astype('category')\n",
    "\n",
    "items_df['title'] = items_df['title'].str.lower()\n",
    "items_df['title_orig'] = items_df['title_orig'].fillna('None') \n",
    "\n",
    "items_df.loc[items_df['release_year'].isna(), 'release_year'] = 2020.\n",
    "items_df.loc[items_df['release_year'] < 1920, 'release_year_cat'] = 'inf_1920'\n",
    "items_df.loc[items_df['release_year'] >= 2020, 'release_year_cat'] = '2020_inf'\n",
    "for i in range (1920, 2020, 10):\n",
    "    items_df.loc[(items_df['release_year'] >= i) & (items_df['release_year'] < i+10), 'release_year_cat'] = f'{i}-{i+10}'\n",
    "items_df = items_df.drop(columns=['release_year'])\n",
    "items_df['release_year_cat'] = items_df['release_year_cat'].astype('category')\n",
    "\n",
    "items_df['genres'] = items_df['genres'].astype('category')\n",
    "\n",
    "items_df.loc[items_df.countries.isna(), 'countries'] = 'Russia'\n",
    "items_df['countries'] = items_df['countries'].str.lower()\n",
    "items_df['countries'] = items_df['countries'].apply(lambda x: ', '.join(sorted(list(set(x.split(', '))))))\n",
    "\n",
    "items_df['for_kids'] = items_df['for_kids'].fillna(0)\n",
    "items_df['for_kids'] = items_df['for_kids'].astype('bool')\n",
    "\n",
    "items_df.loc[items_df.age_rating.isna(), 'age_rating'] = 0\n",
    "items_df['age_rating'] = items_df['age_rating'].astype('category')\n",
    "\n",
    "items_df['studios'] = items_df['studios'].fillna('Unknown')\n",
    "items_df['studios'] = items_df['studios'].str.lower()\n",
    "items_df['studios'] = items_df['studios'].apply(lambda x: ', '.join(sorted(list(set(x.split(', '))))))\n",
    "items_df['studios'] = items_df['studios'].astype('category')\n",
    "\n",
    "items_df['directors'] = items_df['directors'].fillna('Unknown')\n",
    "items_df['directors'] = items_df['directors'].str.lower()\n",
    "items_df['directors'] = items_df['directors'].astype('category')\n",
    "\n",
    "items_df['actors'] = items_df['actors'].fillna('Unknown')\n",
    "items_df['actors'] = items_df['actors'].astype('category')\n",
    "\n",
    "items_df['keywords'] = items_df['keywords'].fillna('Unknown')\n",
    "items_df['keywords'] = items_df['keywords'].astype('category')\n",
    "\n",
    "items_df['description'] = items_df['description'].fillna('-')"
   ]
  },
  {
   "cell_type": "code",
   "execution_count": 8,
   "id": "7003719c",
   "metadata": {},
   "outputs": [
    {
     "name": "stdout",
     "output_type": "stream",
     "text": [
      "<class 'pandas.core.frame.DataFrame'>\n",
      "RangeIndex: 15963 entries, 0 to 15962\n",
      "Data columns (total 14 columns):\n",
      " #   Column            Non-Null Count  Dtype   \n",
      "---  ------            --------------  -----   \n",
      " 0   item_id           15963 non-null  int64   \n",
      " 1   content_type      15963 non-null  category\n",
      " 2   title             15963 non-null  object  \n",
      " 3   title_orig        15963 non-null  object  \n",
      " 4   genres            15963 non-null  category\n",
      " 5   countries         15963 non-null  object  \n",
      " 6   for_kids          15963 non-null  bool    \n",
      " 7   age_rating        15963 non-null  category\n",
      " 8   studios           15963 non-null  category\n",
      " 9   directors         15963 non-null  category\n",
      " 10  actors            15963 non-null  category\n",
      " 11  description       15963 non-null  object  \n",
      " 12  keywords          15963 non-null  category\n",
      " 13  release_year_cat  15963 non-null  category\n",
      "dtypes: bool(1), category(8), int64(1), object(4)\n",
      "memory usage: 2.4+ MB\n"
     ]
    },
    {
     "name": "stderr",
     "output_type": "stream",
     "text": [
      "/var/folders/m6/zwm77pk94gzgvxhxv086mjychvzkhw/T/ipykernel_92407/3045960088.py:1: FutureWarning: null_counts is deprecated. Use show_counts instead\n",
      "  items_df.info(verbose=True, null_counts=True)\n"
     ]
    }
   ],
   "source": [
    "items_df.info(verbose=True, null_counts=True)"
   ]
  },
  {
   "cell_type": "markdown",
   "id": "6516369d",
   "metadata": {},
   "source": [
    "#### Interactions"
   ]
  },
  {
   "cell_type": "code",
   "execution_count": 9,
   "id": "975375f4",
   "metadata": {},
   "outputs": [],
   "source": [
    "interactions_df['watched_pct'] = interactions_df['watched_pct'].astype(pd.Int8Dtype())\n",
    "interactions_df['watched_pct'] = interactions_df['watched_pct'].fillna(0)\n",
    "interactions_df['last_watch_dt'] = pd.to_datetime(interactions_df['last_watch_dt'])"
   ]
  },
  {
   "cell_type": "code",
   "execution_count": 10,
   "id": "26758c57",
   "metadata": {},
   "outputs": [
    {
     "name": "stdout",
     "output_type": "stream",
     "text": [
      "<class 'pandas.core.frame.DataFrame'>\n",
      "RangeIndex: 5476251 entries, 0 to 5476250\n",
      "Data columns (total 5 columns):\n",
      " #   Column         Non-Null Count    Dtype         \n",
      "---  ------         --------------    -----         \n",
      " 0   user_id        5476251 non-null  int64         \n",
      " 1   item_id        5476251 non-null  int64         \n",
      " 2   last_watch_dt  5476251 non-null  datetime64[ns]\n",
      " 3   total_dur      5476251 non-null  int64         \n",
      " 4   watched_pct    5476251 non-null  Int8          \n",
      "dtypes: Int8(1), datetime64[ns](1), int64(3)\n",
      "memory usage: 177.6 MB\n"
     ]
    },
    {
     "name": "stderr",
     "output_type": "stream",
     "text": [
      "/var/folders/m6/zwm77pk94gzgvxhxv086mjychvzkhw/T/ipykernel_92407/109649125.py:1: FutureWarning: null_counts is deprecated. Use show_counts instead\n",
      "  interactions_df.info(null_counts=True, verbose=True)\n"
     ]
    }
   ],
   "source": [
    "interactions_df.info(null_counts=True, verbose=True)"
   ]
  },
  {
   "cell_type": "markdown",
   "id": "5ab39227",
   "metadata": {},
   "source": [
    "#### Save data sets"
   ]
  },
  {
   "cell_type": "code",
   "execution_count": 11,
   "id": "a07da925",
   "metadata": {},
   "outputs": [],
   "source": [
    "users_df.to_csv('users_processed.csv', index=False)\n",
    "items_df.to_csv('items_processed.csv', index=False)\n",
    "interactions_df.to_csv('interactions_processed.csv', index=False)"
   ]
  },
  {
   "cell_type": "markdown",
   "id": "d05830b7",
   "metadata": {},
   "source": [
    "### Loading preprocess data"
   ]
  },
  {
   "cell_type": "code",
   "execution_count": 12,
   "id": "a1e294c3",
   "metadata": {
    "execution": {
     "iopub.execute_input": "2022-02-24T14:52:30.412481Z",
     "iopub.status.busy": "2022-02-24T14:52:30.412216Z",
     "iopub.status.idle": "2022-02-24T14:52:33.701940Z",
     "shell.execute_reply": "2022-02-24T14:52:33.701141Z",
     "shell.execute_reply.started": "2022-02-24T14:52:30.412459Z"
    }
   },
   "outputs": [],
   "source": [
    "users_df = pd.read_csv('users_processed.csv')\n",
    "items_df = pd.read_csv('items_processed.csv')\n",
    "interactions_df = pd.read_csv('interactions_processed.csv', parse_dates=['last_watch_dt'])\n",
    "submission = pd.read_csv('sample_submission.csv')"
   ]
  },
  {
   "cell_type": "markdown",
   "id": "cead48a3",
   "metadata": {},
   "source": [
    "### Renaming columns and leaving the following columns - ['user_id', 'item_id', 'weight', 'datetime']"
   ]
  },
  {
   "cell_type": "code",
   "execution_count": 13,
   "id": "4845355d",
   "metadata": {
    "execution": {
     "iopub.execute_input": "2022-02-24T14:52:33.703104Z",
     "iopub.status.busy": "2022-02-24T14:52:33.702940Z",
     "iopub.status.idle": "2022-02-24T14:52:34.015330Z",
     "shell.execute_reply": "2022-02-24T14:52:34.014741Z",
     "shell.execute_reply.started": "2022-02-24T14:52:33.703085Z"
    }
   },
   "outputs": [
    {
     "data": {
      "text/html": [
       "<div>\n",
       "<style scoped>\n",
       "    .dataframe tbody tr th:only-of-type {\n",
       "        vertical-align: middle;\n",
       "    }\n",
       "\n",
       "    .dataframe tbody tr th {\n",
       "        vertical-align: top;\n",
       "    }\n",
       "\n",
       "    .dataframe thead th {\n",
       "        text-align: right;\n",
       "    }\n",
       "</style>\n",
       "<table border=\"1\" class=\"dataframe\">\n",
       "  <thead>\n",
       "    <tr style=\"text-align: right;\">\n",
       "      <th></th>\n",
       "      <th>user_id</th>\n",
       "      <th>item_id</th>\n",
       "      <th>weight</th>\n",
       "      <th>datetime</th>\n",
       "    </tr>\n",
       "  </thead>\n",
       "  <tbody>\n",
       "    <tr>\n",
       "      <th>0</th>\n",
       "      <td>176549</td>\n",
       "      <td>9506</td>\n",
       "      <td>72</td>\n",
       "      <td>2021-05-11</td>\n",
       "    </tr>\n",
       "    <tr>\n",
       "      <th>1</th>\n",
       "      <td>699317</td>\n",
       "      <td>1659</td>\n",
       "      <td>100</td>\n",
       "      <td>2021-05-29</td>\n",
       "    </tr>\n",
       "    <tr>\n",
       "      <th>2</th>\n",
       "      <td>656683</td>\n",
       "      <td>7107</td>\n",
       "      <td>0</td>\n",
       "      <td>2021-05-09</td>\n",
       "    </tr>\n",
       "    <tr>\n",
       "      <th>3</th>\n",
       "      <td>864613</td>\n",
       "      <td>7638</td>\n",
       "      <td>100</td>\n",
       "      <td>2021-07-05</td>\n",
       "    </tr>\n",
       "    <tr>\n",
       "      <th>4</th>\n",
       "      <td>964868</td>\n",
       "      <td>9506</td>\n",
       "      <td>100</td>\n",
       "      <td>2021-04-30</td>\n",
       "    </tr>\n",
       "  </tbody>\n",
       "</table>\n",
       "</div>"
      ],
      "text/plain": [
       "   user_id  item_id  weight   datetime\n",
       "0   176549     9506      72 2021-05-11\n",
       "1   699317     1659     100 2021-05-29\n",
       "2   656683     7107       0 2021-05-09\n",
       "3   864613     7638     100 2021-07-05\n",
       "4   964868     9506     100 2021-04-30"
      ]
     },
     "execution_count": 13,
     "metadata": {},
     "output_type": "execute_result"
    }
   ],
   "source": [
    "interactions_df.rename(\n",
    "    {\n",
    "        \"user_id\": Columns.User,\n",
    "        \"item_id\": Columns.Item,\n",
    "        \"last_watch_dt\": Columns.Datetime,\n",
    "        \"watched_pct\": Columns.Weight,\n",
    "    },\n",
    "    axis=1,\n",
    "    inplace=True\n",
    ")\n",
    "interactions_df = interactions_df[Columns.Interactions]\n",
    "interactions_df.head()"
   ]
  },
  {
   "cell_type": "markdown",
   "id": "3cb2b9cf",
   "metadata": {},
   "source": [
    "### Obtaining table with hot users data"
   ]
  },
  {
   "cell_type": "code",
   "execution_count": 14,
   "id": "d79bdacc",
   "metadata": {
    "execution": {
     "iopub.execute_input": "2022-02-24T14:52:34.602411Z",
     "iopub.status.busy": "2022-02-24T14:52:34.602172Z",
     "iopub.status.idle": "2022-02-24T14:52:39.990715Z",
     "shell.execute_reply": "2022-02-24T14:52:39.989605Z",
     "shell.execute_reply.started": "2022-02-24T14:52:34.602389Z"
    }
   },
   "outputs": [],
   "source": [
    "df_user_gr = interactions_df.groupby(Columns.User)[Columns.Item].nunique().reset_index()\n",
    "interactions_df_hot = interactions_df[(interactions_df[Columns.Weight] >= 5) &\n",
    "                                      (interactions_df[Columns.User].isin(df_user_gr[df_user_gr[Columns.Item] >= 3][Columns.User].unique()))].reset_index()\n",
    "test_hot = submission.merge(interactions_df_hot[[Columns.User]].drop_duplicates(), on = Columns.User, how = 'inner')"
   ]
  },
  {
   "cell_type": "markdown",
   "id": "bd167eb7",
   "metadata": {},
   "source": [
    "### Fitting TFIDF Recommender and calculating top 10 recommendations for hot users"
   ]
  },
  {
   "cell_type": "code",
   "execution_count": 18,
   "id": "25f19170",
   "metadata": {
    "execution": {
     "iopub.execute_input": "2022-02-24T14:52:39.992190Z",
     "iopub.status.busy": "2022-02-24T14:52:39.992020Z",
     "iopub.status.idle": "2022-02-24T14:53:00.979621Z",
     "shell.execute_reply": "2022-02-24T14:53:00.979072Z",
     "shell.execute_reply.started": "2022-02-24T14:52:39.992171Z"
    }
   },
   "outputs": [
    {
     "data": {
      "text/html": [
       "<div>\n",
       "<style scoped>\n",
       "    .dataframe tbody tr th:only-of-type {\n",
       "        vertical-align: middle;\n",
       "    }\n",
       "\n",
       "    .dataframe tbody tr th {\n",
       "        vertical-align: top;\n",
       "    }\n",
       "\n",
       "    .dataframe thead th {\n",
       "        text-align: right;\n",
       "    }\n",
       "</style>\n",
       "<table border=\"1\" class=\"dataframe\">\n",
       "  <thead>\n",
       "    <tr style=\"text-align: right;\">\n",
       "      <th></th>\n",
       "      <th>user_id</th>\n",
       "      <th>item_id</th>\n",
       "    </tr>\n",
       "  </thead>\n",
       "  <tbody>\n",
       "    <tr>\n",
       "      <th>0</th>\n",
       "      <td>3</td>\n",
       "      <td>[15297, 13865, 2657, 9996, 8636, 7417, 7829, 1...</td>\n",
       "    </tr>\n",
       "    <tr>\n",
       "      <th>1</th>\n",
       "      <td>11</td>\n",
       "      <td>[10440, 4151, 142, 13865, 9728, 3734, 9996, 86...</td>\n",
       "    </tr>\n",
       "    <tr>\n",
       "      <th>2</th>\n",
       "      <td>30</td>\n",
       "      <td>[13865, 10440, 157, 10419, 3734, 10525, 15297,...</td>\n",
       "    </tr>\n",
       "    <tr>\n",
       "      <th>3</th>\n",
       "      <td>46</td>\n",
       "      <td>[15297, 6785, 13865, 9728, 4151, 6210, 3734, 9...</td>\n",
       "    </tr>\n",
       "    <tr>\n",
       "      <th>4</th>\n",
       "      <td>47</td>\n",
       "      <td>[9728, 6774, 10440, 3734, 512, 7829, 7102, 447...</td>\n",
       "    </tr>\n",
       "  </tbody>\n",
       "</table>\n",
       "</div>"
      ],
      "text/plain": [
       "   user_id                                            item_id\n",
       "0        3  [15297, 13865, 2657, 9996, 8636, 7417, 7829, 1...\n",
       "1       11  [10440, 4151, 142, 13865, 9728, 3734, 9996, 86...\n",
       "2       30  [13865, 10440, 157, 10419, 3734, 10525, 15297,...\n",
       "3       46  [15297, 6785, 13865, 9728, 4151, 6210, 3734, 9...\n",
       "4       47  [9728, 6774, 10440, 3734, 512, 7829, 7102, 447..."
      ]
     },
     "execution_count": 18,
     "metadata": {},
     "output_type": "execute_result"
    }
   ],
   "source": [
    "dataset = Dataset.construct(interactions_df_hot)\n",
    "\n",
    "top_N_fit = 400\n",
    "top_N = 10\n",
    "\n",
    "model = ImplicitItemKNNWrapperModel(TFIDFRecommender(K=top_N_fit))\n",
    "model.fit(dataset)\n",
    "recs_hot = model.recommend(\n",
    "    test_hot[Columns.User].unique(),\n",
    "    dataset,\n",
    "    k=top_N,\n",
    "    filter_viewed=True,\n",
    ")\n",
    "recs_hot = recs_hot.groupby(Columns.User).agg({Columns.Item: list}).reset_index()\n",
    "recs_hot.head()"
   ]
  },
  {
   "cell_type": "markdown",
   "id": "93991176",
   "metadata": {},
   "source": [
    "### Metrics evaluation using cross validation with time split"
   ]
  },
  {
   "cell_type": "code",
   "execution_count": 19,
   "id": "65ee1854",
   "metadata": {
    "execution": {
     "iopub.execute_input": "2022-02-24T14:53:00.980675Z",
     "iopub.status.busy": "2022-02-24T14:53:00.980524Z",
     "iopub.status.idle": "2022-02-24T14:54:59.022127Z",
     "shell.execute_reply": "2022-02-24T14:54:59.021302Z",
     "shell.execute_reply.started": "2022-02-24T14:53:00.980657Z"
    }
   },
   "outputs": [],
   "source": [
    "last_date = interactions_df_hot[Columns.Datetime].max().normalize()\n",
    "folds = 3\n",
    "start_date = last_date - pd.Timedelta(days=folds*7)\n",
    "date_range = pd.date_range(start_date, last_date)\n",
    "\n",
    "cv = TimeRangeSplit(date_range)\n",
    "\n",
    "validation_results = pd.DataFrame()\n",
    "last_n_days = 60\n",
    "metrics = {f\"MAP@{top_N}\": MAP(top_N)}\n",
    "\n",
    "for train_idx, test_idx, info in cv.split(interactions_df_hot, collect_fold_stats=True):\n",
    "    train = interactions_df_hot.loc[train_idx]\n",
    "    \n",
    "    date_window = train[Columns.Datetime].max() - pd.DateOffset(days=last_n_days)\n",
    "    train = train[train[Columns.Datetime] >= date_window]\n",
    "    train_dataset = Dataset.construct(train)\n",
    "    model = ImplicitItemKNNWrapperModel(TFIDFRecommender(K=top_N_fit))\n",
    "    model.fit(train_dataset)\n",
    "    test = interactions_df_hot.loc[test_idx]\n",
    "    test_users = np.intersect1d(\n",
    "        train_dataset.user_id_map.external_ids,\n",
    "        test[Columns.User].unique()\n",
    "    )\n",
    "    recs = model.recommend(\n",
    "        test_users,\n",
    "        train_dataset,\n",
    "        k=top_N,\n",
    "        filter_viewed=True,\n",
    "    )\n",
    "    metrics_calculated = calc_metrics(\n",
    "        metrics,\n",
    "        recs,\n",
    "        test,\n",
    "        train,\n",
    "    )\n",
    "    validation_results = validation_results.append(metrics_calculated, ignore_index=True)"
   ]
  },
  {
   "cell_type": "markdown",
   "id": "cd570df9",
   "metadata": {},
   "source": [
    "### Printing cross validated MAP@10 value "
   ]
  },
  {
   "cell_type": "code",
   "execution_count": 20,
   "id": "56771e9a",
   "metadata": {
    "execution": {
     "iopub.execute_input": "2022-02-24T14:54:59.023278Z",
     "iopub.status.busy": "2022-02-24T14:54:59.023118Z",
     "iopub.status.idle": "2022-02-24T14:54:59.028621Z",
     "shell.execute_reply": "2022-02-24T14:54:59.028199Z",
     "shell.execute_reply.started": "2022-02-24T14:54:59.023258Z"
    }
   },
   "outputs": [
    {
     "data": {
      "text/plain": [
       "MAP@10    0.082902\n",
       "dtype: float64"
      ]
     },
     "execution_count": 20,
     "metadata": {},
     "output_type": "execute_result"
    }
   ],
   "source": [
    "validation_results.agg({f\"MAP@{top_N}\":\"mean\"})"
   ]
  },
  {
   "cell_type": "markdown",
   "id": "e19f7b4f",
   "metadata": {},
   "source": [
    "### Obtaining table with cold users data"
   ]
  },
  {
   "cell_type": "code",
   "execution_count": 21,
   "id": "8d41c56b",
   "metadata": {
    "execution": {
     "iopub.execute_input": "2022-02-24T15:04:04.549025Z",
     "iopub.status.busy": "2022-02-24T15:04:04.548697Z",
     "iopub.status.idle": "2022-02-24T15:04:04.613523Z",
     "shell.execute_reply": "2022-02-24T15:04:04.612963Z",
     "shell.execute_reply.started": "2022-02-24T15:04:04.548990Z"
    }
   },
   "outputs": [],
   "source": [
    "test_cold = submission.merge(test_hot, on = Columns.User, how = \"left\")\n",
    "test_cold = test_cold[test_cold[\"item_id_y\"].isnull()]\n",
    "test_cold = test_cold.rename(columns = {\"item_id_x\" : Columns.Item})[[Columns.User, Columns.Item]]"
   ]
  },
  {
   "cell_type": "markdown",
   "id": "925adccf",
   "metadata": {},
   "source": [
    "### Getting data for cold user recommendations. \n",
    "### Recommendations will be based on the most popular items among sociodemographic factors (age and sex)"
   ]
  },
  {
   "cell_type": "code",
   "execution_count": 22,
   "id": "aa383c7b",
   "metadata": {
    "execution": {
     "iopub.execute_input": "2022-02-24T15:14:26.369112Z",
     "iopub.status.busy": "2022-02-24T15:14:26.368881Z",
     "iopub.status.idle": "2022-02-24T15:14:27.593231Z",
     "shell.execute_reply": "2022-02-24T15:14:27.592555Z",
     "shell.execute_reply.started": "2022-02-24T15:14:26.369090Z"
    }
   },
   "outputs": [
    {
     "data": {
      "text/html": [
       "<div>\n",
       "<style scoped>\n",
       "    .dataframe tbody tr th:only-of-type {\n",
       "        vertical-align: middle;\n",
       "    }\n",
       "\n",
       "    .dataframe tbody tr th {\n",
       "        vertical-align: top;\n",
       "    }\n",
       "\n",
       "    .dataframe thead th {\n",
       "        text-align: right;\n",
       "    }\n",
       "</style>\n",
       "<table border=\"1\" class=\"dataframe\">\n",
       "  <thead>\n",
       "    <tr style=\"text-align: right;\">\n",
       "      <th></th>\n",
       "      <th>age</th>\n",
       "      <th>sex</th>\n",
       "      <th>item_id</th>\n",
       "    </tr>\n",
       "  </thead>\n",
       "  <tbody>\n",
       "    <tr>\n",
       "      <th>0</th>\n",
       "      <td>age_18_24</td>\n",
       "      <td>F</td>\n",
       "      <td>[9728, 15297, 10440, 4151, 3734, 7793, 12192, ...</td>\n",
       "    </tr>\n",
       "    <tr>\n",
       "      <th>1</th>\n",
       "      <td>age_18_24</td>\n",
       "      <td>M</td>\n",
       "      <td>[9728, 10440, 7793, 15297, 13865, 3734, 4151, ...</td>\n",
       "    </tr>\n",
       "    <tr>\n",
       "      <th>2</th>\n",
       "      <td>age_18_24</td>\n",
       "      <td>sex_unknown</td>\n",
       "      <td>[9728, 10440, 15297, 4151, 13865, 12192, 3734,...</td>\n",
       "    </tr>\n",
       "    <tr>\n",
       "      <th>3</th>\n",
       "      <td>age_25_34</td>\n",
       "      <td>F</td>\n",
       "      <td>[15297, 10440, 9728, 4151, 3734, 12192, 13865,...</td>\n",
       "    </tr>\n",
       "    <tr>\n",
       "      <th>4</th>\n",
       "      <td>age_25_34</td>\n",
       "      <td>M</td>\n",
       "      <td>[9728, 10440, 15297, 7793, 13865, 3734, 12192,...</td>\n",
       "    </tr>\n",
       "  </tbody>\n",
       "</table>\n",
       "</div>"
      ],
      "text/plain": [
       "         age          sex                                            item_id\n",
       "0  age_18_24            F  [9728, 15297, 10440, 4151, 3734, 7793, 12192, ...\n",
       "1  age_18_24            M  [9728, 10440, 7793, 15297, 13865, 3734, 4151, ...\n",
       "2  age_18_24  sex_unknown  [9728, 10440, 15297, 4151, 13865, 12192, 3734,...\n",
       "3  age_25_34            F  [15297, 10440, 9728, 4151, 3734, 12192, 13865,...\n",
       "4  age_25_34            M  [9728, 10440, 15297, 7793, 13865, 3734, 12192,..."
      ]
     },
     "execution_count": 22,
     "metadata": {},
     "output_type": "execute_result"
    }
   ],
   "source": [
    "last_n_days = 21 \n",
    "train = interactions_df\n",
    "date_window = train[Columns.Datetime].max() - pd.DateOffset(days=last_n_days)\n",
    "train_slice = pd.merge(train[train[Columns.Datetime] >= date_window], users_df, on=Columns.User, how=\"left\")\n",
    "train_slice = fillna_cols(train_slice)\n",
    "\n",
    "cols_soc_dem = [\"age\", \"sex\"]\n",
    "soc_dem_recommendations = train_slice.groupby(cols_soc_dem + [Columns.Item]).size().to_frame().reset_index().rename(columns = {0 : \"count_pop\"})\n",
    "top_soc_dem = soc_dem_recommendations.groupby(cols_soc_dem).apply(lambda x: x.sort_values(\"count_pop\", ascending=False)[Columns.Item].values[:top_N]).reset_index().rename(columns = {0 : Columns.Item})\n",
    "\n",
    "top_soc_dem.head()"
   ]
  },
  {
   "cell_type": "markdown",
   "id": "04e11e10",
   "metadata": {},
   "source": [
    "### Obtaining recommendations for cold users"
   ]
  },
  {
   "cell_type": "code",
   "execution_count": 23,
   "id": "6c1d3fb3",
   "metadata": {
    "execution": {
     "iopub.execute_input": "2022-02-24T15:14:57.280177Z",
     "iopub.status.busy": "2022-02-24T15:14:57.279964Z",
     "iopub.status.idle": "2022-02-24T15:15:11.072405Z",
     "shell.execute_reply": "2022-02-24T15:15:11.071439Z",
     "shell.execute_reply.started": "2022-02-24T15:14:57.280155Z"
    }
   },
   "outputs": [
    {
     "data": {
      "text/html": [
       "<div>\n",
       "<style scoped>\n",
       "    .dataframe tbody tr th:only-of-type {\n",
       "        vertical-align: middle;\n",
       "    }\n",
       "\n",
       "    .dataframe tbody tr th {\n",
       "        vertical-align: top;\n",
       "    }\n",
       "\n",
       "    .dataframe thead th {\n",
       "        text-align: right;\n",
       "    }\n",
       "</style>\n",
       "<table border=\"1\" class=\"dataframe\">\n",
       "  <thead>\n",
       "    <tr style=\"text-align: right;\">\n",
       "      <th></th>\n",
       "      <th>user_id</th>\n",
       "      <th>item_id</th>\n",
       "    </tr>\n",
       "  </thead>\n",
       "  <tbody>\n",
       "    <tr>\n",
       "      <th>0</th>\n",
       "      <td>29</td>\n",
       "      <td>[10440, 15297, 9728, 4151, 12192, 13865, 2657,...</td>\n",
       "    </tr>\n",
       "    <tr>\n",
       "      <th>1</th>\n",
       "      <td>33</td>\n",
       "      <td>[10440, 15297, 9728, 4151, 12192, 13865, 2657,...</td>\n",
       "    </tr>\n",
       "    <tr>\n",
       "      <th>2</th>\n",
       "      <td>39</td>\n",
       "      <td>[10440, 15297, 9728, 4151, 12192, 13865, 2657,...</td>\n",
       "    </tr>\n",
       "    <tr>\n",
       "      <th>3</th>\n",
       "      <td>66</td>\n",
       "      <td>[9728, 10440, 15297, 13865, 7793, 12192, 11863...</td>\n",
       "    </tr>\n",
       "    <tr>\n",
       "      <th>4</th>\n",
       "      <td>70</td>\n",
       "      <td>[9728, 15297, 10440, 4151, 3734, 7793, 12192, ...</td>\n",
       "    </tr>\n",
       "  </tbody>\n",
       "</table>\n",
       "</div>"
      ],
      "text/plain": [
       "   user_id                                            item_id\n",
       "0       29  [10440, 15297, 9728, 4151, 12192, 13865, 2657,...\n",
       "1       33  [10440, 15297, 9728, 4151, 12192, 13865, 2657,...\n",
       "2       39  [10440, 15297, 9728, 4151, 12192, 13865, 2657,...\n",
       "3       66  [9728, 10440, 15297, 13865, 7793, 12192, 11863...\n",
       "4       70  [9728, 15297, 10440, 4151, 3734, 7793, 12192, ..."
      ]
     },
     "execution_count": 23,
     "metadata": {},
     "output_type": "execute_result"
    }
   ],
   "source": [
    "recs_cold = pd.DataFrame({Columns.User: test_cold[Columns.User].unique()})\n",
    "recs_cold = pd.merge(recs_cold[[Columns.User]], users_df, on=Columns.User, how=\"left\")\n",
    "recs_cold = fillna_cols(recs_cold)\n",
    "\n",
    "recs_cold = pd.merge(recs_cold, top_soc_dem, on = cols_soc_dem, how = \"left\")\n",
    "recs_cold = recs_cold.drop(columns = [\"income\", \"kids_flg\", \"age\", \"sex\"])\n",
    "\n",
    "recs_cold = recs_cold.explode(Columns.Item)\n",
    "recs_cold[Columns.Rank] = recs_cold.groupby(Columns.User).cumcount() + 1\n",
    "recs_cold = recs_cold.groupby(Columns.User).agg({Columns.Item: list}).reset_index()\n",
    "\n",
    "recs_cold.head()"
   ]
  },
  {
   "cell_type": "markdown",
   "id": "ba612861",
   "metadata": {},
   "source": [
    "### Concatenating recommendations for hot and cold users"
   ]
  },
  {
   "cell_type": "code",
   "execution_count": 24,
   "id": "1612cd99",
   "metadata": {
    "execution": {
     "iopub.execute_input": "2022-02-24T15:15:11.074007Z",
     "iopub.status.busy": "2022-02-24T15:15:11.073767Z",
     "iopub.status.idle": "2022-02-24T15:15:11.111276Z",
     "shell.execute_reply": "2022-02-24T15:15:11.110343Z",
     "shell.execute_reply.started": "2022-02-24T15:15:11.073976Z"
    }
   },
   "outputs": [],
   "source": [
    "recs_union = pd.concat([recs_hot, recs_cold], axis = 0)\n",
    "recs_union = recs_union.sort_values(Columns.User)\n",
    "recs_union = recs_union.reset_index(drop = True)\n"
   ]
  },
  {
   "cell_type": "code",
   "execution_count": 25,
   "id": "d3a53875",
   "metadata": {
    "execution": {
     "iopub.execute_input": "2022-02-24T15:15:11.113052Z",
     "iopub.status.busy": "2022-02-24T15:15:11.112809Z",
     "iopub.status.idle": "2022-02-24T15:15:11.122336Z",
     "shell.execute_reply": "2022-02-24T15:15:11.121496Z",
     "shell.execute_reply.started": "2022-02-24T15:15:11.113020Z"
    }
   },
   "outputs": [
    {
     "data": {
      "text/html": [
       "<div>\n",
       "<style scoped>\n",
       "    .dataframe tbody tr th:only-of-type {\n",
       "        vertical-align: middle;\n",
       "    }\n",
       "\n",
       "    .dataframe tbody tr th {\n",
       "        vertical-align: top;\n",
       "    }\n",
       "\n",
       "    .dataframe thead th {\n",
       "        text-align: right;\n",
       "    }\n",
       "</style>\n",
       "<table border=\"1\" class=\"dataframe\">\n",
       "  <thead>\n",
       "    <tr style=\"text-align: right;\">\n",
       "      <th></th>\n",
       "      <th>user_id</th>\n",
       "      <th>item_id</th>\n",
       "    </tr>\n",
       "  </thead>\n",
       "  <tbody>\n",
       "    <tr>\n",
       "      <th>0</th>\n",
       "      <td>3</td>\n",
       "      <td>[15297, 13865, 2657, 9996, 8636, 7417, 7829, 1...</td>\n",
       "    </tr>\n",
       "    <tr>\n",
       "      <th>1</th>\n",
       "      <td>11</td>\n",
       "      <td>[10440, 4151, 142, 13865, 9728, 3734, 9996, 86...</td>\n",
       "    </tr>\n",
       "    <tr>\n",
       "      <th>2</th>\n",
       "      <td>29</td>\n",
       "      <td>[10440, 15297, 9728, 4151, 12192, 13865, 2657,...</td>\n",
       "    </tr>\n",
       "    <tr>\n",
       "      <th>3</th>\n",
       "      <td>30</td>\n",
       "      <td>[13865, 10440, 157, 10419, 3734, 10525, 15297,...</td>\n",
       "    </tr>\n",
       "    <tr>\n",
       "      <th>4</th>\n",
       "      <td>33</td>\n",
       "      <td>[10440, 15297, 9728, 4151, 12192, 13865, 2657,...</td>\n",
       "    </tr>\n",
       "  </tbody>\n",
       "</table>\n",
       "</div>"
      ],
      "text/plain": [
       "   user_id                                            item_id\n",
       "0        3  [15297, 13865, 2657, 9996, 8636, 7417, 7829, 1...\n",
       "1       11  [10440, 4151, 142, 13865, 9728, 3734, 9996, 86...\n",
       "2       29  [10440, 15297, 9728, 4151, 12192, 13865, 2657,...\n",
       "3       30  [13865, 10440, 157, 10419, 3734, 10525, 15297,...\n",
       "4       33  [10440, 15297, 9728, 4151, 12192, 13865, 2657,..."
      ]
     },
     "execution_count": 25,
     "metadata": {},
     "output_type": "execute_result"
    }
   ],
   "source": [
    "recs_union.head()"
   ]
  },
  {
   "cell_type": "code",
   "execution_count": null,
   "id": "feba72fa",
   "metadata": {},
   "outputs": [],
   "source": []
  }
 ],
 "metadata": {
  "kernelspec": {
   "display_name": "MTS ed",
   "language": "python",
   "name": "mts_ed_recsys"
  },
  "language_info": {
   "codemirror_mode": {
    "name": "ipython",
    "version": 3
   },
   "file_extension": ".py",
   "mimetype": "text/x-python",
   "name": "python",
   "nbconvert_exporter": "python",
   "pygments_lexer": "ipython3",
   "version": "3.8.2"
  }
 },
 "nbformat": 4,
 "nbformat_minor": 5
}
