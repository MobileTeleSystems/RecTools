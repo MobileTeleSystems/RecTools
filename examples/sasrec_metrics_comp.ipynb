{
 "cells": [
  {
   "cell_type": "code",
   "execution_count": 2,
   "metadata": {},
   "outputs": [],
   "source": [
    "import logging\n",
    "import os\n",
    "import threadpoolctl\n",
    "import torch\n",
    "from pathlib import Path\n",
    "from lightning_fabric import seed_everything\n",
    "\n",
    "import numpy as np\n",
    "import pandas as pd\n",
    "from rectools import Columns\n",
    "\n",
    "from implicit.als import AlternatingLeastSquares\n",
    "\n",
    "from rectools.dataset import Dataset\n",
    "from rectools.metrics import MAP, calc_metrics, MeanInvUserFreq, Serendipity\n",
    "from rectools.models import ImplicitALSWrapperModel\n",
    "from rectools.models import SASRecModel\n",
    "from rectools.models.nn.item_net import CatFeaturesItemNet, IdEmbeddingsItemNet"
   ]
  },
  {
   "cell_type": "code",
   "execution_count": 3,
   "metadata": {},
   "outputs": [],
   "source": [
    "os.environ[\"CUBLAS_WORKSPACE_CONFIG\"] = \":4096:8\"\n",
    "\n",
    "# For implicit ALS\n",
    "os.environ[\"OPENBLAS_NUM_THREADS\"] = \"1\"\n",
    "threadpoolctl.threadpool_limits(1, \"blas\")\n",
    "\n",
    "logging.basicConfig()\n",
    "logging.getLogger().setLevel(logging.INFO)\n",
    "logger = logging.getLogger()"
   ]
  },
  {
   "cell_type": "markdown",
   "metadata": {},
   "source": [
    "# Data"
   ]
  },
  {
   "cell_type": "code",
   "execution_count": 4,
   "metadata": {},
   "outputs": [],
   "source": [
    "# %%time\n",
    "# !wget -q https://github.com/irsafilo/KION_DATASET/raw/f69775be31fa5779907cf0a92ddedb70037fb5ae/data_original.zip -O data_original.zip\n",
    "# !unzip -o data_original.zip\n",
    "# !rm data_original.zip"
   ]
  },
  {
   "cell_type": "code",
   "execution_count": 5,
   "metadata": {},
   "outputs": [],
   "source": [
    "DATA_PATH = Path(\"data_original\")\n",
    "\n",
    "interactions = (\n",
    "    pd.read_csv(DATA_PATH / 'interactions.csv', parse_dates=[\"last_watch_dt\"])\n",
    "    .rename(columns={\"last_watch_dt\": \"datetime\"})\n",
    ")"
   ]
  },
  {
   "cell_type": "markdown",
   "metadata": {},
   "source": [
    "# Split dataset"
   ]
  },
  {
   "cell_type": "code",
   "execution_count": 6,
   "metadata": {},
   "outputs": [],
   "source": [
    "interactions[Columns.Weight] = np.where(interactions['watched_pct'] > 10, 3, 1)\n",
    "\n",
    "# Split to train / test\n",
    "max_date = interactions[Columns.Datetime].max()\n",
    "train = interactions[interactions[Columns.Datetime] < max_date - pd.Timedelta(days=7)].copy()\n",
    "test = interactions[interactions[Columns.Datetime] >= max_date - pd.Timedelta(days=7)].copy()\n",
    "train.drop(train.query(\"total_dur < 300\").index, inplace=True)\n",
    "\n",
    "# drop items with less than 20 interactions in train\n",
    "items = train[\"item_id\"].value_counts()\n",
    "items = items[items >= 20]\n",
    "items = items.index.to_list()\n",
    "train = train[train[\"item_id\"].isin(items)]\n",
    "    \n",
    "# drop users with less than 2 interactions in train\n",
    "users = train[\"user_id\"].value_counts()\n",
    "users = users[users >= 2]\n",
    "users = users.index.to_list()\n",
    "train = train[(train[\"user_id\"].isin(users))]\n",
    "\n",
    "users = train[\"user_id\"].drop_duplicates().to_list()\n",
    "\n",
    "# drop cold users from test\n",
    "test_users_sasrec = test[Columns.User].unique()\n",
    "cold_users = set(test[Columns.User]) - set(train[Columns.User])\n",
    "test.drop(test[test[Columns.User].isin(cold_users)].index, inplace=True)\n",
    "test_users = test[Columns.User].unique()\n"
   ]
  },
  {
   "cell_type": "code",
   "execution_count": 7,
   "metadata": {},
   "outputs": [],
   "source": [
    "items = pd.read_csv(DATA_PATH / 'items.csv')"
   ]
  },
  {
   "cell_type": "code",
   "execution_count": 8,
   "metadata": {},
   "outputs": [],
   "source": [
    "# Process item features to the form of a flatten dataframe\n",
    "items = items.loc[items[Columns.Item].isin(train[Columns.Item])].copy()\n",
    "items[\"genre\"] = items[\"genres\"].str.lower().str.replace(\", \", \",\", regex=False).str.split(\",\")\n",
    "genre_feature = items[[\"item_id\", \"genre\"]].explode(\"genre\")\n",
    "genre_feature.columns = [\"id\", \"value\"]\n",
    "genre_feature[\"feature\"] = \"genre\"\n",
    "content_feature = items.reindex(columns=[Columns.Item, \"content_type\"])\n",
    "content_feature.columns = [\"id\", \"value\"]\n",
    "content_feature[\"feature\"] = \"content_type\"\n",
    "item_features = pd.concat((genre_feature, content_feature))\n",
    "\n",
    "candidate_items = interactions['item_id'].drop_duplicates().astype(int)\n",
    "test[\"user_id\"] = test[\"user_id\"].astype(int)\n",
    "test[\"item_id\"] = test[\"item_id\"].astype(int)\n",
    "\n",
    "catalog=train[Columns.Item].unique()"
   ]
  },
  {
   "cell_type": "code",
   "execution_count": 9,
   "metadata": {},
   "outputs": [],
   "source": [
    "dataset_no_features = Dataset.construct(\n",
    "    interactions_df=train,\n",
    ")\n",
    "\n",
    "dataset_item_features = Dataset.construct(\n",
    "    interactions_df=train,\n",
    "    item_features_df=item_features,\n",
    "    cat_item_features=[\"genre\", \"content_type\"],\n",
    ")"
   ]
  },
  {
   "cell_type": "code",
   "execution_count": 10,
   "metadata": {},
   "outputs": [],
   "source": [
    "metrics_name = {\n",
    "    'MAP': MAP,\n",
    "    'MIUF': MeanInvUserFreq,\n",
    "    'Serendipity': Serendipity\n",
    "    \n",
    "\n",
    "}\n",
    "metrics = {}\n",
    "for metric_name, metric in metrics_name.items():\n",
    "    for k in (1, 5, 10):\n",
    "        metrics[f'{metric_name}@{k}'] = metric(k=k)\n",
    "\n",
    "# list with metrics results of all models\n",
    "features_results = []"
   ]
  },
  {
   "cell_type": "markdown",
   "metadata": {},
   "source": [
    "# SASRec"
   ]
  },
  {
   "cell_type": "code",
   "execution_count": 11,
   "metadata": {},
   "outputs": [
    {
     "name": "stderr",
     "output_type": "stream",
     "text": [
      "Seed set to 32\n"
     ]
    },
    {
     "data": {
      "text/plain": [
       "32"
      ]
     },
     "execution_count": 11,
     "metadata": {},
     "output_type": "execute_result"
    }
   ],
   "source": [
    "RANDOM_SEED = 32\n",
    "torch.use_deterministic_algorithms(True)\n",
    "seed_everything(RANDOM_SEED, workers=True)"
   ]
  },
  {
   "cell_type": "markdown",
   "metadata": {},
   "source": [
    "## Softmax loss"
   ]
  },
  {
   "cell_type": "code",
   "execution_count": 12,
   "metadata": {},
   "outputs": [
    {
     "name": "stderr",
     "output_type": "stream",
     "text": [
      "Trainer will use only 1 of 2 GPUs because it is running inside an interactive / notebook environment. You may try to set `Trainer(devices=2)` but please note that multi-GPU inside interactive / notebook environments is considered experimental and unstable. Your mileage may vary.\n",
      "GPU available: True (cuda), used: True\n",
      "TPU available: False, using: 0 TPU cores\n",
      "IPU available: False, using: 0 IPUs\n",
      "HPU available: False, using: 0 HPUs\n"
     ]
    }
   ],
   "source": [
    "model = SASRecModel(\n",
    "    n_blocks=2,\n",
    "    session_max_len=32,\n",
    "    lr=1e-3,\n",
    "    epochs=5,\n",
    "    verbose=1,\n",
    "    deterministic=True,\n",
    "    item_net_block_types=(IdEmbeddingsItemNet, ),  # Use only item ids in ItemNetBlock\n",
    "    recommend_device=\"cuda\",\n",
    ")\n"
   ]
  },
  {
   "cell_type": "code",
   "execution_count": 13,
   "metadata": {},
   "outputs": [
    {
     "name": "stderr",
     "output_type": "stream",
     "text": [
      "LOCAL_RANK: 0 - CUDA_VISIBLE_DEVICES: [0,1]\n",
      "\n",
      "  | Name        | Type                           | Params\n",
      "---------------------------------------------------------------\n",
      "0 | torch_model | TransformerBasedSessionEncoder | 927 K \n",
      "---------------------------------------------------------------\n",
      "927 K     Trainable params\n",
      "0         Non-trainable params\n",
      "927 K     Total params\n",
      "3.709     Total estimated model params size (MB)\n",
      "/data/home/maspirina1/tasks/repo/RecTools/.venv/lib/python3.8/site-packages/pytorch_lightning/trainer/connectors/data_connector.py:441: The 'train_dataloader' does not have many workers which may be a bottleneck. Consider increasing the value of the `num_workers` argument` to `num_workers=143` in the `DataLoader` to improve performance.\n"
     ]
    },
    {
     "data": {
      "application/vnd.jupyter.widget-view+json": {
       "model_id": "b963f25ae9f34355a7616e3f6300d183",
       "version_major": 2,
       "version_minor": 0
      },
      "text/plain": [
       "Training: |          | 0/? [00:00<?, ?it/s]"
      ]
     },
     "metadata": {},
     "output_type": "display_data"
    },
    {
     "name": "stderr",
     "output_type": "stream",
     "text": [
      "`Trainer.fit` stopped: `max_epochs=5` reached.\n"
     ]
    },
    {
     "name": "stdout",
     "output_type": "stream",
     "text": [
      "CPU times: user 5min 37s, sys: 9.52 s, total: 5min 47s\n",
      "Wall time: 5min 33s\n"
     ]
    },
    {
     "data": {
      "text/plain": [
       "<rectools.models.nn.sasrec.SASRecModel at 0x7f0a06d874f0>"
      ]
     },
     "execution_count": 13,
     "metadata": {},
     "output_type": "execute_result"
    }
   ],
   "source": [
    "%%time\n",
    "model.fit(dataset_no_features)"
   ]
  },
  {
   "cell_type": "code",
   "execution_count": 14,
   "metadata": {},
   "outputs": [
    {
     "name": "stderr",
     "output_type": "stream",
     "text": [
      "/data/home/maspirina1/tasks/repo/RecTools/rectools/models/nn/transformer_data_preparator.py:271: UserWarning: 91202 target users were considered cold because of missing known items\n",
      "  warnings.warn(explanation)\n",
      "/data/home/maspirina1/tasks/repo/RecTools/rectools/models/base.py:675: UserWarning: \n",
      "                Model `<class 'rectools.models.nn.sasrec.SASRecModel'>` doesn't support recommendations for cold users,\n",
      "                but some of given users are cold: they are not in the `dataset.user_id_map`\n",
      "            \n",
      "  warnings.warn(explanation)\n",
      "GPU available: True (cuda), used: True\n",
      "TPU available: False, using: 0 TPU cores\n",
      "IPU available: False, using: 0 IPUs\n",
      "HPU available: False, using: 0 HPUs\n",
      "LOCAL_RANK: 0 - CUDA_VISIBLE_DEVICES: [0,1]\n",
      "/data/home/maspirina1/tasks/repo/RecTools/.venv/lib/python3.8/site-packages/pytorch_lightning/trainer/connectors/data_connector.py:441: The 'predict_dataloader' does not have many workers which may be a bottleneck. Consider increasing the value of the `num_workers` argument` to `num_workers=143` in the `DataLoader` to improve performance.\n"
     ]
    },
    {
     "data": {
      "application/vnd.jupyter.widget-view+json": {
       "model_id": "6f8b182984264b798183562d39f6748f",
       "version_major": 2,
       "version_minor": 0
      },
      "text/plain": [
       "Predicting: |          | 0/? [00:00<?, ?it/s]"
      ]
     },
     "metadata": {},
     "output_type": "display_data"
    },
    {
     "name": "stdout",
     "output_type": "stream",
     "text": [
      "CPU times: user 26.7 s, sys: 4.77 s, total: 31.5 s\n",
      "Wall time: 22 s\n"
     ]
    }
   ],
   "source": [
    "%%time\n",
    "recos = model.recommend(\n",
    "    users=test_users_sasrec, \n",
    "    dataset=dataset_no_features,\n",
    "    k=10,\n",
    "    filter_viewed=True,\n",
    "    on_unsupported_targets=\"warn\"\n",
    ")"
   ]
  },
  {
   "cell_type": "code",
   "execution_count": 15,
   "metadata": {},
   "outputs": [],
   "source": [
    "metric_values = calc_metrics(metrics, recos[[\"user_id\", \"item_id\", \"rank\"]], test, train, catalog)\n",
    "metric_values[\"model\"] = \"softmax\"\n",
    "features_results.append(metric_values)\n"
   ]
  },
  {
   "cell_type": "code",
   "execution_count": 16,
   "metadata": {},
   "outputs": [
    {
     "data": {
      "text/plain": [
       "[{'MAP@1': 0.04826695924739594,\n",
       "  'MAP@5': 0.08188109538342359,\n",
       "  'MAP@10': 0.09111905060251475,\n",
       "  'MIUF@1': 3.6361608221537636,\n",
       "  'MIUF@5': 4.3807416255519165,\n",
       "  'MIUF@10': 5.026356912227157,\n",
       "  'Serendipity@1': 0.0008844170021458072,\n",
       "  'Serendipity@5': 0.0007337182385033877,\n",
       "  'Serendipity@10': 0.0006787460793393714,\n",
       "  'model': 'softmax'}]"
      ]
     },
     "execution_count": 16,
     "metadata": {},
     "output_type": "execute_result"
    }
   ],
   "source": [
    "features_results"
   ]
  },
  {
   "cell_type": "code",
   "execution_count": 17,
   "metadata": {},
   "outputs": [
    {
     "data": {
      "text/html": [
       "<div>\n",
       "<style scoped>\n",
       "    .dataframe tbody tr th:only-of-type {\n",
       "        vertical-align: middle;\n",
       "    }\n",
       "\n",
       "    .dataframe tbody tr th {\n",
       "        vertical-align: top;\n",
       "    }\n",
       "\n",
       "    .dataframe thead th {\n",
       "        text-align: right;\n",
       "    }\n",
       "</style>\n",
       "<table border=\"1\" class=\"dataframe\">\n",
       "  <thead>\n",
       "    <tr style=\"text-align: right;\">\n",
       "      <th></th>\n",
       "      <th>user_id</th>\n",
       "      <th>item_id</th>\n",
       "      <th>score</th>\n",
       "      <th>rank</th>\n",
       "    </tr>\n",
       "  </thead>\n",
       "  <tbody>\n",
       "    <tr>\n",
       "      <th>0</th>\n",
       "      <td>73446</td>\n",
       "      <td>9728</td>\n",
       "      <td>2.312602</td>\n",
       "      <td>1</td>\n",
       "    </tr>\n",
       "    <tr>\n",
       "      <th>1</th>\n",
       "      <td>73446</td>\n",
       "      <td>7793</td>\n",
       "      <td>2.170433</td>\n",
       "      <td>2</td>\n",
       "    </tr>\n",
       "    <tr>\n",
       "      <th>2</th>\n",
       "      <td>73446</td>\n",
       "      <td>7829</td>\n",
       "      <td>1.772398</td>\n",
       "      <td>3</td>\n",
       "    </tr>\n",
       "    <tr>\n",
       "      <th>3</th>\n",
       "      <td>73446</td>\n",
       "      <td>5434</td>\n",
       "      <td>1.463491</td>\n",
       "      <td>4</td>\n",
       "    </tr>\n",
       "    <tr>\n",
       "      <th>4</th>\n",
       "      <td>73446</td>\n",
       "      <td>3182</td>\n",
       "      <td>1.446990</td>\n",
       "      <td>5</td>\n",
       "    </tr>\n",
       "    <tr>\n",
       "      <th>...</th>\n",
       "      <td>...</td>\n",
       "      <td>...</td>\n",
       "      <td>...</td>\n",
       "      <td>...</td>\n",
       "    </tr>\n",
       "    <tr>\n",
       "      <th>947045</th>\n",
       "      <td>857162</td>\n",
       "      <td>3734</td>\n",
       "      <td>2.158359</td>\n",
       "      <td>6</td>\n",
       "    </tr>\n",
       "    <tr>\n",
       "      <th>947046</th>\n",
       "      <td>857162</td>\n",
       "      <td>4151</td>\n",
       "      <td>2.016740</td>\n",
       "      <td>7</td>\n",
       "    </tr>\n",
       "    <tr>\n",
       "      <th>947047</th>\n",
       "      <td>857162</td>\n",
       "      <td>2657</td>\n",
       "      <td>1.590997</td>\n",
       "      <td>8</td>\n",
       "    </tr>\n",
       "    <tr>\n",
       "      <th>947048</th>\n",
       "      <td>857162</td>\n",
       "      <td>9996</td>\n",
       "      <td>1.377985</td>\n",
       "      <td>9</td>\n",
       "    </tr>\n",
       "    <tr>\n",
       "      <th>947049</th>\n",
       "      <td>857162</td>\n",
       "      <td>12995</td>\n",
       "      <td>1.338360</td>\n",
       "      <td>10</td>\n",
       "    </tr>\n",
       "  </tbody>\n",
       "</table>\n",
       "<p>947050 rows × 4 columns</p>\n",
       "</div>"
      ],
      "text/plain": [
       "        user_id  item_id     score  rank\n",
       "0         73446     9728  2.312602     1\n",
       "1         73446     7793  2.170433     2\n",
       "2         73446     7829  1.772398     3\n",
       "3         73446     5434  1.463491     4\n",
       "4         73446     3182  1.446990     5\n",
       "...         ...      ...       ...   ...\n",
       "947045   857162     3734  2.158359     6\n",
       "947046   857162     4151  2.016740     7\n",
       "947047   857162     2657  1.590997     8\n",
       "947048   857162     9996  1.377985     9\n",
       "947049   857162    12995  1.338360    10\n",
       "\n",
       "[947050 rows x 4 columns]"
      ]
     },
     "execution_count": 17,
     "metadata": {},
     "output_type": "execute_result"
    }
   ],
   "source": [
    "recos"
   ]
  },
  {
   "cell_type": "markdown",
   "metadata": {},
   "source": [
    "## BCE loss"
   ]
  },
  {
   "cell_type": "code",
   "execution_count": 19,
   "metadata": {},
   "outputs": [
    {
     "name": "stderr",
     "output_type": "stream",
     "text": [
      "Seed set to 32\n"
     ]
    },
    {
     "data": {
      "text/plain": [
       "32"
      ]
     },
     "execution_count": 19,
     "metadata": {},
     "output_type": "execute_result"
    }
   ],
   "source": [
    "RANDOM_SEED = 32\n",
    "torch.use_deterministic_algorithms(True)\n",
    "seed_everything(RANDOM_SEED, workers=True)"
   ]
  },
  {
   "cell_type": "code",
   "execution_count": 20,
   "metadata": {},
   "outputs": [
    {
     "name": "stderr",
     "output_type": "stream",
     "text": [
      "Trainer will use only 1 of 2 GPUs because it is running inside an interactive / notebook environment. You may try to set `Trainer(devices=2)` but please note that multi-GPU inside interactive / notebook environments is considered experimental and unstable. Your mileage may vary.\n",
      "GPU available: True (cuda), used: True\n",
      "TPU available: False, using: 0 TPU cores\n",
      "IPU available: False, using: 0 IPUs\n",
      "HPU available: False, using: 0 HPUs\n"
     ]
    }
   ],
   "source": [
    "model = SASRecModel(\n",
    "    n_blocks=2,\n",
    "    session_max_len=32,\n",
    "    lr=1e-3,\n",
    "    epochs=5,\n",
    "    verbose=1,\n",
    "    deterministic=True,\n",
    "    loss=\"BCE\",\n",
    "    n_negatives=2,\n",
    "    item_net_block_types=(IdEmbeddingsItemNet, )  # Use only item ids in ItemNetBlock\n",
    ")\n"
   ]
  },
  {
   "cell_type": "code",
   "execution_count": 21,
   "metadata": {},
   "outputs": [
    {
     "name": "stderr",
     "output_type": "stream",
     "text": [
      "LOCAL_RANK: 0 - CUDA_VISIBLE_DEVICES: [0,1]\n",
      "\n",
      "  | Name        | Type                           | Params\n",
      "---------------------------------------------------------------\n",
      "0 | torch_model | TransformerBasedSessionEncoder | 927 K \n",
      "---------------------------------------------------------------\n",
      "927 K     Trainable params\n",
      "0         Non-trainable params\n",
      "927 K     Total params\n",
      "3.709     Total estimated model params size (MB)\n",
      "/data/home/maspirina1/tasks/repo/RecTools/.venv/lib/python3.8/site-packages/pytorch_lightning/trainer/connectors/data_connector.py:441: The 'train_dataloader' does not have many workers which may be a bottleneck. Consider increasing the value of the `num_workers` argument` to `num_workers=143` in the `DataLoader` to improve performance.\n"
     ]
    },
    {
     "data": {
      "application/vnd.jupyter.widget-view+json": {
       "model_id": "7d0eb81e4b224dcc8d16602858e090f0",
       "version_major": 2,
       "version_minor": 0
      },
      "text/plain": [
       "Training: |          | 0/? [00:00<?, ?it/s]"
      ]
     },
     "metadata": {},
     "output_type": "display_data"
    },
    {
     "name": "stderr",
     "output_type": "stream",
     "text": [
      "`Trainer.fit` stopped: `max_epochs=5` reached.\n"
     ]
    },
    {
     "name": "stdout",
     "output_type": "stream",
     "text": [
      "CPU times: user 5min 32s, sys: 9.23 s, total: 5min 41s\n",
      "Wall time: 5min 29s\n"
     ]
    },
    {
     "data": {
      "text/plain": [
       "<rectools.models.nn.sasrec.SASRecModel at 0x7f0a96ee6550>"
      ]
     },
     "execution_count": 21,
     "metadata": {},
     "output_type": "execute_result"
    }
   ],
   "source": [
    "%%time\n",
    "model.fit(dataset_no_features)"
   ]
  },
  {
   "cell_type": "code",
   "execution_count": 22,
   "metadata": {},
   "outputs": [
    {
     "name": "stderr",
     "output_type": "stream",
     "text": [
      "/data/home/maspirina1/tasks/repo/RecTools/rectools/models/nn/transformer_data_preparator.py:271: UserWarning: 91202 target users were considered cold because of missing known items\n",
      "  warnings.warn(explanation)\n",
      "/data/home/maspirina1/tasks/repo/RecTools/rectools/models/base.py:675: UserWarning: \n",
      "                Model `<class 'rectools.models.nn.sasrec.SASRecModel'>` doesn't support recommendations for cold users,\n",
      "                but some of given users are cold: they are not in the `dataset.user_id_map`\n",
      "            \n",
      "  warnings.warn(explanation)\n",
      "GPU available: True (cuda), used: True\n",
      "TPU available: False, using: 0 TPU cores\n",
      "IPU available: False, using: 0 IPUs\n",
      "HPU available: False, using: 0 HPUs\n"
     ]
    },
    {
     "name": "stderr",
     "output_type": "stream",
     "text": [
      "LOCAL_RANK: 0 - CUDA_VISIBLE_DEVICES: [0,1]\n",
      "/data/home/maspirina1/tasks/repo/RecTools/.venv/lib/python3.8/site-packages/pytorch_lightning/trainer/connectors/data_connector.py:441: The 'predict_dataloader' does not have many workers which may be a bottleneck. Consider increasing the value of the `num_workers` argument` to `num_workers=143` in the `DataLoader` to improve performance.\n"
     ]
    },
    {
     "data": {
      "application/vnd.jupyter.widget-view+json": {
       "model_id": "edb6812840674173aef534f346e121c8",
       "version_major": 2,
       "version_minor": 0
      },
      "text/plain": [
       "Predicting: |          | 0/? [00:00<?, ?it/s]"
      ]
     },
     "metadata": {},
     "output_type": "display_data"
    },
    {
     "name": "stdout",
     "output_type": "stream",
     "text": [
      "CPU times: user 27.8 s, sys: 3.64 s, total: 31.4 s\n",
      "Wall time: 22.7 s\n"
     ]
    }
   ],
   "source": [
    "%%time\n",
    "recos = model.recommend(\n",
    "    users=test_users_sasrec, \n",
    "    dataset=dataset_no_features,\n",
    "    k=10,\n",
    "    filter_viewed=True,\n",
    "    on_unsupported_targets=\"warn\",\n",
    ")"
   ]
  },
  {
   "cell_type": "code",
   "execution_count": 23,
   "metadata": {},
   "outputs": [],
   "source": [
    "metric_values = calc_metrics(metrics, recos[[\"user_id\", \"item_id\", \"rank\"]], test, train, catalog)\n",
    "metric_values[\"model\"] = \"bce\"\n",
    "features_results.append(metric_values)"
   ]
  },
  {
   "cell_type": "code",
   "execution_count": 24,
   "metadata": {},
   "outputs": [
    {
     "data": {
      "text/html": [
       "<div>\n",
       "<style scoped>\n",
       "    .dataframe tbody tr th:only-of-type {\n",
       "        vertical-align: middle;\n",
       "    }\n",
       "\n",
       "    .dataframe tbody tr th {\n",
       "        vertical-align: top;\n",
       "    }\n",
       "\n",
       "    .dataframe thead th {\n",
       "        text-align: right;\n",
       "    }\n",
       "</style>\n",
       "<table border=\"1\" class=\"dataframe\">\n",
       "  <thead>\n",
       "    <tr style=\"text-align: right;\">\n",
       "      <th></th>\n",
       "      <th>user_id</th>\n",
       "      <th>item_id</th>\n",
       "      <th>score</th>\n",
       "      <th>rank</th>\n",
       "    </tr>\n",
       "  </thead>\n",
       "  <tbody>\n",
       "    <tr>\n",
       "      <th>0</th>\n",
       "      <td>73446</td>\n",
       "      <td>7793</td>\n",
       "      <td>4.407569</td>\n",
       "      <td>1</td>\n",
       "    </tr>\n",
       "    <tr>\n",
       "      <th>1</th>\n",
       "      <td>73446</td>\n",
       "      <td>7829</td>\n",
       "      <td>4.235948</td>\n",
       "      <td>2</td>\n",
       "    </tr>\n",
       "    <tr>\n",
       "      <th>2</th>\n",
       "      <td>73446</td>\n",
       "      <td>9728</td>\n",
       "      <td>3.968448</td>\n",
       "      <td>3</td>\n",
       "    </tr>\n",
       "    <tr>\n",
       "      <th>3</th>\n",
       "      <td>73446</td>\n",
       "      <td>5434</td>\n",
       "      <td>3.567275</td>\n",
       "      <td>4</td>\n",
       "    </tr>\n",
       "    <tr>\n",
       "      <th>4</th>\n",
       "      <td>73446</td>\n",
       "      <td>3784</td>\n",
       "      <td>3.505455</td>\n",
       "      <td>5</td>\n",
       "    </tr>\n",
       "    <tr>\n",
       "      <th>...</th>\n",
       "      <td>...</td>\n",
       "      <td>...</td>\n",
       "      <td>...</td>\n",
       "      <td>...</td>\n",
       "    </tr>\n",
       "    <tr>\n",
       "      <th>947045</th>\n",
       "      <td>857162</td>\n",
       "      <td>3734</td>\n",
       "      <td>2.976863</td>\n",
       "      <td>6</td>\n",
       "    </tr>\n",
       "    <tr>\n",
       "      <th>947046</th>\n",
       "      <td>857162</td>\n",
       "      <td>12995</td>\n",
       "      <td>2.927455</td>\n",
       "      <td>7</td>\n",
       "    </tr>\n",
       "    <tr>\n",
       "      <th>947047</th>\n",
       "      <td>857162</td>\n",
       "      <td>9996</td>\n",
       "      <td>2.644526</td>\n",
       "      <td>8</td>\n",
       "    </tr>\n",
       "    <tr>\n",
       "      <th>947048</th>\n",
       "      <td>857162</td>\n",
       "      <td>4436</td>\n",
       "      <td>2.476946</td>\n",
       "      <td>9</td>\n",
       "    </tr>\n",
       "    <tr>\n",
       "      <th>947049</th>\n",
       "      <td>857162</td>\n",
       "      <td>142</td>\n",
       "      <td>2.395802</td>\n",
       "      <td>10</td>\n",
       "    </tr>\n",
       "  </tbody>\n",
       "</table>\n",
       "<p>947050 rows × 4 columns</p>\n",
       "</div>"
      ],
      "text/plain": [
       "        user_id  item_id     score  rank\n",
       "0         73446     7793  4.407569     1\n",
       "1         73446     7829  4.235948     2\n",
       "2         73446     9728  3.968448     3\n",
       "3         73446     5434  3.567275     4\n",
       "4         73446     3784  3.505455     5\n",
       "...         ...      ...       ...   ...\n",
       "947045   857162     3734  2.976863     6\n",
       "947046   857162    12995  2.927455     7\n",
       "947047   857162     9996  2.644526     8\n",
       "947048   857162     4436  2.476946     9\n",
       "947049   857162      142  2.395802    10\n",
       "\n",
       "[947050 rows x 4 columns]"
      ]
     },
     "execution_count": 24,
     "metadata": {},
     "output_type": "execute_result"
    }
   ],
   "source": [
    "recos"
   ]
  },
  {
   "cell_type": "markdown",
   "metadata": {},
   "source": [
    "## gBCE loss"
   ]
  },
  {
   "cell_type": "code",
   "execution_count": 26,
   "metadata": {},
   "outputs": [
    {
     "name": "stderr",
     "output_type": "stream",
     "text": [
      "Seed set to 32\n"
     ]
    },
    {
     "data": {
      "text/plain": [
       "32"
      ]
     },
     "execution_count": 26,
     "metadata": {},
     "output_type": "execute_result"
    }
   ],
   "source": [
    "RANDOM_SEED = 32\n",
    "torch.use_deterministic_algorithms(True)\n",
    "seed_everything(RANDOM_SEED, workers=True)"
   ]
  },
  {
   "cell_type": "code",
   "execution_count": 27,
   "metadata": {},
   "outputs": [
    {
     "name": "stderr",
     "output_type": "stream",
     "text": [
      "Trainer will use only 1 of 2 GPUs because it is running inside an interactive / notebook environment. You may try to set `Trainer(devices=2)` but please note that multi-GPU inside interactive / notebook environments is considered experimental and unstable. Your mileage may vary.\n",
      "GPU available: True (cuda), used: True\n",
      "TPU available: False, using: 0 TPU cores\n",
      "IPU available: False, using: 0 IPUs\n",
      "HPU available: False, using: 0 HPUs\n"
     ]
    }
   ],
   "source": [
    "model = SASRecModel(\n",
    "    n_blocks=2,\n",
    "    session_max_len=32,\n",
    "    lr=1e-3,\n",
    "    epochs=5,\n",
    "    verbose=1,\n",
    "    deterministic=True,\n",
    "    loss=\"gBCE\",\n",
    "    n_negatives=256,\n",
    "    gbce_t=0.75,\n",
    "    item_net_block_types=(IdEmbeddingsItemNet, )  # Use only item ids in ItemNetBlock\n",
    ")"
   ]
  },
  {
   "cell_type": "code",
   "execution_count": 28,
   "metadata": {},
   "outputs": [
    {
     "name": "stderr",
     "output_type": "stream",
     "text": [
      "LOCAL_RANK: 0 - CUDA_VISIBLE_DEVICES: [0,1]\n",
      "\n",
      "  | Name        | Type                           | Params\n",
      "---------------------------------------------------------------\n",
      "0 | torch_model | TransformerBasedSessionEncoder | 927 K \n",
      "---------------------------------------------------------------\n",
      "927 K     Trainable params\n",
      "0         Non-trainable params\n",
      "927 K     Total params\n",
      "3.709     Total estimated model params size (MB)\n",
      "/data/home/maspirina1/tasks/repo/RecTools/.venv/lib/python3.8/site-packages/pytorch_lightning/trainer/connectors/data_connector.py:441: The 'train_dataloader' does not have many workers which may be a bottleneck. Consider increasing the value of the `num_workers` argument` to `num_workers=143` in the `DataLoader` to improve performance.\n"
     ]
    },
    {
     "data": {
      "application/vnd.jupyter.widget-view+json": {
       "model_id": "ba068f2adef54620ba68346830314714",
       "version_major": 2,
       "version_minor": 0
      },
      "text/plain": [
       "Training: |          | 0/? [00:00<?, ?it/s]"
      ]
     },
     "metadata": {},
     "output_type": "display_data"
    },
    {
     "name": "stderr",
     "output_type": "stream",
     "text": [
      "`Trainer.fit` stopped: `max_epochs=5` reached.\n"
     ]
    },
    {
     "name": "stdout",
     "output_type": "stream",
     "text": [
      "CPU times: user 2h 22min 18s, sys: 40.7 s, total: 2h 22min 59s\n",
      "Wall time: 10min 59s\n"
     ]
    },
    {
     "data": {
      "text/plain": [
       "<rectools.models.nn.sasrec.SASRecModel at 0x7f0a381e7550>"
      ]
     },
     "execution_count": 28,
     "metadata": {},
     "output_type": "execute_result"
    }
   ],
   "source": [
    "%%time\n",
    "model.fit(dataset_no_features)"
   ]
  },
  {
   "cell_type": "code",
   "execution_count": 29,
   "metadata": {},
   "outputs": [
    {
     "name": "stderr",
     "output_type": "stream",
     "text": [
      "/data/home/maspirina1/tasks/repo/RecTools/rectools/models/nn/transformer_data_preparator.py:271: UserWarning: 91202 target users were considered cold because of missing known items\n",
      "  warnings.warn(explanation)\n",
      "/data/home/maspirina1/tasks/repo/RecTools/rectools/models/base.py:675: UserWarning: \n",
      "                Model `<class 'rectools.models.nn.sasrec.SASRecModel'>` doesn't support recommendations for cold users,\n",
      "                but some of given users are cold: they are not in the `dataset.user_id_map`\n",
      "            \n",
      "  warnings.warn(explanation)\n",
      "GPU available: True (cuda), used: True\n",
      "TPU available: False, using: 0 TPU cores\n",
      "IPU available: False, using: 0 IPUs\n",
      "HPU available: False, using: 0 HPUs\n",
      "LOCAL_RANK: 0 - CUDA_VISIBLE_DEVICES: [0,1]\n",
      "/data/home/maspirina1/tasks/repo/RecTools/.venv/lib/python3.8/site-packages/pytorch_lightning/trainer/connectors/data_connector.py:441: The 'predict_dataloader' does not have many workers which may be a bottleneck. Consider increasing the value of the `num_workers` argument` to `num_workers=143` in the `DataLoader` to improve performance.\n"
     ]
    },
    {
     "data": {
      "application/vnd.jupyter.widget-view+json": {
       "model_id": "82a744e9c8604a2a9bff7da936e2db4b",
       "version_major": 2,
       "version_minor": 0
      },
      "text/plain": [
       "Predicting: |          | 0/? [00:00<?, ?it/s]"
      ]
     },
     "metadata": {},
     "output_type": "display_data"
    },
    {
     "name": "stdout",
     "output_type": "stream",
     "text": [
      "CPU times: user 29 s, sys: 3.6 s, total: 32.6 s\n",
      "Wall time: 22.5 s\n"
     ]
    }
   ],
   "source": [
    "%%time\n",
    "recos = model.recommend(\n",
    "    users=test_users_sasrec, \n",
    "    dataset=dataset_no_features,\n",
    "    k=10,\n",
    "    filter_viewed=True,\n",
    "    on_unsupported_targets=\"warn\"\n",
    ")\n"
   ]
  },
  {
   "cell_type": "code",
   "execution_count": 30,
   "metadata": {},
   "outputs": [],
   "source": [
    "metric_values = calc_metrics(metrics, recos[[\"user_id\", \"item_id\", \"rank\"]], test, train, catalog)\n",
    "metric_values[\"model\"] = \"gBCE\"\n",
    "features_results.append(metric_values)"
   ]
  },
  {
   "cell_type": "markdown",
   "metadata": {},
   "source": [
    "## Softmax with key_padding_mask + causal_mask"
   ]
  },
  {
   "cell_type": "code",
   "execution_count": 32,
   "metadata": {},
   "outputs": [
    {
     "name": "stderr",
     "output_type": "stream",
     "text": [
      "Trainer will use only 1 of 2 GPUs because it is running inside an interactive / notebook environment. You may try to set `Trainer(devices=2)` but please note that multi-GPU inside interactive / notebook environments is considered experimental and unstable. Your mileage may vary.\n",
      "GPU available: True (cuda), used: True\n",
      "TPU available: False, using: 0 TPU cores\n",
      "IPU available: False, using: 0 IPUs\n",
      "HPU available: False, using: 0 HPUs\n"
     ]
    }
   ],
   "source": [
    "model = SASRecModel(\n",
    "    n_blocks=2,\n",
    "    session_max_len=32,\n",
    "    lr=1e-3,\n",
    "    epochs=5,\n",
    "    verbose=1,\n",
    "    deterministic=True,\n",
    "    item_net_block_types=(IdEmbeddingsItemNet, ),  # Use only item ids in ItemNetBlock\n",
    "    recommend_device=\"cuda\",\n",
    "    use_key_padding_mask=True,\n",
    ")\n"
   ]
  },
  {
   "cell_type": "code",
   "execution_count": 33,
   "metadata": {},
   "outputs": [
    {
     "name": "stderr",
     "output_type": "stream",
     "text": [
      "LOCAL_RANK: 0 - CUDA_VISIBLE_DEVICES: [0,1]\n",
      "\n",
      "  | Name        | Type                           | Params\n",
      "---------------------------------------------------------------\n",
      "0 | torch_model | TransformerBasedSessionEncoder | 927 K \n",
      "---------------------------------------------------------------\n",
      "927 K     Trainable params\n",
      "0         Non-trainable params\n",
      "927 K     Total params\n",
      "3.709     Total estimated model params size (MB)\n",
      "/data/home/maspirina1/tasks/repo/RecTools/.venv/lib/python3.8/site-packages/pytorch_lightning/trainer/connectors/data_connector.py:441: The 'train_dataloader' does not have many workers which may be a bottleneck. Consider increasing the value of the `num_workers` argument` to `num_workers=143` in the `DataLoader` to improve performance.\n"
     ]
    },
    {
     "data": {
      "application/vnd.jupyter.widget-view+json": {
       "model_id": "28392028d54449b9bd87aa18a21bb823",
       "version_major": 2,
       "version_minor": 0
      },
      "text/plain": [
       "Training: |          | 0/? [00:00<?, ?it/s]"
      ]
     },
     "metadata": {},
     "output_type": "display_data"
    },
    {
     "name": "stderr",
     "output_type": "stream",
     "text": [
      "`Trainer.fit` stopped: `max_epochs=5` reached.\n"
     ]
    },
    {
     "name": "stdout",
     "output_type": "stream",
     "text": [
      "CPU times: user 5min 25s, sys: 11 s, total: 5min 36s\n",
      "Wall time: 5min 17s\n"
     ]
    },
    {
     "data": {
      "text/plain": [
       "<rectools.models.nn.sasrec.SASRecModel at 0x7f089ccb2a30>"
      ]
     },
     "execution_count": 33,
     "metadata": {},
     "output_type": "execute_result"
    }
   ],
   "source": [
    "%%time\n",
    "model.fit(dataset_no_features)"
   ]
  },
  {
   "cell_type": "code",
   "execution_count": 34,
   "metadata": {},
   "outputs": [
    {
     "name": "stderr",
     "output_type": "stream",
     "text": [
      "/data/home/maspirina1/tasks/repo/RecTools/rectools/models/nn/transformer_data_preparator.py:271: UserWarning: 91202 target users were considered cold because of missing known items\n",
      "  warnings.warn(explanation)\n",
      "/data/home/maspirina1/tasks/repo/RecTools/rectools/models/base.py:675: UserWarning: \n",
      "                Model `<class 'rectools.models.nn.sasrec.SASRecModel'>` doesn't support recommendations for cold users,\n",
      "                but some of given users are cold: they are not in the `dataset.user_id_map`\n",
      "            \n",
      "  warnings.warn(explanation)\n",
      "GPU available: True (cuda), used: True\n",
      "TPU available: False, using: 0 TPU cores\n",
      "IPU available: False, using: 0 IPUs\n",
      "HPU available: False, using: 0 HPUs\n",
      "LOCAL_RANK: 0 - CUDA_VISIBLE_DEVICES: [0,1]\n",
      "/data/home/maspirina1/tasks/repo/RecTools/.venv/lib/python3.8/site-packages/pytorch_lightning/trainer/connectors/data_connector.py:441: The 'predict_dataloader' does not have many workers which may be a bottleneck. Consider increasing the value of the `num_workers` argument` to `num_workers=143` in the `DataLoader` to improve performance.\n"
     ]
    },
    {
     "data": {
      "application/vnd.jupyter.widget-view+json": {
       "model_id": "9ba4d67d53bc40bea348cadde4b06f6b",
       "version_major": 2,
       "version_minor": 0
      },
      "text/plain": [
       "Predicting: |          | 0/? [00:00<?, ?it/s]"
      ]
     },
     "metadata": {},
     "output_type": "display_data"
    },
    {
     "name": "stdout",
     "output_type": "stream",
     "text": [
      "CPU times: user 28.7 s, sys: 4.43 s, total: 33.2 s\n",
      "Wall time: 23.9 s\n"
     ]
    }
   ],
   "source": [
    "%%time\n",
    "recos = model.recommend(\n",
    "    users=test_users_sasrec, \n",
    "    dataset=dataset_no_features,\n",
    "    k=10,\n",
    "    filter_viewed=True,\n",
    "    on_unsupported_targets=\"warn\"\n",
    ")"
   ]
  },
  {
   "cell_type": "code",
   "execution_count": 35,
   "metadata": {},
   "outputs": [],
   "source": [
    "metric_values = calc_metrics(metrics, recos[[\"user_id\", \"item_id\", \"rank\"]], test, train, catalog)"
   ]
  },
  {
   "cell_type": "code",
   "execution_count": 36,
   "metadata": {},
   "outputs": [],
   "source": [
    "metric_values[\"model\"] = \"softmax_padding_mask\"\n",
    "features_results.append(metric_values)"
   ]
  },
  {
   "cell_type": "code",
   "execution_count": 37,
   "metadata": {},
   "outputs": [
    {
     "data": {
      "text/html": [
       "<div>\n",
       "<style scoped>\n",
       "    .dataframe tbody tr th:only-of-type {\n",
       "        vertical-align: middle;\n",
       "    }\n",
       "\n",
       "    .dataframe tbody tr th {\n",
       "        vertical-align: top;\n",
       "    }\n",
       "\n",
       "    .dataframe thead th {\n",
       "        text-align: right;\n",
       "    }\n",
       "</style>\n",
       "<table border=\"1\" class=\"dataframe\">\n",
       "  <thead>\n",
       "    <tr style=\"text-align: right;\">\n",
       "      <th></th>\n",
       "      <th>MAP@1</th>\n",
       "      <th>MAP@5</th>\n",
       "      <th>MAP@10</th>\n",
       "      <th>MIUF@1</th>\n",
       "      <th>MIUF@5</th>\n",
       "      <th>MIUF@10</th>\n",
       "      <th>Serendipity@1</th>\n",
       "      <th>Serendipity@5</th>\n",
       "      <th>Serendipity@10</th>\n",
       "    </tr>\n",
       "    <tr>\n",
       "      <th>model</th>\n",
       "      <th></th>\n",
       "      <th></th>\n",
       "      <th></th>\n",
       "      <th></th>\n",
       "      <th></th>\n",
       "      <th></th>\n",
       "      <th></th>\n",
       "      <th></th>\n",
       "      <th></th>\n",
       "    </tr>\n",
       "  </thead>\n",
       "  <tbody>\n",
       "    <tr>\n",
       "      <th>softmax</th>\n",
       "      <td>0.048267</td>\n",
       "      <td>0.081881</td>\n",
       "      <td>0.091119</td>\n",
       "      <td>3.636161</td>\n",
       "      <td>4.380742</td>\n",
       "      <td>5.026357</td>\n",
       "      <td>0.000884</td>\n",
       "      <td>0.000734</td>\n",
       "      <td>0.000679</td>\n",
       "    </tr>\n",
       "    <tr>\n",
       "      <th>gBCE</th>\n",
       "      <td>0.046643</td>\n",
       "      <td>0.081198</td>\n",
       "      <td>0.090133</td>\n",
       "      <td>3.211930</td>\n",
       "      <td>3.868336</td>\n",
       "      <td>4.564376</td>\n",
       "      <td>0.000580</td>\n",
       "      <td>0.000526</td>\n",
       "      <td>0.000512</td>\n",
       "    </tr>\n",
       "    <tr>\n",
       "      <th>softmax_padding_mask</th>\n",
       "      <td>0.046936</td>\n",
       "      <td>0.080251</td>\n",
       "      <td>0.089373</td>\n",
       "      <td>4.102551</td>\n",
       "      <td>4.677506</td>\n",
       "      <td>5.163588</td>\n",
       "      <td>0.001046</td>\n",
       "      <td>0.000827</td>\n",
       "      <td>0.000748</td>\n",
       "    </tr>\n",
       "    <tr>\n",
       "      <th>bce</th>\n",
       "      <td>0.043669</td>\n",
       "      <td>0.074606</td>\n",
       "      <td>0.083078</td>\n",
       "      <td>3.791983</td>\n",
       "      <td>4.484389</td>\n",
       "      <td>5.035991</td>\n",
       "      <td>0.000561</td>\n",
       "      <td>0.000537</td>\n",
       "      <td>0.000554</td>\n",
       "    </tr>\n",
       "  </tbody>\n",
       "</table>\n",
       "</div>"
      ],
      "text/plain": [
       "                         MAP@1     MAP@5    MAP@10    MIUF@1    MIUF@5  \\\n",
       "model                                                                    \n",
       "softmax               0.048267  0.081881  0.091119  3.636161  4.380742   \n",
       "gBCE                  0.046643  0.081198  0.090133  3.211930  3.868336   \n",
       "softmax_padding_mask  0.046936  0.080251  0.089373  4.102551  4.677506   \n",
       "bce                   0.043669  0.074606  0.083078  3.791983  4.484389   \n",
       "\n",
       "                       MIUF@10  Serendipity@1  Serendipity@5  Serendipity@10  \n",
       "model                                                                         \n",
       "softmax               5.026357       0.000884       0.000734        0.000679  \n",
       "gBCE                  4.564376       0.000580       0.000526        0.000512  \n",
       "softmax_padding_mask  5.163588       0.001046       0.000827        0.000748  \n",
       "bce                   5.035991       0.000561       0.000537        0.000554  "
      ]
     },
     "execution_count": 37,
     "metadata": {},
     "output_type": "execute_result"
    }
   ],
   "source": [
    "features_df = (\n",
    "    pd.DataFrame(features_results)\n",
    "    .set_index(\"model\")\n",
    "    .sort_values(by=[\"MAP@10\", \"Serendipity@10\"], ascending=False)\n",
    ")\n",
    "features_df"
   ]
  },
  {
   "cell_type": "markdown",
   "metadata": {},
   "source": [
    "### sasrec with item ids embeddings in ItemNetBlock"
   ]
  },
  {
   "cell_type": "code",
   "execution_count": 39,
   "metadata": {},
   "outputs": [
    {
     "name": "stderr",
     "output_type": "stream",
     "text": [
      "Trainer will use only 1 of 2 GPUs because it is running inside an interactive / notebook environment. You may try to set `Trainer(devices=2)` but please note that multi-GPU inside interactive / notebook environments is considered experimental and unstable. Your mileage may vary.\n",
      "GPU available: True (cuda), used: True\n",
      "TPU available: False, using: 0 TPU cores\n",
      "IPU available: False, using: 0 IPUs\n",
      "HPU available: False, using: 0 HPUs\n"
     ]
    }
   ],
   "source": [
    "model = SASRecModel(\n",
    "    n_blocks=2,\n",
    "    session_max_len=32,\n",
    "    lr=1e-3,\n",
    "    epochs=5,\n",
    "    verbose=1,\n",
    "    deterministic=True,\n",
    "    item_net_block_types=(IdEmbeddingsItemNet, )  # Use only item ids in ItemNetBlock\n",
    ")"
   ]
  },
  {
   "cell_type": "code",
   "execution_count": 40,
   "metadata": {},
   "outputs": [
    {
     "name": "stderr",
     "output_type": "stream",
     "text": [
      "LOCAL_RANK: 0 - CUDA_VISIBLE_DEVICES: [0,1]\n",
      "\n",
      "  | Name        | Type                           | Params\n",
      "---------------------------------------------------------------\n",
      "0 | torch_model | TransformerBasedSessionEncoder | 927 K \n",
      "---------------------------------------------------------------\n",
      "927 K     Trainable params\n",
      "0         Non-trainable params\n",
      "927 K     Total params\n",
      "3.709     Total estimated model params size (MB)\n",
      "/data/home/maspirina1/tasks/repo/RecTools/.venv/lib/python3.8/site-packages/pytorch_lightning/trainer/connectors/data_connector.py:441: The 'train_dataloader' does not have many workers which may be a bottleneck. Consider increasing the value of the `num_workers` argument` to `num_workers=143` in the `DataLoader` to improve performance.\n"
     ]
    },
    {
     "data": {
      "application/vnd.jupyter.widget-view+json": {
       "model_id": "b76743dab8574887823311188103ab7d",
       "version_major": 2,
       "version_minor": 0
      },
      "text/plain": [
       "Training: |          | 0/? [00:00<?, ?it/s]"
      ]
     },
     "metadata": {},
     "output_type": "display_data"
    },
    {
     "name": "stderr",
     "output_type": "stream",
     "text": [
      "`Trainer.fit` stopped: `max_epochs=5` reached.\n"
     ]
    },
    {
     "name": "stdout",
     "output_type": "stream",
     "text": [
      "CPU times: user 9min 7s, sys: 14.6 s, total: 9min 22s\n",
      "Wall time: 9min 8s\n"
     ]
    },
    {
     "data": {
      "text/plain": [
       "<rectools.models.nn.sasrec.SASRecModel at 0x7f085f448c10>"
      ]
     },
     "execution_count": 40,
     "metadata": {},
     "output_type": "execute_result"
    }
   ],
   "source": [
    "%%time\n",
    "model.fit(dataset_no_features)"
   ]
  },
  {
   "cell_type": "code",
   "execution_count": 41,
   "metadata": {},
   "outputs": [
    {
     "name": "stderr",
     "output_type": "stream",
     "text": [
      "/data/home/maspirina1/tasks/repo/RecTools/rectools/models/nn/transformer_data_preparator.py:271: UserWarning: 91202 target users were considered cold because of missing known items\n",
      "  warnings.warn(explanation)\n",
      "/data/home/maspirina1/tasks/repo/RecTools/rectools/models/base.py:675: UserWarning: \n",
      "                Model `<class 'rectools.models.nn.sasrec.SASRecModel'>` doesn't support recommendations for cold users,\n",
      "                but some of given users are cold: they are not in the `dataset.user_id_map`\n",
      "            \n",
      "  warnings.warn(explanation)\n",
      "GPU available: True (cuda), used: True\n",
      "TPU available: False, using: 0 TPU cores\n",
      "IPU available: False, using: 0 IPUs\n",
      "HPU available: False, using: 0 HPUs\n"
     ]
    },
    {
     "name": "stderr",
     "output_type": "stream",
     "text": [
      "LOCAL_RANK: 0 - CUDA_VISIBLE_DEVICES: [0,1]\n",
      "/data/home/maspirina1/tasks/repo/RecTools/.venv/lib/python3.8/site-packages/pytorch_lightning/trainer/connectors/data_connector.py:441: The 'predict_dataloader' does not have many workers which may be a bottleneck. Consider increasing the value of the `num_workers` argument` to `num_workers=143` in the `DataLoader` to improve performance.\n"
     ]
    },
    {
     "data": {
      "application/vnd.jupyter.widget-view+json": {
       "model_id": "ce2d51f1288a4efbbf756720f45c3a40",
       "version_major": 2,
       "version_minor": 0
      },
      "text/plain": [
       "Predicting: |          | 0/? [00:00<?, ?it/s]"
      ]
     },
     "metadata": {},
     "output_type": "display_data"
    },
    {
     "name": "stdout",
     "output_type": "stream",
     "text": [
      "CPU times: user 30.4 s, sys: 4.79 s, total: 35.2 s\n",
      "Wall time: 24.1 s\n"
     ]
    }
   ],
   "source": [
    "%%time\n",
    "recos = model.recommend(\n",
    "    users=test_users_sasrec, \n",
    "    dataset=dataset_no_features,\n",
    "    k=10,\n",
    "    filter_viewed=True,\n",
    "    on_unsupported_targets=\"warn\"\n",
    ")"
   ]
  },
  {
   "cell_type": "code",
   "execution_count": 42,
   "metadata": {},
   "outputs": [],
   "source": [
    "# TODO: drop `apply(str)`\n",
    "recos[\"item_id\"] = recos[\"item_id\"].apply(str)\n",
    "test[\"item_id\"] = test[\"item_id\"].astype(str)\n",
    "metric_values = calc_metrics(metrics, recos[[\"user_id\", \"item_id\", \"rank\"]], test, train, catalog)\n",
    "metric_values[\"model\"] = \"sasrec_ids\"\n",
    "features_results.append(metric_values)"
   ]
  },
  {
   "cell_type": "markdown",
   "metadata": {},
   "source": [
    "### sasrec with item ids and category features embeddings in ItemNetBlock"
   ]
  },
  {
   "cell_type": "markdown",
   "metadata": {},
   "source": [
    "model = SASRecModel(\n",
    "    n_blocks=2,\n",
    "    session_max_len=32,\n",
    "    lr=1e-3,\n",
    "    epochs=5,\n",
    "    verbose=1,\n",
    "    deterministic=True,\n",
    "    item_net_block_types=(IdEmbeddingsItemNet, CatFeaturesItemNet)  # Use item ids and cat features in ItemNetBlock\n",
    ")"
   ]
  },
  {
   "cell_type": "code",
   "execution_count": 43,
   "metadata": {},
   "outputs": [
    {
     "name": "stderr",
     "output_type": "stream",
     "text": [
      "LOCAL_RANK: 0 - CUDA_VISIBLE_DEVICES: [0,1]\n",
      "\n",
      "  | Name        | Type                           | Params\n",
      "---------------------------------------------------------------\n",
      "0 | torch_model | TransformerBasedSessionEncoder | 927 K \n",
      "---------------------------------------------------------------\n",
      "927 K     Trainable params\n",
      "0         Non-trainable params\n",
      "927 K     Total params\n",
      "3.709     Total estimated model params size (MB)\n",
      "/data/home/maspirina1/tasks/repo/RecTools/.venv/lib/python3.8/site-packages/pytorch_lightning/trainer/connectors/data_connector.py:441: The 'train_dataloader' does not have many workers which may be a bottleneck. Consider increasing the value of the `num_workers` argument` to `num_workers=143` in the `DataLoader` to improve performance.\n"
     ]
    },
    {
     "data": {
      "application/vnd.jupyter.widget-view+json": {
       "model_id": "be53e37f02904abfa9dcdecc99c24b56",
       "version_major": 2,
       "version_minor": 0
      },
      "text/plain": [
       "Training: |          | 0/? [00:00<?, ?it/s]"
      ]
     },
     "metadata": {},
     "output_type": "display_data"
    },
    {
     "name": "stderr",
     "output_type": "stream",
     "text": [
      "`Trainer.fit` stopped: `max_epochs=5` reached.\n"
     ]
    },
    {
     "data": {
      "text/plain": [
       "<rectools.models.nn.sasrec.SASRecModel at 0x7f085f448c10>"
      ]
     },
     "execution_count": 43,
     "metadata": {},
     "output_type": "execute_result"
    }
   ],
   "source": [
    "#%%time\n",
    "model.fit(dataset_item_features)"
   ]
  },
  {
   "cell_type": "code",
   "execution_count": 44,
   "metadata": {},
   "outputs": [
    {
     "name": "stderr",
     "output_type": "stream",
     "text": [
      "/data/home/maspirina1/tasks/repo/RecTools/rectools/models/nn/transformer_data_preparator.py:271: UserWarning: 91202 target users were considered cold because of missing known items\n",
      "  warnings.warn(explanation)\n",
      "/data/home/maspirina1/tasks/repo/RecTools/rectools/models/base.py:675: UserWarning: \n",
      "                Model `<class 'rectools.models.nn.sasrec.SASRecModel'>` doesn't support recommendations for cold users,\n",
      "                but some of given users are cold: they are not in the `dataset.user_id_map`\n",
      "            \n",
      "  warnings.warn(explanation)\n",
      "GPU available: True (cuda), used: True\n",
      "TPU available: False, using: 0 TPU cores\n",
      "IPU available: False, using: 0 IPUs\n",
      "HPU available: False, using: 0 HPUs\n"
     ]
    },
    {
     "name": "stderr",
     "output_type": "stream",
     "text": [
      "LOCAL_RANK: 0 - CUDA_VISIBLE_DEVICES: [0,1]\n",
      "/data/home/maspirina1/tasks/repo/RecTools/.venv/lib/python3.8/site-packages/pytorch_lightning/trainer/connectors/data_connector.py:441: The 'predict_dataloader' does not have many workers which may be a bottleneck. Consider increasing the value of the `num_workers` argument` to `num_workers=143` in the `DataLoader` to improve performance.\n"
     ]
    },
    {
     "data": {
      "application/vnd.jupyter.widget-view+json": {
       "model_id": "326112da1def4098b178f2fcd1c25dd5",
       "version_major": 2,
       "version_minor": 0
      },
      "text/plain": [
       "Predicting: |          | 0/? [00:00<?, ?it/s]"
      ]
     },
     "metadata": {},
     "output_type": "display_data"
    },
    {
     "name": "stdout",
     "output_type": "stream",
     "text": [
      "CPU times: user 28.1 s, sys: 3.92 s, total: 32 s\n",
      "Wall time: 22.5 s\n"
     ]
    }
   ],
   "source": [
    "%%time\n",
    "recos = model.recommend(\n",
    "    users=test_users_sasrec, \n",
    "    dataset=dataset_item_features,\n",
    "    k=10,\n",
    "    filter_viewed=True,\n",
    "    on_unsupported_targets=\"warn\"\n",
    ")"
   ]
  },
  {
   "cell_type": "code",
   "execution_count": 45,
   "metadata": {},
   "outputs": [],
   "source": [
    "# TODO: drop `apply(str)`\n",
    "recos[\"item_id\"] = recos[\"item_id\"].apply(str)\n",
    "test[\"item_id\"] = test[\"item_id\"].astype(str)\n",
    "metric_values = calc_metrics(metrics, recos[[\"user_id\", \"item_id\", \"rank\"]], test, train, catalog)\n",
    "metric_values[\"model\"] = \"sasrec_ids_cat\"\n",
    "features_results.append(metric_values)"
   ]
  },
  {
   "cell_type": "markdown",
   "metadata": {},
   "source": [
    "### sasrec with category item features embeddings in ItemNetBlock"
   ]
  },
  {
   "cell_type": "code",
   "execution_count": 46,
   "metadata": {},
   "outputs": [
    {
     "name": "stderr",
     "output_type": "stream",
     "text": [
      "Trainer will use only 1 of 2 GPUs because it is running inside an interactive / notebook environment. You may try to set `Trainer(devices=2)` but please note that multi-GPU inside interactive / notebook environments is considered experimental and unstable. Your mileage may vary.\n",
      "GPU available: True (cuda), used: True\n",
      "TPU available: False, using: 0 TPU cores\n",
      "IPU available: False, using: 0 IPUs\n",
      "HPU available: False, using: 0 HPUs\n"
     ]
    }
   ],
   "source": [
    "model = SASRecModel(\n",
    "    n_blocks=2,\n",
    "    session_max_len=32,\n",
    "    lr=1e-3,\n",
    "    epochs=5,\n",
    "    verbose=1,\n",
    "    deterministic=True,\n",
    "    item_net_block_types=(CatFeaturesItemNet, )  # Use only cat item features in ItemNetBlock\n",
    ")"
   ]
  },
  {
   "cell_type": "code",
   "execution_count": 47,
   "metadata": {},
   "outputs": [
    {
     "name": "stderr",
     "output_type": "stream",
     "text": [
      "LOCAL_RANK: 0 - CUDA_VISIBLE_DEVICES: [0,1]\n",
      "\n",
      "  | Name        | Type                           | Params\n",
      "---------------------------------------------------------------\n",
      "0 | torch_model | TransformerBasedSessionEncoder | 211 K \n",
      "---------------------------------------------------------------\n",
      "211 K     Trainable params\n",
      "0         Non-trainable params\n",
      "211 K     Total params\n",
      "0.847     Total estimated model params size (MB)\n",
      "/data/home/maspirina1/tasks/repo/RecTools/.venv/lib/python3.8/site-packages/pytorch_lightning/trainer/connectors/data_connector.py:441: The 'train_dataloader' does not have many workers which may be a bottleneck. Consider increasing the value of the `num_workers` argument` to `num_workers=143` in the `DataLoader` to improve performance.\n"
     ]
    },
    {
     "data": {
      "application/vnd.jupyter.widget-view+json": {
       "model_id": "e16c7408a2a04f9789bf9652dd165a7b",
       "version_major": 2,
       "version_minor": 0
      },
      "text/plain": [
       "Training: |          | 0/? [00:00<?, ?it/s]"
      ]
     },
     "metadata": {},
     "output_type": "display_data"
    },
    {
     "name": "stderr",
     "output_type": "stream",
     "text": [
      "/data/home/maspirina1/tasks/repo/RecTools/rectools/dataset/features.py:424: UserWarning: Converting sparse features to dense array may cause MemoryError\n",
      "  warnings.warn(\"Converting sparse features to dense array may cause MemoryError\")\n",
      "`Trainer.fit` stopped: `max_epochs=5` reached.\n"
     ]
    },
    {
     "data": {
      "text/plain": [
       "<rectools.models.nn.sasrec.SASRecModel at 0x7f07f41532b0>"
      ]
     },
     "execution_count": 47,
     "metadata": {},
     "output_type": "execute_result"
    }
   ],
   "source": [
    "#%%time\n",
    "model.fit(dataset_item_features)"
   ]
  },
  {
   "cell_type": "code",
   "execution_count": 48,
   "metadata": {},
   "outputs": [
    {
     "name": "stderr",
     "output_type": "stream",
     "text": [
      "/data/home/maspirina1/tasks/repo/RecTools/rectools/models/nn/transformer_data_preparator.py:271: UserWarning: 91202 target users were considered cold because of missing known items\n",
      "  warnings.warn(explanation)\n",
      "/data/home/maspirina1/tasks/repo/RecTools/rectools/models/base.py:675: UserWarning: \n",
      "                Model `<class 'rectools.models.nn.sasrec.SASRecModel'>` doesn't support recommendations for cold users,\n",
      "                but some of given users are cold: they are not in the `dataset.user_id_map`\n",
      "            \n",
      "  warnings.warn(explanation)\n",
      "GPU available: True (cuda), used: True\n",
      "TPU available: False, using: 0 TPU cores\n",
      "IPU available: False, using: 0 IPUs\n",
      "HPU available: False, using: 0 HPUs\n"
     ]
    },
    {
     "name": "stderr",
     "output_type": "stream",
     "text": [
      "LOCAL_RANK: 0 - CUDA_VISIBLE_DEVICES: [0,1]\n",
      "/data/home/maspirina1/tasks/repo/RecTools/.venv/lib/python3.8/site-packages/pytorch_lightning/trainer/connectors/data_connector.py:441: The 'predict_dataloader' does not have many workers which may be a bottleneck. Consider increasing the value of the `num_workers` argument` to `num_workers=143` in the `DataLoader` to improve performance.\n"
     ]
    },
    {
     "data": {
      "application/vnd.jupyter.widget-view+json": {
       "model_id": "41ccb5ff75a44967bcdacf04d98b690c",
       "version_major": 2,
       "version_minor": 0
      },
      "text/plain": [
       "Predicting: |          | 0/? [00:00<?, ?it/s]"
      ]
     },
     "metadata": {},
     "output_type": "display_data"
    },
    {
     "name": "stdout",
     "output_type": "stream",
     "text": [
      "CPU times: user 30.7 s, sys: 5.03 s, total: 35.7 s\n",
      "Wall time: 26.2 s\n"
     ]
    }
   ],
   "source": [
    "%%time\n",
    "recos = model.recommend(\n",
    "    users=test_users_sasrec, \n",
    "    dataset=dataset_item_features,\n",
    "    k=10,\n",
    "    filter_viewed=True,\n",
    "    on_unsupported_targets=\"warn\"\n",
    ")"
   ]
  },
  {
   "cell_type": "code",
   "execution_count": 49,
   "metadata": {},
   "outputs": [],
   "source": [
    "# TODO: drop `apply(str)`\n",
    "recos[\"item_id\"] = recos[\"item_id\"].apply(str)\n",
    "test[\"item_id\"] = test[\"item_id\"].astype(str)\n",
    "metric_values = calc_metrics(metrics, recos[[\"user_id\", \"item_id\", \"rank\"]], test, train, catalog)\n",
    "metric_values[\"model\"] = \"sasrec_cat\"\n",
    "features_results.append(metric_values)"
   ]
  },
  {
   "cell_type": "code",
   "execution_count": 50,
   "metadata": {},
   "outputs": [
    {
     "data": {
      "text/plain": [
       "[{'MAP@1': 0.04826695924739594,\n",
       "  'MAP@5': 0.08188109538342359,\n",
       "  'MAP@10': 0.09111905060251475,\n",
       "  'MIUF@1': 3.6361608221537636,\n",
       "  'MIUF@5': 4.3807416255519165,\n",
       "  'MIUF@10': 5.026356912227157,\n",
       "  'Serendipity@1': 0.0008844170021458072,\n",
       "  'Serendipity@5': 0.0007337182385033877,\n",
       "  'Serendipity@10': 0.0006787460793393714,\n",
       "  'model': 'softmax'},\n",
       " {'MAP@1': 0.04366861238832978,\n",
       "  'MAP@5': 0.07460647524917209,\n",
       "  'MAP@10': 0.08307848040450251,\n",
       "  'MIUF@1': 3.791982822943762,\n",
       "  'MIUF@5': 4.484389444400757,\n",
       "  'MIUF@10': 5.0359912497143915,\n",
       "  'Serendipity@1': 0.0005614126292513184,\n",
       "  'Serendipity@5': 0.0005366042437046948,\n",
       "  'Serendipity@10': 0.0005543113372254213,\n",
       "  'model': 'bce'},\n",
       " {'MAP@1': 0.04664341232598377,\n",
       "  'MAP@5': 0.08119792078428736,\n",
       "  'MAP@10': 0.0901325286557952,\n",
       "  'MIUF@1': 3.2119302462140364,\n",
       "  'MIUF@5': 3.868336197031158,\n",
       "  'MIUF@10': 4.564376052893403,\n",
       "  'Serendipity@1': 0.0005803230086690105,\n",
       "  'Serendipity@5': 0.0005258138960338016,\n",
       "  'Serendipity@10': 0.000511724878859585,\n",
       "  'model': 'gBCE'},\n",
       " {'MAP@1': 0.04693610263455189,\n",
       "  'MAP@5': 0.08025139394090437,\n",
       "  'MAP@10': 0.0893734331747587,\n",
       "  'MIUF@1': 4.102551184815065,\n",
       "  'MIUF@5': 4.677506246079427,\n",
       "  'MIUF@10': 5.163588350851596,\n",
       "  'Serendipity@1': 0.0010457604191095966,\n",
       "  'Serendipity@5': 0.0008272887533964649,\n",
       "  'Serendipity@10': 0.0007478513375577164,\n",
       "  'model': 'softmax_padding_mask'},\n",
       " {'MAP@1': 0.04806916158535154,\n",
       "  'MAP@5': 0.0822595970471104,\n",
       "  'MAP@10': 0.09158498844284921,\n",
       "  'MIUF@1': 18.824620072061013,\n",
       "  'MIUF@5': 18.824620072061013,\n",
       "  'MIUF@10': 18.824620072061013,\n",
       "  'Serendipity@1': 0.09853756401457156,\n",
       "  'Serendipity@5': 0.060200416960417454,\n",
       "  'Serendipity@10': 0.044482373892924906,\n",
       "  'model': 'sasrec_ids'},\n",
       " {'MAP@1': 0.04830243400199422,\n",
       "  'MAP@5': 0.0821231229845219,\n",
       "  'MAP@10': 0.09115927606326621,\n",
       "  'MIUF@1': 18.824620072061013,\n",
       "  'MIUF@5': 18.824620072061013,\n",
       "  'MIUF@10': 18.824620072061013,\n",
       "  'Serendipity@1': 0.09976242014677156,\n",
       "  'Serendipity@5': 0.059989295387850174,\n",
       "  'Serendipity@10': 0.044113081864823794,\n",
       "  'model': 'sasrec_ids_cat'},\n",
       " {'MAP@1': 0.00235242033856631,\n",
       "  'MAP@5': 0.007186605880299258,\n",
       "  'MAP@10': 0.00830427251069536,\n",
       "  'MIUF@1': 18.824620072061013,\n",
       "  'MIUF@5': 18.824620072061013,\n",
       "  'MIUF@10': 18.824620072061013,\n",
       "  'Serendipity@1': 0.006683913204160287,\n",
       "  'Serendipity@5': 0.006878352773707079,\n",
       "  'Serendipity@10': 0.005622278825307179,\n",
       "  'model': 'sasrec_cat'}]"
      ]
     },
     "execution_count": 50,
     "metadata": {},
     "output_type": "execute_result"
    }
   ],
   "source": [
    "features_results"
   ]
  },
  {
   "cell_type": "markdown",
   "metadata": {},
   "source": [
    "### Item to item"
   ]
  },
  {
   "cell_type": "code",
   "execution_count": 51,
   "metadata": {},
   "outputs": [],
   "source": [
    "target_items = [13865, 4457, 15297]"
   ]
  },
  {
   "cell_type": "code",
   "execution_count": 52,
   "metadata": {},
   "outputs": [
    {
     "name": "stdout",
     "output_type": "stream",
     "text": [
      "CPU times: user 1.27 s, sys: 303 ms, total: 1.57 s\n",
      "Wall time: 1.24 s\n"
     ]
    }
   ],
   "source": [
    "%%time\n",
    "recos = model.recommend_to_items(\n",
    "    target_items=target_items, \n",
    "    dataset=dataset_no_features,\n",
    "    k=10,\n",
    "    filter_itself=True,\n",
    "    items_to_recommend=None, #white_list,\n",
    ")"
   ]
  },
  {
   "cell_type": "code",
   "execution_count": 53,
   "metadata": {},
   "outputs": [
    {
     "data": {
      "text/html": [
       "<div>\n",
       "<style scoped>\n",
       "    .dataframe tbody tr th:only-of-type {\n",
       "        vertical-align: middle;\n",
       "    }\n",
       "\n",
       "    .dataframe tbody tr th {\n",
       "        vertical-align: top;\n",
       "    }\n",
       "\n",
       "    .dataframe thead th {\n",
       "        text-align: right;\n",
       "    }\n",
       "</style>\n",
       "<table border=\"1\" class=\"dataframe\">\n",
       "  <thead>\n",
       "    <tr style=\"text-align: right;\">\n",
       "      <th></th>\n",
       "      <th>target_item_id</th>\n",
       "      <th>item_id</th>\n",
       "      <th>score</th>\n",
       "      <th>rank</th>\n",
       "    </tr>\n",
       "  </thead>\n",
       "  <tbody>\n",
       "    <tr>\n",
       "      <th>0</th>\n",
       "      <td>13865</td>\n",
       "      <td>15648</td>\n",
       "      <td>1.000000</td>\n",
       "      <td>1</td>\n",
       "    </tr>\n",
       "    <tr>\n",
       "      <th>1</th>\n",
       "      <td>13865</td>\n",
       "      <td>3386</td>\n",
       "      <td>1.000000</td>\n",
       "      <td>2</td>\n",
       "    </tr>\n",
       "    <tr>\n",
       "      <th>2</th>\n",
       "      <td>13865</td>\n",
       "      <td>147</td>\n",
       "      <td>0.891782</td>\n",
       "      <td>3</td>\n",
       "    </tr>\n",
       "    <tr>\n",
       "      <th>3</th>\n",
       "      <td>13865</td>\n",
       "      <td>16194</td>\n",
       "      <td>0.891782</td>\n",
       "      <td>4</td>\n",
       "    </tr>\n",
       "    <tr>\n",
       "      <th>4</th>\n",
       "      <td>13865</td>\n",
       "      <td>12309</td>\n",
       "      <td>0.891782</td>\n",
       "      <td>5</td>\n",
       "    </tr>\n",
       "    <tr>\n",
       "      <th>5</th>\n",
       "      <td>13865</td>\n",
       "      <td>12586</td>\n",
       "      <td>0.891782</td>\n",
       "      <td>6</td>\n",
       "    </tr>\n",
       "    <tr>\n",
       "      <th>6</th>\n",
       "      <td>13865</td>\n",
       "      <td>6661</td>\n",
       "      <td>0.891782</td>\n",
       "      <td>7</td>\n",
       "    </tr>\n",
       "    <tr>\n",
       "      <th>7</th>\n",
       "      <td>13865</td>\n",
       "      <td>2255</td>\n",
       "      <td>0.891782</td>\n",
       "      <td>8</td>\n",
       "    </tr>\n",
       "    <tr>\n",
       "      <th>8</th>\n",
       "      <td>13865</td>\n",
       "      <td>3792</td>\n",
       "      <td>0.891782</td>\n",
       "      <td>9</td>\n",
       "    </tr>\n",
       "    <tr>\n",
       "      <th>9</th>\n",
       "      <td>13865</td>\n",
       "      <td>4130</td>\n",
       "      <td>0.891782</td>\n",
       "      <td>10</td>\n",
       "    </tr>\n",
       "    <tr>\n",
       "      <th>10</th>\n",
       "      <td>4457</td>\n",
       "      <td>5109</td>\n",
       "      <td>1.000000</td>\n",
       "      <td>1</td>\n",
       "    </tr>\n",
       "    <tr>\n",
       "      <th>11</th>\n",
       "      <td>4457</td>\n",
       "      <td>8851</td>\n",
       "      <td>1.000000</td>\n",
       "      <td>2</td>\n",
       "    </tr>\n",
       "    <tr>\n",
       "      <th>12</th>\n",
       "      <td>4457</td>\n",
       "      <td>8486</td>\n",
       "      <td>1.000000</td>\n",
       "      <td>3</td>\n",
       "    </tr>\n",
       "    <tr>\n",
       "      <th>13</th>\n",
       "      <td>4457</td>\n",
       "      <td>12087</td>\n",
       "      <td>1.000000</td>\n",
       "      <td>4</td>\n",
       "    </tr>\n",
       "    <tr>\n",
       "      <th>14</th>\n",
       "      <td>4457</td>\n",
       "      <td>2313</td>\n",
       "      <td>1.000000</td>\n",
       "      <td>5</td>\n",
       "    </tr>\n",
       "    <tr>\n",
       "      <th>15</th>\n",
       "      <td>4457</td>\n",
       "      <td>11977</td>\n",
       "      <td>1.000000</td>\n",
       "      <td>6</td>\n",
       "    </tr>\n",
       "    <tr>\n",
       "      <th>16</th>\n",
       "      <td>4457</td>\n",
       "      <td>7928</td>\n",
       "      <td>1.000000</td>\n",
       "      <td>7</td>\n",
       "    </tr>\n",
       "    <tr>\n",
       "      <th>17</th>\n",
       "      <td>4457</td>\n",
       "      <td>3384</td>\n",
       "      <td>1.000000</td>\n",
       "      <td>8</td>\n",
       "    </tr>\n",
       "    <tr>\n",
       "      <th>18</th>\n",
       "      <td>4457</td>\n",
       "      <td>11513</td>\n",
       "      <td>1.000000</td>\n",
       "      <td>9</td>\n",
       "    </tr>\n",
       "    <tr>\n",
       "      <th>19</th>\n",
       "      <td>4457</td>\n",
       "      <td>6285</td>\n",
       "      <td>1.000000</td>\n",
       "      <td>10</td>\n",
       "    </tr>\n",
       "    <tr>\n",
       "      <th>20</th>\n",
       "      <td>15297</td>\n",
       "      <td>8723</td>\n",
       "      <td>1.000000</td>\n",
       "      <td>1</td>\n",
       "    </tr>\n",
       "    <tr>\n",
       "      <th>21</th>\n",
       "      <td>15297</td>\n",
       "      <td>5926</td>\n",
       "      <td>1.000000</td>\n",
       "      <td>2</td>\n",
       "    </tr>\n",
       "    <tr>\n",
       "      <th>22</th>\n",
       "      <td>15297</td>\n",
       "      <td>4131</td>\n",
       "      <td>1.000000</td>\n",
       "      <td>3</td>\n",
       "    </tr>\n",
       "    <tr>\n",
       "      <th>23</th>\n",
       "      <td>15297</td>\n",
       "      <td>4229</td>\n",
       "      <td>1.000000</td>\n",
       "      <td>4</td>\n",
       "    </tr>\n",
       "    <tr>\n",
       "      <th>24</th>\n",
       "      <td>15297</td>\n",
       "      <td>7005</td>\n",
       "      <td>1.000000</td>\n",
       "      <td>5</td>\n",
       "    </tr>\n",
       "    <tr>\n",
       "      <th>25</th>\n",
       "      <td>15297</td>\n",
       "      <td>10797</td>\n",
       "      <td>1.000000</td>\n",
       "      <td>6</td>\n",
       "    </tr>\n",
       "    <tr>\n",
       "      <th>26</th>\n",
       "      <td>15297</td>\n",
       "      <td>10535</td>\n",
       "      <td>1.000000</td>\n",
       "      <td>7</td>\n",
       "    </tr>\n",
       "    <tr>\n",
       "      <th>27</th>\n",
       "      <td>15297</td>\n",
       "      <td>5400</td>\n",
       "      <td>1.000000</td>\n",
       "      <td>8</td>\n",
       "    </tr>\n",
       "    <tr>\n",
       "      <th>28</th>\n",
       "      <td>15297</td>\n",
       "      <td>4716</td>\n",
       "      <td>1.000000</td>\n",
       "      <td>9</td>\n",
       "    </tr>\n",
       "    <tr>\n",
       "      <th>29</th>\n",
       "      <td>15297</td>\n",
       "      <td>13103</td>\n",
       "      <td>1.000000</td>\n",
       "      <td>10</td>\n",
       "    </tr>\n",
       "  </tbody>\n",
       "</table>\n",
       "</div>"
      ],
      "text/plain": [
       "    target_item_id  item_id     score  rank\n",
       "0            13865    15648  1.000000     1\n",
       "1            13865     3386  1.000000     2\n",
       "2            13865      147  0.891782     3\n",
       "3            13865    16194  0.891782     4\n",
       "4            13865    12309  0.891782     5\n",
       "5            13865    12586  0.891782     6\n",
       "6            13865     6661  0.891782     7\n",
       "7            13865     2255  0.891782     8\n",
       "8            13865     3792  0.891782     9\n",
       "9            13865     4130  0.891782    10\n",
       "10            4457     5109  1.000000     1\n",
       "11            4457     8851  1.000000     2\n",
       "12            4457     8486  1.000000     3\n",
       "13            4457    12087  1.000000     4\n",
       "14            4457     2313  1.000000     5\n",
       "15            4457    11977  1.000000     6\n",
       "16            4457     7928  1.000000     7\n",
       "17            4457     3384  1.000000     8\n",
       "18            4457    11513  1.000000     9\n",
       "19            4457     6285  1.000000    10\n",
       "20           15297     8723  1.000000     1\n",
       "21           15297     5926  1.000000     2\n",
       "22           15297     4131  1.000000     3\n",
       "23           15297     4229  1.000000     4\n",
       "24           15297     7005  1.000000     5\n",
       "25           15297    10797  1.000000     6\n",
       "26           15297    10535  1.000000     7\n",
       "27           15297     5400  1.000000     8\n",
       "28           15297     4716  1.000000     9\n",
       "29           15297    13103  1.000000    10"
      ]
     },
     "execution_count": 53,
     "metadata": {},
     "output_type": "execute_result"
    }
   ],
   "source": [
    "recos"
   ]
  },
  {
   "cell_type": "code",
   "execution_count": 54,
   "metadata": {},
   "outputs": [
    {
     "data": {
      "text/html": [
       "<div>\n",
       "<style scoped>\n",
       "    .dataframe tbody tr th:only-of-type {\n",
       "        vertical-align: middle;\n",
       "    }\n",
       "\n",
       "    .dataframe tbody tr th {\n",
       "        vertical-align: top;\n",
       "    }\n",
       "\n",
       "    .dataframe thead th {\n",
       "        text-align: right;\n",
       "    }\n",
       "</style>\n",
       "<table border=\"1\" class=\"dataframe\">\n",
       "  <thead>\n",
       "    <tr style=\"text-align: right;\">\n",
       "      <th></th>\n",
       "      <th>target_item_id</th>\n",
       "      <th>item_id</th>\n",
       "      <th>score</th>\n",
       "      <th>rank</th>\n",
       "      <th>title</th>\n",
       "    </tr>\n",
       "  </thead>\n",
       "  <tbody>\n",
       "    <tr>\n",
       "      <th>0</th>\n",
       "      <td>13865</td>\n",
       "      <td>15648</td>\n",
       "      <td>1.000000</td>\n",
       "      <td>1</td>\n",
       "      <td>Черное золото</td>\n",
       "    </tr>\n",
       "    <tr>\n",
       "      <th>1</th>\n",
       "      <td>13865</td>\n",
       "      <td>3386</td>\n",
       "      <td>1.000000</td>\n",
       "      <td>2</td>\n",
       "      <td>Спартак</td>\n",
       "    </tr>\n",
       "    <tr>\n",
       "      <th>2</th>\n",
       "      <td>13865</td>\n",
       "      <td>147</td>\n",
       "      <td>0.891782</td>\n",
       "      <td>3</td>\n",
       "      <td>Единичка</td>\n",
       "    </tr>\n",
       "    <tr>\n",
       "      <th>3</th>\n",
       "      <td>13865</td>\n",
       "      <td>16194</td>\n",
       "      <td>0.891782</td>\n",
       "      <td>4</td>\n",
       "      <td>Голубая линия</td>\n",
       "    </tr>\n",
       "    <tr>\n",
       "      <th>4</th>\n",
       "      <td>13865</td>\n",
       "      <td>12309</td>\n",
       "      <td>0.891782</td>\n",
       "      <td>5</td>\n",
       "      <td>Враг у ворот</td>\n",
       "    </tr>\n",
       "    <tr>\n",
       "      <th>5</th>\n",
       "      <td>13865</td>\n",
       "      <td>12586</td>\n",
       "      <td>0.891782</td>\n",
       "      <td>6</td>\n",
       "      <td>Вспоминая 1942</td>\n",
       "    </tr>\n",
       "    <tr>\n",
       "      <th>6</th>\n",
       "      <td>13865</td>\n",
       "      <td>6661</td>\n",
       "      <td>0.891782</td>\n",
       "      <td>7</td>\n",
       "      <td>Солдатик</td>\n",
       "    </tr>\n",
       "    <tr>\n",
       "      <th>7</th>\n",
       "      <td>13865</td>\n",
       "      <td>2255</td>\n",
       "      <td>0.891782</td>\n",
       "      <td>8</td>\n",
       "      <td>Пленный</td>\n",
       "    </tr>\n",
       "    <tr>\n",
       "      <th>8</th>\n",
       "      <td>13865</td>\n",
       "      <td>3792</td>\n",
       "      <td>0.891782</td>\n",
       "      <td>9</td>\n",
       "      <td>Собибор</td>\n",
       "    </tr>\n",
       "    <tr>\n",
       "      <th>9</th>\n",
       "      <td>13865</td>\n",
       "      <td>4130</td>\n",
       "      <td>0.891782</td>\n",
       "      <td>10</td>\n",
       "      <td>Пустота</td>\n",
       "    </tr>\n",
       "    <tr>\n",
       "      <th>10</th>\n",
       "      <td>4457</td>\n",
       "      <td>5109</td>\n",
       "      <td>1.000000</td>\n",
       "      <td>1</td>\n",
       "      <td>Время разлуки</td>\n",
       "    </tr>\n",
       "    <tr>\n",
       "      <th>11</th>\n",
       "      <td>4457</td>\n",
       "      <td>8851</td>\n",
       "      <td>1.000000</td>\n",
       "      <td>2</td>\n",
       "      <td>Лисы</td>\n",
       "    </tr>\n",
       "    <tr>\n",
       "      <th>12</th>\n",
       "      <td>4457</td>\n",
       "      <td>8486</td>\n",
       "      <td>1.000000</td>\n",
       "      <td>3</td>\n",
       "      <td>Мой создатель</td>\n",
       "    </tr>\n",
       "    <tr>\n",
       "      <th>13</th>\n",
       "      <td>4457</td>\n",
       "      <td>12087</td>\n",
       "      <td>1.000000</td>\n",
       "      <td>4</td>\n",
       "      <td>Молчаливое бегство</td>\n",
       "    </tr>\n",
       "    <tr>\n",
       "      <th>14</th>\n",
       "      <td>4457</td>\n",
       "      <td>2313</td>\n",
       "      <td>1.000000</td>\n",
       "      <td>5</td>\n",
       "      <td>Свет моей жизни</td>\n",
       "    </tr>\n",
       "    <tr>\n",
       "      <th>15</th>\n",
       "      <td>4457</td>\n",
       "      <td>11977</td>\n",
       "      <td>1.000000</td>\n",
       "      <td>6</td>\n",
       "      <td>Зоология</td>\n",
       "    </tr>\n",
       "    <tr>\n",
       "      <th>16</th>\n",
       "      <td>4457</td>\n",
       "      <td>7928</td>\n",
       "      <td>1.000000</td>\n",
       "      <td>7</td>\n",
       "      <td>Вечная жизнь</td>\n",
       "    </tr>\n",
       "    <tr>\n",
       "      <th>17</th>\n",
       "      <td>4457</td>\n",
       "      <td>3384</td>\n",
       "      <td>1.000000</td>\n",
       "      <td>8</td>\n",
       "      <td>Вивариум</td>\n",
       "    </tr>\n",
       "    <tr>\n",
       "      <th>18</th>\n",
       "      <td>4457</td>\n",
       "      <td>11513</td>\n",
       "      <td>1.000000</td>\n",
       "      <td>9</td>\n",
       "      <td>Любовь</td>\n",
       "    </tr>\n",
       "    <tr>\n",
       "      <th>19</th>\n",
       "      <td>4457</td>\n",
       "      <td>6285</td>\n",
       "      <td>1.000000</td>\n",
       "      <td>10</td>\n",
       "      <td>Божественная любовь</td>\n",
       "    </tr>\n",
       "    <tr>\n",
       "      <th>20</th>\n",
       "      <td>15297</td>\n",
       "      <td>8723</td>\n",
       "      <td>1.000000</td>\n",
       "      <td>1</td>\n",
       "      <td>Секс в другом городе: Поколение Q</td>\n",
       "    </tr>\n",
       "    <tr>\n",
       "      <th>21</th>\n",
       "      <td>15297</td>\n",
       "      <td>5926</td>\n",
       "      <td>1.000000</td>\n",
       "      <td>2</td>\n",
       "      <td>Пациенты</td>\n",
       "    </tr>\n",
       "    <tr>\n",
       "      <th>22</th>\n",
       "      <td>15297</td>\n",
       "      <td>4131</td>\n",
       "      <td>1.000000</td>\n",
       "      <td>3</td>\n",
       "      <td>Учитель Ким, доктор Романтик</td>\n",
       "    </tr>\n",
       "    <tr>\n",
       "      <th>23</th>\n",
       "      <td>15297</td>\n",
       "      <td>4229</td>\n",
       "      <td>1.000000</td>\n",
       "      <td>4</td>\n",
       "      <td>Самара</td>\n",
       "    </tr>\n",
       "    <tr>\n",
       "      <th>24</th>\n",
       "      <td>15297</td>\n",
       "      <td>7005</td>\n",
       "      <td>1.000000</td>\n",
       "      <td>5</td>\n",
       "      <td>Чёрная кровь</td>\n",
       "    </tr>\n",
       "    <tr>\n",
       "      <th>25</th>\n",
       "      <td>15297</td>\n",
       "      <td>10797</td>\n",
       "      <td>1.000000</td>\n",
       "      <td>6</td>\n",
       "      <td>Наследники</td>\n",
       "    </tr>\n",
       "    <tr>\n",
       "      <th>26</th>\n",
       "      <td>15297</td>\n",
       "      <td>10535</td>\n",
       "      <td>1.000000</td>\n",
       "      <td>7</td>\n",
       "      <td>Я могу уничтожить тебя</td>\n",
       "    </tr>\n",
       "    <tr>\n",
       "      <th>27</th>\n",
       "      <td>15297</td>\n",
       "      <td>5400</td>\n",
       "      <td>1.000000</td>\n",
       "      <td>8</td>\n",
       "      <td>Частица вселенной</td>\n",
       "    </tr>\n",
       "    <tr>\n",
       "      <th>28</th>\n",
       "      <td>15297</td>\n",
       "      <td>4716</td>\n",
       "      <td>1.000000</td>\n",
       "      <td>9</td>\n",
       "      <td>Мастера секса</td>\n",
       "    </tr>\n",
       "    <tr>\n",
       "      <th>29</th>\n",
       "      <td>15297</td>\n",
       "      <td>13103</td>\n",
       "      <td>1.000000</td>\n",
       "      <td>10</td>\n",
       "      <td>Хороший доктор</td>\n",
       "    </tr>\n",
       "  </tbody>\n",
       "</table>\n",
       "</div>"
      ],
      "text/plain": [
       "    target_item_id  item_id     score  rank                              title\n",
       "0            13865    15648  1.000000     1                      Черное золото\n",
       "1            13865     3386  1.000000     2                            Спартак\n",
       "2            13865      147  0.891782     3                           Единичка\n",
       "3            13865    16194  0.891782     4                      Голубая линия\n",
       "4            13865    12309  0.891782     5                       Враг у ворот\n",
       "5            13865    12586  0.891782     6                     Вспоминая 1942\n",
       "6            13865     6661  0.891782     7                           Солдатик\n",
       "7            13865     2255  0.891782     8                            Пленный\n",
       "8            13865     3792  0.891782     9                            Собибор\n",
       "9            13865     4130  0.891782    10                            Пустота\n",
       "10            4457     5109  1.000000     1                      Время разлуки\n",
       "11            4457     8851  1.000000     2                               Лисы\n",
       "12            4457     8486  1.000000     3                      Мой создатель\n",
       "13            4457    12087  1.000000     4                 Молчаливое бегство\n",
       "14            4457     2313  1.000000     5                    Свет моей жизни\n",
       "15            4457    11977  1.000000     6                           Зоология\n",
       "16            4457     7928  1.000000     7                       Вечная жизнь\n",
       "17            4457     3384  1.000000     8                           Вивариум\n",
       "18            4457    11513  1.000000     9                             Любовь\n",
       "19            4457     6285  1.000000    10                Божественная любовь\n",
       "20           15297     8723  1.000000     1  Секс в другом городе: Поколение Q\n",
       "21           15297     5926  1.000000     2                           Пациенты\n",
       "22           15297     4131  1.000000     3       Учитель Ким, доктор Романтик\n",
       "23           15297     4229  1.000000     4                             Самара\n",
       "24           15297     7005  1.000000     5                       Чёрная кровь\n",
       "25           15297    10797  1.000000     6                         Наследники\n",
       "26           15297    10535  1.000000     7             Я могу уничтожить тебя\n",
       "27           15297     5400  1.000000     8                  Частица вселенной\n",
       "28           15297     4716  1.000000     9                      Мастера секса\n",
       "29           15297    13103  1.000000    10                     Хороший доктор"
      ]
     },
     "execution_count": 54,
     "metadata": {},
     "output_type": "execute_result"
    }
   ],
   "source": [
    "# TODO: change model for recos (here is the last one trained and is is the worst in quality)\n",
    "recos.merge(items[[\"item_id\", \"title\"]], on=\"item_id\")"
   ]
  },
  {
   "cell_type": "code",
   "execution_count": null,
   "metadata": {},
   "outputs": [],
   "source": []
  }
 ],
 "metadata": {
  "kernelspec": {
   "display_name": ".venv",
   "language": "python",
   "name": "python3"
  },
  "language_info": {
   "codemirror_mode": {
    "name": "ipython",
    "version": 3
   },
   "file_extension": ".py",
   "mimetype": "text/x-python",
   "name": "python",
   "nbconvert_exporter": "python",
   "pygments_lexer": "ipython3",
   "version": "3.8.2"
  }
 },
 "nbformat": 4,
 "nbformat_minor": 2
}
