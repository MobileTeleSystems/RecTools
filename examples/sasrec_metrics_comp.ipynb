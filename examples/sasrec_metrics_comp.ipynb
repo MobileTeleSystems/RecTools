{
 "cells": [
  {
   "cell_type": "code",
   "execution_count": 1,
   "metadata": {},
   "outputs": [],
   "source": [
    "import logging\n",
    "import os\n",
    "import threadpoolctl\n",
    "import torch\n",
    "from pathlib import Path\n",
    "from lightning_fabric import seed_everything\n",
    "\n",
    "import numpy as np\n",
    "import pandas as pd\n",
    "from rectools import Columns\n",
    "\n",
    "from implicit.als import AlternatingLeastSquares\n",
    "\n",
    "from rectools.dataset import Dataset\n",
    "from rectools.metrics import MAP, calc_metrics, MeanInvUserFreq, Serendipity\n",
    "from rectools.models import ImplicitALSWrapperModel\n",
    "from rectools.models import SASRecModel\n",
    "from rectools.models.nn.item_net import CatFeaturesItemNet, IdEmbeddingsItemNet"
   ]
  },
  {
   "cell_type": "code",
   "execution_count": 2,
   "metadata": {},
   "outputs": [],
   "source": [
    "os.environ[\"CUBLAS_WORKSPACE_CONFIG\"] = \":4096:8\"\n",
    "\n",
    "# For implicit ALS\n",
    "os.environ[\"OPENBLAS_NUM_THREADS\"] = \"1\"\n",
    "threadpoolctl.threadpool_limits(1, \"blas\")\n",
    "\n",
    "logging.basicConfig()\n",
    "logging.getLogger().setLevel(logging.INFO)\n",
    "logger = logging.getLogger()"
   ]
  },
  {
   "cell_type": "markdown",
   "metadata": {},
   "source": [
    "# Data"
   ]
  },
  {
   "cell_type": "code",
   "execution_count": 3,
   "metadata": {},
   "outputs": [],
   "source": [
    "# %%time\n",
    "# !wget -q https://github.com/irsafilo/KION_DATASET/raw/f69775be31fa5779907cf0a92ddedb70037fb5ae/data_original.zip -O data_original.zip\n",
    "# !unzip -o data_original.zip\n",
    "# !rm data_original.zip"
   ]
  },
  {
   "cell_type": "code",
   "execution_count": 4,
   "metadata": {},
   "outputs": [],
   "source": [
    "DATA_PATH = Path(\"data_original\")\n",
    "\n",
    "interactions = (\n",
    "    pd.read_csv(DATA_PATH / 'interactions.csv', parse_dates=[\"last_watch_dt\"])\n",
    "    .rename(columns={\"last_watch_dt\": \"datetime\"})\n",
    ")"
   ]
  },
  {
   "cell_type": "markdown",
   "metadata": {},
   "source": [
    "# Split dataset"
   ]
  },
  {
   "cell_type": "code",
   "execution_count": 5,
   "metadata": {},
   "outputs": [],
   "source": [
    "interactions[Columns.Weight] = np.where(interactions['watched_pct'] > 10, 3, 1)\n",
    "\n",
    "# Split to train / test\n",
    "max_date = interactions[Columns.Datetime].max()\n",
    "train = interactions[interactions[Columns.Datetime] < max_date - pd.Timedelta(days=7)].copy()\n",
    "test = interactions[interactions[Columns.Datetime] >= max_date - pd.Timedelta(days=7)].copy()\n",
    "train.drop(train.query(\"total_dur < 300\").index, inplace=True)\n",
    "\n",
    "# drop items with less than 20 interactions in train\n",
    "items = train[\"item_id\"].value_counts()\n",
    "items = items[items >= 20]\n",
    "items = items.index.to_list()\n",
    "train = train[train[\"item_id\"].isin(items)]\n",
    "    \n",
    "# drop users with less than 2 interactions in train\n",
    "users = train[\"user_id\"].value_counts()\n",
    "users = users[users >= 2]\n",
    "users = users.index.to_list()\n",
    "train = train[(train[\"user_id\"].isin(users))]\n",
    "\n",
    "users = train[\"user_id\"].drop_duplicates().to_list()\n",
    "\n",
    "# drop cold users from test\n",
    "test_users_sasrec = test[Columns.User].unique()\n",
    "cold_users = set(test[Columns.User]) - set(train[Columns.User])\n",
    "test.drop(test[test[Columns.User].isin(cold_users)].index, inplace=True)\n",
    "test_users = test[Columns.User].unique()\n"
   ]
  },
  {
   "cell_type": "code",
   "execution_count": 6,
   "metadata": {},
   "outputs": [],
   "source": [
    "items = pd.read_csv(DATA_PATH / 'items.csv')"
   ]
  },
  {
   "cell_type": "code",
   "execution_count": 7,
   "metadata": {},
   "outputs": [],
   "source": [
    "# Process item features to the form of a flatten dataframe\n",
    "items = items.loc[items[Columns.Item].isin(train[Columns.Item])].copy()\n",
    "items[\"genre\"] = items[\"genres\"].str.lower().str.replace(\", \", \",\", regex=False).str.split(\",\")\n",
    "genre_feature = items[[\"item_id\", \"genre\"]].explode(\"genre\")\n",
    "genre_feature.columns = [\"id\", \"value\"]\n",
    "genre_feature[\"feature\"] = \"genre\"\n",
    "content_feature = items.reindex(columns=[Columns.Item, \"content_type\"])\n",
    "content_feature.columns = [\"id\", \"value\"]\n",
    "content_feature[\"feature\"] = \"content_type\"\n",
    "item_features = pd.concat((genre_feature, content_feature))\n",
    "\n",
    "candidate_items = interactions['item_id'].drop_duplicates().astype(int)\n",
    "test[\"user_id\"] = test[\"user_id\"].astype(int)\n",
    "test[\"item_id\"] = test[\"item_id\"].astype(int)\n",
    "\n",
    "catalog=train[Columns.Item].unique()"
   ]
  },
  {
   "cell_type": "code",
   "execution_count": 8,
   "metadata": {},
   "outputs": [],
   "source": [
    "dataset_no_features = Dataset.construct(\n",
    "    interactions_df=train,\n",
    ")\n",
    "\n",
    "dataset_item_features = Dataset.construct(\n",
    "    interactions_df=train,\n",
    "    item_features_df=item_features,\n",
    "    cat_item_features=[\"genre\", \"content_type\"],\n",
    ")"
   ]
  },
  {
   "cell_type": "code",
   "execution_count": 9,
   "metadata": {},
   "outputs": [],
   "source": [
    "metrics_name = {\n",
    "    'MAP': MAP,\n",
    "    'MIUF': MeanInvUserFreq,\n",
    "    'Serendipity': Serendipity\n",
    "    \n",
    "\n",
    "}\n",
    "metrics = {}\n",
    "for metric_name, metric in metrics_name.items():\n",
    "    for k in (1, 5, 10):\n",
    "        metrics[f'{metric_name}@{k}'] = metric(k=k)\n",
    "\n",
    "# list with metrics results of all models\n",
    "features_results = []"
   ]
  },
  {
   "cell_type": "markdown",
   "metadata": {},
   "source": [
    "# SASRec"
   ]
  },
  {
   "cell_type": "code",
   "execution_count": 10,
   "metadata": {},
   "outputs": [
    {
     "name": "stderr",
     "output_type": "stream",
     "text": [
      "Seed set to 32\n"
     ]
    },
    {
     "data": {
      "text/plain": [
       "32"
      ]
     },
     "execution_count": 10,
     "metadata": {},
     "output_type": "execute_result"
    }
   ],
   "source": [
    "RANDOM_SEED = 32\n",
    "torch.use_deterministic_algorithms(True)\n",
    "seed_everything(RANDOM_SEED, workers=True)"
   ]
  },
  {
   "cell_type": "markdown",
   "metadata": {},
   "source": [
    "## Softmax loss"
   ]
  },
  {
   "cell_type": "code",
   "execution_count": 11,
   "metadata": {},
   "outputs": [
    {
     "name": "stderr",
     "output_type": "stream",
     "text": [
      "Trainer will use only 1 of 2 GPUs because it is running inside an interactive / notebook environment. You may try to set `Trainer(devices=2)` but please note that multi-GPU inside interactive / notebook environments is considered experimental and unstable. Your mileage may vary.\n",
      "GPU available: True (cuda), used: True\n",
      "TPU available: False, using: 0 TPU cores\n",
      "IPU available: False, using: 0 IPUs\n",
      "HPU available: False, using: 0 HPUs\n",
      "/data/home/dmtikhono1/git_project/RecTools/.venv/lib/python3.9/site-packages/pytorch_lightning/trainer/connectors/logger_connector/logger_connector.py:75: Starting from v1.9.0, `tensorboardX` has been removed as a dependency of the `pytorch_lightning` package, due to potential conflicts with other packages in the ML ecosystem. For this reason, `logger=True` will use `CSVLogger` as the default logger, unless the `tensorboard` or `tensorboardX` packages are found. Please `pip install lightning[extra]` or one of them to enable TensorBoard support by default\n"
     ]
    }
   ],
   "source": [
    "model = SASRecModel(\n",
    "    n_blocks=2,\n",
    "    session_max_len=32,\n",
    "    lr=1e-3,\n",
    "    epochs=5,\n",
    "    verbose=1,\n",
    "    deterministic=True,\n",
    "    item_net_block_types=(IdEmbeddingsItemNet, ),  # Use only item ids in ItemNetBlock\n",
    "    recommend_device=\"cuda\",\n",
    ")\n"
   ]
  },
  {
   "cell_type": "code",
   "execution_count": 12,
   "metadata": {},
   "outputs": [
    {
     "name": "stderr",
     "output_type": "stream",
     "text": [
      "LOCAL_RANK: 0 - CUDA_VISIBLE_DEVICES: [0,1]\n",
      "\n",
      "  | Name        | Type                           | Params\n",
      "---------------------------------------------------------------\n",
      "0 | torch_model | TransformerBasedSessionEncoder | 927 K \n",
      "---------------------------------------------------------------\n",
      "927 K     Trainable params\n",
      "0         Non-trainable params\n",
      "927 K     Total params\n",
      "3.709     Total estimated model params size (MB)\n",
      "/data/home/dmtikhono1/git_project/RecTools/.venv/lib/python3.9/site-packages/pytorch_lightning/trainer/connectors/data_connector.py:441: The 'train_dataloader' does not have many workers which may be a bottleneck. Consider increasing the value of the `num_workers` argument` to `num_workers=143` in the `DataLoader` to improve performance.\n"
     ]
    },
    {
     "data": {
      "application/vnd.jupyter.widget-view+json": {
       "model_id": "d220a4973f284dcc8e9662a08841f9bf",
       "version_major": 2,
       "version_minor": 0
      },
      "text/plain": [
       "Training: |          | 0/? [00:00<?, ?it/s]"
      ]
     },
     "metadata": {},
     "output_type": "display_data"
    },
    {
     "name": "stderr",
     "output_type": "stream",
     "text": [
      "`Trainer.fit` stopped: `max_epochs=5` reached.\n"
     ]
    },
    {
     "name": "stdout",
     "output_type": "stream",
     "text": [
      "CPU times: user 4min 48s, sys: 6.03 s, total: 4min 54s\n",
      "Wall time: 4min 44s\n"
     ]
    },
    {
     "data": {
      "text/plain": [
       "<rectools.models.nn.sasrec.SASRecModel at 0x7fbc7f375100>"
      ]
     },
     "execution_count": 12,
     "metadata": {},
     "output_type": "execute_result"
    }
   ],
   "source": [
    "%%time\n",
    "model.fit(dataset_no_features)"
   ]
  },
  {
   "cell_type": "code",
   "execution_count": 13,
   "metadata": {},
   "outputs": [
    {
     "name": "stderr",
     "output_type": "stream",
     "text": [
      "/data/home/dmtikhono1/git_project/RecTools/rectools/models/nn/transformer_data_preparator.py:250: UserWarning: 91202 target users were considered cold because of missing known items\n",
      "  warnings.warn(explanation)\n",
      "/data/home/dmtikhono1/git_project/RecTools/rectools/models/base.py:675: UserWarning: \n",
      "                Model `<class 'rectools.models.nn.sasrec.SASRecModel'>` doesn't support recommendations for cold users,\n",
      "                but some of given users are cold: they are not in the `dataset.user_id_map`\n",
      "            \n",
      "  warnings.warn(explanation)\n",
      "GPU available: True (cuda), used: True\n",
      "TPU available: False, using: 0 TPU cores\n",
      "IPU available: False, using: 0 IPUs\n",
      "HPU available: False, using: 0 HPUs\n",
      "LOCAL_RANK: 0 - CUDA_VISIBLE_DEVICES: [0,1]\n",
      "/data/home/dmtikhono1/git_project/RecTools/.venv/lib/python3.9/site-packages/pytorch_lightning/trainer/connectors/data_connector.py:441: The 'predict_dataloader' does not have many workers which may be a bottleneck. Consider increasing the value of the `num_workers` argument` to `num_workers=143` in the `DataLoader` to improve performance.\n"
     ]
    },
    {
     "data": {
      "application/vnd.jupyter.widget-view+json": {
       "model_id": "8ec2eb7d52624be3aeb84dd8e9be31ce",
       "version_major": 2,
       "version_minor": 0
      },
      "text/plain": [
       "Predicting: |          | 0/? [00:00<?, ?it/s]"
      ]
     },
     "metadata": {},
     "output_type": "display_data"
    },
    {
     "name": "stdout",
     "output_type": "stream",
     "text": [
      "CPU times: user 26.5 s, sys: 4.86 s, total: 31.4 s\n",
      "Wall time: 20.5 s\n"
     ]
    }
   ],
   "source": [
    "%%time\n",
    "recos = model.recommend(\n",
    "    users=test_users_sasrec, \n",
    "    dataset=dataset_no_features,\n",
    "    k=10,\n",
    "    filter_viewed=True,\n",
    "    on_unsupported_targets=\"warn\"\n",
    ")"
   ]
  },
  {
   "cell_type": "code",
   "execution_count": 14,
   "metadata": {},
   "outputs": [],
   "source": [
    "metric_values = calc_metrics(metrics, recos[[\"user_id\", \"item_id\", \"rank\"]], test, train, catalog)\n",
    "metric_values[\"model\"] = \"softmax\"\n",
    "features_results.append(metric_values)\n"
   ]
  },
  {
   "cell_type": "code",
   "execution_count": 15,
   "metadata": {},
   "outputs": [
    {
     "data": {
      "text/plain": [
       "[{'MAP@1': 0.04896729054820606,\n",
       "  'MAP@5': 0.08284725776567772,\n",
       "  'MAP@10': 0.09202214080523476,\n",
       "  'MIUF@1': 3.6266752335962402,\n",
       "  'MIUF@5': 4.305321882464318,\n",
       "  'MIUF@10': 4.9095189017166145,\n",
       "  'Serendipity@1': 0.0009307664840571675,\n",
       "  'Serendipity@5': 0.0007294075536337563,\n",
       "  'Serendipity@10': 0.0006691606986540919,\n",
       "  'model': 'softmax'}]"
      ]
     },
     "execution_count": 15,
     "metadata": {},
     "output_type": "execute_result"
    }
   ],
   "source": [
    "features_results"
   ]
  },
  {
   "cell_type": "markdown",
   "metadata": {},
   "source": [
    "## BCE loss"
   ]
  },
  {
   "cell_type": "code",
   "execution_count": 16,
   "metadata": {},
   "outputs": [
    {
     "name": "stderr",
     "output_type": "stream",
     "text": [
      "Seed set to 32\n"
     ]
    },
    {
     "data": {
      "text/plain": [
       "32"
      ]
     },
     "execution_count": 16,
     "metadata": {},
     "output_type": "execute_result"
    }
   ],
   "source": [
    "RANDOM_SEED = 32\n",
    "torch.use_deterministic_algorithms(True)\n",
    "seed_everything(RANDOM_SEED, workers=True)"
   ]
  },
  {
   "cell_type": "code",
   "execution_count": 17,
   "metadata": {},
   "outputs": [
    {
     "name": "stderr",
     "output_type": "stream",
     "text": [
      "Trainer will use only 1 of 2 GPUs because it is running inside an interactive / notebook environment. You may try to set `Trainer(devices=2)` but please note that multi-GPU inside interactive / notebook environments is considered experimental and unstable. Your mileage may vary.\n",
      "GPU available: True (cuda), used: True\n",
      "TPU available: False, using: 0 TPU cores\n",
      "IPU available: False, using: 0 IPUs\n",
      "HPU available: False, using: 0 HPUs\n"
     ]
    }
   ],
   "source": [
    "model = SASRecModel(\n",
    "    n_blocks=2,\n",
    "    session_max_len=32,\n",
    "    lr=1e-3,\n",
    "    epochs=5,\n",
    "    verbose=1,\n",
    "    deterministic=True,\n",
    "    loss=\"BCE\",\n",
    "    item_net_block_types=(IdEmbeddingsItemNet, )  # Use only item ids in ItemNetBlock\n",
    ")\n"
   ]
  },
  {
   "cell_type": "code",
   "execution_count": 18,
   "metadata": {},
   "outputs": [
    {
     "name": "stderr",
     "output_type": "stream",
     "text": [
      "LOCAL_RANK: 0 - CUDA_VISIBLE_DEVICES: [0,1]\n",
      "\n",
      "  | Name        | Type                           | Params\n",
      "---------------------------------------------------------------\n",
      "0 | torch_model | TransformerBasedSessionEncoder | 927 K \n",
      "---------------------------------------------------------------\n",
      "927 K     Trainable params\n",
      "0         Non-trainable params\n",
      "927 K     Total params\n",
      "3.709     Total estimated model params size (MB)\n",
      "/data/home/dmtikhono1/git_project/RecTools/.venv/lib/python3.9/site-packages/pytorch_lightning/trainer/connectors/data_connector.py:441: The 'train_dataloader' does not have many workers which may be a bottleneck. Consider increasing the value of the `num_workers` argument` to `num_workers=143` in the `DataLoader` to improve performance.\n"
     ]
    },
    {
     "data": {
      "application/vnd.jupyter.widget-view+json": {
       "model_id": "4ce2dba59c4b41a09175ecb6e63a131c",
       "version_major": 2,
       "version_minor": 0
      },
      "text/plain": [
       "Training: |          | 0/? [00:00<?, ?it/s]"
      ]
     },
     "metadata": {},
     "output_type": "display_data"
    },
    {
     "name": "stderr",
     "output_type": "stream",
     "text": [
      "`Trainer.fit` stopped: `max_epochs=5` reached.\n"
     ]
    },
    {
     "name": "stdout",
     "output_type": "stream",
     "text": [
      "CPU times: user 4min 53s, sys: 6.57 s, total: 5min\n",
      "Wall time: 4min 51s\n"
     ]
    },
    {
     "data": {
      "text/plain": [
       "<rectools.models.nn.sasrec.SASRecModel at 0x7fbc7a2d6940>"
      ]
     },
     "execution_count": 18,
     "metadata": {},
     "output_type": "execute_result"
    }
   ],
   "source": [
    "%%time\n",
    "model.fit(dataset_no_features)"
   ]
  },
  {
   "cell_type": "code",
   "execution_count": 19,
   "metadata": {},
   "outputs": [
    {
     "name": "stderr",
     "output_type": "stream",
     "text": [
      "/data/home/dmtikhono1/git_project/RecTools/rectools/models/nn/transformer_data_preparator.py:250: UserWarning: 91202 target users were considered cold because of missing known items\n",
      "  warnings.warn(explanation)\n",
      "/data/home/dmtikhono1/git_project/RecTools/rectools/models/base.py:675: UserWarning: \n",
      "                Model `<class 'rectools.models.nn.sasrec.SASRecModel'>` doesn't support recommendations for cold users,\n",
      "                but some of given users are cold: they are not in the `dataset.user_id_map`\n",
      "            \n",
      "  warnings.warn(explanation)\n",
      "GPU available: True (cuda), used: True\n",
      "TPU available: False, using: 0 TPU cores\n",
      "IPU available: False, using: 0 IPUs\n",
      "HPU available: False, using: 0 HPUs\n",
      "LOCAL_RANK: 0 - CUDA_VISIBLE_DEVICES: [0,1]\n",
      "/data/home/dmtikhono1/git_project/RecTools/.venv/lib/python3.9/site-packages/pytorch_lightning/trainer/connectors/data_connector.py:441: The 'predict_dataloader' does not have many workers which may be a bottleneck. Consider increasing the value of the `num_workers` argument` to `num_workers=143` in the `DataLoader` to improve performance.\n"
     ]
    },
    {
     "data": {
      "application/vnd.jupyter.widget-view+json": {
       "model_id": "c613ad57ee2b4f7bb4d6b0ce2903f791",
       "version_major": 2,
       "version_minor": 0
      },
      "text/plain": [
       "Predicting: |          | 0/? [00:00<?, ?it/s]"
      ]
     },
     "metadata": {},
     "output_type": "display_data"
    },
    {
     "name": "stdout",
     "output_type": "stream",
     "text": [
      "CPU times: user 26.5 s, sys: 4.68 s, total: 31.1 s\n",
      "Wall time: 20.5 s\n"
     ]
    }
   ],
   "source": [
    "%%time\n",
    "recos = model.recommend(\n",
    "    users=test_users_sasrec, \n",
    "    dataset=dataset_no_features,\n",
    "    k=10,\n",
    "    filter_viewed=True,\n",
    "    on_unsupported_targets=\"warn\",\n",
    ")"
   ]
  },
  {
   "cell_type": "code",
   "execution_count": 20,
   "metadata": {},
   "outputs": [],
   "source": [
    "metric_values = calc_metrics(metrics, recos[[\"user_id\", \"item_id\", \"rank\"]], test, train, catalog)\n",
    "metric_values[\"model\"] = \"bce\"\n",
    "features_results.append(metric_values)"
   ]
  },
  {
   "cell_type": "markdown",
   "metadata": {},
   "source": [
    "## gBCE loss"
   ]
  },
  {
   "cell_type": "code",
   "execution_count": 21,
   "metadata": {},
   "outputs": [
    {
     "name": "stderr",
     "output_type": "stream",
     "text": [
      "Seed set to 32\n"
     ]
    },
    {
     "data": {
      "text/plain": [
       "32"
      ]
     },
     "execution_count": 21,
     "metadata": {},
     "output_type": "execute_result"
    }
   ],
   "source": [
    "RANDOM_SEED = 32\n",
    "torch.use_deterministic_algorithms(True)\n",
    "seed_everything(RANDOM_SEED, workers=True)"
   ]
  },
  {
   "cell_type": "code",
   "execution_count": 22,
   "metadata": {},
   "outputs": [
    {
     "name": "stderr",
     "output_type": "stream",
     "text": [
      "Trainer will use only 1 of 2 GPUs because it is running inside an interactive / notebook environment. You may try to set `Trainer(devices=2)` but please note that multi-GPU inside interactive / notebook environments is considered experimental and unstable. Your mileage may vary.\n",
      "GPU available: True (cuda), used: True\n",
      "TPU available: False, using: 0 TPU cores\n",
      "IPU available: False, using: 0 IPUs\n",
      "HPU available: False, using: 0 HPUs\n"
     ]
    }
   ],
   "source": [
    "model = SASRecModel(\n",
    "    n_blocks=2,\n",
    "    session_max_len=32,\n",
    "    lr=1e-3,\n",
    "    epochs=5,\n",
    "    verbose=1,\n",
    "    deterministic=True,\n",
    "    loss=\"gBCE\",\n",
    "    n_negatives=256,\n",
    "    gbce_t=0.75,\n",
    "    item_net_block_types=(IdEmbeddingsItemNet, )  # Use only item ids in ItemNetBlock\n",
    ")"
   ]
  },
  {
   "cell_type": "code",
   "execution_count": 23,
   "metadata": {},
   "outputs": [
    {
     "name": "stderr",
     "output_type": "stream",
     "text": [
      "LOCAL_RANK: 0 - CUDA_VISIBLE_DEVICES: [0,1]\n",
      "\n",
      "  | Name        | Type                           | Params\n",
      "---------------------------------------------------------------\n",
      "0 | torch_model | TransformerBasedSessionEncoder | 927 K \n",
      "---------------------------------------------------------------\n",
      "927 K     Trainable params\n",
      "0         Non-trainable params\n",
      "927 K     Total params\n",
      "3.709     Total estimated model params size (MB)\n",
      "/data/home/dmtikhono1/git_project/RecTools/.venv/lib/python3.9/site-packages/pytorch_lightning/trainer/connectors/data_connector.py:441: The 'train_dataloader' does not have many workers which may be a bottleneck. Consider increasing the value of the `num_workers` argument` to `num_workers=143` in the `DataLoader` to improve performance.\n"
     ]
    },
    {
     "data": {
      "application/vnd.jupyter.widget-view+json": {
       "model_id": "99656884737241fda17ad4862e9407e4",
       "version_major": 2,
       "version_minor": 0
      },
      "text/plain": [
       "Training: |          | 0/? [00:00<?, ?it/s]"
      ]
     },
     "metadata": {},
     "output_type": "display_data"
    },
    {
     "name": "stderr",
     "output_type": "stream",
     "text": [
      "`Trainer.fit` stopped: `max_epochs=5` reached.\n"
     ]
    },
    {
     "name": "stdout",
     "output_type": "stream",
     "text": [
      "CPU times: user 1h 59min 3s, sys: 27.5 s, total: 1h 59min 30s\n",
      "Wall time: 9min 25s\n"
     ]
    },
    {
     "data": {
      "text/plain": [
       "<rectools.models.nn.sasrec.SASRecModel at 0x7fbba55e4d90>"
      ]
     },
     "execution_count": 23,
     "metadata": {},
     "output_type": "execute_result"
    }
   ],
   "source": [
    "%%time\n",
    "model.fit(dataset_no_features)"
   ]
  },
  {
   "cell_type": "code",
   "execution_count": 24,
   "metadata": {},
   "outputs": [
    {
     "name": "stderr",
     "output_type": "stream",
     "text": [
      "/data/home/dmtikhono1/git_project/RecTools/rectools/models/nn/transformer_data_preparator.py:250: UserWarning: 91202 target users were considered cold because of missing known items\n",
      "  warnings.warn(explanation)\n",
      "/data/home/dmtikhono1/git_project/RecTools/rectools/models/base.py:675: UserWarning: \n",
      "                Model `<class 'rectools.models.nn.sasrec.SASRecModel'>` doesn't support recommendations for cold users,\n",
      "                but some of given users are cold: they are not in the `dataset.user_id_map`\n",
      "            \n",
      "  warnings.warn(explanation)\n",
      "GPU available: True (cuda), used: True\n",
      "TPU available: False, using: 0 TPU cores\n",
      "IPU available: False, using: 0 IPUs\n",
      "HPU available: False, using: 0 HPUs\n",
      "LOCAL_RANK: 0 - CUDA_VISIBLE_DEVICES: [0,1]\n",
      "/data/home/dmtikhono1/git_project/RecTools/.venv/lib/python3.9/site-packages/pytorch_lightning/trainer/connectors/data_connector.py:441: The 'predict_dataloader' does not have many workers which may be a bottleneck. Consider increasing the value of the `num_workers` argument` to `num_workers=143` in the `DataLoader` to improve performance.\n"
     ]
    },
    {
     "data": {
      "application/vnd.jupyter.widget-view+json": {
       "model_id": "770c35af9f4b4bb4b671e84565375491",
       "version_major": 2,
       "version_minor": 0
      },
      "text/plain": [
       "Predicting: |          | 0/? [00:00<?, ?it/s]"
      ]
     },
     "metadata": {},
     "output_type": "display_data"
    },
    {
     "name": "stdout",
     "output_type": "stream",
     "text": [
      "CPU times: user 28.6 s, sys: 5.07 s, total: 33.7 s\n",
      "Wall time: 20.7 s\n"
     ]
    }
   ],
   "source": [
    "%%time\n",
    "recos = model.recommend(\n",
    "    users=test_users_sasrec, \n",
    "    dataset=dataset_no_features,\n",
    "    k=10,\n",
    "    filter_viewed=True,\n",
    "    on_unsupported_targets=\"warn\"\n",
    ")\n"
   ]
  },
  {
   "cell_type": "code",
   "execution_count": 25,
   "metadata": {},
   "outputs": [],
   "source": [
    "metric_values = calc_metrics(metrics, recos[[\"user_id\", \"item_id\", \"rank\"]], test, train, catalog)\n",
    "metric_values[\"model\"] = \"gBCE\"\n",
    "features_results.append(metric_values)"
   ]
  },
  {
   "cell_type": "code",
   "execution_count": null,
   "metadata": {},
   "outputs": [],
   "source": []
  },
  {
   "cell_type": "markdown",
   "metadata": {},
   "source": [
    "## Softmax with key_padding_mask + causal_mask"
   ]
  },
  {
   "cell_type": "code",
   "execution_count": 26,
   "metadata": {},
   "outputs": [
    {
     "name": "stderr",
     "output_type": "stream",
     "text": [
      "Trainer will use only 1 of 2 GPUs because it is running inside an interactive / notebook environment. You may try to set `Trainer(devices=2)` but please note that multi-GPU inside interactive / notebook environments is considered experimental and unstable. Your mileage may vary.\n",
      "GPU available: True (cuda), used: True\n",
      "TPU available: False, using: 0 TPU cores\n",
      "IPU available: False, using: 0 IPUs\n",
      "HPU available: False, using: 0 HPUs\n"
     ]
    }
   ],
   "source": [
    "model = SASRecModel(\n",
    "    n_blocks=2,\n",
    "    session_max_len=32,\n",
    "    lr=1e-3,\n",
    "    epochs=5,\n",
    "    verbose=1,\n",
    "    deterministic=True,\n",
    "    item_net_block_types=(IdEmbeddingsItemNet, ),  # Use only item ids in ItemNetBlock\n",
    "    recommend_device=\"cuda\",\n",
    "    use_key_padding_mask=True,\n",
    ")\n"
   ]
  },
  {
   "cell_type": "code",
   "execution_count": 27,
   "metadata": {},
   "outputs": [
    {
     "name": "stderr",
     "output_type": "stream",
     "text": [
      "LOCAL_RANK: 0 - CUDA_VISIBLE_DEVICES: [0,1]\n",
      "\n",
      "  | Name        | Type                           | Params\n",
      "---------------------------------------------------------------\n",
      "0 | torch_model | TransformerBasedSessionEncoder | 927 K \n",
      "---------------------------------------------------------------\n",
      "927 K     Trainable params\n",
      "0         Non-trainable params\n",
      "927 K     Total params\n",
      "3.709     Total estimated model params size (MB)\n",
      "/data/home/dmtikhono1/git_project/RecTools/.venv/lib/python3.9/site-packages/pytorch_lightning/trainer/connectors/data_connector.py:441: The 'train_dataloader' does not have many workers which may be a bottleneck. Consider increasing the value of the `num_workers` argument` to `num_workers=143` in the `DataLoader` to improve performance.\n"
     ]
    },
    {
     "data": {
      "application/vnd.jupyter.widget-view+json": {
       "model_id": "4328fa1cadba4664b576e2bd2a4359fa",
       "version_major": 2,
       "version_minor": 0
      },
      "text/plain": [
       "Training: |          | 0/? [00:00<?, ?it/s]"
      ]
     },
     "metadata": {},
     "output_type": "display_data"
    },
    {
     "name": "stderr",
     "output_type": "stream",
     "text": [
      "`Trainer.fit` stopped: `max_epochs=5` reached.\n"
     ]
    },
    {
     "name": "stdout",
     "output_type": "stream",
     "text": [
      "CPU times: user 4min 49s, sys: 8 s, total: 4min 57s\n",
      "Wall time: 4min 46s\n"
     ]
    },
    {
     "data": {
      "text/plain": [
       "<rectools.models.nn.sasrec.SASRecModel at 0x7fbba509bd00>"
      ]
     },
     "execution_count": 27,
     "metadata": {},
     "output_type": "execute_result"
    }
   ],
   "source": [
    "%%time\n",
    "model.fit(dataset_no_features)"
   ]
  },
  {
   "cell_type": "code",
   "execution_count": 28,
   "metadata": {},
   "outputs": [
    {
     "name": "stderr",
     "output_type": "stream",
     "text": [
      "/data/home/dmtikhono1/git_project/RecTools/rectools/models/nn/transformer_data_preparator.py:250: UserWarning: 91202 target users were considered cold because of missing known items\n",
      "  warnings.warn(explanation)\n",
      "/data/home/dmtikhono1/git_project/RecTools/rectools/models/base.py:675: UserWarning: \n",
      "                Model `<class 'rectools.models.nn.sasrec.SASRecModel'>` doesn't support recommendations for cold users,\n",
      "                but some of given users are cold: they are not in the `dataset.user_id_map`\n",
      "            \n",
      "  warnings.warn(explanation)\n",
      "GPU available: True (cuda), used: True\n",
      "TPU available: False, using: 0 TPU cores\n",
      "IPU available: False, using: 0 IPUs\n",
      "HPU available: False, using: 0 HPUs\n",
      "LOCAL_RANK: 0 - CUDA_VISIBLE_DEVICES: [0,1]\n",
      "/data/home/dmtikhono1/git_project/RecTools/.venv/lib/python3.9/site-packages/pytorch_lightning/trainer/connectors/data_connector.py:441: The 'predict_dataloader' does not have many workers which may be a bottleneck. Consider increasing the value of the `num_workers` argument` to `num_workers=143` in the `DataLoader` to improve performance.\n"
     ]
    },
    {
     "data": {
      "application/vnd.jupyter.widget-view+json": {
       "model_id": "8ce7339eb5454d37b5e5f4490c1a0183",
       "version_major": 2,
       "version_minor": 0
      },
      "text/plain": [
       "Predicting: |          | 0/? [00:00<?, ?it/s]"
      ]
     },
     "metadata": {},
     "output_type": "display_data"
    },
    {
     "name": "stdout",
     "output_type": "stream",
     "text": [
      "CPU times: user 26.2 s, sys: 4.67 s, total: 30.9 s\n",
      "Wall time: 20.2 s\n"
     ]
    }
   ],
   "source": [
    "%%time\n",
    "recos = model.recommend(\n",
    "    users=test_users_sasrec, \n",
    "    dataset=dataset_no_features,\n",
    "    k=10,\n",
    "    filter_viewed=True,\n",
    "    on_unsupported_targets=\"warn\"\n",
    ")"
   ]
  },
  {
   "cell_type": "code",
   "execution_count": 29,
   "metadata": {},
   "outputs": [],
   "source": [
    "metric_values = calc_metrics(metrics, recos[[\"user_id\", \"item_id\", \"rank\"]], test, train, catalog)"
   ]
  },
  {
   "cell_type": "code",
   "execution_count": 30,
   "metadata": {},
   "outputs": [],
   "source": [
    "metric_values[\"model\"] = \"softmax_padding_mask\"\n",
    "features_results.append(metric_values)"
   ]
  },
  {
   "cell_type": "code",
   "execution_count": null,
   "metadata": {},
   "outputs": [],
   "source": []
  },
  {
   "cell_type": "code",
   "execution_count": 31,
   "metadata": {},
   "outputs": [
    {
     "data": {
      "text/html": [
       "<div>\n",
       "<style scoped>\n",
       "    .dataframe tbody tr th:only-of-type {\n",
       "        vertical-align: middle;\n",
       "    }\n",
       "\n",
       "    .dataframe tbody tr th {\n",
       "        vertical-align: top;\n",
       "    }\n",
       "\n",
       "    .dataframe thead th {\n",
       "        text-align: right;\n",
       "    }\n",
       "</style>\n",
       "<table border=\"1\" class=\"dataframe\">\n",
       "  <thead>\n",
       "    <tr style=\"text-align: right;\">\n",
       "      <th></th>\n",
       "      <th>MAP@1</th>\n",
       "      <th>MAP@5</th>\n",
       "      <th>MAP@10</th>\n",
       "      <th>MIUF@1</th>\n",
       "      <th>MIUF@5</th>\n",
       "      <th>MIUF@10</th>\n",
       "      <th>Serendipity@1</th>\n",
       "      <th>Serendipity@5</th>\n",
       "      <th>Serendipity@10</th>\n",
       "    </tr>\n",
       "    <tr>\n",
       "      <th>model</th>\n",
       "      <th></th>\n",
       "      <th></th>\n",
       "      <th></th>\n",
       "      <th></th>\n",
       "      <th></th>\n",
       "      <th></th>\n",
       "      <th></th>\n",
       "      <th></th>\n",
       "      <th></th>\n",
       "    </tr>\n",
       "  </thead>\n",
       "  <tbody>\n",
       "    <tr>\n",
       "      <th>softmax</th>\n",
       "      <td>0.048967</td>\n",
       "      <td>0.082847</td>\n",
       "      <td>0.092022</td>\n",
       "      <td>3.626675</td>\n",
       "      <td>4.305322</td>\n",
       "      <td>4.909519</td>\n",
       "      <td>0.000931</td>\n",
       "      <td>0.000729</td>\n",
       "      <td>0.000669</td>\n",
       "    </tr>\n",
       "    <tr>\n",
       "      <th>softmax_padding_mask</th>\n",
       "      <td>0.046881</td>\n",
       "      <td>0.080974</td>\n",
       "      <td>0.090133</td>\n",
       "      <td>3.661533</td>\n",
       "      <td>4.169721</td>\n",
       "      <td>4.791547</td>\n",
       "      <td>0.000869</td>\n",
       "      <td>0.000667</td>\n",
       "      <td>0.000614</td>\n",
       "    </tr>\n",
       "    <tr>\n",
       "      <th>gBCE</th>\n",
       "      <td>0.047546</td>\n",
       "      <td>0.081190</td>\n",
       "      <td>0.089990</td>\n",
       "      <td>3.389033</td>\n",
       "      <td>3.982107</td>\n",
       "      <td>4.670658</td>\n",
       "      <td>0.000666</td>\n",
       "      <td>0.000544</td>\n",
       "      <td>0.000521</td>\n",
       "    </tr>\n",
       "    <tr>\n",
       "      <th>bce</th>\n",
       "      <td>0.043528</td>\n",
       "      <td>0.074286</td>\n",
       "      <td>0.083131</td>\n",
       "      <td>3.677649</td>\n",
       "      <td>4.437024</td>\n",
       "      <td>4.988751</td>\n",
       "      <td>0.000480</td>\n",
       "      <td>0.000509</td>\n",
       "      <td>0.000531</td>\n",
       "    </tr>\n",
       "  </tbody>\n",
       "</table>\n",
       "</div>"
      ],
      "text/plain": [
       "                         MAP@1     MAP@5    MAP@10    MIUF@1    MIUF@5  \\\n",
       "model                                                                    \n",
       "softmax               0.048967  0.082847  0.092022  3.626675  4.305322   \n",
       "softmax_padding_mask  0.046881  0.080974  0.090133  3.661533  4.169721   \n",
       "gBCE                  0.047546  0.081190  0.089990  3.389033  3.982107   \n",
       "bce                   0.043528  0.074286  0.083131  3.677649  4.437024   \n",
       "\n",
       "                       MIUF@10  Serendipity@1  Serendipity@5  Serendipity@10  \n",
       "model                                                                         \n",
       "softmax               4.909519       0.000931       0.000729        0.000669  \n",
       "softmax_padding_mask  4.791547       0.000869       0.000667        0.000614  \n",
       "gBCE                  4.670658       0.000666       0.000544        0.000521  \n",
       "bce                   4.988751       0.000480       0.000509        0.000531  "
      ]
     },
     "execution_count": 31,
     "metadata": {},
     "output_type": "execute_result"
    }
   ],
   "source": [
    "features_df = (\n",
    "    pd.DataFrame(features_results)\n",
    "    .set_index(\"model\")\n",
    "    .sort_values(by=[\"MAP@10\", \"Serendipity@10\"], ascending=False)\n",
    ")\n",
    "features_df"
   ]
  },
  {
   "cell_type": "code",
   "execution_count": 32,
   "metadata": {},
   "outputs": [],
   "source": [
    "torch.cuda.empty_cache()"
   ]
  },
  {
   "cell_type": "markdown",
   "metadata": {},
   "source": [
    "### sasrec with item ids embeddings in ItemNetBlock"
   ]
  },
  {
   "cell_type": "code",
   "execution_count": 33,
   "metadata": {},
   "outputs": [
    {
     "name": "stderr",
     "output_type": "stream",
     "text": [
      "Trainer will use only 1 of 2 GPUs because it is running inside an interactive / notebook environment. You may try to set `Trainer(devices=2)` but please note that multi-GPU inside interactive / notebook environments is considered experimental and unstable. Your mileage may vary.\n",
      "GPU available: True (cuda), used: True\n",
      "TPU available: False, using: 0 TPU cores\n",
      "IPU available: False, using: 0 IPUs\n",
      "HPU available: False, using: 0 HPUs\n"
     ]
    }
   ],
   "source": [
    "model = SASRecModel(\n",
    "    n_blocks=2,\n",
    "    session_max_len=32,\n",
    "    lr=1e-3,\n",
    "    epochs=5,\n",
    "    verbose=1,\n",
    "    deterministic=True,\n",
    "    item_net_block_types=(IdEmbeddingsItemNet, )  # Use only item ids in ItemNetBlock\n",
    ")"
   ]
  },
  {
   "cell_type": "code",
   "execution_count": 34,
   "metadata": {},
   "outputs": [
    {
     "name": "stderr",
     "output_type": "stream",
     "text": [
      "LOCAL_RANK: 0 - CUDA_VISIBLE_DEVICES: [0,1]\n",
      "\n",
      "  | Name        | Type                           | Params\n",
      "---------------------------------------------------------------\n",
      "0 | torch_model | TransformerBasedSessionEncoder | 927 K \n",
      "---------------------------------------------------------------\n",
      "927 K     Trainable params\n",
      "0         Non-trainable params\n",
      "927 K     Total params\n",
      "3.709     Total estimated model params size (MB)\n",
      "/data/home/dmtikhono1/git_project/RecTools/.venv/lib/python3.9/site-packages/pytorch_lightning/trainer/connectors/data_connector.py:441: The 'train_dataloader' does not have many workers which may be a bottleneck. Consider increasing the value of the `num_workers` argument` to `num_workers=143` in the `DataLoader` to improve performance.\n"
     ]
    },
    {
     "data": {
      "application/vnd.jupyter.widget-view+json": {
       "model_id": "73bbccd352454cef98ad57983d244192",
       "version_major": 2,
       "version_minor": 0
      },
      "text/plain": [
       "Training: |          | 0/? [00:00<?, ?it/s]"
      ]
     },
     "metadata": {},
     "output_type": "display_data"
    },
    {
     "name": "stderr",
     "output_type": "stream",
     "text": [
      "`Trainer.fit` stopped: `max_epochs=5` reached.\n"
     ]
    },
    {
     "name": "stdout",
     "output_type": "stream",
     "text": [
      "CPU times: user 4min 54s, sys: 7.35 s, total: 5min 1s\n",
      "Wall time: 4min 51s\n"
     ]
    },
    {
     "data": {
      "text/plain": [
       "<rectools.models.nn.sasrec.SASRecModel at 0x7fbac9af2250>"
      ]
     },
     "execution_count": 34,
     "metadata": {},
     "output_type": "execute_result"
    }
   ],
   "source": [
    "%%time\n",
    "model.fit(dataset_no_features)"
   ]
  },
  {
   "cell_type": "code",
   "execution_count": 35,
   "metadata": {},
   "outputs": [
    {
     "name": "stderr",
     "output_type": "stream",
     "text": [
      "/data/home/dmtikhono1/git_project/RecTools/rectools/models/nn/transformer_data_preparator.py:250: UserWarning: 91202 target users were considered cold because of missing known items\n",
      "  warnings.warn(explanation)\n",
      "/data/home/dmtikhono1/git_project/RecTools/rectools/models/base.py:675: UserWarning: \n",
      "                Model `<class 'rectools.models.nn.sasrec.SASRecModel'>` doesn't support recommendations for cold users,\n",
      "                but some of given users are cold: they are not in the `dataset.user_id_map`\n",
      "            \n",
      "  warnings.warn(explanation)\n",
      "GPU available: True (cuda), used: True\n",
      "TPU available: False, using: 0 TPU cores\n",
      "IPU available: False, using: 0 IPUs\n",
      "HPU available: False, using: 0 HPUs\n",
      "LOCAL_RANK: 0 - CUDA_VISIBLE_DEVICES: [0,1]\n",
      "/data/home/dmtikhono1/git_project/RecTools/.venv/lib/python3.9/site-packages/pytorch_lightning/trainer/connectors/data_connector.py:441: The 'predict_dataloader' does not have many workers which may be a bottleneck. Consider increasing the value of the `num_workers` argument` to `num_workers=143` in the `DataLoader` to improve performance.\n"
     ]
    },
    {
     "data": {
      "application/vnd.jupyter.widget-view+json": {
       "model_id": "9ea1b4e47dcc4321afd4c0bde40fc549",
       "version_major": 2,
       "version_minor": 0
      },
      "text/plain": [
       "Predicting: |          | 0/? [00:00<?, ?it/s]"
      ]
     },
     "metadata": {},
     "output_type": "display_data"
    },
    {
     "name": "stdout",
     "output_type": "stream",
     "text": [
      "CPU times: user 28.1 s, sys: 4.99 s, total: 33.1 s\n",
      "Wall time: 21.5 s\n"
     ]
    }
   ],
   "source": [
    "%%time\n",
    "recos = model.recommend(\n",
    "    users=test_users_sasrec, \n",
    "    dataset=dataset_no_features,\n",
    "    k=10,\n",
    "    filter_viewed=True,\n",
    "    on_unsupported_targets=\"warn\"\n",
    ")"
   ]
  },
  {
   "cell_type": "code",
   "execution_count": 36,
   "metadata": {},
   "outputs": [],
   "source": [
    "# TODO: drop `apply(str)`\n",
    "recos[\"item_id\"] = recos[\"item_id\"].apply(str)\n",
    "test[\"item_id\"] = test[\"item_id\"].astype(str)\n",
    "metric_values = calc_metrics(metrics, recos[[\"user_id\", \"item_id\", \"rank\"]], test, train, catalog)\n",
    "metric_values[\"model\"] = \"sasrec_ids\"\n",
    "features_results.append(metric_values)"
   ]
  },
  {
   "cell_type": "markdown",
   "metadata": {},
   "source": [
    "### sasrec with item ids and category features embeddings in ItemNetBlock"
   ]
  },
  {
   "cell_type": "markdown",
   "metadata": {},
   "source": [
    "model = SASRecModel(\n",
    "    n_blocks=2,\n",
    "    session_max_len=32,\n",
    "    lr=1e-3,\n",
    "    epochs=5,\n",
    "    verbose=1,\n",
    "    deterministic=True,\n",
    "    item_net_block_types=(IdEmbeddingsItemNet, CatFeaturesItemNet)  # Use item ids and cat features in ItemNetBlock\n",
    ")"
   ]
  },
  {
   "cell_type": "code",
   "execution_count": 39,
   "metadata": {},
   "outputs": [
    {
     "name": "stderr",
     "output_type": "stream",
     "text": [
      "LOCAL_RANK: 0 - CUDA_VISIBLE_DEVICES: [0,1]\n",
      "\n",
      "  | Name        | Type                           | Params\n",
      "---------------------------------------------------------------\n",
      "0 | torch_model | TransformerBasedSessionEncoder | 927 K \n",
      "---------------------------------------------------------------\n",
      "927 K     Trainable params\n",
      "0         Non-trainable params\n",
      "927 K     Total params\n",
      "3.709     Total estimated model params size (MB)\n",
      "/data/home/dmtikhono1/git_project/RecTools/.venv/lib/python3.9/site-packages/pytorch_lightning/trainer/connectors/data_connector.py:441: The 'train_dataloader' does not have many workers which may be a bottleneck. Consider increasing the value of the `num_workers` argument` to `num_workers=143` in the `DataLoader` to improve performance.\n"
     ]
    },
    {
     "data": {
      "application/vnd.jupyter.widget-view+json": {
       "model_id": "24cd19ef2a54423385eb04872a93ca38",
       "version_major": 2,
       "version_minor": 0
      },
      "text/plain": [
       "Training: |          | 0/? [00:00<?, ?it/s]"
      ]
     },
     "metadata": {},
     "output_type": "display_data"
    },
    {
     "name": "stderr",
     "output_type": "stream",
     "text": [
      "`Trainer.fit` stopped: `max_epochs=5` reached.\n"
     ]
    },
    {
     "data": {
      "text/plain": [
       "<rectools.models.nn.sasrec.SASRecModel at 0x7fbac9af2250>"
      ]
     },
     "execution_count": 39,
     "metadata": {},
     "output_type": "execute_result"
    }
   ],
   "source": [
    "#%%time\n",
    "model.fit(dataset_item_features)"
   ]
  },
  {
   "cell_type": "code",
   "execution_count": 40,
   "metadata": {},
   "outputs": [
    {
     "name": "stderr",
     "output_type": "stream",
     "text": [
      "/data/home/dmtikhono1/git_project/RecTools/rectools/models/nn/transformer_data_preparator.py:250: UserWarning: 91202 target users were considered cold because of missing known items\n",
      "  warnings.warn(explanation)\n",
      "/data/home/dmtikhono1/git_project/RecTools/rectools/models/base.py:675: UserWarning: \n",
      "                Model `<class 'rectools.models.nn.sasrec.SASRecModel'>` doesn't support recommendations for cold users,\n",
      "                but some of given users are cold: they are not in the `dataset.user_id_map`\n",
      "            \n",
      "  warnings.warn(explanation)\n",
      "GPU available: True (cuda), used: True\n",
      "TPU available: False, using: 0 TPU cores\n",
      "IPU available: False, using: 0 IPUs\n",
      "HPU available: False, using: 0 HPUs\n",
      "LOCAL_RANK: 0 - CUDA_VISIBLE_DEVICES: [0,1]\n",
      "/data/home/dmtikhono1/git_project/RecTools/.venv/lib/python3.9/site-packages/pytorch_lightning/trainer/connectors/data_connector.py:441: The 'predict_dataloader' does not have many workers which may be a bottleneck. Consider increasing the value of the `num_workers` argument` to `num_workers=143` in the `DataLoader` to improve performance.\n"
     ]
    },
    {
     "data": {
      "application/vnd.jupyter.widget-view+json": {
       "model_id": "fabfc077626441c18bd18e026d07757a",
       "version_major": 2,
       "version_minor": 0
      },
      "text/plain": [
       "Predicting: |          | 0/? [00:00<?, ?it/s]"
      ]
     },
     "metadata": {},
     "output_type": "display_data"
    },
    {
     "name": "stdout",
     "output_type": "stream",
     "text": [
      "CPU times: user 29.4 s, sys: 5.36 s, total: 34.8 s\n",
      "Wall time: 23.5 s\n"
     ]
    }
   ],
   "source": [
    "%%time\n",
    "recos = model.recommend(\n",
    "    users=test_users_sasrec, \n",
    "    dataset=dataset_item_features,\n",
    "    k=10,\n",
    "    filter_viewed=True,\n",
    "    on_unsupported_targets=\"warn\"\n",
    ")"
   ]
  },
  {
   "cell_type": "code",
   "execution_count": 41,
   "metadata": {},
   "outputs": [],
   "source": [
    "# TODO: drop `apply(str)`\n",
    "recos[\"item_id\"] = recos[\"item_id\"].apply(str)\n",
    "test[\"item_id\"] = test[\"item_id\"].astype(str)\n",
    "metric_values = calc_metrics(metrics, recos[[\"user_id\", \"item_id\", \"rank\"]], test, train, catalog)\n",
    "metric_values[\"model\"] = \"sasrec_ids_cat\"\n",
    "features_results.append(metric_values)"
   ]
  },
  {
   "cell_type": "markdown",
   "metadata": {},
   "source": [
    "### sasrec with category item features embeddings in ItemNetBlock"
   ]
  },
  {
   "cell_type": "code",
   "execution_count": 42,
   "metadata": {},
   "outputs": [
    {
     "name": "stderr",
     "output_type": "stream",
     "text": [
      "Trainer will use only 1 of 2 GPUs because it is running inside an interactive / notebook environment. You may try to set `Trainer(devices=2)` but please note that multi-GPU inside interactive / notebook environments is considered experimental and unstable. Your mileage may vary.\n",
      "GPU available: True (cuda), used: True\n",
      "TPU available: False, using: 0 TPU cores\n",
      "IPU available: False, using: 0 IPUs\n",
      "HPU available: False, using: 0 HPUs\n"
     ]
    }
   ],
   "source": [
    "model = SASRecModel(\n",
    "    n_blocks=2,\n",
    "    session_max_len=32,\n",
    "    lr=1e-3,\n",
    "    epochs=5,\n",
    "    verbose=1,\n",
    "    deterministic=True,\n",
    "    item_net_block_types=(CatFeaturesItemNet, )  # Use only cat item features in ItemNetBlock\n",
    ")"
   ]
  },
  {
   "cell_type": "code",
   "execution_count": 43,
   "metadata": {},
   "outputs": [
    {
     "name": "stderr",
     "output_type": "stream",
     "text": [
      "LOCAL_RANK: 0 - CUDA_VISIBLE_DEVICES: [0,1]\n",
      "\n",
      "  | Name        | Type                           | Params\n",
      "---------------------------------------------------------------\n",
      "0 | torch_model | TransformerBasedSessionEncoder | 211 K \n",
      "---------------------------------------------------------------\n",
      "211 K     Trainable params\n",
      "0         Non-trainable params\n",
      "211 K     Total params\n",
      "0.847     Total estimated model params size (MB)\n",
      "/data/home/dmtikhono1/git_project/RecTools/.venv/lib/python3.9/site-packages/pytorch_lightning/trainer/connectors/data_connector.py:441: The 'train_dataloader' does not have many workers which may be a bottleneck. Consider increasing the value of the `num_workers` argument` to `num_workers=143` in the `DataLoader` to improve performance.\n"
     ]
    },
    {
     "data": {
      "application/vnd.jupyter.widget-view+json": {
       "model_id": "2c2766c5b60340a0bc159b388435930a",
       "version_major": 2,
       "version_minor": 0
      },
      "text/plain": [
       "Training: |          | 0/? [00:00<?, ?it/s]"
      ]
     },
     "metadata": {},
     "output_type": "display_data"
    },
    {
     "name": "stderr",
     "output_type": "stream",
     "text": [
      "/data/home/dmtikhono1/git_project/RecTools/rectools/dataset/features.py:424: UserWarning: Converting sparse features to dense array may cause MemoryError\n",
      "  warnings.warn(\"Converting sparse features to dense array may cause MemoryError\")\n",
      "`Trainer.fit` stopped: `max_epochs=5` reached.\n"
     ]
    },
    {
     "data": {
      "text/plain": [
       "<rectools.models.nn.sasrec.SASRecModel at 0x7fba98d63610>"
      ]
     },
     "execution_count": 43,
     "metadata": {},
     "output_type": "execute_result"
    }
   ],
   "source": [
    "#%%time\n",
    "model.fit(dataset_item_features)"
   ]
  },
  {
   "cell_type": "code",
   "execution_count": 44,
   "metadata": {},
   "outputs": [
    {
     "name": "stderr",
     "output_type": "stream",
     "text": [
      "/data/home/dmtikhono1/git_project/RecTools/rectools/models/nn/transformer_data_preparator.py:250: UserWarning: 91202 target users were considered cold because of missing known items\n",
      "  warnings.warn(explanation)\n",
      "/data/home/dmtikhono1/git_project/RecTools/rectools/models/base.py:675: UserWarning: \n",
      "                Model `<class 'rectools.models.nn.sasrec.SASRecModel'>` doesn't support recommendations for cold users,\n",
      "                but some of given users are cold: they are not in the `dataset.user_id_map`\n",
      "            \n",
      "  warnings.warn(explanation)\n",
      "GPU available: True (cuda), used: True\n",
      "TPU available: False, using: 0 TPU cores\n",
      "IPU available: False, using: 0 IPUs\n",
      "HPU available: False, using: 0 HPUs\n",
      "LOCAL_RANK: 0 - CUDA_VISIBLE_DEVICES: [0,1]\n",
      "/data/home/dmtikhono1/git_project/RecTools/.venv/lib/python3.9/site-packages/pytorch_lightning/trainer/connectors/data_connector.py:441: The 'predict_dataloader' does not have many workers which may be a bottleneck. Consider increasing the value of the `num_workers` argument` to `num_workers=143` in the `DataLoader` to improve performance.\n"
     ]
    },
    {
     "data": {
      "application/vnd.jupyter.widget-view+json": {
       "model_id": "65c9fb47e39e4ec99ad6db24c267dfe0",
       "version_major": 2,
       "version_minor": 0
      },
      "text/plain": [
       "Predicting: |          | 0/? [00:00<?, ?it/s]"
      ]
     },
     "metadata": {},
     "output_type": "display_data"
    },
    {
     "name": "stdout",
     "output_type": "stream",
     "text": [
      "CPU times: user 28.3 s, sys: 4.93 s, total: 33.2 s\n",
      "Wall time: 22.5 s\n"
     ]
    }
   ],
   "source": [
    "%%time\n",
    "recos = model.recommend(\n",
    "    users=test_users_sasrec, \n",
    "    dataset=dataset_item_features,\n",
    "    k=10,\n",
    "    filter_viewed=True,\n",
    "    on_unsupported_targets=\"warn\"\n",
    ")"
   ]
  },
  {
   "cell_type": "code",
   "execution_count": 45,
   "metadata": {},
   "outputs": [],
   "source": [
    "# TODO: drop `apply(str)`\n",
    "recos[\"item_id\"] = recos[\"item_id\"].apply(str)\n",
    "test[\"item_id\"] = test[\"item_id\"].astype(str)\n",
    "metric_values = calc_metrics(metrics, recos[[\"user_id\", \"item_id\", \"rank\"]], test, train, catalog)\n",
    "metric_values[\"model\"] = \"sasrec_cat\"\n",
    "features_results.append(metric_values)"
   ]
  },
  {
   "cell_type": "code",
   "execution_count": 50,
   "metadata": {},
   "outputs": [
    {
     "data": {
      "text/plain": [
       "[{'MAP@1': 0.04896729054820606,\n",
       "  'MAP@5': 0.08284725776567772,\n",
       "  'MAP@10': 0.09202214080523476,\n",
       "  'MIUF@1': 3.6266752335962402,\n",
       "  'MIUF@5': 4.305321882464318,\n",
       "  'MIUF@10': 4.9095189017166145,\n",
       "  'Serendipity@1': 0.0009307664840571675,\n",
       "  'Serendipity@5': 0.0007294075536337563,\n",
       "  'Serendipity@10': 0.0006691606986540919,\n",
       "  'model': 'softmax'},\n",
       " {'MAP@1': 0.043528276756084665,\n",
       "  'MAP@5': 0.07428604222209606,\n",
       "  'MAP@10': 0.08313070132284942,\n",
       "  'MIUF@1': 3.677649254022451,\n",
       "  'MIUF@5': 4.437024188083364,\n",
       "  'MIUF@10': 4.988751384673628,\n",
       "  'Serendipity@1': 0.00047959964836482004,\n",
       "  'Serendipity@5': 0.0005090243033398202,\n",
       "  'Serendipity@10': 0.0005313065730108525,\n",
       "  'model': 'bce'},\n",
       " {'MAP@1': 0.047545855054294456,\n",
       "  'MAP@5': 0.0811899212734244,\n",
       "  'MAP@10': 0.08998959207113556,\n",
       "  'MIUF@1': 3.3890332750515273,\n",
       "  'MIUF@5': 3.982106805298122,\n",
       "  'MIUF@10': 4.670657694445981,\n",
       "  'Serendipity@1': 0.000665940853529614,\n",
       "  'Serendipity@5': 0.0005438011709959203,\n",
       "  'Serendipity@10': 0.0005214735119313822,\n",
       "  'model': 'gBCE'},\n",
       " {'MAP@1': 0.04688093775208514,\n",
       "  'MAP@5': 0.08097436755783677,\n",
       "  'MAP@10': 0.09013335204707967,\n",
       "  'MIUF@1': 3.661532868962353,\n",
       "  'MIUF@5': 4.16972084503681,\n",
       "  'MIUF@10': 4.791546833233225,\n",
       "  'Serendipity@1': 0.0008689173648079956,\n",
       "  'Serendipity@5': 0.0006673537151447404,\n",
       "  'Serendipity@10': 0.000614344133583862,\n",
       "  'model': 'softmax_padding_mask'},\n",
       " {'MAP@1': 0.04764509011757325,\n",
       "  'MAP@5': 0.0814197747355406,\n",
       "  'MAP@10': 0.090502469999203,\n",
       "  'MIUF@1': 18.824620072061013,\n",
       "  'MIUF@5': 18.824620072061013,\n",
       "  'MIUF@10': 18.824620072061013,\n",
       "  'Serendipity@1': 0.09831582281822501,\n",
       "  'Serendipity@5': 0.059828736852497545,\n",
       "  'Serendipity@10': 0.04396951558674108,\n",
       "  'model': 'sasrec_ids'},\n",
       " {'MAP@1': 0.04792351501744294,\n",
       "  'MAP@5': 0.0819108070928718,\n",
       "  'MAP@10': 0.09103842374606837,\n",
       "  'MIUF@1': 18.824620072061013,\n",
       "  'MIUF@5': 18.824620072061013,\n",
       "  'MIUF@10': 18.824620072061013,\n",
       "  'Serendipity@1': 0.09884377804762157,\n",
       "  'Serendipity@5': 0.06024039661065258,\n",
       "  'Serendipity@10': 0.044376738765165485,\n",
       "  'model': 'sasrec_ids_cat'},\n",
       " {'MAP@1': 0.0018265925675638162,\n",
       "  'MAP@5': 0.006767471554861709,\n",
       "  'MAP@10': 0.007882393086388838,\n",
       "  'MIUF@1': 18.824620072061013,\n",
       "  'MIUF@5': 18.824620072061013,\n",
       "  'MIUF@10': 18.824620072061013,\n",
       "  'Serendipity@1': 0.005575207222427538,\n",
       "  'Serendipity@5': 0.006903599736603295,\n",
       "  'Serendipity@10': 0.005664419234818319,\n",
       "  'model': 'sasrec_cat'}]"
      ]
     },
     "execution_count": 50,
     "metadata": {},
     "output_type": "execute_result"
    }
   ],
   "source": [
    "features_results"
   ]
  },
  {
   "cell_type": "markdown",
   "metadata": {},
   "source": [
    "### Item to item"
   ]
  },
  {
   "cell_type": "code",
   "execution_count": 46,
   "metadata": {},
   "outputs": [],
   "source": [
    "target_items = [13865, 4457, 15297]"
   ]
  },
  {
   "cell_type": "code",
   "execution_count": 47,
   "metadata": {},
   "outputs": [
    {
     "name": "stdout",
     "output_type": "stream",
     "text": [
      "CPU times: user 1.35 s, sys: 272 ms, total: 1.62 s\n",
      "Wall time: 1.1 s\n"
     ]
    }
   ],
   "source": [
    "%%time\n",
    "recos = model.recommend_to_items(\n",
    "    target_items=target_items, \n",
    "    dataset=dataset_no_features,\n",
    "    k=10,\n",
    "    filter_itself=True,\n",
    "    items_to_recommend=None, #white_list,\n",
    ")"
   ]
  },
  {
   "cell_type": "code",
   "execution_count": 48,
   "metadata": {},
   "outputs": [
    {
     "data": {
      "text/html": [
       "<div>\n",
       "<style scoped>\n",
       "    .dataframe tbody tr th:only-of-type {\n",
       "        vertical-align: middle;\n",
       "    }\n",
       "\n",
       "    .dataframe tbody tr th {\n",
       "        vertical-align: top;\n",
       "    }\n",
       "\n",
       "    .dataframe thead th {\n",
       "        text-align: right;\n",
       "    }\n",
       "</style>\n",
       "<table border=\"1\" class=\"dataframe\">\n",
       "  <thead>\n",
       "    <tr style=\"text-align: right;\">\n",
       "      <th></th>\n",
       "      <th>target_item_id</th>\n",
       "      <th>item_id</th>\n",
       "      <th>score</th>\n",
       "      <th>rank</th>\n",
       "    </tr>\n",
       "  </thead>\n",
       "  <tbody>\n",
       "    <tr>\n",
       "      <th>0</th>\n",
       "      <td>13865</td>\n",
       "      <td>15648</td>\n",
       "      <td>1.000000</td>\n",
       "      <td>1</td>\n",
       "    </tr>\n",
       "    <tr>\n",
       "      <th>1</th>\n",
       "      <td>13865</td>\n",
       "      <td>3386</td>\n",
       "      <td>1.000000</td>\n",
       "      <td>2</td>\n",
       "    </tr>\n",
       "    <tr>\n",
       "      <th>2</th>\n",
       "      <td>13865</td>\n",
       "      <td>147</td>\n",
       "      <td>0.892528</td>\n",
       "      <td>3</td>\n",
       "    </tr>\n",
       "    <tr>\n",
       "      <th>3</th>\n",
       "      <td>13865</td>\n",
       "      <td>16194</td>\n",
       "      <td>0.892528</td>\n",
       "      <td>4</td>\n",
       "    </tr>\n",
       "    <tr>\n",
       "      <th>4</th>\n",
       "      <td>13865</td>\n",
       "      <td>12309</td>\n",
       "      <td>0.892528</td>\n",
       "      <td>5</td>\n",
       "    </tr>\n",
       "    <tr>\n",
       "      <th>5</th>\n",
       "      <td>13865</td>\n",
       "      <td>12586</td>\n",
       "      <td>0.892528</td>\n",
       "      <td>6</td>\n",
       "    </tr>\n",
       "    <tr>\n",
       "      <th>6</th>\n",
       "      <td>13865</td>\n",
       "      <td>6661</td>\n",
       "      <td>0.892528</td>\n",
       "      <td>7</td>\n",
       "    </tr>\n",
       "    <tr>\n",
       "      <th>7</th>\n",
       "      <td>13865</td>\n",
       "      <td>2255</td>\n",
       "      <td>0.892528</td>\n",
       "      <td>8</td>\n",
       "    </tr>\n",
       "    <tr>\n",
       "      <th>8</th>\n",
       "      <td>13865</td>\n",
       "      <td>3792</td>\n",
       "      <td>0.892528</td>\n",
       "      <td>9</td>\n",
       "    </tr>\n",
       "    <tr>\n",
       "      <th>9</th>\n",
       "      <td>13865</td>\n",
       "      <td>4130</td>\n",
       "      <td>0.892528</td>\n",
       "      <td>10</td>\n",
       "    </tr>\n",
       "    <tr>\n",
       "      <th>10</th>\n",
       "      <td>4457</td>\n",
       "      <td>5109</td>\n",
       "      <td>1.000000</td>\n",
       "      <td>1</td>\n",
       "    </tr>\n",
       "    <tr>\n",
       "      <th>11</th>\n",
       "      <td>4457</td>\n",
       "      <td>8851</td>\n",
       "      <td>1.000000</td>\n",
       "      <td>2</td>\n",
       "    </tr>\n",
       "    <tr>\n",
       "      <th>12</th>\n",
       "      <td>4457</td>\n",
       "      <td>8486</td>\n",
       "      <td>1.000000</td>\n",
       "      <td>3</td>\n",
       "    </tr>\n",
       "    <tr>\n",
       "      <th>13</th>\n",
       "      <td>4457</td>\n",
       "      <td>12087</td>\n",
       "      <td>1.000000</td>\n",
       "      <td>4</td>\n",
       "    </tr>\n",
       "    <tr>\n",
       "      <th>14</th>\n",
       "      <td>4457</td>\n",
       "      <td>2313</td>\n",
       "      <td>1.000000</td>\n",
       "      <td>5</td>\n",
       "    </tr>\n",
       "    <tr>\n",
       "      <th>15</th>\n",
       "      <td>4457</td>\n",
       "      <td>11977</td>\n",
       "      <td>1.000000</td>\n",
       "      <td>6</td>\n",
       "    </tr>\n",
       "    <tr>\n",
       "      <th>16</th>\n",
       "      <td>4457</td>\n",
       "      <td>7928</td>\n",
       "      <td>1.000000</td>\n",
       "      <td>7</td>\n",
       "    </tr>\n",
       "    <tr>\n",
       "      <th>17</th>\n",
       "      <td>4457</td>\n",
       "      <td>3384</td>\n",
       "      <td>1.000000</td>\n",
       "      <td>8</td>\n",
       "    </tr>\n",
       "    <tr>\n",
       "      <th>18</th>\n",
       "      <td>4457</td>\n",
       "      <td>11513</td>\n",
       "      <td>1.000000</td>\n",
       "      <td>9</td>\n",
       "    </tr>\n",
       "    <tr>\n",
       "      <th>19</th>\n",
       "      <td>4457</td>\n",
       "      <td>6285</td>\n",
       "      <td>1.000000</td>\n",
       "      <td>10</td>\n",
       "    </tr>\n",
       "    <tr>\n",
       "      <th>20</th>\n",
       "      <td>15297</td>\n",
       "      <td>8723</td>\n",
       "      <td>1.000000</td>\n",
       "      <td>1</td>\n",
       "    </tr>\n",
       "    <tr>\n",
       "      <th>21</th>\n",
       "      <td>15297</td>\n",
       "      <td>5926</td>\n",
       "      <td>1.000000</td>\n",
       "      <td>2</td>\n",
       "    </tr>\n",
       "    <tr>\n",
       "      <th>22</th>\n",
       "      <td>15297</td>\n",
       "      <td>4131</td>\n",
       "      <td>1.000000</td>\n",
       "      <td>3</td>\n",
       "    </tr>\n",
       "    <tr>\n",
       "      <th>23</th>\n",
       "      <td>15297</td>\n",
       "      <td>4229</td>\n",
       "      <td>1.000000</td>\n",
       "      <td>4</td>\n",
       "    </tr>\n",
       "    <tr>\n",
       "      <th>24</th>\n",
       "      <td>15297</td>\n",
       "      <td>7005</td>\n",
       "      <td>1.000000</td>\n",
       "      <td>5</td>\n",
       "    </tr>\n",
       "    <tr>\n",
       "      <th>25</th>\n",
       "      <td>15297</td>\n",
       "      <td>10797</td>\n",
       "      <td>1.000000</td>\n",
       "      <td>6</td>\n",
       "    </tr>\n",
       "    <tr>\n",
       "      <th>26</th>\n",
       "      <td>15297</td>\n",
       "      <td>10535</td>\n",
       "      <td>1.000000</td>\n",
       "      <td>7</td>\n",
       "    </tr>\n",
       "    <tr>\n",
       "      <th>27</th>\n",
       "      <td>15297</td>\n",
       "      <td>5400</td>\n",
       "      <td>1.000000</td>\n",
       "      <td>8</td>\n",
       "    </tr>\n",
       "    <tr>\n",
       "      <th>28</th>\n",
       "      <td>15297</td>\n",
       "      <td>4716</td>\n",
       "      <td>1.000000</td>\n",
       "      <td>9</td>\n",
       "    </tr>\n",
       "    <tr>\n",
       "      <th>29</th>\n",
       "      <td>15297</td>\n",
       "      <td>13103</td>\n",
       "      <td>1.000000</td>\n",
       "      <td>10</td>\n",
       "    </tr>\n",
       "  </tbody>\n",
       "</table>\n",
       "</div>"
      ],
      "text/plain": [
       "    target_item_id  item_id     score  rank\n",
       "0            13865    15648  1.000000     1\n",
       "1            13865     3386  1.000000     2\n",
       "2            13865      147  0.892528     3\n",
       "3            13865    16194  0.892528     4\n",
       "4            13865    12309  0.892528     5\n",
       "5            13865    12586  0.892528     6\n",
       "6            13865     6661  0.892528     7\n",
       "7            13865     2255  0.892528     8\n",
       "8            13865     3792  0.892528     9\n",
       "9            13865     4130  0.892528    10\n",
       "10            4457     5109  1.000000     1\n",
       "11            4457     8851  1.000000     2\n",
       "12            4457     8486  1.000000     3\n",
       "13            4457    12087  1.000000     4\n",
       "14            4457     2313  1.000000     5\n",
       "15            4457    11977  1.000000     6\n",
       "16            4457     7928  1.000000     7\n",
       "17            4457     3384  1.000000     8\n",
       "18            4457    11513  1.000000     9\n",
       "19            4457     6285  1.000000    10\n",
       "20           15297     8723  1.000000     1\n",
       "21           15297     5926  1.000000     2\n",
       "22           15297     4131  1.000000     3\n",
       "23           15297     4229  1.000000     4\n",
       "24           15297     7005  1.000000     5\n",
       "25           15297    10797  1.000000     6\n",
       "26           15297    10535  1.000000     7\n",
       "27           15297     5400  1.000000     8\n",
       "28           15297     4716  1.000000     9\n",
       "29           15297    13103  1.000000    10"
      ]
     },
     "execution_count": 48,
     "metadata": {},
     "output_type": "execute_result"
    }
   ],
   "source": [
    "recos"
   ]
  },
  {
   "cell_type": "code",
   "execution_count": 52,
   "metadata": {},
   "outputs": [
    {
     "data": {
      "text/html": [
       "<div>\n",
       "<style scoped>\n",
       "    .dataframe tbody tr th:only-of-type {\n",
       "        vertical-align: middle;\n",
       "    }\n",
       "\n",
       "    .dataframe tbody tr th {\n",
       "        vertical-align: top;\n",
       "    }\n",
       "\n",
       "    .dataframe thead th {\n",
       "        text-align: right;\n",
       "    }\n",
       "</style>\n",
       "<table border=\"1\" class=\"dataframe\">\n",
       "  <thead>\n",
       "    <tr style=\"text-align: right;\">\n",
       "      <th></th>\n",
       "      <th>target_item_id</th>\n",
       "      <th>item_id</th>\n",
       "      <th>score</th>\n",
       "      <th>rank</th>\n",
       "      <th>title</th>\n",
       "    </tr>\n",
       "  </thead>\n",
       "  <tbody>\n",
       "    <tr>\n",
       "      <th>0</th>\n",
       "      <td>13865</td>\n",
       "      <td>15648</td>\n",
       "      <td>1.000000</td>\n",
       "      <td>1</td>\n",
       "      <td>Черное золото</td>\n",
       "    </tr>\n",
       "    <tr>\n",
       "      <th>1</th>\n",
       "      <td>13865</td>\n",
       "      <td>3386</td>\n",
       "      <td>1.000000</td>\n",
       "      <td>2</td>\n",
       "      <td>Спартак</td>\n",
       "    </tr>\n",
       "    <tr>\n",
       "      <th>2</th>\n",
       "      <td>13865</td>\n",
       "      <td>147</td>\n",
       "      <td>0.892528</td>\n",
       "      <td>3</td>\n",
       "      <td>Единичка</td>\n",
       "    </tr>\n",
       "    <tr>\n",
       "      <th>3</th>\n",
       "      <td>13865</td>\n",
       "      <td>16194</td>\n",
       "      <td>0.892528</td>\n",
       "      <td>4</td>\n",
       "      <td>Голубая линия</td>\n",
       "    </tr>\n",
       "    <tr>\n",
       "      <th>4</th>\n",
       "      <td>13865</td>\n",
       "      <td>12309</td>\n",
       "      <td>0.892528</td>\n",
       "      <td>5</td>\n",
       "      <td>Враг у ворот</td>\n",
       "    </tr>\n",
       "    <tr>\n",
       "      <th>5</th>\n",
       "      <td>13865</td>\n",
       "      <td>12586</td>\n",
       "      <td>0.892528</td>\n",
       "      <td>6</td>\n",
       "      <td>Вспоминая 1942</td>\n",
       "    </tr>\n",
       "    <tr>\n",
       "      <th>6</th>\n",
       "      <td>13865</td>\n",
       "      <td>6661</td>\n",
       "      <td>0.892528</td>\n",
       "      <td>7</td>\n",
       "      <td>Солдатик</td>\n",
       "    </tr>\n",
       "    <tr>\n",
       "      <th>7</th>\n",
       "      <td>13865</td>\n",
       "      <td>2255</td>\n",
       "      <td>0.892528</td>\n",
       "      <td>8</td>\n",
       "      <td>Пленный</td>\n",
       "    </tr>\n",
       "    <tr>\n",
       "      <th>8</th>\n",
       "      <td>13865</td>\n",
       "      <td>3792</td>\n",
       "      <td>0.892528</td>\n",
       "      <td>9</td>\n",
       "      <td>Собибор</td>\n",
       "    </tr>\n",
       "    <tr>\n",
       "      <th>9</th>\n",
       "      <td>13865</td>\n",
       "      <td>4130</td>\n",
       "      <td>0.892528</td>\n",
       "      <td>10</td>\n",
       "      <td>Пустота</td>\n",
       "    </tr>\n",
       "    <tr>\n",
       "      <th>10</th>\n",
       "      <td>4457</td>\n",
       "      <td>5109</td>\n",
       "      <td>1.000000</td>\n",
       "      <td>1</td>\n",
       "      <td>Время разлуки</td>\n",
       "    </tr>\n",
       "    <tr>\n",
       "      <th>11</th>\n",
       "      <td>4457</td>\n",
       "      <td>8851</td>\n",
       "      <td>1.000000</td>\n",
       "      <td>2</td>\n",
       "      <td>Лисы</td>\n",
       "    </tr>\n",
       "    <tr>\n",
       "      <th>12</th>\n",
       "      <td>4457</td>\n",
       "      <td>8486</td>\n",
       "      <td>1.000000</td>\n",
       "      <td>3</td>\n",
       "      <td>Мой создатель</td>\n",
       "    </tr>\n",
       "    <tr>\n",
       "      <th>13</th>\n",
       "      <td>4457</td>\n",
       "      <td>12087</td>\n",
       "      <td>1.000000</td>\n",
       "      <td>4</td>\n",
       "      <td>Молчаливое бегство</td>\n",
       "    </tr>\n",
       "    <tr>\n",
       "      <th>14</th>\n",
       "      <td>4457</td>\n",
       "      <td>2313</td>\n",
       "      <td>1.000000</td>\n",
       "      <td>5</td>\n",
       "      <td>Свет моей жизни</td>\n",
       "    </tr>\n",
       "    <tr>\n",
       "      <th>15</th>\n",
       "      <td>4457</td>\n",
       "      <td>11977</td>\n",
       "      <td>1.000000</td>\n",
       "      <td>6</td>\n",
       "      <td>Зоология</td>\n",
       "    </tr>\n",
       "    <tr>\n",
       "      <th>16</th>\n",
       "      <td>4457</td>\n",
       "      <td>7928</td>\n",
       "      <td>1.000000</td>\n",
       "      <td>7</td>\n",
       "      <td>Вечная жизнь</td>\n",
       "    </tr>\n",
       "    <tr>\n",
       "      <th>17</th>\n",
       "      <td>4457</td>\n",
       "      <td>3384</td>\n",
       "      <td>1.000000</td>\n",
       "      <td>8</td>\n",
       "      <td>Вивариум</td>\n",
       "    </tr>\n",
       "    <tr>\n",
       "      <th>18</th>\n",
       "      <td>4457</td>\n",
       "      <td>11513</td>\n",
       "      <td>1.000000</td>\n",
       "      <td>9</td>\n",
       "      <td>Любовь</td>\n",
       "    </tr>\n",
       "    <tr>\n",
       "      <th>19</th>\n",
       "      <td>4457</td>\n",
       "      <td>6285</td>\n",
       "      <td>1.000000</td>\n",
       "      <td>10</td>\n",
       "      <td>Божественная любовь</td>\n",
       "    </tr>\n",
       "    <tr>\n",
       "      <th>20</th>\n",
       "      <td>15297</td>\n",
       "      <td>8723</td>\n",
       "      <td>1.000000</td>\n",
       "      <td>1</td>\n",
       "      <td>Секс в другом городе: Поколение Q</td>\n",
       "    </tr>\n",
       "    <tr>\n",
       "      <th>21</th>\n",
       "      <td>15297</td>\n",
       "      <td>5926</td>\n",
       "      <td>1.000000</td>\n",
       "      <td>2</td>\n",
       "      <td>Пациенты</td>\n",
       "    </tr>\n",
       "    <tr>\n",
       "      <th>22</th>\n",
       "      <td>15297</td>\n",
       "      <td>4131</td>\n",
       "      <td>1.000000</td>\n",
       "      <td>3</td>\n",
       "      <td>Учитель Ким, доктор Романтик</td>\n",
       "    </tr>\n",
       "    <tr>\n",
       "      <th>23</th>\n",
       "      <td>15297</td>\n",
       "      <td>4229</td>\n",
       "      <td>1.000000</td>\n",
       "      <td>4</td>\n",
       "      <td>Самара</td>\n",
       "    </tr>\n",
       "    <tr>\n",
       "      <th>24</th>\n",
       "      <td>15297</td>\n",
       "      <td>7005</td>\n",
       "      <td>1.000000</td>\n",
       "      <td>5</td>\n",
       "      <td>Чёрная кровь</td>\n",
       "    </tr>\n",
       "    <tr>\n",
       "      <th>25</th>\n",
       "      <td>15297</td>\n",
       "      <td>10797</td>\n",
       "      <td>1.000000</td>\n",
       "      <td>6</td>\n",
       "      <td>Наследники</td>\n",
       "    </tr>\n",
       "    <tr>\n",
       "      <th>26</th>\n",
       "      <td>15297</td>\n",
       "      <td>10535</td>\n",
       "      <td>1.000000</td>\n",
       "      <td>7</td>\n",
       "      <td>Я могу уничтожить тебя</td>\n",
       "    </tr>\n",
       "    <tr>\n",
       "      <th>27</th>\n",
       "      <td>15297</td>\n",
       "      <td>5400</td>\n",
       "      <td>1.000000</td>\n",
       "      <td>8</td>\n",
       "      <td>Частица вселенной</td>\n",
       "    </tr>\n",
       "    <tr>\n",
       "      <th>28</th>\n",
       "      <td>15297</td>\n",
       "      <td>4716</td>\n",
       "      <td>1.000000</td>\n",
       "      <td>9</td>\n",
       "      <td>Мастера секса</td>\n",
       "    </tr>\n",
       "    <tr>\n",
       "      <th>29</th>\n",
       "      <td>15297</td>\n",
       "      <td>13103</td>\n",
       "      <td>1.000000</td>\n",
       "      <td>10</td>\n",
       "      <td>Хороший доктор</td>\n",
       "    </tr>\n",
       "  </tbody>\n",
       "</table>\n",
       "</div>"
      ],
      "text/plain": [
       "    target_item_id  item_id     score  rank                              title\n",
       "0            13865    15648  1.000000     1                      Черное золото\n",
       "1            13865     3386  1.000000     2                            Спартак\n",
       "2            13865      147  0.892528     3                           Единичка\n",
       "3            13865    16194  0.892528     4                      Голубая линия\n",
       "4            13865    12309  0.892528     5                       Враг у ворот\n",
       "5            13865    12586  0.892528     6                     Вспоминая 1942\n",
       "6            13865     6661  0.892528     7                           Солдатик\n",
       "7            13865     2255  0.892528     8                            Пленный\n",
       "8            13865     3792  0.892528     9                            Собибор\n",
       "9            13865     4130  0.892528    10                            Пустота\n",
       "10            4457     5109  1.000000     1                      Время разлуки\n",
       "11            4457     8851  1.000000     2                               Лисы\n",
       "12            4457     8486  1.000000     3                      Мой создатель\n",
       "13            4457    12087  1.000000     4                 Молчаливое бегство\n",
       "14            4457     2313  1.000000     5                    Свет моей жизни\n",
       "15            4457    11977  1.000000     6                           Зоология\n",
       "16            4457     7928  1.000000     7                       Вечная жизнь\n",
       "17            4457     3384  1.000000     8                           Вивариум\n",
       "18            4457    11513  1.000000     9                             Любовь\n",
       "19            4457     6285  1.000000    10                Божественная любовь\n",
       "20           15297     8723  1.000000     1  Секс в другом городе: Поколение Q\n",
       "21           15297     5926  1.000000     2                           Пациенты\n",
       "22           15297     4131  1.000000     3       Учитель Ким, доктор Романтик\n",
       "23           15297     4229  1.000000     4                             Самара\n",
       "24           15297     7005  1.000000     5                       Чёрная кровь\n",
       "25           15297    10797  1.000000     6                         Наследники\n",
       "26           15297    10535  1.000000     7             Я могу уничтожить тебя\n",
       "27           15297     5400  1.000000     8                  Частица вселенной\n",
       "28           15297     4716  1.000000     9                      Мастера секса\n",
       "29           15297    13103  1.000000    10                     Хороший доктор"
      ]
     },
     "execution_count": 52,
     "metadata": {},
     "output_type": "execute_result"
    }
   ],
   "source": [
    "# TODO: change model for recos (here is the last one trained and is is the worst in quality)\n",
    "recos.merge(items[[\"item_id\", \"title\"]], on=\"item_id\")"
   ]
  },
  {
   "cell_type": "code",
   "execution_count": 49,
   "metadata": {},
   "outputs": [],
   "source": [
    "torch.cuda.empty_cache()"
   ]
  },
  {
   "cell_type": "code",
   "execution_count": null,
   "metadata": {},
   "outputs": [],
   "source": []
  }
 ],
 "metadata": {
  "kernelspec": {
   "display_name": "rectools-sasrec",
   "language": "python",
   "name": "rectools-sasrec"
  },
  "language_info": {
   "codemirror_mode": {
    "name": "ipython",
    "version": 3
   },
   "file_extension": ".py",
   "mimetype": "text/x-python",
   "name": "python",
   "nbconvert_exporter": "python",
   "pygments_lexer": "ipython3",
   "version": "3.9.12"
  }
 },
 "nbformat": 4,
 "nbformat_minor": 2
}
