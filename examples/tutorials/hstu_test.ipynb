{
 "cells": [
  {
   "cell_type": "markdown",
   "metadata": {},
   "source": [
    "# Transformer Models Advanced Training Guide\n",
    "This guide is showing advanced features of RecTools transformer models training.\n",
    "\n",
    "### Table of Contents\n",
    "\n",
    "* Prepare data\n",
    "* Advanced training guide\n",
    "    * Validation fold\n",
    "    * Validation loss\n",
    "    * Callback for Early Stopping\n",
    "    * Callbacks for Checkpoints\n",
    "        * Loading Checkpoints\n",
    "    * Callbacks for RecSys metrics\n",
    "        * RecSys metrics for Early Stopping anf Checkpoints\n",
    "* Advanced training full example\n",
    "    * Running full training with all of the described validation features on Kion dataset\n",
    "* More RecTools features for transformers\n",
    "    * Saving and loading models\n",
    "    * Configs for transformer models\n",
    "        * Classes and function in configs\n",
    "    * Multi-gpu training\n"
   ]
  },
  {
   "metadata": {
    "ExecuteTime": {
     "end_time": "2025-06-11T00:01:42.177661Z",
     "start_time": "2025-06-11T00:01:42.175587Z"
    }
   },
   "cell_type": "code",
   "source": "",
   "outputs": [],
   "execution_count": null
  },
  {
   "cell_type": "code",
   "metadata": {
    "ExecuteTime": {
     "end_time": "2025-06-11T00:01:45.581586Z",
     "start_time": "2025-06-11T00:01:42.199852Z"
    }
   },
   "source": [
    "import os\n",
    "import typing as tp\n",
    "import warnings\n",
    "\n",
    "import pandas as pd\n",
    "import numpy as np\n",
    "import torch\n",
    "from lightning_fabric import seed_everything\n",
    "from pytorch_lightning import Trainer, LightningModule\n",
    "from pytorch_lightning.loggers import CSVLogger\n",
    "from pytorch_lightning.callbacks import   Callback\n",
    "\n",
    "from rectools.dataset import Dataset\n",
    "from rectools.models import  SASRecModel\n",
    "from rectools.models import HSTUModel\n",
    "from rectools.models.nn.item_net import IdEmbeddingsItemNet\n",
    "from rectools import Columns, ExternalIds\n",
    "from scipy import sparse\n",
    "from pytorch_lightning.callbacks import EarlyStopping, ModelCheckpoint, Callback\n",
    "# Enable deterministic behaviour with CUDA >= 10.2\n",
    "os.environ[\"CUBLAS_WORKSPACE_CONFIG\"] = \":4096:8\"\n",
    "from rectools.model_selection import LastNSplitter, cross_validate_hstu\n",
    "warnings.simplefilter(\"ignore\", UserWarning)\n",
    "warnings.simplefilter(\"ignore\", FutureWarning)\n",
    "from rectools.metrics import (\n",
    "    MAP,\n",
    "    CoveredUsers,\n",
    "    AvgRecPopularity,\n",
    "    Intersection,\n",
    "    HitRate,\n",
    "    Serendipity,\n",
    ")\n",
    "from rectools.models import PopularModel, EASEModel, SASRecModel, BERT4RecModel\n",
    "from rectools.model_selection import TimeRangeSplitter, cross_validate\n",
    "from rectools.models.nn.item_net import CatFeaturesItemNet, IdEmbeddingsItemNet\n",
    "from rectools.visuals import MetricsApp\n"
   ],
   "outputs": [],
   "execution_count": 1
  },
  {
   "metadata": {
    "ExecuteTime": {
     "end_time": "2025-06-11T00:01:45.949477Z",
     "start_time": "2025-06-11T00:01:45.946766Z"
    }
   },
   "cell_type": "code",
   "source": [
    "import sys\n",
    "print(sys.executable)"
   ],
   "outputs": [
    {
     "name": "stdout",
     "output_type": "stream",
     "text": [
      "/home/student/kuzin/python_project/RecTools/.venv/bin/python3\n"
     ]
    }
   ],
   "execution_count": 2
  },
  {
   "metadata": {
    "ExecuteTime": {
     "end_time": "2025-06-11T00:01:46.005624Z",
     "start_time": "2025-06-11T00:01:46.001214Z"
    }
   },
   "cell_type": "code",
   "source": [
    "import cffi\n",
    "import zmq  # pyzmq\n",
    "import notebook  # jupyter"
   ],
   "outputs": [],
   "execution_count": 3
  },
  {
   "cell_type": "markdown",
   "metadata": {},
   "source": [
    "## Prepare data"
   ]
  },
  {
   "metadata": {},
   "cell_type": "markdown",
   "source": [
    "%%time\n",
    "!wget -q https://files.grouplens.org/datasets/movielens/ml-1m.zip -O ml-1m.zip\n",
    "!unzip -o ml-1m.zip\n",
    "!rm ml-1m.zip"
   ]
  },
  {
   "cell_type": "code",
   "metadata": {
    "ExecuteTime": {
     "end_time": "2025-06-11T00:01:49.520451Z",
     "start_time": "2025-06-11T00:01:46.058965Z"
    }
   },
   "source": [
    "%%time\n",
    "ratings = pd.read_csv(\n",
    "    \"ml-1m/ratings.dat\", \n",
    "    sep=\"::\",\n",
    "    engine=\"python\",  # Because of 2-chars separators\n",
    "    header=None,\n",
    "    names=[Columns.User, Columns.Item, Columns.Weight, Columns.Datetime],\n",
    ")\n",
    "print(ratings.shape)\n",
    "ratings[Columns.Weight] = 1\n",
    "ratings.head()"
   ],
   "outputs": [
    {
     "name": "stdout",
     "output_type": "stream",
     "text": [
      "(1000209, 4)\n",
      "CPU times: user 3.31 s, sys: 150 ms, total: 3.46 s\n",
      "Wall time: 3.45 s\n"
     ]
    },
    {
     "data": {
      "text/plain": [
       "   user_id  item_id  weight   datetime\n",
       "0        1     1193       1  978300760\n",
       "1        1      661       1  978302109\n",
       "2        1      914       1  978301968\n",
       "3        1     3408       1  978300275\n",
       "4        1     2355       1  978824291"
      ],
      "text/html": [
       "<div>\n",
       "<style scoped>\n",
       "    .dataframe tbody tr th:only-of-type {\n",
       "        vertical-align: middle;\n",
       "    }\n",
       "\n",
       "    .dataframe tbody tr th {\n",
       "        vertical-align: top;\n",
       "    }\n",
       "\n",
       "    .dataframe thead th {\n",
       "        text-align: right;\n",
       "    }\n",
       "</style>\n",
       "<table border=\"1\" class=\"dataframe\">\n",
       "  <thead>\n",
       "    <tr style=\"text-align: right;\">\n",
       "      <th></th>\n",
       "      <th>user_id</th>\n",
       "      <th>item_id</th>\n",
       "      <th>weight</th>\n",
       "      <th>datetime</th>\n",
       "    </tr>\n",
       "  </thead>\n",
       "  <tbody>\n",
       "    <tr>\n",
       "      <th>0</th>\n",
       "      <td>1</td>\n",
       "      <td>1193</td>\n",
       "      <td>1</td>\n",
       "      <td>978300760</td>\n",
       "    </tr>\n",
       "    <tr>\n",
       "      <th>1</th>\n",
       "      <td>1</td>\n",
       "      <td>661</td>\n",
       "      <td>1</td>\n",
       "      <td>978302109</td>\n",
       "    </tr>\n",
       "    <tr>\n",
       "      <th>2</th>\n",
       "      <td>1</td>\n",
       "      <td>914</td>\n",
       "      <td>1</td>\n",
       "      <td>978301968</td>\n",
       "    </tr>\n",
       "    <tr>\n",
       "      <th>3</th>\n",
       "      <td>1</td>\n",
       "      <td>3408</td>\n",
       "      <td>1</td>\n",
       "      <td>978300275</td>\n",
       "    </tr>\n",
       "    <tr>\n",
       "      <th>4</th>\n",
       "      <td>1</td>\n",
       "      <td>2355</td>\n",
       "      <td>1</td>\n",
       "      <td>978824291</td>\n",
       "    </tr>\n",
       "  </tbody>\n",
       "</table>\n",
       "</div>"
      ]
     },
     "execution_count": 4,
     "metadata": {},
     "output_type": "execute_result"
    }
   ],
   "execution_count": 4
  },
  {
   "metadata": {
    "ExecuteTime": {
     "end_time": "2025-06-11T00:01:49.584234Z",
     "start_time": "2025-06-11T00:01:49.579618Z"
    }
   },
   "cell_type": "code",
   "source": "ratings[Columns.Datetime] = ratings[Columns.Datetime].astype(\"datetime64[s]\")",
   "outputs": [],
   "execution_count": 5
  },
  {
   "metadata": {
    "ExecuteTime": {
     "end_time": "2025-06-11T00:01:49.710207Z",
     "start_time": "2025-06-11T00:01:49.704012Z"
    }
   },
   "cell_type": "code",
   "source": [
    "nan_count = ratings.isna().sum()\n",
    "print(f\"Количество NaN в колонке '{Columns.Datetime}': {nan_count}\")"
   ],
   "outputs": [
    {
     "name": "stdout",
     "output_type": "stream",
     "text": [
      "Количество NaN в колонке 'datetime': user_id     0\n",
      "item_id     0\n",
      "weight      0\n",
      "datetime    0\n",
      "dtype: int64\n"
     ]
    }
   ],
   "execution_count": 6
  },
  {
   "metadata": {
    "ExecuteTime": {
     "end_time": "2025-06-11T00:01:49.951237Z",
     "start_time": "2025-06-11T00:01:49.868687Z"
    }
   },
   "cell_type": "code",
   "source": "dataset = Dataset.construct(ratings)",
   "outputs": [],
   "execution_count": 7
  },
  {
   "metadata": {
    "ExecuteTime": {
     "end_time": "2025-06-11T00:01:49.982579Z",
     "start_time": "2025-06-11T00:01:49.979565Z"
    }
   },
   "cell_type": "code",
   "source": "dataset.interactions.df.shape",
   "outputs": [
    {
     "data": {
      "text/plain": [
       "(1000209, 4)"
      ]
     },
     "execution_count": 8,
     "metadata": {},
     "output_type": "execute_result"
    }
   ],
   "execution_count": 8
  },
  {
   "cell_type": "code",
   "metadata": {
    "ExecuteTime": {
     "end_time": "2025-06-11T00:01:50.056950Z",
     "start_time": "2025-06-11T00:01:50.051503Z"
    }
   },
   "source": [
    "RANDOM_STATE=60\n",
    "torch.use_deterministic_algorithms(True)\n",
    "seed_everything(RANDOM_STATE, workers=True)"
   ],
   "outputs": [
    {
     "name": "stderr",
     "output_type": "stream",
     "text": [
      "Seed set to 60\n"
     ]
    },
    {
     "data": {
      "text/plain": [
       "60"
      ]
     },
     "execution_count": 9,
     "metadata": {},
     "output_type": "execute_result"
    }
   ],
   "execution_count": 9
  },
  {
   "metadata": {
    "ExecuteTime": {
     "end_time": "2025-06-11T00:01:50.311648Z",
     "start_time": "2025-06-11T00:01:50.199023Z"
    }
   },
   "cell_type": "code",
   "source": [
    "paper_df =   pd.read_csv(\"sasrec_format.csv\")\n",
    "paper_df.head()"
   ],
   "outputs": [
    {
     "data": {
      "text/plain": [
       "   index  user_id                                  sequence_item_ids  \\\n",
       "0   4260     4261  260,2302,2312,2154,902,2616,745,720,3429,1223,...   \n",
       "1   4645     4646  337,2587,409,260,1210,1288,2153,2858,3147,2959...   \n",
       "2    990      991  2670,278,1968,1198,1097,1235,2396,1277,2243,91...   \n",
       "3   4261     4262  1097,1226,1373,858,1081,1173,3751,3770,3763,37...   \n",
       "4   3297     3298  1746,2496,1805,1993,1614,3095,2858,2188,2706,2...   \n",
       "\n",
       "                                    sequence_ratings  \\\n",
       "0  5,4,3,3,3,2,5,3,3,5,3,5,3,4,3,5,3,5,5,5,4,3,5,...   \n",
       "1  3,2,2,4,4,2,1,5,4,2,3,4,3,3,4,4,1,1,3,5,5,3,4,...   \n",
       "2  2,3,4,4,2,5,3,3,4,4,3,3,4,3,4,4,4,3,5,3,4,3,5,...   \n",
       "3  4,5,4,5,4,2,5,3,3,3,4,5,4,3,4,4,3,4,4,5,4,4,4,...   \n",
       "4  3,3,5,2,5,4,5,4,4,3,4,5,5,5,5,4,5,5,4,4,5,5,5,...   \n",
       "\n",
       "                                 sequence_timestamps  sex  age_group  \\\n",
       "0  965305148,965305148,965305189,965305189,965305...    0          3   \n",
       "1  963968496,963968496,963968496,963968496,963968...    0          2   \n",
       "2  975086183,975086297,975086297,975086414,975086...    0          2   \n",
       "3  965305021,965305021,965305046,965305046,965305...    0          3   \n",
       "4  968047151,968047191,968047228,968047285,968047...    1          0   \n",
       "\n",
       "   occupation  zip_code  \n",
       "0           6       346  \n",
       "1           6      2796  \n",
       "2           9      1597  \n",
       "3           6       286  \n",
       "4          10       822  "
      ],
      "text/html": [
       "<div>\n",
       "<style scoped>\n",
       "    .dataframe tbody tr th:only-of-type {\n",
       "        vertical-align: middle;\n",
       "    }\n",
       "\n",
       "    .dataframe tbody tr th {\n",
       "        vertical-align: top;\n",
       "    }\n",
       "\n",
       "    .dataframe thead th {\n",
       "        text-align: right;\n",
       "    }\n",
       "</style>\n",
       "<table border=\"1\" class=\"dataframe\">\n",
       "  <thead>\n",
       "    <tr style=\"text-align: right;\">\n",
       "      <th></th>\n",
       "      <th>index</th>\n",
       "      <th>user_id</th>\n",
       "      <th>sequence_item_ids</th>\n",
       "      <th>sequence_ratings</th>\n",
       "      <th>sequence_timestamps</th>\n",
       "      <th>sex</th>\n",
       "      <th>age_group</th>\n",
       "      <th>occupation</th>\n",
       "      <th>zip_code</th>\n",
       "    </tr>\n",
       "  </thead>\n",
       "  <tbody>\n",
       "    <tr>\n",
       "      <th>0</th>\n",
       "      <td>4260</td>\n",
       "      <td>4261</td>\n",
       "      <td>260,2302,2312,2154,902,2616,745,720,3429,1223,...</td>\n",
       "      <td>5,4,3,3,3,2,5,3,3,5,3,5,3,4,3,5,3,5,5,5,4,3,5,...</td>\n",
       "      <td>965305148,965305148,965305189,965305189,965305...</td>\n",
       "      <td>0</td>\n",
       "      <td>3</td>\n",
       "      <td>6</td>\n",
       "      <td>346</td>\n",
       "    </tr>\n",
       "    <tr>\n",
       "      <th>1</th>\n",
       "      <td>4645</td>\n",
       "      <td>4646</td>\n",
       "      <td>337,2587,409,260,1210,1288,2153,2858,3147,2959...</td>\n",
       "      <td>3,2,2,4,4,2,1,5,4,2,3,4,3,3,4,4,1,1,3,5,5,3,4,...</td>\n",
       "      <td>963968496,963968496,963968496,963968496,963968...</td>\n",
       "      <td>0</td>\n",
       "      <td>2</td>\n",
       "      <td>6</td>\n",
       "      <td>2796</td>\n",
       "    </tr>\n",
       "    <tr>\n",
       "      <th>2</th>\n",
       "      <td>990</td>\n",
       "      <td>991</td>\n",
       "      <td>2670,278,1968,1198,1097,1235,2396,1277,2243,91...</td>\n",
       "      <td>2,3,4,4,2,5,3,3,4,4,3,3,4,3,4,4,4,3,5,3,4,3,5,...</td>\n",
       "      <td>975086183,975086297,975086297,975086414,975086...</td>\n",
       "      <td>0</td>\n",
       "      <td>2</td>\n",
       "      <td>9</td>\n",
       "      <td>1597</td>\n",
       "    </tr>\n",
       "    <tr>\n",
       "      <th>3</th>\n",
       "      <td>4261</td>\n",
       "      <td>4262</td>\n",
       "      <td>1097,1226,1373,858,1081,1173,3751,3770,3763,37...</td>\n",
       "      <td>4,5,4,5,4,2,5,3,3,3,4,5,4,3,4,4,3,4,4,5,4,4,4,...</td>\n",
       "      <td>965305021,965305021,965305046,965305046,965305...</td>\n",
       "      <td>0</td>\n",
       "      <td>3</td>\n",
       "      <td>6</td>\n",
       "      <td>286</td>\n",
       "    </tr>\n",
       "    <tr>\n",
       "      <th>4</th>\n",
       "      <td>3297</td>\n",
       "      <td>3298</td>\n",
       "      <td>1746,2496,1805,1993,1614,3095,2858,2188,2706,2...</td>\n",
       "      <td>3,3,5,2,5,4,5,4,4,3,4,5,5,5,5,4,5,5,4,4,5,5,5,...</td>\n",
       "      <td>968047151,968047191,968047228,968047285,968047...</td>\n",
       "      <td>1</td>\n",
       "      <td>0</td>\n",
       "      <td>10</td>\n",
       "      <td>822</td>\n",
       "    </tr>\n",
       "  </tbody>\n",
       "</table>\n",
       "</div>"
      ]
     },
     "execution_count": 10,
     "metadata": {},
     "output_type": "execute_result"
    }
   ],
   "execution_count": 10
  },
  {
   "metadata": {
    "ExecuteTime": {
     "end_time": "2025-06-11T00:01:50.358481Z",
     "start_time": "2025-06-11T00:01:50.355565Z"
    }
   },
   "cell_type": "code",
   "source": "paper_df = paper_df[[\"index\",\"user_id\", \"sequence_item_ids\", \"sequence_ratings\", \"sequence_timestamps\"]]",
   "outputs": [],
   "execution_count": 11
  },
  {
   "metadata": {
    "ExecuteTime": {
     "end_time": "2025-06-11T00:01:53.988095Z",
     "start_time": "2025-06-11T00:01:50.398230Z"
    }
   },
   "cell_type": "code",
   "source": [
    "import pandas as pd\n",
    "import ast\n",
    "\n",
    "cols_to_expand = [\"sequence_item_ids\", \"sequence_ratings\", \"sequence_timestamps\"]\n",
    "\n",
    "# Преобразуем строки в списки\n",
    "for col in cols_to_expand:\n",
    "    paper_df[col] = paper_df[col].apply(ast.literal_eval)\n",
    "\n",
    "# Разбираем на отдельные строки\n",
    "expanded_df = paper_df[[\"user_id\"] + cols_to_expand]\n",
    "expanded_df = expanded_df.explode(cols_to_expand)\n",
    "\n",
    "# Переименовываем\n",
    "expanded_df = expanded_df.rename(columns={\n",
    "    \"sequence_item_ids\": \"item_id\",\n",
    "    \"sequence_ratings\": \"rating\",\n",
    "    \"sequence_timestamps\": \"timestamp\"\n",
    "})\n",
    "\n",
    "# Приводим к правильным типам\n",
    "expanded_df[\"item_id\"] = expanded_df[\"item_id\"].astype(int)\n",
    "expanded_df[\"rating\"] = expanded_df[\"rating\"].astype(float)\n",
    "expanded_df[\"timestamp\"] = expanded_df[\"timestamp\"].astype(int)\n",
    "\n",
    "# Преобразуем Unix timestamp в datetime\n",
    "expanded_df[\"datetime\"] = pd.to_datetime(expanded_df[\"timestamp\"], unit=\"s\")\n",
    "\n",
    "# Убираем временный столбец с timestamp, если не нужен\n",
    "expanded_df = expanded_df.drop(columns=[\"timestamp\"])\n",
    "\n",
    "# Сбрасываем индекс\n",
    "expanded_df.reset_index(drop=True, inplace=True)"
   ],
   "outputs": [],
   "execution_count": 12
  },
  {
   "metadata": {
    "ExecuteTime": {
     "end_time": "2025-06-11T00:01:54.021662Z",
     "start_time": "2025-06-11T00:01:54.014854Z"
    }
   },
   "cell_type": "code",
   "source": "expanded_df",
   "outputs": [
    {
     "data": {
      "text/plain": [
       "         user_id  item_id  rating            datetime\n",
       "0           4261      260     5.0 2000-08-03 12:19:08\n",
       "1           4261     2302     4.0 2000-08-03 12:19:08\n",
       "2           4261     2312     3.0 2000-08-03 12:19:49\n",
       "3           4261     2154     3.0 2000-08-03 12:19:49\n",
       "4           4261      902     3.0 2000-08-03 12:19:49\n",
       "...          ...      ...     ...                 ...\n",
       "1000204     5824     2381     2.0 2000-05-10 15:04:25\n",
       "1000205     5824      473     1.0 2000-05-10 15:04:25\n",
       "1000206     5824     2799     1.0 2000-05-10 15:04:53\n",
       "1000207     5824     2382     1.0 2000-05-10 15:05:14\n",
       "1000208     5824     2809     1.0 2000-05-10 15:05:14\n",
       "\n",
       "[1000209 rows x 4 columns]"
      ],
      "text/html": [
       "<div>\n",
       "<style scoped>\n",
       "    .dataframe tbody tr th:only-of-type {\n",
       "        vertical-align: middle;\n",
       "    }\n",
       "\n",
       "    .dataframe tbody tr th {\n",
       "        vertical-align: top;\n",
       "    }\n",
       "\n",
       "    .dataframe thead th {\n",
       "        text-align: right;\n",
       "    }\n",
       "</style>\n",
       "<table border=\"1\" class=\"dataframe\">\n",
       "  <thead>\n",
       "    <tr style=\"text-align: right;\">\n",
       "      <th></th>\n",
       "      <th>user_id</th>\n",
       "      <th>item_id</th>\n",
       "      <th>rating</th>\n",
       "      <th>datetime</th>\n",
       "    </tr>\n",
       "  </thead>\n",
       "  <tbody>\n",
       "    <tr>\n",
       "      <th>0</th>\n",
       "      <td>4261</td>\n",
       "      <td>260</td>\n",
       "      <td>5.0</td>\n",
       "      <td>2000-08-03 12:19:08</td>\n",
       "    </tr>\n",
       "    <tr>\n",
       "      <th>1</th>\n",
       "      <td>4261</td>\n",
       "      <td>2302</td>\n",
       "      <td>4.0</td>\n",
       "      <td>2000-08-03 12:19:08</td>\n",
       "    </tr>\n",
       "    <tr>\n",
       "      <th>2</th>\n",
       "      <td>4261</td>\n",
       "      <td>2312</td>\n",
       "      <td>3.0</td>\n",
       "      <td>2000-08-03 12:19:49</td>\n",
       "    </tr>\n",
       "    <tr>\n",
       "      <th>3</th>\n",
       "      <td>4261</td>\n",
       "      <td>2154</td>\n",
       "      <td>3.0</td>\n",
       "      <td>2000-08-03 12:19:49</td>\n",
       "    </tr>\n",
       "    <tr>\n",
       "      <th>4</th>\n",
       "      <td>4261</td>\n",
       "      <td>902</td>\n",
       "      <td>3.0</td>\n",
       "      <td>2000-08-03 12:19:49</td>\n",
       "    </tr>\n",
       "    <tr>\n",
       "      <th>...</th>\n",
       "      <td>...</td>\n",
       "      <td>...</td>\n",
       "      <td>...</td>\n",
       "      <td>...</td>\n",
       "    </tr>\n",
       "    <tr>\n",
       "      <th>1000204</th>\n",
       "      <td>5824</td>\n",
       "      <td>2381</td>\n",
       "      <td>2.0</td>\n",
       "      <td>2000-05-10 15:04:25</td>\n",
       "    </tr>\n",
       "    <tr>\n",
       "      <th>1000205</th>\n",
       "      <td>5824</td>\n",
       "      <td>473</td>\n",
       "      <td>1.0</td>\n",
       "      <td>2000-05-10 15:04:25</td>\n",
       "    </tr>\n",
       "    <tr>\n",
       "      <th>1000206</th>\n",
       "      <td>5824</td>\n",
       "      <td>2799</td>\n",
       "      <td>1.0</td>\n",
       "      <td>2000-05-10 15:04:53</td>\n",
       "    </tr>\n",
       "    <tr>\n",
       "      <th>1000207</th>\n",
       "      <td>5824</td>\n",
       "      <td>2382</td>\n",
       "      <td>1.0</td>\n",
       "      <td>2000-05-10 15:05:14</td>\n",
       "    </tr>\n",
       "    <tr>\n",
       "      <th>1000208</th>\n",
       "      <td>5824</td>\n",
       "      <td>2809</td>\n",
       "      <td>1.0</td>\n",
       "      <td>2000-05-10 15:05:14</td>\n",
       "    </tr>\n",
       "  </tbody>\n",
       "</table>\n",
       "<p>1000209 rows × 4 columns</p>\n",
       "</div>"
      ]
     },
     "execution_count": 13,
     "metadata": {},
     "output_type": "execute_result"
    }
   ],
   "execution_count": 13
  },
  {
   "metadata": {
    "ExecuteTime": {
     "end_time": "2025-06-11T00:01:54.090468Z",
     "start_time": "2025-06-11T00:01:54.079017Z"
    }
   },
   "cell_type": "code",
   "source": [
    "result = expanded_df[[\"user_id\", \"item_id\", \"datetime\"]]\n",
    "result[\"weight\"] = 1\n",
    "result"
   ],
   "outputs": [
    {
     "data": {
      "text/plain": [
       "         user_id  item_id            datetime  weight\n",
       "0           4261      260 2000-08-03 12:19:08       1\n",
       "1           4261     2302 2000-08-03 12:19:08       1\n",
       "2           4261     2312 2000-08-03 12:19:49       1\n",
       "3           4261     2154 2000-08-03 12:19:49       1\n",
       "4           4261      902 2000-08-03 12:19:49       1\n",
       "...          ...      ...                 ...     ...\n",
       "1000204     5824     2381 2000-05-10 15:04:25       1\n",
       "1000205     5824      473 2000-05-10 15:04:25       1\n",
       "1000206     5824     2799 2000-05-10 15:04:53       1\n",
       "1000207     5824     2382 2000-05-10 15:05:14       1\n",
       "1000208     5824     2809 2000-05-10 15:05:14       1\n",
       "\n",
       "[1000209 rows x 4 columns]"
      ],
      "text/html": [
       "<div>\n",
       "<style scoped>\n",
       "    .dataframe tbody tr th:only-of-type {\n",
       "        vertical-align: middle;\n",
       "    }\n",
       "\n",
       "    .dataframe tbody tr th {\n",
       "        vertical-align: top;\n",
       "    }\n",
       "\n",
       "    .dataframe thead th {\n",
       "        text-align: right;\n",
       "    }\n",
       "</style>\n",
       "<table border=\"1\" class=\"dataframe\">\n",
       "  <thead>\n",
       "    <tr style=\"text-align: right;\">\n",
       "      <th></th>\n",
       "      <th>user_id</th>\n",
       "      <th>item_id</th>\n",
       "      <th>datetime</th>\n",
       "      <th>weight</th>\n",
       "    </tr>\n",
       "  </thead>\n",
       "  <tbody>\n",
       "    <tr>\n",
       "      <th>0</th>\n",
       "      <td>4261</td>\n",
       "      <td>260</td>\n",
       "      <td>2000-08-03 12:19:08</td>\n",
       "      <td>1</td>\n",
       "    </tr>\n",
       "    <tr>\n",
       "      <th>1</th>\n",
       "      <td>4261</td>\n",
       "      <td>2302</td>\n",
       "      <td>2000-08-03 12:19:08</td>\n",
       "      <td>1</td>\n",
       "    </tr>\n",
       "    <tr>\n",
       "      <th>2</th>\n",
       "      <td>4261</td>\n",
       "      <td>2312</td>\n",
       "      <td>2000-08-03 12:19:49</td>\n",
       "      <td>1</td>\n",
       "    </tr>\n",
       "    <tr>\n",
       "      <th>3</th>\n",
       "      <td>4261</td>\n",
       "      <td>2154</td>\n",
       "      <td>2000-08-03 12:19:49</td>\n",
       "      <td>1</td>\n",
       "    </tr>\n",
       "    <tr>\n",
       "      <th>4</th>\n",
       "      <td>4261</td>\n",
       "      <td>902</td>\n",
       "      <td>2000-08-03 12:19:49</td>\n",
       "      <td>1</td>\n",
       "    </tr>\n",
       "    <tr>\n",
       "      <th>...</th>\n",
       "      <td>...</td>\n",
       "      <td>...</td>\n",
       "      <td>...</td>\n",
       "      <td>...</td>\n",
       "    </tr>\n",
       "    <tr>\n",
       "      <th>1000204</th>\n",
       "      <td>5824</td>\n",
       "      <td>2381</td>\n",
       "      <td>2000-05-10 15:04:25</td>\n",
       "      <td>1</td>\n",
       "    </tr>\n",
       "    <tr>\n",
       "      <th>1000205</th>\n",
       "      <td>5824</td>\n",
       "      <td>473</td>\n",
       "      <td>2000-05-10 15:04:25</td>\n",
       "      <td>1</td>\n",
       "    </tr>\n",
       "    <tr>\n",
       "      <th>1000206</th>\n",
       "      <td>5824</td>\n",
       "      <td>2799</td>\n",
       "      <td>2000-05-10 15:04:53</td>\n",
       "      <td>1</td>\n",
       "    </tr>\n",
       "    <tr>\n",
       "      <th>1000207</th>\n",
       "      <td>5824</td>\n",
       "      <td>2382</td>\n",
       "      <td>2000-05-10 15:05:14</td>\n",
       "      <td>1</td>\n",
       "    </tr>\n",
       "    <tr>\n",
       "      <th>1000208</th>\n",
       "      <td>5824</td>\n",
       "      <td>2809</td>\n",
       "      <td>2000-05-10 15:05:14</td>\n",
       "      <td>1</td>\n",
       "    </tr>\n",
       "  </tbody>\n",
       "</table>\n",
       "<p>1000209 rows × 4 columns</p>\n",
       "</div>"
      ]
     },
     "execution_count": 14,
     "metadata": {},
     "output_type": "execute_result"
    }
   ],
   "execution_count": 14
  },
  {
   "metadata": {
    "ExecuteTime": {
     "end_time": "2025-06-11T00:01:54.264882Z",
     "start_time": "2025-06-11T00:01:54.224806Z"
    }
   },
   "cell_type": "code",
   "source": "dataset = Dataset.construct(result)",
   "outputs": [],
   "execution_count": 15
  },
  {
   "metadata": {
    "ExecuteTime": {
     "end_time": "2025-06-11T00:01:54.375880Z",
     "start_time": "2025-06-11T00:01:54.373856Z"
    }
   },
   "cell_type": "code",
   "source": [
    "splitter = LastNSplitter(1,1)\n",
    "train_dataset = None\n",
    "test_df = None"
   ],
   "outputs": [],
   "execution_count": 16
  },
  {
   "metadata": {
    "ExecuteTime": {
     "end_time": "2025-06-11T00:01:54.531408Z",
     "start_time": "2025-06-11T00:01:54.529149Z"
    }
   },
   "cell_type": "code",
   "source": "split_iterator = splitter.split(dataset.interactions, collect_fold_stats=True)",
   "outputs": [],
   "execution_count": 17
  },
  {
   "metadata": {
    "ExecuteTime": {
     "end_time": "2025-06-11T00:01:54.788564Z",
     "start_time": "2025-06-11T00:01:54.623025Z"
    }
   },
   "cell_type": "code",
   "source": [
    "for train_ids, test_ids, split_info in split_iterator:\n",
    "    \n",
    "    fold_dataset = dataset.filter_interactions(\n",
    "        row_indexes_to_keep=train_ids,\n",
    "        keep_external_ids=True,\n",
    "    )\n",
    "    interactions_df_test = dataset.interactions.df.loc[test_ids]\n",
    "    interactions_df_test[Columns.User] = dataset.user_id_map.convert_to_external(interactions_df_test[Columns.User])\n",
    "    interactions_df_test[Columns.Item] = dataset.item_id_map.convert_to_external(interactions_df_test[Columns.Item])\n",
    "    train_dataset = fold_dataset\n",
    "    test_df  =interactions_df_test "
   ],
   "outputs": [],
   "execution_count": 18
  },
  {
   "metadata": {
    "ExecuteTime": {
     "end_time": "2025-06-11T00:01:54.819987Z",
     "start_time": "2025-06-11T00:01:54.813553Z"
    }
   },
   "cell_type": "code",
   "source": "test_df",
   "outputs": [
    {
     "data": {
      "text/plain": [
       "         user_id  item_id  weight            datetime\n",
       "275         4261     1181     1.0 2000-08-03 13:12:40\n",
       "315         4646       25     1.0 2000-07-19 01:09:55\n",
       "374          991      955     1.0 2000-11-28 22:10:40\n",
       "413         4262      673     1.0 2000-08-03 12:23:24\n",
       "445         3298     3785     1.0 2000-09-04 06:19:22\n",
       "...          ...      ...     ...                 ...\n",
       "997765      2787     3555     1.0 2000-10-31 04:41:43\n",
       "997811      5591     3535     1.0 2000-09-25 00:19:49\n",
       "999554      4277     2675     1.0 2003-02-25 17:15:25\n",
       "999658      4308     1824     1.0 2000-08-03 00:16:48\n",
       "1000207     5824     2382     1.0 2000-05-10 15:05:14\n",
       "\n",
       "[6038 rows x 4 columns]"
      ],
      "text/html": [
       "<div>\n",
       "<style scoped>\n",
       "    .dataframe tbody tr th:only-of-type {\n",
       "        vertical-align: middle;\n",
       "    }\n",
       "\n",
       "    .dataframe tbody tr th {\n",
       "        vertical-align: top;\n",
       "    }\n",
       "\n",
       "    .dataframe thead th {\n",
       "        text-align: right;\n",
       "    }\n",
       "</style>\n",
       "<table border=\"1\" class=\"dataframe\">\n",
       "  <thead>\n",
       "    <tr style=\"text-align: right;\">\n",
       "      <th></th>\n",
       "      <th>user_id</th>\n",
       "      <th>item_id</th>\n",
       "      <th>weight</th>\n",
       "      <th>datetime</th>\n",
       "    </tr>\n",
       "  </thead>\n",
       "  <tbody>\n",
       "    <tr>\n",
       "      <th>275</th>\n",
       "      <td>4261</td>\n",
       "      <td>1181</td>\n",
       "      <td>1.0</td>\n",
       "      <td>2000-08-03 13:12:40</td>\n",
       "    </tr>\n",
       "    <tr>\n",
       "      <th>315</th>\n",
       "      <td>4646</td>\n",
       "      <td>25</td>\n",
       "      <td>1.0</td>\n",
       "      <td>2000-07-19 01:09:55</td>\n",
       "    </tr>\n",
       "    <tr>\n",
       "      <th>374</th>\n",
       "      <td>991</td>\n",
       "      <td>955</td>\n",
       "      <td>1.0</td>\n",
       "      <td>2000-11-28 22:10:40</td>\n",
       "    </tr>\n",
       "    <tr>\n",
       "      <th>413</th>\n",
       "      <td>4262</td>\n",
       "      <td>673</td>\n",
       "      <td>1.0</td>\n",
       "      <td>2000-08-03 12:23:24</td>\n",
       "    </tr>\n",
       "    <tr>\n",
       "      <th>445</th>\n",
       "      <td>3298</td>\n",
       "      <td>3785</td>\n",
       "      <td>1.0</td>\n",
       "      <td>2000-09-04 06:19:22</td>\n",
       "    </tr>\n",
       "    <tr>\n",
       "      <th>...</th>\n",
       "      <td>...</td>\n",
       "      <td>...</td>\n",
       "      <td>...</td>\n",
       "      <td>...</td>\n",
       "    </tr>\n",
       "    <tr>\n",
       "      <th>997765</th>\n",
       "      <td>2787</td>\n",
       "      <td>3555</td>\n",
       "      <td>1.0</td>\n",
       "      <td>2000-10-31 04:41:43</td>\n",
       "    </tr>\n",
       "    <tr>\n",
       "      <th>997811</th>\n",
       "      <td>5591</td>\n",
       "      <td>3535</td>\n",
       "      <td>1.0</td>\n",
       "      <td>2000-09-25 00:19:49</td>\n",
       "    </tr>\n",
       "    <tr>\n",
       "      <th>999554</th>\n",
       "      <td>4277</td>\n",
       "      <td>2675</td>\n",
       "      <td>1.0</td>\n",
       "      <td>2003-02-25 17:15:25</td>\n",
       "    </tr>\n",
       "    <tr>\n",
       "      <th>999658</th>\n",
       "      <td>4308</td>\n",
       "      <td>1824</td>\n",
       "      <td>1.0</td>\n",
       "      <td>2000-08-03 00:16:48</td>\n",
       "    </tr>\n",
       "    <tr>\n",
       "      <th>1000207</th>\n",
       "      <td>5824</td>\n",
       "      <td>2382</td>\n",
       "      <td>1.0</td>\n",
       "      <td>2000-05-10 15:05:14</td>\n",
       "    </tr>\n",
       "  </tbody>\n",
       "</table>\n",
       "<p>6038 rows × 4 columns</p>\n",
       "</div>"
      ]
     },
     "execution_count": 19,
     "metadata": {},
     "output_type": "execute_result"
    }
   ],
   "execution_count": 19
  },
  {
   "metadata": {},
   "cell_type": "markdown",
   "source": [
    "### Validation fold\n",
    "\n",
    "Models do not create validation fold during `fit` by default. However, there is a simple way to force it.\n",
    "\n",
    "Let's assume that we want to use Leave-One-Out validation for specific set of users. To apply it we need to implement `get_val_mask_func` with required logic and pass it to model during initialization.\n",
    "\n",
    "This function should receive interactions with standard RecTools columns and return a binary mask which identifies interactions that should not be used during model training. But instrad should be used for validation loss calculation. They will also be available for Lightning Callbacks to allow RecSys metrics computations.\n",
    "\n",
    "*Please make sure you do not use `partial` while doing this. Partial functions cannot be by serialized using RecTools.*"
   ]
  },
  {
   "metadata": {
    "ExecuteTime": {
     "end_time": "2025-06-11T00:01:54.917624Z",
     "start_time": "2025-06-11T00:01:54.909633Z"
    }
   },
   "cell_type": "code",
   "source": [
    "# Implement `get_val_mask_func`\n",
    "\n",
    "unique_users = ratings[Columns.User].unique()\n",
    "VAL_USERS = unique_users\n",
    "\n",
    "def leave_one_out_mask_for_users(interactions: pd.DataFrame, val_users: ExternalIds) -> np.ndarray:\n",
    "    rank = (\n",
    "        interactions\n",
    "        .sort_values(Columns.Datetime, ascending=False, kind=\"stable\")\n",
    "        .groupby(Columns.User, sort=False)\n",
    "        .cumcount()\n",
    "    )\n",
    "    val_mask = (\n",
    "        (interactions[Columns.User].isin(val_users))\n",
    "        & (rank == 0)\n",
    "    )\n",
    "    return val_mask.values\n",
    "\n",
    "# We do not use `partial` for correct serialization of the model\n",
    "def get_val_mask_func(interactions: pd.DataFrame):\n",
    "    return leave_one_out_mask_for_users(interactions, val_users = VAL_USERS)"
   ],
   "outputs": [],
   "execution_count": 20
  },
  {
   "metadata": {
    "ExecuteTime": {
     "end_time": "2025-06-11T00:01:54.960718Z",
     "start_time": "2025-06-11T00:01:54.954627Z"
    }
   },
   "cell_type": "code",
   "source": [
    "class RecallCallback(Callback):  # with filter\n",
    "    name: str = \"recall\"\n",
    "\n",
    "    def __init__(self, k: int, prog_bar: bool = True) -> None:\n",
    "        self.k = k\n",
    "        self.name += f\"@{k}\"\n",
    "        self.prog_bar = prog_bar\n",
    "\n",
    "        self.batch_recall_per_users: tp.List[torch.Tensor] = []\n",
    "\n",
    "    def on_validation_batch_end(\n",
    "        self,\n",
    "        trainer: Trainer,\n",
    "        pl_module: LightningModule,\n",
    "        outputs: tp.Dict[str, torch.Tensor],\n",
    "        batch: tp.Dict[str, torch.Tensor],\n",
    "        batch_idx: int,\n",
    "        dataloader_idx: int = 0,\n",
    "    ) -> None:\n",
    "\n",
    "        if \"logits\" not in outputs:\n",
    "            session_embs = pl_module.torch_model.encode_sessions(\n",
    "                batch, pl_module.item_embs\n",
    "            )[:, -1, :]\n",
    "            logits = pl_module.torch_model.similarity_module(\n",
    "                session_embs, pl_module.item_embs\n",
    "            )\n",
    "        else:\n",
    "            logits = outputs[\"logits\"]\n",
    "\n",
    "        x = batch[\"x\"]\n",
    "        users = x.shape[0]\n",
    "        row_ind = np.arange(users).repeat(x.shape[1])\n",
    "        col_ind = x.flatten().detach().cpu().numpy()\n",
    "        mask = col_ind != 0\n",
    "        data = np.ones_like(row_ind[mask])\n",
    "        filter_csr = sparse.csr_matrix(\n",
    "            (data, (row_ind[mask], col_ind[mask])),\n",
    "            shape=(users, pl_module.torch_model.item_model.n_items),\n",
    "        )\n",
    "        mask = torch.from_numpy((filter_csr != 0).toarray()).to(logits.device)\n",
    "        scores = torch.masked_fill(logits, mask, float(\"-inf\"))\n",
    "\n",
    "        _, batch_recos = scores.topk(k=self.k)\n",
    "\n",
    "        targets = batch[\"y\"]\n",
    "\n",
    "        # assume all users have the same amount of TP\n",
    "        liked = targets.shape[1]\n",
    "        tp_mask = torch.stack(\n",
    "            [\n",
    "                torch.isin(batch_recos[uid], targets[uid])\n",
    "                for uid in range(batch_recos.shape[0])\n",
    "            ]\n",
    "        )\n",
    "        recall_per_users = tp_mask.sum(dim=1) / liked\n",
    "\n",
    "        self.batch_recall_per_users.append(recall_per_users)\n",
    "\n",
    "    def on_validation_epoch_end(\n",
    "        self, trainer: Trainer, pl_module: LightningModule\n",
    "    ) -> None:\n",
    "        recall = float(torch.concat(self.batch_recall_per_users).mean())\n",
    "        self.log_dict(\n",
    "            {self.name: recall}, on_step=False, on_epoch=True, prog_bar=self.prog_bar\n",
    "        )\n",
    "\n",
    "        self.batch_recall_per_users.clear()"
   ],
   "outputs": [],
   "execution_count": 21
  },
  {
   "cell_type": "markdown",
   "metadata": {},
   "source": [
    "In this guide we are going to use custom Lighhning trainers. We need to implement function that return desired Lightining trainer and pass it to model during initialization."
   ]
  },
  {
   "metadata": {
    "ExecuteTime": {
     "end_time": "2025-06-11T00:01:55.027678Z",
     "start_time": "2025-06-11T00:01:55.025610Z"
    }
   },
   "cell_type": "code",
   "source": [
    "\n",
    "# Callback for calculating RecSys metrics\n",
    "recall_callback = RecallCallback(k=10, prog_bar=True)"
   ],
   "outputs": [],
   "execution_count": 22
  },
  {
   "metadata": {
    "ExecuteTime": {
     "end_time": "2025-06-11T00:01:55.157133Z",
     "start_time": "2025-06-11T00:01:55.153795Z"
    }
   },
   "cell_type": "code",
   "source": [
    "# Checkpoint last epoch\n",
    "last_epoch_ckpt = ModelCheckpoint(filename=\"last_epoch\")\n",
    "\n",
    "# Checkpoints based on validation loss\n",
    "least_val_loss_ckpt = ModelCheckpoint(\n",
    "    monitor=\"val_loss\",   # or just pass \"val_loss\" here,\n",
    "    mode=\"min\",\n",
    "    filename=\"{epoch}-{val_loss:.2f}\",\n",
    "    save_top_k=2,  # Let's save top 2 checkpoints for validation loss\n",
    ")"
   ],
   "outputs": [],
   "execution_count": 23
  },
  {
   "cell_type": "code",
   "metadata": {
    "ExecuteTime": {
     "end_time": "2025-06-11T00:01:55.252030Z",
     "start_time": "2025-06-11T00:01:55.249447Z"
    }
   },
   "source": [
    "# Function to get custom trainer\n",
    "\n",
    "def get_debug_trainer() -> Trainer:\n",
    "    return Trainer(\n",
    "        accelerator=\"gpu\",\n",
    "        devices=1,\n",
    "        min_epochs=2,\n",
    "        max_epochs=2,\n",
    "        limit_train_batches=2,\n",
    "        deterministic=True,\n",
    "        enable_model_summary=False,\n",
    "        enable_progress_bar=True,\n",
    "        callbacks=[recall_callback, last_epoch_ckpt, least_val_loss_ckpt],  # pass our callbacks\n",
    "        logger = CSVLogger(\"test_logs\"),  # We use CSV logging for this guide but there are many other options\n",
    "    )"
   ],
   "outputs": [],
   "execution_count": 24
  },
  {
   "cell_type": "code",
   "metadata": {
    "ExecuteTime": {
     "end_time": "2025-06-11T00:01:55.321127Z",
     "start_time": "2025-06-11T00:01:55.280444Z"
    }
   },
   "source": [
    "session_max_len = 200\n",
    "extra_cols_kwargs =  {\"extra_cols_kwargs\": {\"extra_cols\": [Columns.Datetime]}}\n",
    "transformer_layers_kwargs = {\n",
    "    \"attention_dim\": 50,\n",
    "    \"linear_hidden_dim\":50,\n",
    "    \"attn_dropout_ratio\": 0.1,\n",
    "    \"session_max_len\": session_max_len,\n",
    "    \"attention_mode\" : \"rel_pos_ts_bias\"\n",
    "}\n",
    "lightning_module_kwargs = {\n",
    "    \"temperature\": 0.05\n",
    "}\n",
    "model  = HSTUModel(session_max_len = session_max_len,\n",
    "    data_preparator_kwargs=extra_cols_kwargs,\n",
    "    transformer_layers_kwargs=transformer_layers_kwargs,\n",
    "    lightning_module_kwargs=lightning_module_kwargs,\n",
    "    item_net_block_types=(IdEmbeddingsItemNet,),\n",
    "    get_val_mask_func=get_val_mask_func,  # pass our custom `get_val_mask_func`\n",
    "    get_trainer_func=get_debug_trainer,  # pass our custom trainer func\n",
    "    verbose=1,\n",
    "    loss = 'sampled_softmax',\n",
    "    n_negatives= 128,\n",
    "    use_pos_emb = True,\n",
    "    dropout_rate = 0.2,\n",
    "    n_factors = 50,\n",
    "    n_heads = 1,\n",
    "    n_blocks = 2,\n",
    "    lr = 0.001,\n",
    "    batch_size=128,\n",
    ")"
   ],
   "outputs": [
    {
     "name": "stderr",
     "output_type": "stream",
     "text": [
      "GPU available: True (cuda), used: True\n",
      "TPU available: False, using: 0 TPU cores\n",
      "HPU available: False, using: 0 HPUs\n"
     ]
    },
    {
     "name": "stdout",
     "output_type": "stream",
     "text": [
      "{'extra_cols': ['datetime']}\n"
     ]
    }
   ],
   "execution_count": 25
  },
  {
   "cell_type": "markdown",
   "metadata": {},
   "source": [
    "### Validation loss\n",
    "\n",
    "Let's check how the validation loss is being logged."
   ]
  },
  {
   "cell_type": "code",
   "metadata": {
    "ExecuteTime": {
     "end_time": "2025-06-11T00:02:11.492780Z",
     "start_time": "2025-06-11T00:01:55.421585Z"
    }
   },
   "source": [
    "# Fit model. Validation fold and validation loss computation will be done under the hood.\n",
    "\n",
    "model.fit(train_dataset)"
   ],
   "outputs": [
    {
     "name": "stdout",
     "output_type": "stream",
     "text": [
      "кол-во айтемов 3646\n",
      "{'extra_cols': ['datetime']}\n"
     ]
    },
    {
     "name": "stderr",
     "output_type": "stream",
     "text": [
      "You are using a CUDA device ('NVIDIA A100 80GB PCIe') that has Tensor Cores. To properly utilize them, you should set `torch.set_float32_matmul_precision('medium' | 'high')` which will trade-off precision for performance. For more details, read https://pytorch.org/docs/stable/generated/torch.set_float32_matmul_precision.html#torch.set_float32_matmul_precision\n",
      "LOCAL_RANK: 0 - CUDA_VISIBLE_DEVICES: [0]\n"
     ]
    },
    {
     "name": "stdout",
     "output_type": "stream",
     "text": [
      "item_model.item_net_blocks.0.ids_emb.weight torch.Size([3646, 50])\n",
      "pos_encoding_layer.pos_emb.weight torch.Size([200, 50])\n",
      "transformer_layers.stu_blocks.0._uvqk torch.Size([50, 200])\n",
      "transformer_layers.stu_blocks.0._rel_attn_bias._ts_w torch.Size([129])\n",
      "transformer_layers.stu_blocks.0._rel_attn_bias._pos_w torch.Size([401])\n",
      "transformer_layers.stu_blocks.0._o.weight torch.Size([50, 50])\n",
      "transformer_layers.stu_blocks.0._o.bias torch.Size([50])\n",
      "transformer_layers.stu_blocks.1._uvqk torch.Size([50, 200])\n",
      "transformer_layers.stu_blocks.1._rel_attn_bias._ts_w torch.Size([129])\n",
      "transformer_layers.stu_blocks.1._rel_attn_bias._pos_w torch.Size([401])\n",
      "transformer_layers.stu_blocks.1._o.weight torch.Size([50, 50])\n",
      "transformer_layers.stu_blocks.1._o.bias torch.Size([50])\n",
      "transformer_layers.last_layernorm.weight torch.Size([50])\n",
      "transformer_layers.last_layernorm.bias torch.Size([50])\n"
     ]
    },
    {
     "data": {
      "text/plain": [
       "Sanity Checking: |          | 0/? [00:00<?, ?it/s]"
      ],
      "application/vnd.jupyter.widget-view+json": {
       "version_major": 2,
       "version_minor": 0,
       "model_id": "41b26b7f85e54069bd1634390e2387d0"
      }
     },
     "metadata": {},
     "output_type": "display_data"
    },
    {
     "data": {
      "text/plain": [
       "Training: |          | 0/? [00:00<?, ?it/s]"
      ],
      "application/vnd.jupyter.widget-view+json": {
       "version_major": 2,
       "version_minor": 0,
       "model_id": "460d84dbb7654ea8832f8500ed0f6ce2"
      }
     },
     "metadata": {},
     "output_type": "display_data"
    },
    {
     "data": {
      "text/plain": [
       "Validation: |          | 0/? [00:00<?, ?it/s]"
      ],
      "application/vnd.jupyter.widget-view+json": {
       "version_major": 2,
       "version_minor": 0,
       "model_id": "109bd92780bd4bb9a4f1dc63b191e22d"
      }
     },
     "metadata": {},
     "output_type": "display_data"
    },
    {
     "data": {
      "text/plain": [
       "Validation: |          | 0/? [00:00<?, ?it/s]"
      ],
      "application/vnd.jupyter.widget-view+json": {
       "version_major": 2,
       "version_minor": 0,
       "model_id": "0478bf9ed78a4f39bc400323ea511e36"
      }
     },
     "metadata": {},
     "output_type": "display_data"
    },
    {
     "name": "stderr",
     "output_type": "stream",
     "text": [
      "`Trainer.fit` stopped: `max_epochs=2` reached.\n"
     ]
    },
    {
     "data": {
      "text/plain": [
       "<rectools.models.nn.transformers.hstu.HSTUModel at 0x78f317101e40>"
      ]
     },
     "execution_count": 26,
     "metadata": {},
     "output_type": "execute_result"
    }
   ],
   "execution_count": 26
  },
  {
   "metadata": {
    "ExecuteTime": {
     "end_time": "2025-06-11T00:02:11.773881Z",
     "start_time": "2025-06-11T00:02:11.601334Z"
    }
   },
   "cell_type": "code",
   "source": [
    "!ls $model.fit_trainer.log_dir/checkpoints\n",
    "ckpt_path = os.path.join(model.fit_trainer.log_dir, \"checkpoints\", \"last_epoch.ckpt\")\n",
    "model.load_weights_from_checkpoint(ckpt_path)"
   ],
   "outputs": [
    {
     "name": "stdout",
     "output_type": "stream",
     "text": [
      "'epoch=0-val_loss=4.91.ckpt'  'epoch=1-val_loss=4.87.ckpt'   last_epoch.ckpt\r\n"
     ]
    }
   ],
   "execution_count": 27
  },
  {
   "metadata": {},
   "cell_type": "markdown",
   "source": "Инвариант - всегда надо клеить думми с таймстемпом. Откуда брать таймстемпы? В случае тестирования на последнем - передаём тестовый датафрейм, дёргаем строки с  \"users=[20]\", оттуда берём таймстемпы. В случае инференса передавать таймстемпы отдельно, поэтому напишем враппер, который обрабатывает два этих случая, а "
  },
  {
   "metadata": {},
   "cell_type": "markdown",
   "source": ""
  },
  {
   "metadata": {
    "ExecuteTime": {
     "end_time": "2025-06-11T00:02:11.805244Z",
     "start_time": "2025-06-11T00:02:11.803093Z"
    }
   },
   "cell_type": "code",
   "source": "ErrorBehaviour = tp.Literal[\"ignore\", \"warn\", \"raise\"]",
   "outputs": [],
   "execution_count": 28
  },
  {
   "metadata": {
    "ExecuteTime": {
     "end_time": "2025-06-11T00:02:11.849680Z",
     "start_time": "2025-06-11T00:02:11.847727Z"
    }
   },
   "cell_type": "code",
   "source": "user_test_id = 20",
   "outputs": [],
   "execution_count": 29
  },
  {
   "metadata": {
    "ExecuteTime": {
     "end_time": "2025-06-11T00:02:11.872810Z",
     "start_time": "2025-06-11T00:02:11.868556Z"
    }
   },
   "cell_type": "code",
   "source": [
    "def proxy_recommend(\n",
    "        model,\n",
    "        users: ExternalIds,\n",
    "        dataset: Dataset,\n",
    "        k: int,\n",
    "        filter_viewed: bool,\n",
    "        items_to_recommend: tp.Optional[ExternalIds] = None,\n",
    "        add_rank_col: bool = True,\n",
    "        on_unsupported_targets: ErrorBehaviour = \"raise\",\n",
    "        df_test = None, \n",
    "        df_timestamp = None,\n",
    "    ) -> pd.DataFrame:\n",
    "    #Логично,что df_test и df_timestamp придут во внешней индексации, потребуем тем не менее совпадения колонок с interactions\n",
    "    #ожидаю, что df_test лоо на последних айтемах, на каждего юзера по одному тесту, поэтому подклейка будет просто конкатенацией\n",
    "    dataset_recommend = dataset\n",
    "    \n",
    "    model_known_external_ids = model.data_preparator.get_known_item_ids()\n",
    "    dummy_common_item = np.intersect1d(dataset_recommend.item_id_map.external_ids, model_known_external_ids)[0]\n",
    "    if df_test is not None:\n",
    "        print(f\"common dummy id:{dummy_common_item}\")\n",
    "        in_external_view_dataset_recommend =  dataset_recommend.get_raw_interactions()\n",
    "        in_external_view_dataset_test =  df_test.copy()\n",
    "        in_external_view_dataset_test[Columns.Item] = dummy_common_item\n",
    "        \n",
    "        union = pd.concat([in_external_view_dataset_recommend, in_external_view_dataset_test])\n",
    "        new_dataset_recommend = Dataset.construct(union)\n",
    "        return model.recommend(users,new_dataset_recommend,k,filter_viewed,items_to_recommend,add_rank_col,on_unsupported_targets)\n",
    "    if df_timestamp is not None:\n",
    "        pass\n",
    "    \n",
    "    return model.recommend(users = users,dataset = dataset_recommend,k=k,filter_viewed= filter_viewed,items_to_recommend = items_to_recommend,add_rank_col = add_rank_col,on_unsupported_targets = on_unsupported_targets)\n",
    "    "
   ],
   "outputs": [],
   "execution_count": 30
  },
  {
   "metadata": {
    "ExecuteTime": {
     "end_time": "2025-06-11T00:02:11.921230Z",
     "start_time": "2025-06-11T00:02:11.916026Z"
    }
   },
   "cell_type": "code",
   "source": "print(test_df[test_df[Columns.User] == user_test_id])",
   "outputs": [
    {
     "name": "stdout",
     "output_type": "stream",
     "text": [
      "        user_id  item_id  weight            datetime\n",
      "756318       20     1371     1.0 2001-12-29 23:40:27\n"
     ]
    }
   ],
   "execution_count": 31
  },
  {
   "metadata": {
    "ExecuteTime": {
     "end_time": "2025-06-11T00:02:12.104943Z",
     "start_time": "2025-06-11T00:02:11.970729Z"
    }
   },
   "cell_type": "code",
   "source": "proxy_recommend(model,users = [20], dataset=train_dataset, k =5,filter_viewed = True,  df_test=test_df)",
   "outputs": [
    {
     "name": "stdout",
     "output_type": "stream",
     "text": [
      "common dummy id:1\n"
     ]
    },
    {
     "data": {
      "text/plain": [
       "   user_id  item_id     score  rank\n",
       "0       20     1833  0.088064     1\n",
       "1       20     1393  0.080983     2\n",
       "2       20     1729  0.073374     3\n",
       "3       20      523  0.071480     4\n",
       "4       20     3552  0.068110     5"
      ],
      "text/html": [
       "<div>\n",
       "<style scoped>\n",
       "    .dataframe tbody tr th:only-of-type {\n",
       "        vertical-align: middle;\n",
       "    }\n",
       "\n",
       "    .dataframe tbody tr th {\n",
       "        vertical-align: top;\n",
       "    }\n",
       "\n",
       "    .dataframe thead th {\n",
       "        text-align: right;\n",
       "    }\n",
       "</style>\n",
       "<table border=\"1\" class=\"dataframe\">\n",
       "  <thead>\n",
       "    <tr style=\"text-align: right;\">\n",
       "      <th></th>\n",
       "      <th>user_id</th>\n",
       "      <th>item_id</th>\n",
       "      <th>score</th>\n",
       "      <th>rank</th>\n",
       "    </tr>\n",
       "  </thead>\n",
       "  <tbody>\n",
       "    <tr>\n",
       "      <th>0</th>\n",
       "      <td>20</td>\n",
       "      <td>1833</td>\n",
       "      <td>0.088064</td>\n",
       "      <td>1</td>\n",
       "    </tr>\n",
       "    <tr>\n",
       "      <th>1</th>\n",
       "      <td>20</td>\n",
       "      <td>1393</td>\n",
       "      <td>0.080983</td>\n",
       "      <td>2</td>\n",
       "    </tr>\n",
       "    <tr>\n",
       "      <th>2</th>\n",
       "      <td>20</td>\n",
       "      <td>1729</td>\n",
       "      <td>0.073374</td>\n",
       "      <td>3</td>\n",
       "    </tr>\n",
       "    <tr>\n",
       "      <th>3</th>\n",
       "      <td>20</td>\n",
       "      <td>523</td>\n",
       "      <td>0.071480</td>\n",
       "      <td>4</td>\n",
       "    </tr>\n",
       "    <tr>\n",
       "      <th>4</th>\n",
       "      <td>20</td>\n",
       "      <td>3552</td>\n",
       "      <td>0.068110</td>\n",
       "      <td>5</td>\n",
       "    </tr>\n",
       "  </tbody>\n",
       "</table>\n",
       "</div>"
      ]
     },
     "execution_count": 32,
     "metadata": {},
     "output_type": "execute_result"
    }
   ],
   "execution_count": 32
  },
  {
   "metadata": {},
   "cell_type": "markdown",
   "source": "Timestamp('2001-12-29 23:40:27') последний, сходится"
  },
  {
   "metadata": {
    "ExecuteTime": {
     "end_time": "2025-06-11T00:02:12.177067Z",
     "start_time": "2025-06-11T00:02:12.153353Z"
    }
   },
   "cell_type": "code",
   "source": "model.recommend(users = [20], dataset=train_dataset, k =5,filter_viewed = True)",
   "outputs": [
    {
     "data": {
      "text/plain": [
       "   user_id  item_id     score  rank\n",
       "0       20     1393  0.088753     1\n",
       "1       20     1729  0.072086     2\n",
       "2       20     1833  0.069273     3\n",
       "3       20     3621  0.068033     4\n",
       "4       20     3131  0.067266     5"
      ],
      "text/html": [
       "<div>\n",
       "<style scoped>\n",
       "    .dataframe tbody tr th:only-of-type {\n",
       "        vertical-align: middle;\n",
       "    }\n",
       "\n",
       "    .dataframe tbody tr th {\n",
       "        vertical-align: top;\n",
       "    }\n",
       "\n",
       "    .dataframe thead th {\n",
       "        text-align: right;\n",
       "    }\n",
       "</style>\n",
       "<table border=\"1\" class=\"dataframe\">\n",
       "  <thead>\n",
       "    <tr style=\"text-align: right;\">\n",
       "      <th></th>\n",
       "      <th>user_id</th>\n",
       "      <th>item_id</th>\n",
       "      <th>score</th>\n",
       "      <th>rank</th>\n",
       "    </tr>\n",
       "  </thead>\n",
       "  <tbody>\n",
       "    <tr>\n",
       "      <th>0</th>\n",
       "      <td>20</td>\n",
       "      <td>1393</td>\n",
       "      <td>0.088753</td>\n",
       "      <td>1</td>\n",
       "    </tr>\n",
       "    <tr>\n",
       "      <th>1</th>\n",
       "      <td>20</td>\n",
       "      <td>1729</td>\n",
       "      <td>0.072086</td>\n",
       "      <td>2</td>\n",
       "    </tr>\n",
       "    <tr>\n",
       "      <th>2</th>\n",
       "      <td>20</td>\n",
       "      <td>1833</td>\n",
       "      <td>0.069273</td>\n",
       "      <td>3</td>\n",
       "    </tr>\n",
       "    <tr>\n",
       "      <th>3</th>\n",
       "      <td>20</td>\n",
       "      <td>3621</td>\n",
       "      <td>0.068033</td>\n",
       "      <td>4</td>\n",
       "    </tr>\n",
       "    <tr>\n",
       "      <th>4</th>\n",
       "      <td>20</td>\n",
       "      <td>3131</td>\n",
       "      <td>0.067266</td>\n",
       "      <td>5</td>\n",
       "    </tr>\n",
       "  </tbody>\n",
       "</table>\n",
       "</div>"
      ]
     },
     "execution_count": 33,
     "metadata": {},
     "output_type": "execute_result"
    }
   ],
   "execution_count": 33
  },
  {
   "metadata": {},
   "cell_type": "markdown",
   "source": "### Боевая кросс-валидация"
  },
  {
   "metadata": {
    "ExecuteTime": {
     "end_time": "2025-06-11T00:02:12.209069Z",
     "start_time": "2025-06-11T00:02:12.198955Z"
    }
   },
   "cell_type": "code",
   "source": "set(dataset.interactions.df.user_id.unique()) == set(dataset.item_id_map.external_ids) #",
   "outputs": [
    {
     "data": {
      "text/plain": [
       "False"
      ]
     },
     "execution_count": 34,
     "metadata": {},
     "output_type": "execute_result"
    }
   ],
   "execution_count": 34
  },
  {
   "metadata": {
    "ExecuteTime": {
     "end_time": "2025-06-11T00:02:12.361972Z",
     "start_time": "2025-06-11T00:02:12.359326Z"
    }
   },
   "cell_type": "code",
   "source": [
    "def get_debug_trainer() -> Trainer:\n",
    "    return Trainer(\n",
    "        accelerator=\"gpu\",\n",
    "        devices=1,\n",
    "        min_epochs=120,\n",
    "        max_epochs=120,\n",
    "        deterministic=True,\n",
    "        enable_model_summary=False,\n",
    "        #enable_progress_bar=True,\n",
    "        callbacks=[recall_callback, last_epoch_ckpt, least_val_loss_ckpt],  # pass our callbacks\n",
    "        logger = CSVLogger(\"test_logs\"),  # We use CSV logging for this guide but there are many other options\n",
    "    )"
   ],
   "outputs": [],
   "execution_count": 35
  },
  {
   "metadata": {
    "ExecuteTime": {
     "end_time": "2025-06-11T00:02:12.429945Z",
     "start_time": "2025-06-11T00:02:12.408150Z"
    }
   },
   "cell_type": "code",
   "source": [
    "model_hstu  = HSTUModel(session_max_len = session_max_len,\n",
    "    data_preparator_kwargs=extra_cols_kwargs,\n",
    "    transformer_layers_kwargs=transformer_layers_kwargs,\n",
    "    lightning_module_kwargs=lightning_module_kwargs,\n",
    "    item_net_block_types=(IdEmbeddingsItemNet,),\n",
    "    get_val_mask_func=get_val_mask_func,  # pass our custom `get_val_mask_func`\n",
    "    get_trainer_func=get_debug_trainer, \n",
    "    verbose=1,\n",
    "    loss = 'sampled_softmax',\n",
    "    n_negatives= 128,\n",
    "    use_pos_emb = True,\n",
    "    dropout_rate = 0.2,\n",
    "    n_factors = 50,\n",
    "    n_heads = 1,\n",
    "    n_blocks = 2,\n",
    "    lr = 0.001,\n",
    "    batch_size=128,\n",
    ")\n",
    "model_sasrec  = SASRecModel(session_max_len = session_max_len,\n",
    "    item_net_block_types=(IdEmbeddingsItemNet,),\n",
    "    get_val_mask_func=get_val_mask_func,  # pass our custom `get_val_mask_func`\n",
    "    get_trainer_func=get_debug_trainer,  # pass our custom trainer func\n",
    "    verbose=1,\n",
    "    lightning_module_kwargs=lightning_module_kwargs,\n",
    "    use_pos_emb = True,\n",
    "    loss = 'sampled_softmax',\n",
    "    n_negatives= 128,\n",
    "    dropout_rate = 0.2,\n",
    "    n_factors = 50,\n",
    "    n_heads = 1,\n",
    "    n_blocks = 2,\n",
    "    lr = 0.001,\n",
    "    batch_size=128,\n",
    ")"
   ],
   "outputs": [
    {
     "name": "stderr",
     "output_type": "stream",
     "text": [
      "GPU available: True (cuda), used: True\n",
      "TPU available: False, using: 0 TPU cores\n",
      "HPU available: False, using: 0 HPUs\n",
      "GPU available: True (cuda), used: True\n",
      "TPU available: False, using: 0 TPU cores\n",
      "HPU available: False, using: 0 HPUs\n"
     ]
    },
    {
     "name": "stdout",
     "output_type": "stream",
     "text": [
      "{'extra_cols': ['datetime']}\n",
      "None\n"
     ]
    }
   ],
   "execution_count": 36
  },
  {
   "metadata": {
    "ExecuteTime": {
     "end_time": "2025-06-11T00:02:12.568822Z",
     "start_time": "2025-06-11T00:02:12.566789Z"
    }
   },
   "cell_type": "code",
   "source": "#model._trainer = trainer",
   "outputs": [],
   "execution_count": 37
  },
  {
   "metadata": {
    "ExecuteTime": {
     "end_time": "2025-06-11T00:02:12.662035Z",
     "start_time": "2025-06-11T00:02:12.659287Z"
    }
   },
   "cell_type": "code",
   "source": [
    "models = {\n",
    "    \"sasrec\": model_sasrec,\n",
    "    \"hstu\": model_hstu,\n",
    "}\n",
    "\n",
    "metrics = {\n",
    "    \"HitRate@10\": HitRate(k=10),\n",
    "    \"MAP@10\": MAP(k=10),\n",
    "    \"Serendipity@10\": Serendipity(k=10),\n",
    "    \"CoveredUsers@10\": CoveredUsers(k=10),  # how many test users received recommendations\n",
    "    \"AvgRecPopularity@10\": AvgRecPopularity(k=10),  # average popularity of recommended items\n",
    "}\n",
    "\n",
    "K_RECS = 10"
   ],
   "outputs": [],
   "execution_count": 38
  },
  {
   "metadata": {
    "ExecuteTime": {
     "end_time": "2025-06-11T01:09:41.220994Z",
     "start_time": "2025-06-11T00:02:12.741358Z"
    }
   },
   "cell_type": "code",
   "source": [
    "cv_results = cross_validate_hstu(\n",
    "    proxy_recommend=proxy_recommend,\n",
    "    dataset=dataset,\n",
    "    splitter=splitter,\n",
    "    models=models,\n",
    "    metrics=metrics,\n",
    "    k=K_RECS,\n",
    "    filter_viewed=True,\n",
    ")"
   ],
   "outputs": [
    {
     "name": "stdout",
     "output_type": "stream",
     "text": [
      "sasrec\n",
      "кол-во айтемов 3646\n",
      "None\n"
     ]
    },
    {
     "name": "stderr",
     "output_type": "stream",
     "text": [
      "LOCAL_RANK: 0 - CUDA_VISIBLE_DEVICES: [0]\n"
     ]
    },
    {
     "name": "stdout",
     "output_type": "stream",
     "text": [
      "item_model.item_net_blocks.0.ids_emb.weight torch.Size([3646, 50])\n",
      "pos_encoding_layer.pos_emb.weight torch.Size([200, 50])\n",
      "transformer_layers.transformer_blocks.0.multi_head_attn.in_proj_weight torch.Size([150, 50])\n",
      "transformer_layers.transformer_blocks.0.multi_head_attn.in_proj_bias torch.Size([150])\n",
      "transformer_layers.transformer_blocks.0.multi_head_attn.out_proj.weight torch.Size([50, 50])\n",
      "transformer_layers.transformer_blocks.0.multi_head_attn.out_proj.bias torch.Size([50])\n",
      "transformer_layers.transformer_blocks.0.q_layer_norm.weight torch.Size([50])\n",
      "transformer_layers.transformer_blocks.0.q_layer_norm.bias torch.Size([50])\n",
      "transformer_layers.transformer_blocks.0.ff_layer_norm.weight torch.Size([50])\n",
      "transformer_layers.transformer_blocks.0.ff_layer_norm.bias torch.Size([50])\n",
      "transformer_layers.transformer_blocks.0.feed_forward.ff_linear_1.weight torch.Size([50, 50])\n",
      "transformer_layers.transformer_blocks.0.feed_forward.ff_linear_1.bias torch.Size([50])\n",
      "transformer_layers.transformer_blocks.0.feed_forward.ff_linear_2.weight torch.Size([50, 50])\n",
      "transformer_layers.transformer_blocks.0.feed_forward.ff_linear_2.bias torch.Size([50])\n",
      "transformer_layers.transformer_blocks.1.multi_head_attn.in_proj_weight torch.Size([150, 50])\n",
      "transformer_layers.transformer_blocks.1.multi_head_attn.in_proj_bias torch.Size([150])\n",
      "transformer_layers.transformer_blocks.1.multi_head_attn.out_proj.weight torch.Size([50, 50])\n",
      "transformer_layers.transformer_blocks.1.multi_head_attn.out_proj.bias torch.Size([50])\n",
      "transformer_layers.transformer_blocks.1.q_layer_norm.weight torch.Size([50])\n",
      "transformer_layers.transformer_blocks.1.q_layer_norm.bias torch.Size([50])\n",
      "transformer_layers.transformer_blocks.1.ff_layer_norm.weight torch.Size([50])\n",
      "transformer_layers.transformer_blocks.1.ff_layer_norm.bias torch.Size([50])\n",
      "transformer_layers.transformer_blocks.1.feed_forward.ff_linear_1.weight torch.Size([50, 50])\n",
      "transformer_layers.transformer_blocks.1.feed_forward.ff_linear_1.bias torch.Size([50])\n",
      "transformer_layers.transformer_blocks.1.feed_forward.ff_linear_2.weight torch.Size([50, 50])\n",
      "transformer_layers.transformer_blocks.1.feed_forward.ff_linear_2.bias torch.Size([50])\n",
      "transformer_layers.last_layernorm.weight torch.Size([50])\n",
      "transformer_layers.last_layernorm.bias torch.Size([50])\n"
     ]
    },
    {
     "data": {
      "text/plain": [
       "Sanity Checking: |          | 0/? [00:00<?, ?it/s]"
      ],
      "application/vnd.jupyter.widget-view+json": {
       "version_major": 2,
       "version_minor": 0,
       "model_id": "197fe14ebcbe4ea2aa4373073f97ece4"
      }
     },
     "metadata": {},
     "output_type": "display_data"
    },
    {
     "data": {
      "text/plain": [
       "Training: |          | 0/? [00:00<?, ?it/s]"
      ],
      "application/vnd.jupyter.widget-view+json": {
       "version_major": 2,
       "version_minor": 0,
       "model_id": "d00b82776f8e49f4b54039ab040a8c3d"
      }
     },
     "metadata": {},
     "output_type": "display_data"
    },
    {
     "data": {
      "text/plain": [
       "Validation: |          | 0/? [00:00<?, ?it/s]"
      ],
      "application/vnd.jupyter.widget-view+json": {
       "version_major": 2,
       "version_minor": 0,
       "model_id": "21b0c86b4b68456dbfb571c606750a01"
      }
     },
     "metadata": {},
     "output_type": "display_data"
    },
    {
     "data": {
      "text/plain": [
       "Validation: |          | 0/? [00:00<?, ?it/s]"
      ],
      "application/vnd.jupyter.widget-view+json": {
       "version_major": 2,
       "version_minor": 0,
       "model_id": "5fafe19212a1410bbf828bae4e74f7e8"
      }
     },
     "metadata": {},
     "output_type": "display_data"
    },
    {
     "data": {
      "text/plain": [
       "Validation: |          | 0/? [00:00<?, ?it/s]"
      ],
      "application/vnd.jupyter.widget-view+json": {
       "version_major": 2,
       "version_minor": 0,
       "model_id": "9fb14beab6b047acaf101c51a142aac8"
      }
     },
     "metadata": {},
     "output_type": "display_data"
    },
    {
     "data": {
      "text/plain": [
       "Validation: |          | 0/? [00:00<?, ?it/s]"
      ],
      "application/vnd.jupyter.widget-view+json": {
       "version_major": 2,
       "version_minor": 0,
       "model_id": "2fec149d68f64ec19c8749133dbc1829"
      }
     },
     "metadata": {},
     "output_type": "display_data"
    },
    {
     "data": {
      "text/plain": [
       "Validation: |          | 0/? [00:00<?, ?it/s]"
      ],
      "application/vnd.jupyter.widget-view+json": {
       "version_major": 2,
       "version_minor": 0,
       "model_id": "df836be833364df6aad99e66e5d99ed5"
      }
     },
     "metadata": {},
     "output_type": "display_data"
    },
    {
     "data": {
      "text/plain": [
       "Validation: |          | 0/? [00:00<?, ?it/s]"
      ],
      "application/vnd.jupyter.widget-view+json": {
       "version_major": 2,
       "version_minor": 0,
       "model_id": "69c2b33466ad4daab1b1dceaada5b848"
      }
     },
     "metadata": {},
     "output_type": "display_data"
    },
    {
     "data": {
      "text/plain": [
       "Validation: |          | 0/? [00:00<?, ?it/s]"
      ],
      "application/vnd.jupyter.widget-view+json": {
       "version_major": 2,
       "version_minor": 0,
       "model_id": "00abcf07baa5409ba48ccc721894e676"
      }
     },
     "metadata": {},
     "output_type": "display_data"
    },
    {
     "data": {
      "text/plain": [
       "Validation: |          | 0/? [00:00<?, ?it/s]"
      ],
      "application/vnd.jupyter.widget-view+json": {
       "version_major": 2,
       "version_minor": 0,
       "model_id": "d58f78194d6a47c98fa51cc42447666f"
      }
     },
     "metadata": {},
     "output_type": "display_data"
    },
    {
     "data": {
      "text/plain": [
       "Validation: |          | 0/? [00:00<?, ?it/s]"
      ],
      "application/vnd.jupyter.widget-view+json": {
       "version_major": 2,
       "version_minor": 0,
       "model_id": "5dbe461b69a44a64a2462820b6013f1c"
      }
     },
     "metadata": {},
     "output_type": "display_data"
    },
    {
     "data": {
      "text/plain": [
       "Validation: |          | 0/? [00:00<?, ?it/s]"
      ],
      "application/vnd.jupyter.widget-view+json": {
       "version_major": 2,
       "version_minor": 0,
       "model_id": "ce96be3cd0074d06a084558e82555c54"
      }
     },
     "metadata": {},
     "output_type": "display_data"
    },
    {
     "data": {
      "text/plain": [
       "Validation: |          | 0/? [00:00<?, ?it/s]"
      ],
      "application/vnd.jupyter.widget-view+json": {
       "version_major": 2,
       "version_minor": 0,
       "model_id": "f1e708b28f1348909bc040d6ed4c1c7a"
      }
     },
     "metadata": {},
     "output_type": "display_data"
    },
    {
     "data": {
      "text/plain": [
       "Validation: |          | 0/? [00:00<?, ?it/s]"
      ],
      "application/vnd.jupyter.widget-view+json": {
       "version_major": 2,
       "version_minor": 0,
       "model_id": "649a7dfe2956480780a4c636f84d48bf"
      }
     },
     "metadata": {},
     "output_type": "display_data"
    },
    {
     "data": {
      "text/plain": [
       "Validation: |          | 0/? [00:00<?, ?it/s]"
      ],
      "application/vnd.jupyter.widget-view+json": {
       "version_major": 2,
       "version_minor": 0,
       "model_id": "76e581f61a834bcfbb854e78c78d4e54"
      }
     },
     "metadata": {},
     "output_type": "display_data"
    },
    {
     "data": {
      "text/plain": [
       "Validation: |          | 0/? [00:00<?, ?it/s]"
      ],
      "application/vnd.jupyter.widget-view+json": {
       "version_major": 2,
       "version_minor": 0,
       "model_id": "9b41917b7d814659b3494076f0ef501f"
      }
     },
     "metadata": {},
     "output_type": "display_data"
    },
    {
     "data": {
      "text/plain": [
       "Validation: |          | 0/? [00:00<?, ?it/s]"
      ],
      "application/vnd.jupyter.widget-view+json": {
       "version_major": 2,
       "version_minor": 0,
       "model_id": "06a9e8722748465b8083e3ad285dd634"
      }
     },
     "metadata": {},
     "output_type": "display_data"
    },
    {
     "data": {
      "text/plain": [
       "Validation: |          | 0/? [00:00<?, ?it/s]"
      ],
      "application/vnd.jupyter.widget-view+json": {
       "version_major": 2,
       "version_minor": 0,
       "model_id": "0795682ec178402288c581d0aa344808"
      }
     },
     "metadata": {},
     "output_type": "display_data"
    },
    {
     "data": {
      "text/plain": [
       "Validation: |          | 0/? [00:00<?, ?it/s]"
      ],
      "application/vnd.jupyter.widget-view+json": {
       "version_major": 2,
       "version_minor": 0,
       "model_id": "63f9cadf202a43ec8cada348e81998ed"
      }
     },
     "metadata": {},
     "output_type": "display_data"
    },
    {
     "data": {
      "text/plain": [
       "Validation: |          | 0/? [00:00<?, ?it/s]"
      ],
      "application/vnd.jupyter.widget-view+json": {
       "version_major": 2,
       "version_minor": 0,
       "model_id": "c1c22e1949e2452287d85b049c6b8c64"
      }
     },
     "metadata": {},
     "output_type": "display_data"
    },
    {
     "data": {
      "text/plain": [
       "Validation: |          | 0/? [00:00<?, ?it/s]"
      ],
      "application/vnd.jupyter.widget-view+json": {
       "version_major": 2,
       "version_minor": 0,
       "model_id": "43ccb606c08444e6a861dd160e6e9723"
      }
     },
     "metadata": {},
     "output_type": "display_data"
    },
    {
     "data": {
      "text/plain": [
       "Validation: |          | 0/? [00:00<?, ?it/s]"
      ],
      "application/vnd.jupyter.widget-view+json": {
       "version_major": 2,
       "version_minor": 0,
       "model_id": "896bdafdfea7405c8dec7d63c7650367"
      }
     },
     "metadata": {},
     "output_type": "display_data"
    },
    {
     "data": {
      "text/plain": [
       "Validation: |          | 0/? [00:00<?, ?it/s]"
      ],
      "application/vnd.jupyter.widget-view+json": {
       "version_major": 2,
       "version_minor": 0,
       "model_id": "6e19c45cdf4e4c46b059b338edd355b1"
      }
     },
     "metadata": {},
     "output_type": "display_data"
    },
    {
     "data": {
      "text/plain": [
       "Validation: |          | 0/? [00:00<?, ?it/s]"
      ],
      "application/vnd.jupyter.widget-view+json": {
       "version_major": 2,
       "version_minor": 0,
       "model_id": "5a4c046d35ae4738b2464632b9e68e06"
      }
     },
     "metadata": {},
     "output_type": "display_data"
    },
    {
     "data": {
      "text/plain": [
       "Validation: |          | 0/? [00:00<?, ?it/s]"
      ],
      "application/vnd.jupyter.widget-view+json": {
       "version_major": 2,
       "version_minor": 0,
       "model_id": "ad711524f6d641a09b0b9a6bdad4ee4d"
      }
     },
     "metadata": {},
     "output_type": "display_data"
    },
    {
     "data": {
      "text/plain": [
       "Validation: |          | 0/? [00:00<?, ?it/s]"
      ],
      "application/vnd.jupyter.widget-view+json": {
       "version_major": 2,
       "version_minor": 0,
       "model_id": "1da2b4583697479788300919e79ad298"
      }
     },
     "metadata": {},
     "output_type": "display_data"
    },
    {
     "data": {
      "text/plain": [
       "Validation: |          | 0/? [00:00<?, ?it/s]"
      ],
      "application/vnd.jupyter.widget-view+json": {
       "version_major": 2,
       "version_minor": 0,
       "model_id": "6802d0c21845436f9ac80430b8364787"
      }
     },
     "metadata": {},
     "output_type": "display_data"
    },
    {
     "data": {
      "text/plain": [
       "Validation: |          | 0/? [00:00<?, ?it/s]"
      ],
      "application/vnd.jupyter.widget-view+json": {
       "version_major": 2,
       "version_minor": 0,
       "model_id": "f961b545031b4b91be15874dfc846df3"
      }
     },
     "metadata": {},
     "output_type": "display_data"
    },
    {
     "data": {
      "text/plain": [
       "Validation: |          | 0/? [00:00<?, ?it/s]"
      ],
      "application/vnd.jupyter.widget-view+json": {
       "version_major": 2,
       "version_minor": 0,
       "model_id": "cadedf06b05240ddb1ab3dbe74591f82"
      }
     },
     "metadata": {},
     "output_type": "display_data"
    },
    {
     "data": {
      "text/plain": [
       "Validation: |          | 0/? [00:00<?, ?it/s]"
      ],
      "application/vnd.jupyter.widget-view+json": {
       "version_major": 2,
       "version_minor": 0,
       "model_id": "3b0e5d9f3e544f9dbea2c8904ec316e4"
      }
     },
     "metadata": {},
     "output_type": "display_data"
    },
    {
     "data": {
      "text/plain": [
       "Validation: |          | 0/? [00:00<?, ?it/s]"
      ],
      "application/vnd.jupyter.widget-view+json": {
       "version_major": 2,
       "version_minor": 0,
       "model_id": "babe8e5cdab8444f9d5178b05f1c0266"
      }
     },
     "metadata": {},
     "output_type": "display_data"
    },
    {
     "data": {
      "text/plain": [
       "Validation: |          | 0/? [00:00<?, ?it/s]"
      ],
      "application/vnd.jupyter.widget-view+json": {
       "version_major": 2,
       "version_minor": 0,
       "model_id": "17dae23e41f94d3bb50284d6b19bda7f"
      }
     },
     "metadata": {},
     "output_type": "display_data"
    },
    {
     "data": {
      "text/plain": [
       "Validation: |          | 0/? [00:00<?, ?it/s]"
      ],
      "application/vnd.jupyter.widget-view+json": {
       "version_major": 2,
       "version_minor": 0,
       "model_id": "b22a243eb88e4912837f53d4ed7f6999"
      }
     },
     "metadata": {},
     "output_type": "display_data"
    },
    {
     "data": {
      "text/plain": [
       "Validation: |          | 0/? [00:00<?, ?it/s]"
      ],
      "application/vnd.jupyter.widget-view+json": {
       "version_major": 2,
       "version_minor": 0,
       "model_id": "64639e6c20f84ab0813e0b82c05fa519"
      }
     },
     "metadata": {},
     "output_type": "display_data"
    },
    {
     "data": {
      "text/plain": [
       "Validation: |          | 0/? [00:00<?, ?it/s]"
      ],
      "application/vnd.jupyter.widget-view+json": {
       "version_major": 2,
       "version_minor": 0,
       "model_id": "b7104431a7944cae983486845bb0d714"
      }
     },
     "metadata": {},
     "output_type": "display_data"
    },
    {
     "data": {
      "text/plain": [
       "Validation: |          | 0/? [00:00<?, ?it/s]"
      ],
      "application/vnd.jupyter.widget-view+json": {
       "version_major": 2,
       "version_minor": 0,
       "model_id": "9c4a02a06d5c4665b7ce2766ab993b07"
      }
     },
     "metadata": {},
     "output_type": "display_data"
    },
    {
     "data": {
      "text/plain": [
       "Validation: |          | 0/? [00:00<?, ?it/s]"
      ],
      "application/vnd.jupyter.widget-view+json": {
       "version_major": 2,
       "version_minor": 0,
       "model_id": "2bdeb93b34a84201b8c588dd281c0698"
      }
     },
     "metadata": {},
     "output_type": "display_data"
    },
    {
     "data": {
      "text/plain": [
       "Validation: |          | 0/? [00:00<?, ?it/s]"
      ],
      "application/vnd.jupyter.widget-view+json": {
       "version_major": 2,
       "version_minor": 0,
       "model_id": "310b216f37dd4d71a31ea778a21d4986"
      }
     },
     "metadata": {},
     "output_type": "display_data"
    },
    {
     "data": {
      "text/plain": [
       "Validation: |          | 0/? [00:00<?, ?it/s]"
      ],
      "application/vnd.jupyter.widget-view+json": {
       "version_major": 2,
       "version_minor": 0,
       "model_id": "48e312f35cc24c9280b93851f4ef1082"
      }
     },
     "metadata": {},
     "output_type": "display_data"
    },
    {
     "data": {
      "text/plain": [
       "Validation: |          | 0/? [00:00<?, ?it/s]"
      ],
      "application/vnd.jupyter.widget-view+json": {
       "version_major": 2,
       "version_minor": 0,
       "model_id": "ff7654a34a0e4932862e840758f0cfca"
      }
     },
     "metadata": {},
     "output_type": "display_data"
    },
    {
     "data": {
      "text/plain": [
       "Validation: |          | 0/? [00:00<?, ?it/s]"
      ],
      "application/vnd.jupyter.widget-view+json": {
       "version_major": 2,
       "version_minor": 0,
       "model_id": "82c9e136813f4a309ef30fbd598fb831"
      }
     },
     "metadata": {},
     "output_type": "display_data"
    },
    {
     "data": {
      "text/plain": [
       "Validation: |          | 0/? [00:00<?, ?it/s]"
      ],
      "application/vnd.jupyter.widget-view+json": {
       "version_major": 2,
       "version_minor": 0,
       "model_id": "ec57f1cb8e7342fcb2b38c7540ccced9"
      }
     },
     "metadata": {},
     "output_type": "display_data"
    },
    {
     "data": {
      "text/plain": [
       "Validation: |          | 0/? [00:00<?, ?it/s]"
      ],
      "application/vnd.jupyter.widget-view+json": {
       "version_major": 2,
       "version_minor": 0,
       "model_id": "3356844ad7144fc99ab7b5588e2bd3c5"
      }
     },
     "metadata": {},
     "output_type": "display_data"
    },
    {
     "data": {
      "text/plain": [
       "Validation: |          | 0/? [00:00<?, ?it/s]"
      ],
      "application/vnd.jupyter.widget-view+json": {
       "version_major": 2,
       "version_minor": 0,
       "model_id": "918571d4978f4cd3bd7e3319b253b96e"
      }
     },
     "metadata": {},
     "output_type": "display_data"
    },
    {
     "data": {
      "text/plain": [
       "Validation: |          | 0/? [00:00<?, ?it/s]"
      ],
      "application/vnd.jupyter.widget-view+json": {
       "version_major": 2,
       "version_minor": 0,
       "model_id": "2459644fa7d446b9b41d1d4428113b97"
      }
     },
     "metadata": {},
     "output_type": "display_data"
    },
    {
     "data": {
      "text/plain": [
       "Validation: |          | 0/? [00:00<?, ?it/s]"
      ],
      "application/vnd.jupyter.widget-view+json": {
       "version_major": 2,
       "version_minor": 0,
       "model_id": "252fad14ea1c4eedb597c4b39060bc70"
      }
     },
     "metadata": {},
     "output_type": "display_data"
    },
    {
     "data": {
      "text/plain": [
       "Validation: |          | 0/? [00:00<?, ?it/s]"
      ],
      "application/vnd.jupyter.widget-view+json": {
       "version_major": 2,
       "version_minor": 0,
       "model_id": "05af21a69d53451da1262a7e5c4c804c"
      }
     },
     "metadata": {},
     "output_type": "display_data"
    },
    {
     "data": {
      "text/plain": [
       "Validation: |          | 0/? [00:00<?, ?it/s]"
      ],
      "application/vnd.jupyter.widget-view+json": {
       "version_major": 2,
       "version_minor": 0,
       "model_id": "eb20f6ca52ce40a99b95f2448b2da1f2"
      }
     },
     "metadata": {},
     "output_type": "display_data"
    },
    {
     "data": {
      "text/plain": [
       "Validation: |          | 0/? [00:00<?, ?it/s]"
      ],
      "application/vnd.jupyter.widget-view+json": {
       "version_major": 2,
       "version_minor": 0,
       "model_id": "f5e9d7327a7548a8918d7fc3c67b891f"
      }
     },
     "metadata": {},
     "output_type": "display_data"
    },
    {
     "data": {
      "text/plain": [
       "Validation: |          | 0/? [00:00<?, ?it/s]"
      ],
      "application/vnd.jupyter.widget-view+json": {
       "version_major": 2,
       "version_minor": 0,
       "model_id": "04b709bc0aef4159946ddbe247be6369"
      }
     },
     "metadata": {},
     "output_type": "display_data"
    },
    {
     "data": {
      "text/plain": [
       "Validation: |          | 0/? [00:00<?, ?it/s]"
      ],
      "application/vnd.jupyter.widget-view+json": {
       "version_major": 2,
       "version_minor": 0,
       "model_id": "5b2bce22e4724a4ea3074a5091a02b9e"
      }
     },
     "metadata": {},
     "output_type": "display_data"
    },
    {
     "data": {
      "text/plain": [
       "Validation: |          | 0/? [00:00<?, ?it/s]"
      ],
      "application/vnd.jupyter.widget-view+json": {
       "version_major": 2,
       "version_minor": 0,
       "model_id": "3442121740d843e3ab1dbef2e158354f"
      }
     },
     "metadata": {},
     "output_type": "display_data"
    },
    {
     "data": {
      "text/plain": [
       "Validation: |          | 0/? [00:00<?, ?it/s]"
      ],
      "application/vnd.jupyter.widget-view+json": {
       "version_major": 2,
       "version_minor": 0,
       "model_id": "53885b4df8f44f7ab29721a8b7afc257"
      }
     },
     "metadata": {},
     "output_type": "display_data"
    },
    {
     "data": {
      "text/plain": [
       "Validation: |          | 0/? [00:00<?, ?it/s]"
      ],
      "application/vnd.jupyter.widget-view+json": {
       "version_major": 2,
       "version_minor": 0,
       "model_id": "f0345508276943139b89ccac41031745"
      }
     },
     "metadata": {},
     "output_type": "display_data"
    },
    {
     "data": {
      "text/plain": [
       "Validation: |          | 0/? [00:00<?, ?it/s]"
      ],
      "application/vnd.jupyter.widget-view+json": {
       "version_major": 2,
       "version_minor": 0,
       "model_id": "1c78b1af2ad34aeb9a603a72f307a616"
      }
     },
     "metadata": {},
     "output_type": "display_data"
    },
    {
     "data": {
      "text/plain": [
       "Validation: |          | 0/? [00:00<?, ?it/s]"
      ],
      "application/vnd.jupyter.widget-view+json": {
       "version_major": 2,
       "version_minor": 0,
       "model_id": "539a6fc64ddd41468295ab7fed593f87"
      }
     },
     "metadata": {},
     "output_type": "display_data"
    },
    {
     "data": {
      "text/plain": [
       "Validation: |          | 0/? [00:00<?, ?it/s]"
      ],
      "application/vnd.jupyter.widget-view+json": {
       "version_major": 2,
       "version_minor": 0,
       "model_id": "97abdce44d9a46cf88fc9d980eb7aa3d"
      }
     },
     "metadata": {},
     "output_type": "display_data"
    },
    {
     "data": {
      "text/plain": [
       "Validation: |          | 0/? [00:00<?, ?it/s]"
      ],
      "application/vnd.jupyter.widget-view+json": {
       "version_major": 2,
       "version_minor": 0,
       "model_id": "7c4d5b92d4e649b895482a0282a59c81"
      }
     },
     "metadata": {},
     "output_type": "display_data"
    },
    {
     "data": {
      "text/plain": [
       "Validation: |          | 0/? [00:00<?, ?it/s]"
      ],
      "application/vnd.jupyter.widget-view+json": {
       "version_major": 2,
       "version_minor": 0,
       "model_id": "daa7e53aeede454bab64fe8b281c5771"
      }
     },
     "metadata": {},
     "output_type": "display_data"
    },
    {
     "data": {
      "text/plain": [
       "Validation: |          | 0/? [00:00<?, ?it/s]"
      ],
      "application/vnd.jupyter.widget-view+json": {
       "version_major": 2,
       "version_minor": 0,
       "model_id": "e25d12a37d1a4dc5b3fe798ba47b6461"
      }
     },
     "metadata": {},
     "output_type": "display_data"
    },
    {
     "data": {
      "text/plain": [
       "Validation: |          | 0/? [00:00<?, ?it/s]"
      ],
      "application/vnd.jupyter.widget-view+json": {
       "version_major": 2,
       "version_minor": 0,
       "model_id": "94662408a15640de848451d8a38bff01"
      }
     },
     "metadata": {},
     "output_type": "display_data"
    },
    {
     "data": {
      "text/plain": [
       "Validation: |          | 0/? [00:00<?, ?it/s]"
      ],
      "application/vnd.jupyter.widget-view+json": {
       "version_major": 2,
       "version_minor": 0,
       "model_id": "2e64575086954b90a24dd853c2378e70"
      }
     },
     "metadata": {},
     "output_type": "display_data"
    },
    {
     "data": {
      "text/plain": [
       "Validation: |          | 0/? [00:00<?, ?it/s]"
      ],
      "application/vnd.jupyter.widget-view+json": {
       "version_major": 2,
       "version_minor": 0,
       "model_id": "9f583332b2344988a8b553c6d753da07"
      }
     },
     "metadata": {},
     "output_type": "display_data"
    },
    {
     "data": {
      "text/plain": [
       "Validation: |          | 0/? [00:00<?, ?it/s]"
      ],
      "application/vnd.jupyter.widget-view+json": {
       "version_major": 2,
       "version_minor": 0,
       "model_id": "84688a0645fe488ebc0d0f97905cdfc5"
      }
     },
     "metadata": {},
     "output_type": "display_data"
    },
    {
     "data": {
      "text/plain": [
       "Validation: |          | 0/? [00:00<?, ?it/s]"
      ],
      "application/vnd.jupyter.widget-view+json": {
       "version_major": 2,
       "version_minor": 0,
       "model_id": "a4a02e2906eb42dea25a4378b82da188"
      }
     },
     "metadata": {},
     "output_type": "display_data"
    },
    {
     "data": {
      "text/plain": [
       "Validation: |          | 0/? [00:00<?, ?it/s]"
      ],
      "application/vnd.jupyter.widget-view+json": {
       "version_major": 2,
       "version_minor": 0,
       "model_id": "92e14d29176944398a9a1df176ff2ca7"
      }
     },
     "metadata": {},
     "output_type": "display_data"
    },
    {
     "data": {
      "text/plain": [
       "Validation: |          | 0/? [00:00<?, ?it/s]"
      ],
      "application/vnd.jupyter.widget-view+json": {
       "version_major": 2,
       "version_minor": 0,
       "model_id": "86fd36fb14564e2c8e1346c73726090a"
      }
     },
     "metadata": {},
     "output_type": "display_data"
    },
    {
     "data": {
      "text/plain": [
       "Validation: |          | 0/? [00:00<?, ?it/s]"
      ],
      "application/vnd.jupyter.widget-view+json": {
       "version_major": 2,
       "version_minor": 0,
       "model_id": "7b9c59b2ff8b40709c88b2a5dbcb1c13"
      }
     },
     "metadata": {},
     "output_type": "display_data"
    },
    {
     "data": {
      "text/plain": [
       "Validation: |          | 0/? [00:00<?, ?it/s]"
      ],
      "application/vnd.jupyter.widget-view+json": {
       "version_major": 2,
       "version_minor": 0,
       "model_id": "e88047ce55184c51b40c1370aa83f8ef"
      }
     },
     "metadata": {},
     "output_type": "display_data"
    },
    {
     "data": {
      "text/plain": [
       "Validation: |          | 0/? [00:00<?, ?it/s]"
      ],
      "application/vnd.jupyter.widget-view+json": {
       "version_major": 2,
       "version_minor": 0,
       "model_id": "034687797ae948aa9a7b818cebf242e6"
      }
     },
     "metadata": {},
     "output_type": "display_data"
    },
    {
     "data": {
      "text/plain": [
       "Validation: |          | 0/? [00:00<?, ?it/s]"
      ],
      "application/vnd.jupyter.widget-view+json": {
       "version_major": 2,
       "version_minor": 0,
       "model_id": "775b2e21941845e0bc589bcd1ef07fa5"
      }
     },
     "metadata": {},
     "output_type": "display_data"
    },
    {
     "data": {
      "text/plain": [
       "Validation: |          | 0/? [00:00<?, ?it/s]"
      ],
      "application/vnd.jupyter.widget-view+json": {
       "version_major": 2,
       "version_minor": 0,
       "model_id": "5b9f03aa615942dda2a195bca05c608e"
      }
     },
     "metadata": {},
     "output_type": "display_data"
    },
    {
     "data": {
      "text/plain": [
       "Validation: |          | 0/? [00:00<?, ?it/s]"
      ],
      "application/vnd.jupyter.widget-view+json": {
       "version_major": 2,
       "version_minor": 0,
       "model_id": "f236628883ab4e2f9afdf583ca8386fb"
      }
     },
     "metadata": {},
     "output_type": "display_data"
    },
    {
     "data": {
      "text/plain": [
       "Validation: |          | 0/? [00:00<?, ?it/s]"
      ],
      "application/vnd.jupyter.widget-view+json": {
       "version_major": 2,
       "version_minor": 0,
       "model_id": "0621d3db3e0c4fc583164999b569130a"
      }
     },
     "metadata": {},
     "output_type": "display_data"
    },
    {
     "data": {
      "text/plain": [
       "Validation: |          | 0/? [00:00<?, ?it/s]"
      ],
      "application/vnd.jupyter.widget-view+json": {
       "version_major": 2,
       "version_minor": 0,
       "model_id": "f1320b6e2a5f46fdb4a61c613966f8d0"
      }
     },
     "metadata": {},
     "output_type": "display_data"
    },
    {
     "data": {
      "text/plain": [
       "Validation: |          | 0/? [00:00<?, ?it/s]"
      ],
      "application/vnd.jupyter.widget-view+json": {
       "version_major": 2,
       "version_minor": 0,
       "model_id": "1a03e2764fe445f08fcbb6038dc43ed0"
      }
     },
     "metadata": {},
     "output_type": "display_data"
    },
    {
     "data": {
      "text/plain": [
       "Validation: |          | 0/? [00:00<?, ?it/s]"
      ],
      "application/vnd.jupyter.widget-view+json": {
       "version_major": 2,
       "version_minor": 0,
       "model_id": "cd5555ea6fa64a44ad3a877747ec8256"
      }
     },
     "metadata": {},
     "output_type": "display_data"
    },
    {
     "data": {
      "text/plain": [
       "Validation: |          | 0/? [00:00<?, ?it/s]"
      ],
      "application/vnd.jupyter.widget-view+json": {
       "version_major": 2,
       "version_minor": 0,
       "model_id": "85691e5dd37943c199ae6954b2e71d8a"
      }
     },
     "metadata": {},
     "output_type": "display_data"
    },
    {
     "data": {
      "text/plain": [
       "Validation: |          | 0/? [00:00<?, ?it/s]"
      ],
      "application/vnd.jupyter.widget-view+json": {
       "version_major": 2,
       "version_minor": 0,
       "model_id": "edf05165fe594e0b812a42cec76af16e"
      }
     },
     "metadata": {},
     "output_type": "display_data"
    },
    {
     "data": {
      "text/plain": [
       "Validation: |          | 0/? [00:00<?, ?it/s]"
      ],
      "application/vnd.jupyter.widget-view+json": {
       "version_major": 2,
       "version_minor": 0,
       "model_id": "c3959721dca741bc910211041a9bb8e7"
      }
     },
     "metadata": {},
     "output_type": "display_data"
    },
    {
     "data": {
      "text/plain": [
       "Validation: |          | 0/? [00:00<?, ?it/s]"
      ],
      "application/vnd.jupyter.widget-view+json": {
       "version_major": 2,
       "version_minor": 0,
       "model_id": "117e64bb5be640d4ab557a3c546bc4ac"
      }
     },
     "metadata": {},
     "output_type": "display_data"
    },
    {
     "data": {
      "text/plain": [
       "Validation: |          | 0/? [00:00<?, ?it/s]"
      ],
      "application/vnd.jupyter.widget-view+json": {
       "version_major": 2,
       "version_minor": 0,
       "model_id": "e815b231e4bc45ef9e1d0d892615388f"
      }
     },
     "metadata": {},
     "output_type": "display_data"
    },
    {
     "data": {
      "text/plain": [
       "Validation: |          | 0/? [00:00<?, ?it/s]"
      ],
      "application/vnd.jupyter.widget-view+json": {
       "version_major": 2,
       "version_minor": 0,
       "model_id": "219189b23df149898945d08dbb3031ad"
      }
     },
     "metadata": {},
     "output_type": "display_data"
    },
    {
     "data": {
      "text/plain": [
       "Validation: |          | 0/? [00:00<?, ?it/s]"
      ],
      "application/vnd.jupyter.widget-view+json": {
       "version_major": 2,
       "version_minor": 0,
       "model_id": "4a939dd2b05f4ffc90dad0dd9df08aad"
      }
     },
     "metadata": {},
     "output_type": "display_data"
    },
    {
     "data": {
      "text/plain": [
       "Validation: |          | 0/? [00:00<?, ?it/s]"
      ],
      "application/vnd.jupyter.widget-view+json": {
       "version_major": 2,
       "version_minor": 0,
       "model_id": "4994d77ebe914fa8af13be0104d47652"
      }
     },
     "metadata": {},
     "output_type": "display_data"
    },
    {
     "data": {
      "text/plain": [
       "Validation: |          | 0/? [00:00<?, ?it/s]"
      ],
      "application/vnd.jupyter.widget-view+json": {
       "version_major": 2,
       "version_minor": 0,
       "model_id": "728bfdf685494a72835de9b02f646bf1"
      }
     },
     "metadata": {},
     "output_type": "display_data"
    },
    {
     "data": {
      "text/plain": [
       "Validation: |          | 0/? [00:00<?, ?it/s]"
      ],
      "application/vnd.jupyter.widget-view+json": {
       "version_major": 2,
       "version_minor": 0,
       "model_id": "075f1a9c785a485fb7983f4a52a21689"
      }
     },
     "metadata": {},
     "output_type": "display_data"
    },
    {
     "data": {
      "text/plain": [
       "Validation: |          | 0/? [00:00<?, ?it/s]"
      ],
      "application/vnd.jupyter.widget-view+json": {
       "version_major": 2,
       "version_minor": 0,
       "model_id": "c92e905dad7e421c96d7d8706db4a62a"
      }
     },
     "metadata": {},
     "output_type": "display_data"
    },
    {
     "data": {
      "text/plain": [
       "Validation: |          | 0/? [00:00<?, ?it/s]"
      ],
      "application/vnd.jupyter.widget-view+json": {
       "version_major": 2,
       "version_minor": 0,
       "model_id": "1066f135024146d780f711d3d50de959"
      }
     },
     "metadata": {},
     "output_type": "display_data"
    },
    {
     "data": {
      "text/plain": [
       "Validation: |          | 0/? [00:00<?, ?it/s]"
      ],
      "application/vnd.jupyter.widget-view+json": {
       "version_major": 2,
       "version_minor": 0,
       "model_id": "83791b1eedca40d6b5c9a6613e5414f0"
      }
     },
     "metadata": {},
     "output_type": "display_data"
    },
    {
     "data": {
      "text/plain": [
       "Validation: |          | 0/? [00:00<?, ?it/s]"
      ],
      "application/vnd.jupyter.widget-view+json": {
       "version_major": 2,
       "version_minor": 0,
       "model_id": "30244dcd4cfb492d83859044a3212761"
      }
     },
     "metadata": {},
     "output_type": "display_data"
    },
    {
     "data": {
      "text/plain": [
       "Validation: |          | 0/? [00:00<?, ?it/s]"
      ],
      "application/vnd.jupyter.widget-view+json": {
       "version_major": 2,
       "version_minor": 0,
       "model_id": "6acfdbc7495b44e0bc56f93b82b2317c"
      }
     },
     "metadata": {},
     "output_type": "display_data"
    },
    {
     "data": {
      "text/plain": [
       "Validation: |          | 0/? [00:00<?, ?it/s]"
      ],
      "application/vnd.jupyter.widget-view+json": {
       "version_major": 2,
       "version_minor": 0,
       "model_id": "5037b3d42d5746a6a165439585c28bad"
      }
     },
     "metadata": {},
     "output_type": "display_data"
    },
    {
     "data": {
      "text/plain": [
       "Validation: |          | 0/? [00:00<?, ?it/s]"
      ],
      "application/vnd.jupyter.widget-view+json": {
       "version_major": 2,
       "version_minor": 0,
       "model_id": "02ee4161123343ae856d712cba1ea66d"
      }
     },
     "metadata": {},
     "output_type": "display_data"
    },
    {
     "data": {
      "text/plain": [
       "Validation: |          | 0/? [00:00<?, ?it/s]"
      ],
      "application/vnd.jupyter.widget-view+json": {
       "version_major": 2,
       "version_minor": 0,
       "model_id": "b6afaaec4e4e4ba8aa832ffa9498b067"
      }
     },
     "metadata": {},
     "output_type": "display_data"
    },
    {
     "data": {
      "text/plain": [
       "Validation: |          | 0/? [00:00<?, ?it/s]"
      ],
      "application/vnd.jupyter.widget-view+json": {
       "version_major": 2,
       "version_minor": 0,
       "model_id": "fd94a4a4bafe4fe4ae093715b50e9b23"
      }
     },
     "metadata": {},
     "output_type": "display_data"
    },
    {
     "data": {
      "text/plain": [
       "Validation: |          | 0/? [00:00<?, ?it/s]"
      ],
      "application/vnd.jupyter.widget-view+json": {
       "version_major": 2,
       "version_minor": 0,
       "model_id": "149e3136b633498c85367497df7b944e"
      }
     },
     "metadata": {},
     "output_type": "display_data"
    },
    {
     "data": {
      "text/plain": [
       "Validation: |          | 0/? [00:00<?, ?it/s]"
      ],
      "application/vnd.jupyter.widget-view+json": {
       "version_major": 2,
       "version_minor": 0,
       "model_id": "3fa1492cbe79435590be422c10204ba5"
      }
     },
     "metadata": {},
     "output_type": "display_data"
    },
    {
     "data": {
      "text/plain": [
       "Validation: |          | 0/? [00:00<?, ?it/s]"
      ],
      "application/vnd.jupyter.widget-view+json": {
       "version_major": 2,
       "version_minor": 0,
       "model_id": "df31ac759c914d5580f9443b2f1e95b1"
      }
     },
     "metadata": {},
     "output_type": "display_data"
    },
    {
     "data": {
      "text/plain": [
       "Validation: |          | 0/? [00:00<?, ?it/s]"
      ],
      "application/vnd.jupyter.widget-view+json": {
       "version_major": 2,
       "version_minor": 0,
       "model_id": "02dbdc3c61ff45b8a1c9aa544a75aef2"
      }
     },
     "metadata": {},
     "output_type": "display_data"
    },
    {
     "data": {
      "text/plain": [
       "Validation: |          | 0/? [00:00<?, ?it/s]"
      ],
      "application/vnd.jupyter.widget-view+json": {
       "version_major": 2,
       "version_minor": 0,
       "model_id": "bb9b97fba0524ab7a0ec0c3006a3273b"
      }
     },
     "metadata": {},
     "output_type": "display_data"
    },
    {
     "data": {
      "text/plain": [
       "Validation: |          | 0/? [00:00<?, ?it/s]"
      ],
      "application/vnd.jupyter.widget-view+json": {
       "version_major": 2,
       "version_minor": 0,
       "model_id": "aa73b6990df94ecb9c20eafaf6ca1dd5"
      }
     },
     "metadata": {},
     "output_type": "display_data"
    },
    {
     "data": {
      "text/plain": [
       "Validation: |          | 0/? [00:00<?, ?it/s]"
      ],
      "application/vnd.jupyter.widget-view+json": {
       "version_major": 2,
       "version_minor": 0,
       "model_id": "d7be7859915d44908b73b1b300dbabb0"
      }
     },
     "metadata": {},
     "output_type": "display_data"
    },
    {
     "data": {
      "text/plain": [
       "Validation: |          | 0/? [00:00<?, ?it/s]"
      ],
      "application/vnd.jupyter.widget-view+json": {
       "version_major": 2,
       "version_minor": 0,
       "model_id": "ba3513fc08c54f0ab658cc5de468cfd5"
      }
     },
     "metadata": {},
     "output_type": "display_data"
    },
    {
     "data": {
      "text/plain": [
       "Validation: |          | 0/? [00:00<?, ?it/s]"
      ],
      "application/vnd.jupyter.widget-view+json": {
       "version_major": 2,
       "version_minor": 0,
       "model_id": "8db585a0d38745c88a9685799b311af6"
      }
     },
     "metadata": {},
     "output_type": "display_data"
    },
    {
     "data": {
      "text/plain": [
       "Validation: |          | 0/? [00:00<?, ?it/s]"
      ],
      "application/vnd.jupyter.widget-view+json": {
       "version_major": 2,
       "version_minor": 0,
       "model_id": "34c78f160c374e6c84d66cfc53ca8f0f"
      }
     },
     "metadata": {},
     "output_type": "display_data"
    },
    {
     "data": {
      "text/plain": [
       "Validation: |          | 0/? [00:00<?, ?it/s]"
      ],
      "application/vnd.jupyter.widget-view+json": {
       "version_major": 2,
       "version_minor": 0,
       "model_id": "8cdf976989b847aca1eb04078633109c"
      }
     },
     "metadata": {},
     "output_type": "display_data"
    },
    {
     "data": {
      "text/plain": [
       "Validation: |          | 0/? [00:00<?, ?it/s]"
      ],
      "application/vnd.jupyter.widget-view+json": {
       "version_major": 2,
       "version_minor": 0,
       "model_id": "85970c6846244c40aad063e1809aaa83"
      }
     },
     "metadata": {},
     "output_type": "display_data"
    },
    {
     "data": {
      "text/plain": [
       "Validation: |          | 0/? [00:00<?, ?it/s]"
      ],
      "application/vnd.jupyter.widget-view+json": {
       "version_major": 2,
       "version_minor": 0,
       "model_id": "1540a5eca70e43a9bc3cea5bb89b4060"
      }
     },
     "metadata": {},
     "output_type": "display_data"
    },
    {
     "data": {
      "text/plain": [
       "Validation: |          | 0/? [00:00<?, ?it/s]"
      ],
      "application/vnd.jupyter.widget-view+json": {
       "version_major": 2,
       "version_minor": 0,
       "model_id": "34ed6da9723948dda69b1e15e4485c99"
      }
     },
     "metadata": {},
     "output_type": "display_data"
    },
    {
     "data": {
      "text/plain": [
       "Validation: |          | 0/? [00:00<?, ?it/s]"
      ],
      "application/vnd.jupyter.widget-view+json": {
       "version_major": 2,
       "version_minor": 0,
       "model_id": "c54c348926264dcbb29acc4a82e5db11"
      }
     },
     "metadata": {},
     "output_type": "display_data"
    },
    {
     "data": {
      "text/plain": [
       "Validation: |          | 0/? [00:00<?, ?it/s]"
      ],
      "application/vnd.jupyter.widget-view+json": {
       "version_major": 2,
       "version_minor": 0,
       "model_id": "61595bbab400465482d82d4b7162a10b"
      }
     },
     "metadata": {},
     "output_type": "display_data"
    },
    {
     "data": {
      "text/plain": [
       "Validation: |          | 0/? [00:00<?, ?it/s]"
      ],
      "application/vnd.jupyter.widget-view+json": {
       "version_major": 2,
       "version_minor": 0,
       "model_id": "47a2437d29ea460d93d4579834c9cff2"
      }
     },
     "metadata": {},
     "output_type": "display_data"
    },
    {
     "data": {
      "text/plain": [
       "Validation: |          | 0/? [00:00<?, ?it/s]"
      ],
      "application/vnd.jupyter.widget-view+json": {
       "version_major": 2,
       "version_minor": 0,
       "model_id": "5dd9cfb6d93c45e2b465b68b9ad018c8"
      }
     },
     "metadata": {},
     "output_type": "display_data"
    },
    {
     "data": {
      "text/plain": [
       "Validation: |          | 0/? [00:00<?, ?it/s]"
      ],
      "application/vnd.jupyter.widget-view+json": {
       "version_major": 2,
       "version_minor": 0,
       "model_id": "0ff74b984e9d4655b466fe2bc58739a6"
      }
     },
     "metadata": {},
     "output_type": "display_data"
    },
    {
     "data": {
      "text/plain": [
       "Validation: |          | 0/? [00:00<?, ?it/s]"
      ],
      "application/vnd.jupyter.widget-view+json": {
       "version_major": 2,
       "version_minor": 0,
       "model_id": "97f648045d964a178ca39e9754429bb3"
      }
     },
     "metadata": {},
     "output_type": "display_data"
    },
    {
     "data": {
      "text/plain": [
       "Validation: |          | 0/? [00:00<?, ?it/s]"
      ],
      "application/vnd.jupyter.widget-view+json": {
       "version_major": 2,
       "version_minor": 0,
       "model_id": "7e8d17a02e904716b3d55a68bb9e3103"
      }
     },
     "metadata": {},
     "output_type": "display_data"
    },
    {
     "data": {
      "text/plain": [
       "Validation: |          | 0/? [00:00<?, ?it/s]"
      ],
      "application/vnd.jupyter.widget-view+json": {
       "version_major": 2,
       "version_minor": 0,
       "model_id": "700528dcd7764569a337bcade59d3ed8"
      }
     },
     "metadata": {},
     "output_type": "display_data"
    },
    {
     "data": {
      "text/plain": [
       "Validation: |          | 0/? [00:00<?, ?it/s]"
      ],
      "application/vnd.jupyter.widget-view+json": {
       "version_major": 2,
       "version_minor": 0,
       "model_id": "95f695631f2142fb9638fb1f89bbb4ce"
      }
     },
     "metadata": {},
     "output_type": "display_data"
    },
    {
     "data": {
      "text/plain": [
       "Validation: |          | 0/? [00:00<?, ?it/s]"
      ],
      "application/vnd.jupyter.widget-view+json": {
       "version_major": 2,
       "version_minor": 0,
       "model_id": "93f9eb4bd5454b67a594eb34c092d369"
      }
     },
     "metadata": {},
     "output_type": "display_data"
    },
    {
     "data": {
      "text/plain": [
       "Validation: |          | 0/? [00:00<?, ?it/s]"
      ],
      "application/vnd.jupyter.widget-view+json": {
       "version_major": 2,
       "version_minor": 0,
       "model_id": "7123ae10017e4bbcbbf39f8bd0ae283b"
      }
     },
     "metadata": {},
     "output_type": "display_data"
    },
    {
     "data": {
      "text/plain": [
       "Validation: |          | 0/? [00:00<?, ?it/s]"
      ],
      "application/vnd.jupyter.widget-view+json": {
       "version_major": 2,
       "version_minor": 0,
       "model_id": "f8667c77ce9d4da1b664b623cffe2cb8"
      }
     },
     "metadata": {},
     "output_type": "display_data"
    },
    {
     "name": "stderr",
     "output_type": "stream",
     "text": [
      "`Trainer.fit` stopped: `max_epochs=120` reached.\n"
     ]
    },
    {
     "name": "stdout",
     "output_type": "stream",
     "text": [
      "кол-во айтемов 3646\n",
      "{'extra_cols': ['datetime']}\n"
     ]
    },
    {
     "name": "stderr",
     "output_type": "stream",
     "text": [
      "LOCAL_RANK: 0 - CUDA_VISIBLE_DEVICES: [0]\n"
     ]
    },
    {
     "name": "stdout",
     "output_type": "stream",
     "text": [
      "item_model.item_net_blocks.0.ids_emb.weight torch.Size([3646, 50])\n",
      "pos_encoding_layer.pos_emb.weight torch.Size([200, 50])\n",
      "transformer_layers.stu_blocks.0._uvqk torch.Size([50, 200])\n",
      "transformer_layers.stu_blocks.0._rel_attn_bias._ts_w torch.Size([129])\n",
      "transformer_layers.stu_blocks.0._rel_attn_bias._pos_w torch.Size([401])\n",
      "transformer_layers.stu_blocks.0._o.weight torch.Size([50, 50])\n",
      "transformer_layers.stu_blocks.0._o.bias torch.Size([50])\n",
      "transformer_layers.stu_blocks.1._uvqk torch.Size([50, 200])\n",
      "transformer_layers.stu_blocks.1._rel_attn_bias._ts_w torch.Size([129])\n",
      "transformer_layers.stu_blocks.1._rel_attn_bias._pos_w torch.Size([401])\n",
      "transformer_layers.stu_blocks.1._o.weight torch.Size([50, 50])\n",
      "transformer_layers.stu_blocks.1._o.bias torch.Size([50])\n",
      "transformer_layers.last_layernorm.weight torch.Size([50])\n",
      "transformer_layers.last_layernorm.bias torch.Size([50])\n"
     ]
    },
    {
     "data": {
      "text/plain": [
       "Sanity Checking: |          | 0/? [00:00<?, ?it/s]"
      ],
      "application/vnd.jupyter.widget-view+json": {
       "version_major": 2,
       "version_minor": 0,
       "model_id": "5d766baba2eb479593455e23911e5c10"
      }
     },
     "metadata": {},
     "output_type": "display_data"
    },
    {
     "data": {
      "text/plain": [
       "Training: |          | 0/? [00:00<?, ?it/s]"
      ],
      "application/vnd.jupyter.widget-view+json": {
       "version_major": 2,
       "version_minor": 0,
       "model_id": "160c199aee9c4380994a431203941913"
      }
     },
     "metadata": {},
     "output_type": "display_data"
    },
    {
     "data": {
      "text/plain": [
       "Validation: |          | 0/? [00:00<?, ?it/s]"
      ],
      "application/vnd.jupyter.widget-view+json": {
       "version_major": 2,
       "version_minor": 0,
       "model_id": "542383901da3480cabd46acb420606c7"
      }
     },
     "metadata": {},
     "output_type": "display_data"
    },
    {
     "data": {
      "text/plain": [
       "Validation: |          | 0/? [00:00<?, ?it/s]"
      ],
      "application/vnd.jupyter.widget-view+json": {
       "version_major": 2,
       "version_minor": 0,
       "model_id": "1809c86008a2409589de94d3049d1c43"
      }
     },
     "metadata": {},
     "output_type": "display_data"
    },
    {
     "data": {
      "text/plain": [
       "Validation: |          | 0/? [00:00<?, ?it/s]"
      ],
      "application/vnd.jupyter.widget-view+json": {
       "version_major": 2,
       "version_minor": 0,
       "model_id": "964fbfb15a44432f98958b5cd530de25"
      }
     },
     "metadata": {},
     "output_type": "display_data"
    },
    {
     "data": {
      "text/plain": [
       "Validation: |          | 0/? [00:00<?, ?it/s]"
      ],
      "application/vnd.jupyter.widget-view+json": {
       "version_major": 2,
       "version_minor": 0,
       "model_id": "a3c05c5a33ca4d4e902ccee2d739b23d"
      }
     },
     "metadata": {},
     "output_type": "display_data"
    },
    {
     "data": {
      "text/plain": [
       "Validation: |          | 0/? [00:00<?, ?it/s]"
      ],
      "application/vnd.jupyter.widget-view+json": {
       "version_major": 2,
       "version_minor": 0,
       "model_id": "e56b1f5d3fba494d8524a8a5c33da13c"
      }
     },
     "metadata": {},
     "output_type": "display_data"
    },
    {
     "data": {
      "text/plain": [
       "Validation: |          | 0/? [00:00<?, ?it/s]"
      ],
      "application/vnd.jupyter.widget-view+json": {
       "version_major": 2,
       "version_minor": 0,
       "model_id": "10fa434e91e34584b9d975c6f5aa897f"
      }
     },
     "metadata": {},
     "output_type": "display_data"
    },
    {
     "data": {
      "text/plain": [
       "Validation: |          | 0/? [00:00<?, ?it/s]"
      ],
      "application/vnd.jupyter.widget-view+json": {
       "version_major": 2,
       "version_minor": 0,
       "model_id": "c89b5ce4530f4b50818f2e26320e1522"
      }
     },
     "metadata": {},
     "output_type": "display_data"
    },
    {
     "data": {
      "text/plain": [
       "Validation: |          | 0/? [00:00<?, ?it/s]"
      ],
      "application/vnd.jupyter.widget-view+json": {
       "version_major": 2,
       "version_minor": 0,
       "model_id": "ceea1f99db4342f7b8fd04fb18ae37ad"
      }
     },
     "metadata": {},
     "output_type": "display_data"
    },
    {
     "data": {
      "text/plain": [
       "Validation: |          | 0/? [00:00<?, ?it/s]"
      ],
      "application/vnd.jupyter.widget-view+json": {
       "version_major": 2,
       "version_minor": 0,
       "model_id": "4d83c6947193475a91f2ff4a841a5d25"
      }
     },
     "metadata": {},
     "output_type": "display_data"
    },
    {
     "data": {
      "text/plain": [
       "Validation: |          | 0/? [00:00<?, ?it/s]"
      ],
      "application/vnd.jupyter.widget-view+json": {
       "version_major": 2,
       "version_minor": 0,
       "model_id": "7e98bca9983546daaba3ff375a7e242d"
      }
     },
     "metadata": {},
     "output_type": "display_data"
    },
    {
     "data": {
      "text/plain": [
       "Validation: |          | 0/? [00:00<?, ?it/s]"
      ],
      "application/vnd.jupyter.widget-view+json": {
       "version_major": 2,
       "version_minor": 0,
       "model_id": "fd7ecd1988ab4e19a66dbc3fef482335"
      }
     },
     "metadata": {},
     "output_type": "display_data"
    },
    {
     "data": {
      "text/plain": [
       "Validation: |          | 0/? [00:00<?, ?it/s]"
      ],
      "application/vnd.jupyter.widget-view+json": {
       "version_major": 2,
       "version_minor": 0,
       "model_id": "0e12194d81834b4fa1d0ab05a46c4d2d"
      }
     },
     "metadata": {},
     "output_type": "display_data"
    },
    {
     "data": {
      "text/plain": [
       "Validation: |          | 0/? [00:00<?, ?it/s]"
      ],
      "application/vnd.jupyter.widget-view+json": {
       "version_major": 2,
       "version_minor": 0,
       "model_id": "7f912c5f4ecb4ec1b423b2f538663d74"
      }
     },
     "metadata": {},
     "output_type": "display_data"
    },
    {
     "data": {
      "text/plain": [
       "Validation: |          | 0/? [00:00<?, ?it/s]"
      ],
      "application/vnd.jupyter.widget-view+json": {
       "version_major": 2,
       "version_minor": 0,
       "model_id": "a3ed3d6c65254c4a9b65c835f77f2313"
      }
     },
     "metadata": {},
     "output_type": "display_data"
    },
    {
     "data": {
      "text/plain": [
       "Validation: |          | 0/? [00:00<?, ?it/s]"
      ],
      "application/vnd.jupyter.widget-view+json": {
       "version_major": 2,
       "version_minor": 0,
       "model_id": "4ae2af69647b42639b9503e9736dc2c5"
      }
     },
     "metadata": {},
     "output_type": "display_data"
    },
    {
     "data": {
      "text/plain": [
       "Validation: |          | 0/? [00:00<?, ?it/s]"
      ],
      "application/vnd.jupyter.widget-view+json": {
       "version_major": 2,
       "version_minor": 0,
       "model_id": "08c6d570013e47da9178984d7ce1cb33"
      }
     },
     "metadata": {},
     "output_type": "display_data"
    },
    {
     "data": {
      "text/plain": [
       "Validation: |          | 0/? [00:00<?, ?it/s]"
      ],
      "application/vnd.jupyter.widget-view+json": {
       "version_major": 2,
       "version_minor": 0,
       "model_id": "317cdcd98ce643199c02beb2dc6d25f3"
      }
     },
     "metadata": {},
     "output_type": "display_data"
    },
    {
     "data": {
      "text/plain": [
       "Validation: |          | 0/? [00:00<?, ?it/s]"
      ],
      "application/vnd.jupyter.widget-view+json": {
       "version_major": 2,
       "version_minor": 0,
       "model_id": "9b2ed464b9184ba3809e8b63c5cb112d"
      }
     },
     "metadata": {},
     "output_type": "display_data"
    },
    {
     "data": {
      "text/plain": [
       "Validation: |          | 0/? [00:00<?, ?it/s]"
      ],
      "application/vnd.jupyter.widget-view+json": {
       "version_major": 2,
       "version_minor": 0,
       "model_id": "c819b0b3731540feb24df80a27b6db42"
      }
     },
     "metadata": {},
     "output_type": "display_data"
    },
    {
     "data": {
      "text/plain": [
       "Validation: |          | 0/? [00:00<?, ?it/s]"
      ],
      "application/vnd.jupyter.widget-view+json": {
       "version_major": 2,
       "version_minor": 0,
       "model_id": "050a3501d2ab4debab2cf916d9f571b6"
      }
     },
     "metadata": {},
     "output_type": "display_data"
    },
    {
     "data": {
      "text/plain": [
       "Validation: |          | 0/? [00:00<?, ?it/s]"
      ],
      "application/vnd.jupyter.widget-view+json": {
       "version_major": 2,
       "version_minor": 0,
       "model_id": "86d54bf5a4484f89977a26be7cf8a405"
      }
     },
     "metadata": {},
     "output_type": "display_data"
    },
    {
     "data": {
      "text/plain": [
       "Validation: |          | 0/? [00:00<?, ?it/s]"
      ],
      "application/vnd.jupyter.widget-view+json": {
       "version_major": 2,
       "version_minor": 0,
       "model_id": "b1cc078c0827493d99c5617e2db2de5d"
      }
     },
     "metadata": {},
     "output_type": "display_data"
    },
    {
     "data": {
      "text/plain": [
       "Validation: |          | 0/? [00:00<?, ?it/s]"
      ],
      "application/vnd.jupyter.widget-view+json": {
       "version_major": 2,
       "version_minor": 0,
       "model_id": "76e5caefc52c4128a8c70ea10fd13055"
      }
     },
     "metadata": {},
     "output_type": "display_data"
    },
    {
     "data": {
      "text/plain": [
       "Validation: |          | 0/? [00:00<?, ?it/s]"
      ],
      "application/vnd.jupyter.widget-view+json": {
       "version_major": 2,
       "version_minor": 0,
       "model_id": "604689ee1e11483c97e967c670b77813"
      }
     },
     "metadata": {},
     "output_type": "display_data"
    },
    {
     "data": {
      "text/plain": [
       "Validation: |          | 0/? [00:00<?, ?it/s]"
      ],
      "application/vnd.jupyter.widget-view+json": {
       "version_major": 2,
       "version_minor": 0,
       "model_id": "6df03b1ad788477da404428758d156f2"
      }
     },
     "metadata": {},
     "output_type": "display_data"
    },
    {
     "data": {
      "text/plain": [
       "Validation: |          | 0/? [00:00<?, ?it/s]"
      ],
      "application/vnd.jupyter.widget-view+json": {
       "version_major": 2,
       "version_minor": 0,
       "model_id": "8d4a1f1e62ec40808c38343705c62513"
      }
     },
     "metadata": {},
     "output_type": "display_data"
    },
    {
     "data": {
      "text/plain": [
       "Validation: |          | 0/? [00:00<?, ?it/s]"
      ],
      "application/vnd.jupyter.widget-view+json": {
       "version_major": 2,
       "version_minor": 0,
       "model_id": "603869f8a8174a50b9cda4881af2fce4"
      }
     },
     "metadata": {},
     "output_type": "display_data"
    },
    {
     "data": {
      "text/plain": [
       "Validation: |          | 0/? [00:00<?, ?it/s]"
      ],
      "application/vnd.jupyter.widget-view+json": {
       "version_major": 2,
       "version_minor": 0,
       "model_id": "d98aafd3e5ff4d2b83567ccf007e5c7e"
      }
     },
     "metadata": {},
     "output_type": "display_data"
    },
    {
     "data": {
      "text/plain": [
       "Validation: |          | 0/? [00:00<?, ?it/s]"
      ],
      "application/vnd.jupyter.widget-view+json": {
       "version_major": 2,
       "version_minor": 0,
       "model_id": "e1f87a6cc784403b85da0f4fd9d910e2"
      }
     },
     "metadata": {},
     "output_type": "display_data"
    },
    {
     "data": {
      "text/plain": [
       "Validation: |          | 0/? [00:00<?, ?it/s]"
      ],
      "application/vnd.jupyter.widget-view+json": {
       "version_major": 2,
       "version_minor": 0,
       "model_id": "46c8c05e79be4c58a83d204d80497c16"
      }
     },
     "metadata": {},
     "output_type": "display_data"
    },
    {
     "data": {
      "text/plain": [
       "Validation: |          | 0/? [00:00<?, ?it/s]"
      ],
      "application/vnd.jupyter.widget-view+json": {
       "version_major": 2,
       "version_minor": 0,
       "model_id": "cb12f556ea854f5da10d83897863df3c"
      }
     },
     "metadata": {},
     "output_type": "display_data"
    },
    {
     "data": {
      "text/plain": [
       "Validation: |          | 0/? [00:00<?, ?it/s]"
      ],
      "application/vnd.jupyter.widget-view+json": {
       "version_major": 2,
       "version_minor": 0,
       "model_id": "aafe5f75ff6c44ea9500658c391d29c1"
      }
     },
     "metadata": {},
     "output_type": "display_data"
    },
    {
     "data": {
      "text/plain": [
       "Validation: |          | 0/? [00:00<?, ?it/s]"
      ],
      "application/vnd.jupyter.widget-view+json": {
       "version_major": 2,
       "version_minor": 0,
       "model_id": "91d9430983774367af7291c711c90007"
      }
     },
     "metadata": {},
     "output_type": "display_data"
    },
    {
     "data": {
      "text/plain": [
       "Validation: |          | 0/? [00:00<?, ?it/s]"
      ],
      "application/vnd.jupyter.widget-view+json": {
       "version_major": 2,
       "version_minor": 0,
       "model_id": "64629136c3c446b8b18d3ed956cb4880"
      }
     },
     "metadata": {},
     "output_type": "display_data"
    },
    {
     "data": {
      "text/plain": [
       "Validation: |          | 0/? [00:00<?, ?it/s]"
      ],
      "application/vnd.jupyter.widget-view+json": {
       "version_major": 2,
       "version_minor": 0,
       "model_id": "e18419adb96042468bd52b2f8215c426"
      }
     },
     "metadata": {},
     "output_type": "display_data"
    },
    {
     "data": {
      "text/plain": [
       "Validation: |          | 0/? [00:00<?, ?it/s]"
      ],
      "application/vnd.jupyter.widget-view+json": {
       "version_major": 2,
       "version_minor": 0,
       "model_id": "3329c2de118346d5866b168ebf8bbdba"
      }
     },
     "metadata": {},
     "output_type": "display_data"
    },
    {
     "data": {
      "text/plain": [
       "Validation: |          | 0/? [00:00<?, ?it/s]"
      ],
      "application/vnd.jupyter.widget-view+json": {
       "version_major": 2,
       "version_minor": 0,
       "model_id": "179faf9d02184a9a94e695942a040925"
      }
     },
     "metadata": {},
     "output_type": "display_data"
    },
    {
     "data": {
      "text/plain": [
       "Validation: |          | 0/? [00:00<?, ?it/s]"
      ],
      "application/vnd.jupyter.widget-view+json": {
       "version_major": 2,
       "version_minor": 0,
       "model_id": "5c6b8845a5c34e09ab661cd49675eb40"
      }
     },
     "metadata": {},
     "output_type": "display_data"
    },
    {
     "data": {
      "text/plain": [
       "Validation: |          | 0/? [00:00<?, ?it/s]"
      ],
      "application/vnd.jupyter.widget-view+json": {
       "version_major": 2,
       "version_minor": 0,
       "model_id": "bbae4abc114c4178a2942c633aebaf60"
      }
     },
     "metadata": {},
     "output_type": "display_data"
    },
    {
     "data": {
      "text/plain": [
       "Validation: |          | 0/? [00:00<?, ?it/s]"
      ],
      "application/vnd.jupyter.widget-view+json": {
       "version_major": 2,
       "version_minor": 0,
       "model_id": "1e2e55f234004d779252ef4d8dfd489d"
      }
     },
     "metadata": {},
     "output_type": "display_data"
    },
    {
     "data": {
      "text/plain": [
       "Validation: |          | 0/? [00:00<?, ?it/s]"
      ],
      "application/vnd.jupyter.widget-view+json": {
       "version_major": 2,
       "version_minor": 0,
       "model_id": "fb26cf323852409fb44da785ae511281"
      }
     },
     "metadata": {},
     "output_type": "display_data"
    },
    {
     "data": {
      "text/plain": [
       "Validation: |          | 0/? [00:00<?, ?it/s]"
      ],
      "application/vnd.jupyter.widget-view+json": {
       "version_major": 2,
       "version_minor": 0,
       "model_id": "fe78af0668264c9c8c5b796065057671"
      }
     },
     "metadata": {},
     "output_type": "display_data"
    },
    {
     "data": {
      "text/plain": [
       "Validation: |          | 0/? [00:00<?, ?it/s]"
      ],
      "application/vnd.jupyter.widget-view+json": {
       "version_major": 2,
       "version_minor": 0,
       "model_id": "2b95bf2b83134dc6b77d5048c939de3c"
      }
     },
     "metadata": {},
     "output_type": "display_data"
    },
    {
     "data": {
      "text/plain": [
       "Validation: |          | 0/? [00:00<?, ?it/s]"
      ],
      "application/vnd.jupyter.widget-view+json": {
       "version_major": 2,
       "version_minor": 0,
       "model_id": "095b912f3c39477897b14ee42571e91f"
      }
     },
     "metadata": {},
     "output_type": "display_data"
    },
    {
     "data": {
      "text/plain": [
       "Validation: |          | 0/? [00:00<?, ?it/s]"
      ],
      "application/vnd.jupyter.widget-view+json": {
       "version_major": 2,
       "version_minor": 0,
       "model_id": "c54342d4bf4d4f1a86953d776b2314e3"
      }
     },
     "metadata": {},
     "output_type": "display_data"
    },
    {
     "data": {
      "text/plain": [
       "Validation: |          | 0/? [00:00<?, ?it/s]"
      ],
      "application/vnd.jupyter.widget-view+json": {
       "version_major": 2,
       "version_minor": 0,
       "model_id": "19ff1b72cbe14153a00917efd38d8d59"
      }
     },
     "metadata": {},
     "output_type": "display_data"
    },
    {
     "data": {
      "text/plain": [
       "Validation: |          | 0/? [00:00<?, ?it/s]"
      ],
      "application/vnd.jupyter.widget-view+json": {
       "version_major": 2,
       "version_minor": 0,
       "model_id": "64b4b77d84ca41bca011dca8f5d2cfcb"
      }
     },
     "metadata": {},
     "output_type": "display_data"
    },
    {
     "data": {
      "text/plain": [
       "Validation: |          | 0/? [00:00<?, ?it/s]"
      ],
      "application/vnd.jupyter.widget-view+json": {
       "version_major": 2,
       "version_minor": 0,
       "model_id": "27061d91560547d19a4408d090cd5946"
      }
     },
     "metadata": {},
     "output_type": "display_data"
    },
    {
     "data": {
      "text/plain": [
       "Validation: |          | 0/? [00:00<?, ?it/s]"
      ],
      "application/vnd.jupyter.widget-view+json": {
       "version_major": 2,
       "version_minor": 0,
       "model_id": "f57cebf5be79435a97717cbdfd0b2203"
      }
     },
     "metadata": {},
     "output_type": "display_data"
    },
    {
     "data": {
      "text/plain": [
       "Validation: |          | 0/? [00:00<?, ?it/s]"
      ],
      "application/vnd.jupyter.widget-view+json": {
       "version_major": 2,
       "version_minor": 0,
       "model_id": "9626bc961a9b440f89fef3843b2b6dcb"
      }
     },
     "metadata": {},
     "output_type": "display_data"
    },
    {
     "data": {
      "text/plain": [
       "Validation: |          | 0/? [00:00<?, ?it/s]"
      ],
      "application/vnd.jupyter.widget-view+json": {
       "version_major": 2,
       "version_minor": 0,
       "model_id": "54b85492755f4e18aefcb61e166d550f"
      }
     },
     "metadata": {},
     "output_type": "display_data"
    },
    {
     "data": {
      "text/plain": [
       "Validation: |          | 0/? [00:00<?, ?it/s]"
      ],
      "application/vnd.jupyter.widget-view+json": {
       "version_major": 2,
       "version_minor": 0,
       "model_id": "5c1ea99101544f80b686a39fa3a45530"
      }
     },
     "metadata": {},
     "output_type": "display_data"
    },
    {
     "data": {
      "text/plain": [
       "Validation: |          | 0/? [00:00<?, ?it/s]"
      ],
      "application/vnd.jupyter.widget-view+json": {
       "version_major": 2,
       "version_minor": 0,
       "model_id": "11ada52ce17a43daaf92f682f292cf15"
      }
     },
     "metadata": {},
     "output_type": "display_data"
    },
    {
     "data": {
      "text/plain": [
       "Validation: |          | 0/? [00:00<?, ?it/s]"
      ],
      "application/vnd.jupyter.widget-view+json": {
       "version_major": 2,
       "version_minor": 0,
       "model_id": "4012bb85c9f8465f94074465a104a98b"
      }
     },
     "metadata": {},
     "output_type": "display_data"
    },
    {
     "data": {
      "text/plain": [
       "Validation: |          | 0/? [00:00<?, ?it/s]"
      ],
      "application/vnd.jupyter.widget-view+json": {
       "version_major": 2,
       "version_minor": 0,
       "model_id": "aaff31b2d484492cbc038612c0ef6c46"
      }
     },
     "metadata": {},
     "output_type": "display_data"
    },
    {
     "data": {
      "text/plain": [
       "Validation: |          | 0/? [00:00<?, ?it/s]"
      ],
      "application/vnd.jupyter.widget-view+json": {
       "version_major": 2,
       "version_minor": 0,
       "model_id": "1e05ddb2a25641c9962337a9408cdb16"
      }
     },
     "metadata": {},
     "output_type": "display_data"
    },
    {
     "data": {
      "text/plain": [
       "Validation: |          | 0/? [00:00<?, ?it/s]"
      ],
      "application/vnd.jupyter.widget-view+json": {
       "version_major": 2,
       "version_minor": 0,
       "model_id": "558ff1e406164090b762903b415f2de5"
      }
     },
     "metadata": {},
     "output_type": "display_data"
    },
    {
     "data": {
      "text/plain": [
       "Validation: |          | 0/? [00:00<?, ?it/s]"
      ],
      "application/vnd.jupyter.widget-view+json": {
       "version_major": 2,
       "version_minor": 0,
       "model_id": "2d031a7691ca470999ed561b4192f27a"
      }
     },
     "metadata": {},
     "output_type": "display_data"
    },
    {
     "data": {
      "text/plain": [
       "Validation: |          | 0/? [00:00<?, ?it/s]"
      ],
      "application/vnd.jupyter.widget-view+json": {
       "version_major": 2,
       "version_minor": 0,
       "model_id": "5ae7e624faba46e09e375a70ac0d00e5"
      }
     },
     "metadata": {},
     "output_type": "display_data"
    },
    {
     "data": {
      "text/plain": [
       "Validation: |          | 0/? [00:00<?, ?it/s]"
      ],
      "application/vnd.jupyter.widget-view+json": {
       "version_major": 2,
       "version_minor": 0,
       "model_id": "c4f0b44b0da14055960307cc690df6a4"
      }
     },
     "metadata": {},
     "output_type": "display_data"
    },
    {
     "data": {
      "text/plain": [
       "Validation: |          | 0/? [00:00<?, ?it/s]"
      ],
      "application/vnd.jupyter.widget-view+json": {
       "version_major": 2,
       "version_minor": 0,
       "model_id": "3a385c4247b244adbd76f5568293189e"
      }
     },
     "metadata": {},
     "output_type": "display_data"
    },
    {
     "data": {
      "text/plain": [
       "Validation: |          | 0/? [00:00<?, ?it/s]"
      ],
      "application/vnd.jupyter.widget-view+json": {
       "version_major": 2,
       "version_minor": 0,
       "model_id": "5477dc9b49c142e8b57babc15feb457f"
      }
     },
     "metadata": {},
     "output_type": "display_data"
    },
    {
     "data": {
      "text/plain": [
       "Validation: |          | 0/? [00:00<?, ?it/s]"
      ],
      "application/vnd.jupyter.widget-view+json": {
       "version_major": 2,
       "version_minor": 0,
       "model_id": "9894204a09ad4e619f09010146a302b8"
      }
     },
     "metadata": {},
     "output_type": "display_data"
    },
    {
     "data": {
      "text/plain": [
       "Validation: |          | 0/? [00:00<?, ?it/s]"
      ],
      "application/vnd.jupyter.widget-view+json": {
       "version_major": 2,
       "version_minor": 0,
       "model_id": "b470ff889fda43759965045fc6fe5cc2"
      }
     },
     "metadata": {},
     "output_type": "display_data"
    },
    {
     "data": {
      "text/plain": [
       "Validation: |          | 0/? [00:00<?, ?it/s]"
      ],
      "application/vnd.jupyter.widget-view+json": {
       "version_major": 2,
       "version_minor": 0,
       "model_id": "9c4f8fcfb7384be7b3160b729158f9d9"
      }
     },
     "metadata": {},
     "output_type": "display_data"
    },
    {
     "data": {
      "text/plain": [
       "Validation: |          | 0/? [00:00<?, ?it/s]"
      ],
      "application/vnd.jupyter.widget-view+json": {
       "version_major": 2,
       "version_minor": 0,
       "model_id": "8c22627f49184f689405c1a0d3ba6a40"
      }
     },
     "metadata": {},
     "output_type": "display_data"
    },
    {
     "data": {
      "text/plain": [
       "Validation: |          | 0/? [00:00<?, ?it/s]"
      ],
      "application/vnd.jupyter.widget-view+json": {
       "version_major": 2,
       "version_minor": 0,
       "model_id": "aea50d6298cf4294b2675a8e56873139"
      }
     },
     "metadata": {},
     "output_type": "display_data"
    },
    {
     "data": {
      "text/plain": [
       "Validation: |          | 0/? [00:00<?, ?it/s]"
      ],
      "application/vnd.jupyter.widget-view+json": {
       "version_major": 2,
       "version_minor": 0,
       "model_id": "bb2d9c1b31364941aae2cf68a5f7874c"
      }
     },
     "metadata": {},
     "output_type": "display_data"
    },
    {
     "data": {
      "text/plain": [
       "Validation: |          | 0/? [00:00<?, ?it/s]"
      ],
      "application/vnd.jupyter.widget-view+json": {
       "version_major": 2,
       "version_minor": 0,
       "model_id": "62db4591094b4dba8fdf78e706795323"
      }
     },
     "metadata": {},
     "output_type": "display_data"
    },
    {
     "data": {
      "text/plain": [
       "Validation: |          | 0/? [00:00<?, ?it/s]"
      ],
      "application/vnd.jupyter.widget-view+json": {
       "version_major": 2,
       "version_minor": 0,
       "model_id": "d4d0078c7683451eb000055e2fbc7a50"
      }
     },
     "metadata": {},
     "output_type": "display_data"
    },
    {
     "data": {
      "text/plain": [
       "Validation: |          | 0/? [00:00<?, ?it/s]"
      ],
      "application/vnd.jupyter.widget-view+json": {
       "version_major": 2,
       "version_minor": 0,
       "model_id": "6a805c8e969f41d2b0aa8b618d4886b0"
      }
     },
     "metadata": {},
     "output_type": "display_data"
    },
    {
     "data": {
      "text/plain": [
       "Validation: |          | 0/? [00:00<?, ?it/s]"
      ],
      "application/vnd.jupyter.widget-view+json": {
       "version_major": 2,
       "version_minor": 0,
       "model_id": "be5b914e829d4fdeaf57804919011b6b"
      }
     },
     "metadata": {},
     "output_type": "display_data"
    },
    {
     "data": {
      "text/plain": [
       "Validation: |          | 0/? [00:00<?, ?it/s]"
      ],
      "application/vnd.jupyter.widget-view+json": {
       "version_major": 2,
       "version_minor": 0,
       "model_id": "2a8e7b4f3e69474191e622f286aee5a1"
      }
     },
     "metadata": {},
     "output_type": "display_data"
    },
    {
     "data": {
      "text/plain": [
       "Validation: |          | 0/? [00:00<?, ?it/s]"
      ],
      "application/vnd.jupyter.widget-view+json": {
       "version_major": 2,
       "version_minor": 0,
       "model_id": "7b7a6cc9cd2b4350a3ea20bcc8d33572"
      }
     },
     "metadata": {},
     "output_type": "display_data"
    },
    {
     "data": {
      "text/plain": [
       "Validation: |          | 0/? [00:00<?, ?it/s]"
      ],
      "application/vnd.jupyter.widget-view+json": {
       "version_major": 2,
       "version_minor": 0,
       "model_id": "1c2089b5905d43ffa2b11c9397ef61e6"
      }
     },
     "metadata": {},
     "output_type": "display_data"
    },
    {
     "data": {
      "text/plain": [
       "Validation: |          | 0/? [00:00<?, ?it/s]"
      ],
      "application/vnd.jupyter.widget-view+json": {
       "version_major": 2,
       "version_minor": 0,
       "model_id": "2bf41c63b22e444cbb0097b00874f7f3"
      }
     },
     "metadata": {},
     "output_type": "display_data"
    },
    {
     "data": {
      "text/plain": [
       "Validation: |          | 0/? [00:00<?, ?it/s]"
      ],
      "application/vnd.jupyter.widget-view+json": {
       "version_major": 2,
       "version_minor": 0,
       "model_id": "742f9634784f434f80df44ae43547de4"
      }
     },
     "metadata": {},
     "output_type": "display_data"
    },
    {
     "data": {
      "text/plain": [
       "Validation: |          | 0/? [00:00<?, ?it/s]"
      ],
      "application/vnd.jupyter.widget-view+json": {
       "version_major": 2,
       "version_minor": 0,
       "model_id": "132b353903e24392bff6baf43c403b1e"
      }
     },
     "metadata": {},
     "output_type": "display_data"
    },
    {
     "data": {
      "text/plain": [
       "Validation: |          | 0/? [00:00<?, ?it/s]"
      ],
      "application/vnd.jupyter.widget-view+json": {
       "version_major": 2,
       "version_minor": 0,
       "model_id": "95e4dd838280472cb5df743e3214625d"
      }
     },
     "metadata": {},
     "output_type": "display_data"
    },
    {
     "data": {
      "text/plain": [
       "Validation: |          | 0/? [00:00<?, ?it/s]"
      ],
      "application/vnd.jupyter.widget-view+json": {
       "version_major": 2,
       "version_minor": 0,
       "model_id": "0f4f6fce83824dfa946e8a18835b9122"
      }
     },
     "metadata": {},
     "output_type": "display_data"
    },
    {
     "data": {
      "text/plain": [
       "Validation: |          | 0/? [00:00<?, ?it/s]"
      ],
      "application/vnd.jupyter.widget-view+json": {
       "version_major": 2,
       "version_minor": 0,
       "model_id": "e7b21e83c5f64baaac03871390e7ef67"
      }
     },
     "metadata": {},
     "output_type": "display_data"
    },
    {
     "data": {
      "text/plain": [
       "Validation: |          | 0/? [00:00<?, ?it/s]"
      ],
      "application/vnd.jupyter.widget-view+json": {
       "version_major": 2,
       "version_minor": 0,
       "model_id": "a4933c0856ce483e99fa9fa5e9b4c7bd"
      }
     },
     "metadata": {},
     "output_type": "display_data"
    },
    {
     "data": {
      "text/plain": [
       "Validation: |          | 0/? [00:00<?, ?it/s]"
      ],
      "application/vnd.jupyter.widget-view+json": {
       "version_major": 2,
       "version_minor": 0,
       "model_id": "a26ac689360f4b74a1b490bd06fae414"
      }
     },
     "metadata": {},
     "output_type": "display_data"
    },
    {
     "data": {
      "text/plain": [
       "Validation: |          | 0/? [00:00<?, ?it/s]"
      ],
      "application/vnd.jupyter.widget-view+json": {
       "version_major": 2,
       "version_minor": 0,
       "model_id": "4275eb345e7246b69324d0d809051359"
      }
     },
     "metadata": {},
     "output_type": "display_data"
    },
    {
     "data": {
      "text/plain": [
       "Validation: |          | 0/? [00:00<?, ?it/s]"
      ],
      "application/vnd.jupyter.widget-view+json": {
       "version_major": 2,
       "version_minor": 0,
       "model_id": "380b998077af468984cf84ba1d1f0b52"
      }
     },
     "metadata": {},
     "output_type": "display_data"
    },
    {
     "data": {
      "text/plain": [
       "Validation: |          | 0/? [00:00<?, ?it/s]"
      ],
      "application/vnd.jupyter.widget-view+json": {
       "version_major": 2,
       "version_minor": 0,
       "model_id": "f1b9ba34b5de418995718f8b491678b4"
      }
     },
     "metadata": {},
     "output_type": "display_data"
    },
    {
     "data": {
      "text/plain": [
       "Validation: |          | 0/? [00:00<?, ?it/s]"
      ],
      "application/vnd.jupyter.widget-view+json": {
       "version_major": 2,
       "version_minor": 0,
       "model_id": "8426b20208c4409b9a2411d1e5f7d945"
      }
     },
     "metadata": {},
     "output_type": "display_data"
    },
    {
     "data": {
      "text/plain": [
       "Validation: |          | 0/? [00:00<?, ?it/s]"
      ],
      "application/vnd.jupyter.widget-view+json": {
       "version_major": 2,
       "version_minor": 0,
       "model_id": "c25c1d1fb4bc49fe858c1db4c768e9d4"
      }
     },
     "metadata": {},
     "output_type": "display_data"
    },
    {
     "data": {
      "text/plain": [
       "Validation: |          | 0/? [00:00<?, ?it/s]"
      ],
      "application/vnd.jupyter.widget-view+json": {
       "version_major": 2,
       "version_minor": 0,
       "model_id": "1b8ec43e98af4b84b550a255ad6957f7"
      }
     },
     "metadata": {},
     "output_type": "display_data"
    },
    {
     "data": {
      "text/plain": [
       "Validation: |          | 0/? [00:00<?, ?it/s]"
      ],
      "application/vnd.jupyter.widget-view+json": {
       "version_major": 2,
       "version_minor": 0,
       "model_id": "840c0f9d052c4e7c8489d9e044f25c88"
      }
     },
     "metadata": {},
     "output_type": "display_data"
    },
    {
     "data": {
      "text/plain": [
       "Validation: |          | 0/? [00:00<?, ?it/s]"
      ],
      "application/vnd.jupyter.widget-view+json": {
       "version_major": 2,
       "version_minor": 0,
       "model_id": "9dd49e428678465a8f5be0a6521a9ef5"
      }
     },
     "metadata": {},
     "output_type": "display_data"
    },
    {
     "data": {
      "text/plain": [
       "Validation: |          | 0/? [00:00<?, ?it/s]"
      ],
      "application/vnd.jupyter.widget-view+json": {
       "version_major": 2,
       "version_minor": 0,
       "model_id": "33fc89c914e54e6a9f396633b884e176"
      }
     },
     "metadata": {},
     "output_type": "display_data"
    },
    {
     "data": {
      "text/plain": [
       "Validation: |          | 0/? [00:00<?, ?it/s]"
      ],
      "application/vnd.jupyter.widget-view+json": {
       "version_major": 2,
       "version_minor": 0,
       "model_id": "650173cde4364bd28418048d6ea2c609"
      }
     },
     "metadata": {},
     "output_type": "display_data"
    },
    {
     "data": {
      "text/plain": [
       "Validation: |          | 0/? [00:00<?, ?it/s]"
      ],
      "application/vnd.jupyter.widget-view+json": {
       "version_major": 2,
       "version_minor": 0,
       "model_id": "e2381edda68549b9997b9ad268990126"
      }
     },
     "metadata": {},
     "output_type": "display_data"
    },
    {
     "data": {
      "text/plain": [
       "Validation: |          | 0/? [00:00<?, ?it/s]"
      ],
      "application/vnd.jupyter.widget-view+json": {
       "version_major": 2,
       "version_minor": 0,
       "model_id": "4044068b4f764e188fd093f654210e71"
      }
     },
     "metadata": {},
     "output_type": "display_data"
    },
    {
     "data": {
      "text/plain": [
       "Validation: |          | 0/? [00:00<?, ?it/s]"
      ],
      "application/vnd.jupyter.widget-view+json": {
       "version_major": 2,
       "version_minor": 0,
       "model_id": "76952bd225cb43b6871fe9694813c1bc"
      }
     },
     "metadata": {},
     "output_type": "display_data"
    },
    {
     "data": {
      "text/plain": [
       "Validation: |          | 0/? [00:00<?, ?it/s]"
      ],
      "application/vnd.jupyter.widget-view+json": {
       "version_major": 2,
       "version_minor": 0,
       "model_id": "5f7d8c31b57941cd867dff4da5c73d13"
      }
     },
     "metadata": {},
     "output_type": "display_data"
    },
    {
     "data": {
      "text/plain": [
       "Validation: |          | 0/? [00:00<?, ?it/s]"
      ],
      "application/vnd.jupyter.widget-view+json": {
       "version_major": 2,
       "version_minor": 0,
       "model_id": "ff9f78a741fb4915a1ed4beb7551a4d9"
      }
     },
     "metadata": {},
     "output_type": "display_data"
    },
    {
     "data": {
      "text/plain": [
       "Validation: |          | 0/? [00:00<?, ?it/s]"
      ],
      "application/vnd.jupyter.widget-view+json": {
       "version_major": 2,
       "version_minor": 0,
       "model_id": "a4ef135efc984e8c85e821cfe8e68392"
      }
     },
     "metadata": {},
     "output_type": "display_data"
    },
    {
     "data": {
      "text/plain": [
       "Validation: |          | 0/? [00:00<?, ?it/s]"
      ],
      "application/vnd.jupyter.widget-view+json": {
       "version_major": 2,
       "version_minor": 0,
       "model_id": "74c73a9a38b745b2bf522f70011bf0be"
      }
     },
     "metadata": {},
     "output_type": "display_data"
    },
    {
     "data": {
      "text/plain": [
       "Validation: |          | 0/? [00:00<?, ?it/s]"
      ],
      "application/vnd.jupyter.widget-view+json": {
       "version_major": 2,
       "version_minor": 0,
       "model_id": "aaa125c4e04e40d4b17645342bbd39a7"
      }
     },
     "metadata": {},
     "output_type": "display_data"
    },
    {
     "data": {
      "text/plain": [
       "Validation: |          | 0/? [00:00<?, ?it/s]"
      ],
      "application/vnd.jupyter.widget-view+json": {
       "version_major": 2,
       "version_minor": 0,
       "model_id": "b2571c9b26a44ce382354f50e066d69d"
      }
     },
     "metadata": {},
     "output_type": "display_data"
    },
    {
     "data": {
      "text/plain": [
       "Validation: |          | 0/? [00:00<?, ?it/s]"
      ],
      "application/vnd.jupyter.widget-view+json": {
       "version_major": 2,
       "version_minor": 0,
       "model_id": "7f5252ea57a2415e84b9a85ec7cbbb67"
      }
     },
     "metadata": {},
     "output_type": "display_data"
    },
    {
     "data": {
      "text/plain": [
       "Validation: |          | 0/? [00:00<?, ?it/s]"
      ],
      "application/vnd.jupyter.widget-view+json": {
       "version_major": 2,
       "version_minor": 0,
       "model_id": "e685279b2c2b4960bd92afcb870e112b"
      }
     },
     "metadata": {},
     "output_type": "display_data"
    },
    {
     "data": {
      "text/plain": [
       "Validation: |          | 0/? [00:00<?, ?it/s]"
      ],
      "application/vnd.jupyter.widget-view+json": {
       "version_major": 2,
       "version_minor": 0,
       "model_id": "595f1a0c1df84ff59703a30430a5b48e"
      }
     },
     "metadata": {},
     "output_type": "display_data"
    },
    {
     "data": {
      "text/plain": [
       "Validation: |          | 0/? [00:00<?, ?it/s]"
      ],
      "application/vnd.jupyter.widget-view+json": {
       "version_major": 2,
       "version_minor": 0,
       "model_id": "a4667f2b91ff4c8aac9d68dfa5a93fdf"
      }
     },
     "metadata": {},
     "output_type": "display_data"
    },
    {
     "data": {
      "text/plain": [
       "Validation: |          | 0/? [00:00<?, ?it/s]"
      ],
      "application/vnd.jupyter.widget-view+json": {
       "version_major": 2,
       "version_minor": 0,
       "model_id": "bd865803763e4d02ab2f40523ce9a5f8"
      }
     },
     "metadata": {},
     "output_type": "display_data"
    },
    {
     "data": {
      "text/plain": [
       "Validation: |          | 0/? [00:00<?, ?it/s]"
      ],
      "application/vnd.jupyter.widget-view+json": {
       "version_major": 2,
       "version_minor": 0,
       "model_id": "1c3bf3a0ed2349d7b003a19c9e860dcf"
      }
     },
     "metadata": {},
     "output_type": "display_data"
    },
    {
     "data": {
      "text/plain": [
       "Validation: |          | 0/? [00:00<?, ?it/s]"
      ],
      "application/vnd.jupyter.widget-view+json": {
       "version_major": 2,
       "version_minor": 0,
       "model_id": "87aa4f2aca364b639452bc381ec15426"
      }
     },
     "metadata": {},
     "output_type": "display_data"
    },
    {
     "data": {
      "text/plain": [
       "Validation: |          | 0/? [00:00<?, ?it/s]"
      ],
      "application/vnd.jupyter.widget-view+json": {
       "version_major": 2,
       "version_minor": 0,
       "model_id": "89e3d4a6c15749cc8b28bce003730dd1"
      }
     },
     "metadata": {},
     "output_type": "display_data"
    },
    {
     "data": {
      "text/plain": [
       "Validation: |          | 0/? [00:00<?, ?it/s]"
      ],
      "application/vnd.jupyter.widget-view+json": {
       "version_major": 2,
       "version_minor": 0,
       "model_id": "070b158bf53040b3a6c8a54c2dd96039"
      }
     },
     "metadata": {},
     "output_type": "display_data"
    },
    {
     "data": {
      "text/plain": [
       "Validation: |          | 0/? [00:00<?, ?it/s]"
      ],
      "application/vnd.jupyter.widget-view+json": {
       "version_major": 2,
       "version_minor": 0,
       "model_id": "6696868ef8dd4b8c913332744a406e06"
      }
     },
     "metadata": {},
     "output_type": "display_data"
    },
    {
     "data": {
      "text/plain": [
       "Validation: |          | 0/? [00:00<?, ?it/s]"
      ],
      "application/vnd.jupyter.widget-view+json": {
       "version_major": 2,
       "version_minor": 0,
       "model_id": "91b5a0329eac4da6b23775d59f12f942"
      }
     },
     "metadata": {},
     "output_type": "display_data"
    },
    {
     "data": {
      "text/plain": [
       "Validation: |          | 0/? [00:00<?, ?it/s]"
      ],
      "application/vnd.jupyter.widget-view+json": {
       "version_major": 2,
       "version_minor": 0,
       "model_id": "9e040abac04345c9af62608b70c8750b"
      }
     },
     "metadata": {},
     "output_type": "display_data"
    },
    {
     "data": {
      "text/plain": [
       "Validation: |          | 0/? [00:00<?, ?it/s]"
      ],
      "application/vnd.jupyter.widget-view+json": {
       "version_major": 2,
       "version_minor": 0,
       "model_id": "338f6a431aa143b9b4c948c035175c5d"
      }
     },
     "metadata": {},
     "output_type": "display_data"
    },
    {
     "data": {
      "text/plain": [
       "Validation: |          | 0/? [00:00<?, ?it/s]"
      ],
      "application/vnd.jupyter.widget-view+json": {
       "version_major": 2,
       "version_minor": 0,
       "model_id": "65b7bf28024445358c7cf73f98c857ed"
      }
     },
     "metadata": {},
     "output_type": "display_data"
    },
    {
     "data": {
      "text/plain": [
       "Validation: |          | 0/? [00:00<?, ?it/s]"
      ],
      "application/vnd.jupyter.widget-view+json": {
       "version_major": 2,
       "version_minor": 0,
       "model_id": "41d2149edb684156b0e63eb6ab3f5610"
      }
     },
     "metadata": {},
     "output_type": "display_data"
    },
    {
     "data": {
      "text/plain": [
       "Validation: |          | 0/? [00:00<?, ?it/s]"
      ],
      "application/vnd.jupyter.widget-view+json": {
       "version_major": 2,
       "version_minor": 0,
       "model_id": "580cfa84686b443495d9cbf34ef762c5"
      }
     },
     "metadata": {},
     "output_type": "display_data"
    },
    {
     "data": {
      "text/plain": [
       "Validation: |          | 0/? [00:00<?, ?it/s]"
      ],
      "application/vnd.jupyter.widget-view+json": {
       "version_major": 2,
       "version_minor": 0,
       "model_id": "da864fc74d54460e9bf4d0b7229f579b"
      }
     },
     "metadata": {},
     "output_type": "display_data"
    },
    {
     "data": {
      "text/plain": [
       "Validation: |          | 0/? [00:00<?, ?it/s]"
      ],
      "application/vnd.jupyter.widget-view+json": {
       "version_major": 2,
       "version_minor": 0,
       "model_id": "f8f974888c4d456cad6f41fee93db9fb"
      }
     },
     "metadata": {},
     "output_type": "display_data"
    },
    {
     "name": "stderr",
     "output_type": "stream",
     "text": [
      "`Trainer.fit` stopped: `max_epochs=120` reached.\n"
     ]
    },
    {
     "name": "stdout",
     "output_type": "stream",
     "text": [
      "common dummy id:1\n"
     ]
    }
   ],
   "execution_count": 39
  },
  {
   "metadata": {
    "ExecuteTime": {
     "end_time": "2025-06-11T01:09:41.248021Z",
     "start_time": "2025-06-11T01:09:41.244750Z"
    }
   },
   "cell_type": "code",
   "source": "cv_results",
   "outputs": [
    {
     "data": {
      "text/plain": [
       "{'splits': [{'i_split': 0,\n",
       "   'train': 994169,\n",
       "   'train_users': 6040,\n",
       "   'train_items': 3704,\n",
       "   'test': 6038,\n",
       "   'test_users': 6038,\n",
       "   'test_items': 1910}],\n",
       " 'metrics': [{'model': 'sasrec',\n",
       "   'i_split': 0,\n",
       "   'HitRate@10': 0.26018549188473006,\n",
       "   'MAP@10': 0.11157983564409533,\n",
       "   'AvgRecPopularity@10': 871.1352268963233,\n",
       "   'Serendipity@10': 0.0023410856512068637,\n",
       "   'CoveredUsers@10': 1.0},\n",
       "  {'model': 'hstu',\n",
       "   'i_split': 0,\n",
       "   'HitRate@10': 0.2893342166280225,\n",
       "   'MAP@10': 0.12439286634384347,\n",
       "   'AvgRecPopularity@10': 970.5863365352767,\n",
       "   'Serendipity@10': 0.002492462245948446,\n",
       "   'CoveredUsers@10': 1.0}]}"
      ]
     },
     "execution_count": 40,
     "metadata": {},
     "output_type": "execute_result"
    }
   ],
   "execution_count": 40
  },
  {
   "metadata": {
    "ExecuteTime": {
     "end_time": "2025-06-11T01:09:41.404573Z",
     "start_time": "2025-06-11T01:09:41.390815Z"
    }
   },
   "cell_type": "code",
   "source": [
    "pivot_results = (\n",
    "    pd.DataFrame(cv_results[\"metrics\"])\n",
    "    .drop(columns=\"i_split\")\n",
    "    .groupby([\"model\"], sort=False)\n",
    "    .agg([\"mean\"])\n",
    ")\n",
    "pivot_results.columns = pivot_results.columns.droplevel(1)\n",
    "pivot_results.to_csv(\"rectools_transformers_cv.csv\", index=True)\n",
    "pivot_results"
   ],
   "outputs": [
    {
     "data": {
      "text/plain": [
       "        HitRate@10    MAP@10  AvgRecPopularity@10  Serendipity@10  \\\n",
       "model                                                               \n",
       "sasrec    0.260185  0.111580           871.135227        0.002341   \n",
       "hstu      0.289334  0.124393           970.586337        0.002492   \n",
       "\n",
       "        CoveredUsers@10  \n",
       "model                    \n",
       "sasrec              1.0  \n",
       "hstu                1.0  "
      ],
      "text/html": [
       "<div>\n",
       "<style scoped>\n",
       "    .dataframe tbody tr th:only-of-type {\n",
       "        vertical-align: middle;\n",
       "    }\n",
       "\n",
       "    .dataframe tbody tr th {\n",
       "        vertical-align: top;\n",
       "    }\n",
       "\n",
       "    .dataframe thead th {\n",
       "        text-align: right;\n",
       "    }\n",
       "</style>\n",
       "<table border=\"1\" class=\"dataframe\">\n",
       "  <thead>\n",
       "    <tr style=\"text-align: right;\">\n",
       "      <th></th>\n",
       "      <th>HitRate@10</th>\n",
       "      <th>MAP@10</th>\n",
       "      <th>AvgRecPopularity@10</th>\n",
       "      <th>Serendipity@10</th>\n",
       "      <th>CoveredUsers@10</th>\n",
       "    </tr>\n",
       "    <tr>\n",
       "      <th>model</th>\n",
       "      <th></th>\n",
       "      <th></th>\n",
       "      <th></th>\n",
       "      <th></th>\n",
       "      <th></th>\n",
       "    </tr>\n",
       "  </thead>\n",
       "  <tbody>\n",
       "    <tr>\n",
       "      <th>sasrec</th>\n",
       "      <td>0.260185</td>\n",
       "      <td>0.111580</td>\n",
       "      <td>871.135227</td>\n",
       "      <td>0.002341</td>\n",
       "      <td>1.0</td>\n",
       "    </tr>\n",
       "    <tr>\n",
       "      <th>hstu</th>\n",
       "      <td>0.289334</td>\n",
       "      <td>0.124393</td>\n",
       "      <td>970.586337</td>\n",
       "      <td>0.002492</td>\n",
       "      <td>1.0</td>\n",
       "    </tr>\n",
       "  </tbody>\n",
       "</table>\n",
       "</div>"
      ]
     },
     "execution_count": 41,
     "metadata": {},
     "output_type": "execute_result"
    }
   ],
   "execution_count": 41
  },
  {
   "metadata": {
    "ExecuteTime": {
     "end_time": "2025-06-11T01:11:48.520165Z",
     "start_time": "2025-06-11T01:11:48.068254Z"
    }
   },
   "cell_type": "code",
   "source": [
    "models_metrics = pivot_results.reset_index()[[\"model\", \"MAP@10\", \"Serendipity@10\"]]\n",
    "\n",
    "app = MetricsApp.construct(\n",
    "    models_metrics=models_metrics,\n",
    "    scatter_kwargs={\n",
    "        \"symbol_sequence\": ['circle', 'square', 'diamond', 'cross', 'x', 'star', 'pentagon'],\n",
    "    }\n",
    ")\n",
    "fig = app.fig\n",
    "fig.update_layout(title=\"Model CV metrics\", font={\"size\": 15})\n",
    "fig.update_traces(marker={'size': 9})\n",
    "fig.show(\"png\")"
   ],
   "outputs": [
    {
     "data": {
      "text/plain": [
       "VBox(children=(Tab(children=(VBox(children=(HBox(children=(Dropdown(description='Metric X:', options=('MAP@10'…"
      ],
      "application/vnd.jupyter.widget-view+json": {
       "version_major": 2,
       "version_minor": 0,
       "model_id": "26c5fcb7de7e4352a49c6c4c48d016c4"
      }
     },
     "metadata": {},
     "output_type": "display_data"
    },
    {
     "ename": "ValueError",
     "evalue": "\nImage export using the \"kaleido\" engine requires the kaleido package,\nwhich can be installed using pip:\n    $ pip install -U kaleido\n",
     "output_type": "error",
     "traceback": [
      "\u001B[0;31m---------------------------------------------------------------------------\u001B[0m",
      "\u001B[0;31mValueError\u001B[0m                                Traceback (most recent call last)",
      "Cell \u001B[0;32mIn[43], line 12\u001B[0m\n\u001B[1;32m     10\u001B[0m fig\u001B[38;5;241m.\u001B[39mupdate_layout(title\u001B[38;5;241m=\u001B[39m\u001B[38;5;124m\"\u001B[39m\u001B[38;5;124mModel CV metrics\u001B[39m\u001B[38;5;124m\"\u001B[39m, font\u001B[38;5;241m=\u001B[39m{\u001B[38;5;124m\"\u001B[39m\u001B[38;5;124msize\u001B[39m\u001B[38;5;124m\"\u001B[39m: \u001B[38;5;241m15\u001B[39m})\n\u001B[1;32m     11\u001B[0m fig\u001B[38;5;241m.\u001B[39mupdate_traces(marker\u001B[38;5;241m=\u001B[39m{\u001B[38;5;124m'\u001B[39m\u001B[38;5;124msize\u001B[39m\u001B[38;5;124m'\u001B[39m: \u001B[38;5;241m9\u001B[39m})\n\u001B[0;32m---> 12\u001B[0m \u001B[43mfig\u001B[49m\u001B[38;5;241;43m.\u001B[39;49m\u001B[43mshow\u001B[49m\u001B[43m(\u001B[49m\u001B[38;5;124;43m\"\u001B[39;49m\u001B[38;5;124;43mpng\u001B[39;49m\u001B[38;5;124;43m\"\u001B[39;49m\u001B[43m)\u001B[49m\n",
      "File \u001B[0;32m~/kuzin/python_project/RecTools/.venv/lib/python3.10/site-packages/plotly/basedatatypes.py:3410\u001B[0m, in \u001B[0;36mBaseFigure.show\u001B[0;34m(self, *args, **kwargs)\u001B[0m\n\u001B[1;32m   3377\u001B[0m \u001B[38;5;250m\u001B[39m\u001B[38;5;124;03m\"\"\"\u001B[39;00m\n\u001B[1;32m   3378\u001B[0m \u001B[38;5;124;03mShow a figure using either the default renderer(s) or the renderer(s)\u001B[39;00m\n\u001B[1;32m   3379\u001B[0m \u001B[38;5;124;03mspecified by the renderer argument\u001B[39;00m\n\u001B[0;32m   (...)\u001B[0m\n\u001B[1;32m   3406\u001B[0m \u001B[38;5;124;03mNone\u001B[39;00m\n\u001B[1;32m   3407\u001B[0m \u001B[38;5;124;03m\"\"\"\u001B[39;00m\n\u001B[1;32m   3408\u001B[0m \u001B[38;5;28;01mimport\u001B[39;00m \u001B[38;5;21;01mplotly\u001B[39;00m\u001B[38;5;21;01m.\u001B[39;00m\u001B[38;5;21;01mio\u001B[39;00m \u001B[38;5;28;01mas\u001B[39;00m \u001B[38;5;21;01mpio\u001B[39;00m\n\u001B[0;32m-> 3410\u001B[0m \u001B[38;5;28;01mreturn\u001B[39;00m \u001B[43mpio\u001B[49m\u001B[38;5;241;43m.\u001B[39;49m\u001B[43mshow\u001B[49m\u001B[43m(\u001B[49m\u001B[38;5;28;43mself\u001B[39;49m\u001B[43m,\u001B[49m\u001B[43m \u001B[49m\u001B[38;5;241;43m*\u001B[39;49m\u001B[43margs\u001B[49m\u001B[43m,\u001B[49m\u001B[43m \u001B[49m\u001B[38;5;241;43m*\u001B[39;49m\u001B[38;5;241;43m*\u001B[39;49m\u001B[43mkwargs\u001B[49m\u001B[43m)\u001B[49m\n",
      "File \u001B[0;32m~/kuzin/python_project/RecTools/.venv/lib/python3.10/site-packages/plotly/io/_renderers.py:386\u001B[0m, in \u001B[0;36mshow\u001B[0;34m(fig, renderer, validate, **kwargs)\u001B[0m\n\u001B[1;32m    383\u001B[0m fig_dict \u001B[38;5;241m=\u001B[39m validate_coerce_fig_to_dict(fig, validate)\n\u001B[1;32m    385\u001B[0m \u001B[38;5;66;03m# Mimetype renderers\u001B[39;00m\n\u001B[0;32m--> 386\u001B[0m bundle \u001B[38;5;241m=\u001B[39m \u001B[43mrenderers\u001B[49m\u001B[38;5;241;43m.\u001B[39;49m\u001B[43m_build_mime_bundle\u001B[49m\u001B[43m(\u001B[49m\u001B[43mfig_dict\u001B[49m\u001B[43m,\u001B[49m\u001B[43m \u001B[49m\u001B[43mrenderers_string\u001B[49m\u001B[38;5;241;43m=\u001B[39;49m\u001B[43mrenderer\u001B[49m\u001B[43m,\u001B[49m\u001B[43m \u001B[49m\u001B[38;5;241;43m*\u001B[39;49m\u001B[38;5;241;43m*\u001B[39;49m\u001B[43mkwargs\u001B[49m\u001B[43m)\u001B[49m\n\u001B[1;32m    387\u001B[0m \u001B[38;5;28;01mif\u001B[39;00m bundle:\n\u001B[1;32m    388\u001B[0m     \u001B[38;5;28;01mif\u001B[39;00m \u001B[38;5;129;01mnot\u001B[39;00m ipython_display:\n",
      "File \u001B[0;32m~/kuzin/python_project/RecTools/.venv/lib/python3.10/site-packages/plotly/io/_renderers.py:294\u001B[0m, in \u001B[0;36mRenderersConfig._build_mime_bundle\u001B[0;34m(self, fig_dict, renderers_string, **kwargs)\u001B[0m\n\u001B[1;32m    291\u001B[0m             \u001B[38;5;28;01mif\u001B[39;00m \u001B[38;5;28mhasattr\u001B[39m(renderer, k):\n\u001B[1;32m    292\u001B[0m                 \u001B[38;5;28msetattr\u001B[39m(renderer, k, v)\n\u001B[0;32m--> 294\u001B[0m         bundle\u001B[38;5;241m.\u001B[39mupdate(\u001B[43mrenderer\u001B[49m\u001B[38;5;241;43m.\u001B[39;49m\u001B[43mto_mimebundle\u001B[49m\u001B[43m(\u001B[49m\u001B[43mfig_dict\u001B[49m\u001B[43m)\u001B[49m)\n\u001B[1;32m    296\u001B[0m \u001B[38;5;28;01mreturn\u001B[39;00m bundle\n",
      "File \u001B[0;32m~/kuzin/python_project/RecTools/.venv/lib/python3.10/site-packages/plotly/io/_base_renderers.py:126\u001B[0m, in \u001B[0;36mImageRenderer.to_mimebundle\u001B[0;34m(self, fig_dict)\u001B[0m\n\u001B[1;32m    125\u001B[0m \u001B[38;5;28;01mdef\u001B[39;00m \u001B[38;5;21mto_mimebundle\u001B[39m(\u001B[38;5;28mself\u001B[39m, fig_dict):\n\u001B[0;32m--> 126\u001B[0m     image_bytes \u001B[38;5;241m=\u001B[39m \u001B[43mto_image\u001B[49m\u001B[43m(\u001B[49m\n\u001B[1;32m    127\u001B[0m \u001B[43m        \u001B[49m\u001B[43mfig_dict\u001B[49m\u001B[43m,\u001B[49m\n\u001B[1;32m    128\u001B[0m \u001B[43m        \u001B[49m\u001B[38;5;28;43mformat\u001B[39;49m\u001B[38;5;241;43m=\u001B[39;49m\u001B[38;5;28;43mself\u001B[39;49m\u001B[38;5;241;43m.\u001B[39;49m\u001B[43mformat\u001B[49m\u001B[43m,\u001B[49m\n\u001B[1;32m    129\u001B[0m \u001B[43m        \u001B[49m\u001B[43mwidth\u001B[49m\u001B[38;5;241;43m=\u001B[39;49m\u001B[38;5;28;43mself\u001B[39;49m\u001B[38;5;241;43m.\u001B[39;49m\u001B[43mwidth\u001B[49m\u001B[43m,\u001B[49m\n\u001B[1;32m    130\u001B[0m \u001B[43m        \u001B[49m\u001B[43mheight\u001B[49m\u001B[38;5;241;43m=\u001B[39;49m\u001B[38;5;28;43mself\u001B[39;49m\u001B[38;5;241;43m.\u001B[39;49m\u001B[43mheight\u001B[49m\u001B[43m,\u001B[49m\n\u001B[1;32m    131\u001B[0m \u001B[43m        \u001B[49m\u001B[43mscale\u001B[49m\u001B[38;5;241;43m=\u001B[39;49m\u001B[38;5;28;43mself\u001B[39;49m\u001B[38;5;241;43m.\u001B[39;49m\u001B[43mscale\u001B[49m\u001B[43m,\u001B[49m\n\u001B[1;32m    132\u001B[0m \u001B[43m        \u001B[49m\u001B[43mvalidate\u001B[49m\u001B[38;5;241;43m=\u001B[39;49m\u001B[38;5;28;43;01mFalse\u001B[39;49;00m\u001B[43m,\u001B[49m\n\u001B[1;32m    133\u001B[0m \u001B[43m        \u001B[49m\u001B[43mengine\u001B[49m\u001B[38;5;241;43m=\u001B[39;49m\u001B[38;5;28;43mself\u001B[39;49m\u001B[38;5;241;43m.\u001B[39;49m\u001B[43mengine\u001B[49m\u001B[43m,\u001B[49m\n\u001B[1;32m    134\u001B[0m \u001B[43m    \u001B[49m\u001B[43m)\u001B[49m\n\u001B[1;32m    136\u001B[0m     \u001B[38;5;28;01mif\u001B[39;00m \u001B[38;5;28mself\u001B[39m\u001B[38;5;241m.\u001B[39mb64_encode:\n\u001B[1;32m    137\u001B[0m         image_str \u001B[38;5;241m=\u001B[39m base64\u001B[38;5;241m.\u001B[39mb64encode(image_bytes)\u001B[38;5;241m.\u001B[39mdecode(\u001B[38;5;124m\"\u001B[39m\u001B[38;5;124mutf8\u001B[39m\u001B[38;5;124m\"\u001B[39m)\n",
      "File \u001B[0;32m~/kuzin/python_project/RecTools/.venv/lib/python3.10/site-packages/plotly/io/_kaleido.py:132\u001B[0m, in \u001B[0;36mto_image\u001B[0;34m(fig, format, width, height, scale, validate, engine)\u001B[0m\n\u001B[1;32m    130\u001B[0m     \u001B[38;5;66;03m# Raise informative error message if Kaleido is not installed\u001B[39;00m\n\u001B[1;32m    131\u001B[0m     \u001B[38;5;28;01mif\u001B[39;00m scope \u001B[38;5;129;01mis\u001B[39;00m \u001B[38;5;28;01mNone\u001B[39;00m:\n\u001B[0;32m--> 132\u001B[0m         \u001B[38;5;28;01mraise\u001B[39;00m \u001B[38;5;167;01mValueError\u001B[39;00m(\n\u001B[1;32m    133\u001B[0m \u001B[38;5;250m            \u001B[39m\u001B[38;5;124;03m\"\"\"\u001B[39;00m\n\u001B[1;32m    134\u001B[0m \u001B[38;5;124;03mImage export using the \"kaleido\" engine requires the kaleido package,\u001B[39;00m\n\u001B[1;32m    135\u001B[0m \u001B[38;5;124;03mwhich can be installed using pip:\u001B[39;00m\n\u001B[1;32m    136\u001B[0m \u001B[38;5;124;03m    $ pip install -U kaleido\u001B[39;00m\n\u001B[1;32m    137\u001B[0m \u001B[38;5;124;03m\"\"\"\u001B[39;00m\n\u001B[1;32m    138\u001B[0m         )\n\u001B[1;32m    140\u001B[0m     \u001B[38;5;66;03m# Validate figure\u001B[39;00m\n\u001B[1;32m    141\u001B[0m     \u001B[38;5;66;03m# ---------------\u001B[39;00m\n\u001B[1;32m    142\u001B[0m     fig_dict \u001B[38;5;241m=\u001B[39m validate_coerce_fig_to_dict(fig, validate)\n",
      "\u001B[0;31mValueError\u001B[0m: \nImage export using the \"kaleido\" engine requires the kaleido package,\nwhich can be installed using pip:\n    $ pip install -U kaleido\n"
     ]
    }
   ],
   "execution_count": 43
  },
  {
   "metadata": {
    "ExecuteTime": {
     "end_time": "2025-06-11T01:16:48.690617Z",
     "start_time": "2025-06-11T01:16:48.686619Z"
    }
   },
   "cell_type": "code",
   "source": [
    "def get_logs(model) -> tp.Tuple[pd.DataFrame, ...]:\n",
    "    log_path = os.path.join(model.fit_trainer.log_dir, \"metrics.csv\")\n",
    "    epoch_metrics_df = pd.read_csv(log_path)\n",
    "\n",
    "    loss_df = epoch_metrics_df[[\"epoch\", \"train_loss\"]].dropna()\n",
    "    val_loss_df = epoch_metrics_df[[\"epoch\", \"val_loss\"]].dropna()\n",
    "    loss_df = pd.merge(loss_df, val_loss_df, how=\"inner\", on=\"epoch\")\n",
    "    loss_df.reset_index(drop=True, inplace=True)\n",
    "\n",
    "    metrics_df = epoch_metrics_df.drop(columns=[\"train_loss\", \"val_loss\"]).dropna()\n",
    "    metrics_df.reset_index(drop=True, inplace=True)\n",
    "\n",
    "    return loss_df, metrics_df"
   ],
   "outputs": [],
   "execution_count": 44
  },
  {
   "metadata": {
    "ExecuteTime": {
     "end_time": "2025-06-11T01:18:38.649650Z",
     "start_time": "2025-06-11T01:18:38.638144Z"
    }
   },
   "cell_type": "code",
   "source": [
    "loss_df_hstu, metrics_df_hstu = get_logs(model_hstu)\n",
    "loss_df_sasrec, metrics_df_sasrec = get_logs(model_sasrec)"
   ],
   "outputs": [],
   "execution_count": 49
  },
  {
   "metadata": {
    "ExecuteTime": {
     "end_time": "2025-06-11T01:19:08.193809Z",
     "start_time": "2025-06-11T01:19:08.187014Z"
    }
   },
   "cell_type": "code",
   "source": "metrics_df_hstu",
   "outputs": [
    {
     "data": {
      "text/plain": [
       "     epoch  recall@10  step\n",
       "0        0   0.033284    47\n",
       "1        1   0.037423    95\n",
       "2        2   0.041894   143\n",
       "3        3   0.071038   191\n",
       "4        4   0.080642   239\n",
       "..     ...        ...   ...\n",
       "115    115   0.306839  5567\n",
       "116    116   0.305017  5615\n",
       "117    117   0.306673  5663\n",
       "118    118   0.295910  5711\n",
       "119    119   0.302037  5759\n",
       "\n",
       "[120 rows x 3 columns]"
      ],
      "text/html": [
       "<div>\n",
       "<style scoped>\n",
       "    .dataframe tbody tr th:only-of-type {\n",
       "        vertical-align: middle;\n",
       "    }\n",
       "\n",
       "    .dataframe tbody tr th {\n",
       "        vertical-align: top;\n",
       "    }\n",
       "\n",
       "    .dataframe thead th {\n",
       "        text-align: right;\n",
       "    }\n",
       "</style>\n",
       "<table border=\"1\" class=\"dataframe\">\n",
       "  <thead>\n",
       "    <tr style=\"text-align: right;\">\n",
       "      <th></th>\n",
       "      <th>epoch</th>\n",
       "      <th>recall@10</th>\n",
       "      <th>step</th>\n",
       "    </tr>\n",
       "  </thead>\n",
       "  <tbody>\n",
       "    <tr>\n",
       "      <th>0</th>\n",
       "      <td>0</td>\n",
       "      <td>0.033284</td>\n",
       "      <td>47</td>\n",
       "    </tr>\n",
       "    <tr>\n",
       "      <th>1</th>\n",
       "      <td>1</td>\n",
       "      <td>0.037423</td>\n",
       "      <td>95</td>\n",
       "    </tr>\n",
       "    <tr>\n",
       "      <th>2</th>\n",
       "      <td>2</td>\n",
       "      <td>0.041894</td>\n",
       "      <td>143</td>\n",
       "    </tr>\n",
       "    <tr>\n",
       "      <th>3</th>\n",
       "      <td>3</td>\n",
       "      <td>0.071038</td>\n",
       "      <td>191</td>\n",
       "    </tr>\n",
       "    <tr>\n",
       "      <th>4</th>\n",
       "      <td>4</td>\n",
       "      <td>0.080642</td>\n",
       "      <td>239</td>\n",
       "    </tr>\n",
       "    <tr>\n",
       "      <th>...</th>\n",
       "      <td>...</td>\n",
       "      <td>...</td>\n",
       "      <td>...</td>\n",
       "    </tr>\n",
       "    <tr>\n",
       "      <th>115</th>\n",
       "      <td>115</td>\n",
       "      <td>0.306839</td>\n",
       "      <td>5567</td>\n",
       "    </tr>\n",
       "    <tr>\n",
       "      <th>116</th>\n",
       "      <td>116</td>\n",
       "      <td>0.305017</td>\n",
       "      <td>5615</td>\n",
       "    </tr>\n",
       "    <tr>\n",
       "      <th>117</th>\n",
       "      <td>117</td>\n",
       "      <td>0.306673</td>\n",
       "      <td>5663</td>\n",
       "    </tr>\n",
       "    <tr>\n",
       "      <th>118</th>\n",
       "      <td>118</td>\n",
       "      <td>0.295910</td>\n",
       "      <td>5711</td>\n",
       "    </tr>\n",
       "    <tr>\n",
       "      <th>119</th>\n",
       "      <td>119</td>\n",
       "      <td>0.302037</td>\n",
       "      <td>5759</td>\n",
       "    </tr>\n",
       "  </tbody>\n",
       "</table>\n",
       "<p>120 rows × 3 columns</p>\n",
       "</div>"
      ]
     },
     "execution_count": 51,
     "metadata": {},
     "output_type": "execute_result"
    }
   ],
   "execution_count": 51
  },
  {
   "metadata": {
    "ExecuteTime": {
     "end_time": "2025-06-11T01:18:40.785722Z",
     "start_time": "2025-06-11T01:18:40.524098Z"
    }
   },
   "cell_type": "code",
   "source": "loss_df_hstu.plot(kind=\"line\", x=\"epoch\", title=\"Losses\");",
   "outputs": [
    {
     "data": {
      "text/plain": [
       "<Figure size 640x480 with 1 Axes>"
      ],
      "image/png": "[encoded data removed]"
     },
     "metadata": {},
     "output_type": "display_data"
    }
   ],
   "execution_count": 50
  },
  {
   "metadata": {},
   "cell_type": "code",
   "outputs": [],
   "execution_count": null,
   "source": "import seaborn as sns"
  },
  {
   "metadata": {
    "ExecuteTime": {
     "end_time": "2025-06-11T01:23:07.553089Z",
     "start_time": "2025-06-11T01:23:07.428503Z"
    }
   },
   "cell_type": "code",
   "source": [
    "import matplotlib.pyplot as plt\n",
    "\n",
    "# Создаем график\n",
    "plt.figure(figsize=(10, 6))\n",
    "\n",
    "plt.plot(metrics_df_hstu[\"epoch\"], metrics_df_hstu[\"recall@10\"], label=\"HSTU\")\n",
    "plt.plot(metrics_df_sasrec[\"epoch\"], metrics_df_sasrec[\"recall@10\"], label=\"SASRec\")\n",
    "plt.axvline(x=100, linestyle='--', color='r', label='Epoch 100')  \n",
    "\n",
    "\n",
    "plt.axhline(y=0.3, linestyle='--', color='g', label='Baseline 0.3') \n",
    "plt.title(\"recall@10\")\n",
    "plt.xlabel(\"Epoch\")\n",
    "plt.ylabel(\"Recall@10\")\n",
    "plt.legend()\n",
    "plt.grid(True)\n",
    "plt.show()"
   ],
   "outputs": [
    {
     "data": {
      "text/plain": [
       "<Figure size 1000x600 with 1 Axes>"
      ],
      "image/png": "[encoded data removed]"
     },
     "metadata": {},
     "output_type": "display_data"
    }
   ],
   "execution_count": 56
  },
  {
   "metadata": {
    "ExecuteTime": {
     "end_time": "2025-06-11T01:09:41.510572Z",
     "start_time": "2025-06-11T01:09:41.507887Z"
    }
   },
   "cell_type": "code",
   "source": "assert 1 ==2",
   "outputs": [
    {
     "ename": "SyntaxError",
     "evalue": "invalid syntax (2328911495.py, line 1)",
     "output_type": "error",
     "traceback": [
      "\u001B[0;36m  Cell \u001B[0;32mIn[42], line 1\u001B[0;36m\u001B[0m\n\u001B[0;31m    asser 1 ==2\u001B[0m\n\u001B[0m          ^\u001B[0m\n\u001B[0;31mSyntaxError\u001B[0m\u001B[0;31m:\u001B[0m invalid syntax\n"
     ]
    }
   ],
   "execution_count": 42
  },
  {
   "cell_type": "markdown",
   "metadata": {},
   "source": [
    "Let's look at model logs. We can access logs directory with `model.fit_trainer.log_dir`"
   ]
  }
 ],
 "metadata": {
  "kernelspec": {
   "display_name": ".venv",
   "language": "python",
   "name": "python3"
  },
  "language_info": {
   "codemirror_mode": {
    "name": "ipython",
    "version": 3
   },
   "file_extension": ".py",
   "mimetype": "text/x-python",
   "name": "python",
   "nbconvert_exporter": "python",
   "pygments_lexer": "ipython3",
   "version": "3.10.13"
  }
 },
 "nbformat": 4,
 "nbformat_minor": 2
}
