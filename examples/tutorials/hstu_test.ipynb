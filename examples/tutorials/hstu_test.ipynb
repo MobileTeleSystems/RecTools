{
 "cells": [
  {
   "cell_type": "markdown",
   "metadata": {},
   "source": [
    "# Transformer Models Advanced Training Guide\n",
    "This guide is showing advanced features of RecTools transformer models training.\n",
    "\n",
    "### Table of Contents\n",
    "\n",
    "* Prepare data\n",
    "* Advanced training guide\n",
    "    * Validation fold\n",
    "    * Validation loss\n",
    "    * Callback for Early Stopping\n",
    "    * Callbacks for Checkpoints\n",
    "        * Loading Checkpoints\n",
    "    * Callbacks for RecSys metrics\n",
    "        * RecSys metrics for Early Stopping anf Checkpoints\n",
    "* Advanced training full example\n",
    "    * Running full training with all of the described validation features on Kion dataset\n",
    "* More RecTools features for transformers\n",
    "    * Saving and loading models\n",
    "    * Configs for transformer models\n",
    "        * Classes and function in configs\n",
    "    * Multi-gpu training\n"
   ]
  },
  {
   "cell_type": "code",
   "metadata": {
    "ExecuteTime": {
     "end_time": "2025-06-25T13:18:23.792706Z",
     "start_time": "2025-06-25T13:18:21.227279Z"
    }
   },
   "source": [
    "import os\n",
    "import typing as tp\n",
    "import warnings\n",
    "\n",
    "import pandas as pd\n",
    "import numpy as np\n",
    "import torch\n",
    "from lightning_fabric import seed_everything\n",
    "from pytorch_lightning import Trainer, LightningModule\n",
    "from pytorch_lightning.loggers import CSVLogger\n",
    "from pytorch_lightning.callbacks import   Callback\n",
    "\n",
    "from rectools.dataset import Dataset\n",
    "from rectools.models import  SASRecModel\n",
    "from rectools.models import HSTUModel\n",
    "from rectools.models.nn.item_net import IdEmbeddingsItemNet\n",
    "from rectools import Columns, ExternalIds\n",
    "from scipy import sparse\n",
    "from pytorch_lightning.callbacks import EarlyStopping, ModelCheckpoint, Callback\n",
    "# Enable deterministic behaviour with CUDA >= 10.2\n",
    "os.environ[\"CUBLAS_WORKSPACE_CONFIG\"] = \":4096:8\"\n",
    "from rectools.model_selection import LastNSplitter\n",
    "warnings.simplefilter(\"ignore\", UserWarning)\n",
    "warnings.simplefilter(\"ignore\", FutureWarning)\n",
    "from rectools.metrics import (\n",
    "    MAP,\n",
    "    CoveredUsers,\n",
    "    AvgRecPopularity,\n",
    "    Intersection,\n",
    "    HitRate,\n",
    "    Serendipity,\n",
    ")\n",
    "from rectools.models import PopularModel, EASEModel, SASRecModel, BERT4RecModel\n",
    "from rectools.model_selection import TimeRangeSplitter, cross_validate\n",
    "from rectools.models.nn.item_net import CatFeaturesItemNet, IdEmbeddingsItemNet\n",
    "from rectools.visuals import MetricsApp"
   ],
   "outputs": [],
   "execution_count": 1
  },
  {
   "metadata": {
    "ExecuteTime": {
     "end_time": "2025-06-25T13:18:23.804727Z",
     "start_time": "2025-06-25T13:18:23.801917Z"
    }
   },
   "cell_type": "code",
   "source": [
    "import sys\n",
    "print(sys.executable)"
   ],
   "outputs": [
    {
     "name": "stdout",
     "output_type": "stream",
     "text": [
      "/home/student/kuzin/python_project/RecTools/.venv/bin/python3\n"
     ]
    }
   ],
   "execution_count": 2
  },
  {
   "metadata": {
    "ExecuteTime": {
     "end_time": "2025-06-25T13:18:24.141543Z",
     "start_time": "2025-06-25T13:18:24.136588Z"
    }
   },
   "cell_type": "code",
   "source": [
    "import cffi\n",
    "import zmq  # pyzmq\n",
    "import notebook  # jupyter"
   ],
   "outputs": [],
   "execution_count": 3
  },
  {
   "metadata": {
    "ExecuteTime": {
     "end_time": "2025-06-25T13:18:24.185344Z",
     "start_time": "2025-06-25T13:18:24.151002Z"
    }
   },
   "cell_type": "code",
   "source": "model = SASRecModel()",
   "outputs": [
    {
     "name": "stderr",
     "output_type": "stream",
     "text": [
      "GPU available: True (cuda), used: True\n",
      "TPU available: False, using: 0 TPU cores\n",
      "HPU available: False, using: 0 HPUs\n"
     ]
    },
    {
     "name": "stdout",
     "output_type": "stream",
     "text": [
      "Keep columns:  ['user_id', 'item_id', 'weight']\n",
      "Extra cols:  []\n",
      "add_unix_ts: True.\n"
     ]
    }
   ],
   "execution_count": 4
  },
  {
   "cell_type": "markdown",
   "metadata": {},
   "source": [
    "## Prepare data"
   ]
  },
  {
   "metadata": {},
   "cell_type": "markdown",
   "source": [
    "%%time\n",
    "!wget -q https://files.grouplens.org/datasets/movielens/ml-1m.zip -O ml-1m.zip\n",
    "!unzip -o ml-1m.zip\n",
    "!rm ml-1m.zip"
   ]
  },
  {
   "cell_type": "code",
   "metadata": {
    "ExecuteTime": {
     "end_time": "2025-06-25T13:18:27.850700Z",
     "start_time": "2025-06-25T13:18:24.430860Z"
    }
   },
   "source": [
    "%%time\n",
    "ratings = pd.read_csv(\n",
    "    \"ml-1m/ratings.dat\", \n",
    "    sep=\"::\",\n",
    "    engine=\"python\",  # Because of 2-chars separators\n",
    "    header=None,\n",
    "    names=[Columns.User, Columns.Item, Columns.Weight, Columns.Datetime],\n",
    ")\n",
    "print(ratings.shape)\n",
    "ratings[Columns.Weight] = 1\n",
    "ratings.head()"
   ],
   "outputs": [
    {
     "name": "stdout",
     "output_type": "stream",
     "text": [
      "(1000209, 4)\n",
      "CPU times: user 3.24 s, sys: 179 ms, total: 3.42 s\n",
      "Wall time: 3.41 s\n"
     ]
    },
    {
     "data": {
      "text/plain": [
       "   user_id  item_id  weight   datetime\n",
       "0        1     1193       1  978300760\n",
       "1        1      661       1  978302109\n",
       "2        1      914       1  978301968\n",
       "3        1     3408       1  978300275\n",
       "4        1     2355       1  978824291"
      ],
      "text/html": [
       "<div>\n",
       "<style scoped>\n",
       "    .dataframe tbody tr th:only-of-type {\n",
       "        vertical-align: middle;\n",
       "    }\n",
       "\n",
       "    .dataframe tbody tr th {\n",
       "        vertical-align: top;\n",
       "    }\n",
       "\n",
       "    .dataframe thead th {\n",
       "        text-align: right;\n",
       "    }\n",
       "</style>\n",
       "<table border=\"1\" class=\"dataframe\">\n",
       "  <thead>\n",
       "    <tr style=\"text-align: right;\">\n",
       "      <th></th>\n",
       "      <th>user_id</th>\n",
       "      <th>item_id</th>\n",
       "      <th>weight</th>\n",
       "      <th>datetime</th>\n",
       "    </tr>\n",
       "  </thead>\n",
       "  <tbody>\n",
       "    <tr>\n",
       "      <th>0</th>\n",
       "      <td>1</td>\n",
       "      <td>1193</td>\n",
       "      <td>1</td>\n",
       "      <td>978300760</td>\n",
       "    </tr>\n",
       "    <tr>\n",
       "      <th>1</th>\n",
       "      <td>1</td>\n",
       "      <td>661</td>\n",
       "      <td>1</td>\n",
       "      <td>978302109</td>\n",
       "    </tr>\n",
       "    <tr>\n",
       "      <th>2</th>\n",
       "      <td>1</td>\n",
       "      <td>914</td>\n",
       "      <td>1</td>\n",
       "      <td>978301968</td>\n",
       "    </tr>\n",
       "    <tr>\n",
       "      <th>3</th>\n",
       "      <td>1</td>\n",
       "      <td>3408</td>\n",
       "      <td>1</td>\n",
       "      <td>978300275</td>\n",
       "    </tr>\n",
       "    <tr>\n",
       "      <th>4</th>\n",
       "      <td>1</td>\n",
       "      <td>2355</td>\n",
       "      <td>1</td>\n",
       "      <td>978824291</td>\n",
       "    </tr>\n",
       "  </tbody>\n",
       "</table>\n",
       "</div>"
      ]
     },
     "execution_count": 5,
     "metadata": {},
     "output_type": "execute_result"
    }
   ],
   "execution_count": 5
  },
  {
   "metadata": {
    "ExecuteTime": {
     "end_time": "2025-06-25T13:18:27.937224Z",
     "start_time": "2025-06-25T13:18:27.933012Z"
    }
   },
   "cell_type": "code",
   "source": "ratings[Columns.Datetime] = ratings[Columns.Datetime].astype(\"datetime64[s]\")",
   "outputs": [],
   "execution_count": 6
  },
  {
   "metadata": {
    "ExecuteTime": {
     "end_time": "2025-06-25T13:18:28.052993Z",
     "start_time": "2025-06-25T13:18:27.973357Z"
    }
   },
   "cell_type": "code",
   "source": "dataset = Dataset.construct(ratings)",
   "outputs": [],
   "execution_count": 7
  },
  {
   "metadata": {
    "ExecuteTime": {
     "end_time": "2025-06-25T13:18:28.120224Z",
     "start_time": "2025-06-25T13:18:28.117356Z"
    }
   },
   "cell_type": "code",
   "source": "dataset.interactions.df.shape",
   "outputs": [
    {
     "data": {
      "text/plain": [
       "(1000209, 4)"
      ]
     },
     "execution_count": 8,
     "metadata": {},
     "output_type": "execute_result"
    }
   ],
   "execution_count": 8
  },
  {
   "cell_type": "code",
   "metadata": {
    "ExecuteTime": {
     "end_time": "2025-06-25T13:18:28.221797Z",
     "start_time": "2025-06-25T13:18:28.217298Z"
    }
   },
   "source": [
    "RANDOM_STATE=60\n",
    "torch.use_deterministic_algorithms(True)\n",
    "seed_everything(RANDOM_STATE, workers=True)"
   ],
   "outputs": [
    {
     "name": "stderr",
     "output_type": "stream",
     "text": [
      "Seed set to 60\n"
     ]
    },
    {
     "data": {
      "text/plain": [
       "60"
      ]
     },
     "execution_count": 9,
     "metadata": {},
     "output_type": "execute_result"
    }
   ],
   "execution_count": 9
  },
  {
   "metadata": {
    "ExecuteTime": {
     "end_time": "2025-06-25T13:18:28.464001Z",
     "start_time": "2025-06-25T13:18:28.351623Z"
    }
   },
   "cell_type": "code",
   "source": [
    "paper_df =  pd.read_csv(\"sasrec_format_2m.csv\")\n",
    "paper_df.head()"
   ],
   "outputs": [
    {
     "data": {
      "text/plain": [
       "   index  user_id                                  sequence_item_ids  \\\n",
       "0   4260     4261  260,2302,2312,2154,902,2616,745,720,3429,1223,...   \n",
       "1   4645     4646  337,2587,409,260,1210,1288,2153,2858,3147,2959...   \n",
       "2    990      991  2670,278,1968,1198,1097,1235,2396,1277,2243,91...   \n",
       "3   4261     4262  1097,1226,1373,858,1081,1173,3751,3770,3763,37...   \n",
       "4   3297     3298  1746,2496,1805,1993,1614,3095,2858,2188,2706,2...   \n",
       "\n",
       "                                    sequence_ratings  \\\n",
       "0  5,4,3,3,3,2,5,3,3,5,3,5,3,4,3,5,3,5,5,5,4,3,5,...   \n",
       "1  3,2,2,4,4,2,1,5,4,2,3,4,3,3,4,4,1,1,3,5,5,3,4,...   \n",
       "2  2,3,4,4,2,5,3,3,4,4,3,3,4,3,4,4,4,3,5,3,4,3,5,...   \n",
       "3  4,5,4,5,4,2,5,3,3,3,4,5,4,3,4,4,3,4,4,5,4,4,4,...   \n",
       "4  3,3,5,2,5,4,5,4,4,3,4,5,5,5,5,4,5,5,4,4,5,5,5,...   \n",
       "\n",
       "                                 sequence_timestamps  sex  age_group  \\\n",
       "0  965305148,965305148,965305189,965305189,965305...    0          3   \n",
       "1  963968496,963968496,963968496,963968496,963968...    0          2   \n",
       "2  975086183,975086297,975086297,975086414,975086...    0          2   \n",
       "3  965305021,965305021,965305046,965305046,965305...    0          3   \n",
       "4  968047151,968047191,968047228,968047285,968047...    1          0   \n",
       "\n",
       "   occupation  zip_code  \n",
       "0           6       346  \n",
       "1           6      2796  \n",
       "2           9      1597  \n",
       "3           6       286  \n",
       "4          10       822  "
      ],
      "text/html": [
       "<div>\n",
       "<style scoped>\n",
       "    .dataframe tbody tr th:only-of-type {\n",
       "        vertical-align: middle;\n",
       "    }\n",
       "\n",
       "    .dataframe tbody tr th {\n",
       "        vertical-align: top;\n",
       "    }\n",
       "\n",
       "    .dataframe thead th {\n",
       "        text-align: right;\n",
       "    }\n",
       "</style>\n",
       "<table border=\"1\" class=\"dataframe\">\n",
       "  <thead>\n",
       "    <tr style=\"text-align: right;\">\n",
       "      <th></th>\n",
       "      <th>index</th>\n",
       "      <th>user_id</th>\n",
       "      <th>sequence_item_ids</th>\n",
       "      <th>sequence_ratings</th>\n",
       "      <th>sequence_timestamps</th>\n",
       "      <th>sex</th>\n",
       "      <th>age_group</th>\n",
       "      <th>occupation</th>\n",
       "      <th>zip_code</th>\n",
       "    </tr>\n",
       "  </thead>\n",
       "  <tbody>\n",
       "    <tr>\n",
       "      <th>0</th>\n",
       "      <td>4260</td>\n",
       "      <td>4261</td>\n",
       "      <td>260,2302,2312,2154,902,2616,745,720,3429,1223,...</td>\n",
       "      <td>5,4,3,3,3,2,5,3,3,5,3,5,3,4,3,5,3,5,5,5,4,3,5,...</td>\n",
       "      <td>965305148,965305148,965305189,965305189,965305...</td>\n",
       "      <td>0</td>\n",
       "      <td>3</td>\n",
       "      <td>6</td>\n",
       "      <td>346</td>\n",
       "    </tr>\n",
       "    <tr>\n",
       "      <th>1</th>\n",
       "      <td>4645</td>\n",
       "      <td>4646</td>\n",
       "      <td>337,2587,409,260,1210,1288,2153,2858,3147,2959...</td>\n",
       "      <td>3,2,2,4,4,2,1,5,4,2,3,4,3,3,4,4,1,1,3,5,5,3,4,...</td>\n",
       "      <td>963968496,963968496,963968496,963968496,963968...</td>\n",
       "      <td>0</td>\n",
       "      <td>2</td>\n",
       "      <td>6</td>\n",
       "      <td>2796</td>\n",
       "    </tr>\n",
       "    <tr>\n",
       "      <th>2</th>\n",
       "      <td>990</td>\n",
       "      <td>991</td>\n",
       "      <td>2670,278,1968,1198,1097,1235,2396,1277,2243,91...</td>\n",
       "      <td>2,3,4,4,2,5,3,3,4,4,3,3,4,3,4,4,4,3,5,3,4,3,5,...</td>\n",
       "      <td>975086183,975086297,975086297,975086414,975086...</td>\n",
       "      <td>0</td>\n",
       "      <td>2</td>\n",
       "      <td>9</td>\n",
       "      <td>1597</td>\n",
       "    </tr>\n",
       "    <tr>\n",
       "      <th>3</th>\n",
       "      <td>4261</td>\n",
       "      <td>4262</td>\n",
       "      <td>1097,1226,1373,858,1081,1173,3751,3770,3763,37...</td>\n",
       "      <td>4,5,4,5,4,2,5,3,3,3,4,5,4,3,4,4,3,4,4,5,4,4,4,...</td>\n",
       "      <td>965305021,965305021,965305046,965305046,965305...</td>\n",
       "      <td>0</td>\n",
       "      <td>3</td>\n",
       "      <td>6</td>\n",
       "      <td>286</td>\n",
       "    </tr>\n",
       "    <tr>\n",
       "      <th>4</th>\n",
       "      <td>3297</td>\n",
       "      <td>3298</td>\n",
       "      <td>1746,2496,1805,1993,1614,3095,2858,2188,2706,2...</td>\n",
       "      <td>3,3,5,2,5,4,5,4,4,3,4,5,5,5,5,4,5,5,4,4,5,5,5,...</td>\n",
       "      <td>968047151,968047191,968047228,968047285,968047...</td>\n",
       "      <td>1</td>\n",
       "      <td>0</td>\n",
       "      <td>10</td>\n",
       "      <td>822</td>\n",
       "    </tr>\n",
       "  </tbody>\n",
       "</table>\n",
       "</div>"
      ]
     },
     "execution_count": 10,
     "metadata": {},
     "output_type": "execute_result"
    }
   ],
   "execution_count": 10
  },
  {
   "metadata": {
    "ExecuteTime": {
     "end_time": "2025-06-25T13:18:28.535703Z",
     "start_time": "2025-06-25T13:18:28.532827Z"
    }
   },
   "cell_type": "code",
   "source": "paper_df = paper_df[[\"index\",\"user_id\", \"sequence_item_ids\", \"sequence_ratings\", \"sequence_timestamps\"]]",
   "outputs": [],
   "execution_count": 11
  },
  {
   "metadata": {
    "ExecuteTime": {
     "end_time": "2025-06-25T13:18:32.207514Z",
     "start_time": "2025-06-25T13:18:28.582259Z"
    }
   },
   "cell_type": "code",
   "source": [
    "import pandas as pd\n",
    "import ast\n",
    "\n",
    "cols_to_expand = [\"sequence_item_ids\", \"sequence_ratings\", \"sequence_timestamps\"]\n",
    "\n",
    "# Преобразуем строки в списки\n",
    "for col in cols_to_expand:\n",
    "    paper_df[col] = paper_df[col].apply(ast.literal_eval)\n",
    "\n",
    "# Разбираем на отдельные строки\n",
    "expanded_df = paper_df[[\"user_id\"] + cols_to_expand]\n",
    "expanded_df = expanded_df.explode(cols_to_expand)\n",
    "\n",
    "# Переименовываем\n",
    "expanded_df = expanded_df.rename(columns={\n",
    "    \"sequence_item_ids\": \"item_id\",\n",
    "    \"sequence_ratings\": \"rating\",\n",
    "    \"sequence_timestamps\": \"timestamp\"\n",
    "})\n",
    "\n",
    "# Приводим к правильным типам\n",
    "expanded_df[\"item_id\"] = expanded_df[\"item_id\"].astype(int)\n",
    "expanded_df[\"rating\"] = expanded_df[\"rating\"].astype(float)\n",
    "expanded_df[\"timestamp\"] = expanded_df[\"timestamp\"].astype(int)\n",
    "expanded_df[\"datetime\"] = pd.to_datetime(expanded_df[\"timestamp\"], unit=\"s\")\n",
    "expanded_df = expanded_df.drop(columns=[\"timestamp\"])\n",
    "expanded_df.reset_index(drop=True, inplace=True)\n",
    "result = expanded_df[[\"user_id\", \"item_id\", \"datetime\"]]\n",
    "result[\"weight\"] = 1\n",
    "dataset = Dataset.construct(result)"
   ],
   "outputs": [],
   "execution_count": 12
  },
  {
   "metadata": {
    "ExecuteTime": {
     "end_time": "2025-06-25T13:18:32.237190Z",
     "start_time": "2025-06-25T13:18:32.234976Z"
    }
   },
   "cell_type": "code",
   "source": [
    "splitter = LastNSplitter(1,1)\n",
    "train_dataset = None\n",
    "test_df = None"
   ],
   "outputs": [],
   "execution_count": 13
  },
  {
   "metadata": {
    "ExecuteTime": {
     "end_time": "2025-06-25T13:18:32.279514Z",
     "start_time": "2025-06-25T13:18:32.277390Z"
    }
   },
   "cell_type": "code",
   "source": "split_iterator = splitter.split(dataset.interactions, collect_fold_stats=True)",
   "outputs": [],
   "execution_count": 14
  },
  {
   "metadata": {
    "ExecuteTime": {
     "end_time": "2025-06-25T13:18:32.496260Z",
     "start_time": "2025-06-25T13:18:32.307894Z"
    }
   },
   "cell_type": "code",
   "source": [
    "for train_ids, test_ids, split_info in split_iterator:\n",
    "    fold_dataset = dataset.filter_interactions(\n",
    "        row_indexes_to_keep=train_ids,\n",
    "        keep_external_ids=True,\n",
    "    )\n",
    "    interactions_df_test = dataset.interactions.df.loc[test_ids]\n",
    "    interactions_df_test[Columns.User] = dataset.user_id_map.convert_to_external(interactions_df_test[Columns.User])\n",
    "    interactions_df_test[Columns.Item] = dataset.item_id_map.convert_to_external(interactions_df_test[Columns.Item])\n",
    "    train_dataset = fold_dataset\n",
    "    test_df  =interactions_df_test "
   ],
   "outputs": [],
   "execution_count": 15
  },
  {
   "metadata": {
    "ExecuteTime": {
     "end_time": "2025-06-25T13:18:32.523331Z",
     "start_time": "2025-06-25T13:18:32.516432Z"
    }
   },
   "cell_type": "code",
   "source": "test_df",
   "outputs": [
    {
     "data": {
      "text/plain": [
       "         user_id  item_id  weight            datetime\n",
       "276         4261     2735     1.0 2000-08-03 13:12:40\n",
       "315         4646       25     1.0 2000-07-19 01:09:55\n",
       "375          991      927     1.0 2000-11-28 22:10:40\n",
       "413         4262      673     1.0 2000-08-03 12:23:24\n",
       "445         3298     3785     1.0 2000-09-04 06:19:22\n",
       "...          ...      ...     ...                 ...\n",
       "997765      2787     3555     1.0 2000-10-31 04:41:43\n",
       "997811      5591     3535     1.0 2000-09-25 00:19:49\n",
       "999554      4277     2675     1.0 2003-02-25 17:15:25\n",
       "999658      4308     1824     1.0 2000-08-03 00:16:48\n",
       "1000208     5824     2809     1.0 2000-05-10 15:05:14\n",
       "\n",
       "[6038 rows x 4 columns]"
      ],
      "text/html": [
       "<div>\n",
       "<style scoped>\n",
       "    .dataframe tbody tr th:only-of-type {\n",
       "        vertical-align: middle;\n",
       "    }\n",
       "\n",
       "    .dataframe tbody tr th {\n",
       "        vertical-align: top;\n",
       "    }\n",
       "\n",
       "    .dataframe thead th {\n",
       "        text-align: right;\n",
       "    }\n",
       "</style>\n",
       "<table border=\"1\" class=\"dataframe\">\n",
       "  <thead>\n",
       "    <tr style=\"text-align: right;\">\n",
       "      <th></th>\n",
       "      <th>user_id</th>\n",
       "      <th>item_id</th>\n",
       "      <th>weight</th>\n",
       "      <th>datetime</th>\n",
       "    </tr>\n",
       "  </thead>\n",
       "  <tbody>\n",
       "    <tr>\n",
       "      <th>276</th>\n",
       "      <td>4261</td>\n",
       "      <td>2735</td>\n",
       "      <td>1.0</td>\n",
       "      <td>2000-08-03 13:12:40</td>\n",
       "    </tr>\n",
       "    <tr>\n",
       "      <th>315</th>\n",
       "      <td>4646</td>\n",
       "      <td>25</td>\n",
       "      <td>1.0</td>\n",
       "      <td>2000-07-19 01:09:55</td>\n",
       "    </tr>\n",
       "    <tr>\n",
       "      <th>375</th>\n",
       "      <td>991</td>\n",
       "      <td>927</td>\n",
       "      <td>1.0</td>\n",
       "      <td>2000-11-28 22:10:40</td>\n",
       "    </tr>\n",
       "    <tr>\n",
       "      <th>413</th>\n",
       "      <td>4262</td>\n",
       "      <td>673</td>\n",
       "      <td>1.0</td>\n",
       "      <td>2000-08-03 12:23:24</td>\n",
       "    </tr>\n",
       "    <tr>\n",
       "      <th>445</th>\n",
       "      <td>3298</td>\n",
       "      <td>3785</td>\n",
       "      <td>1.0</td>\n",
       "      <td>2000-09-04 06:19:22</td>\n",
       "    </tr>\n",
       "    <tr>\n",
       "      <th>...</th>\n",
       "      <td>...</td>\n",
       "      <td>...</td>\n",
       "      <td>...</td>\n",
       "      <td>...</td>\n",
       "    </tr>\n",
       "    <tr>\n",
       "      <th>997765</th>\n",
       "      <td>2787</td>\n",
       "      <td>3555</td>\n",
       "      <td>1.0</td>\n",
       "      <td>2000-10-31 04:41:43</td>\n",
       "    </tr>\n",
       "    <tr>\n",
       "      <th>997811</th>\n",
       "      <td>5591</td>\n",
       "      <td>3535</td>\n",
       "      <td>1.0</td>\n",
       "      <td>2000-09-25 00:19:49</td>\n",
       "    </tr>\n",
       "    <tr>\n",
       "      <th>999554</th>\n",
       "      <td>4277</td>\n",
       "      <td>2675</td>\n",
       "      <td>1.0</td>\n",
       "      <td>2003-02-25 17:15:25</td>\n",
       "    </tr>\n",
       "    <tr>\n",
       "      <th>999658</th>\n",
       "      <td>4308</td>\n",
       "      <td>1824</td>\n",
       "      <td>1.0</td>\n",
       "      <td>2000-08-03 00:16:48</td>\n",
       "    </tr>\n",
       "    <tr>\n",
       "      <th>1000208</th>\n",
       "      <td>5824</td>\n",
       "      <td>2809</td>\n",
       "      <td>1.0</td>\n",
       "      <td>2000-05-10 15:05:14</td>\n",
       "    </tr>\n",
       "  </tbody>\n",
       "</table>\n",
       "<p>6038 rows × 4 columns</p>\n",
       "</div>"
      ]
     },
     "execution_count": 16,
     "metadata": {},
     "output_type": "execute_result"
    }
   ],
   "execution_count": 16
  },
  {
   "metadata": {},
   "cell_type": "markdown",
   "source": [
    "### Validation fold\n",
    "\n",
    "Models do not create validation fold during `fit` by default. However, there is a simple way to force it.\n",
    "\n",
    "Let's assume that we want to use Leave-One-Out validation for specific set of users. To apply it we need to implement `get_val_mask_func` with required logic and pass it to model during initialization.\n",
    "\n",
    "This function should receive interactions with standard RecTools columns and return a binary mask which identifies interactions that should not be used during model training. But instrad should be used for validation loss calculation. They will also be available for Lightning Callbacks to allow RecSys metrics computations.\n",
    "\n",
    "*Please make sure you do not use `partial` while doing this. Partial functions cannot be by serialized using RecTools.*"
   ]
  },
  {
   "metadata": {
    "ExecuteTime": {
     "end_time": "2025-06-25T13:18:32.604238Z",
     "start_time": "2025-06-25T13:18:32.596221Z"
    }
   },
   "cell_type": "code",
   "source": [
    "unique_users = ratings[Columns.User].unique()\n",
    "VAL_USERS = unique_users\n",
    "\n",
    "def leave_one_out_mask_for_users(interactions: pd.DataFrame, val_users: ExternalIds) -> np.ndarray:\n",
    "    rank = (\n",
    "        interactions\n",
    "        .sort_values(Columns.Datetime, ascending=False, kind=\"stable\")\n",
    "        .groupby(Columns.User, sort=False)\n",
    "        .cumcount()\n",
    "    )\n",
    "    val_mask = (\n",
    "        (interactions[Columns.User].isin(val_users))\n",
    "        & (rank == 0)\n",
    "    )\n",
    "    return val_mask.values\n",
    "\n",
    "def get_val_mask_func(interactions: pd.DataFrame):\n",
    "    return leave_one_out_mask_for_users(interactions, val_users = VAL_USERS)"
   ],
   "outputs": [],
   "execution_count": 17
  },
  {
   "metadata": {
    "ExecuteTime": {
     "end_time": "2025-06-25T13:18:32.647552Z",
     "start_time": "2025-06-25T13:18:32.641247Z"
    }
   },
   "cell_type": "code",
   "source": [
    "class RecallCallback(Callback):\n",
    "    name: str = \"recall\"\n",
    "    def __init__(self, k: int, prog_bar: bool = True) -> None:\n",
    "        self.k = k\n",
    "        self.name += f\"@{k}\"\n",
    "        self.prog_bar = prog_bar\n",
    "\n",
    "        self.batch_recall_per_users: tp.List[torch.Tensor] = []\n",
    "\n",
    "    def on_validation_batch_end(\n",
    "        self,\n",
    "        trainer: Trainer,\n",
    "        pl_module: LightningModule,\n",
    "        outputs: tp.Dict[str, torch.Tensor],\n",
    "        batch: tp.Dict[str, torch.Tensor],\n",
    "        batch_idx: int,\n",
    "        dataloader_idx: int = 0,\n",
    "    ) -> None:\n",
    "\n",
    "        if \"logits\" not in outputs:\n",
    "            session_embs = pl_module.torch_model.encode_sessions(\n",
    "                batch, pl_module.item_embs\n",
    "            )[:, -1, :]\n",
    "            logits = pl_module.torch_model.similarity_module(\n",
    "                session_embs, pl_module.item_embs\n",
    "            )\n",
    "        else:\n",
    "            logits = outputs[\"logits\"]\n",
    "\n",
    "        x = batch[\"x\"]\n",
    "        users = x.shape[0]\n",
    "        row_ind = np.arange(users).repeat(x.shape[1])\n",
    "        col_ind = x.flatten().detach().cpu().numpy()\n",
    "        mask = col_ind != 0\n",
    "        data = np.ones_like(row_ind[mask])\n",
    "        filter_csr = sparse.csr_matrix(\n",
    "            (data, (row_ind[mask], col_ind[mask])),\n",
    "            shape=(users, pl_module.torch_model.item_model.n_items),\n",
    "        )\n",
    "        mask = torch.from_numpy((filter_csr != 0).toarray()).to(logits.device)\n",
    "        scores = torch.masked_fill(logits, mask, float(\"-inf\"))\n",
    "\n",
    "        _, batch_recos = scores.topk(k=self.k)\n",
    "\n",
    "        targets = batch[\"y\"]\n",
    "\n",
    "        # assume all users have the same amount of TP\n",
    "        liked = targets.shape[1]\n",
    "        tp_mask = torch.stack(\n",
    "            [\n",
    "                torch.isin(batch_recos[uid], targets[uid])\n",
    "                for uid in range(batch_recos.shape[0])\n",
    "            ]\n",
    "        )\n",
    "        recall_per_users = tp_mask.sum(dim=1) / liked\n",
    "\n",
    "        self.batch_recall_per_users.append(recall_per_users)\n",
    "\n",
    "    def on_validation_epoch_end(\n",
    "        self, trainer: Trainer, pl_module: LightningModule\n",
    "    ) -> None:\n",
    "        recall = float(torch.concat(self.batch_recall_per_users).mean())\n",
    "        self.log_dict(\n",
    "            {self.name: recall}, on_step=False, on_epoch=True, prog_bar=self.prog_bar\n",
    "        )\n",
    "\n",
    "        self.batch_recall_per_users.clear()"
   ],
   "outputs": [],
   "execution_count": 18
  },
  {
   "cell_type": "markdown",
   "metadata": {},
   "source": [
    "In this guide we are going to use custom Lighhning trainers. We need to implement function that return desired Lightining trainer and pass it to model during initialization."
   ]
  },
  {
   "metadata": {
    "ExecuteTime": {
     "end_time": "2025-06-25T13:18:32.678624Z",
     "start_time": "2025-06-25T13:18:32.676641Z"
    }
   },
   "cell_type": "code",
   "source": [
    "\n",
    "# Callback for calculating RecSys metrics\n",
    "recall_callback = RecallCallback(k=10, prog_bar=True)"
   ],
   "outputs": [],
   "execution_count": 19
  },
  {
   "metadata": {
    "ExecuteTime": {
     "end_time": "2025-06-25T13:18:32.769094Z",
     "start_time": "2025-06-25T13:18:32.765785Z"
    }
   },
   "cell_type": "code",
   "source": [
    "# Checkpoint last epoch\n",
    "last_epoch_ckpt = ModelCheckpoint(filename=\"last_epoch\")\n",
    "\n",
    "# Checkpoints based on validation loss\n",
    "least_val_loss_ckpt = ModelCheckpoint(\n",
    "    monitor=\"val_loss\",   # or just pass \"val_loss\" here,\n",
    "    mode=\"min\",\n",
    "    filename=\"{epoch}-{val_loss:.2f}\",\n",
    "    save_top_k=2,  # Let's save top 2 checkpoints for validation loss\n",
    ")"
   ],
   "outputs": [],
   "execution_count": 20
  },
  {
   "cell_type": "code",
   "metadata": {
    "ExecuteTime": {
     "end_time": "2025-06-25T13:18:32.806150Z",
     "start_time": "2025-06-25T13:18:32.803521Z"
    }
   },
   "source": [
    "# Function to get custom trainer\n",
    "\n",
    "def get_debug_trainer() -> Trainer:\n",
    "    return Trainer(\n",
    "        accelerator=\"gpu\",\n",
    "        devices=1,\n",
    "        min_epochs=2,\n",
    "        max_epochs=2,\n",
    "        limit_train_batches=2,\n",
    "        deterministic=True,\n",
    "        enable_model_summary=False,\n",
    "        enable_progress_bar=True,\n",
    "        callbacks=[recall_callback, last_epoch_ckpt, least_val_loss_ckpt],  # pass our callbacks\n",
    "        logger = CSVLogger(\"test_logs\"),  # We use CSV logging for this guide but there are many other options\n",
    "    )"
   ],
   "outputs": [],
   "execution_count": 21
  },
  {
   "cell_type": "code",
   "metadata": {
    "ExecuteTime": {
     "end_time": "2025-06-25T13:18:32.878814Z",
     "start_time": "2025-06-25T13:18:32.865147Z"
    }
   },
   "source": [
    "session_max_len = 200\n",
    "data_preparator_kwargs =  {\"extra_cols\": [Columns.Datetime]}\n",
    "transformer_layers_kwargs = {\n",
    "    \"attention_dim\": 50,\n",
    "    \"linear_hidden_dim\":50,\n",
    "    \"session_max_len\": session_max_len,\n",
    "    \"attention_mode\" : \"rel_pos_ts_bias\"\n",
    "}\n",
    "lightning_module_kwargs = {\n",
    "    \"temperature\": 0.05\n",
    "}\n",
    "model  = HSTUModel(session_max_len = session_max_len,\n",
    "    data_preparator_kwargs=data_preparator_kwargs,\n",
    "    transformer_layers_kwargs=transformer_layers_kwargs,\n",
    "    lightning_module_kwargs=lightning_module_kwargs,\n",
    "    item_net_block_types=(IdEmbeddingsItemNet,),\n",
    "    get_val_mask_func=get_val_mask_func,  # pass our custom `get_val_mask_func`\n",
    "    get_trainer_func=get_debug_trainer,  # pass our custom trainer func\n",
    "    verbose=1,\n",
    "    loss = 'sampled_softmax',\n",
    "    n_negatives= 128,\n",
    "    use_pos_emb = True,\n",
    "    dropout_rate = 0.2,\n",
    "    n_factors = 50,\n",
    "    n_heads = 1,\n",
    "    n_blocks = 2,\n",
    "    lr = 0.001,\n",
    "    batch_size=128,\n",
    ")"
   ],
   "outputs": [
    {
     "name": "stderr",
     "output_type": "stream",
     "text": [
      "GPU available: True (cuda), used: True\n",
      "TPU available: False, using: 0 TPU cores\n",
      "HPU available: False, using: 0 HPUs\n"
     ]
    },
    {
     "name": "stdout",
     "output_type": "stream",
     "text": [
      "Keep columns:  ['user_id', 'item_id', 'weight', 'datetime']\n",
      "Extra cols:  ['datetime']\n",
      "add_unix_ts: True.\n"
     ]
    }
   ],
   "execution_count": 22
  },
  {
   "cell_type": "markdown",
   "metadata": {},
   "source": [
    "### Validation loss\n",
    "\n",
    "Let's check how the validation loss is being logged."
   ]
  },
  {
   "cell_type": "code",
   "metadata": {
    "ExecuteTime": {
     "end_time": "2025-06-25T13:18:45.233185Z",
     "start_time": "2025-06-25T13:18:32.975125Z"
    }
   },
   "source": [
    "# Fit model. Validation fold and validation loss computation will be done under the hood.\n",
    "\n",
    "model.fit(train_dataset)"
   ],
   "outputs": [
    {
     "name": "stdout",
     "output_type": "stream",
     "text": [
      "кол-во айтемов 3647\n"
     ]
    },
    {
     "name": "stderr",
     "output_type": "stream",
     "text": [
      "You are using a CUDA device ('NVIDIA A100 80GB PCIe') that has Tensor Cores. To properly utilize them, you should set `torch.set_float32_matmul_precision('medium' | 'high')` which will trade-off precision for performance. For more details, read https://pytorch.org/docs/stable/generated/torch.set_float32_matmul_precision.html#torch.set_float32_matmul_precision\n",
      "LOCAL_RANK: 0 - CUDA_VISIBLE_DEVICES: [0]\n"
     ]
    },
    {
     "name": "stdout",
     "output_type": "stream",
     "text": [
      "item_model.item_net_blocks.0.ids_emb.weight torch.Size([3647, 50])\n",
      "pos_encoding_layer.pos_emb.weight torch.Size([200, 50])\n",
      "transformer_layers.stu_blocks.0.uvqk_proj torch.Size([50, 200])\n",
      "transformer_layers.stu_blocks.0.rel_attn.time_weights torch.Size([129])\n",
      "transformer_layers.stu_blocks.0.rel_attn.pos_weights torch.Size([401])\n",
      "transformer_layers.stu_blocks.0.output_mlp.weight torch.Size([50, 50])\n",
      "transformer_layers.stu_blocks.0.output_mlp.bias torch.Size([50])\n",
      "transformer_layers.stu_blocks.1.uvqk_proj torch.Size([50, 200])\n",
      "transformer_layers.stu_blocks.1.rel_attn.time_weights torch.Size([129])\n",
      "transformer_layers.stu_blocks.1.rel_attn.pos_weights torch.Size([401])\n",
      "transformer_layers.stu_blocks.1.output_mlp.weight torch.Size([50, 50])\n",
      "transformer_layers.stu_blocks.1.output_mlp.bias torch.Size([50])\n",
      "timestamp_embedding.weight torch.Size([129, 50])\n"
     ]
    },
    {
     "data": {
      "text/plain": [
       "Sanity Checking: |          | 0/? [00:00<?, ?it/s]"
      ],
      "application/vnd.jupyter.widget-view+json": {
       "version_major": 2,
       "version_minor": 0,
       "model_id": "e952d439040f4f7e8d32630415fb0ba7"
      }
     },
     "metadata": {},
     "output_type": "display_data"
    },
    {
     "data": {
      "text/plain": [
       "Training: |          | 0/? [00:00<?, ?it/s]"
      ],
      "application/vnd.jupyter.widget-view+json": {
       "version_major": 2,
       "version_minor": 0,
       "model_id": "8f1a7ca557104cfe8a5f0b50d843796f"
      }
     },
     "metadata": {},
     "output_type": "display_data"
    },
    {
     "data": {
      "text/plain": [
       "Validation: |          | 0/? [00:00<?, ?it/s]"
      ],
      "application/vnd.jupyter.widget-view+json": {
       "version_major": 2,
       "version_minor": 0,
       "model_id": "9933cc709f4547a58af4b1331e9b9c17"
      }
     },
     "metadata": {},
     "output_type": "display_data"
    },
    {
     "data": {
      "text/plain": [
       "Validation: |          | 0/? [00:00<?, ?it/s]"
      ],
      "application/vnd.jupyter.widget-view+json": {
       "version_major": 2,
       "version_minor": 0,
       "model_id": "c19a69f4bfd8446a96feab4a935761a8"
      }
     },
     "metadata": {},
     "output_type": "display_data"
    },
    {
     "name": "stderr",
     "output_type": "stream",
     "text": [
      "`Trainer.fit` stopped: `max_epochs=2` reached.\n"
     ]
    },
    {
     "data": {
      "text/plain": [
       "<rectools.models.nn.transformers.hstu.HSTUModel at 0x73dbfb51de10>"
      ]
     },
     "execution_count": 23,
     "metadata": {},
     "output_type": "execute_result"
    }
   ],
   "execution_count": 23
  },
  {
   "metadata": {
    "ExecuteTime": {
     "end_time": "2025-06-25T13:18:45.556502Z",
     "start_time": "2025-06-25T13:18:45.313071Z"
    }
   },
   "cell_type": "code",
   "source": [
    "!ls $model.fit_trainer.log_dir/checkpoints\n",
    "ckpt_path = os.path.join(model.fit_trainer.log_dir, \"checkpoints\", \"last_epoch.ckpt\")\n",
    "model.load_weights_from_checkpoint(ckpt_path)"
   ],
   "outputs": [
    {
     "name": "stdout",
     "output_type": "stream",
     "text": [
      "'epoch=0-val_loss=4.93.ckpt'  'epoch=1-val_loss=4.90.ckpt'   last_epoch.ckpt\r\n"
     ]
    }
   ],
   "execution_count": 24
  },
  {
   "metadata": {},
   "cell_type": "markdown",
   "source": "Инвариант - всегда надо клеить думми с таймстемпом. Откуда брать таймстемпы? В случае тестирования на последнем - передаём тестовый датафрейм, дёргаем строки с  \"users=[20]\", оттуда берём таймстемпы. В случае инференса передавать таймстемпы отдельно, поэтому напишем враппер, который обрабатывает два этих случая, а "
  },
  {
   "metadata": {},
   "cell_type": "markdown",
   "source": ""
  },
  {
   "metadata": {
    "ExecuteTime": {
     "end_time": "2025-06-25T13:18:45.586713Z",
     "start_time": "2025-06-25T13:18:45.584465Z"
    }
   },
   "cell_type": "code",
   "source": "ErrorBehaviour = tp.Literal[\"ignore\", \"warn\", \"raise\"]",
   "outputs": [],
   "execution_count": 25
  },
  {
   "metadata": {},
   "cell_type": "markdown",
   "source": "Timestamp('2001-12-29 23:40:27') последний, сходится"
  },
  {
   "metadata": {},
   "cell_type": "markdown",
   "source": "### Боевая кросс-валидация"
  },
  {
   "metadata": {
    "ExecuteTime": {
     "end_time": "2025-06-25T13:18:45.643704Z",
     "start_time": "2025-06-25T13:18:45.633484Z"
    }
   },
   "cell_type": "code",
   "source": "set(dataset.interactions.df.user_id.unique()) == set(dataset.item_id_map.external_ids) #",
   "outputs": [
    {
     "data": {
      "text/plain": [
       "False"
      ]
     },
     "execution_count": 26,
     "metadata": {},
     "output_type": "execute_result"
    }
   ],
   "execution_count": 26
  },
  {
   "metadata": {
    "ExecuteTime": {
     "end_time": "2025-06-25T13:18:45.780077Z",
     "start_time": "2025-06-25T13:18:45.687788Z"
    }
   },
   "cell_type": "code",
   "source": "dataset = Dataset.construct(ratings)",
   "outputs": [],
   "execution_count": 27
  },
  {
   "metadata": {
    "ExecuteTime": {
     "end_time": "2025-06-25T13:18:45.803155Z",
     "start_time": "2025-06-25T13:18:45.800641Z"
    }
   },
   "cell_type": "code",
   "source": [
    "session_max_len = 200\n",
    "data_preparator_kwargs =  {\"extra_cols\": [Columns.Datetime]}\n",
    "transformer_layers_kwargs = {\n",
    "    \"attention_dim\": 50,\n",
    "    \"linear_hidden_dim\":50,\n",
    "    \"session_max_len\": session_max_len,\n",
    "    \"attention_mode\" : \"rel_pos_ts_bias\"\n",
    "}\n",
    "lightning_module_kwargs = {\n",
    "    \"temperature\": 0.05\n",
    "}"
   ],
   "outputs": [],
   "execution_count": 28
  },
  {
   "metadata": {
    "ExecuteTime": {
     "end_time": "2025-06-25T13:18:45.878347Z",
     "start_time": "2025-06-25T13:18:45.875726Z"
    }
   },
   "cell_type": "code",
   "source": [
    "def get_debug_trainer() -> Trainer:\n",
    "    return Trainer(\n",
    "        accelerator=\"gpu\",\n",
    "        devices=1,\n",
    "        min_epochs=100,\n",
    "        max_epochs=100,\n",
    "        deterministic=True,\n",
    "        enable_model_summary=False,\n",
    "        enable_progress_bar=True,\n",
    "        callbacks=[ recall_callback,  last_epoch_ckpt, least_val_loss_ckpt],  # pass our callbacks\n",
    "        logger = CSVLogger(\"test_logs\"),  # We use CSV logging for this guide but there are many other options\n",
    "    )"
   ],
   "outputs": [],
   "execution_count": 29
  },
  {
   "metadata": {
    "ExecuteTime": {
     "end_time": "2025-06-25T13:18:45.920919Z",
     "start_time": "2025-06-25T13:18:45.899536Z"
    }
   },
   "cell_type": "code",
   "source": [
    "model_hstu  = HSTUModel(session_max_len = session_max_len,\n",
    "    data_preparator_kwargs=data_preparator_kwargs,\n",
    "    transformer_layers_kwargs=transformer_layers_kwargs,\n",
    "    lightning_module_kwargs=lightning_module_kwargs,\n",
    "    item_net_block_types=(IdEmbeddingsItemNet,),\n",
    "    get_val_mask_func=get_val_mask_func,  # pass our custom `get_val_mask_func`\n",
    "    get_trainer_func=get_debug_trainer,\n",
    "    verbose=1,\n",
    "    loss = 'sampled_softmax',\n",
    "    n_negatives= 128,\n",
    "    use_pos_emb = True,\n",
    "    dropout_rate = 0.2,\n",
    "    n_factors = 50,\n",
    "    n_heads = 1,\n",
    "    n_blocks = 2,\n",
    "    lr = 0.001,\n",
    "    batch_size=128,\n",
    ")\n",
    "model_sasrec  = SASRecModel(session_max_len = session_max_len,\n",
    "    item_net_block_types=(IdEmbeddingsItemNet,),\n",
    "    get_val_mask_func=get_val_mask_func,  # pass our custom `get_val_mask_func`\n",
    "    get_trainer_func=get_debug_trainer,  # pass our custom trainer func\n",
    "    verbose=1,\n",
    "    lightning_module_kwargs=lightning_module_kwargs,\n",
    "    use_pos_emb = True,\n",
    "    loss = 'sampled_softmax',\n",
    "    n_negatives= 128,\n",
    "    dropout_rate = 0.2,\n",
    "    n_factors = 50,\n",
    "    n_heads = 1,\n",
    "    n_blocks = 2,\n",
    "    lr = 0.001,\n",
    "    batch_size=128,\n",
    ")"
   ],
   "outputs": [
    {
     "name": "stderr",
     "output_type": "stream",
     "text": [
      "GPU available: True (cuda), used: True\n",
      "TPU available: False, using: 0 TPU cores\n",
      "HPU available: False, using: 0 HPUs\n",
      "GPU available: True (cuda), used: True\n",
      "TPU available: False, using: 0 TPU cores\n",
      "HPU available: False, using: 0 HPUs\n"
     ]
    },
    {
     "name": "stdout",
     "output_type": "stream",
     "text": [
      "Keep columns:  ['user_id', 'item_id', 'weight', 'datetime']\n",
      "Extra cols:  ['datetime']\n",
      "add_unix_ts: True.\n",
      "Keep columns:  ['user_id', 'item_id', 'weight']\n",
      "Extra cols:  []\n",
      "add_unix_ts: True.\n"
     ]
    }
   ],
   "execution_count": 30
  },
  {
   "metadata": {
    "ExecuteTime": {
     "end_time": "2025-06-25T13:18:45.994207Z",
     "start_time": "2025-06-25T13:18:45.992327Z"
    }
   },
   "cell_type": "code",
   "source": "#model._trainer = trainer",
   "outputs": [],
   "execution_count": 31
  },
  {
   "metadata": {
    "ExecuteTime": {
     "end_time": "2025-06-25T13:18:46.021869Z",
     "start_time": "2025-06-25T13:18:46.019262Z"
    }
   },
   "cell_type": "code",
   "source": [
    "models = {\n",
    "    #\"sasrec\": model_sasrec,\n",
    "    \"hstu\": model_hstu,\n",
    "}\n",
    "\n",
    "metrics = {\n",
    "    \"HitRate@10\": HitRate(k=10),\n",
    "    \"MAP@10\": MAP(k=10),\n",
    "    \"Serendipity@10\": Serendipity(k=10),\n",
    "    \"CoveredUsers@10\": CoveredUsers(k=10),  # how many test users received recommendations\n",
    "    \"AvgRecPopularity@10\": AvgRecPopularity(k=10),  # average popularity of recommended items\n",
    "}\n",
    "\n",
    "K_RECS = 10"
   ],
   "outputs": [],
   "execution_count": 32
  },
  {
   "metadata": {
    "jupyter": {
     "is_executing": true
    },
    "ExecuteTime": {
     "start_time": "2025-06-25T13:18:46.074200Z"
    }
   },
   "cell_type": "code",
   "source": [
    "cv_results = cross_validate(\n",
    "    dataset=dataset,\n",
    "    splitter=splitter,\n",
    "    models=models,\n",
    "    metrics=metrics,\n",
    "    k=K_RECS,\n",
    "    filter_viewed=True,\n",
    ")"
   ],
   "outputs": [
    {
     "name": "stdout",
     "output_type": "stream",
     "text": [
      "кол-во айтемов 3647\n"
     ]
    },
    {
     "name": "stderr",
     "output_type": "stream",
     "text": [
      "LOCAL_RANK: 0 - CUDA_VISIBLE_DEVICES: [0]\n"
     ]
    },
    {
     "name": "stdout",
     "output_type": "stream",
     "text": [
      "item_model.item_net_blocks.0.ids_emb.weight torch.Size([3647, 50])\n",
      "pos_encoding_layer.pos_emb.weight torch.Size([200, 50])\n",
      "transformer_layers.stu_blocks.0.uvqk_proj torch.Size([50, 200])\n",
      "transformer_layers.stu_blocks.0.rel_attn.time_weights torch.Size([129])\n",
      "transformer_layers.stu_blocks.0.rel_attn.pos_weights torch.Size([401])\n",
      "transformer_layers.stu_blocks.0.output_mlp.weight torch.Size([50, 50])\n",
      "transformer_layers.stu_blocks.0.output_mlp.bias torch.Size([50])\n",
      "transformer_layers.stu_blocks.1.uvqk_proj torch.Size([50, 200])\n",
      "transformer_layers.stu_blocks.1.rel_attn.time_weights torch.Size([129])\n",
      "transformer_layers.stu_blocks.1.rel_attn.pos_weights torch.Size([401])\n",
      "transformer_layers.stu_blocks.1.output_mlp.weight torch.Size([50, 50])\n",
      "transformer_layers.stu_blocks.1.output_mlp.bias torch.Size([50])\n",
      "timestamp_embedding.weight torch.Size([129, 50])\n"
     ]
    },
    {
     "data": {
      "text/plain": [
       "Sanity Checking: |          | 0/? [00:00<?, ?it/s]"
      ],
      "application/vnd.jupyter.widget-view+json": {
       "version_major": 2,
       "version_minor": 0,
       "model_id": "b777032db8004163b45972de4a06285a"
      }
     },
     "metadata": {},
     "output_type": "display_data"
    },
    {
     "data": {
      "text/plain": [
       "Training: |          | 0/? [00:00<?, ?it/s]"
      ],
      "application/vnd.jupyter.widget-view+json": {
       "version_major": 2,
       "version_minor": 0,
       "model_id": "46c589c15396489dab4268d1d88fecba"
      }
     },
     "metadata": {},
     "output_type": "display_data"
    }
   ],
   "execution_count": null
  },
  {
   "metadata": {
    "ExecuteTime": {
     "end_time": "2025-06-25T13:18:00.755518500Z",
     "start_time": "2025-06-15T16:39:57.128503Z"
    }
   },
   "cell_type": "code",
   "source": "cv_results",
   "outputs": [
    {
     "data": {
      "text/plain": [
       "{'splits': [{'i_split': 0,\n",
       "   'train': 994169,\n",
       "   'train_users': 6040,\n",
       "   'train_items': 3704,\n",
       "   'test': 6038,\n",
       "   'test_users': 6038,\n",
       "   'test_items': 1925}],\n",
       " 'metrics': [{'model': 'sasrec',\n",
       "   'i_split': 0,\n",
       "   'HitRate@10': 0.2775753560781716,\n",
       "   'MAP@10': 0.11510249898789152,\n",
       "   'AvgRecPopularity@10': 849.132974494866,\n",
       "   'Serendipity@10': 0.0024496985256085113,\n",
       "   'CoveredUsers@10': 1.0},\n",
       "  {'model': 'hstu',\n",
       "   'i_split': 0,\n",
       "   'HitRate@10': 0.30291487247432924,\n",
       "   'MAP@10': 0.1284725179682119,\n",
       "   'AvgRecPopularity@10': 910.5856575024843,\n",
       "   'Serendipity@10': 0.002675231990052919,\n",
       "   'CoveredUsers@10': 1.0}]}"
      ]
     },
     "execution_count": 45,
     "metadata": {},
     "output_type": "execute_result"
    }
   ],
   "execution_count": 45
  },
  {
   "metadata": {
    "ExecuteTime": {
     "end_time": "2025-06-25T13:18:00.755518500Z",
     "start_time": "2025-06-15T16:39:57.323981Z"
    }
   },
   "cell_type": "code",
   "source": [
    "pivot_results = (\n",
    "    pd.DataFrame(cv_results[\"metrics\"])\n",
    "    .drop(columns=\"i_split\")\n",
    "    .groupby([\"model\"], sort=False)\n",
    "    .agg([\"mean\"])\n",
    ")\n",
    "pivot_results.columns = pivot_results.columns.droplevel(1)\n",
    "pivot_results.to_csv(\"rectools_transformers_cv.csv\", index=True)\n",
    "pivot_results"
   ],
   "outputs": [
    {
     "data": {
      "text/plain": [
       "        HitRate@10    MAP@10  AvgRecPopularity@10  Serendipity@10  \\\n",
       "model                                                               \n",
       "sasrec    0.277575  0.115102           849.132974        0.002450   \n",
       "hstu      0.302915  0.128473           910.585658        0.002675   \n",
       "\n",
       "        CoveredUsers@10  \n",
       "model                    \n",
       "sasrec              1.0  \n",
       "hstu                1.0  "
      ],
      "text/html": [
       "<div>\n",
       "<style scoped>\n",
       "    .dataframe tbody tr th:only-of-type {\n",
       "        vertical-align: middle;\n",
       "    }\n",
       "\n",
       "    .dataframe tbody tr th {\n",
       "        vertical-align: top;\n",
       "    }\n",
       "\n",
       "    .dataframe thead th {\n",
       "        text-align: right;\n",
       "    }\n",
       "</style>\n",
       "<table border=\"1\" class=\"dataframe\">\n",
       "  <thead>\n",
       "    <tr style=\"text-align: right;\">\n",
       "      <th></th>\n",
       "      <th>HitRate@10</th>\n",
       "      <th>MAP@10</th>\n",
       "      <th>AvgRecPopularity@10</th>\n",
       "      <th>Serendipity@10</th>\n",
       "      <th>CoveredUsers@10</th>\n",
       "    </tr>\n",
       "    <tr>\n",
       "      <th>model</th>\n",
       "      <th></th>\n",
       "      <th></th>\n",
       "      <th></th>\n",
       "      <th></th>\n",
       "      <th></th>\n",
       "    </tr>\n",
       "  </thead>\n",
       "  <tbody>\n",
       "    <tr>\n",
       "      <th>sasrec</th>\n",
       "      <td>0.277575</td>\n",
       "      <td>0.115102</td>\n",
       "      <td>849.132974</td>\n",
       "      <td>0.002450</td>\n",
       "      <td>1.0</td>\n",
       "    </tr>\n",
       "    <tr>\n",
       "      <th>hstu</th>\n",
       "      <td>0.302915</td>\n",
       "      <td>0.128473</td>\n",
       "      <td>910.585658</td>\n",
       "      <td>0.002675</td>\n",
       "      <td>1.0</td>\n",
       "    </tr>\n",
       "  </tbody>\n",
       "</table>\n",
       "</div>"
      ]
     },
     "execution_count": 46,
     "metadata": {},
     "output_type": "execute_result"
    }
   ],
   "execution_count": 46
  },
  {
   "metadata": {
    "ExecuteTime": {
     "end_time": "2025-06-25T13:18:00.756481Z",
     "start_time": "2025-06-15T16:41:52.643874Z"
    }
   },
   "cell_type": "code",
   "source": [
    "models_metrics = pivot_results.reset_index()[[\"model\", \"MAP@10\", \"Serendipity@10\"]]\n",
    "\n",
    "app = MetricsApp.construct(\n",
    "    models_metrics=models_metrics,\n",
    "    scatter_kwargs={\n",
    "        \"symbol_sequence\": ['circle', 'square', 'diamond', 'cross', 'x', 'star', 'pentagon'],\n",
    "    }\n",
    ")\n",
    "fig = app.fig\n",
    "fig.update_layout(title=\"Model CV metrics\", font={\"size\": 15})\n",
    "fig.update_traces(marker={'size': 9})\n",
    "fig.show(\"png\")"
   ],
   "outputs": [
    {
     "data": {
      "text/plain": [
       "VBox(children=(Tab(children=(VBox(children=(HBox(children=(Dropdown(description='Metric X:', options=('MAP@10'…"
      ],
      "application/vnd.jupyter.widget-view+json": {
       "version_major": 2,
       "version_minor": 0,
       "model_id": "28492daf0a7c432faa76f4a424ffc3b1"
      }
     },
     "metadata": {},
     "output_type": "display_data"
    },
    {
     "ename": "ValueError",
     "evalue": "\nImage export using the \"kaleido\" engine requires the kaleido package,\nwhich can be installed using pip:\n    $ pip install -U kaleido\n",
     "output_type": "error",
     "traceback": [
      "\u001B[0;31m---------------------------------------------------------------------------\u001B[0m",
      "\u001B[0;31mValueError\u001B[0m                                Traceback (most recent call last)",
      "Cell \u001B[0;32mIn[48], line 12\u001B[0m\n\u001B[1;32m     10\u001B[0m fig\u001B[38;5;241m.\u001B[39mupdate_layout(title\u001B[38;5;241m=\u001B[39m\u001B[38;5;124m\"\u001B[39m\u001B[38;5;124mModel CV metrics\u001B[39m\u001B[38;5;124m\"\u001B[39m, font\u001B[38;5;241m=\u001B[39m{\u001B[38;5;124m\"\u001B[39m\u001B[38;5;124msize\u001B[39m\u001B[38;5;124m\"\u001B[39m: \u001B[38;5;241m15\u001B[39m})\n\u001B[1;32m     11\u001B[0m fig\u001B[38;5;241m.\u001B[39mupdate_traces(marker\u001B[38;5;241m=\u001B[39m{\u001B[38;5;124m'\u001B[39m\u001B[38;5;124msize\u001B[39m\u001B[38;5;124m'\u001B[39m: \u001B[38;5;241m9\u001B[39m})\n\u001B[0;32m---> 12\u001B[0m \u001B[43mfig\u001B[49m\u001B[38;5;241;43m.\u001B[39;49m\u001B[43mshow\u001B[49m\u001B[43m(\u001B[49m\u001B[38;5;124;43m\"\u001B[39;49m\u001B[38;5;124;43mpng\u001B[39;49m\u001B[38;5;124;43m\"\u001B[39;49m\u001B[43m)\u001B[49m\n",
      "File \u001B[0;32m~/kuzin/python_project/RecTools/.venv/lib/python3.10/site-packages/plotly/basedatatypes.py:3410\u001B[0m, in \u001B[0;36mBaseFigure.show\u001B[0;34m(self, *args, **kwargs)\u001B[0m\n\u001B[1;32m   3377\u001B[0m \u001B[38;5;250m\u001B[39m\u001B[38;5;124;03m\"\"\"\u001B[39;00m\n\u001B[1;32m   3378\u001B[0m \u001B[38;5;124;03mShow a figure using either the default renderer(s) or the renderer(s)\u001B[39;00m\n\u001B[1;32m   3379\u001B[0m \u001B[38;5;124;03mspecified by the renderer argument\u001B[39;00m\n\u001B[0;32m   (...)\u001B[0m\n\u001B[1;32m   3406\u001B[0m \u001B[38;5;124;03mNone\u001B[39;00m\n\u001B[1;32m   3407\u001B[0m \u001B[38;5;124;03m\"\"\"\u001B[39;00m\n\u001B[1;32m   3408\u001B[0m \u001B[38;5;28;01mimport\u001B[39;00m \u001B[38;5;21;01mplotly\u001B[39;00m\u001B[38;5;21;01m.\u001B[39;00m\u001B[38;5;21;01mio\u001B[39;00m \u001B[38;5;28;01mas\u001B[39;00m \u001B[38;5;21;01mpio\u001B[39;00m\n\u001B[0;32m-> 3410\u001B[0m \u001B[38;5;28;01mreturn\u001B[39;00m \u001B[43mpio\u001B[49m\u001B[38;5;241;43m.\u001B[39;49m\u001B[43mshow\u001B[49m\u001B[43m(\u001B[49m\u001B[38;5;28;43mself\u001B[39;49m\u001B[43m,\u001B[49m\u001B[43m \u001B[49m\u001B[38;5;241;43m*\u001B[39;49m\u001B[43margs\u001B[49m\u001B[43m,\u001B[49m\u001B[43m \u001B[49m\u001B[38;5;241;43m*\u001B[39;49m\u001B[38;5;241;43m*\u001B[39;49m\u001B[43mkwargs\u001B[49m\u001B[43m)\u001B[49m\n",
      "File \u001B[0;32m~/kuzin/python_project/RecTools/.venv/lib/python3.10/site-packages/plotly/io/_renderers.py:386\u001B[0m, in \u001B[0;36mshow\u001B[0;34m(fig, renderer, validate, **kwargs)\u001B[0m\n\u001B[1;32m    383\u001B[0m fig_dict \u001B[38;5;241m=\u001B[39m validate_coerce_fig_to_dict(fig, validate)\n\u001B[1;32m    385\u001B[0m \u001B[38;5;66;03m# Mimetype renderers\u001B[39;00m\n\u001B[0;32m--> 386\u001B[0m bundle \u001B[38;5;241m=\u001B[39m \u001B[43mrenderers\u001B[49m\u001B[38;5;241;43m.\u001B[39;49m\u001B[43m_build_mime_bundle\u001B[49m\u001B[43m(\u001B[49m\u001B[43mfig_dict\u001B[49m\u001B[43m,\u001B[49m\u001B[43m \u001B[49m\u001B[43mrenderers_string\u001B[49m\u001B[38;5;241;43m=\u001B[39;49m\u001B[43mrenderer\u001B[49m\u001B[43m,\u001B[49m\u001B[43m \u001B[49m\u001B[38;5;241;43m*\u001B[39;49m\u001B[38;5;241;43m*\u001B[39;49m\u001B[43mkwargs\u001B[49m\u001B[43m)\u001B[49m\n\u001B[1;32m    387\u001B[0m \u001B[38;5;28;01mif\u001B[39;00m bundle:\n\u001B[1;32m    388\u001B[0m     \u001B[38;5;28;01mif\u001B[39;00m \u001B[38;5;129;01mnot\u001B[39;00m ipython_display:\n",
      "File \u001B[0;32m~/kuzin/python_project/RecTools/.venv/lib/python3.10/site-packages/plotly/io/_renderers.py:294\u001B[0m, in \u001B[0;36mRenderersConfig._build_mime_bundle\u001B[0;34m(self, fig_dict, renderers_string, **kwargs)\u001B[0m\n\u001B[1;32m    291\u001B[0m             \u001B[38;5;28;01mif\u001B[39;00m \u001B[38;5;28mhasattr\u001B[39m(renderer, k):\n\u001B[1;32m    292\u001B[0m                 \u001B[38;5;28msetattr\u001B[39m(renderer, k, v)\n\u001B[0;32m--> 294\u001B[0m         bundle\u001B[38;5;241m.\u001B[39mupdate(\u001B[43mrenderer\u001B[49m\u001B[38;5;241;43m.\u001B[39;49m\u001B[43mto_mimebundle\u001B[49m\u001B[43m(\u001B[49m\u001B[43mfig_dict\u001B[49m\u001B[43m)\u001B[49m)\n\u001B[1;32m    296\u001B[0m \u001B[38;5;28;01mreturn\u001B[39;00m bundle\n",
      "File \u001B[0;32m~/kuzin/python_project/RecTools/.venv/lib/python3.10/site-packages/plotly/io/_base_renderers.py:126\u001B[0m, in \u001B[0;36mImageRenderer.to_mimebundle\u001B[0;34m(self, fig_dict)\u001B[0m\n\u001B[1;32m    125\u001B[0m \u001B[38;5;28;01mdef\u001B[39;00m \u001B[38;5;21mto_mimebundle\u001B[39m(\u001B[38;5;28mself\u001B[39m, fig_dict):\n\u001B[0;32m--> 126\u001B[0m     image_bytes \u001B[38;5;241m=\u001B[39m \u001B[43mto_image\u001B[49m\u001B[43m(\u001B[49m\n\u001B[1;32m    127\u001B[0m \u001B[43m        \u001B[49m\u001B[43mfig_dict\u001B[49m\u001B[43m,\u001B[49m\n\u001B[1;32m    128\u001B[0m \u001B[43m        \u001B[49m\u001B[38;5;28;43mformat\u001B[39;49m\u001B[38;5;241;43m=\u001B[39;49m\u001B[38;5;28;43mself\u001B[39;49m\u001B[38;5;241;43m.\u001B[39;49m\u001B[43mformat\u001B[49m\u001B[43m,\u001B[49m\n\u001B[1;32m    129\u001B[0m \u001B[43m        \u001B[49m\u001B[43mwidth\u001B[49m\u001B[38;5;241;43m=\u001B[39;49m\u001B[38;5;28;43mself\u001B[39;49m\u001B[38;5;241;43m.\u001B[39;49m\u001B[43mwidth\u001B[49m\u001B[43m,\u001B[49m\n\u001B[1;32m    130\u001B[0m \u001B[43m        \u001B[49m\u001B[43mheight\u001B[49m\u001B[38;5;241;43m=\u001B[39;49m\u001B[38;5;28;43mself\u001B[39;49m\u001B[38;5;241;43m.\u001B[39;49m\u001B[43mheight\u001B[49m\u001B[43m,\u001B[49m\n\u001B[1;32m    131\u001B[0m \u001B[43m        \u001B[49m\u001B[43mscale\u001B[49m\u001B[38;5;241;43m=\u001B[39;49m\u001B[38;5;28;43mself\u001B[39;49m\u001B[38;5;241;43m.\u001B[39;49m\u001B[43mscale\u001B[49m\u001B[43m,\u001B[49m\n\u001B[1;32m    132\u001B[0m \u001B[43m        \u001B[49m\u001B[43mvalidate\u001B[49m\u001B[38;5;241;43m=\u001B[39;49m\u001B[38;5;28;43;01mFalse\u001B[39;49;00m\u001B[43m,\u001B[49m\n\u001B[1;32m    133\u001B[0m \u001B[43m        \u001B[49m\u001B[43mengine\u001B[49m\u001B[38;5;241;43m=\u001B[39;49m\u001B[38;5;28;43mself\u001B[39;49m\u001B[38;5;241;43m.\u001B[39;49m\u001B[43mengine\u001B[49m\u001B[43m,\u001B[49m\n\u001B[1;32m    134\u001B[0m \u001B[43m    \u001B[49m\u001B[43m)\u001B[49m\n\u001B[1;32m    136\u001B[0m     \u001B[38;5;28;01mif\u001B[39;00m \u001B[38;5;28mself\u001B[39m\u001B[38;5;241m.\u001B[39mb64_encode:\n\u001B[1;32m    137\u001B[0m         image_str \u001B[38;5;241m=\u001B[39m base64\u001B[38;5;241m.\u001B[39mb64encode(image_bytes)\u001B[38;5;241m.\u001B[39mdecode(\u001B[38;5;124m\"\u001B[39m\u001B[38;5;124mutf8\u001B[39m\u001B[38;5;124m\"\u001B[39m)\n",
      "File \u001B[0;32m~/kuzin/python_project/RecTools/.venv/lib/python3.10/site-packages/plotly/io/_kaleido.py:132\u001B[0m, in \u001B[0;36mto_image\u001B[0;34m(fig, format, width, height, scale, validate, engine)\u001B[0m\n\u001B[1;32m    130\u001B[0m     \u001B[38;5;66;03m# Raise informative error message if Kaleido is not installed\u001B[39;00m\n\u001B[1;32m    131\u001B[0m     \u001B[38;5;28;01mif\u001B[39;00m scope \u001B[38;5;129;01mis\u001B[39;00m \u001B[38;5;28;01mNone\u001B[39;00m:\n\u001B[0;32m--> 132\u001B[0m         \u001B[38;5;28;01mraise\u001B[39;00m \u001B[38;5;167;01mValueError\u001B[39;00m(\n\u001B[1;32m    133\u001B[0m \u001B[38;5;250m            \u001B[39m\u001B[38;5;124;03m\"\"\"\u001B[39;00m\n\u001B[1;32m    134\u001B[0m \u001B[38;5;124;03mImage export using the \"kaleido\" engine requires the kaleido package,\u001B[39;00m\n\u001B[1;32m    135\u001B[0m \u001B[38;5;124;03mwhich can be installed using pip:\u001B[39;00m\n\u001B[1;32m    136\u001B[0m \u001B[38;5;124;03m    $ pip install -U kaleido\u001B[39;00m\n\u001B[1;32m    137\u001B[0m \u001B[38;5;124;03m\"\"\"\u001B[39;00m\n\u001B[1;32m    138\u001B[0m         )\n\u001B[1;32m    140\u001B[0m     \u001B[38;5;66;03m# Validate figure\u001B[39;00m\n\u001B[1;32m    141\u001B[0m     \u001B[38;5;66;03m# ---------------\u001B[39;00m\n\u001B[1;32m    142\u001B[0m     fig_dict \u001B[38;5;241m=\u001B[39m validate_coerce_fig_to_dict(fig, validate)\n",
      "\u001B[0;31mValueError\u001B[0m: \nImage export using the \"kaleido\" engine requires the kaleido package,\nwhich can be installed using pip:\n    $ pip install -U kaleido\n"
     ]
    }
   ],
   "execution_count": 48
  },
  {
   "metadata": {
    "ExecuteTime": {
     "end_time": "2025-06-25T13:18:00.756481Z",
     "start_time": "2025-06-15T16:41:55.261906Z"
    }
   },
   "cell_type": "code",
   "source": [
    "def get_logs(model) -> tp.Tuple[pd.DataFrame, ...]:\n",
    "    log_path = os.path.join(model.fit_trainer.log_dir, \"metrics.csv\")\n",
    "    epoch_metrics_df = pd.read_csv(log_path)\n",
    "\n",
    "    loss_df = epoch_metrics_df[[\"epoch\", \"train_loss\"]].dropna()\n",
    "    val_loss_df = epoch_metrics_df[[\"epoch\", \"val_loss\"]].dropna()\n",
    "    loss_df = pd.merge(loss_df, val_loss_df, how=\"inner\", on=\"epoch\")\n",
    "    loss_df.reset_index(drop=True, inplace=True)\n",
    "\n",
    "    metrics_df = epoch_metrics_df.drop(columns=[\"train_loss\", \"val_loss\"]).dropna()\n",
    "    metrics_df.reset_index(drop=True, inplace=True)\n",
    "\n",
    "    return loss_df, metrics_df"
   ],
   "outputs": [],
   "execution_count": 49
  },
  {
   "metadata": {
    "ExecuteTime": {
     "end_time": "2025-06-25T13:18:00.756481Z",
     "start_time": "2025-06-15T16:41:55.736426Z"
    }
   },
   "cell_type": "code",
   "source": [
    "loss_df_hstu, metrics_df_hstu = get_logs(model_hstu)\n",
    "loss_df_sasrec, metrics_df_sasrec = get_logs(model_sasrec)"
   ],
   "outputs": [
    {
     "ename": "KeyError",
     "evalue": "\"['val_loss'] not in index\"",
     "output_type": "error",
     "traceback": [
      "\u001B[0;31m---------------------------------------------------------------------------\u001B[0m",
      "\u001B[0;31mKeyError\u001B[0m                                  Traceback (most recent call last)",
      "Cell \u001B[0;32mIn[50], line 1\u001B[0m\n\u001B[0;32m----> 1\u001B[0m loss_df_hstu, metrics_df_hstu \u001B[38;5;241m=\u001B[39m \u001B[43mget_logs\u001B[49m\u001B[43m(\u001B[49m\u001B[43mmodel_hstu\u001B[49m\u001B[43m)\u001B[49m\n\u001B[1;32m      2\u001B[0m loss_df_sasrec, metrics_df_sasrec \u001B[38;5;241m=\u001B[39m get_logs(model_sasrec)\n",
      "Cell \u001B[0;32mIn[49], line 6\u001B[0m, in \u001B[0;36mget_logs\u001B[0;34m(model)\u001B[0m\n\u001B[1;32m      3\u001B[0m epoch_metrics_df \u001B[38;5;241m=\u001B[39m pd\u001B[38;5;241m.\u001B[39mread_csv(log_path)\n\u001B[1;32m      5\u001B[0m loss_df \u001B[38;5;241m=\u001B[39m epoch_metrics_df[[\u001B[38;5;124m\"\u001B[39m\u001B[38;5;124mepoch\u001B[39m\u001B[38;5;124m\"\u001B[39m, \u001B[38;5;124m\"\u001B[39m\u001B[38;5;124mtrain_loss\u001B[39m\u001B[38;5;124m\"\u001B[39m]]\u001B[38;5;241m.\u001B[39mdropna()\n\u001B[0;32m----> 6\u001B[0m val_loss_df \u001B[38;5;241m=\u001B[39m \u001B[43mepoch_metrics_df\u001B[49m\u001B[43m[\u001B[49m\u001B[43m[\u001B[49m\u001B[38;5;124;43m\"\u001B[39;49m\u001B[38;5;124;43mepoch\u001B[39;49m\u001B[38;5;124;43m\"\u001B[39;49m\u001B[43m,\u001B[49m\u001B[43m \u001B[49m\u001B[38;5;124;43m\"\u001B[39;49m\u001B[38;5;124;43mval_loss\u001B[39;49m\u001B[38;5;124;43m\"\u001B[39;49m\u001B[43m]\u001B[49m\u001B[43m]\u001B[49m\u001B[38;5;241m.\u001B[39mdropna()\n\u001B[1;32m      7\u001B[0m loss_df \u001B[38;5;241m=\u001B[39m pd\u001B[38;5;241m.\u001B[39mmerge(loss_df, val_loss_df, how\u001B[38;5;241m=\u001B[39m\u001B[38;5;124m\"\u001B[39m\u001B[38;5;124minner\u001B[39m\u001B[38;5;124m\"\u001B[39m, on\u001B[38;5;241m=\u001B[39m\u001B[38;5;124m\"\u001B[39m\u001B[38;5;124mepoch\u001B[39m\u001B[38;5;124m\"\u001B[39m)\n\u001B[1;32m      8\u001B[0m loss_df\u001B[38;5;241m.\u001B[39mreset_index(drop\u001B[38;5;241m=\u001B[39m\u001B[38;5;28;01mTrue\u001B[39;00m, inplace\u001B[38;5;241m=\u001B[39m\u001B[38;5;28;01mTrue\u001B[39;00m)\n",
      "File \u001B[0;32m~/kuzin/python_project/RecTools/.venv/lib/python3.10/site-packages/pandas/core/frame.py:4108\u001B[0m, in \u001B[0;36mDataFrame.__getitem__\u001B[0;34m(self, key)\u001B[0m\n\u001B[1;32m   4106\u001B[0m     \u001B[38;5;28;01mif\u001B[39;00m is_iterator(key):\n\u001B[1;32m   4107\u001B[0m         key \u001B[38;5;241m=\u001B[39m \u001B[38;5;28mlist\u001B[39m(key)\n\u001B[0;32m-> 4108\u001B[0m     indexer \u001B[38;5;241m=\u001B[39m \u001B[38;5;28;43mself\u001B[39;49m\u001B[38;5;241;43m.\u001B[39;49m\u001B[43mcolumns\u001B[49m\u001B[38;5;241;43m.\u001B[39;49m\u001B[43m_get_indexer_strict\u001B[49m\u001B[43m(\u001B[49m\u001B[43mkey\u001B[49m\u001B[43m,\u001B[49m\u001B[43m \u001B[49m\u001B[38;5;124;43m\"\u001B[39;49m\u001B[38;5;124;43mcolumns\u001B[39;49m\u001B[38;5;124;43m\"\u001B[39;49m\u001B[43m)\u001B[49m[\u001B[38;5;241m1\u001B[39m]\n\u001B[1;32m   4110\u001B[0m \u001B[38;5;66;03m# take() does not accept boolean indexers\u001B[39;00m\n\u001B[1;32m   4111\u001B[0m \u001B[38;5;28;01mif\u001B[39;00m \u001B[38;5;28mgetattr\u001B[39m(indexer, \u001B[38;5;124m\"\u001B[39m\u001B[38;5;124mdtype\u001B[39m\u001B[38;5;124m\"\u001B[39m, \u001B[38;5;28;01mNone\u001B[39;00m) \u001B[38;5;241m==\u001B[39m \u001B[38;5;28mbool\u001B[39m:\n",
      "File \u001B[0;32m~/kuzin/python_project/RecTools/.venv/lib/python3.10/site-packages/pandas/core/indexes/base.py:6200\u001B[0m, in \u001B[0;36mIndex._get_indexer_strict\u001B[0;34m(self, key, axis_name)\u001B[0m\n\u001B[1;32m   6197\u001B[0m \u001B[38;5;28;01melse\u001B[39;00m:\n\u001B[1;32m   6198\u001B[0m     keyarr, indexer, new_indexer \u001B[38;5;241m=\u001B[39m \u001B[38;5;28mself\u001B[39m\u001B[38;5;241m.\u001B[39m_reindex_non_unique(keyarr)\n\u001B[0;32m-> 6200\u001B[0m \u001B[38;5;28;43mself\u001B[39;49m\u001B[38;5;241;43m.\u001B[39;49m\u001B[43m_raise_if_missing\u001B[49m\u001B[43m(\u001B[49m\u001B[43mkeyarr\u001B[49m\u001B[43m,\u001B[49m\u001B[43m \u001B[49m\u001B[43mindexer\u001B[49m\u001B[43m,\u001B[49m\u001B[43m \u001B[49m\u001B[43maxis_name\u001B[49m\u001B[43m)\u001B[49m\n\u001B[1;32m   6202\u001B[0m keyarr \u001B[38;5;241m=\u001B[39m \u001B[38;5;28mself\u001B[39m\u001B[38;5;241m.\u001B[39mtake(indexer)\n\u001B[1;32m   6203\u001B[0m \u001B[38;5;28;01mif\u001B[39;00m \u001B[38;5;28misinstance\u001B[39m(key, Index):\n\u001B[1;32m   6204\u001B[0m     \u001B[38;5;66;03m# GH 42790 - Preserve name from an Index\u001B[39;00m\n",
      "File \u001B[0;32m~/kuzin/python_project/RecTools/.venv/lib/python3.10/site-packages/pandas/core/indexes/base.py:6252\u001B[0m, in \u001B[0;36mIndex._raise_if_missing\u001B[0;34m(self, key, indexer, axis_name)\u001B[0m\n\u001B[1;32m   6249\u001B[0m     \u001B[38;5;28;01mraise\u001B[39;00m \u001B[38;5;167;01mKeyError\u001B[39;00m(\u001B[38;5;124mf\u001B[39m\u001B[38;5;124m\"\u001B[39m\u001B[38;5;124mNone of [\u001B[39m\u001B[38;5;132;01m{\u001B[39;00mkey\u001B[38;5;132;01m}\u001B[39;00m\u001B[38;5;124m] are in the [\u001B[39m\u001B[38;5;132;01m{\u001B[39;00maxis_name\u001B[38;5;132;01m}\u001B[39;00m\u001B[38;5;124m]\u001B[39m\u001B[38;5;124m\"\u001B[39m)\n\u001B[1;32m   6251\u001B[0m not_found \u001B[38;5;241m=\u001B[39m \u001B[38;5;28mlist\u001B[39m(ensure_index(key)[missing_mask\u001B[38;5;241m.\u001B[39mnonzero()[\u001B[38;5;241m0\u001B[39m]]\u001B[38;5;241m.\u001B[39munique())\n\u001B[0;32m-> 6252\u001B[0m \u001B[38;5;28;01mraise\u001B[39;00m \u001B[38;5;167;01mKeyError\u001B[39;00m(\u001B[38;5;124mf\u001B[39m\u001B[38;5;124m\"\u001B[39m\u001B[38;5;132;01m{\u001B[39;00mnot_found\u001B[38;5;132;01m}\u001B[39;00m\u001B[38;5;124m not in index\u001B[39m\u001B[38;5;124m\"\u001B[39m)\n",
      "\u001B[0;31mKeyError\u001B[0m: \"['val_loss'] not in index\""
     ]
    }
   ],
   "execution_count": 50
  },
  {
   "metadata": {
    "ExecuteTime": {
     "end_time": "2025-06-25T13:18:00.756481Z",
     "start_time": "2025-06-15T13:30:03.617125Z"
    }
   },
   "cell_type": "code",
   "source": "metrics_df_hstu",
   "outputs": [
    {
     "data": {
      "text/plain": [
       "     epoch  recall@10  step\n",
       "0        0   0.037258    47\n",
       "1        1   0.039410    95\n",
       "2        2   0.067892   143\n",
       "3        3   0.102335   191\n",
       "4        4   0.124690   239\n",
       "..     ...        ...   ...\n",
       "96      96   0.296903  4655\n",
       "97      97   0.303361  4703\n",
       "98      98   0.300381  4751\n",
       "99      99   0.302534  4799\n",
       "100    100   0.299718  4847\n",
       "\n",
       "[101 rows x 3 columns]"
      ],
      "text/html": [
       "<div>\n",
       "<style scoped>\n",
       "    .dataframe tbody tr th:only-of-type {\n",
       "        vertical-align: middle;\n",
       "    }\n",
       "\n",
       "    .dataframe tbody tr th {\n",
       "        vertical-align: top;\n",
       "    }\n",
       "\n",
       "    .dataframe thead th {\n",
       "        text-align: right;\n",
       "    }\n",
       "</style>\n",
       "<table border=\"1\" class=\"dataframe\">\n",
       "  <thead>\n",
       "    <tr style=\"text-align: right;\">\n",
       "      <th></th>\n",
       "      <th>epoch</th>\n",
       "      <th>recall@10</th>\n",
       "      <th>step</th>\n",
       "    </tr>\n",
       "  </thead>\n",
       "  <tbody>\n",
       "    <tr>\n",
       "      <th>0</th>\n",
       "      <td>0</td>\n",
       "      <td>0.037258</td>\n",
       "      <td>47</td>\n",
       "    </tr>\n",
       "    <tr>\n",
       "      <th>1</th>\n",
       "      <td>1</td>\n",
       "      <td>0.039410</td>\n",
       "      <td>95</td>\n",
       "    </tr>\n",
       "    <tr>\n",
       "      <th>2</th>\n",
       "      <td>2</td>\n",
       "      <td>0.067892</td>\n",
       "      <td>143</td>\n",
       "    </tr>\n",
       "    <tr>\n",
       "      <th>3</th>\n",
       "      <td>3</td>\n",
       "      <td>0.102335</td>\n",
       "      <td>191</td>\n",
       "    </tr>\n",
       "    <tr>\n",
       "      <th>4</th>\n",
       "      <td>4</td>\n",
       "      <td>0.124690</td>\n",
       "      <td>239</td>\n",
       "    </tr>\n",
       "    <tr>\n",
       "      <th>...</th>\n",
       "      <td>...</td>\n",
       "      <td>...</td>\n",
       "      <td>...</td>\n",
       "    </tr>\n",
       "    <tr>\n",
       "      <th>96</th>\n",
       "      <td>96</td>\n",
       "      <td>0.296903</td>\n",
       "      <td>4655</td>\n",
       "    </tr>\n",
       "    <tr>\n",
       "      <th>97</th>\n",
       "      <td>97</td>\n",
       "      <td>0.303361</td>\n",
       "      <td>4703</td>\n",
       "    </tr>\n",
       "    <tr>\n",
       "      <th>98</th>\n",
       "      <td>98</td>\n",
       "      <td>0.300381</td>\n",
       "      <td>4751</td>\n",
       "    </tr>\n",
       "    <tr>\n",
       "      <th>99</th>\n",
       "      <td>99</td>\n",
       "      <td>0.302534</td>\n",
       "      <td>4799</td>\n",
       "    </tr>\n",
       "    <tr>\n",
       "      <th>100</th>\n",
       "      <td>100</td>\n",
       "      <td>0.299718</td>\n",
       "      <td>4847</td>\n",
       "    </tr>\n",
       "  </tbody>\n",
       "</table>\n",
       "<p>101 rows × 3 columns</p>\n",
       "</div>"
      ]
     },
     "execution_count": 46,
     "metadata": {},
     "output_type": "execute_result"
    }
   ],
   "execution_count": 46
  },
  {
   "metadata": {
    "ExecuteTime": {
     "end_time": "2025-06-25T13:18:00.756481Z",
     "start_time": "2025-06-15T13:30:04.582511Z"
    }
   },
   "cell_type": "code",
   "source": "loss_df_hstu.plot(kind=\"line\", x=\"epoch\", title=\"Losses\");",
   "outputs": [
    {
     "data": {
      "text/plain": [
       "<Figure size 640x480 with 1 Axes>"
      ],
      "image/png": "[encoded data removed]"
     },
     "metadata": {},
     "output_type": "display_data"
    }
   ],
   "execution_count": 47
  },
  {
   "metadata": {
    "ExecuteTime": {
     "end_time": "2025-06-25T13:18:00.756481Z",
     "start_time": "2025-06-15T13:30:05.922585Z"
    }
   },
   "cell_type": "code",
   "source": "import seaborn as sns",
   "outputs": [],
   "execution_count": 48
  },
  {
   "metadata": {
    "ExecuteTime": {
     "end_time": "2025-06-25T13:18:00.757481500Z",
     "start_time": "2025-06-15T13:30:06.355856Z"
    }
   },
   "cell_type": "code",
   "source": [
    "import matplotlib.pyplot as plt\n",
    "\n",
    "# Создаем график\n",
    "plt.figure(figsize=(10, 6))\n",
    "\n",
    "plt.plot(metrics_df_hstu[\"epoch\"], metrics_df_hstu[\"recall@10\"], label=\"HSTU\")\n",
    "plt.plot(metrics_df_sasrec[\"epoch\"], metrics_df_sasrec[\"recall@10\"], label=\"SASRec\")\n",
    "plt.axvline(x=100, linestyle='--', color='r', label='Epoch 100')  \n",
    "\n",
    "\n",
    "plt.axhline(y=0.3, linestyle='--', color='g', label='Baseline 0.3') \n",
    "plt.title(\"recall@10\")\n",
    "plt.xlabel(\"Epoch\")\n",
    "plt.ylabel(\"Recall@10\")\n",
    "plt.legend()\n",
    "plt.grid(True)\n",
    "plt.show()"
   ],
   "outputs": [
    {
     "ename": "NameError",
     "evalue": "name 'metrics_df_sasrec' is not defined",
     "output_type": "error",
     "traceback": [
      "\u001B[0;31m---------------------------------------------------------------------------\u001B[0m",
      "\u001B[0;31mNameError\u001B[0m                                 Traceback (most recent call last)",
      "Cell \u001B[0;32mIn[49], line 7\u001B[0m\n\u001B[1;32m      4\u001B[0m plt\u001B[38;5;241m.\u001B[39mfigure(figsize\u001B[38;5;241m=\u001B[39m(\u001B[38;5;241m10\u001B[39m, \u001B[38;5;241m6\u001B[39m))\n\u001B[1;32m      6\u001B[0m plt\u001B[38;5;241m.\u001B[39mplot(metrics_df_hstu[\u001B[38;5;124m\"\u001B[39m\u001B[38;5;124mepoch\u001B[39m\u001B[38;5;124m\"\u001B[39m], metrics_df_hstu[\u001B[38;5;124m\"\u001B[39m\u001B[38;5;124mrecall@10\u001B[39m\u001B[38;5;124m\"\u001B[39m], label\u001B[38;5;241m=\u001B[39m\u001B[38;5;124m\"\u001B[39m\u001B[38;5;124mHSTU\u001B[39m\u001B[38;5;124m\"\u001B[39m)\n\u001B[0;32m----> 7\u001B[0m plt\u001B[38;5;241m.\u001B[39mplot(\u001B[43mmetrics_df_sasrec\u001B[49m[\u001B[38;5;124m\"\u001B[39m\u001B[38;5;124mepoch\u001B[39m\u001B[38;5;124m\"\u001B[39m], metrics_df_sasrec[\u001B[38;5;124m\"\u001B[39m\u001B[38;5;124mrecall@10\u001B[39m\u001B[38;5;124m\"\u001B[39m], label\u001B[38;5;241m=\u001B[39m\u001B[38;5;124m\"\u001B[39m\u001B[38;5;124mSASRec\u001B[39m\u001B[38;5;124m\"\u001B[39m)\n\u001B[1;32m      8\u001B[0m plt\u001B[38;5;241m.\u001B[39maxvline(x\u001B[38;5;241m=\u001B[39m\u001B[38;5;241m100\u001B[39m, linestyle\u001B[38;5;241m=\u001B[39m\u001B[38;5;124m'\u001B[39m\u001B[38;5;124m--\u001B[39m\u001B[38;5;124m'\u001B[39m, color\u001B[38;5;241m=\u001B[39m\u001B[38;5;124m'\u001B[39m\u001B[38;5;124mr\u001B[39m\u001B[38;5;124m'\u001B[39m, label\u001B[38;5;241m=\u001B[39m\u001B[38;5;124m'\u001B[39m\u001B[38;5;124mEpoch 100\u001B[39m\u001B[38;5;124m'\u001B[39m)  \n\u001B[1;32m     11\u001B[0m plt\u001B[38;5;241m.\u001B[39maxhline(y\u001B[38;5;241m=\u001B[39m\u001B[38;5;241m0.3\u001B[39m, linestyle\u001B[38;5;241m=\u001B[39m\u001B[38;5;124m'\u001B[39m\u001B[38;5;124m--\u001B[39m\u001B[38;5;124m'\u001B[39m, color\u001B[38;5;241m=\u001B[39m\u001B[38;5;124m'\u001B[39m\u001B[38;5;124mg\u001B[39m\u001B[38;5;124m'\u001B[39m, label\u001B[38;5;241m=\u001B[39m\u001B[38;5;124m'\u001B[39m\u001B[38;5;124mBaseline 0.3\u001B[39m\u001B[38;5;124m'\u001B[39m) \n",
      "\u001B[0;31mNameError\u001B[0m: name 'metrics_df_sasrec' is not defined"
     ]
    },
    {
     "data": {
      "text/plain": [
       "<Figure size 1000x600 with 1 Axes>"
      ],
      "image/png": "[encoded data removed]"
     },
     "metadata": {},
     "output_type": "display_data"
    }
   ],
   "execution_count": 49
  },
  {
   "metadata": {
    "ExecuteTime": {
     "end_time": "2025-06-25T13:18:00.757481500Z",
     "start_time": "2025-06-11T15:36:49.524110Z"
    }
   },
   "cell_type": "code",
   "source": [
    "import json\n",
    "\n",
    "# Предположим, cv_results — ваш объект (список словарей)\n",
    "cv_results = [\n",
    "    {\n",
    "        'test_users': 6038,\n",
    "        'test_items': 1925,\n",
    "        'metrics': [\n",
    "            {\n",
    "                'model': 'sasrec',\n",
    "                'i_split': 0,\n",
    "                'HitRate@10': 0.27459423650215303,\n",
    "                'MAP@10': 0.11777689711194182,\n",
    "                'AvgRecPopularity@10': 882.7419344153693,\n",
    "                'Serendipity@10': 0.0023704935337534707,\n",
    "                'CoveredUsers@10': 1.0\n",
    "            },\n",
    "            {\n",
    "                'model': 'hstu',\n",
    "                'i_split': 0,\n",
    "                'HitRate@10': 0.3024180192116595,\n",
    "                'MAP@10': 0.12857734349122224\n",
    "            }\n",
    "        ]\n",
    "    }\n",
    "]\n",
    "\n",
    "# Сохранение в файл\n",
    "with open('cv_results.json', 'w') as f:\n",
    "    json.dump(cv_results, f, indent=4)  # indent добавляет отступы для читаемости [[2]][[3]]\n",
    "\n",
    "# Если нужно получить строку JSON\n",
    "json_str = json.dumps(cv_results, indent=4)\n",
    "print(json_str)"
   ],
   "outputs": [
    {
     "name": "stdout",
     "output_type": "stream",
     "text": [
      "[\n",
      "    {\n",
      "        \"test_users\": 6038,\n",
      "        \"test_items\": 1925,\n",
      "        \"metrics\": [\n",
      "            {\n",
      "                \"model\": \"sasrec\",\n",
      "                \"i_split\": 0,\n",
      "                \"HitRate@10\": 0.27459423650215303,\n",
      "                \"MAP@10\": 0.11777689711194182,\n",
      "                \"AvgRecPopularity@10\": 882.7419344153693,\n",
      "                \"Serendipity@10\": 0.0023704935337534707,\n",
      "                \"CoveredUsers@10\": 1.0\n",
      "            },\n",
      "            {\n",
      "                \"model\": \"hstu\",\n",
      "                \"i_split\": 0,\n",
      "                \"HitRate@10\": 0.3024180192116595,\n",
      "                \"MAP@10\": 0.12857734349122224\n",
      "            }\n",
      "        ]\n",
      "    }\n",
      "]\n"
     ]
    }
   ],
   "execution_count": 46
  },
  {
   "cell_type": "markdown",
   "metadata": {},
   "source": [
    "Let's look at model logs. We can access logs directory with `model.fit_trainer.log_dir`"
   ]
  }
 ],
 "metadata": {
  "kernelspec": {
   "display_name": ".venv",
   "language": "python",
   "name": "python3"
  },
  "language_info": {
   "codemirror_mode": {
    "name": "ipython",
    "version": 3
   },
   "file_extension": ".py",
   "mimetype": "text/x-python",
   "name": "python",
   "nbconvert_exporter": "python",
   "pygments_lexer": "ipython3",
   "version": "3.10.13"
  }
 },
 "nbformat": 4,
 "nbformat_minor": 2
}
