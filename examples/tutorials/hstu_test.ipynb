{
 "cells": [
  {
   "cell_type": "markdown",
   "metadata": {},
   "source": [
    "# Transformer Models Advanced Training Guide\n",
    "This guide is showing advanced features of RecTools transformer models training.\n",
    "\n",
    "### Table of Contents\n",
    "\n",
    "* Prepare data\n",
    "* Advanced training guide\n",
    "    * Validation fold\n",
    "    * Validation loss\n",
    "    * Callback for Early Stopping\n",
    "    * Callbacks for Checkpoints\n",
    "        * Loading Checkpoints\n",
    "    * Callbacks for RecSys metrics\n",
    "        * RecSys metrics for Early Stopping anf Checkpoints\n",
    "* Advanced training full example\n",
    "    * Running full training with all of the described validation features on Kion dataset\n",
    "* More RecTools features for transformers\n",
    "    * Saving and loading models\n",
    "    * Configs for transformer models\n",
    "        * Classes and function in configs\n",
    "    * Multi-gpu training\n"
   ]
  },
  {
   "metadata": {
    "ExecuteTime": {
     "end_time": "2025-06-11T11:27:08.652204Z",
     "start_time": "2025-06-11T11:27:08.650034Z"
    }
   },
   "cell_type": "code",
   "source": "",
   "outputs": [],
   "execution_count": null
  },
  {
   "cell_type": "code",
   "metadata": {
    "ExecuteTime": {
     "end_time": "2025-06-11T11:27:11.532735Z",
     "start_time": "2025-06-11T11:27:08.945424Z"
    }
   },
   "source": [
    "import os\n",
    "import typing as tp\n",
    "import warnings\n",
    "\n",
    "import pandas as pd\n",
    "import numpy as np\n",
    "import torch\n",
    "from lightning_fabric import seed_everything\n",
    "from pytorch_lightning import Trainer, LightningModule\n",
    "from pytorch_lightning.loggers import CSVLogger\n",
    "from pytorch_lightning.callbacks import   Callback\n",
    "\n",
    "from rectools.dataset import Dataset\n",
    "from rectools.models import  SASRecModel\n",
    "from rectools.models import HSTUModel\n",
    "from rectools.models.nn.item_net import IdEmbeddingsItemNet\n",
    "from rectools import Columns, ExternalIds\n",
    "from scipy import sparse\n",
    "from pytorch_lightning.callbacks import EarlyStopping, ModelCheckpoint, Callback\n",
    "# Enable deterministic behaviour with CUDA >= 10.2\n",
    "os.environ[\"CUBLAS_WORKSPACE_CONFIG\"] = \":4096:8\"\n",
    "from rectools.model_selection import LastNSplitter, cross_validate_hstu\n",
    "warnings.simplefilter(\"ignore\", UserWarning)\n",
    "warnings.simplefilter(\"ignore\", FutureWarning)\n",
    "from rectools.metrics import (\n",
    "    MAP,\n",
    "    CoveredUsers,\n",
    "    AvgRecPopularity,\n",
    "    Intersection,\n",
    "    HitRate,\n",
    "    Serendipity,\n",
    ")\n",
    "from rectools.models import PopularModel, EASEModel, SASRecModel, BERT4RecModel\n",
    "from rectools.model_selection import TimeRangeSplitter, cross_validate\n",
    "from rectools.models.nn.item_net import CatFeaturesItemNet, IdEmbeddingsItemNet\n",
    "from rectools.visuals import MetricsApp\n"
   ],
   "outputs": [],
   "execution_count": 1
  },
  {
   "metadata": {
    "ExecuteTime": {
     "end_time": "2025-06-11T11:27:11.556192Z",
     "start_time": "2025-06-11T11:27:11.553322Z"
    }
   },
   "cell_type": "code",
   "source": [
    "import sys\n",
    "print(sys.executable)"
   ],
   "outputs": [
    {
     "name": "stdout",
     "output_type": "stream",
     "text": [
      "/home/student/kuzin/python_project/RecTools/.venv/bin/python3\n"
     ]
    }
   ],
   "execution_count": 2
  },
  {
   "metadata": {
    "ExecuteTime": {
     "end_time": "2025-06-11T11:27:11.638986Z",
     "start_time": "2025-06-11T11:27:11.634858Z"
    }
   },
   "cell_type": "code",
   "source": [
    "import cffi\n",
    "import zmq  # pyzmq\n",
    "import notebook  # jupyter"
   ],
   "outputs": [],
   "execution_count": 3
  },
  {
   "cell_type": "markdown",
   "metadata": {},
   "source": [
    "## Prepare data"
   ]
  },
  {
   "metadata": {},
   "cell_type": "markdown",
   "source": [
    "%%time\n",
    "!wget -q https://files.grouplens.org/datasets/movielens/ml-1m.zip -O ml-1m.zip\n",
    "!unzip -o ml-1m.zip\n",
    "!rm ml-1m.zip"
   ]
  },
  {
   "cell_type": "code",
   "metadata": {
    "ExecuteTime": {
     "end_time": "2025-06-11T11:27:15.172987Z",
     "start_time": "2025-06-11T11:27:11.697241Z"
    }
   },
   "source": [
    "%%time\n",
    "ratings = pd.read_csv(\n",
    "    \"ml-1m/ratings.dat\", \n",
    "    sep=\"::\",\n",
    "    engine=\"python\",  # Because of 2-chars separators\n",
    "    header=None,\n",
    "    names=[Columns.User, Columns.Item, Columns.Weight, Columns.Datetime],\n",
    ")\n",
    "print(ratings.shape)\n",
    "ratings[Columns.Weight] = 1\n",
    "ratings.head()"
   ],
   "outputs": [
    {
     "name": "stdout",
     "output_type": "stream",
     "text": [
      "(1000209, 4)\n",
      "CPU times: user 3.29 s, sys: 181 ms, total: 3.47 s\n",
      "Wall time: 3.47 s\n"
     ]
    },
    {
     "data": {
      "text/plain": [
       "   user_id  item_id  weight   datetime\n",
       "0        1     1193       1  978300760\n",
       "1        1      661       1  978302109\n",
       "2        1      914       1  978301968\n",
       "3        1     3408       1  978300275\n",
       "4        1     2355       1  978824291"
      ],
      "text/html": [
       "<div>\n",
       "<style scoped>\n",
       "    .dataframe tbody tr th:only-of-type {\n",
       "        vertical-align: middle;\n",
       "    }\n",
       "\n",
       "    .dataframe tbody tr th {\n",
       "        vertical-align: top;\n",
       "    }\n",
       "\n",
       "    .dataframe thead th {\n",
       "        text-align: right;\n",
       "    }\n",
       "</style>\n",
       "<table border=\"1\" class=\"dataframe\">\n",
       "  <thead>\n",
       "    <tr style=\"text-align: right;\">\n",
       "      <th></th>\n",
       "      <th>user_id</th>\n",
       "      <th>item_id</th>\n",
       "      <th>weight</th>\n",
       "      <th>datetime</th>\n",
       "    </tr>\n",
       "  </thead>\n",
       "  <tbody>\n",
       "    <tr>\n",
       "      <th>0</th>\n",
       "      <td>1</td>\n",
       "      <td>1193</td>\n",
       "      <td>1</td>\n",
       "      <td>978300760</td>\n",
       "    </tr>\n",
       "    <tr>\n",
       "      <th>1</th>\n",
       "      <td>1</td>\n",
       "      <td>661</td>\n",
       "      <td>1</td>\n",
       "      <td>978302109</td>\n",
       "    </tr>\n",
       "    <tr>\n",
       "      <th>2</th>\n",
       "      <td>1</td>\n",
       "      <td>914</td>\n",
       "      <td>1</td>\n",
       "      <td>978301968</td>\n",
       "    </tr>\n",
       "    <tr>\n",
       "      <th>3</th>\n",
       "      <td>1</td>\n",
       "      <td>3408</td>\n",
       "      <td>1</td>\n",
       "      <td>978300275</td>\n",
       "    </tr>\n",
       "    <tr>\n",
       "      <th>4</th>\n",
       "      <td>1</td>\n",
       "      <td>2355</td>\n",
       "      <td>1</td>\n",
       "      <td>978824291</td>\n",
       "    </tr>\n",
       "  </tbody>\n",
       "</table>\n",
       "</div>"
      ]
     },
     "execution_count": 4,
     "metadata": {},
     "output_type": "execute_result"
    }
   ],
   "execution_count": 4
  },
  {
   "metadata": {
    "ExecuteTime": {
     "end_time": "2025-06-11T11:27:15.237541Z",
     "start_time": "2025-06-11T11:27:15.233229Z"
    }
   },
   "cell_type": "code",
   "source": "ratings[Columns.Datetime] = ratings[Columns.Datetime].astype(\"datetime64[s]\")",
   "outputs": [],
   "execution_count": 5
  },
  {
   "metadata": {
    "ExecuteTime": {
     "end_time": "2025-06-11T11:27:15.308998Z",
     "start_time": "2025-06-11T11:27:15.303329Z"
    }
   },
   "cell_type": "code",
   "source": [
    "nan_count = ratings.isna().sum()\n",
    "print(f\"Количество NaN в колонке '{Columns.Datetime}': {nan_count}\")"
   ],
   "outputs": [
    {
     "name": "stdout",
     "output_type": "stream",
     "text": [
      "Количество NaN в колонке 'datetime': user_id     0\n",
      "item_id     0\n",
      "weight      0\n",
      "datetime    0\n",
      "dtype: int64\n"
     ]
    }
   ],
   "execution_count": 6
  },
  {
   "metadata": {
    "ExecuteTime": {
     "end_time": "2025-06-11T11:27:15.535027Z",
     "start_time": "2025-06-11T11:27:15.454585Z"
    }
   },
   "cell_type": "code",
   "source": "dataset = Dataset.construct(ratings)",
   "outputs": [],
   "execution_count": 7
  },
  {
   "metadata": {
    "ExecuteTime": {
     "end_time": "2025-06-11T11:27:15.669576Z",
     "start_time": "2025-06-11T11:27:15.666547Z"
    }
   },
   "cell_type": "code",
   "source": "dataset.interactions.df.shape",
   "outputs": [
    {
     "data": {
      "text/plain": [
       "(1000209, 4)"
      ]
     },
     "execution_count": 8,
     "metadata": {},
     "output_type": "execute_result"
    }
   ],
   "execution_count": 8
  },
  {
   "cell_type": "code",
   "metadata": {
    "ExecuteTime": {
     "end_time": "2025-06-11T11:27:15.742579Z",
     "start_time": "2025-06-11T11:27:15.737768Z"
    }
   },
   "source": [
    "RANDOM_STATE=60\n",
    "torch.use_deterministic_algorithms(True)\n",
    "seed_everything(RANDOM_STATE, workers=True)"
   ],
   "outputs": [
    {
     "name": "stderr",
     "output_type": "stream",
     "text": [
      "Seed set to 60\n"
     ]
    },
    {
     "data": {
      "text/plain": [
       "60"
      ]
     },
     "execution_count": 9,
     "metadata": {},
     "output_type": "execute_result"
    }
   ],
   "execution_count": 9
  },
  {
   "metadata": {
    "ExecuteTime": {
     "end_time": "2025-06-11T11:27:15.959168Z",
     "start_time": "2025-06-11T11:27:15.846007Z"
    }
   },
   "cell_type": "code",
   "source": [
    "paper_df =   pd.read_csv(\"sasrec_format.csv\")\n",
    "paper_df.head()"
   ],
   "outputs": [
    {
     "data": {
      "text/plain": [
       "   index  user_id                                  sequence_item_ids  \\\n",
       "0   4260     4261  260,2302,2312,2154,902,2616,745,720,3429,1223,...   \n",
       "1   4645     4646  337,2587,409,260,1210,1288,2153,2858,3147,2959...   \n",
       "2    990      991  2670,278,1968,1198,1097,1235,2396,1277,2243,91...   \n",
       "3   4261     4262  1097,1226,1373,858,1081,1173,3751,3770,3763,37...   \n",
       "4   3297     3298  1746,2496,1805,1993,1614,3095,2858,2188,2706,2...   \n",
       "\n",
       "                                    sequence_ratings  \\\n",
       "0  5,4,3,3,3,2,5,3,3,5,3,5,3,4,3,5,3,5,5,5,4,3,5,...   \n",
       "1  3,2,2,4,4,2,1,5,4,2,3,4,3,3,4,4,1,1,3,5,5,3,4,...   \n",
       "2  2,3,4,4,2,5,3,3,4,4,3,3,4,3,4,4,4,3,5,3,4,3,5,...   \n",
       "3  4,5,4,5,4,2,5,3,3,3,4,5,4,3,4,4,3,4,4,5,4,4,4,...   \n",
       "4  3,3,5,2,5,4,5,4,4,3,4,5,5,5,5,4,5,5,4,4,5,5,5,...   \n",
       "\n",
       "                                 sequence_timestamps  sex  age_group  \\\n",
       "0  965305148,965305148,965305189,965305189,965305...    0          3   \n",
       "1  963968496,963968496,963968496,963968496,963968...    0          2   \n",
       "2  975086183,975086297,975086297,975086414,975086...    0          2   \n",
       "3  965305021,965305021,965305046,965305046,965305...    0          3   \n",
       "4  968047151,968047191,968047228,968047285,968047...    1          0   \n",
       "\n",
       "   occupation  zip_code  \n",
       "0           6       346  \n",
       "1           6      2796  \n",
       "2           9      1597  \n",
       "3           6       286  \n",
       "4          10       822  "
      ],
      "text/html": [
       "<div>\n",
       "<style scoped>\n",
       "    .dataframe tbody tr th:only-of-type {\n",
       "        vertical-align: middle;\n",
       "    }\n",
       "\n",
       "    .dataframe tbody tr th {\n",
       "        vertical-align: top;\n",
       "    }\n",
       "\n",
       "    .dataframe thead th {\n",
       "        text-align: right;\n",
       "    }\n",
       "</style>\n",
       "<table border=\"1\" class=\"dataframe\">\n",
       "  <thead>\n",
       "    <tr style=\"text-align: right;\">\n",
       "      <th></th>\n",
       "      <th>index</th>\n",
       "      <th>user_id</th>\n",
       "      <th>sequence_item_ids</th>\n",
       "      <th>sequence_ratings</th>\n",
       "      <th>sequence_timestamps</th>\n",
       "      <th>sex</th>\n",
       "      <th>age_group</th>\n",
       "      <th>occupation</th>\n",
       "      <th>zip_code</th>\n",
       "    </tr>\n",
       "  </thead>\n",
       "  <tbody>\n",
       "    <tr>\n",
       "      <th>0</th>\n",
       "      <td>4260</td>\n",
       "      <td>4261</td>\n",
       "      <td>260,2302,2312,2154,902,2616,745,720,3429,1223,...</td>\n",
       "      <td>5,4,3,3,3,2,5,3,3,5,3,5,3,4,3,5,3,5,5,5,4,3,5,...</td>\n",
       "      <td>965305148,965305148,965305189,965305189,965305...</td>\n",
       "      <td>0</td>\n",
       "      <td>3</td>\n",
       "      <td>6</td>\n",
       "      <td>346</td>\n",
       "    </tr>\n",
       "    <tr>\n",
       "      <th>1</th>\n",
       "      <td>4645</td>\n",
       "      <td>4646</td>\n",
       "      <td>337,2587,409,260,1210,1288,2153,2858,3147,2959...</td>\n",
       "      <td>3,2,2,4,4,2,1,5,4,2,3,4,3,3,4,4,1,1,3,5,5,3,4,...</td>\n",
       "      <td>963968496,963968496,963968496,963968496,963968...</td>\n",
       "      <td>0</td>\n",
       "      <td>2</td>\n",
       "      <td>6</td>\n",
       "      <td>2796</td>\n",
       "    </tr>\n",
       "    <tr>\n",
       "      <th>2</th>\n",
       "      <td>990</td>\n",
       "      <td>991</td>\n",
       "      <td>2670,278,1968,1198,1097,1235,2396,1277,2243,91...</td>\n",
       "      <td>2,3,4,4,2,5,3,3,4,4,3,3,4,3,4,4,4,3,5,3,4,3,5,...</td>\n",
       "      <td>975086183,975086297,975086297,975086414,975086...</td>\n",
       "      <td>0</td>\n",
       "      <td>2</td>\n",
       "      <td>9</td>\n",
       "      <td>1597</td>\n",
       "    </tr>\n",
       "    <tr>\n",
       "      <th>3</th>\n",
       "      <td>4261</td>\n",
       "      <td>4262</td>\n",
       "      <td>1097,1226,1373,858,1081,1173,3751,3770,3763,37...</td>\n",
       "      <td>4,5,4,5,4,2,5,3,3,3,4,5,4,3,4,4,3,4,4,5,4,4,4,...</td>\n",
       "      <td>965305021,965305021,965305046,965305046,965305...</td>\n",
       "      <td>0</td>\n",
       "      <td>3</td>\n",
       "      <td>6</td>\n",
       "      <td>286</td>\n",
       "    </tr>\n",
       "    <tr>\n",
       "      <th>4</th>\n",
       "      <td>3297</td>\n",
       "      <td>3298</td>\n",
       "      <td>1746,2496,1805,1993,1614,3095,2858,2188,2706,2...</td>\n",
       "      <td>3,3,5,2,5,4,5,4,4,3,4,5,5,5,5,4,5,5,4,4,5,5,5,...</td>\n",
       "      <td>968047151,968047191,968047228,968047285,968047...</td>\n",
       "      <td>1</td>\n",
       "      <td>0</td>\n",
       "      <td>10</td>\n",
       "      <td>822</td>\n",
       "    </tr>\n",
       "  </tbody>\n",
       "</table>\n",
       "</div>"
      ]
     },
     "execution_count": 10,
     "metadata": {},
     "output_type": "execute_result"
    }
   ],
   "execution_count": 10
  },
  {
   "metadata": {
    "ExecuteTime": {
     "end_time": "2025-06-11T11:27:16.006138Z",
     "start_time": "2025-06-11T11:27:16.003123Z"
    }
   },
   "cell_type": "code",
   "source": "paper_df = paper_df[[\"index\",\"user_id\", \"sequence_item_ids\", \"sequence_ratings\", \"sequence_timestamps\"]]",
   "outputs": [],
   "execution_count": 11
  },
  {
   "metadata": {
    "ExecuteTime": {
     "end_time": "2025-06-11T11:27:19.612335Z",
     "start_time": "2025-06-11T11:27:16.072237Z"
    }
   },
   "cell_type": "code",
   "source": [
    "import pandas as pd\n",
    "import ast\n",
    "\n",
    "cols_to_expand = [\"sequence_item_ids\", \"sequence_ratings\", \"sequence_timestamps\"]\n",
    "\n",
    "# Преобразуем строки в списки\n",
    "for col in cols_to_expand:\n",
    "    paper_df[col] = paper_df[col].apply(ast.literal_eval)\n",
    "\n",
    "# Разбираем на отдельные строки\n",
    "expanded_df = paper_df[[\"user_id\"] + cols_to_expand]\n",
    "expanded_df = expanded_df.explode(cols_to_expand)\n",
    "\n",
    "# Переименовываем\n",
    "expanded_df = expanded_df.rename(columns={\n",
    "    \"sequence_item_ids\": \"item_id\",\n",
    "    \"sequence_ratings\": \"rating\",\n",
    "    \"sequence_timestamps\": \"timestamp\"\n",
    "})\n",
    "\n",
    "# Приводим к правильным типам\n",
    "expanded_df[\"item_id\"] = expanded_df[\"item_id\"].astype(int)\n",
    "expanded_df[\"rating\"] = expanded_df[\"rating\"].astype(float)\n",
    "expanded_df[\"timestamp\"] = expanded_df[\"timestamp\"].astype(int)\n",
    "\n",
    "# Преобразуем Unix timestamp в datetime\n",
    "expanded_df[\"datetime\"] = pd.to_datetime(expanded_df[\"timestamp\"], unit=\"s\")\n",
    "\n",
    "# Убираем временный столбец с timestamp, если не нужен\n",
    "expanded_df = expanded_df.drop(columns=[\"timestamp\"])\n",
    "\n",
    "# Сбрасываем индекс\n",
    "expanded_df.reset_index(drop=True, inplace=True)"
   ],
   "outputs": [],
   "execution_count": 12
  },
  {
   "metadata": {
    "ExecuteTime": {
     "end_time": "2025-06-11T11:27:19.644856Z",
     "start_time": "2025-06-11T11:27:19.638258Z"
    }
   },
   "cell_type": "code",
   "source": "expanded_df",
   "outputs": [
    {
     "data": {
      "text/plain": [
       "         user_id  item_id  rating            datetime\n",
       "0           4261      260     5.0 2000-08-03 12:19:08\n",
       "1           4261     2302     4.0 2000-08-03 12:19:08\n",
       "2           4261     2312     3.0 2000-08-03 12:19:49\n",
       "3           4261     2154     3.0 2000-08-03 12:19:49\n",
       "4           4261      902     3.0 2000-08-03 12:19:49\n",
       "...          ...      ...     ...                 ...\n",
       "1000204     5824     2381     2.0 2000-05-10 15:04:25\n",
       "1000205     5824      473     1.0 2000-05-10 15:04:25\n",
       "1000206     5824     2799     1.0 2000-05-10 15:04:53\n",
       "1000207     5824     2382     1.0 2000-05-10 15:05:14\n",
       "1000208     5824     2809     1.0 2000-05-10 15:05:14\n",
       "\n",
       "[1000209 rows x 4 columns]"
      ],
      "text/html": [
       "<div>\n",
       "<style scoped>\n",
       "    .dataframe tbody tr th:only-of-type {\n",
       "        vertical-align: middle;\n",
       "    }\n",
       "\n",
       "    .dataframe tbody tr th {\n",
       "        vertical-align: top;\n",
       "    }\n",
       "\n",
       "    .dataframe thead th {\n",
       "        text-align: right;\n",
       "    }\n",
       "</style>\n",
       "<table border=\"1\" class=\"dataframe\">\n",
       "  <thead>\n",
       "    <tr style=\"text-align: right;\">\n",
       "      <th></th>\n",
       "      <th>user_id</th>\n",
       "      <th>item_id</th>\n",
       "      <th>rating</th>\n",
       "      <th>datetime</th>\n",
       "    </tr>\n",
       "  </thead>\n",
       "  <tbody>\n",
       "    <tr>\n",
       "      <th>0</th>\n",
       "      <td>4261</td>\n",
       "      <td>260</td>\n",
       "      <td>5.0</td>\n",
       "      <td>2000-08-03 12:19:08</td>\n",
       "    </tr>\n",
       "    <tr>\n",
       "      <th>1</th>\n",
       "      <td>4261</td>\n",
       "      <td>2302</td>\n",
       "      <td>4.0</td>\n",
       "      <td>2000-08-03 12:19:08</td>\n",
       "    </tr>\n",
       "    <tr>\n",
       "      <th>2</th>\n",
       "      <td>4261</td>\n",
       "      <td>2312</td>\n",
       "      <td>3.0</td>\n",
       "      <td>2000-08-03 12:19:49</td>\n",
       "    </tr>\n",
       "    <tr>\n",
       "      <th>3</th>\n",
       "      <td>4261</td>\n",
       "      <td>2154</td>\n",
       "      <td>3.0</td>\n",
       "      <td>2000-08-03 12:19:49</td>\n",
       "    </tr>\n",
       "    <tr>\n",
       "      <th>4</th>\n",
       "      <td>4261</td>\n",
       "      <td>902</td>\n",
       "      <td>3.0</td>\n",
       "      <td>2000-08-03 12:19:49</td>\n",
       "    </tr>\n",
       "    <tr>\n",
       "      <th>...</th>\n",
       "      <td>...</td>\n",
       "      <td>...</td>\n",
       "      <td>...</td>\n",
       "      <td>...</td>\n",
       "    </tr>\n",
       "    <tr>\n",
       "      <th>1000204</th>\n",
       "      <td>5824</td>\n",
       "      <td>2381</td>\n",
       "      <td>2.0</td>\n",
       "      <td>2000-05-10 15:04:25</td>\n",
       "    </tr>\n",
       "    <tr>\n",
       "      <th>1000205</th>\n",
       "      <td>5824</td>\n",
       "      <td>473</td>\n",
       "      <td>1.0</td>\n",
       "      <td>2000-05-10 15:04:25</td>\n",
       "    </tr>\n",
       "    <tr>\n",
       "      <th>1000206</th>\n",
       "      <td>5824</td>\n",
       "      <td>2799</td>\n",
       "      <td>1.0</td>\n",
       "      <td>2000-05-10 15:04:53</td>\n",
       "    </tr>\n",
       "    <tr>\n",
       "      <th>1000207</th>\n",
       "      <td>5824</td>\n",
       "      <td>2382</td>\n",
       "      <td>1.0</td>\n",
       "      <td>2000-05-10 15:05:14</td>\n",
       "    </tr>\n",
       "    <tr>\n",
       "      <th>1000208</th>\n",
       "      <td>5824</td>\n",
       "      <td>2809</td>\n",
       "      <td>1.0</td>\n",
       "      <td>2000-05-10 15:05:14</td>\n",
       "    </tr>\n",
       "  </tbody>\n",
       "</table>\n",
       "<p>1000209 rows × 4 columns</p>\n",
       "</div>"
      ]
     },
     "execution_count": 13,
     "metadata": {},
     "output_type": "execute_result"
    }
   ],
   "execution_count": 13
  },
  {
   "metadata": {
    "ExecuteTime": {
     "end_time": "2025-06-11T11:27:19.724717Z",
     "start_time": "2025-06-11T11:27:19.713372Z"
    }
   },
   "cell_type": "code",
   "source": [
    "result = expanded_df[[\"user_id\", \"item_id\", \"datetime\"]]\n",
    "result[\"weight\"] = 1\n",
    "result"
   ],
   "outputs": [
    {
     "data": {
      "text/plain": [
       "         user_id  item_id            datetime  weight\n",
       "0           4261      260 2000-08-03 12:19:08       1\n",
       "1           4261     2302 2000-08-03 12:19:08       1\n",
       "2           4261     2312 2000-08-03 12:19:49       1\n",
       "3           4261     2154 2000-08-03 12:19:49       1\n",
       "4           4261      902 2000-08-03 12:19:49       1\n",
       "...          ...      ...                 ...     ...\n",
       "1000204     5824     2381 2000-05-10 15:04:25       1\n",
       "1000205     5824      473 2000-05-10 15:04:25       1\n",
       "1000206     5824     2799 2000-05-10 15:04:53       1\n",
       "1000207     5824     2382 2000-05-10 15:05:14       1\n",
       "1000208     5824     2809 2000-05-10 15:05:14       1\n",
       "\n",
       "[1000209 rows x 4 columns]"
      ],
      "text/html": [
       "<div>\n",
       "<style scoped>\n",
       "    .dataframe tbody tr th:only-of-type {\n",
       "        vertical-align: middle;\n",
       "    }\n",
       "\n",
       "    .dataframe tbody tr th {\n",
       "        vertical-align: top;\n",
       "    }\n",
       "\n",
       "    .dataframe thead th {\n",
       "        text-align: right;\n",
       "    }\n",
       "</style>\n",
       "<table border=\"1\" class=\"dataframe\">\n",
       "  <thead>\n",
       "    <tr style=\"text-align: right;\">\n",
       "      <th></th>\n",
       "      <th>user_id</th>\n",
       "      <th>item_id</th>\n",
       "      <th>datetime</th>\n",
       "      <th>weight</th>\n",
       "    </tr>\n",
       "  </thead>\n",
       "  <tbody>\n",
       "    <tr>\n",
       "      <th>0</th>\n",
       "      <td>4261</td>\n",
       "      <td>260</td>\n",
       "      <td>2000-08-03 12:19:08</td>\n",
       "      <td>1</td>\n",
       "    </tr>\n",
       "    <tr>\n",
       "      <th>1</th>\n",
       "      <td>4261</td>\n",
       "      <td>2302</td>\n",
       "      <td>2000-08-03 12:19:08</td>\n",
       "      <td>1</td>\n",
       "    </tr>\n",
       "    <tr>\n",
       "      <th>2</th>\n",
       "      <td>4261</td>\n",
       "      <td>2312</td>\n",
       "      <td>2000-08-03 12:19:49</td>\n",
       "      <td>1</td>\n",
       "    </tr>\n",
       "    <tr>\n",
       "      <th>3</th>\n",
       "      <td>4261</td>\n",
       "      <td>2154</td>\n",
       "      <td>2000-08-03 12:19:49</td>\n",
       "      <td>1</td>\n",
       "    </tr>\n",
       "    <tr>\n",
       "      <th>4</th>\n",
       "      <td>4261</td>\n",
       "      <td>902</td>\n",
       "      <td>2000-08-03 12:19:49</td>\n",
       "      <td>1</td>\n",
       "    </tr>\n",
       "    <tr>\n",
       "      <th>...</th>\n",
       "      <td>...</td>\n",
       "      <td>...</td>\n",
       "      <td>...</td>\n",
       "      <td>...</td>\n",
       "    </tr>\n",
       "    <tr>\n",
       "      <th>1000204</th>\n",
       "      <td>5824</td>\n",
       "      <td>2381</td>\n",
       "      <td>2000-05-10 15:04:25</td>\n",
       "      <td>1</td>\n",
       "    </tr>\n",
       "    <tr>\n",
       "      <th>1000205</th>\n",
       "      <td>5824</td>\n",
       "      <td>473</td>\n",
       "      <td>2000-05-10 15:04:25</td>\n",
       "      <td>1</td>\n",
       "    </tr>\n",
       "    <tr>\n",
       "      <th>1000206</th>\n",
       "      <td>5824</td>\n",
       "      <td>2799</td>\n",
       "      <td>2000-05-10 15:04:53</td>\n",
       "      <td>1</td>\n",
       "    </tr>\n",
       "    <tr>\n",
       "      <th>1000207</th>\n",
       "      <td>5824</td>\n",
       "      <td>2382</td>\n",
       "      <td>2000-05-10 15:05:14</td>\n",
       "      <td>1</td>\n",
       "    </tr>\n",
       "    <tr>\n",
       "      <th>1000208</th>\n",
       "      <td>5824</td>\n",
       "      <td>2809</td>\n",
       "      <td>2000-05-10 15:05:14</td>\n",
       "      <td>1</td>\n",
       "    </tr>\n",
       "  </tbody>\n",
       "</table>\n",
       "<p>1000209 rows × 4 columns</p>\n",
       "</div>"
      ]
     },
     "execution_count": 14,
     "metadata": {},
     "output_type": "execute_result"
    }
   ],
   "execution_count": 14
  },
  {
   "metadata": {
    "ExecuteTime": {
     "end_time": "2025-06-11T11:27:19.933738Z",
     "start_time": "2025-06-11T11:27:19.894177Z"
    }
   },
   "cell_type": "code",
   "source": "dataset = Dataset.construct(result)",
   "outputs": [],
   "execution_count": 15
  },
  {
   "metadata": {
    "ExecuteTime": {
     "end_time": "2025-06-11T11:27:20.037047Z",
     "start_time": "2025-06-11T11:27:20.034684Z"
    }
   },
   "cell_type": "code",
   "source": [
    "splitter = LastNSplitter(1,1)\n",
    "train_dataset = None\n",
    "test_df = None"
   ],
   "outputs": [],
   "execution_count": 16
  },
  {
   "metadata": {
    "ExecuteTime": {
     "end_time": "2025-06-11T11:27:20.185624Z",
     "start_time": "2025-06-11T11:27:20.183372Z"
    }
   },
   "cell_type": "code",
   "source": "split_iterator = splitter.split(dataset.interactions, collect_fold_stats=True)",
   "outputs": [],
   "execution_count": 17
  },
  {
   "metadata": {
    "ExecuteTime": {
     "end_time": "2025-06-11T11:27:20.443412Z",
     "start_time": "2025-06-11T11:27:20.250364Z"
    }
   },
   "cell_type": "code",
   "source": [
    "for train_ids, test_ids, split_info in split_iterator:\n",
    "    \n",
    "    fold_dataset = dataset.filter_interactions(\n",
    "        row_indexes_to_keep=train_ids,\n",
    "        keep_external_ids=True,\n",
    "    )\n",
    "    interactions_df_test = dataset.interactions.df.loc[test_ids]\n",
    "    interactions_df_test[Columns.User] = dataset.user_id_map.convert_to_external(interactions_df_test[Columns.User])\n",
    "    interactions_df_test[Columns.Item] = dataset.item_id_map.convert_to_external(interactions_df_test[Columns.Item])\n",
    "    train_dataset = fold_dataset\n",
    "    test_df  =interactions_df_test "
   ],
   "outputs": [],
   "execution_count": 18
  },
  {
   "metadata": {
    "ExecuteTime": {
     "end_time": "2025-06-11T11:27:20.475466Z",
     "start_time": "2025-06-11T11:27:20.468921Z"
    }
   },
   "cell_type": "code",
   "source": "test_df",
   "outputs": [
    {
     "data": {
      "text/plain": [
       "         user_id  item_id  weight            datetime\n",
       "276         4261     2735     1.0 2000-08-03 13:12:40\n",
       "315         4646       25     1.0 2000-07-19 01:09:55\n",
       "375          991      927     1.0 2000-11-28 22:10:40\n",
       "413         4262      673     1.0 2000-08-03 12:23:24\n",
       "445         3298     3785     1.0 2000-09-04 06:19:22\n",
       "...          ...      ...     ...                 ...\n",
       "997765      2787     3555     1.0 2000-10-31 04:41:43\n",
       "997811      5591     3535     1.0 2000-09-25 00:19:49\n",
       "999554      4277     2675     1.0 2003-02-25 17:15:25\n",
       "999658      4308     1824     1.0 2000-08-03 00:16:48\n",
       "1000208     5824     2809     1.0 2000-05-10 15:05:14\n",
       "\n",
       "[6038 rows x 4 columns]"
      ],
      "text/html": [
       "<div>\n",
       "<style scoped>\n",
       "    .dataframe tbody tr th:only-of-type {\n",
       "        vertical-align: middle;\n",
       "    }\n",
       "\n",
       "    .dataframe tbody tr th {\n",
       "        vertical-align: top;\n",
       "    }\n",
       "\n",
       "    .dataframe thead th {\n",
       "        text-align: right;\n",
       "    }\n",
       "</style>\n",
       "<table border=\"1\" class=\"dataframe\">\n",
       "  <thead>\n",
       "    <tr style=\"text-align: right;\">\n",
       "      <th></th>\n",
       "      <th>user_id</th>\n",
       "      <th>item_id</th>\n",
       "      <th>weight</th>\n",
       "      <th>datetime</th>\n",
       "    </tr>\n",
       "  </thead>\n",
       "  <tbody>\n",
       "    <tr>\n",
       "      <th>276</th>\n",
       "      <td>4261</td>\n",
       "      <td>2735</td>\n",
       "      <td>1.0</td>\n",
       "      <td>2000-08-03 13:12:40</td>\n",
       "    </tr>\n",
       "    <tr>\n",
       "      <th>315</th>\n",
       "      <td>4646</td>\n",
       "      <td>25</td>\n",
       "      <td>1.0</td>\n",
       "      <td>2000-07-19 01:09:55</td>\n",
       "    </tr>\n",
       "    <tr>\n",
       "      <th>375</th>\n",
       "      <td>991</td>\n",
       "      <td>927</td>\n",
       "      <td>1.0</td>\n",
       "      <td>2000-11-28 22:10:40</td>\n",
       "    </tr>\n",
       "    <tr>\n",
       "      <th>413</th>\n",
       "      <td>4262</td>\n",
       "      <td>673</td>\n",
       "      <td>1.0</td>\n",
       "      <td>2000-08-03 12:23:24</td>\n",
       "    </tr>\n",
       "    <tr>\n",
       "      <th>445</th>\n",
       "      <td>3298</td>\n",
       "      <td>3785</td>\n",
       "      <td>1.0</td>\n",
       "      <td>2000-09-04 06:19:22</td>\n",
       "    </tr>\n",
       "    <tr>\n",
       "      <th>...</th>\n",
       "      <td>...</td>\n",
       "      <td>...</td>\n",
       "      <td>...</td>\n",
       "      <td>...</td>\n",
       "    </tr>\n",
       "    <tr>\n",
       "      <th>997765</th>\n",
       "      <td>2787</td>\n",
       "      <td>3555</td>\n",
       "      <td>1.0</td>\n",
       "      <td>2000-10-31 04:41:43</td>\n",
       "    </tr>\n",
       "    <tr>\n",
       "      <th>997811</th>\n",
       "      <td>5591</td>\n",
       "      <td>3535</td>\n",
       "      <td>1.0</td>\n",
       "      <td>2000-09-25 00:19:49</td>\n",
       "    </tr>\n",
       "    <tr>\n",
       "      <th>999554</th>\n",
       "      <td>4277</td>\n",
       "      <td>2675</td>\n",
       "      <td>1.0</td>\n",
       "      <td>2003-02-25 17:15:25</td>\n",
       "    </tr>\n",
       "    <tr>\n",
       "      <th>999658</th>\n",
       "      <td>4308</td>\n",
       "      <td>1824</td>\n",
       "      <td>1.0</td>\n",
       "      <td>2000-08-03 00:16:48</td>\n",
       "    </tr>\n",
       "    <tr>\n",
       "      <th>1000208</th>\n",
       "      <td>5824</td>\n",
       "      <td>2809</td>\n",
       "      <td>1.0</td>\n",
       "      <td>2000-05-10 15:05:14</td>\n",
       "    </tr>\n",
       "  </tbody>\n",
       "</table>\n",
       "<p>6038 rows × 4 columns</p>\n",
       "</div>"
      ]
     },
     "execution_count": 19,
     "metadata": {},
     "output_type": "execute_result"
    }
   ],
   "execution_count": 19
  },
  {
   "metadata": {},
   "cell_type": "markdown",
   "source": [
    "### Validation fold\n",
    "\n",
    "Models do not create validation fold during `fit` by default. However, there is a simple way to force it.\n",
    "\n",
    "Let's assume that we want to use Leave-One-Out validation for specific set of users. To apply it we need to implement `get_val_mask_func` with required logic and pass it to model during initialization.\n",
    "\n",
    "This function should receive interactions with standard RecTools columns and return a binary mask which identifies interactions that should not be used during model training. But instrad should be used for validation loss calculation. They will also be available for Lightning Callbacks to allow RecSys metrics computations.\n",
    "\n",
    "*Please make sure you do not use `partial` while doing this. Partial functions cannot be by serialized using RecTools.*"
   ]
  },
  {
   "metadata": {
    "ExecuteTime": {
     "end_time": "2025-06-11T11:27:20.559625Z",
     "start_time": "2025-06-11T11:27:20.551736Z"
    }
   },
   "cell_type": "code",
   "source": [
    "# Implement `get_val_mask_func`\n",
    "\n",
    "unique_users = ratings[Columns.User].unique()\n",
    "VAL_USERS = unique_users\n",
    "\n",
    "def leave_one_out_mask_for_users(interactions: pd.DataFrame, val_users: ExternalIds) -> np.ndarray:\n",
    "    rank = (\n",
    "        interactions\n",
    "        .sort_values(Columns.Datetime, ascending=False, kind=\"stable\")\n",
    "        .groupby(Columns.User, sort=False)\n",
    "        .cumcount()\n",
    "    )\n",
    "    val_mask = (\n",
    "        (interactions[Columns.User].isin(val_users))\n",
    "        & (rank == 0)\n",
    "    )\n",
    "    return val_mask.values\n",
    "\n",
    "# We do not use `partial` for correct serialization of the model\n",
    "def get_val_mask_func(interactions: pd.DataFrame):\n",
    "    return leave_one_out_mask_for_users(interactions, val_users = VAL_USERS)"
   ],
   "outputs": [],
   "execution_count": 20
  },
  {
   "metadata": {
    "ExecuteTime": {
     "end_time": "2025-06-11T11:27:20.602440Z",
     "start_time": "2025-06-11T11:27:20.596314Z"
    }
   },
   "cell_type": "code",
   "source": [
    "class RecallCallback(Callback):  # with filter\n",
    "    name: str = \"recall\"\n",
    "\n",
    "    def __init__(self, k: int, prog_bar: bool = True) -> None:\n",
    "        self.k = k\n",
    "        self.name += f\"@{k}\"\n",
    "        self.prog_bar = prog_bar\n",
    "\n",
    "        self.batch_recall_per_users: tp.List[torch.Tensor] = []\n",
    "\n",
    "    def on_validation_batch_end(\n",
    "        self,\n",
    "        trainer: Trainer,\n",
    "        pl_module: LightningModule,\n",
    "        outputs: tp.Dict[str, torch.Tensor],\n",
    "        batch: tp.Dict[str, torch.Tensor],\n",
    "        batch_idx: int,\n",
    "        dataloader_idx: int = 0,\n",
    "    ) -> None:\n",
    "\n",
    "        if \"logits\" not in outputs:\n",
    "            session_embs = pl_module.torch_model.encode_sessions(\n",
    "                batch, pl_module.item_embs\n",
    "            )[:, -1, :]\n",
    "            logits = pl_module.torch_model.similarity_module(\n",
    "                session_embs, pl_module.item_embs\n",
    "            )\n",
    "        else:\n",
    "            logits = outputs[\"logits\"]\n",
    "\n",
    "        x = batch[\"x\"]\n",
    "        users = x.shape[0]\n",
    "        row_ind = np.arange(users).repeat(x.shape[1])\n",
    "        col_ind = x.flatten().detach().cpu().numpy()\n",
    "        mask = col_ind != 0\n",
    "        data = np.ones_like(row_ind[mask])\n",
    "        filter_csr = sparse.csr_matrix(\n",
    "            (data, (row_ind[mask], col_ind[mask])),\n",
    "            shape=(users, pl_module.torch_model.item_model.n_items),\n",
    "        )\n",
    "        mask = torch.from_numpy((filter_csr != 0).toarray()).to(logits.device)\n",
    "        scores = torch.masked_fill(logits, mask, float(\"-inf\"))\n",
    "\n",
    "        _, batch_recos = scores.topk(k=self.k)\n",
    "\n",
    "        targets = batch[\"y\"]\n",
    "\n",
    "        # assume all users have the same amount of TP\n",
    "        liked = targets.shape[1]\n",
    "        tp_mask = torch.stack(\n",
    "            [\n",
    "                torch.isin(batch_recos[uid], targets[uid])\n",
    "                for uid in range(batch_recos.shape[0])\n",
    "            ]\n",
    "        )\n",
    "        recall_per_users = tp_mask.sum(dim=1) / liked\n",
    "\n",
    "        self.batch_recall_per_users.append(recall_per_users)\n",
    "\n",
    "    def on_validation_epoch_end(\n",
    "        self, trainer: Trainer, pl_module: LightningModule\n",
    "    ) -> None:\n",
    "        recall = float(torch.concat(self.batch_recall_per_users).mean())\n",
    "        self.log_dict(\n",
    "            {self.name: recall}, on_step=False, on_epoch=True, prog_bar=self.prog_bar\n",
    "        )\n",
    "\n",
    "        self.batch_recall_per_users.clear()"
   ],
   "outputs": [],
   "execution_count": 21
  },
  {
   "cell_type": "markdown",
   "metadata": {},
   "source": [
    "In this guide we are going to use custom Lighhning trainers. We need to implement function that return desired Lightining trainer and pass it to model during initialization."
   ]
  },
  {
   "metadata": {
    "ExecuteTime": {
     "end_time": "2025-06-11T11:27:20.640202Z",
     "start_time": "2025-06-11T11:27:20.638289Z"
    }
   },
   "cell_type": "code",
   "source": [
    "\n",
    "# Callback for calculating RecSys metrics\n",
    "recall_callback = RecallCallback(k=10, prog_bar=True)"
   ],
   "outputs": [],
   "execution_count": 22
  },
  {
   "metadata": {
    "ExecuteTime": {
     "end_time": "2025-06-11T11:27:20.718846Z",
     "start_time": "2025-06-11T11:27:20.715646Z"
    }
   },
   "cell_type": "code",
   "source": [
    "# Checkpoint last epoch\n",
    "last_epoch_ckpt = ModelCheckpoint(filename=\"last_epoch\")\n",
    "\n",
    "# Checkpoints based on validation loss\n",
    "least_val_loss_ckpt = ModelCheckpoint(\n",
    "    monitor=\"val_loss\",   # or just pass \"val_loss\" here,\n",
    "    mode=\"min\",\n",
    "    filename=\"{epoch}-{val_loss:.2f}\",\n",
    "    save_top_k=2,  # Let's save top 2 checkpoints for validation loss\n",
    ")"
   ],
   "outputs": [],
   "execution_count": 23
  },
  {
   "cell_type": "code",
   "metadata": {
    "ExecuteTime": {
     "end_time": "2025-06-11T11:27:20.788029Z",
     "start_time": "2025-06-11T11:27:20.785465Z"
    }
   },
   "source": [
    "# Function to get custom trainer\n",
    "\n",
    "def get_debug_trainer() -> Trainer:\n",
    "    return Trainer(\n",
    "        accelerator=\"gpu\",\n",
    "        devices=1,\n",
    "        min_epochs=2,\n",
    "        max_epochs=2,\n",
    "        limit_train_batches=2,\n",
    "        deterministic=True,\n",
    "        enable_model_summary=False,\n",
    "        enable_progress_bar=True,\n",
    "        callbacks=[recall_callback, last_epoch_ckpt, least_val_loss_ckpt],  # pass our callbacks\n",
    "        logger = CSVLogger(\"test_logs\"),  # We use CSV logging for this guide but there are many other options\n",
    "    )"
   ],
   "outputs": [],
   "execution_count": 24
  },
  {
   "cell_type": "code",
   "metadata": {
    "ExecuteTime": {
     "end_time": "2025-06-11T11:27:20.908434Z",
     "start_time": "2025-06-11T11:27:20.866541Z"
    }
   },
   "source": [
    "session_max_len = 200\n",
    "extra_cols_kwargs =  {\"extra_cols_kwargs\": {\"extra_cols\": [Columns.Datetime]}}\n",
    "transformer_layers_kwargs = {\n",
    "    \"attention_dim\": 50,\n",
    "    \"linear_hidden_dim\":50,\n",
    "    \"attn_dropout_ratio\": 0.1,\n",
    "    \"session_max_len\": session_max_len,\n",
    "    \"attention_mode\" : \"rel_pos_ts_bias\"\n",
    "}\n",
    "lightning_module_kwargs = {\n",
    "    \"temperature\": 0.05\n",
    "}\n",
    "model  = HSTUModel(session_max_len = session_max_len,\n",
    "    data_preparator_kwargs=extra_cols_kwargs,\n",
    "    transformer_layers_kwargs=transformer_layers_kwargs,\n",
    "    lightning_module_kwargs=lightning_module_kwargs,\n",
    "    item_net_block_types=(IdEmbeddingsItemNet,),\n",
    "    get_val_mask_func=get_val_mask_func,  # pass our custom `get_val_mask_func`\n",
    "    get_trainer_func=get_debug_trainer,  # pass our custom trainer func\n",
    "    verbose=1,\n",
    "    loss = 'sampled_softmax',\n",
    "    n_negatives= 128,\n",
    "    use_pos_emb = True,\n",
    "    dropout_rate = 0.2,\n",
    "    n_factors = 50,\n",
    "    n_heads = 1,\n",
    "    n_blocks = 2,\n",
    "    lr = 0.001,\n",
    "    batch_size=128,\n",
    ")"
   ],
   "outputs": [
    {
     "name": "stderr",
     "output_type": "stream",
     "text": [
      "GPU available: True (cuda), used: True\n",
      "TPU available: False, using: 0 TPU cores\n",
      "HPU available: False, using: 0 HPUs\n"
     ]
    },
    {
     "name": "stdout",
     "output_type": "stream",
     "text": [
      "{'extra_cols': ['datetime']}\n"
     ]
    }
   ],
   "execution_count": 25
  },
  {
   "cell_type": "markdown",
   "metadata": {},
   "source": [
    "### Validation loss\n",
    "\n",
    "Let's check how the validation loss is being logged."
   ]
  },
  {
   "cell_type": "code",
   "metadata": {
    "ExecuteTime": {
     "end_time": "2025-06-11T11:27:37.057262Z",
     "start_time": "2025-06-11T11:27:21.042052Z"
    }
   },
   "source": [
    "# Fit model. Validation fold and validation loss computation will be done under the hood.\n",
    "\n",
    "model.fit(train_dataset)"
   ],
   "outputs": [
    {
     "name": "stdout",
     "output_type": "stream",
     "text": [
      "кол-во айтемов 3647\n",
      "{'extra_cols': ['datetime']}\n"
     ]
    },
    {
     "name": "stderr",
     "output_type": "stream",
     "text": [
      "You are using a CUDA device ('NVIDIA A100 80GB PCIe') that has Tensor Cores. To properly utilize them, you should set `torch.set_float32_matmul_precision('medium' | 'high')` which will trade-off precision for performance. For more details, read https://pytorch.org/docs/stable/generated/torch.set_float32_matmul_precision.html#torch.set_float32_matmul_precision\n",
      "LOCAL_RANK: 0 - CUDA_VISIBLE_DEVICES: [0]\n"
     ]
    },
    {
     "name": "stdout",
     "output_type": "stream",
     "text": [
      "item_model.item_net_blocks.0.ids_emb.weight torch.Size([3647, 50])\n",
      "pos_encoding_layer.pos_emb.weight torch.Size([200, 50])\n",
      "transformer_layers.stu_blocks.0._uvqk torch.Size([50, 200])\n",
      "transformer_layers.stu_blocks.0._rel_attn_bias._ts_w torch.Size([129])\n",
      "transformer_layers.stu_blocks.0._rel_attn_bias._pos_w torch.Size([401])\n",
      "transformer_layers.stu_blocks.0._o.weight torch.Size([50, 50])\n",
      "transformer_layers.stu_blocks.0._o.bias torch.Size([50])\n",
      "transformer_layers.stu_blocks.1._uvqk torch.Size([50, 200])\n",
      "transformer_layers.stu_blocks.1._rel_attn_bias._ts_w torch.Size([129])\n",
      "transformer_layers.stu_blocks.1._rel_attn_bias._pos_w torch.Size([401])\n",
      "transformer_layers.stu_blocks.1._o.weight torch.Size([50, 50])\n",
      "transformer_layers.stu_blocks.1._o.bias torch.Size([50])\n",
      "transformer_layers.last_layernorm.weight torch.Size([50])\n",
      "transformer_layers.last_layernorm.bias torch.Size([50])\n"
     ]
    },
    {
     "data": {
      "text/plain": [
       "Sanity Checking: |          | 0/? [00:00<?, ?it/s]"
      ],
      "application/vnd.jupyter.widget-view+json": {
       "version_major": 2,
       "version_minor": 0,
       "model_id": "1fda9f5712e04de086e6e9532ddd015d"
      }
     },
     "metadata": {},
     "output_type": "display_data"
    },
    {
     "data": {
      "text/plain": [
       "Training: |          | 0/? [00:00<?, ?it/s]"
      ],
      "application/vnd.jupyter.widget-view+json": {
       "version_major": 2,
       "version_minor": 0,
       "model_id": "ccb907c3badf4a888642714fc156c167"
      }
     },
     "metadata": {},
     "output_type": "display_data"
    },
    {
     "data": {
      "text/plain": [
       "Validation: |          | 0/? [00:00<?, ?it/s]"
      ],
      "application/vnd.jupyter.widget-view+json": {
       "version_major": 2,
       "version_minor": 0,
       "model_id": "a6671cd6e9914be28bf4ca3d72addc0c"
      }
     },
     "metadata": {},
     "output_type": "display_data"
    },
    {
     "data": {
      "text/plain": [
       "Validation: |          | 0/? [00:00<?, ?it/s]"
      ],
      "application/vnd.jupyter.widget-view+json": {
       "version_major": 2,
       "version_minor": 0,
       "model_id": "bc254940d79d4fb4bb3243e17008f1f8"
      }
     },
     "metadata": {},
     "output_type": "display_data"
    },
    {
     "name": "stderr",
     "output_type": "stream",
     "text": [
      "`Trainer.fit` stopped: `max_epochs=2` reached.\n"
     ]
    },
    {
     "data": {
      "text/plain": [
       "<rectools.models.nn.transformers.hstu.HSTUModel at 0x755355f58df0>"
      ]
     },
     "execution_count": 26,
     "metadata": {},
     "output_type": "execute_result"
    }
   ],
   "execution_count": 26
  },
  {
   "metadata": {
    "ExecuteTime": {
     "end_time": "2025-06-11T11:27:37.253031Z",
     "start_time": "2025-06-11T11:27:37.085584Z"
    }
   },
   "cell_type": "code",
   "source": [
    "!ls $model.fit_trainer.log_dir/checkpoints\n",
    "ckpt_path = os.path.join(model.fit_trainer.log_dir, \"checkpoints\", \"last_epoch.ckpt\")\n",
    "model.load_weights_from_checkpoint(ckpt_path)"
   ],
   "outputs": [
    {
     "name": "stdout",
     "output_type": "stream",
     "text": [
      "'epoch=0-val_loss=4.91.ckpt'  'epoch=1-val_loss=4.87.ckpt'   last_epoch.ckpt\r\n"
     ]
    }
   ],
   "execution_count": 27
  },
  {
   "metadata": {},
   "cell_type": "markdown",
   "source": "Инвариант - всегда надо клеить думми с таймстемпом. Откуда брать таймстемпы? В случае тестирования на последнем - передаём тестовый датафрейм, дёргаем строки с  \"users=[20]\", оттуда берём таймстемпы. В случае инференса передавать таймстемпы отдельно, поэтому напишем враппер, который обрабатывает два этих случая, а "
  },
  {
   "metadata": {},
   "cell_type": "markdown",
   "source": ""
  },
  {
   "metadata": {
    "ExecuteTime": {
     "end_time": "2025-06-11T11:27:37.284033Z",
     "start_time": "2025-06-11T11:27:37.281862Z"
    }
   },
   "cell_type": "code",
   "source": "ErrorBehaviour = tp.Literal[\"ignore\", \"warn\", \"raise\"]",
   "outputs": [],
   "execution_count": 28
  },
  {
   "metadata": {
    "ExecuteTime": {
     "end_time": "2025-06-11T11:27:37.331456Z",
     "start_time": "2025-06-11T11:27:37.329536Z"
    }
   },
   "cell_type": "code",
   "source": "user_test_id = 20",
   "outputs": [],
   "execution_count": 29
  },
  {
   "metadata": {
    "ExecuteTime": {
     "end_time": "2025-06-11T11:27:37.354339Z",
     "start_time": "2025-06-11T11:27:37.350097Z"
    }
   },
   "cell_type": "code",
   "source": [
    "def proxy_recommend(\n",
    "        model,\n",
    "        users: ExternalIds,\n",
    "        dataset: Dataset,\n",
    "        k: int,\n",
    "        filter_viewed: bool,\n",
    "        items_to_recommend: tp.Optional[ExternalIds] = None,\n",
    "        add_rank_col: bool = True,\n",
    "        on_unsupported_targets: ErrorBehaviour = \"raise\",\n",
    "        df_test = None, \n",
    "        df_timestamp = None,\n",
    "    ) -> pd.DataFrame:\n",
    "    #Логично,что df_test и df_timestamp придут во внешней индексации, потребуем тем не менее совпадения колонок с interactions\n",
    "    #ожидаю, что df_test лоо на последних айтемах, на каждего юзера по одному тесту, поэтому подклейка будет просто конкатенацией\n",
    "    dataset_recommend = dataset\n",
    "    \n",
    "    model_known_external_ids = model.data_preparator.get_known_item_ids()\n",
    "    dummy_common_item = np.intersect1d(dataset_recommend.item_id_map.external_ids, model_known_external_ids)[0]\n",
    "    if df_test is not None:\n",
    "        print(f\"common dummy id:{dummy_common_item}\")\n",
    "        in_external_view_dataset_recommend =  dataset_recommend.get_raw_interactions()\n",
    "        in_external_view_dataset_test =  df_test.copy()\n",
    "        in_external_view_dataset_test[Columns.Item] = dummy_common_item\n",
    "        \n",
    "        union = pd.concat([in_external_view_dataset_recommend, in_external_view_dataset_test])\n",
    "        new_dataset_recommend = Dataset.construct(union)\n",
    "        return model.recommend(users,new_dataset_recommend,k,filter_viewed,items_to_recommend,add_rank_col,on_unsupported_targets)\n",
    "    if df_timestamp is not None:\n",
    "        pass\n",
    "    \n",
    "    return model.recommend(users = users,dataset = dataset_recommend,k=k,filter_viewed= filter_viewed,items_to_recommend = items_to_recommend,add_rank_col = add_rank_col,on_unsupported_targets = on_unsupported_targets)\n",
    "    "
   ],
   "outputs": [],
   "execution_count": 30
  },
  {
   "metadata": {
    "ExecuteTime": {
     "end_time": "2025-06-11T11:27:37.412505Z",
     "start_time": "2025-06-11T11:27:37.407160Z"
    }
   },
   "cell_type": "code",
   "source": "print(test_df[test_df[Columns.User] == user_test_id])",
   "outputs": [
    {
     "name": "stdout",
     "output_type": "stream",
     "text": [
      "        user_id  item_id  weight            datetime\n",
      "756318       20     1371     1.0 2001-12-29 23:40:27\n"
     ]
    }
   ],
   "execution_count": 31
  },
  {
   "metadata": {
    "ExecuteTime": {
     "end_time": "2025-06-11T11:27:37.612985Z",
     "start_time": "2025-06-11T11:27:37.482189Z"
    }
   },
   "cell_type": "code",
   "source": "proxy_recommend(model,users = [20], dataset=train_dataset, k =5,filter_viewed = True,  df_test=test_df)",
   "outputs": [
    {
     "name": "stdout",
     "output_type": "stream",
     "text": [
      "common dummy id:1\n"
     ]
    },
    {
     "data": {
      "text/plain": [
       "   user_id  item_id     score  rank\n",
       "0       20     1204  0.085493     1\n",
       "1       20      140  0.072950     2\n",
       "2       20     1487  0.066690     3\n",
       "3       20     1624  0.065984     4\n",
       "4       20     1791  0.065079     5"
      ],
      "text/html": [
       "<div>\n",
       "<style scoped>\n",
       "    .dataframe tbody tr th:only-of-type {\n",
       "        vertical-align: middle;\n",
       "    }\n",
       "\n",
       "    .dataframe tbody tr th {\n",
       "        vertical-align: top;\n",
       "    }\n",
       "\n",
       "    .dataframe thead th {\n",
       "        text-align: right;\n",
       "    }\n",
       "</style>\n",
       "<table border=\"1\" class=\"dataframe\">\n",
       "  <thead>\n",
       "    <tr style=\"text-align: right;\">\n",
       "      <th></th>\n",
       "      <th>user_id</th>\n",
       "      <th>item_id</th>\n",
       "      <th>score</th>\n",
       "      <th>rank</th>\n",
       "    </tr>\n",
       "  </thead>\n",
       "  <tbody>\n",
       "    <tr>\n",
       "      <th>0</th>\n",
       "      <td>20</td>\n",
       "      <td>1204</td>\n",
       "      <td>0.085493</td>\n",
       "      <td>1</td>\n",
       "    </tr>\n",
       "    <tr>\n",
       "      <th>1</th>\n",
       "      <td>20</td>\n",
       "      <td>140</td>\n",
       "      <td>0.072950</td>\n",
       "      <td>2</td>\n",
       "    </tr>\n",
       "    <tr>\n",
       "      <th>2</th>\n",
       "      <td>20</td>\n",
       "      <td>1487</td>\n",
       "      <td>0.066690</td>\n",
       "      <td>3</td>\n",
       "    </tr>\n",
       "    <tr>\n",
       "      <th>3</th>\n",
       "      <td>20</td>\n",
       "      <td>1624</td>\n",
       "      <td>0.065984</td>\n",
       "      <td>4</td>\n",
       "    </tr>\n",
       "    <tr>\n",
       "      <th>4</th>\n",
       "      <td>20</td>\n",
       "      <td>1791</td>\n",
       "      <td>0.065079</td>\n",
       "      <td>5</td>\n",
       "    </tr>\n",
       "  </tbody>\n",
       "</table>\n",
       "</div>"
      ]
     },
     "execution_count": 32,
     "metadata": {},
     "output_type": "execute_result"
    }
   ],
   "execution_count": 32
  },
  {
   "metadata": {},
   "cell_type": "markdown",
   "source": "Timestamp('2001-12-29 23:40:27') последний, сходится"
  },
  {
   "metadata": {
    "ExecuteTime": {
     "end_time": "2025-06-11T11:27:37.698915Z",
     "start_time": "2025-06-11T11:27:37.674646Z"
    }
   },
   "cell_type": "code",
   "source": "model.recommend(users = [20], dataset=train_dataset, k =5,filter_viewed = True)",
   "outputs": [
    {
     "data": {
      "text/plain": [
       "   user_id  item_id     score  rank\n",
       "0       20       40  0.073249     1\n",
       "1       20      338  0.071589     2\n",
       "2       20     1487  0.068149     3\n",
       "3       20     2085  0.064213     4\n",
       "4       20     3539  0.062481     5"
      ],
      "text/html": [
       "<div>\n",
       "<style scoped>\n",
       "    .dataframe tbody tr th:only-of-type {\n",
       "        vertical-align: middle;\n",
       "    }\n",
       "\n",
       "    .dataframe tbody tr th {\n",
       "        vertical-align: top;\n",
       "    }\n",
       "\n",
       "    .dataframe thead th {\n",
       "        text-align: right;\n",
       "    }\n",
       "</style>\n",
       "<table border=\"1\" class=\"dataframe\">\n",
       "  <thead>\n",
       "    <tr style=\"text-align: right;\">\n",
       "      <th></th>\n",
       "      <th>user_id</th>\n",
       "      <th>item_id</th>\n",
       "      <th>score</th>\n",
       "      <th>rank</th>\n",
       "    </tr>\n",
       "  </thead>\n",
       "  <tbody>\n",
       "    <tr>\n",
       "      <th>0</th>\n",
       "      <td>20</td>\n",
       "      <td>40</td>\n",
       "      <td>0.073249</td>\n",
       "      <td>1</td>\n",
       "    </tr>\n",
       "    <tr>\n",
       "      <th>1</th>\n",
       "      <td>20</td>\n",
       "      <td>338</td>\n",
       "      <td>0.071589</td>\n",
       "      <td>2</td>\n",
       "    </tr>\n",
       "    <tr>\n",
       "      <th>2</th>\n",
       "      <td>20</td>\n",
       "      <td>1487</td>\n",
       "      <td>0.068149</td>\n",
       "      <td>3</td>\n",
       "    </tr>\n",
       "    <tr>\n",
       "      <th>3</th>\n",
       "      <td>20</td>\n",
       "      <td>2085</td>\n",
       "      <td>0.064213</td>\n",
       "      <td>4</td>\n",
       "    </tr>\n",
       "    <tr>\n",
       "      <th>4</th>\n",
       "      <td>20</td>\n",
       "      <td>3539</td>\n",
       "      <td>0.062481</td>\n",
       "      <td>5</td>\n",
       "    </tr>\n",
       "  </tbody>\n",
       "</table>\n",
       "</div>"
      ]
     },
     "execution_count": 33,
     "metadata": {},
     "output_type": "execute_result"
    }
   ],
   "execution_count": 33
  },
  {
   "metadata": {},
   "cell_type": "markdown",
   "source": "### Боевая кросс-валидация"
  },
  {
   "metadata": {
    "ExecuteTime": {
     "end_time": "2025-06-11T11:27:37.791610Z",
     "start_time": "2025-06-11T11:27:37.781194Z"
    }
   },
   "cell_type": "code",
   "source": "set(dataset.interactions.df.user_id.unique()) == set(dataset.item_id_map.external_ids) #",
   "outputs": [
    {
     "data": {
      "text/plain": [
       "False"
      ]
     },
     "execution_count": 34,
     "metadata": {},
     "output_type": "execute_result"
    }
   ],
   "execution_count": 34
  },
  {
   "metadata": {
    "ExecuteTime": {
     "end_time": "2025-06-11T11:27:38.058717Z",
     "start_time": "2025-06-11T11:27:38.056256Z"
    }
   },
   "cell_type": "code",
   "source": [
    "def get_debug_trainer() -> Trainer:\n",
    "    return Trainer(\n",
    "        accelerator=\"gpu\",\n",
    "        devices=1,\n",
    "        min_epochs=120,\n",
    "        max_epochs=120,\n",
    "        deterministic=True,\n",
    "        enable_model_summary=False,\n",
    "        #enable_progress_bar=True,\n",
    "        callbacks=[recall_callback, last_epoch_ckpt, least_val_loss_ckpt],  # pass our callbacks\n",
    "        logger = CSVLogger(\"test_logs\"),  # We use CSV logging for this guide but there are many other options\n",
    "    )"
   ],
   "outputs": [],
   "execution_count": 35
  },
  {
   "metadata": {
    "ExecuteTime": {
     "end_time": "2025-06-11T11:27:38.243336Z",
     "start_time": "2025-06-11T11:27:38.222225Z"
    }
   },
   "cell_type": "code",
   "source": [
    "model_hstu  = HSTUModel(session_max_len = session_max_len,\n",
    "    data_preparator_kwargs=extra_cols_kwargs,\n",
    "    transformer_layers_kwargs=transformer_layers_kwargs,\n",
    "    lightning_module_kwargs=lightning_module_kwargs,\n",
    "    item_net_block_types=(IdEmbeddingsItemNet,),\n",
    "    get_val_mask_func=get_val_mask_func,  # pass our custom `get_val_mask_func`\n",
    "    get_trainer_func=get_debug_trainer, \n",
    "    verbose=1,\n",
    "    loss = 'sampled_softmax',\n",
    "    n_negatives= 128,\n",
    "    use_pos_emb = True,\n",
    "    dropout_rate = 0.2,\n",
    "    n_factors = 50,\n",
    "    n_heads = 1,\n",
    "    n_blocks = 2,\n",
    "    lr = 0.001,\n",
    "    batch_size=128,\n",
    ")\n",
    "model_sasrec  = SASRecModel(session_max_len = session_max_len,\n",
    "    item_net_block_types=(IdEmbeddingsItemNet,),\n",
    "    get_val_mask_func=get_val_mask_func,  # pass our custom `get_val_mask_func`\n",
    "    get_trainer_func=get_debug_trainer,  # pass our custom trainer func\n",
    "    verbose=1,\n",
    "    lightning_module_kwargs=lightning_module_kwargs,\n",
    "    use_pos_emb = True,\n",
    "    loss = 'sampled_softmax',\n",
    "    n_negatives= 128,\n",
    "    dropout_rate = 0.2,\n",
    "    n_factors = 50,\n",
    "    n_heads = 1,\n",
    "    n_blocks = 2,\n",
    "    lr = 0.001,\n",
    "    batch_size=128,\n",
    ")"
   ],
   "outputs": [
    {
     "name": "stderr",
     "output_type": "stream",
     "text": [
      "GPU available: True (cuda), used: True\n",
      "TPU available: False, using: 0 TPU cores\n",
      "HPU available: False, using: 0 HPUs\n",
      "GPU available: True (cuda), used: True\n",
      "TPU available: False, using: 0 TPU cores\n",
      "HPU available: False, using: 0 HPUs\n"
     ]
    },
    {
     "name": "stdout",
     "output_type": "stream",
     "text": [
      "{'extra_cols': ['datetime']}\n",
      "None\n"
     ]
    }
   ],
   "execution_count": 36
  },
  {
   "metadata": {
    "ExecuteTime": {
     "end_time": "2025-06-11T11:27:38.447381Z",
     "start_time": "2025-06-11T11:27:38.445350Z"
    }
   },
   "cell_type": "code",
   "source": "#model._trainer = trainer",
   "outputs": [],
   "execution_count": 37
  },
  {
   "metadata": {
    "ExecuteTime": {
     "end_time": "2025-06-11T11:27:38.567562Z",
     "start_time": "2025-06-11T11:27:38.564920Z"
    }
   },
   "cell_type": "code",
   "source": [
    "models = {\n",
    "    \"sasrec\": model_sasrec,\n",
    "    \"hstu\": model_hstu,\n",
    "}\n",
    "\n",
    "metrics = {\n",
    "    \"HitRate@10\": HitRate(k=10),\n",
    "    \"MAP@10\": MAP(k=10),\n",
    "    \"Serendipity@10\": Serendipity(k=10),\n",
    "    \"CoveredUsers@10\": CoveredUsers(k=10),  # how many test users received recommendations\n",
    "    \"AvgRecPopularity@10\": AvgRecPopularity(k=10),  # average popularity of recommended items\n",
    "}\n",
    "\n",
    "K_RECS = 10"
   ],
   "outputs": [],
   "execution_count": 38
  },
  {
   "metadata": {
    "ExecuteTime": {
     "end_time": "2025-06-11T12:35:19.033402Z",
     "start_time": "2025-06-11T11:27:38.632943Z"
    }
   },
   "cell_type": "code",
   "source": [
    "cv_results = cross_validate_hstu(\n",
    "    proxy_recommend=proxy_recommend,\n",
    "    dataset=dataset,\n",
    "    splitter=splitter,\n",
    "    models=models,\n",
    "    metrics=metrics,\n",
    "    k=K_RECS,\n",
    "    filter_viewed=True,\n",
    ")"
   ],
   "outputs": [
    {
     "name": "stdout",
     "output_type": "stream",
     "text": [
      "sasrec\n",
      "кол-во айтемов 3647\n",
      "None\n"
     ]
    },
    {
     "name": "stderr",
     "output_type": "stream",
     "text": [
      "LOCAL_RANK: 0 - CUDA_VISIBLE_DEVICES: [0]\n"
     ]
    },
    {
     "name": "stdout",
     "output_type": "stream",
     "text": [
      "item_model.item_net_blocks.0.ids_emb.weight torch.Size([3647, 50])\n",
      "pos_encoding_layer.pos_emb.weight torch.Size([200, 50])\n",
      "transformer_layers.transformer_blocks.0.multi_head_attn.in_proj_weight torch.Size([150, 50])\n",
      "transformer_layers.transformer_blocks.0.multi_head_attn.in_proj_bias torch.Size([150])\n",
      "transformer_layers.transformer_blocks.0.multi_head_attn.out_proj.weight torch.Size([50, 50])\n",
      "transformer_layers.transformer_blocks.0.multi_head_attn.out_proj.bias torch.Size([50])\n",
      "transformer_layers.transformer_blocks.0.q_layer_norm.weight torch.Size([50])\n",
      "transformer_layers.transformer_blocks.0.q_layer_norm.bias torch.Size([50])\n",
      "transformer_layers.transformer_blocks.0.ff_layer_norm.weight torch.Size([50])\n",
      "transformer_layers.transformer_blocks.0.ff_layer_norm.bias torch.Size([50])\n",
      "transformer_layers.transformer_blocks.0.feed_forward.ff_linear_1.weight torch.Size([50, 50])\n",
      "transformer_layers.transformer_blocks.0.feed_forward.ff_linear_1.bias torch.Size([50])\n",
      "transformer_layers.transformer_blocks.0.feed_forward.ff_linear_2.weight torch.Size([50, 50])\n",
      "transformer_layers.transformer_blocks.0.feed_forward.ff_linear_2.bias torch.Size([50])\n",
      "transformer_layers.transformer_blocks.1.multi_head_attn.in_proj_weight torch.Size([150, 50])\n",
      "transformer_layers.transformer_blocks.1.multi_head_attn.in_proj_bias torch.Size([150])\n",
      "transformer_layers.transformer_blocks.1.multi_head_attn.out_proj.weight torch.Size([50, 50])\n",
      "transformer_layers.transformer_blocks.1.multi_head_attn.out_proj.bias torch.Size([50])\n",
      "transformer_layers.transformer_blocks.1.q_layer_norm.weight torch.Size([50])\n",
      "transformer_layers.transformer_blocks.1.q_layer_norm.bias torch.Size([50])\n",
      "transformer_layers.transformer_blocks.1.ff_layer_norm.weight torch.Size([50])\n",
      "transformer_layers.transformer_blocks.1.ff_layer_norm.bias torch.Size([50])\n",
      "transformer_layers.transformer_blocks.1.feed_forward.ff_linear_1.weight torch.Size([50, 50])\n",
      "transformer_layers.transformer_blocks.1.feed_forward.ff_linear_1.bias torch.Size([50])\n",
      "transformer_layers.transformer_blocks.1.feed_forward.ff_linear_2.weight torch.Size([50, 50])\n",
      "transformer_layers.transformer_blocks.1.feed_forward.ff_linear_2.bias torch.Size([50])\n",
      "transformer_layers.last_layernorm.weight torch.Size([50])\n",
      "transformer_layers.last_layernorm.bias torch.Size([50])\n"
     ]
    },
    {
     "data": {
      "text/plain": [
       "Sanity Checking: |          | 0/? [00:00<?, ?it/s]"
      ],
      "application/vnd.jupyter.widget-view+json": {
       "version_major": 2,
       "version_minor": 0,
       "model_id": "04a20d5d02d24ce393860771ae1b5bf0"
      }
     },
     "metadata": {},
     "output_type": "display_data"
    },
    {
     "data": {
      "text/plain": [
       "Training: |          | 0/? [00:00<?, ?it/s]"
      ],
      "application/vnd.jupyter.widget-view+json": {
       "version_major": 2,
       "version_minor": 0,
       "model_id": "176e050ab01a4a899d5e86fab4acf4e7"
      }
     },
     "metadata": {},
     "output_type": "display_data"
    },
    {
     "data": {
      "text/plain": [
       "Validation: |          | 0/? [00:00<?, ?it/s]"
      ],
      "application/vnd.jupyter.widget-view+json": {
       "version_major": 2,
       "version_minor": 0,
       "model_id": "11a1b1c1034247189e32eb4338c4af74"
      }
     },
     "metadata": {},
     "output_type": "display_data"
    },
    {
     "data": {
      "text/plain": [
       "Validation: |          | 0/? [00:00<?, ?it/s]"
      ],
      "application/vnd.jupyter.widget-view+json": {
       "version_major": 2,
       "version_minor": 0,
       "model_id": "3c638bcbe7c94aa1b778040ec92febb5"
      }
     },
     "metadata": {},
     "output_type": "display_data"
    },
    {
     "data": {
      "text/plain": [
       "Validation: |          | 0/? [00:00<?, ?it/s]"
      ],
      "application/vnd.jupyter.widget-view+json": {
       "version_major": 2,
       "version_minor": 0,
       "model_id": "f66b50ec9de44adca22b00aa0dd166e7"
      }
     },
     "metadata": {},
     "output_type": "display_data"
    },
    {
     "data": {
      "text/plain": [
       "Validation: |          | 0/? [00:00<?, ?it/s]"
      ],
      "application/vnd.jupyter.widget-view+json": {
       "version_major": 2,
       "version_minor": 0,
       "model_id": "66ce5ee0850142999f9961e9b547e1a5"
      }
     },
     "metadata": {},
     "output_type": "display_data"
    },
    {
     "data": {
      "text/plain": [
       "Validation: |          | 0/? [00:00<?, ?it/s]"
      ],
      "application/vnd.jupyter.widget-view+json": {
       "version_major": 2,
       "version_minor": 0,
       "model_id": "c7b7daa0daa24e3eb505ca188de51234"
      }
     },
     "metadata": {},
     "output_type": "display_data"
    },
    {
     "data": {
      "text/plain": [
       "Validation: |          | 0/? [00:00<?, ?it/s]"
      ],
      "application/vnd.jupyter.widget-view+json": {
       "version_major": 2,
       "version_minor": 0,
       "model_id": "2ea6e6ffaf304e6191b0ded69673ccf6"
      }
     },
     "metadata": {},
     "output_type": "display_data"
    },
    {
     "data": {
      "text/plain": [
       "Validation: |          | 0/? [00:00<?, ?it/s]"
      ],
      "application/vnd.jupyter.widget-view+json": {
       "version_major": 2,
       "version_minor": 0,
       "model_id": "cd1416d5f79e490588d3cafa1c322310"
      }
     },
     "metadata": {},
     "output_type": "display_data"
    },
    {
     "data": {
      "text/plain": [
       "Validation: |          | 0/? [00:00<?, ?it/s]"
      ],
      "application/vnd.jupyter.widget-view+json": {
       "version_major": 2,
       "version_minor": 0,
       "model_id": "e2a23343f0ef433f9f3e3c1c9af44dd5"
      }
     },
     "metadata": {},
     "output_type": "display_data"
    },
    {
     "data": {
      "text/plain": [
       "Validation: |          | 0/? [00:00<?, ?it/s]"
      ],
      "application/vnd.jupyter.widget-view+json": {
       "version_major": 2,
       "version_minor": 0,
       "model_id": "299c59f631944e8bb74ee175bd4166fa"
      }
     },
     "metadata": {},
     "output_type": "display_data"
    },
    {
     "data": {
      "text/plain": [
       "Validation: |          | 0/? [00:00<?, ?it/s]"
      ],
      "application/vnd.jupyter.widget-view+json": {
       "version_major": 2,
       "version_minor": 0,
       "model_id": "6ebbcae96e3943998977235cfb2ea515"
      }
     },
     "metadata": {},
     "output_type": "display_data"
    },
    {
     "data": {
      "text/plain": [
       "Validation: |          | 0/? [00:00<?, ?it/s]"
      ],
      "application/vnd.jupyter.widget-view+json": {
       "version_major": 2,
       "version_minor": 0,
       "model_id": "e2e287783c6641b6b056f1d4bf160428"
      }
     },
     "metadata": {},
     "output_type": "display_data"
    },
    {
     "data": {
      "text/plain": [
       "Validation: |          | 0/? [00:00<?, ?it/s]"
      ],
      "application/vnd.jupyter.widget-view+json": {
       "version_major": 2,
       "version_minor": 0,
       "model_id": "b7cf3b9efbff48c4b7241f4adfda55d6"
      }
     },
     "metadata": {},
     "output_type": "display_data"
    },
    {
     "data": {
      "text/plain": [
       "Validation: |          | 0/? [00:00<?, ?it/s]"
      ],
      "application/vnd.jupyter.widget-view+json": {
       "version_major": 2,
       "version_minor": 0,
       "model_id": "82f9432f9cd148f0a69e72996a422488"
      }
     },
     "metadata": {},
     "output_type": "display_data"
    },
    {
     "data": {
      "text/plain": [
       "Validation: |          | 0/? [00:00<?, ?it/s]"
      ],
      "application/vnd.jupyter.widget-view+json": {
       "version_major": 2,
       "version_minor": 0,
       "model_id": "d1e1390b9b324f69a15e15bafa169847"
      }
     },
     "metadata": {},
     "output_type": "display_data"
    },
    {
     "data": {
      "text/plain": [
       "Validation: |          | 0/? [00:00<?, ?it/s]"
      ],
      "application/vnd.jupyter.widget-view+json": {
       "version_major": 2,
       "version_minor": 0,
       "model_id": "1c5445f668694e83b1c3b447e3eee8c3"
      }
     },
     "metadata": {},
     "output_type": "display_data"
    },
    {
     "data": {
      "text/plain": [
       "Validation: |          | 0/? [00:00<?, ?it/s]"
      ],
      "application/vnd.jupyter.widget-view+json": {
       "version_major": 2,
       "version_minor": 0,
       "model_id": "410cbf77a2054eca9753f39e110c5754"
      }
     },
     "metadata": {},
     "output_type": "display_data"
    },
    {
     "data": {
      "text/plain": [
       "Validation: |          | 0/? [00:00<?, ?it/s]"
      ],
      "application/vnd.jupyter.widget-view+json": {
       "version_major": 2,
       "version_minor": 0,
       "model_id": "a8374c6aa03b462eaf831466b55c52e9"
      }
     },
     "metadata": {},
     "output_type": "display_data"
    },
    {
     "data": {
      "text/plain": [
       "Validation: |          | 0/? [00:00<?, ?it/s]"
      ],
      "application/vnd.jupyter.widget-view+json": {
       "version_major": 2,
       "version_minor": 0,
       "model_id": "be9142aabe0f4ad8acb0c0c17c440a94"
      }
     },
     "metadata": {},
     "output_type": "display_data"
    },
    {
     "data": {
      "text/plain": [
       "Validation: |          | 0/? [00:00<?, ?it/s]"
      ],
      "application/vnd.jupyter.widget-view+json": {
       "version_major": 2,
       "version_minor": 0,
       "model_id": "bb190ac64fb84aeda9acd346a84a0b22"
      }
     },
     "metadata": {},
     "output_type": "display_data"
    },
    {
     "data": {
      "text/plain": [
       "Validation: |          | 0/? [00:00<?, ?it/s]"
      ],
      "application/vnd.jupyter.widget-view+json": {
       "version_major": 2,
       "version_minor": 0,
       "model_id": "10272e8c885b4e2784d5ec015e54d614"
      }
     },
     "metadata": {},
     "output_type": "display_data"
    },
    {
     "data": {
      "text/plain": [
       "Validation: |          | 0/? [00:00<?, ?it/s]"
      ],
      "application/vnd.jupyter.widget-view+json": {
       "version_major": 2,
       "version_minor": 0,
       "model_id": "7242fa4b76ed4e968d018ffc34930342"
      }
     },
     "metadata": {},
     "output_type": "display_data"
    },
    {
     "data": {
      "text/plain": [
       "Validation: |          | 0/? [00:00<?, ?it/s]"
      ],
      "application/vnd.jupyter.widget-view+json": {
       "version_major": 2,
       "version_minor": 0,
       "model_id": "c7696a5aeefd45b5bad50f51d3afb6f8"
      }
     },
     "metadata": {},
     "output_type": "display_data"
    },
    {
     "data": {
      "text/plain": [
       "Validation: |          | 0/? [00:00<?, ?it/s]"
      ],
      "application/vnd.jupyter.widget-view+json": {
       "version_major": 2,
       "version_minor": 0,
       "model_id": "51beb3c54e364b25a3fbfae879816e7c"
      }
     },
     "metadata": {},
     "output_type": "display_data"
    },
    {
     "data": {
      "text/plain": [
       "Validation: |          | 0/? [00:00<?, ?it/s]"
      ],
      "application/vnd.jupyter.widget-view+json": {
       "version_major": 2,
       "version_minor": 0,
       "model_id": "4a21a11443b94bfda7d89d451f937779"
      }
     },
     "metadata": {},
     "output_type": "display_data"
    },
    {
     "data": {
      "text/plain": [
       "Validation: |          | 0/? [00:00<?, ?it/s]"
      ],
      "application/vnd.jupyter.widget-view+json": {
       "version_major": 2,
       "version_minor": 0,
       "model_id": "2465d82dcc364f709c0616a934591241"
      }
     },
     "metadata": {},
     "output_type": "display_data"
    },
    {
     "data": {
      "text/plain": [
       "Validation: |          | 0/? [00:00<?, ?it/s]"
      ],
      "application/vnd.jupyter.widget-view+json": {
       "version_major": 2,
       "version_minor": 0,
       "model_id": "aece3bb9b4724fec9b7c1bea5c5b597a"
      }
     },
     "metadata": {},
     "output_type": "display_data"
    },
    {
     "data": {
      "text/plain": [
       "Validation: |          | 0/? [00:00<?, ?it/s]"
      ],
      "application/vnd.jupyter.widget-view+json": {
       "version_major": 2,
       "version_minor": 0,
       "model_id": "088b6e0b27ae4cac8ef4fbda558a43ee"
      }
     },
     "metadata": {},
     "output_type": "display_data"
    },
    {
     "data": {
      "text/plain": [
       "Validation: |          | 0/? [00:00<?, ?it/s]"
      ],
      "application/vnd.jupyter.widget-view+json": {
       "version_major": 2,
       "version_minor": 0,
       "model_id": "4adfae482eec4441839ba7e6dbfe4f0e"
      }
     },
     "metadata": {},
     "output_type": "display_data"
    },
    {
     "data": {
      "text/plain": [
       "Validation: |          | 0/? [00:00<?, ?it/s]"
      ],
      "application/vnd.jupyter.widget-view+json": {
       "version_major": 2,
       "version_minor": 0,
       "model_id": "74a7291ec76f4cdab8e9952cfd9e1f1a"
      }
     },
     "metadata": {},
     "output_type": "display_data"
    },
    {
     "data": {
      "text/plain": [
       "Validation: |          | 0/? [00:00<?, ?it/s]"
      ],
      "application/vnd.jupyter.widget-view+json": {
       "version_major": 2,
       "version_minor": 0,
       "model_id": "7b34fddbb68a434dbb4045f1a16121f0"
      }
     },
     "metadata": {},
     "output_type": "display_data"
    },
    {
     "data": {
      "text/plain": [
       "Validation: |          | 0/? [00:00<?, ?it/s]"
      ],
      "application/vnd.jupyter.widget-view+json": {
       "version_major": 2,
       "version_minor": 0,
       "model_id": "937d582eaadd4eb9bba9216378ac54e3"
      }
     },
     "metadata": {},
     "output_type": "display_data"
    },
    {
     "data": {
      "text/plain": [
       "Validation: |          | 0/? [00:00<?, ?it/s]"
      ],
      "application/vnd.jupyter.widget-view+json": {
       "version_major": 2,
       "version_minor": 0,
       "model_id": "9c04bf5dc1304589a22f0528d9ab4eae"
      }
     },
     "metadata": {},
     "output_type": "display_data"
    },
    {
     "data": {
      "text/plain": [
       "Validation: |          | 0/? [00:00<?, ?it/s]"
      ],
      "application/vnd.jupyter.widget-view+json": {
       "version_major": 2,
       "version_minor": 0,
       "model_id": "f3d98a482e5c46acbb47c10c0dbf5d81"
      }
     },
     "metadata": {},
     "output_type": "display_data"
    },
    {
     "data": {
      "text/plain": [
       "Validation: |          | 0/? [00:00<?, ?it/s]"
      ],
      "application/vnd.jupyter.widget-view+json": {
       "version_major": 2,
       "version_minor": 0,
       "model_id": "b36ad24e1e194a7bb92af38ca920ee4d"
      }
     },
     "metadata": {},
     "output_type": "display_data"
    },
    {
     "data": {
      "text/plain": [
       "Validation: |          | 0/? [00:00<?, ?it/s]"
      ],
      "application/vnd.jupyter.widget-view+json": {
       "version_major": 2,
       "version_minor": 0,
       "model_id": "e07cfec0546e4c8fb57f0fb239269635"
      }
     },
     "metadata": {},
     "output_type": "display_data"
    },
    {
     "data": {
      "text/plain": [
       "Validation: |          | 0/? [00:00<?, ?it/s]"
      ],
      "application/vnd.jupyter.widget-view+json": {
       "version_major": 2,
       "version_minor": 0,
       "model_id": "49f74335291942bd926513c10d5a910e"
      }
     },
     "metadata": {},
     "output_type": "display_data"
    },
    {
     "data": {
      "text/plain": [
       "Validation: |          | 0/? [00:00<?, ?it/s]"
      ],
      "application/vnd.jupyter.widget-view+json": {
       "version_major": 2,
       "version_minor": 0,
       "model_id": "5641d2fee0a144a4a47ab1f08eb18446"
      }
     },
     "metadata": {},
     "output_type": "display_data"
    },
    {
     "data": {
      "text/plain": [
       "Validation: |          | 0/? [00:00<?, ?it/s]"
      ],
      "application/vnd.jupyter.widget-view+json": {
       "version_major": 2,
       "version_minor": 0,
       "model_id": "12189c7b6d9c4e6abf8e9fe8acf47064"
      }
     },
     "metadata": {},
     "output_type": "display_data"
    },
    {
     "data": {
      "text/plain": [
       "Validation: |          | 0/? [00:00<?, ?it/s]"
      ],
      "application/vnd.jupyter.widget-view+json": {
       "version_major": 2,
       "version_minor": 0,
       "model_id": "b62ee2e150bf465da45b1b23718ba080"
      }
     },
     "metadata": {},
     "output_type": "display_data"
    },
    {
     "data": {
      "text/plain": [
       "Validation: |          | 0/? [00:00<?, ?it/s]"
      ],
      "application/vnd.jupyter.widget-view+json": {
       "version_major": 2,
       "version_minor": 0,
       "model_id": "d50f3fbc65704f51b4a693f2b6bd73cb"
      }
     },
     "metadata": {},
     "output_type": "display_data"
    },
    {
     "data": {
      "text/plain": [
       "Validation: |          | 0/? [00:00<?, ?it/s]"
      ],
      "application/vnd.jupyter.widget-view+json": {
       "version_major": 2,
       "version_minor": 0,
       "model_id": "2291734badd54ddcaa25683a112a8bcc"
      }
     },
     "metadata": {},
     "output_type": "display_data"
    },
    {
     "data": {
      "text/plain": [
       "Validation: |          | 0/? [00:00<?, ?it/s]"
      ],
      "application/vnd.jupyter.widget-view+json": {
       "version_major": 2,
       "version_minor": 0,
       "model_id": "f17922b517de418fb2d2597ce03bcd9b"
      }
     },
     "metadata": {},
     "output_type": "display_data"
    },
    {
     "data": {
      "text/plain": [
       "Validation: |          | 0/? [00:00<?, ?it/s]"
      ],
      "application/vnd.jupyter.widget-view+json": {
       "version_major": 2,
       "version_minor": 0,
       "model_id": "68a59ef48a69496c90edb8751f65211e"
      }
     },
     "metadata": {},
     "output_type": "display_data"
    },
    {
     "data": {
      "text/plain": [
       "Validation: |          | 0/? [00:00<?, ?it/s]"
      ],
      "application/vnd.jupyter.widget-view+json": {
       "version_major": 2,
       "version_minor": 0,
       "model_id": "70dfc8df35c04eaab64f0b143ec0f158"
      }
     },
     "metadata": {},
     "output_type": "display_data"
    },
    {
     "data": {
      "text/plain": [
       "Validation: |          | 0/? [00:00<?, ?it/s]"
      ],
      "application/vnd.jupyter.widget-view+json": {
       "version_major": 2,
       "version_minor": 0,
       "model_id": "ec377502344040d196cda658b26ad93e"
      }
     },
     "metadata": {},
     "output_type": "display_data"
    },
    {
     "data": {
      "text/plain": [
       "Validation: |          | 0/? [00:00<?, ?it/s]"
      ],
      "application/vnd.jupyter.widget-view+json": {
       "version_major": 2,
       "version_minor": 0,
       "model_id": "c241615f9d83419384fb0ecb2afd4c46"
      }
     },
     "metadata": {},
     "output_type": "display_data"
    },
    {
     "data": {
      "text/plain": [
       "Validation: |          | 0/? [00:00<?, ?it/s]"
      ],
      "application/vnd.jupyter.widget-view+json": {
       "version_major": 2,
       "version_minor": 0,
       "model_id": "e27a51bf8b3c4c149d714d486fd6b011"
      }
     },
     "metadata": {},
     "output_type": "display_data"
    },
    {
     "data": {
      "text/plain": [
       "Validation: |          | 0/? [00:00<?, ?it/s]"
      ],
      "application/vnd.jupyter.widget-view+json": {
       "version_major": 2,
       "version_minor": 0,
       "model_id": "4ed752653a25401eabd16fce1c1fe419"
      }
     },
     "metadata": {},
     "output_type": "display_data"
    },
    {
     "data": {
      "text/plain": [
       "Validation: |          | 0/? [00:00<?, ?it/s]"
      ],
      "application/vnd.jupyter.widget-view+json": {
       "version_major": 2,
       "version_minor": 0,
       "model_id": "99d8612f14f14948a4b5a67a8a484445"
      }
     },
     "metadata": {},
     "output_type": "display_data"
    },
    {
     "data": {
      "text/plain": [
       "Validation: |          | 0/? [00:00<?, ?it/s]"
      ],
      "application/vnd.jupyter.widget-view+json": {
       "version_major": 2,
       "version_minor": 0,
       "model_id": "c2a2ed4b9f214a03acfcb87c896ac35e"
      }
     },
     "metadata": {},
     "output_type": "display_data"
    },
    {
     "data": {
      "text/plain": [
       "Validation: |          | 0/? [00:00<?, ?it/s]"
      ],
      "application/vnd.jupyter.widget-view+json": {
       "version_major": 2,
       "version_minor": 0,
       "model_id": "6ffdc38d035345778a559d173fced887"
      }
     },
     "metadata": {},
     "output_type": "display_data"
    },
    {
     "data": {
      "text/plain": [
       "Validation: |          | 0/? [00:00<?, ?it/s]"
      ],
      "application/vnd.jupyter.widget-view+json": {
       "version_major": 2,
       "version_minor": 0,
       "model_id": "629c3e402fba4dcb965615a732d8db80"
      }
     },
     "metadata": {},
     "output_type": "display_data"
    },
    {
     "data": {
      "text/plain": [
       "Validation: |          | 0/? [00:00<?, ?it/s]"
      ],
      "application/vnd.jupyter.widget-view+json": {
       "version_major": 2,
       "version_minor": 0,
       "model_id": "560aea78afa04571a053cae518ee5726"
      }
     },
     "metadata": {},
     "output_type": "display_data"
    },
    {
     "data": {
      "text/plain": [
       "Validation: |          | 0/? [00:00<?, ?it/s]"
      ],
      "application/vnd.jupyter.widget-view+json": {
       "version_major": 2,
       "version_minor": 0,
       "model_id": "3b2b88e94cbc4d6ab5a2d416c24f5c2a"
      }
     },
     "metadata": {},
     "output_type": "display_data"
    },
    {
     "data": {
      "text/plain": [
       "Validation: |          | 0/? [00:00<?, ?it/s]"
      ],
      "application/vnd.jupyter.widget-view+json": {
       "version_major": 2,
       "version_minor": 0,
       "model_id": "cae7d91e2fdf4df494d69b49ae785869"
      }
     },
     "metadata": {},
     "output_type": "display_data"
    },
    {
     "data": {
      "text/plain": [
       "Validation: |          | 0/? [00:00<?, ?it/s]"
      ],
      "application/vnd.jupyter.widget-view+json": {
       "version_major": 2,
       "version_minor": 0,
       "model_id": "658ac0080cfc41078dfd361b2786cccc"
      }
     },
     "metadata": {},
     "output_type": "display_data"
    },
    {
     "data": {
      "text/plain": [
       "Validation: |          | 0/? [00:00<?, ?it/s]"
      ],
      "application/vnd.jupyter.widget-view+json": {
       "version_major": 2,
       "version_minor": 0,
       "model_id": "72431277e17f4f0db3af53e7dee4daf6"
      }
     },
     "metadata": {},
     "output_type": "display_data"
    },
    {
     "data": {
      "text/plain": [
       "Validation: |          | 0/? [00:00<?, ?it/s]"
      ],
      "application/vnd.jupyter.widget-view+json": {
       "version_major": 2,
       "version_minor": 0,
       "model_id": "8a1135136dfc47fc9c860d4ba5d82875"
      }
     },
     "metadata": {},
     "output_type": "display_data"
    },
    {
     "data": {
      "text/plain": [
       "Validation: |          | 0/? [00:00<?, ?it/s]"
      ],
      "application/vnd.jupyter.widget-view+json": {
       "version_major": 2,
       "version_minor": 0,
       "model_id": "cff9ab02f9a443b5b1aa83f15d233f6b"
      }
     },
     "metadata": {},
     "output_type": "display_data"
    },
    {
     "data": {
      "text/plain": [
       "Validation: |          | 0/? [00:00<?, ?it/s]"
      ],
      "application/vnd.jupyter.widget-view+json": {
       "version_major": 2,
       "version_minor": 0,
       "model_id": "ec98b6fc7ce641a0b3edfa94028797a3"
      }
     },
     "metadata": {},
     "output_type": "display_data"
    },
    {
     "data": {
      "text/plain": [
       "Validation: |          | 0/? [00:00<?, ?it/s]"
      ],
      "application/vnd.jupyter.widget-view+json": {
       "version_major": 2,
       "version_minor": 0,
       "model_id": "e5d51f225114479da33551a0935d23b2"
      }
     },
     "metadata": {},
     "output_type": "display_data"
    },
    {
     "data": {
      "text/plain": [
       "Validation: |          | 0/? [00:00<?, ?it/s]"
      ],
      "application/vnd.jupyter.widget-view+json": {
       "version_major": 2,
       "version_minor": 0,
       "model_id": "c5438caae5164a33a3b351d318c177ce"
      }
     },
     "metadata": {},
     "output_type": "display_data"
    },
    {
     "data": {
      "text/plain": [
       "Validation: |          | 0/? [00:00<?, ?it/s]"
      ],
      "application/vnd.jupyter.widget-view+json": {
       "version_major": 2,
       "version_minor": 0,
       "model_id": "c5c1e0cdc93c48e596a3ff9c9e578119"
      }
     },
     "metadata": {},
     "output_type": "display_data"
    },
    {
     "data": {
      "text/plain": [
       "Validation: |          | 0/? [00:00<?, ?it/s]"
      ],
      "application/vnd.jupyter.widget-view+json": {
       "version_major": 2,
       "version_minor": 0,
       "model_id": "3b84464680634368a444087a156eaf2c"
      }
     },
     "metadata": {},
     "output_type": "display_data"
    },
    {
     "data": {
      "text/plain": [
       "Validation: |          | 0/? [00:00<?, ?it/s]"
      ],
      "application/vnd.jupyter.widget-view+json": {
       "version_major": 2,
       "version_minor": 0,
       "model_id": "b867a5b222784a1286819ec7c3dcd0da"
      }
     },
     "metadata": {},
     "output_type": "display_data"
    },
    {
     "data": {
      "text/plain": [
       "Validation: |          | 0/? [00:00<?, ?it/s]"
      ],
      "application/vnd.jupyter.widget-view+json": {
       "version_major": 2,
       "version_minor": 0,
       "model_id": "828e2f9b2a88407383da4415e5c3f2d8"
      }
     },
     "metadata": {},
     "output_type": "display_data"
    },
    {
     "data": {
      "text/plain": [
       "Validation: |          | 0/? [00:00<?, ?it/s]"
      ],
      "application/vnd.jupyter.widget-view+json": {
       "version_major": 2,
       "version_minor": 0,
       "model_id": "d550746d57504e82a5b6d481131469ca"
      }
     },
     "metadata": {},
     "output_type": "display_data"
    },
    {
     "data": {
      "text/plain": [
       "Validation: |          | 0/? [00:00<?, ?it/s]"
      ],
      "application/vnd.jupyter.widget-view+json": {
       "version_major": 2,
       "version_minor": 0,
       "model_id": "161874940f904987baae72278163fc39"
      }
     },
     "metadata": {},
     "output_type": "display_data"
    },
    {
     "data": {
      "text/plain": [
       "Validation: |          | 0/? [00:00<?, ?it/s]"
      ],
      "application/vnd.jupyter.widget-view+json": {
       "version_major": 2,
       "version_minor": 0,
       "model_id": "27220a0d9b394adcac344355424ec92f"
      }
     },
     "metadata": {},
     "output_type": "display_data"
    },
    {
     "data": {
      "text/plain": [
       "Validation: |          | 0/? [00:00<?, ?it/s]"
      ],
      "application/vnd.jupyter.widget-view+json": {
       "version_major": 2,
       "version_minor": 0,
       "model_id": "fc96ab81841c460480389d004bcf5da4"
      }
     },
     "metadata": {},
     "output_type": "display_data"
    },
    {
     "data": {
      "text/plain": [
       "Validation: |          | 0/? [00:00<?, ?it/s]"
      ],
      "application/vnd.jupyter.widget-view+json": {
       "version_major": 2,
       "version_minor": 0,
       "model_id": "6d4c93233a814ee9a67cfabac86db257"
      }
     },
     "metadata": {},
     "output_type": "display_data"
    },
    {
     "data": {
      "text/plain": [
       "Validation: |          | 0/? [00:00<?, ?it/s]"
      ],
      "application/vnd.jupyter.widget-view+json": {
       "version_major": 2,
       "version_minor": 0,
       "model_id": "73b76f607dca44a48b5671bdd1e2d046"
      }
     },
     "metadata": {},
     "output_type": "display_data"
    },
    {
     "data": {
      "text/plain": [
       "Validation: |          | 0/? [00:00<?, ?it/s]"
      ],
      "application/vnd.jupyter.widget-view+json": {
       "version_major": 2,
       "version_minor": 0,
       "model_id": "4412c9366bd34502900663dcc6aaa6e8"
      }
     },
     "metadata": {},
     "output_type": "display_data"
    },
    {
     "data": {
      "text/plain": [
       "Validation: |          | 0/? [00:00<?, ?it/s]"
      ],
      "application/vnd.jupyter.widget-view+json": {
       "version_major": 2,
       "version_minor": 0,
       "model_id": "1ea36d576e1f48a88f5b83fc8a78b7de"
      }
     },
     "metadata": {},
     "output_type": "display_data"
    },
    {
     "data": {
      "text/plain": [
       "Validation: |          | 0/? [00:00<?, ?it/s]"
      ],
      "application/vnd.jupyter.widget-view+json": {
       "version_major": 2,
       "version_minor": 0,
       "model_id": "47f085b4d23b44ddbb60d8a6241c4f8b"
      }
     },
     "metadata": {},
     "output_type": "display_data"
    },
    {
     "data": {
      "text/plain": [
       "Validation: |          | 0/? [00:00<?, ?it/s]"
      ],
      "application/vnd.jupyter.widget-view+json": {
       "version_major": 2,
       "version_minor": 0,
       "model_id": "def3e29a4926445baf0800f6613206b9"
      }
     },
     "metadata": {},
     "output_type": "display_data"
    },
    {
     "data": {
      "text/plain": [
       "Validation: |          | 0/? [00:00<?, ?it/s]"
      ],
      "application/vnd.jupyter.widget-view+json": {
       "version_major": 2,
       "version_minor": 0,
       "model_id": "9bcf8eb4a07d472c9e43b79248a747dd"
      }
     },
     "metadata": {},
     "output_type": "display_data"
    },
    {
     "data": {
      "text/plain": [
       "Validation: |          | 0/? [00:00<?, ?it/s]"
      ],
      "application/vnd.jupyter.widget-view+json": {
       "version_major": 2,
       "version_minor": 0,
       "model_id": "6bad8c644db14a76a5ccd099ea0ac8b0"
      }
     },
     "metadata": {},
     "output_type": "display_data"
    },
    {
     "data": {
      "text/plain": [
       "Validation: |          | 0/? [00:00<?, ?it/s]"
      ],
      "application/vnd.jupyter.widget-view+json": {
       "version_major": 2,
       "version_minor": 0,
       "model_id": "ee8f335276854240a6769da9299bd11e"
      }
     },
     "metadata": {},
     "output_type": "display_data"
    },
    {
     "data": {
      "text/plain": [
       "Validation: |          | 0/? [00:00<?, ?it/s]"
      ],
      "application/vnd.jupyter.widget-view+json": {
       "version_major": 2,
       "version_minor": 0,
       "model_id": "8cc568c1e363411aaa6e5dd4a71b6a3f"
      }
     },
     "metadata": {},
     "output_type": "display_data"
    },
    {
     "data": {
      "text/plain": [
       "Validation: |          | 0/? [00:00<?, ?it/s]"
      ],
      "application/vnd.jupyter.widget-view+json": {
       "version_major": 2,
       "version_minor": 0,
       "model_id": "877550ef61714f34b470e4d774b1716b"
      }
     },
     "metadata": {},
     "output_type": "display_data"
    },
    {
     "data": {
      "text/plain": [
       "Validation: |          | 0/? [00:00<?, ?it/s]"
      ],
      "application/vnd.jupyter.widget-view+json": {
       "version_major": 2,
       "version_minor": 0,
       "model_id": "878555ca722241de89b3181a1e30b9f2"
      }
     },
     "metadata": {},
     "output_type": "display_data"
    },
    {
     "data": {
      "text/plain": [
       "Validation: |          | 0/? [00:00<?, ?it/s]"
      ],
      "application/vnd.jupyter.widget-view+json": {
       "version_major": 2,
       "version_minor": 0,
       "model_id": "3fd7a2c7d69a4932914d64b83a72d4e2"
      }
     },
     "metadata": {},
     "output_type": "display_data"
    },
    {
     "data": {
      "text/plain": [
       "Validation: |          | 0/? [00:00<?, ?it/s]"
      ],
      "application/vnd.jupyter.widget-view+json": {
       "version_major": 2,
       "version_minor": 0,
       "model_id": "aca10e549a0b4138ab8c024856b32782"
      }
     },
     "metadata": {},
     "output_type": "display_data"
    },
    {
     "data": {
      "text/plain": [
       "Validation: |          | 0/? [00:00<?, ?it/s]"
      ],
      "application/vnd.jupyter.widget-view+json": {
       "version_major": 2,
       "version_minor": 0,
       "model_id": "3f31bdbe39b1489c803efa1bbac3e71c"
      }
     },
     "metadata": {},
     "output_type": "display_data"
    },
    {
     "data": {
      "text/plain": [
       "Validation: |          | 0/? [00:00<?, ?it/s]"
      ],
      "application/vnd.jupyter.widget-view+json": {
       "version_major": 2,
       "version_minor": 0,
       "model_id": "a382fdb304cc4a588065ed9713ee8e73"
      }
     },
     "metadata": {},
     "output_type": "display_data"
    },
    {
     "data": {
      "text/plain": [
       "Validation: |          | 0/? [00:00<?, ?it/s]"
      ],
      "application/vnd.jupyter.widget-view+json": {
       "version_major": 2,
       "version_minor": 0,
       "model_id": "9d4766c78a924c3e9c766e9acaba8d80"
      }
     },
     "metadata": {},
     "output_type": "display_data"
    },
    {
     "data": {
      "text/plain": [
       "Validation: |          | 0/? [00:00<?, ?it/s]"
      ],
      "application/vnd.jupyter.widget-view+json": {
       "version_major": 2,
       "version_minor": 0,
       "model_id": "79ffc76a2aa9489491b605e9cb340428"
      }
     },
     "metadata": {},
     "output_type": "display_data"
    },
    {
     "data": {
      "text/plain": [
       "Validation: |          | 0/? [00:00<?, ?it/s]"
      ],
      "application/vnd.jupyter.widget-view+json": {
       "version_major": 2,
       "version_minor": 0,
       "model_id": "32977e733d264cdca2d4b8d43531859f"
      }
     },
     "metadata": {},
     "output_type": "display_data"
    },
    {
     "data": {
      "text/plain": [
       "Validation: |          | 0/? [00:00<?, ?it/s]"
      ],
      "application/vnd.jupyter.widget-view+json": {
       "version_major": 2,
       "version_minor": 0,
       "model_id": "5ac30f68e4994e76b4db5238f88c86f9"
      }
     },
     "metadata": {},
     "output_type": "display_data"
    },
    {
     "data": {
      "text/plain": [
       "Validation: |          | 0/? [00:00<?, ?it/s]"
      ],
      "application/vnd.jupyter.widget-view+json": {
       "version_major": 2,
       "version_minor": 0,
       "model_id": "9ca6f497ee0e46388e07f58709addb3e"
      }
     },
     "metadata": {},
     "output_type": "display_data"
    },
    {
     "data": {
      "text/plain": [
       "Validation: |          | 0/? [00:00<?, ?it/s]"
      ],
      "application/vnd.jupyter.widget-view+json": {
       "version_major": 2,
       "version_minor": 0,
       "model_id": "03b1029224a845b1b5b46ff45b70b246"
      }
     },
     "metadata": {},
     "output_type": "display_data"
    },
    {
     "data": {
      "text/plain": [
       "Validation: |          | 0/? [00:00<?, ?it/s]"
      ],
      "application/vnd.jupyter.widget-view+json": {
       "version_major": 2,
       "version_minor": 0,
       "model_id": "28a74d26943e4d809c375eedb80a75f3"
      }
     },
     "metadata": {},
     "output_type": "display_data"
    },
    {
     "data": {
      "text/plain": [
       "Validation: |          | 0/? [00:00<?, ?it/s]"
      ],
      "application/vnd.jupyter.widget-view+json": {
       "version_major": 2,
       "version_minor": 0,
       "model_id": "aba7773151024a2d9d92414fb9137c61"
      }
     },
     "metadata": {},
     "output_type": "display_data"
    },
    {
     "data": {
      "text/plain": [
       "Validation: |          | 0/? [00:00<?, ?it/s]"
      ],
      "application/vnd.jupyter.widget-view+json": {
       "version_major": 2,
       "version_minor": 0,
       "model_id": "bcba5b203527400b988540f89ffa22d8"
      }
     },
     "metadata": {},
     "output_type": "display_data"
    },
    {
     "data": {
      "text/plain": [
       "Validation: |          | 0/? [00:00<?, ?it/s]"
      ],
      "application/vnd.jupyter.widget-view+json": {
       "version_major": 2,
       "version_minor": 0,
       "model_id": "38e5c71b654d4a59aa2935dcba68c4fe"
      }
     },
     "metadata": {},
     "output_type": "display_data"
    },
    {
     "data": {
      "text/plain": [
       "Validation: |          | 0/? [00:00<?, ?it/s]"
      ],
      "application/vnd.jupyter.widget-view+json": {
       "version_major": 2,
       "version_minor": 0,
       "model_id": "b03e4609a4f041119aedaaf63a4a51ef"
      }
     },
     "metadata": {},
     "output_type": "display_data"
    },
    {
     "data": {
      "text/plain": [
       "Validation: |          | 0/? [00:00<?, ?it/s]"
      ],
      "application/vnd.jupyter.widget-view+json": {
       "version_major": 2,
       "version_minor": 0,
       "model_id": "bdfe33e149694c3196ace084387ed2b6"
      }
     },
     "metadata": {},
     "output_type": "display_data"
    },
    {
     "data": {
      "text/plain": [
       "Validation: |          | 0/? [00:00<?, ?it/s]"
      ],
      "application/vnd.jupyter.widget-view+json": {
       "version_major": 2,
       "version_minor": 0,
       "model_id": "3f11fcbfacbd4f14a327b1ef5cdd554b"
      }
     },
     "metadata": {},
     "output_type": "display_data"
    },
    {
     "data": {
      "text/plain": [
       "Validation: |          | 0/? [00:00<?, ?it/s]"
      ],
      "application/vnd.jupyter.widget-view+json": {
       "version_major": 2,
       "version_minor": 0,
       "model_id": "bd0d8711238f4367a9f5b6eee6955c21"
      }
     },
     "metadata": {},
     "output_type": "display_data"
    },
    {
     "data": {
      "text/plain": [
       "Validation: |          | 0/? [00:00<?, ?it/s]"
      ],
      "application/vnd.jupyter.widget-view+json": {
       "version_major": 2,
       "version_minor": 0,
       "model_id": "73882711e7b44b2fbb8d69604013fc59"
      }
     },
     "metadata": {},
     "output_type": "display_data"
    },
    {
     "data": {
      "text/plain": [
       "Validation: |          | 0/? [00:00<?, ?it/s]"
      ],
      "application/vnd.jupyter.widget-view+json": {
       "version_major": 2,
       "version_minor": 0,
       "model_id": "fe41ce8cea36480eac6460b6be73b162"
      }
     },
     "metadata": {},
     "output_type": "display_data"
    },
    {
     "data": {
      "text/plain": [
       "Validation: |          | 0/? [00:00<?, ?it/s]"
      ],
      "application/vnd.jupyter.widget-view+json": {
       "version_major": 2,
       "version_minor": 0,
       "model_id": "42826c173cad4823a2ba3ad6995fafff"
      }
     },
     "metadata": {},
     "output_type": "display_data"
    },
    {
     "data": {
      "text/plain": [
       "Validation: |          | 0/? [00:00<?, ?it/s]"
      ],
      "application/vnd.jupyter.widget-view+json": {
       "version_major": 2,
       "version_minor": 0,
       "model_id": "444eb81222a44acd8728a8919a4aa7b1"
      }
     },
     "metadata": {},
     "output_type": "display_data"
    },
    {
     "data": {
      "text/plain": [
       "Validation: |          | 0/? [00:00<?, ?it/s]"
      ],
      "application/vnd.jupyter.widget-view+json": {
       "version_major": 2,
       "version_minor": 0,
       "model_id": "1e5efda667734d53abd179b75fc4b83e"
      }
     },
     "metadata": {},
     "output_type": "display_data"
    },
    {
     "data": {
      "text/plain": [
       "Validation: |          | 0/? [00:00<?, ?it/s]"
      ],
      "application/vnd.jupyter.widget-view+json": {
       "version_major": 2,
       "version_minor": 0,
       "model_id": "fee74bf4380547fb978f240497d4cdd7"
      }
     },
     "metadata": {},
     "output_type": "display_data"
    },
    {
     "data": {
      "text/plain": [
       "Validation: |          | 0/? [00:00<?, ?it/s]"
      ],
      "application/vnd.jupyter.widget-view+json": {
       "version_major": 2,
       "version_minor": 0,
       "model_id": "2bde9feef0db45d3a7d46f5a4cff6d04"
      }
     },
     "metadata": {},
     "output_type": "display_data"
    },
    {
     "data": {
      "text/plain": [
       "Validation: |          | 0/? [00:00<?, ?it/s]"
      ],
      "application/vnd.jupyter.widget-view+json": {
       "version_major": 2,
       "version_minor": 0,
       "model_id": "d67d8080535c4bd78fca8e0ef63cf931"
      }
     },
     "metadata": {},
     "output_type": "display_data"
    },
    {
     "data": {
      "text/plain": [
       "Validation: |          | 0/? [00:00<?, ?it/s]"
      ],
      "application/vnd.jupyter.widget-view+json": {
       "version_major": 2,
       "version_minor": 0,
       "model_id": "76e7fb6490204b0c9c3d2095051fcd34"
      }
     },
     "metadata": {},
     "output_type": "display_data"
    },
    {
     "data": {
      "text/plain": [
       "Validation: |          | 0/? [00:00<?, ?it/s]"
      ],
      "application/vnd.jupyter.widget-view+json": {
       "version_major": 2,
       "version_minor": 0,
       "model_id": "548ae799438349aebbc8f84d2f6c2d60"
      }
     },
     "metadata": {},
     "output_type": "display_data"
    },
    {
     "data": {
      "text/plain": [
       "Validation: |          | 0/? [00:00<?, ?it/s]"
      ],
      "application/vnd.jupyter.widget-view+json": {
       "version_major": 2,
       "version_minor": 0,
       "model_id": "28eaddb5baf94ad88f01c6392c978f9a"
      }
     },
     "metadata": {},
     "output_type": "display_data"
    },
    {
     "data": {
      "text/plain": [
       "Validation: |          | 0/? [00:00<?, ?it/s]"
      ],
      "application/vnd.jupyter.widget-view+json": {
       "version_major": 2,
       "version_minor": 0,
       "model_id": "5d1da671ac90437ab667756e1cc239e9"
      }
     },
     "metadata": {},
     "output_type": "display_data"
    },
    {
     "data": {
      "text/plain": [
       "Validation: |          | 0/? [00:00<?, ?it/s]"
      ],
      "application/vnd.jupyter.widget-view+json": {
       "version_major": 2,
       "version_minor": 0,
       "model_id": "bfec3672f5fd4c608f4c1b7ab18752d3"
      }
     },
     "metadata": {},
     "output_type": "display_data"
    },
    {
     "data": {
      "text/plain": [
       "Validation: |          | 0/? [00:00<?, ?it/s]"
      ],
      "application/vnd.jupyter.widget-view+json": {
       "version_major": 2,
       "version_minor": 0,
       "model_id": "4d7a151b2f8f448e8dce20dbe0c9bc2b"
      }
     },
     "metadata": {},
     "output_type": "display_data"
    },
    {
     "data": {
      "text/plain": [
       "Validation: |          | 0/? [00:00<?, ?it/s]"
      ],
      "application/vnd.jupyter.widget-view+json": {
       "version_major": 2,
       "version_minor": 0,
       "model_id": "b7bb64d24f9c4566b96badd6222cd677"
      }
     },
     "metadata": {},
     "output_type": "display_data"
    },
    {
     "data": {
      "text/plain": [
       "Validation: |          | 0/? [00:00<?, ?it/s]"
      ],
      "application/vnd.jupyter.widget-view+json": {
       "version_major": 2,
       "version_minor": 0,
       "model_id": "f4378a1f63d342e986ace0dc7984435c"
      }
     },
     "metadata": {},
     "output_type": "display_data"
    },
    {
     "data": {
      "text/plain": [
       "Validation: |          | 0/? [00:00<?, ?it/s]"
      ],
      "application/vnd.jupyter.widget-view+json": {
       "version_major": 2,
       "version_minor": 0,
       "model_id": "31ca88ec29e24e18a60997ff662759bc"
      }
     },
     "metadata": {},
     "output_type": "display_data"
    },
    {
     "data": {
      "text/plain": [
       "Validation: |          | 0/? [00:00<?, ?it/s]"
      ],
      "application/vnd.jupyter.widget-view+json": {
       "version_major": 2,
       "version_minor": 0,
       "model_id": "b5928930e8754eee8b5ea541f06fd257"
      }
     },
     "metadata": {},
     "output_type": "display_data"
    },
    {
     "data": {
      "text/plain": [
       "Validation: |          | 0/? [00:00<?, ?it/s]"
      ],
      "application/vnd.jupyter.widget-view+json": {
       "version_major": 2,
       "version_minor": 0,
       "model_id": "b525e2c8c3294dd59d81d13715de2931"
      }
     },
     "metadata": {},
     "output_type": "display_data"
    },
    {
     "data": {
      "text/plain": [
       "Validation: |          | 0/? [00:00<?, ?it/s]"
      ],
      "application/vnd.jupyter.widget-view+json": {
       "version_major": 2,
       "version_minor": 0,
       "model_id": "48af32b5303949aeb45ec17ae50cf52c"
      }
     },
     "metadata": {},
     "output_type": "display_data"
    },
    {
     "name": "stderr",
     "output_type": "stream",
     "text": [
      "`Trainer.fit` stopped: `max_epochs=120` reached.\n"
     ]
    },
    {
     "name": "stdout",
     "output_type": "stream",
     "text": [
      "кол-во айтемов 3647\n",
      "{'extra_cols': ['datetime']}\n"
     ]
    },
    {
     "name": "stderr",
     "output_type": "stream",
     "text": [
      "LOCAL_RANK: 0 - CUDA_VISIBLE_DEVICES: [0]\n"
     ]
    },
    {
     "name": "stdout",
     "output_type": "stream",
     "text": [
      "item_model.item_net_blocks.0.ids_emb.weight torch.Size([3647, 50])\n",
      "pos_encoding_layer.pos_emb.weight torch.Size([200, 50])\n",
      "transformer_layers.stu_blocks.0._uvqk torch.Size([50, 200])\n",
      "transformer_layers.stu_blocks.0._rel_attn_bias._ts_w torch.Size([129])\n",
      "transformer_layers.stu_blocks.0._rel_attn_bias._pos_w torch.Size([401])\n",
      "transformer_layers.stu_blocks.0._o.weight torch.Size([50, 50])\n",
      "transformer_layers.stu_blocks.0._o.bias torch.Size([50])\n",
      "transformer_layers.stu_blocks.1._uvqk torch.Size([50, 200])\n",
      "transformer_layers.stu_blocks.1._rel_attn_bias._ts_w torch.Size([129])\n",
      "transformer_layers.stu_blocks.1._rel_attn_bias._pos_w torch.Size([401])\n",
      "transformer_layers.stu_blocks.1._o.weight torch.Size([50, 50])\n",
      "transformer_layers.stu_blocks.1._o.bias torch.Size([50])\n",
      "transformer_layers.last_layernorm.weight torch.Size([50])\n",
      "transformer_layers.last_layernorm.bias torch.Size([50])\n"
     ]
    },
    {
     "data": {
      "text/plain": [
       "Sanity Checking: |          | 0/? [00:00<?, ?it/s]"
      ],
      "application/vnd.jupyter.widget-view+json": {
       "version_major": 2,
       "version_minor": 0,
       "model_id": "66dbfbcfd19048688f559c82981276d3"
      }
     },
     "metadata": {},
     "output_type": "display_data"
    },
    {
     "data": {
      "text/plain": [
       "Training: |          | 0/? [00:00<?, ?it/s]"
      ],
      "application/vnd.jupyter.widget-view+json": {
       "version_major": 2,
       "version_minor": 0,
       "model_id": "cfbbeefa4b0b4807b857171364d65ed4"
      }
     },
     "metadata": {},
     "output_type": "display_data"
    },
    {
     "data": {
      "text/plain": [
       "Validation: |          | 0/? [00:00<?, ?it/s]"
      ],
      "application/vnd.jupyter.widget-view+json": {
       "version_major": 2,
       "version_minor": 0,
       "model_id": "e54c8cdf56f5498c9d45eb033b57aadd"
      }
     },
     "metadata": {},
     "output_type": "display_data"
    },
    {
     "data": {
      "text/plain": [
       "Validation: |          | 0/? [00:00<?, ?it/s]"
      ],
      "application/vnd.jupyter.widget-view+json": {
       "version_major": 2,
       "version_minor": 0,
       "model_id": "f0df342902e94b2792536cfb65f4ed12"
      }
     },
     "metadata": {},
     "output_type": "display_data"
    },
    {
     "data": {
      "text/plain": [
       "Validation: |          | 0/? [00:00<?, ?it/s]"
      ],
      "application/vnd.jupyter.widget-view+json": {
       "version_major": 2,
       "version_minor": 0,
       "model_id": "9c2084d579184937b1d53dbd8da4aa47"
      }
     },
     "metadata": {},
     "output_type": "display_data"
    },
    {
     "data": {
      "text/plain": [
       "Validation: |          | 0/? [00:00<?, ?it/s]"
      ],
      "application/vnd.jupyter.widget-view+json": {
       "version_major": 2,
       "version_minor": 0,
       "model_id": "edf4539f179342b9a19dd373a723c386"
      }
     },
     "metadata": {},
     "output_type": "display_data"
    },
    {
     "data": {
      "text/plain": [
       "Validation: |          | 0/? [00:00<?, ?it/s]"
      ],
      "application/vnd.jupyter.widget-view+json": {
       "version_major": 2,
       "version_minor": 0,
       "model_id": "31f1cde0bb9942439addff01926a4436"
      }
     },
     "metadata": {},
     "output_type": "display_data"
    },
    {
     "data": {
      "text/plain": [
       "Validation: |          | 0/? [00:00<?, ?it/s]"
      ],
      "application/vnd.jupyter.widget-view+json": {
       "version_major": 2,
       "version_minor": 0,
       "model_id": "5e17a0e8c43c4d03adcacb6f0f058239"
      }
     },
     "metadata": {},
     "output_type": "display_data"
    },
    {
     "data": {
      "text/plain": [
       "Validation: |          | 0/? [00:00<?, ?it/s]"
      ],
      "application/vnd.jupyter.widget-view+json": {
       "version_major": 2,
       "version_minor": 0,
       "model_id": "9fc4f3f6157f4df8a5bbf816631b46af"
      }
     },
     "metadata": {},
     "output_type": "display_data"
    },
    {
     "data": {
      "text/plain": [
       "Validation: |          | 0/? [00:00<?, ?it/s]"
      ],
      "application/vnd.jupyter.widget-view+json": {
       "version_major": 2,
       "version_minor": 0,
       "model_id": "6e91914da2764833b185db7d931310ce"
      }
     },
     "metadata": {},
     "output_type": "display_data"
    },
    {
     "data": {
      "text/plain": [
       "Validation: |          | 0/? [00:00<?, ?it/s]"
      ],
      "application/vnd.jupyter.widget-view+json": {
       "version_major": 2,
       "version_minor": 0,
       "model_id": "b178a269f1fa444a8adf39e0c53be708"
      }
     },
     "metadata": {},
     "output_type": "display_data"
    },
    {
     "data": {
      "text/plain": [
       "Validation: |          | 0/? [00:00<?, ?it/s]"
      ],
      "application/vnd.jupyter.widget-view+json": {
       "version_major": 2,
       "version_minor": 0,
       "model_id": "a472503e177f4ba89984ffe6def8228e"
      }
     },
     "metadata": {},
     "output_type": "display_data"
    },
    {
     "data": {
      "text/plain": [
       "Validation: |          | 0/? [00:00<?, ?it/s]"
      ],
      "application/vnd.jupyter.widget-view+json": {
       "version_major": 2,
       "version_minor": 0,
       "model_id": "8c93a7f676684c2981dcc1904850e440"
      }
     },
     "metadata": {},
     "output_type": "display_data"
    },
    {
     "data": {
      "text/plain": [
       "Validation: |          | 0/? [00:00<?, ?it/s]"
      ],
      "application/vnd.jupyter.widget-view+json": {
       "version_major": 2,
       "version_minor": 0,
       "model_id": "7fde49ee3df94070a7ab5d31aafde162"
      }
     },
     "metadata": {},
     "output_type": "display_data"
    },
    {
     "data": {
      "text/plain": [
       "Validation: |          | 0/? [00:00<?, ?it/s]"
      ],
      "application/vnd.jupyter.widget-view+json": {
       "version_major": 2,
       "version_minor": 0,
       "model_id": "6412b82d63494b7bad24c5a97268a5fe"
      }
     },
     "metadata": {},
     "output_type": "display_data"
    },
    {
     "data": {
      "text/plain": [
       "Validation: |          | 0/? [00:00<?, ?it/s]"
      ],
      "application/vnd.jupyter.widget-view+json": {
       "version_major": 2,
       "version_minor": 0,
       "model_id": "1f9aa0a5aacc41939b5fbcad1125cac3"
      }
     },
     "metadata": {},
     "output_type": "display_data"
    },
    {
     "data": {
      "text/plain": [
       "Validation: |          | 0/? [00:00<?, ?it/s]"
      ],
      "application/vnd.jupyter.widget-view+json": {
       "version_major": 2,
       "version_minor": 0,
       "model_id": "9008256b7629450d9a3be4e1dace35db"
      }
     },
     "metadata": {},
     "output_type": "display_data"
    },
    {
     "data": {
      "text/plain": [
       "Validation: |          | 0/? [00:00<?, ?it/s]"
      ],
      "application/vnd.jupyter.widget-view+json": {
       "version_major": 2,
       "version_minor": 0,
       "model_id": "c5d626a98f8d4f4e954c75e018d3e5e3"
      }
     },
     "metadata": {},
     "output_type": "display_data"
    },
    {
     "data": {
      "text/plain": [
       "Validation: |          | 0/? [00:00<?, ?it/s]"
      ],
      "application/vnd.jupyter.widget-view+json": {
       "version_major": 2,
       "version_minor": 0,
       "model_id": "338f10f47a1742ae944e561268ee4f75"
      }
     },
     "metadata": {},
     "output_type": "display_data"
    },
    {
     "data": {
      "text/plain": [
       "Validation: |          | 0/? [00:00<?, ?it/s]"
      ],
      "application/vnd.jupyter.widget-view+json": {
       "version_major": 2,
       "version_minor": 0,
       "model_id": "57f825f73b5e4783bf41e5efb7a68d2a"
      }
     },
     "metadata": {},
     "output_type": "display_data"
    },
    {
     "data": {
      "text/plain": [
       "Validation: |          | 0/? [00:00<?, ?it/s]"
      ],
      "application/vnd.jupyter.widget-view+json": {
       "version_major": 2,
       "version_minor": 0,
       "model_id": "08841b74e62c493ebd2243f6123923ae"
      }
     },
     "metadata": {},
     "output_type": "display_data"
    },
    {
     "data": {
      "text/plain": [
       "Validation: |          | 0/? [00:00<?, ?it/s]"
      ],
      "application/vnd.jupyter.widget-view+json": {
       "version_major": 2,
       "version_minor": 0,
       "model_id": "ea9b2e55e94b4456a4f9fc41a48a8a6d"
      }
     },
     "metadata": {},
     "output_type": "display_data"
    },
    {
     "data": {
      "text/plain": [
       "Validation: |          | 0/? [00:00<?, ?it/s]"
      ],
      "application/vnd.jupyter.widget-view+json": {
       "version_major": 2,
       "version_minor": 0,
       "model_id": "1dc37f42fef346f8bc57b45e6017ea10"
      }
     },
     "metadata": {},
     "output_type": "display_data"
    },
    {
     "data": {
      "text/plain": [
       "Validation: |          | 0/? [00:00<?, ?it/s]"
      ],
      "application/vnd.jupyter.widget-view+json": {
       "version_major": 2,
       "version_minor": 0,
       "model_id": "583f046cfc0f48b887bb4dc84b7c5242"
      }
     },
     "metadata": {},
     "output_type": "display_data"
    },
    {
     "data": {
      "text/plain": [
       "Validation: |          | 0/? [00:00<?, ?it/s]"
      ],
      "application/vnd.jupyter.widget-view+json": {
       "version_major": 2,
       "version_minor": 0,
       "model_id": "04f9bbc738444885a459be71c00e16a9"
      }
     },
     "metadata": {},
     "output_type": "display_data"
    },
    {
     "data": {
      "text/plain": [
       "Validation: |          | 0/? [00:00<?, ?it/s]"
      ],
      "application/vnd.jupyter.widget-view+json": {
       "version_major": 2,
       "version_minor": 0,
       "model_id": "87d4f008e78e4caf87c8b8e746ba323d"
      }
     },
     "metadata": {},
     "output_type": "display_data"
    },
    {
     "data": {
      "text/plain": [
       "Validation: |          | 0/? [00:00<?, ?it/s]"
      ],
      "application/vnd.jupyter.widget-view+json": {
       "version_major": 2,
       "version_minor": 0,
       "model_id": "ecb9447d8364497e9620e835574aebce"
      }
     },
     "metadata": {},
     "output_type": "display_data"
    },
    {
     "data": {
      "text/plain": [
       "Validation: |          | 0/? [00:00<?, ?it/s]"
      ],
      "application/vnd.jupyter.widget-view+json": {
       "version_major": 2,
       "version_minor": 0,
       "model_id": "f96ff2dcb8ff482f8772e3490dce1f87"
      }
     },
     "metadata": {},
     "output_type": "display_data"
    },
    {
     "data": {
      "text/plain": [
       "Validation: |          | 0/? [00:00<?, ?it/s]"
      ],
      "application/vnd.jupyter.widget-view+json": {
       "version_major": 2,
       "version_minor": 0,
       "model_id": "dcba947013c446508dc18eab4893c940"
      }
     },
     "metadata": {},
     "output_type": "display_data"
    },
    {
     "data": {
      "text/plain": [
       "Validation: |          | 0/? [00:00<?, ?it/s]"
      ],
      "application/vnd.jupyter.widget-view+json": {
       "version_major": 2,
       "version_minor": 0,
       "model_id": "d2b90495b2f7445e96031c2edab544d3"
      }
     },
     "metadata": {},
     "output_type": "display_data"
    },
    {
     "data": {
      "text/plain": [
       "Validation: |          | 0/? [00:00<?, ?it/s]"
      ],
      "application/vnd.jupyter.widget-view+json": {
       "version_major": 2,
       "version_minor": 0,
       "model_id": "7d57d8a8c76f46c49a31e8ae980ad35d"
      }
     },
     "metadata": {},
     "output_type": "display_data"
    },
    {
     "data": {
      "text/plain": [
       "Validation: |          | 0/? [00:00<?, ?it/s]"
      ],
      "application/vnd.jupyter.widget-view+json": {
       "version_major": 2,
       "version_minor": 0,
       "model_id": "83a8b6f3866845c2b8d2f895e58ddeb9"
      }
     },
     "metadata": {},
     "output_type": "display_data"
    },
    {
     "data": {
      "text/plain": [
       "Validation: |          | 0/? [00:00<?, ?it/s]"
      ],
      "application/vnd.jupyter.widget-view+json": {
       "version_major": 2,
       "version_minor": 0,
       "model_id": "9e61715fdfa34ac7a48fd9f04d72cc35"
      }
     },
     "metadata": {},
     "output_type": "display_data"
    },
    {
     "data": {
      "text/plain": [
       "Validation: |          | 0/? [00:00<?, ?it/s]"
      ],
      "application/vnd.jupyter.widget-view+json": {
       "version_major": 2,
       "version_minor": 0,
       "model_id": "89ac9236de384371b80875077f03af04"
      }
     },
     "metadata": {},
     "output_type": "display_data"
    },
    {
     "data": {
      "text/plain": [
       "Validation: |          | 0/? [00:00<?, ?it/s]"
      ],
      "application/vnd.jupyter.widget-view+json": {
       "version_major": 2,
       "version_minor": 0,
       "model_id": "b853b12ca44d4277a31b9ddbc82d931a"
      }
     },
     "metadata": {},
     "output_type": "display_data"
    },
    {
     "data": {
      "text/plain": [
       "Validation: |          | 0/? [00:00<?, ?it/s]"
      ],
      "application/vnd.jupyter.widget-view+json": {
       "version_major": 2,
       "version_minor": 0,
       "model_id": "a466eeabcf23492bbe7bee0971633fc2"
      }
     },
     "metadata": {},
     "output_type": "display_data"
    },
    {
     "data": {
      "text/plain": [
       "Validation: |          | 0/? [00:00<?, ?it/s]"
      ],
      "application/vnd.jupyter.widget-view+json": {
       "version_major": 2,
       "version_minor": 0,
       "model_id": "96a3c1ac4fd4495c8a7554836845bef0"
      }
     },
     "metadata": {},
     "output_type": "display_data"
    },
    {
     "data": {
      "text/plain": [
       "Validation: |          | 0/? [00:00<?, ?it/s]"
      ],
      "application/vnd.jupyter.widget-view+json": {
       "version_major": 2,
       "version_minor": 0,
       "model_id": "126805c9a20745d1ac3266eb4a96fd26"
      }
     },
     "metadata": {},
     "output_type": "display_data"
    },
    {
     "data": {
      "text/plain": [
       "Validation: |          | 0/? [00:00<?, ?it/s]"
      ],
      "application/vnd.jupyter.widget-view+json": {
       "version_major": 2,
       "version_minor": 0,
       "model_id": "0eddc850dc17447e9217d538a414fe47"
      }
     },
     "metadata": {},
     "output_type": "display_data"
    },
    {
     "data": {
      "text/plain": [
       "Validation: |          | 0/? [00:00<?, ?it/s]"
      ],
      "application/vnd.jupyter.widget-view+json": {
       "version_major": 2,
       "version_minor": 0,
       "model_id": "85c450a1654d4772965947b53cd0cbce"
      }
     },
     "metadata": {},
     "output_type": "display_data"
    },
    {
     "data": {
      "text/plain": [
       "Validation: |          | 0/? [00:00<?, ?it/s]"
      ],
      "application/vnd.jupyter.widget-view+json": {
       "version_major": 2,
       "version_minor": 0,
       "model_id": "d1753265510143f4bafede3b574edd00"
      }
     },
     "metadata": {},
     "output_type": "display_data"
    },
    {
     "data": {
      "text/plain": [
       "Validation: |          | 0/? [00:00<?, ?it/s]"
      ],
      "application/vnd.jupyter.widget-view+json": {
       "version_major": 2,
       "version_minor": 0,
       "model_id": "fb35c5942d224d789404fca5a5811bbf"
      }
     },
     "metadata": {},
     "output_type": "display_data"
    },
    {
     "data": {
      "text/plain": [
       "Validation: |          | 0/? [00:00<?, ?it/s]"
      ],
      "application/vnd.jupyter.widget-view+json": {
       "version_major": 2,
       "version_minor": 0,
       "model_id": "59b66ecaf48849aaa4a351a5ea02ccf3"
      }
     },
     "metadata": {},
     "output_type": "display_data"
    },
    {
     "data": {
      "text/plain": [
       "Validation: |          | 0/? [00:00<?, ?it/s]"
      ],
      "application/vnd.jupyter.widget-view+json": {
       "version_major": 2,
       "version_minor": 0,
       "model_id": "69636810b6c44703bf3d77e51dfa110c"
      }
     },
     "metadata": {},
     "output_type": "display_data"
    },
    {
     "data": {
      "text/plain": [
       "Validation: |          | 0/? [00:00<?, ?it/s]"
      ],
      "application/vnd.jupyter.widget-view+json": {
       "version_major": 2,
       "version_minor": 0,
       "model_id": "41cdb5019a60405aa5c8d1520bffbf6f"
      }
     },
     "metadata": {},
     "output_type": "display_data"
    },
    {
     "data": {
      "text/plain": [
       "Validation: |          | 0/? [00:00<?, ?it/s]"
      ],
      "application/vnd.jupyter.widget-view+json": {
       "version_major": 2,
       "version_minor": 0,
       "model_id": "71a300f3b3ae4c5190d434e325836434"
      }
     },
     "metadata": {},
     "output_type": "display_data"
    },
    {
     "data": {
      "text/plain": [
       "Validation: |          | 0/? [00:00<?, ?it/s]"
      ],
      "application/vnd.jupyter.widget-view+json": {
       "version_major": 2,
       "version_minor": 0,
       "model_id": "a314dc2441844b638ebad4409d6de45b"
      }
     },
     "metadata": {},
     "output_type": "display_data"
    },
    {
     "data": {
      "text/plain": [
       "Validation: |          | 0/? [00:00<?, ?it/s]"
      ],
      "application/vnd.jupyter.widget-view+json": {
       "version_major": 2,
       "version_minor": 0,
       "model_id": "2e8cdcec50d64ee1aeb8452a3f675d6c"
      }
     },
     "metadata": {},
     "output_type": "display_data"
    },
    {
     "data": {
      "text/plain": [
       "Validation: |          | 0/? [00:00<?, ?it/s]"
      ],
      "application/vnd.jupyter.widget-view+json": {
       "version_major": 2,
       "version_minor": 0,
       "model_id": "737ba248e3b7421aadd72c1e6c8025c3"
      }
     },
     "metadata": {},
     "output_type": "display_data"
    },
    {
     "data": {
      "text/plain": [
       "Validation: |          | 0/? [00:00<?, ?it/s]"
      ],
      "application/vnd.jupyter.widget-view+json": {
       "version_major": 2,
       "version_minor": 0,
       "model_id": "1108547640cb439a8e8245ad9eae0f44"
      }
     },
     "metadata": {},
     "output_type": "display_data"
    },
    {
     "data": {
      "text/plain": [
       "Validation: |          | 0/? [00:00<?, ?it/s]"
      ],
      "application/vnd.jupyter.widget-view+json": {
       "version_major": 2,
       "version_minor": 0,
       "model_id": "1375ee434c9846598cc8735acc23793e"
      }
     },
     "metadata": {},
     "output_type": "display_data"
    },
    {
     "data": {
      "text/plain": [
       "Validation: |          | 0/? [00:00<?, ?it/s]"
      ],
      "application/vnd.jupyter.widget-view+json": {
       "version_major": 2,
       "version_minor": 0,
       "model_id": "9b27aa8a6f844154bdd72ff87ea2b350"
      }
     },
     "metadata": {},
     "output_type": "display_data"
    },
    {
     "data": {
      "text/plain": [
       "Validation: |          | 0/? [00:00<?, ?it/s]"
      ],
      "application/vnd.jupyter.widget-view+json": {
       "version_major": 2,
       "version_minor": 0,
       "model_id": "5dab2b785ba240d8a68008b226d5e307"
      }
     },
     "metadata": {},
     "output_type": "display_data"
    },
    {
     "data": {
      "text/plain": [
       "Validation: |          | 0/? [00:00<?, ?it/s]"
      ],
      "application/vnd.jupyter.widget-view+json": {
       "version_major": 2,
       "version_minor": 0,
       "model_id": "526916b4b6114d58aa4398154852c35f"
      }
     },
     "metadata": {},
     "output_type": "display_data"
    },
    {
     "data": {
      "text/plain": [
       "Validation: |          | 0/? [00:00<?, ?it/s]"
      ],
      "application/vnd.jupyter.widget-view+json": {
       "version_major": 2,
       "version_minor": 0,
       "model_id": "5a1de82209614b359425b628ea037312"
      }
     },
     "metadata": {},
     "output_type": "display_data"
    },
    {
     "data": {
      "text/plain": [
       "Validation: |          | 0/? [00:00<?, ?it/s]"
      ],
      "application/vnd.jupyter.widget-view+json": {
       "version_major": 2,
       "version_minor": 0,
       "model_id": "964f34bff25542e98c778b8840639a8b"
      }
     },
     "metadata": {},
     "output_type": "display_data"
    },
    {
     "data": {
      "text/plain": [
       "Validation: |          | 0/? [00:00<?, ?it/s]"
      ],
      "application/vnd.jupyter.widget-view+json": {
       "version_major": 2,
       "version_minor": 0,
       "model_id": "cfe710b749c6451da54a176ae8d6c958"
      }
     },
     "metadata": {},
     "output_type": "display_data"
    },
    {
     "data": {
      "text/plain": [
       "Validation: |          | 0/? [00:00<?, ?it/s]"
      ],
      "application/vnd.jupyter.widget-view+json": {
       "version_major": 2,
       "version_minor": 0,
       "model_id": "4c1bef328bb04db88403c5f5bce8e8b3"
      }
     },
     "metadata": {},
     "output_type": "display_data"
    },
    {
     "data": {
      "text/plain": [
       "Validation: |          | 0/? [00:00<?, ?it/s]"
      ],
      "application/vnd.jupyter.widget-view+json": {
       "version_major": 2,
       "version_minor": 0,
       "model_id": "ed2cd0ba3252446983c15f746889f78b"
      }
     },
     "metadata": {},
     "output_type": "display_data"
    },
    {
     "data": {
      "text/plain": [
       "Validation: |          | 0/? [00:00<?, ?it/s]"
      ],
      "application/vnd.jupyter.widget-view+json": {
       "version_major": 2,
       "version_minor": 0,
       "model_id": "94322e66fc5d4c57bc3bca658790d826"
      }
     },
     "metadata": {},
     "output_type": "display_data"
    },
    {
     "data": {
      "text/plain": [
       "Validation: |          | 0/? [00:00<?, ?it/s]"
      ],
      "application/vnd.jupyter.widget-view+json": {
       "version_major": 2,
       "version_minor": 0,
       "model_id": "02789ce2819840b88ded3f7bdad01e54"
      }
     },
     "metadata": {},
     "output_type": "display_data"
    },
    {
     "data": {
      "text/plain": [
       "Validation: |          | 0/? [00:00<?, ?it/s]"
      ],
      "application/vnd.jupyter.widget-view+json": {
       "version_major": 2,
       "version_minor": 0,
       "model_id": "39c52666b05a47328ca99975afdeba4a"
      }
     },
     "metadata": {},
     "output_type": "display_data"
    },
    {
     "data": {
      "text/plain": [
       "Validation: |          | 0/? [00:00<?, ?it/s]"
      ],
      "application/vnd.jupyter.widget-view+json": {
       "version_major": 2,
       "version_minor": 0,
       "model_id": "b3f1405984564c429519dda1f62196b6"
      }
     },
     "metadata": {},
     "output_type": "display_data"
    },
    {
     "data": {
      "text/plain": [
       "Validation: |          | 0/? [00:00<?, ?it/s]"
      ],
      "application/vnd.jupyter.widget-view+json": {
       "version_major": 2,
       "version_minor": 0,
       "model_id": "036b969bad5c40dcabfae48c3f0045fa"
      }
     },
     "metadata": {},
     "output_type": "display_data"
    },
    {
     "data": {
      "text/plain": [
       "Validation: |          | 0/? [00:00<?, ?it/s]"
      ],
      "application/vnd.jupyter.widget-view+json": {
       "version_major": 2,
       "version_minor": 0,
       "model_id": "623f1668f649418c8e51c4ffb254e5be"
      }
     },
     "metadata": {},
     "output_type": "display_data"
    },
    {
     "data": {
      "text/plain": [
       "Validation: |          | 0/? [00:00<?, ?it/s]"
      ],
      "application/vnd.jupyter.widget-view+json": {
       "version_major": 2,
       "version_minor": 0,
       "model_id": "a872d7a735444de8bb984a37d1e3687f"
      }
     },
     "metadata": {},
     "output_type": "display_data"
    },
    {
     "data": {
      "text/plain": [
       "Validation: |          | 0/? [00:00<?, ?it/s]"
      ],
      "application/vnd.jupyter.widget-view+json": {
       "version_major": 2,
       "version_minor": 0,
       "model_id": "521108e0f82043c2be25605ccab92250"
      }
     },
     "metadata": {},
     "output_type": "display_data"
    },
    {
     "data": {
      "text/plain": [
       "Validation: |          | 0/? [00:00<?, ?it/s]"
      ],
      "application/vnd.jupyter.widget-view+json": {
       "version_major": 2,
       "version_minor": 0,
       "model_id": "8bff6cd45c4f4923a59632ca68e36ac9"
      }
     },
     "metadata": {},
     "output_type": "display_data"
    },
    {
     "data": {
      "text/plain": [
       "Validation: |          | 0/? [00:00<?, ?it/s]"
      ],
      "application/vnd.jupyter.widget-view+json": {
       "version_major": 2,
       "version_minor": 0,
       "model_id": "a297a4f9f2af46619c7ca584761a5407"
      }
     },
     "metadata": {},
     "output_type": "display_data"
    },
    {
     "data": {
      "text/plain": [
       "Validation: |          | 0/? [00:00<?, ?it/s]"
      ],
      "application/vnd.jupyter.widget-view+json": {
       "version_major": 2,
       "version_minor": 0,
       "model_id": "8e72caa59cae4caca18aa1057b518985"
      }
     },
     "metadata": {},
     "output_type": "display_data"
    },
    {
     "data": {
      "text/plain": [
       "Validation: |          | 0/? [00:00<?, ?it/s]"
      ],
      "application/vnd.jupyter.widget-view+json": {
       "version_major": 2,
       "version_minor": 0,
       "model_id": "0e522fea1818407cbdfcef6bb0b5a5a1"
      }
     },
     "metadata": {},
     "output_type": "display_data"
    },
    {
     "data": {
      "text/plain": [
       "Validation: |          | 0/? [00:00<?, ?it/s]"
      ],
      "application/vnd.jupyter.widget-view+json": {
       "version_major": 2,
       "version_minor": 0,
       "model_id": "01db9e6c3be8493bb745a1b2bff17172"
      }
     },
     "metadata": {},
     "output_type": "display_data"
    },
    {
     "data": {
      "text/plain": [
       "Validation: |          | 0/? [00:00<?, ?it/s]"
      ],
      "application/vnd.jupyter.widget-view+json": {
       "version_major": 2,
       "version_minor": 0,
       "model_id": "490f690165c2472d8b2c43287e55e162"
      }
     },
     "metadata": {},
     "output_type": "display_data"
    },
    {
     "data": {
      "text/plain": [
       "Validation: |          | 0/? [00:00<?, ?it/s]"
      ],
      "application/vnd.jupyter.widget-view+json": {
       "version_major": 2,
       "version_minor": 0,
       "model_id": "6d27049d57af4a9bb2e5a62a4014492f"
      }
     },
     "metadata": {},
     "output_type": "display_data"
    },
    {
     "data": {
      "text/plain": [
       "Validation: |          | 0/? [00:00<?, ?it/s]"
      ],
      "application/vnd.jupyter.widget-view+json": {
       "version_major": 2,
       "version_minor": 0,
       "model_id": "9e04d0e30f534fd6aa2aafc91d231c00"
      }
     },
     "metadata": {},
     "output_type": "display_data"
    },
    {
     "data": {
      "text/plain": [
       "Validation: |          | 0/? [00:00<?, ?it/s]"
      ],
      "application/vnd.jupyter.widget-view+json": {
       "version_major": 2,
       "version_minor": 0,
       "model_id": "9d50ee70132c4deeb375ad67fd8ccb93"
      }
     },
     "metadata": {},
     "output_type": "display_data"
    },
    {
     "data": {
      "text/plain": [
       "Validation: |          | 0/? [00:00<?, ?it/s]"
      ],
      "application/vnd.jupyter.widget-view+json": {
       "version_major": 2,
       "version_minor": 0,
       "model_id": "24eabfc7cd19410ab9bda0c4e7d8afdd"
      }
     },
     "metadata": {},
     "output_type": "display_data"
    },
    {
     "data": {
      "text/plain": [
       "Validation: |          | 0/? [00:00<?, ?it/s]"
      ],
      "application/vnd.jupyter.widget-view+json": {
       "version_major": 2,
       "version_minor": 0,
       "model_id": "4b1fba93fb324d36ad05b6e9c034e6f0"
      }
     },
     "metadata": {},
     "output_type": "display_data"
    },
    {
     "data": {
      "text/plain": [
       "Validation: |          | 0/? [00:00<?, ?it/s]"
      ],
      "application/vnd.jupyter.widget-view+json": {
       "version_major": 2,
       "version_minor": 0,
       "model_id": "0bce6f339d854b96b6c2f4762f9f8bf5"
      }
     },
     "metadata": {},
     "output_type": "display_data"
    },
    {
     "data": {
      "text/plain": [
       "Validation: |          | 0/? [00:00<?, ?it/s]"
      ],
      "application/vnd.jupyter.widget-view+json": {
       "version_major": 2,
       "version_minor": 0,
       "model_id": "2a60fe6b715e4fc7ba1ec26945f0be46"
      }
     },
     "metadata": {},
     "output_type": "display_data"
    },
    {
     "data": {
      "text/plain": [
       "Validation: |          | 0/? [00:00<?, ?it/s]"
      ],
      "application/vnd.jupyter.widget-view+json": {
       "version_major": 2,
       "version_minor": 0,
       "model_id": "19f855c410f84325b4ee3deec0b39f98"
      }
     },
     "metadata": {},
     "output_type": "display_data"
    },
    {
     "data": {
      "text/plain": [
       "Validation: |          | 0/? [00:00<?, ?it/s]"
      ],
      "application/vnd.jupyter.widget-view+json": {
       "version_major": 2,
       "version_minor": 0,
       "model_id": "6637c9483df14764a0b499f2aad4144d"
      }
     },
     "metadata": {},
     "output_type": "display_data"
    },
    {
     "data": {
      "text/plain": [
       "Validation: |          | 0/? [00:00<?, ?it/s]"
      ],
      "application/vnd.jupyter.widget-view+json": {
       "version_major": 2,
       "version_minor": 0,
       "model_id": "872561d64929444b9f90ebd19cf51841"
      }
     },
     "metadata": {},
     "output_type": "display_data"
    },
    {
     "data": {
      "text/plain": [
       "Validation: |          | 0/? [00:00<?, ?it/s]"
      ],
      "application/vnd.jupyter.widget-view+json": {
       "version_major": 2,
       "version_minor": 0,
       "model_id": "e57ceb2b9720479f9c0a8e903f294ef3"
      }
     },
     "metadata": {},
     "output_type": "display_data"
    },
    {
     "data": {
      "text/plain": [
       "Validation: |          | 0/? [00:00<?, ?it/s]"
      ],
      "application/vnd.jupyter.widget-view+json": {
       "version_major": 2,
       "version_minor": 0,
       "model_id": "adeb74b738754c3b8e1f3ab548ffb695"
      }
     },
     "metadata": {},
     "output_type": "display_data"
    },
    {
     "data": {
      "text/plain": [
       "Validation: |          | 0/? [00:00<?, ?it/s]"
      ],
      "application/vnd.jupyter.widget-view+json": {
       "version_major": 2,
       "version_minor": 0,
       "model_id": "7185297d87f846749b5527ea2665bce1"
      }
     },
     "metadata": {},
     "output_type": "display_data"
    },
    {
     "data": {
      "text/plain": [
       "Validation: |          | 0/? [00:00<?, ?it/s]"
      ],
      "application/vnd.jupyter.widget-view+json": {
       "version_major": 2,
       "version_minor": 0,
       "model_id": "f1fc7be1ff034ea68be20c66b2b1e4ad"
      }
     },
     "metadata": {},
     "output_type": "display_data"
    },
    {
     "data": {
      "text/plain": [
       "Validation: |          | 0/? [00:00<?, ?it/s]"
      ],
      "application/vnd.jupyter.widget-view+json": {
       "version_major": 2,
       "version_minor": 0,
       "model_id": "11d0330f045745d0a85e7e8bb91514d3"
      }
     },
     "metadata": {},
     "output_type": "display_data"
    },
    {
     "data": {
      "text/plain": [
       "Validation: |          | 0/? [00:00<?, ?it/s]"
      ],
      "application/vnd.jupyter.widget-view+json": {
       "version_major": 2,
       "version_minor": 0,
       "model_id": "5e09e3826ec941ada471a7d0130c4afa"
      }
     },
     "metadata": {},
     "output_type": "display_data"
    },
    {
     "data": {
      "text/plain": [
       "Validation: |          | 0/? [00:00<?, ?it/s]"
      ],
      "application/vnd.jupyter.widget-view+json": {
       "version_major": 2,
       "version_minor": 0,
       "model_id": "457af4c0142749a2883a9ff8275d0a06"
      }
     },
     "metadata": {},
     "output_type": "display_data"
    },
    {
     "data": {
      "text/plain": [
       "Validation: |          | 0/? [00:00<?, ?it/s]"
      ],
      "application/vnd.jupyter.widget-view+json": {
       "version_major": 2,
       "version_minor": 0,
       "model_id": "f010cddb60924404a7587de28b70ac06"
      }
     },
     "metadata": {},
     "output_type": "display_data"
    },
    {
     "data": {
      "text/plain": [
       "Validation: |          | 0/? [00:00<?, ?it/s]"
      ],
      "application/vnd.jupyter.widget-view+json": {
       "version_major": 2,
       "version_minor": 0,
       "model_id": "bd16e49bb99448c896893e9922efb706"
      }
     },
     "metadata": {},
     "output_type": "display_data"
    },
    {
     "data": {
      "text/plain": [
       "Validation: |          | 0/? [00:00<?, ?it/s]"
      ],
      "application/vnd.jupyter.widget-view+json": {
       "version_major": 2,
       "version_minor": 0,
       "model_id": "e3f9d19394b64aa08597667938fda481"
      }
     },
     "metadata": {},
     "output_type": "display_data"
    },
    {
     "data": {
      "text/plain": [
       "Validation: |          | 0/? [00:00<?, ?it/s]"
      ],
      "application/vnd.jupyter.widget-view+json": {
       "version_major": 2,
       "version_minor": 0,
       "model_id": "5c34da5f973c4d15bd962b1de8ba5adb"
      }
     },
     "metadata": {},
     "output_type": "display_data"
    },
    {
     "data": {
      "text/plain": [
       "Validation: |          | 0/? [00:00<?, ?it/s]"
      ],
      "application/vnd.jupyter.widget-view+json": {
       "version_major": 2,
       "version_minor": 0,
       "model_id": "98d6a31603864daea8debc6d27081418"
      }
     },
     "metadata": {},
     "output_type": "display_data"
    },
    {
     "data": {
      "text/plain": [
       "Validation: |          | 0/? [00:00<?, ?it/s]"
      ],
      "application/vnd.jupyter.widget-view+json": {
       "version_major": 2,
       "version_minor": 0,
       "model_id": "4464bfd38ac84a6b9df84e1bded8ab58"
      }
     },
     "metadata": {},
     "output_type": "display_data"
    },
    {
     "data": {
      "text/plain": [
       "Validation: |          | 0/? [00:00<?, ?it/s]"
      ],
      "application/vnd.jupyter.widget-view+json": {
       "version_major": 2,
       "version_minor": 0,
       "model_id": "a3c6691a244b4a2283af007b170bba83"
      }
     },
     "metadata": {},
     "output_type": "display_data"
    },
    {
     "data": {
      "text/plain": [
       "Validation: |          | 0/? [00:00<?, ?it/s]"
      ],
      "application/vnd.jupyter.widget-view+json": {
       "version_major": 2,
       "version_minor": 0,
       "model_id": "a57ff40cd6d74158a159f8389d47dd68"
      }
     },
     "metadata": {},
     "output_type": "display_data"
    },
    {
     "data": {
      "text/plain": [
       "Validation: |          | 0/? [00:00<?, ?it/s]"
      ],
      "application/vnd.jupyter.widget-view+json": {
       "version_major": 2,
       "version_minor": 0,
       "model_id": "5e03aaf486d249b78010c59895472b69"
      }
     },
     "metadata": {},
     "output_type": "display_data"
    },
    {
     "data": {
      "text/plain": [
       "Validation: |          | 0/? [00:00<?, ?it/s]"
      ],
      "application/vnd.jupyter.widget-view+json": {
       "version_major": 2,
       "version_minor": 0,
       "model_id": "b0c022396b1b44e4a25e7e39150a3053"
      }
     },
     "metadata": {},
     "output_type": "display_data"
    },
    {
     "data": {
      "text/plain": [
       "Validation: |          | 0/? [00:00<?, ?it/s]"
      ],
      "application/vnd.jupyter.widget-view+json": {
       "version_major": 2,
       "version_minor": 0,
       "model_id": "554abea745b04568ae125a622ac5ef98"
      }
     },
     "metadata": {},
     "output_type": "display_data"
    },
    {
     "data": {
      "text/plain": [
       "Validation: |          | 0/? [00:00<?, ?it/s]"
      ],
      "application/vnd.jupyter.widget-view+json": {
       "version_major": 2,
       "version_minor": 0,
       "model_id": "2bcfeb1c0288452abb4e00157c9e2afa"
      }
     },
     "metadata": {},
     "output_type": "display_data"
    },
    {
     "data": {
      "text/plain": [
       "Validation: |          | 0/? [00:00<?, ?it/s]"
      ],
      "application/vnd.jupyter.widget-view+json": {
       "version_major": 2,
       "version_minor": 0,
       "model_id": "57b26f01c099421a8670595e559dfb7b"
      }
     },
     "metadata": {},
     "output_type": "display_data"
    },
    {
     "data": {
      "text/plain": [
       "Validation: |          | 0/? [00:00<?, ?it/s]"
      ],
      "application/vnd.jupyter.widget-view+json": {
       "version_major": 2,
       "version_minor": 0,
       "model_id": "a595f05f480042eb893934dd9021865d"
      }
     },
     "metadata": {},
     "output_type": "display_data"
    },
    {
     "data": {
      "text/plain": [
       "Validation: |          | 0/? [00:00<?, ?it/s]"
      ],
      "application/vnd.jupyter.widget-view+json": {
       "version_major": 2,
       "version_minor": 0,
       "model_id": "15bae2a886eb4fdda44bd25cd69ecda0"
      }
     },
     "metadata": {},
     "output_type": "display_data"
    },
    {
     "data": {
      "text/plain": [
       "Validation: |          | 0/? [00:00<?, ?it/s]"
      ],
      "application/vnd.jupyter.widget-view+json": {
       "version_major": 2,
       "version_minor": 0,
       "model_id": "cb83a07eb0c141ce84eb4d17592320a7"
      }
     },
     "metadata": {},
     "output_type": "display_data"
    },
    {
     "data": {
      "text/plain": [
       "Validation: |          | 0/? [00:00<?, ?it/s]"
      ],
      "application/vnd.jupyter.widget-view+json": {
       "version_major": 2,
       "version_minor": 0,
       "model_id": "553a64e66fc34a1ebbdc7789b132d071"
      }
     },
     "metadata": {},
     "output_type": "display_data"
    },
    {
     "data": {
      "text/plain": [
       "Validation: |          | 0/? [00:00<?, ?it/s]"
      ],
      "application/vnd.jupyter.widget-view+json": {
       "version_major": 2,
       "version_minor": 0,
       "model_id": "3f9fa8a93c03499285609c7225dd659c"
      }
     },
     "metadata": {},
     "output_type": "display_data"
    },
    {
     "data": {
      "text/plain": [
       "Validation: |          | 0/? [00:00<?, ?it/s]"
      ],
      "application/vnd.jupyter.widget-view+json": {
       "version_major": 2,
       "version_minor": 0,
       "model_id": "6d08f0964838444590025c8ab2448493"
      }
     },
     "metadata": {},
     "output_type": "display_data"
    },
    {
     "data": {
      "text/plain": [
       "Validation: |          | 0/? [00:00<?, ?it/s]"
      ],
      "application/vnd.jupyter.widget-view+json": {
       "version_major": 2,
       "version_minor": 0,
       "model_id": "ffd2b0193a0a4e2b993ce4b7b69defb9"
      }
     },
     "metadata": {},
     "output_type": "display_data"
    },
    {
     "data": {
      "text/plain": [
       "Validation: |          | 0/? [00:00<?, ?it/s]"
      ],
      "application/vnd.jupyter.widget-view+json": {
       "version_major": 2,
       "version_minor": 0,
       "model_id": "d30a703d3ada4f1481a7889f9531ed45"
      }
     },
     "metadata": {},
     "output_type": "display_data"
    },
    {
     "data": {
      "text/plain": [
       "Validation: |          | 0/? [00:00<?, ?it/s]"
      ],
      "application/vnd.jupyter.widget-view+json": {
       "version_major": 2,
       "version_minor": 0,
       "model_id": "65be4631556543b78e3a0e51b6a8f1b1"
      }
     },
     "metadata": {},
     "output_type": "display_data"
    },
    {
     "data": {
      "text/plain": [
       "Validation: |          | 0/? [00:00<?, ?it/s]"
      ],
      "application/vnd.jupyter.widget-view+json": {
       "version_major": 2,
       "version_minor": 0,
       "model_id": "e3bead886bb645a69618529dfc10683a"
      }
     },
     "metadata": {},
     "output_type": "display_data"
    },
    {
     "data": {
      "text/plain": [
       "Validation: |          | 0/? [00:00<?, ?it/s]"
      ],
      "application/vnd.jupyter.widget-view+json": {
       "version_major": 2,
       "version_minor": 0,
       "model_id": "dfbaab77660f4c5db1013de021e00ff6"
      }
     },
     "metadata": {},
     "output_type": "display_data"
    },
    {
     "data": {
      "text/plain": [
       "Validation: |          | 0/? [00:00<?, ?it/s]"
      ],
      "application/vnd.jupyter.widget-view+json": {
       "version_major": 2,
       "version_minor": 0,
       "model_id": "3059876945da48b0ba520f8f4e0d09cd"
      }
     },
     "metadata": {},
     "output_type": "display_data"
    },
    {
     "data": {
      "text/plain": [
       "Validation: |          | 0/? [00:00<?, ?it/s]"
      ],
      "application/vnd.jupyter.widget-view+json": {
       "version_major": 2,
       "version_minor": 0,
       "model_id": "b6ead14c9a60491a9fbd4fdd1fbba702"
      }
     },
     "metadata": {},
     "output_type": "display_data"
    },
    {
     "data": {
      "text/plain": [
       "Validation: |          | 0/? [00:00<?, ?it/s]"
      ],
      "application/vnd.jupyter.widget-view+json": {
       "version_major": 2,
       "version_minor": 0,
       "model_id": "b34a92d69710453981aefa0a62538dbe"
      }
     },
     "metadata": {},
     "output_type": "display_data"
    },
    {
     "data": {
      "text/plain": [
       "Validation: |          | 0/? [00:00<?, ?it/s]"
      ],
      "application/vnd.jupyter.widget-view+json": {
       "version_major": 2,
       "version_minor": 0,
       "model_id": "5dacbb3d305843669269864aa9443d74"
      }
     },
     "metadata": {},
     "output_type": "display_data"
    },
    {
     "data": {
      "text/plain": [
       "Validation: |          | 0/? [00:00<?, ?it/s]"
      ],
      "application/vnd.jupyter.widget-view+json": {
       "version_major": 2,
       "version_minor": 0,
       "model_id": "19a763695ea44174a069dc417a06f82b"
      }
     },
     "metadata": {},
     "output_type": "display_data"
    },
    {
     "data": {
      "text/plain": [
       "Validation: |          | 0/? [00:00<?, ?it/s]"
      ],
      "application/vnd.jupyter.widget-view+json": {
       "version_major": 2,
       "version_minor": 0,
       "model_id": "acaeeae72c704fc49436a8044eda07c3"
      }
     },
     "metadata": {},
     "output_type": "display_data"
    },
    {
     "data": {
      "text/plain": [
       "Validation: |          | 0/? [00:00<?, ?it/s]"
      ],
      "application/vnd.jupyter.widget-view+json": {
       "version_major": 2,
       "version_minor": 0,
       "model_id": "017f06dcd943448ea606d22d8c77b000"
      }
     },
     "metadata": {},
     "output_type": "display_data"
    },
    {
     "data": {
      "text/plain": [
       "Validation: |          | 0/? [00:00<?, ?it/s]"
      ],
      "application/vnd.jupyter.widget-view+json": {
       "version_major": 2,
       "version_minor": 0,
       "model_id": "1e66fcfb90e948d1b994f28b45626a38"
      }
     },
     "metadata": {},
     "output_type": "display_data"
    },
    {
     "name": "stderr",
     "output_type": "stream",
     "text": [
      "`Trainer.fit` stopped: `max_epochs=120` reached.\n"
     ]
    },
    {
     "name": "stdout",
     "output_type": "stream",
     "text": [
      "common dummy id:1\n"
     ]
    }
   ],
   "execution_count": 39
  },
  {
   "metadata": {
    "ExecuteTime": {
     "end_time": "2025-06-11T12:35:19.061225Z",
     "start_time": "2025-06-11T12:35:19.057774Z"
    }
   },
   "cell_type": "code",
   "source": "cv_results",
   "outputs": [
    {
     "data": {
      "text/plain": [
       "{'splits': [{'i_split': 0,\n",
       "   'train': 994169,\n",
       "   'train_users': 6040,\n",
       "   'train_items': 3704,\n",
       "   'test': 6038,\n",
       "   'test_users': 6038,\n",
       "   'test_items': 1925}],\n",
       " 'metrics': [{'model': 'sasrec',\n",
       "   'i_split': 0,\n",
       "   'HitRate@10': 0.27459423650215303,\n",
       "   'MAP@10': 0.11777689711194182,\n",
       "   'AvgRecPopularity@10': 882.7419344153693,\n",
       "   'Serendipity@10': 0.0023704935337534707,\n",
       "   'CoveredUsers@10': 1.0},\n",
       "  {'model': 'hstu',\n",
       "   'i_split': 0,\n",
       "   'HitRate@10': 0.3024180192116595,\n",
       "   'MAP@10': 0.12857734349122224,\n",
       "   'AvgRecPopularity@10': 908.948277575356,\n",
       "   'Serendipity@10': 0.002631810985429215,\n",
       "   'CoveredUsers@10': 1.0}]}"
      ]
     },
     "execution_count": 40,
     "metadata": {},
     "output_type": "execute_result"
    }
   ],
   "execution_count": 40
  },
  {
   "metadata": {
    "ExecuteTime": {
     "end_time": "2025-06-11T12:35:19.221275Z",
     "start_time": "2025-06-11T12:35:19.208640Z"
    }
   },
   "cell_type": "code",
   "source": [
    "pivot_results = (\n",
    "    pd.DataFrame(cv_results[\"metrics\"])\n",
    "    .drop(columns=\"i_split\")\n",
    "    .groupby([\"model\"], sort=False)\n",
    "    .agg([\"mean\"])\n",
    ")\n",
    "pivot_results.columns = pivot_results.columns.droplevel(1)\n",
    "pivot_results.to_csv(\"rectools_transformers_cv.csv\", index=True)\n",
    "pivot_results"
   ],
   "outputs": [
    {
     "data": {
      "text/plain": [
       "        HitRate@10    MAP@10  AvgRecPopularity@10  Serendipity@10  \\\n",
       "model                                                               \n",
       "sasrec    0.274594  0.117777           882.741934        0.002370   \n",
       "hstu      0.302418  0.128577           908.948278        0.002632   \n",
       "\n",
       "        CoveredUsers@10  \n",
       "model                    \n",
       "sasrec              1.0  \n",
       "hstu                1.0  "
      ],
      "text/html": [
       "<div>\n",
       "<style scoped>\n",
       "    .dataframe tbody tr th:only-of-type {\n",
       "        vertical-align: middle;\n",
       "    }\n",
       "\n",
       "    .dataframe tbody tr th {\n",
       "        vertical-align: top;\n",
       "    }\n",
       "\n",
       "    .dataframe thead th {\n",
       "        text-align: right;\n",
       "    }\n",
       "</style>\n",
       "<table border=\"1\" class=\"dataframe\">\n",
       "  <thead>\n",
       "    <tr style=\"text-align: right;\">\n",
       "      <th></th>\n",
       "      <th>HitRate@10</th>\n",
       "      <th>MAP@10</th>\n",
       "      <th>AvgRecPopularity@10</th>\n",
       "      <th>Serendipity@10</th>\n",
       "      <th>CoveredUsers@10</th>\n",
       "    </tr>\n",
       "    <tr>\n",
       "      <th>model</th>\n",
       "      <th></th>\n",
       "      <th></th>\n",
       "      <th></th>\n",
       "      <th></th>\n",
       "      <th></th>\n",
       "    </tr>\n",
       "  </thead>\n",
       "  <tbody>\n",
       "    <tr>\n",
       "      <th>sasrec</th>\n",
       "      <td>0.274594</td>\n",
       "      <td>0.117777</td>\n",
       "      <td>882.741934</td>\n",
       "      <td>0.002370</td>\n",
       "      <td>1.0</td>\n",
       "    </tr>\n",
       "    <tr>\n",
       "      <th>hstu</th>\n",
       "      <td>0.302418</td>\n",
       "      <td>0.128577</td>\n",
       "      <td>908.948278</td>\n",
       "      <td>0.002632</td>\n",
       "      <td>1.0</td>\n",
       "    </tr>\n",
       "  </tbody>\n",
       "</table>\n",
       "</div>"
      ]
     },
     "execution_count": 41,
     "metadata": {},
     "output_type": "execute_result"
    }
   ],
   "execution_count": 41
  },
  {
   "metadata": {
    "ExecuteTime": {
     "end_time": "2025-06-11T12:35:19.676195Z",
     "start_time": "2025-06-11T12:35:19.263272Z"
    }
   },
   "cell_type": "code",
   "source": [
    "models_metrics = pivot_results.reset_index()[[\"model\", \"MAP@10\", \"Serendipity@10\"]]\n",
    "\n",
    "app = MetricsApp.construct(\n",
    "    models_metrics=models_metrics,\n",
    "    scatter_kwargs={\n",
    "        \"symbol_sequence\": ['circle', 'square', 'diamond', 'cross', 'x', 'star', 'pentagon'],\n",
    "    }\n",
    ")\n",
    "fig = app.fig\n",
    "fig.update_layout(title=\"Model CV metrics\", font={\"size\": 15})\n",
    "fig.update_traces(marker={'size': 9})\n",
    "fig.show(\"png\")"
   ],
   "outputs": [
    {
     "data": {
      "text/plain": [
       "VBox(children=(Tab(children=(VBox(children=(HBox(children=(Dropdown(description='Metric X:', options=('MAP@10'…"
      ],
      "application/vnd.jupyter.widget-view+json": {
       "version_major": 2,
       "version_minor": 0,
       "model_id": "dabadc115bf2484d8b44866d13726635"
      }
     },
     "metadata": {},
     "output_type": "display_data"
    },
    {
     "ename": "ValueError",
     "evalue": "\nImage export using the \"kaleido\" engine requires the kaleido package,\nwhich can be installed using pip:\n    $ pip install -U kaleido\n",
     "output_type": "error",
     "traceback": [
      "\u001B[0;31m---------------------------------------------------------------------------\u001B[0m",
      "\u001B[0;31mValueError\u001B[0m                                Traceback (most recent call last)",
      "Cell \u001B[0;32mIn[42], line 12\u001B[0m\n\u001B[1;32m     10\u001B[0m fig\u001B[38;5;241m.\u001B[39mupdate_layout(title\u001B[38;5;241m=\u001B[39m\u001B[38;5;124m\"\u001B[39m\u001B[38;5;124mModel CV metrics\u001B[39m\u001B[38;5;124m\"\u001B[39m, font\u001B[38;5;241m=\u001B[39m{\u001B[38;5;124m\"\u001B[39m\u001B[38;5;124msize\u001B[39m\u001B[38;5;124m\"\u001B[39m: \u001B[38;5;241m15\u001B[39m})\n\u001B[1;32m     11\u001B[0m fig\u001B[38;5;241m.\u001B[39mupdate_traces(marker\u001B[38;5;241m=\u001B[39m{\u001B[38;5;124m'\u001B[39m\u001B[38;5;124msize\u001B[39m\u001B[38;5;124m'\u001B[39m: \u001B[38;5;241m9\u001B[39m})\n\u001B[0;32m---> 12\u001B[0m \u001B[43mfig\u001B[49m\u001B[38;5;241;43m.\u001B[39;49m\u001B[43mshow\u001B[49m\u001B[43m(\u001B[49m\u001B[38;5;124;43m\"\u001B[39;49m\u001B[38;5;124;43mpng\u001B[39;49m\u001B[38;5;124;43m\"\u001B[39;49m\u001B[43m)\u001B[49m\n",
      "File \u001B[0;32m~/kuzin/python_project/RecTools/.venv/lib/python3.10/site-packages/plotly/basedatatypes.py:3410\u001B[0m, in \u001B[0;36mBaseFigure.show\u001B[0;34m(self, *args, **kwargs)\u001B[0m\n\u001B[1;32m   3377\u001B[0m \u001B[38;5;250m\u001B[39m\u001B[38;5;124;03m\"\"\"\u001B[39;00m\n\u001B[1;32m   3378\u001B[0m \u001B[38;5;124;03mShow a figure using either the default renderer(s) or the renderer(s)\u001B[39;00m\n\u001B[1;32m   3379\u001B[0m \u001B[38;5;124;03mspecified by the renderer argument\u001B[39;00m\n\u001B[0;32m   (...)\u001B[0m\n\u001B[1;32m   3406\u001B[0m \u001B[38;5;124;03mNone\u001B[39;00m\n\u001B[1;32m   3407\u001B[0m \u001B[38;5;124;03m\"\"\"\u001B[39;00m\n\u001B[1;32m   3408\u001B[0m \u001B[38;5;28;01mimport\u001B[39;00m \u001B[38;5;21;01mplotly\u001B[39;00m\u001B[38;5;21;01m.\u001B[39;00m\u001B[38;5;21;01mio\u001B[39;00m \u001B[38;5;28;01mas\u001B[39;00m \u001B[38;5;21;01mpio\u001B[39;00m\n\u001B[0;32m-> 3410\u001B[0m \u001B[38;5;28;01mreturn\u001B[39;00m \u001B[43mpio\u001B[49m\u001B[38;5;241;43m.\u001B[39;49m\u001B[43mshow\u001B[49m\u001B[43m(\u001B[49m\u001B[38;5;28;43mself\u001B[39;49m\u001B[43m,\u001B[49m\u001B[43m \u001B[49m\u001B[38;5;241;43m*\u001B[39;49m\u001B[43margs\u001B[49m\u001B[43m,\u001B[49m\u001B[43m \u001B[49m\u001B[38;5;241;43m*\u001B[39;49m\u001B[38;5;241;43m*\u001B[39;49m\u001B[43mkwargs\u001B[49m\u001B[43m)\u001B[49m\n",
      "File \u001B[0;32m~/kuzin/python_project/RecTools/.venv/lib/python3.10/site-packages/plotly/io/_renderers.py:386\u001B[0m, in \u001B[0;36mshow\u001B[0;34m(fig, renderer, validate, **kwargs)\u001B[0m\n\u001B[1;32m    383\u001B[0m fig_dict \u001B[38;5;241m=\u001B[39m validate_coerce_fig_to_dict(fig, validate)\n\u001B[1;32m    385\u001B[0m \u001B[38;5;66;03m# Mimetype renderers\u001B[39;00m\n\u001B[0;32m--> 386\u001B[0m bundle \u001B[38;5;241m=\u001B[39m \u001B[43mrenderers\u001B[49m\u001B[38;5;241;43m.\u001B[39;49m\u001B[43m_build_mime_bundle\u001B[49m\u001B[43m(\u001B[49m\u001B[43mfig_dict\u001B[49m\u001B[43m,\u001B[49m\u001B[43m \u001B[49m\u001B[43mrenderers_string\u001B[49m\u001B[38;5;241;43m=\u001B[39;49m\u001B[43mrenderer\u001B[49m\u001B[43m,\u001B[49m\u001B[43m \u001B[49m\u001B[38;5;241;43m*\u001B[39;49m\u001B[38;5;241;43m*\u001B[39;49m\u001B[43mkwargs\u001B[49m\u001B[43m)\u001B[49m\n\u001B[1;32m    387\u001B[0m \u001B[38;5;28;01mif\u001B[39;00m bundle:\n\u001B[1;32m    388\u001B[0m     \u001B[38;5;28;01mif\u001B[39;00m \u001B[38;5;129;01mnot\u001B[39;00m ipython_display:\n",
      "File \u001B[0;32m~/kuzin/python_project/RecTools/.venv/lib/python3.10/site-packages/plotly/io/_renderers.py:294\u001B[0m, in \u001B[0;36mRenderersConfig._build_mime_bundle\u001B[0;34m(self, fig_dict, renderers_string, **kwargs)\u001B[0m\n\u001B[1;32m    291\u001B[0m             \u001B[38;5;28;01mif\u001B[39;00m \u001B[38;5;28mhasattr\u001B[39m(renderer, k):\n\u001B[1;32m    292\u001B[0m                 \u001B[38;5;28msetattr\u001B[39m(renderer, k, v)\n\u001B[0;32m--> 294\u001B[0m         bundle\u001B[38;5;241m.\u001B[39mupdate(\u001B[43mrenderer\u001B[49m\u001B[38;5;241;43m.\u001B[39;49m\u001B[43mto_mimebundle\u001B[49m\u001B[43m(\u001B[49m\u001B[43mfig_dict\u001B[49m\u001B[43m)\u001B[49m)\n\u001B[1;32m    296\u001B[0m \u001B[38;5;28;01mreturn\u001B[39;00m bundle\n",
      "File \u001B[0;32m~/kuzin/python_project/RecTools/.venv/lib/python3.10/site-packages/plotly/io/_base_renderers.py:126\u001B[0m, in \u001B[0;36mImageRenderer.to_mimebundle\u001B[0;34m(self, fig_dict)\u001B[0m\n\u001B[1;32m    125\u001B[0m \u001B[38;5;28;01mdef\u001B[39;00m \u001B[38;5;21mto_mimebundle\u001B[39m(\u001B[38;5;28mself\u001B[39m, fig_dict):\n\u001B[0;32m--> 126\u001B[0m     image_bytes \u001B[38;5;241m=\u001B[39m \u001B[43mto_image\u001B[49m\u001B[43m(\u001B[49m\n\u001B[1;32m    127\u001B[0m \u001B[43m        \u001B[49m\u001B[43mfig_dict\u001B[49m\u001B[43m,\u001B[49m\n\u001B[1;32m    128\u001B[0m \u001B[43m        \u001B[49m\u001B[38;5;28;43mformat\u001B[39;49m\u001B[38;5;241;43m=\u001B[39;49m\u001B[38;5;28;43mself\u001B[39;49m\u001B[38;5;241;43m.\u001B[39;49m\u001B[43mformat\u001B[49m\u001B[43m,\u001B[49m\n\u001B[1;32m    129\u001B[0m \u001B[43m        \u001B[49m\u001B[43mwidth\u001B[49m\u001B[38;5;241;43m=\u001B[39;49m\u001B[38;5;28;43mself\u001B[39;49m\u001B[38;5;241;43m.\u001B[39;49m\u001B[43mwidth\u001B[49m\u001B[43m,\u001B[49m\n\u001B[1;32m    130\u001B[0m \u001B[43m        \u001B[49m\u001B[43mheight\u001B[49m\u001B[38;5;241;43m=\u001B[39;49m\u001B[38;5;28;43mself\u001B[39;49m\u001B[38;5;241;43m.\u001B[39;49m\u001B[43mheight\u001B[49m\u001B[43m,\u001B[49m\n\u001B[1;32m    131\u001B[0m \u001B[43m        \u001B[49m\u001B[43mscale\u001B[49m\u001B[38;5;241;43m=\u001B[39;49m\u001B[38;5;28;43mself\u001B[39;49m\u001B[38;5;241;43m.\u001B[39;49m\u001B[43mscale\u001B[49m\u001B[43m,\u001B[49m\n\u001B[1;32m    132\u001B[0m \u001B[43m        \u001B[49m\u001B[43mvalidate\u001B[49m\u001B[38;5;241;43m=\u001B[39;49m\u001B[38;5;28;43;01mFalse\u001B[39;49;00m\u001B[43m,\u001B[49m\n\u001B[1;32m    133\u001B[0m \u001B[43m        \u001B[49m\u001B[43mengine\u001B[49m\u001B[38;5;241;43m=\u001B[39;49m\u001B[38;5;28;43mself\u001B[39;49m\u001B[38;5;241;43m.\u001B[39;49m\u001B[43mengine\u001B[49m\u001B[43m,\u001B[49m\n\u001B[1;32m    134\u001B[0m \u001B[43m    \u001B[49m\u001B[43m)\u001B[49m\n\u001B[1;32m    136\u001B[0m     \u001B[38;5;28;01mif\u001B[39;00m \u001B[38;5;28mself\u001B[39m\u001B[38;5;241m.\u001B[39mb64_encode:\n\u001B[1;32m    137\u001B[0m         image_str \u001B[38;5;241m=\u001B[39m base64\u001B[38;5;241m.\u001B[39mb64encode(image_bytes)\u001B[38;5;241m.\u001B[39mdecode(\u001B[38;5;124m\"\u001B[39m\u001B[38;5;124mutf8\u001B[39m\u001B[38;5;124m\"\u001B[39m)\n",
      "File \u001B[0;32m~/kuzin/python_project/RecTools/.venv/lib/python3.10/site-packages/plotly/io/_kaleido.py:132\u001B[0m, in \u001B[0;36mto_image\u001B[0;34m(fig, format, width, height, scale, validate, engine)\u001B[0m\n\u001B[1;32m    130\u001B[0m     \u001B[38;5;66;03m# Raise informative error message if Kaleido is not installed\u001B[39;00m\n\u001B[1;32m    131\u001B[0m     \u001B[38;5;28;01mif\u001B[39;00m scope \u001B[38;5;129;01mis\u001B[39;00m \u001B[38;5;28;01mNone\u001B[39;00m:\n\u001B[0;32m--> 132\u001B[0m         \u001B[38;5;28;01mraise\u001B[39;00m \u001B[38;5;167;01mValueError\u001B[39;00m(\n\u001B[1;32m    133\u001B[0m \u001B[38;5;250m            \u001B[39m\u001B[38;5;124;03m\"\"\"\u001B[39;00m\n\u001B[1;32m    134\u001B[0m \u001B[38;5;124;03mImage export using the \"kaleido\" engine requires the kaleido package,\u001B[39;00m\n\u001B[1;32m    135\u001B[0m \u001B[38;5;124;03mwhich can be installed using pip:\u001B[39;00m\n\u001B[1;32m    136\u001B[0m \u001B[38;5;124;03m    $ pip install -U kaleido\u001B[39;00m\n\u001B[1;32m    137\u001B[0m \u001B[38;5;124;03m\"\"\"\u001B[39;00m\n\u001B[1;32m    138\u001B[0m         )\n\u001B[1;32m    140\u001B[0m     \u001B[38;5;66;03m# Validate figure\u001B[39;00m\n\u001B[1;32m    141\u001B[0m     \u001B[38;5;66;03m# ---------------\u001B[39;00m\n\u001B[1;32m    142\u001B[0m     fig_dict \u001B[38;5;241m=\u001B[39m validate_coerce_fig_to_dict(fig, validate)\n",
      "\u001B[0;31mValueError\u001B[0m: \nImage export using the \"kaleido\" engine requires the kaleido package,\nwhich can be installed using pip:\n    $ pip install -U kaleido\n"
     ]
    }
   ],
   "execution_count": 42
  },
  {
   "metadata": {
    "ExecuteTime": {
     "end_time": "2025-06-11T12:36:03.833035Z",
     "start_time": "2025-06-11T12:36:03.829166Z"
    }
   },
   "cell_type": "code",
   "source": [
    "def get_logs(model) -> tp.Tuple[pd.DataFrame, ...]:\n",
    "    log_path = os.path.join(model.fit_trainer.log_dir, \"metrics.csv\")\n",
    "    epoch_metrics_df = pd.read_csv(log_path)\n",
    "\n",
    "    loss_df = epoch_metrics_df[[\"epoch\", \"train_loss\"]].dropna()\n",
    "    val_loss_df = epoch_metrics_df[[\"epoch\", \"val_loss\"]].dropna()\n",
    "    loss_df = pd.merge(loss_df, val_loss_df, how=\"inner\", on=\"epoch\")\n",
    "    loss_df.reset_index(drop=True, inplace=True)\n",
    "\n",
    "    metrics_df = epoch_metrics_df.drop(columns=[\"train_loss\", \"val_loss\"]).dropna()\n",
    "    metrics_df.reset_index(drop=True, inplace=True)\n",
    "\n",
    "    return loss_df, metrics_df"
   ],
   "outputs": [],
   "execution_count": 43
  },
  {
   "metadata": {
    "ExecuteTime": {
     "end_time": "2025-06-11T12:36:04.620908Z",
     "start_time": "2025-06-11T12:36:04.609022Z"
    }
   },
   "cell_type": "code",
   "source": [
    "loss_df_hstu, metrics_df_hstu = get_logs(model_hstu)\n",
    "loss_df_sasrec, metrics_df_sasrec = get_logs(model_sasrec)"
   ],
   "outputs": [],
   "execution_count": 44
  },
  {
   "metadata": {
    "ExecuteTime": {
     "end_time": "2025-06-11T12:36:05.335537Z",
     "start_time": "2025-06-11T12:36:05.328942Z"
    }
   },
   "cell_type": "code",
   "source": "metrics_df_hstu",
   "outputs": [
    {
     "data": {
      "text/plain": [
       "     epoch  recall@10  step\n",
       "0        0   0.036927    47\n",
       "1        1   0.036595    95\n",
       "2        2   0.038417   143\n",
       "3        3   0.058288   191\n",
       "4        4   0.082795   239\n",
       "..     ...        ...   ...\n",
       "115    115   0.298559  5567\n",
       "116    116   0.296903  5615\n",
       "117    117   0.298228  5663\n",
       "118    118   0.299222  5711\n",
       "119    119   0.299056  5759\n",
       "\n",
       "[120 rows x 3 columns]"
      ],
      "text/html": [
       "<div>\n",
       "<style scoped>\n",
       "    .dataframe tbody tr th:only-of-type {\n",
       "        vertical-align: middle;\n",
       "    }\n",
       "\n",
       "    .dataframe tbody tr th {\n",
       "        vertical-align: top;\n",
       "    }\n",
       "\n",
       "    .dataframe thead th {\n",
       "        text-align: right;\n",
       "    }\n",
       "</style>\n",
       "<table border=\"1\" class=\"dataframe\">\n",
       "  <thead>\n",
       "    <tr style=\"text-align: right;\">\n",
       "      <th></th>\n",
       "      <th>epoch</th>\n",
       "      <th>recall@10</th>\n",
       "      <th>step</th>\n",
       "    </tr>\n",
       "  </thead>\n",
       "  <tbody>\n",
       "    <tr>\n",
       "      <th>0</th>\n",
       "      <td>0</td>\n",
       "      <td>0.036927</td>\n",
       "      <td>47</td>\n",
       "    </tr>\n",
       "    <tr>\n",
       "      <th>1</th>\n",
       "      <td>1</td>\n",
       "      <td>0.036595</td>\n",
       "      <td>95</td>\n",
       "    </tr>\n",
       "    <tr>\n",
       "      <th>2</th>\n",
       "      <td>2</td>\n",
       "      <td>0.038417</td>\n",
       "      <td>143</td>\n",
       "    </tr>\n",
       "    <tr>\n",
       "      <th>3</th>\n",
       "      <td>3</td>\n",
       "      <td>0.058288</td>\n",
       "      <td>191</td>\n",
       "    </tr>\n",
       "    <tr>\n",
       "      <th>4</th>\n",
       "      <td>4</td>\n",
       "      <td>0.082795</td>\n",
       "      <td>239</td>\n",
       "    </tr>\n",
       "    <tr>\n",
       "      <th>...</th>\n",
       "      <td>...</td>\n",
       "      <td>...</td>\n",
       "      <td>...</td>\n",
       "    </tr>\n",
       "    <tr>\n",
       "      <th>115</th>\n",
       "      <td>115</td>\n",
       "      <td>0.298559</td>\n",
       "      <td>5567</td>\n",
       "    </tr>\n",
       "    <tr>\n",
       "      <th>116</th>\n",
       "      <td>116</td>\n",
       "      <td>0.296903</td>\n",
       "      <td>5615</td>\n",
       "    </tr>\n",
       "    <tr>\n",
       "      <th>117</th>\n",
       "      <td>117</td>\n",
       "      <td>0.298228</td>\n",
       "      <td>5663</td>\n",
       "    </tr>\n",
       "    <tr>\n",
       "      <th>118</th>\n",
       "      <td>118</td>\n",
       "      <td>0.299222</td>\n",
       "      <td>5711</td>\n",
       "    </tr>\n",
       "    <tr>\n",
       "      <th>119</th>\n",
       "      <td>119</td>\n",
       "      <td>0.299056</td>\n",
       "      <td>5759</td>\n",
       "    </tr>\n",
       "  </tbody>\n",
       "</table>\n",
       "<p>120 rows × 3 columns</p>\n",
       "</div>"
      ]
     },
     "execution_count": 45,
     "metadata": {},
     "output_type": "execute_result"
    }
   ],
   "execution_count": 45
  },
  {
   "metadata": {
    "ExecuteTime": {
     "end_time": "2025-06-11T12:36:06.557808Z",
     "start_time": "2025-06-11T12:36:06.320289Z"
    }
   },
   "cell_type": "code",
   "source": "loss_df_hstu.plot(kind=\"line\", x=\"epoch\", title=\"Losses\");",
   "outputs": [
    {
     "data": {
      "text/plain": [
       "<Figure size 640x480 with 1 Axes>"
      ],
      "image/png": "[encoded data removed]"
     },
     "metadata": {},
     "output_type": "display_data"
    }
   ],
   "execution_count": 46
  },
  {
   "metadata": {
    "ExecuteTime": {
     "end_time": "2025-06-11T12:36:08.539910Z",
     "start_time": "2025-06-11T12:36:08.536958Z"
    }
   },
   "cell_type": "code",
   "source": "import seaborn as sns",
   "outputs": [],
   "execution_count": 47
  },
  {
   "metadata": {
    "ExecuteTime": {
     "end_time": "2025-06-11T12:36:09.106727Z",
     "start_time": "2025-06-11T12:36:08.971498Z"
    }
   },
   "cell_type": "code",
   "source": [
    "import matplotlib.pyplot as plt\n",
    "\n",
    "# Создаем график\n",
    "plt.figure(figsize=(10, 6))\n",
    "\n",
    "plt.plot(metrics_df_hstu[\"epoch\"], metrics_df_hstu[\"recall@10\"], label=\"HSTU\")\n",
    "plt.plot(metrics_df_sasrec[\"epoch\"], metrics_df_sasrec[\"recall@10\"], label=\"SASRec\")\n",
    "plt.axvline(x=100, linestyle='--', color='r', label='Epoch 100')  \n",
    "\n",
    "\n",
    "plt.axhline(y=0.3, linestyle='--', color='g', label='Baseline 0.3') \n",
    "plt.title(\"recall@10\")\n",
    "plt.xlabel(\"Epoch\")\n",
    "plt.ylabel(\"Recall@10\")\n",
    "plt.legend()\n",
    "plt.grid(True)\n",
    "plt.show()"
   ],
   "outputs": [
    {
     "data": {
      "text/plain": [
       "<Figure size 1000x600 with 1 Axes>"
      ],
      "image/png": "[encoded data removed]"
     },
     "metadata": {},
     "output_type": "display_data"
    }
   ],
   "execution_count": 48
  },
  {
   "metadata": {
    "ExecuteTime": {
     "end_time": "2025-06-11T12:35:18.905776400Z",
     "start_time": "2025-06-11T01:09:41.507887Z"
    }
   },
   "cell_type": "code",
   "source": "assert 1 ==2",
   "outputs": [
    {
     "ename": "SyntaxError",
     "evalue": "invalid syntax (2328911495.py, line 1)",
     "output_type": "error",
     "traceback": [
      "\u001B[0;36m  Cell \u001B[0;32mIn[42], line 1\u001B[0;36m\u001B[0m\n\u001B[0;31m    asser 1 ==2\u001B[0m\n\u001B[0m          ^\u001B[0m\n\u001B[0;31mSyntaxError\u001B[0m\u001B[0;31m:\u001B[0m invalid syntax\n"
     ]
    }
   ],
   "execution_count": 42
  },
  {
   "cell_type": "markdown",
   "metadata": {},
   "source": [
    "Let's look at model logs. We can access logs directory with `model.fit_trainer.log_dir`"
   ]
  }
 ],
 "metadata": {
  "kernelspec": {
   "display_name": ".venv",
   "language": "python",
   "name": "python3"
  },
  "language_info": {
   "codemirror_mode": {
    "name": "ipython",
    "version": 3
   },
   "file_extension": ".py",
   "mimetype": "text/x-python",
   "name": "python",
   "nbconvert_exporter": "python",
   "pygments_lexer": "ipython3",
   "version": "3.10.13"
  }
 },
 "nbformat": 4,
 "nbformat_minor": 2
}
