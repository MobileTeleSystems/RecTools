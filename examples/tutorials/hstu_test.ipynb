{
 "cells": [
  {
   "cell_type": "markdown",
   "metadata": {},
   "source": [
    "# Transformer Models Advanced Training Guide\n",
    "This guide is showing advanced features of RecTools transformer models training.\n",
    "\n",
    "### Table of Contents\n",
    "\n",
    "* Prepare data\n",
    "* Advanced training guide\n",
    "    * Validation fold\n",
    "    * Validation loss\n",
    "    * Callback for Early Stopping\n",
    "    * Callbacks for Checkpoints\n",
    "        * Loading Checkpoints\n",
    "    * Callbacks for RecSys metrics\n",
    "        * RecSys metrics for Early Stopping anf Checkpoints\n",
    "* Advanced training full example\n",
    "    * Running full training with all of the described validation features on Kion dataset\n",
    "* More RecTools features for transformers\n",
    "    * Saving and loading models\n",
    "    * Configs for transformer models\n",
    "        * Classes and function in configs\n",
    "    * Multi-gpu training\n"
   ]
  },
  {
   "cell_type": "code",
   "metadata": {
    "ExecuteTime": {
     "end_time": "2025-06-02T18:27:53.633027Z",
     "start_time": "2025-06-02T18:27:50.374206Z"
    }
   },
   "source": [
    "import os\n",
    "import itertools\n",
    "import typing as tp\n",
    "import warnings\n",
    "from collections import Counter\n",
    "from pathlib import Path\n",
    "\n",
    "import pandas as pd\n",
    "import numpy as np\n",
    "import torch\n",
    "from click.core import batch\n",
    "from lightning_fabric import seed_everything\n",
    "from pytorch_lightning import Trainer, LightningModule\n",
    "from pytorch_lightning.loggers import CSVLogger\n",
    "from pytorch_lightning.callbacks import EarlyStopping, ModelCheckpoint, Callback\n",
    "\n",
    "from rectools import Columns, ExternalIds\n",
    "from rectools.dataset import Dataset\n",
    "from rectools.metrics import NDCG, Recall, Serendipity, calc_metrics, HitRate\n",
    "from rectools.models import BERT4RecModel, SASRecModel, load_model\n",
    "from rectools.models.nn.transformers.hstu import HSTUModel\n",
    "from rectools.models.nn.item_net import IdEmbeddingsItemNet\n",
    "from rectools.models.nn.transformers.base import TransformerModelBase\n",
    "from rectools import Columns, ExternalIds\n",
    "from scipy import sparse\n",
    "# Enable deterministic behaviour with CUDA >= 10.2\n",
    "os.environ[\"CUBLAS_WORKSPACE_CONFIG\"] = \":4096:8\"\n",
    "warnings.simplefilter(\"ignore\", UserWarning)\n",
    "warnings.simplefilter(\"ignore\", FutureWarning)"
   ],
   "outputs": [],
   "execution_count": 1
  },
  {
   "cell_type": "markdown",
   "metadata": {},
   "source": [
    "## Prepare data"
   ]
  },
  {
   "metadata": {},
   "cell_type": "markdown",
   "source": [
    "%%time\n",
    "!wget -q https://files.grouplens.org/datasets/movielens/ml-1m.zip -O ml-1m.zip\n",
    "!unzip -o ml-1m.zip\n",
    "!rm ml-1m.zip"
   ]
  },
  {
   "cell_type": "code",
   "metadata": {
    "ExecuteTime": {
     "end_time": "2025-06-02T18:27:57.222937Z",
     "start_time": "2025-06-02T18:27:53.643317Z"
    }
   },
   "source": [
    "%%time\n",
    "ratings = pd.read_csv(\n",
    "    \"ml-1m/ratings.dat\", \n",
    "    sep=\"::\",\n",
    "    engine=\"python\",  # Because of 2-chars separators\n",
    "    header=None,\n",
    "    names=[Columns.User, Columns.Item, Columns.Weight, Columns.Datetime],\n",
    ")\n",
    "print(ratings.shape)\n",
    "ratings[Columns.Weight] = 1\n",
    "ratings.head()"
   ],
   "outputs": [
    {
     "name": "stdout",
     "output_type": "stream",
     "text": [
      "(1000209, 4)\n",
      "CPU times: user 3.39 s, sys: 181 ms, total: 3.57 s\n",
      "Wall time: 3.57 s\n"
     ]
    },
    {
     "data": {
      "text/plain": [
       "   user_id  item_id  weight   datetime\n",
       "0        1     1193       1  978300760\n",
       "1        1      661       1  978302109\n",
       "2        1      914       1  978301968\n",
       "3        1     3408       1  978300275\n",
       "4        1     2355       1  978824291"
      ],
      "text/html": [
       "<div>\n",
       "<style scoped>\n",
       "    .dataframe tbody tr th:only-of-type {\n",
       "        vertical-align: middle;\n",
       "    }\n",
       "\n",
       "    .dataframe tbody tr th {\n",
       "        vertical-align: top;\n",
       "    }\n",
       "\n",
       "    .dataframe thead th {\n",
       "        text-align: right;\n",
       "    }\n",
       "</style>\n",
       "<table border=\"1\" class=\"dataframe\">\n",
       "  <thead>\n",
       "    <tr style=\"text-align: right;\">\n",
       "      <th></th>\n",
       "      <th>user_id</th>\n",
       "      <th>item_id</th>\n",
       "      <th>weight</th>\n",
       "      <th>datetime</th>\n",
       "    </tr>\n",
       "  </thead>\n",
       "  <tbody>\n",
       "    <tr>\n",
       "      <th>0</th>\n",
       "      <td>1</td>\n",
       "      <td>1193</td>\n",
       "      <td>1</td>\n",
       "      <td>978300760</td>\n",
       "    </tr>\n",
       "    <tr>\n",
       "      <th>1</th>\n",
       "      <td>1</td>\n",
       "      <td>661</td>\n",
       "      <td>1</td>\n",
       "      <td>978302109</td>\n",
       "    </tr>\n",
       "    <tr>\n",
       "      <th>2</th>\n",
       "      <td>1</td>\n",
       "      <td>914</td>\n",
       "      <td>1</td>\n",
       "      <td>978301968</td>\n",
       "    </tr>\n",
       "    <tr>\n",
       "      <th>3</th>\n",
       "      <td>1</td>\n",
       "      <td>3408</td>\n",
       "      <td>1</td>\n",
       "      <td>978300275</td>\n",
       "    </tr>\n",
       "    <tr>\n",
       "      <th>4</th>\n",
       "      <td>1</td>\n",
       "      <td>2355</td>\n",
       "      <td>1</td>\n",
       "      <td>978824291</td>\n",
       "    </tr>\n",
       "  </tbody>\n",
       "</table>\n",
       "</div>"
      ]
     },
     "execution_count": 2,
     "metadata": {},
     "output_type": "execute_result"
    }
   ],
   "execution_count": 2
  },
  {
   "metadata": {
    "ExecuteTime": {
     "end_time": "2025-06-02T18:27:57.434282Z",
     "start_time": "2025-06-02T18:27:57.429847Z"
    }
   },
   "cell_type": "code",
   "source": "ratings[Columns.Datetime] = ratings[Columns.Datetime].astype(\"datetime64[s]\")",
   "outputs": [],
   "execution_count": 3
  },
  {
   "metadata": {
    "ExecuteTime": {
     "end_time": "2025-06-02T18:27:57.465718Z",
     "start_time": "2025-06-02T18:27:57.460016Z"
    }
   },
   "cell_type": "code",
   "source": [
    "nan_count = ratings.isna().sum()\n",
    "print(f\"Количество NaN в колонке '{Columns.Datetime}': {nan_count}\")"
   ],
   "outputs": [
    {
     "name": "stdout",
     "output_type": "stream",
     "text": [
      "Количество NaN в колонке 'datetime': user_id     0\n",
      "item_id     0\n",
      "weight      0\n",
      "datetime    0\n",
      "dtype: int64\n"
     ]
    }
   ],
   "execution_count": 4
  },
  {
   "metadata": {
    "ExecuteTime": {
     "end_time": "2025-06-02T18:27:57.630575Z",
     "start_time": "2025-06-02T18:27:57.546086Z"
    }
   },
   "cell_type": "code",
   "source": "dataset = Dataset.construct(ratings)",
   "outputs": [
    {
     "name": "stdout",
     "output_type": "stream",
     "text": [
      "         user_id  item_id  weight            datetime\n",
      "0              0        0     1.0 2000-12-31 22:12:40\n",
      "1              0        1     1.0 2000-12-31 22:35:09\n",
      "2              0        2     1.0 2000-12-31 22:32:48\n",
      "3              0        3     1.0 2000-12-31 22:04:35\n",
      "4              0        4     1.0 2001-01-06 23:38:11\n",
      "...          ...      ...     ...                 ...\n",
      "1000204     6039      772     1.0 2000-04-26 02:35:41\n",
      "1000205     6039     1106     1.0 2000-04-25 23:21:27\n",
      "1000206     6039      365     1.0 2000-04-25 23:19:06\n",
      "1000207     6039      152     1.0 2000-04-26 02:20:48\n",
      "1000208     6039       26     1.0 2000-04-26 02:19:29\n",
      "\n",
      "[1000209 rows x 4 columns]\n",
      "         user_id  item_id  weight            datetime\n",
      "0              0        0     1.0 2000-12-31 22:12:40\n",
      "1              0        1     1.0 2000-12-31 22:35:09\n",
      "2              0        2     1.0 2000-12-31 22:32:48\n",
      "3              0        3     1.0 2000-12-31 22:04:35\n",
      "4              0        4     1.0 2001-01-06 23:38:11\n",
      "...          ...      ...     ...                 ...\n",
      "1000204     6039      772     1.0 2000-04-26 02:35:41\n",
      "1000205     6039     1106     1.0 2000-04-25 23:21:27\n",
      "1000206     6039      365     1.0 2000-04-25 23:19:06\n",
      "1000207     6039      152     1.0 2000-04-26 02:20:48\n",
      "1000208     6039       26     1.0 2000-04-26 02:19:29\n",
      "\n",
      "[1000209 rows x 4 columns]\n"
     ]
    }
   ],
   "execution_count": 5
  },
  {
   "metadata": {
    "ExecuteTime": {
     "end_time": "2025-06-02T18:27:57.677454Z",
     "start_time": "2025-06-02T18:27:57.673204Z"
    }
   },
   "cell_type": "code",
   "source": "print(dataset.interactions.df)",
   "outputs": [
    {
     "name": "stdout",
     "output_type": "stream",
     "text": [
      "         user_id  item_id  weight            datetime\n",
      "0              0        0     1.0 2000-12-31 22:12:40\n",
      "1              0        1     1.0 2000-12-31 22:35:09\n",
      "2              0        2     1.0 2000-12-31 22:32:48\n",
      "3              0        3     1.0 2000-12-31 22:04:35\n",
      "4              0        4     1.0 2001-01-06 23:38:11\n",
      "...          ...      ...     ...                 ...\n",
      "1000204     6039      772     1.0 2000-04-26 02:35:41\n",
      "1000205     6039     1106     1.0 2000-04-25 23:21:27\n",
      "1000206     6039      365     1.0 2000-04-25 23:19:06\n",
      "1000207     6039      152     1.0 2000-04-26 02:20:48\n",
      "1000208     6039       26     1.0 2000-04-26 02:19:29\n",
      "\n",
      "[1000209 rows x 4 columns]\n"
     ]
    }
   ],
   "execution_count": 6
  },
  {
   "cell_type": "code",
   "metadata": {
    "ExecuteTime": {
     "end_time": "2025-06-02T18:27:57.734721Z",
     "start_time": "2025-06-02T18:27:57.730053Z"
    }
   },
   "source": [
    "RANDOM_STATE=60\n",
    "torch.use_deterministic_algorithms(True)\n",
    "seed_everything(RANDOM_STATE, workers=True)"
   ],
   "outputs": [
    {
     "name": "stderr",
     "output_type": "stream",
     "text": [
      "Seed set to 60\n"
     ]
    },
    {
     "data": {
      "text/plain": [
       "60"
      ]
     },
     "execution_count": 7,
     "metadata": {},
     "output_type": "execute_result"
    }
   ],
   "execution_count": 7
  },
  {
   "cell_type": "markdown",
   "metadata": {},
   "source": [
    "## Advanced Training"
   ]
  },
  {
   "cell_type": "markdown",
   "metadata": {},
   "source": [
    "### Validation fold\n",
    "\n",
    "Models do not create validation fold during `fit` by default. However, there is a simple way to force it.\n",
    "\n",
    "Let's assume that we want to use Leave-One-Out validation for specific set of users. To apply it we need to implement `get_val_mask_func` with required logic and pass it to model during initialization.\n",
    "\n",
    "This function should receive interactions with standard RecTools columns and return a binary mask which identifies interactions that should not be used during model training. But instrad should be used for validation loss calculation. They will also be available for Lightning Callbacks to allow RecSys metrics computations.\n",
    "\n",
    "*Please make sure you do not use `partial` while doing this. Partial functions cannot be by serialized using RecTools.*"
   ]
  },
  {
   "cell_type": "code",
   "metadata": {
    "ExecuteTime": {
     "end_time": "2025-06-02T18:27:57.843100Z",
     "start_time": "2025-06-02T18:27:57.832995Z"
    }
   },
   "source": [
    "# Implement `get_val_mask_func`\n",
    "\n",
    "unique_users = ratings[Columns.User].unique()\n",
    "VAL_USERS = unique_users\n",
    "\n",
    "def leave_one_out_mask_for_users(interactions: pd.DataFrame, val_users: ExternalIds) -> np.ndarray:\n",
    "    rank = (\n",
    "        interactions\n",
    "        .sort_values(Columns.Datetime, ascending=False, kind=\"stable\")\n",
    "        .groupby(Columns.User, sort=False)\n",
    "        .cumcount()\n",
    "    )\n",
    "    val_mask = (\n",
    "        (interactions[Columns.User].isin(val_users))\n",
    "        & (rank == 0)\n",
    "    )\n",
    "    return val_mask.values\n",
    "\n",
    "# We do not use `partial` for correct serialization of the model\n",
    "def get_val_mask_func(interactions: pd.DataFrame):\n",
    "    return leave_one_out_mask_for_users(interactions, val_users = VAL_USERS)"
   ],
   "outputs": [],
   "execution_count": 8
  },
  {
   "metadata": {
    "ExecuteTime": {
     "end_time": "2025-06-02T18:27:57.867289Z",
     "start_time": "2025-06-02T18:27:57.861002Z"
    }
   },
   "cell_type": "code",
   "source": [
    "class RecallCallback(Callback):  # with filter\n",
    "    name: str = \"recall\"\n",
    "\n",
    "    def __init__(self, k: int, prog_bar: bool = True) -> None:\n",
    "        self.k = k\n",
    "        self.name += f\"@{k}\"\n",
    "        self.prog_bar = prog_bar\n",
    "\n",
    "        self.batch_recall_per_users: tp.List[torch.Tensor] = []\n",
    "\n",
    "    def on_validation_batch_end(\n",
    "        self,\n",
    "        trainer: Trainer,\n",
    "        pl_module: LightningModule,\n",
    "        outputs: tp.Dict[str, torch.Tensor],\n",
    "        batch: tp.Dict[str, torch.Tensor],\n",
    "        batch_idx: int,\n",
    "        dataloader_idx: int = 0,\n",
    "    ) -> None:\n",
    "\n",
    "        if \"logits\" not in outputs:\n",
    "            session_embs = pl_module.torch_model.encode_sessions(\n",
    "                batch, pl_module.item_embs\n",
    "            )[:, -1, :]\n",
    "            logits = pl_module.torch_model.similarity_module(\n",
    "                session_embs, pl_module.item_embs\n",
    "            )\n",
    "        else:\n",
    "            logits = outputs[\"logits\"]\n",
    "\n",
    "        x = batch[\"x\"]\n",
    "        users = x.shape[0]\n",
    "        row_ind = np.arange(users).repeat(x.shape[1])\n",
    "        col_ind = x.flatten().detach().cpu().numpy()\n",
    "        mask = col_ind != 0\n",
    "        data = np.ones_like(row_ind[mask])\n",
    "        filter_csr = sparse.csr_matrix(\n",
    "            (data, (row_ind[mask], col_ind[mask])),\n",
    "            shape=(users, pl_module.torch_model.item_model.n_items),\n",
    "        )\n",
    "        mask = torch.from_numpy((filter_csr != 0).toarray()).to(logits.device)\n",
    "        scores = torch.masked_fill(logits, mask, float(\"-inf\"))\n",
    "\n",
    "        _, batch_recos = scores.topk(k=self.k)\n",
    "\n",
    "        targets = batch[\"y\"]\n",
    "\n",
    "        # assume all users have the same amount of TP\n",
    "        liked = targets.shape[1]\n",
    "        tp_mask = torch.stack(\n",
    "            [\n",
    "                torch.isin(batch_recos[uid], targets[uid])\n",
    "                for uid in range(batch_recos.shape[0])\n",
    "            ]\n",
    "        )\n",
    "        recall_per_users = tp_mask.sum(dim=1) / liked\n",
    "\n",
    "        self.batch_recall_per_users.append(recall_per_users)\n",
    "\n",
    "    def on_validation_epoch_end(\n",
    "        self, trainer: Trainer, pl_module: LightningModule\n",
    "    ) -> None:\n",
    "        recall = float(torch.concat(self.batch_recall_per_users).mean())\n",
    "        self.log_dict(\n",
    "            {self.name: recall}, on_step=False, on_epoch=True, prog_bar=self.prog_bar\n",
    "        )\n",
    "\n",
    "        self.batch_recall_per_users.clear()"
   ],
   "outputs": [],
   "execution_count": 9
  },
  {
   "cell_type": "markdown",
   "metadata": {},
   "source": [
    "In this guide we are going to use custom Lighhning trainers. We need to implement function that return desired Lightining trainer and pass it to model during initialization."
   ]
  },
  {
   "metadata": {
    "ExecuteTime": {
     "end_time": "2025-06-02T18:27:57.905937Z",
     "start_time": "2025-06-02T18:27:57.903966Z"
    }
   },
   "cell_type": "code",
   "source": [
    "\n",
    "# Callback for calculating RecSys metrics\n",
    "recall_callback = RecallCallback(k=10, prog_bar=True)"
   ],
   "outputs": [],
   "execution_count": 10
  },
  {
   "cell_type": "code",
   "metadata": {
    "ExecuteTime": {
     "end_time": "2025-06-02T18:27:57.927001Z",
     "start_time": "2025-06-02T18:27:57.924430Z"
    }
   },
   "source": [
    "# Function to get custom trainer\n",
    "\n",
    "def get_debug_trainer() -> Trainer:\n",
    "    return Trainer(\n",
    "        accelerator=\"gpu\",\n",
    "        devices=1,\n",
    "        min_epochs=101,\n",
    "        max_epochs=101,\n",
    "        deterministic=True,\n",
    "        enable_model_summary=False,\n",
    "        enable_progress_bar=True,\n",
    "        enable_checkpointing=False,\n",
    "        callbacks=[recall_callback],  # pass our callbacks\n",
    "        logger = CSVLogger(\"test_logs\"),  # We use CSV logging for this guide but there are many other options\n",
    "    )"
   ],
   "outputs": [],
   "execution_count": 11
  },
  {
   "cell_type": "code",
   "metadata": {
    "ExecuteTime": {
     "end_time": "2025-06-02T18:27:58.017860Z",
     "start_time": "2025-06-02T18:27:57.973330Z"
    }
   },
   "source": [
    "session_max_len = 200\n",
    "extra_cols_kwargs =  {\"extra_cols_kwargs\": {\"extra_cols\": [Columns.Datetime]}}\n",
    "transformer_layers_kwargs = {\n",
    "    \"attention_dim\": 50,\n",
    "    \"linear_hidden_dim\":50,\n",
    "    \"attn_dropout_ratio\": 0.1,\n",
    "    \"session_max_len\": session_max_len,\n",
    "    \"attention_mode\" : \"rel_pos_bias\"\n",
    "}\n",
    "lightning_module_kwargs = {\n",
    "    \"temperature\": 0.3\n",
    "}\n",
    "model  = HSTUModel(session_max_len = session_max_len,\n",
    "    data_preparator_kwargs=extra_cols_kwargs,\n",
    "    transformer_layers_kwargs=transformer_layers_kwargs,\n",
    "    lightning_module_kwargs=lightning_module_kwargs,\n",
    "    item_net_block_types=(IdEmbeddingsItemNet,),\n",
    "    get_val_mask_func=get_val_mask_func,  # pass our custom `get_val_mask_func`\n",
    "    get_trainer_func=get_debug_trainer,  # pass our custom trainer func\n",
    "    verbose=1,\n",
    "    loss = 'sampled_softmax',\n",
    "    n_negatives= 128,\n",
    "    use_pos_emb = True,\n",
    "    dropout_rate = 0.2,\n",
    "    n_factors = 50,\n",
    "    n_heads = 1,\n",
    "    n_blocks = 2,\n",
    "    lr = 0.005,\n",
    "    batch_size=128,\n",
    ")"
   ],
   "outputs": [
    {
     "name": "stderr",
     "output_type": "stream",
     "text": [
      "GPU available: True (cuda), used: True\n",
      "TPU available: False, using: 0 TPU cores\n",
      "HPU available: False, using: 0 HPUs\n"
     ]
    },
    {
     "name": "stdout",
     "output_type": "stream",
     "text": [
      "{'extra_cols': ['datetime']}\n"
     ]
    }
   ],
   "execution_count": 12
  },
  {
   "cell_type": "markdown",
   "metadata": {},
   "source": [
    "### Validation loss\n",
    "\n",
    "Let's check how the validation loss is being logged."
   ]
  },
  {
   "cell_type": "code",
   "metadata": {
    "ExecuteTime": {
     "end_time": "2025-06-02T18:44:14.511371Z",
     "start_time": "2025-06-02T18:27:58.046599Z"
    }
   },
   "source": [
    "# Fit model. Validation fold and validation loss computation will be done under the hood.\n",
    "\n",
    "model.fit(dataset)"
   ],
   "outputs": [
    {
     "name": "stdout",
     "output_type": "stream",
     "text": [
      "        user_id  item_id  weight            datetime\n",
      "0             0        1     1.0 2000-04-25 23:25:58\n",
      "1             0        2     1.0 2000-04-25 23:25:58\n",
      "2             0        3     1.0 2000-04-25 23:26:18\n",
      "3             0        4     1.0 2000-04-25 23:26:42\n",
      "4             0        5     1.0 2000-04-25 23:26:42\n",
      "...         ...      ...     ...                 ...\n",
      "658133     6031      689     1.0 2003-02-28 17:45:20\n",
      "658134     6031     2404     1.0 2003-02-28 17:45:38\n",
      "658135     6031      634     1.0 2003-02-28 17:47:23\n",
      "658136     6031      766     1.0 2003-02-28 17:49:08\n",
      "658137     6031     1943     1.0 2003-02-28 17:49:08\n",
      "\n",
      "[658138 rows x 4 columns]\n",
      "        user_id  item_id  weight            datetime\n",
      "0             0        1     1.0 2000-04-25 23:25:58\n",
      "1             0        2     1.0 2000-04-25 23:25:58\n",
      "2             0        3     1.0 2000-04-25 23:26:18\n",
      "3             0        4     1.0 2000-04-25 23:26:42\n",
      "4             0        5     1.0 2000-04-25 23:26:42\n",
      "...         ...      ...     ...                 ...\n",
      "658133     6031      689     1.0 2003-02-28 17:45:20\n",
      "658134     6031     2404     1.0 2003-02-28 17:45:38\n",
      "658135     6031      634     1.0 2003-02-28 17:47:23\n",
      "658136     6031      766     1.0 2003-02-28 17:49:08\n",
      "658137     6031     1943     1.0 2003-02-28 17:49:08\n",
      "\n",
      "[658138 rows x 4 columns]\n",
      "        user_id  item_id  weight            datetime\n",
      "0             0        1     0.0 2000-04-25 23:25:58\n",
      "1             0        2     0.0 2000-04-25 23:25:58\n",
      "2             0        3     0.0 2000-04-25 23:26:18\n",
      "3             0        4     0.0 2000-04-25 23:26:42\n",
      "4             0        5     0.0 2000-04-25 23:26:42\n",
      "...         ...      ...     ...                 ...\n",
      "663690       17      929     1.0 2000-04-26 13:19:56\n",
      "663691        2      565     1.0 2000-04-27 02:17:20\n",
      "663692        1      291     1.0 2000-04-26 02:46:44\n",
      "663693        0      135     1.0 2000-04-26 14:07:09\n",
      "663694        6      137     1.0 2001-08-20 13:44:15\n",
      "\n",
      "[663695 rows x 4 columns]\n",
      "        user_id  item_id  weight            datetime\n",
      "0             0        1     0.0 2000-04-25 23:25:58\n",
      "1             0        2     0.0 2000-04-25 23:25:58\n",
      "2             0        3     0.0 2000-04-25 23:26:18\n",
      "3             0        4     0.0 2000-04-25 23:26:42\n",
      "4             0        5     0.0 2000-04-25 23:26:42\n",
      "...         ...      ...     ...                 ...\n",
      "663690       17      929     1.0 2000-04-26 13:19:56\n",
      "663691        2      565     1.0 2000-04-27 02:17:20\n",
      "663692        1      291     1.0 2000-04-26 02:46:44\n",
      "663693        0      135     1.0 2000-04-26 14:07:09\n",
      "663694        6      137     1.0 2001-08-20 13:44:15\n",
      "\n",
      "[663695 rows x 4 columns]\n",
      "        user_id  item_id  weight            datetime\n",
      "0             0        1     0.0 2000-04-25 23:25:58\n",
      "1             0        2     0.0 2000-04-25 23:25:58\n",
      "2             0        3     0.0 2000-04-25 23:26:18\n",
      "3             0        4     0.0 2000-04-25 23:26:42\n",
      "4             0        5     0.0 2000-04-25 23:26:42\n",
      "...         ...      ...     ...                 ...\n",
      "663690       17      929     1.0 2000-04-26 13:19:56\n",
      "663691        2      565     1.0 2000-04-27 02:17:20\n",
      "663692        1      291     1.0 2000-04-26 02:46:44\n",
      "663693        0      135     1.0 2000-04-26 14:07:09\n",
      "663694        6      137     1.0 2001-08-20 13:44:15\n",
      "\n",
      "[663695 rows x 4 columns]\n",
      "{'extra_cols': ['datetime']}\n"
     ]
    },
    {
     "name": "stderr",
     "output_type": "stream",
     "text": [
      "You are using a CUDA device ('NVIDIA A100 80GB PCIe') that has Tensor Cores. To properly utilize them, you should set `torch.set_float32_matmul_precision('medium' | 'high')` which will trade-off precision for performance. For more details, read https://pytorch.org/docs/stable/generated/torch.set_float32_matmul_precision.html#torch.set_float32_matmul_precision\n",
      "LOCAL_RANK: 0 - CUDA_VISIBLE_DEVICES: [0]\n"
     ]
    },
    {
     "name": "stdout",
     "output_type": "stream",
     "text": [
      "item_model.item_net_blocks.0.ids_emb.weight torch.Size([3646, 50])\n",
      "pos_encoding_layer._pos_emb.weight torch.Size([200, 50])\n",
      "transformer_layers.stu_blocks.0._uvqk torch.Size([50, 200])\n",
      "transformer_layers.stu_blocks.0._rel_attn_bias._ts_w torch.Size([129])\n",
      "transformer_layers.stu_blocks.0._rel_attn_bias._pos_w torch.Size([401])\n",
      "transformer_layers.stu_blocks.0._o.weight torch.Size([50, 50])\n",
      "transformer_layers.stu_blocks.0._o.bias torch.Size([50])\n",
      "transformer_layers.stu_blocks.1._uvqk torch.Size([50, 200])\n",
      "transformer_layers.stu_blocks.1._rel_attn_bias._ts_w torch.Size([129])\n",
      "transformer_layers.stu_blocks.1._rel_attn_bias._pos_w torch.Size([401])\n",
      "transformer_layers.stu_blocks.1._o.weight torch.Size([50, 50])\n",
      "transformer_layers.stu_blocks.1._o.bias torch.Size([50])\n",
      "transformer_layers.last_layernorm.weight torch.Size([50])\n",
      "transformer_layers.last_layernorm.bias torch.Size([50])\n"
     ]
    },
    {
     "data": {
      "text/plain": [
       "Sanity Checking: |          | 0/? [00:00<?, ?it/s]"
      ],
      "application/vnd.jupyter.widget-view+json": {
       "version_major": 2,
       "version_minor": 0,
       "model_id": "d0634df3084d41b1b0ec883e9365f35c"
      }
     },
     "metadata": {},
     "output_type": "display_data"
    },
    {
     "data": {
      "text/plain": [
       "Training: |          | 0/? [00:00<?, ?it/s]"
      ],
      "application/vnd.jupyter.widget-view+json": {
       "version_major": 2,
       "version_minor": 0,
       "model_id": "e2bf18546ae2441195d00d28fb671441"
      }
     },
     "metadata": {},
     "output_type": "display_data"
    },
    {
     "data": {
      "text/plain": [
       "Validation: |          | 0/? [00:00<?, ?it/s]"
      ],
      "application/vnd.jupyter.widget-view+json": {
       "version_major": 2,
       "version_minor": 0,
       "model_id": "64e0874d8db243e7a44932e3ec9c73cc"
      }
     },
     "metadata": {},
     "output_type": "display_data"
    },
    {
     "data": {
      "text/plain": [
       "Validation: |          | 0/? [00:00<?, ?it/s]"
      ],
      "application/vnd.jupyter.widget-view+json": {
       "version_major": 2,
       "version_minor": 0,
       "model_id": "7087ce619cd34ce88cac8505600aaace"
      }
     },
     "metadata": {},
     "output_type": "display_data"
    },
    {
     "data": {
      "text/plain": [
       "Validation: |          | 0/? [00:00<?, ?it/s]"
      ],
      "application/vnd.jupyter.widget-view+json": {
       "version_major": 2,
       "version_minor": 0,
       "model_id": "47b58d0c023f44ca899b1c2772c04f5f"
      }
     },
     "metadata": {},
     "output_type": "display_data"
    },
    {
     "data": {
      "text/plain": [
       "Validation: |          | 0/? [00:00<?, ?it/s]"
      ],
      "application/vnd.jupyter.widget-view+json": {
       "version_major": 2,
       "version_minor": 0,
       "model_id": "5658487feee84180a785c5aae4bcfff2"
      }
     },
     "metadata": {},
     "output_type": "display_data"
    },
    {
     "data": {
      "text/plain": [
       "Validation: |          | 0/? [00:00<?, ?it/s]"
      ],
      "application/vnd.jupyter.widget-view+json": {
       "version_major": 2,
       "version_minor": 0,
       "model_id": "bbc2d8972c964d209c5068566e65f882"
      }
     },
     "metadata": {},
     "output_type": "display_data"
    },
    {
     "data": {
      "text/plain": [
       "Validation: |          | 0/? [00:00<?, ?it/s]"
      ],
      "application/vnd.jupyter.widget-view+json": {
       "version_major": 2,
       "version_minor": 0,
       "model_id": "556e8f0a0c98465eb1d70043da62ebf4"
      }
     },
     "metadata": {},
     "output_type": "display_data"
    },
    {
     "data": {
      "text/plain": [
       "Validation: |          | 0/? [00:00<?, ?it/s]"
      ],
      "application/vnd.jupyter.widget-view+json": {
       "version_major": 2,
       "version_minor": 0,
       "model_id": "bce91473a39247dca45afa0d9b301baf"
      }
     },
     "metadata": {},
     "output_type": "display_data"
    },
    {
     "data": {
      "text/plain": [
       "Validation: |          | 0/? [00:00<?, ?it/s]"
      ],
      "application/vnd.jupyter.widget-view+json": {
       "version_major": 2,
       "version_minor": 0,
       "model_id": "ade3dac2be6b45779d844459a4a950e4"
      }
     },
     "metadata": {},
     "output_type": "display_data"
    },
    {
     "data": {
      "text/plain": [
       "Validation: |          | 0/? [00:00<?, ?it/s]"
      ],
      "application/vnd.jupyter.widget-view+json": {
       "version_major": 2,
       "version_minor": 0,
       "model_id": "c58f304804ba42a7a3d16b63ce256416"
      }
     },
     "metadata": {},
     "output_type": "display_data"
    },
    {
     "data": {
      "text/plain": [
       "Validation: |          | 0/? [00:00<?, ?it/s]"
      ],
      "application/vnd.jupyter.widget-view+json": {
       "version_major": 2,
       "version_minor": 0,
       "model_id": "d09a577e3cc74fd68ef554b97b4e3b9d"
      }
     },
     "metadata": {},
     "output_type": "display_data"
    },
    {
     "data": {
      "text/plain": [
       "Validation: |          | 0/? [00:00<?, ?it/s]"
      ],
      "application/vnd.jupyter.widget-view+json": {
       "version_major": 2,
       "version_minor": 0,
       "model_id": "ce1fea4d220f4241b33850a132de9bd0"
      }
     },
     "metadata": {},
     "output_type": "display_data"
    },
    {
     "data": {
      "text/plain": [
       "Validation: |          | 0/? [00:00<?, ?it/s]"
      ],
      "application/vnd.jupyter.widget-view+json": {
       "version_major": 2,
       "version_minor": 0,
       "model_id": "8a08a30431294623ba1ade0cbb5febe6"
      }
     },
     "metadata": {},
     "output_type": "display_data"
    },
    {
     "data": {
      "text/plain": [
       "Validation: |          | 0/? [00:00<?, ?it/s]"
      ],
      "application/vnd.jupyter.widget-view+json": {
       "version_major": 2,
       "version_minor": 0,
       "model_id": "4acc5c43fe3844f1aab3f88a045af434"
      }
     },
     "metadata": {},
     "output_type": "display_data"
    },
    {
     "data": {
      "text/plain": [
       "Validation: |          | 0/? [00:00<?, ?it/s]"
      ],
      "application/vnd.jupyter.widget-view+json": {
       "version_major": 2,
       "version_minor": 0,
       "model_id": "83839c01193649acb28ddbddb4f372b6"
      }
     },
     "metadata": {},
     "output_type": "display_data"
    },
    {
     "data": {
      "text/plain": [
       "Validation: |          | 0/? [00:00<?, ?it/s]"
      ],
      "application/vnd.jupyter.widget-view+json": {
       "version_major": 2,
       "version_minor": 0,
       "model_id": "1e2f2f379ac04856934f5a9da9dbb8d8"
      }
     },
     "metadata": {},
     "output_type": "display_data"
    },
    {
     "data": {
      "text/plain": [
       "Validation: |          | 0/? [00:00<?, ?it/s]"
      ],
      "application/vnd.jupyter.widget-view+json": {
       "version_major": 2,
       "version_minor": 0,
       "model_id": "927b0300af1147cab6bfd2ff8785f26a"
      }
     },
     "metadata": {},
     "output_type": "display_data"
    },
    {
     "data": {
      "text/plain": [
       "Validation: |          | 0/? [00:00<?, ?it/s]"
      ],
      "application/vnd.jupyter.widget-view+json": {
       "version_major": 2,
       "version_minor": 0,
       "model_id": "2a46b306cdfa48e684ab094a5694856c"
      }
     },
     "metadata": {},
     "output_type": "display_data"
    },
    {
     "data": {
      "text/plain": [
       "Validation: |          | 0/? [00:00<?, ?it/s]"
      ],
      "application/vnd.jupyter.widget-view+json": {
       "version_major": 2,
       "version_minor": 0,
       "model_id": "8e8aec56f7e54e08bd35f42a93a56147"
      }
     },
     "metadata": {},
     "output_type": "display_data"
    },
    {
     "data": {
      "text/plain": [
       "Validation: |          | 0/? [00:00<?, ?it/s]"
      ],
      "application/vnd.jupyter.widget-view+json": {
       "version_major": 2,
       "version_minor": 0,
       "model_id": "fd04bc90ccc846bfb9de2c751c930538"
      }
     },
     "metadata": {},
     "output_type": "display_data"
    },
    {
     "data": {
      "text/plain": [
       "Validation: |          | 0/? [00:00<?, ?it/s]"
      ],
      "application/vnd.jupyter.widget-view+json": {
       "version_major": 2,
       "version_minor": 0,
       "model_id": "c9f9d9e4695641b89f05b438c092b067"
      }
     },
     "metadata": {},
     "output_type": "display_data"
    },
    {
     "data": {
      "text/plain": [
       "Validation: |          | 0/? [00:00<?, ?it/s]"
      ],
      "application/vnd.jupyter.widget-view+json": {
       "version_major": 2,
       "version_minor": 0,
       "model_id": "2b5b5563df234e7a85cb6f32bff184da"
      }
     },
     "metadata": {},
     "output_type": "display_data"
    },
    {
     "data": {
      "text/plain": [
       "Validation: |          | 0/? [00:00<?, ?it/s]"
      ],
      "application/vnd.jupyter.widget-view+json": {
       "version_major": 2,
       "version_minor": 0,
       "model_id": "48ca66d3966d4cdd971289dbba822e87"
      }
     },
     "metadata": {},
     "output_type": "display_data"
    },
    {
     "data": {
      "text/plain": [
       "Validation: |          | 0/? [00:00<?, ?it/s]"
      ],
      "application/vnd.jupyter.widget-view+json": {
       "version_major": 2,
       "version_minor": 0,
       "model_id": "ed17d59cbd254a47a2c8f9832e224f37"
      }
     },
     "metadata": {},
     "output_type": "display_data"
    },
    {
     "data": {
      "text/plain": [
       "Validation: |          | 0/? [00:00<?, ?it/s]"
      ],
      "application/vnd.jupyter.widget-view+json": {
       "version_major": 2,
       "version_minor": 0,
       "model_id": "47303cb2cb494cf2b01f5019a9e84081"
      }
     },
     "metadata": {},
     "output_type": "display_data"
    },
    {
     "data": {
      "text/plain": [
       "Validation: |          | 0/? [00:00<?, ?it/s]"
      ],
      "application/vnd.jupyter.widget-view+json": {
       "version_major": 2,
       "version_minor": 0,
       "model_id": "b2f5ca5d80a44a568e9eeea403d53eed"
      }
     },
     "metadata": {},
     "output_type": "display_data"
    },
    {
     "data": {
      "text/plain": [
       "Validation: |          | 0/? [00:00<?, ?it/s]"
      ],
      "application/vnd.jupyter.widget-view+json": {
       "version_major": 2,
       "version_minor": 0,
       "model_id": "3e8856c0b76346fb9bbdb49627bf089d"
      }
     },
     "metadata": {},
     "output_type": "display_data"
    },
    {
     "data": {
      "text/plain": [
       "Validation: |          | 0/? [00:00<?, ?it/s]"
      ],
      "application/vnd.jupyter.widget-view+json": {
       "version_major": 2,
       "version_minor": 0,
       "model_id": "e090dbbd771f49ec985636d8838c57e5"
      }
     },
     "metadata": {},
     "output_type": "display_data"
    },
    {
     "data": {
      "text/plain": [
       "Validation: |          | 0/? [00:00<?, ?it/s]"
      ],
      "application/vnd.jupyter.widget-view+json": {
       "version_major": 2,
       "version_minor": 0,
       "model_id": "2edb816f2ade4ada8c0402286f888d4d"
      }
     },
     "metadata": {},
     "output_type": "display_data"
    },
    {
     "data": {
      "text/plain": [
       "Validation: |          | 0/? [00:00<?, ?it/s]"
      ],
      "application/vnd.jupyter.widget-view+json": {
       "version_major": 2,
       "version_minor": 0,
       "model_id": "a2c1b04dc9e34c48abfb9ba3180637c7"
      }
     },
     "metadata": {},
     "output_type": "display_data"
    },
    {
     "data": {
      "text/plain": [
       "Validation: |          | 0/? [00:00<?, ?it/s]"
      ],
      "application/vnd.jupyter.widget-view+json": {
       "version_major": 2,
       "version_minor": 0,
       "model_id": "34ff3392a7944eb79ff4bc491e54bfd3"
      }
     },
     "metadata": {},
     "output_type": "display_data"
    },
    {
     "data": {
      "text/plain": [
       "Validation: |          | 0/? [00:00<?, ?it/s]"
      ],
      "application/vnd.jupyter.widget-view+json": {
       "version_major": 2,
       "version_minor": 0,
       "model_id": "fdc98b3f850e44999deccb69e8faab96"
      }
     },
     "metadata": {},
     "output_type": "display_data"
    },
    {
     "data": {
      "text/plain": [
       "Validation: |          | 0/? [00:00<?, ?it/s]"
      ],
      "application/vnd.jupyter.widget-view+json": {
       "version_major": 2,
       "version_minor": 0,
       "model_id": "553d96309af347d380cb6e24b5178ca7"
      }
     },
     "metadata": {},
     "output_type": "display_data"
    },
    {
     "data": {
      "text/plain": [
       "Validation: |          | 0/? [00:00<?, ?it/s]"
      ],
      "application/vnd.jupyter.widget-view+json": {
       "version_major": 2,
       "version_minor": 0,
       "model_id": "ae6ba1b6cbee4f6b88b82088f4e85757"
      }
     },
     "metadata": {},
     "output_type": "display_data"
    },
    {
     "data": {
      "text/plain": [
       "Validation: |          | 0/? [00:00<?, ?it/s]"
      ],
      "application/vnd.jupyter.widget-view+json": {
       "version_major": 2,
       "version_minor": 0,
       "model_id": "639caa4a39aa47a5910a9971868564ed"
      }
     },
     "metadata": {},
     "output_type": "display_data"
    },
    {
     "data": {
      "text/plain": [
       "Validation: |          | 0/? [00:00<?, ?it/s]"
      ],
      "application/vnd.jupyter.widget-view+json": {
       "version_major": 2,
       "version_minor": 0,
       "model_id": "ce22bf6291624528bfbd404bc62b91f1"
      }
     },
     "metadata": {},
     "output_type": "display_data"
    },
    {
     "data": {
      "text/plain": [
       "Validation: |          | 0/? [00:00<?, ?it/s]"
      ],
      "application/vnd.jupyter.widget-view+json": {
       "version_major": 2,
       "version_minor": 0,
       "model_id": "e49921b5cc5145449811c5eac56bc298"
      }
     },
     "metadata": {},
     "output_type": "display_data"
    },
    {
     "data": {
      "text/plain": [
       "Validation: |          | 0/? [00:00<?, ?it/s]"
      ],
      "application/vnd.jupyter.widget-view+json": {
       "version_major": 2,
       "version_minor": 0,
       "model_id": "90e3df2e51e74e3bb640d7c17a0d4f37"
      }
     },
     "metadata": {},
     "output_type": "display_data"
    },
    {
     "data": {
      "text/plain": [
       "Validation: |          | 0/? [00:00<?, ?it/s]"
      ],
      "application/vnd.jupyter.widget-view+json": {
       "version_major": 2,
       "version_minor": 0,
       "model_id": "ce84949096ec4753942d405368b7dda1"
      }
     },
     "metadata": {},
     "output_type": "display_data"
    },
    {
     "data": {
      "text/plain": [
       "Validation: |          | 0/? [00:00<?, ?it/s]"
      ],
      "application/vnd.jupyter.widget-view+json": {
       "version_major": 2,
       "version_minor": 0,
       "model_id": "11c16eecc71f472ca4998ceb36677216"
      }
     },
     "metadata": {},
     "output_type": "display_data"
    },
    {
     "data": {
      "text/plain": [
       "Validation: |          | 0/? [00:00<?, ?it/s]"
      ],
      "application/vnd.jupyter.widget-view+json": {
       "version_major": 2,
       "version_minor": 0,
       "model_id": "ae68829953fa4f68b619bb76d1567e7a"
      }
     },
     "metadata": {},
     "output_type": "display_data"
    },
    {
     "data": {
      "text/plain": [
       "Validation: |          | 0/? [00:00<?, ?it/s]"
      ],
      "application/vnd.jupyter.widget-view+json": {
       "version_major": 2,
       "version_minor": 0,
       "model_id": "d0123e988d3d4c1d8f047cd39e602880"
      }
     },
     "metadata": {},
     "output_type": "display_data"
    },
    {
     "data": {
      "text/plain": [
       "Validation: |          | 0/? [00:00<?, ?it/s]"
      ],
      "application/vnd.jupyter.widget-view+json": {
       "version_major": 2,
       "version_minor": 0,
       "model_id": "71c84479095148709295b07215448847"
      }
     },
     "metadata": {},
     "output_type": "display_data"
    },
    {
     "data": {
      "text/plain": [
       "Validation: |          | 0/? [00:00<?, ?it/s]"
      ],
      "application/vnd.jupyter.widget-view+json": {
       "version_major": 2,
       "version_minor": 0,
       "model_id": "a1d7b9626a3d45cf8fa30cb6df6ee68c"
      }
     },
     "metadata": {},
     "output_type": "display_data"
    },
    {
     "data": {
      "text/plain": [
       "Validation: |          | 0/? [00:00<?, ?it/s]"
      ],
      "application/vnd.jupyter.widget-view+json": {
       "version_major": 2,
       "version_minor": 0,
       "model_id": "44c9fda635254c23a6dc215f69095fc7"
      }
     },
     "metadata": {},
     "output_type": "display_data"
    },
    {
     "data": {
      "text/plain": [
       "Validation: |          | 0/? [00:00<?, ?it/s]"
      ],
      "application/vnd.jupyter.widget-view+json": {
       "version_major": 2,
       "version_minor": 0,
       "model_id": "c63f5594778d471da4447527663ee027"
      }
     },
     "metadata": {},
     "output_type": "display_data"
    },
    {
     "data": {
      "text/plain": [
       "Validation: |          | 0/? [00:00<?, ?it/s]"
      ],
      "application/vnd.jupyter.widget-view+json": {
       "version_major": 2,
       "version_minor": 0,
       "model_id": "8edb004dd161457d8ade1d8bf1e4571a"
      }
     },
     "metadata": {},
     "output_type": "display_data"
    },
    {
     "data": {
      "text/plain": [
       "Validation: |          | 0/? [00:00<?, ?it/s]"
      ],
      "application/vnd.jupyter.widget-view+json": {
       "version_major": 2,
       "version_minor": 0,
       "model_id": "e7961398fe49491ca949dba4d194e308"
      }
     },
     "metadata": {},
     "output_type": "display_data"
    },
    {
     "data": {
      "text/plain": [
       "Validation: |          | 0/? [00:00<?, ?it/s]"
      ],
      "application/vnd.jupyter.widget-view+json": {
       "version_major": 2,
       "version_minor": 0,
       "model_id": "94cc95b0324e4c20ba2ecd04a4a7792c"
      }
     },
     "metadata": {},
     "output_type": "display_data"
    },
    {
     "data": {
      "text/plain": [
       "Validation: |          | 0/? [00:00<?, ?it/s]"
      ],
      "application/vnd.jupyter.widget-view+json": {
       "version_major": 2,
       "version_minor": 0,
       "model_id": "3dd2ca0920fe43a182500d56639eb5eb"
      }
     },
     "metadata": {},
     "output_type": "display_data"
    },
    {
     "data": {
      "text/plain": [
       "Validation: |          | 0/? [00:00<?, ?it/s]"
      ],
      "application/vnd.jupyter.widget-view+json": {
       "version_major": 2,
       "version_minor": 0,
       "model_id": "636c0cf7ccce4cbca41d9b5e1332fc18"
      }
     },
     "metadata": {},
     "output_type": "display_data"
    },
    {
     "data": {
      "text/plain": [
       "Validation: |          | 0/? [00:00<?, ?it/s]"
      ],
      "application/vnd.jupyter.widget-view+json": {
       "version_major": 2,
       "version_minor": 0,
       "model_id": "3abcd29657264fd6a40e7084e23d2fe5"
      }
     },
     "metadata": {},
     "output_type": "display_data"
    },
    {
     "data": {
      "text/plain": [
       "Validation: |          | 0/? [00:00<?, ?it/s]"
      ],
      "application/vnd.jupyter.widget-view+json": {
       "version_major": 2,
       "version_minor": 0,
       "model_id": "b4417ec93eef4b068f21a9d97545a761"
      }
     },
     "metadata": {},
     "output_type": "display_data"
    },
    {
     "data": {
      "text/plain": [
       "Validation: |          | 0/? [00:00<?, ?it/s]"
      ],
      "application/vnd.jupyter.widget-view+json": {
       "version_major": 2,
       "version_minor": 0,
       "model_id": "972c3bbbd49b466ca30b560f36409ac7"
      }
     },
     "metadata": {},
     "output_type": "display_data"
    },
    {
     "data": {
      "text/plain": [
       "Validation: |          | 0/? [00:00<?, ?it/s]"
      ],
      "application/vnd.jupyter.widget-view+json": {
       "version_major": 2,
       "version_minor": 0,
       "model_id": "24b7d13f638b493998acb66eb7cf120e"
      }
     },
     "metadata": {},
     "output_type": "display_data"
    },
    {
     "data": {
      "text/plain": [
       "Validation: |          | 0/? [00:00<?, ?it/s]"
      ],
      "application/vnd.jupyter.widget-view+json": {
       "version_major": 2,
       "version_minor": 0,
       "model_id": "d399eaa29ddb40bb8a1ee46d632c9d88"
      }
     },
     "metadata": {},
     "output_type": "display_data"
    },
    {
     "data": {
      "text/plain": [
       "Validation: |          | 0/? [00:00<?, ?it/s]"
      ],
      "application/vnd.jupyter.widget-view+json": {
       "version_major": 2,
       "version_minor": 0,
       "model_id": "de2b398f3d31474aa5143c007d19e66d"
      }
     },
     "metadata": {},
     "output_type": "display_data"
    },
    {
     "data": {
      "text/plain": [
       "Validation: |          | 0/? [00:00<?, ?it/s]"
      ],
      "application/vnd.jupyter.widget-view+json": {
       "version_major": 2,
       "version_minor": 0,
       "model_id": "e024162400174065a3575b7a63c4be2b"
      }
     },
     "metadata": {},
     "output_type": "display_data"
    },
    {
     "data": {
      "text/plain": [
       "Validation: |          | 0/? [00:00<?, ?it/s]"
      ],
      "application/vnd.jupyter.widget-view+json": {
       "version_major": 2,
       "version_minor": 0,
       "model_id": "d52077013c5e462c844f4d58baa5ff18"
      }
     },
     "metadata": {},
     "output_type": "display_data"
    },
    {
     "data": {
      "text/plain": [
       "Validation: |          | 0/? [00:00<?, ?it/s]"
      ],
      "application/vnd.jupyter.widget-view+json": {
       "version_major": 2,
       "version_minor": 0,
       "model_id": "c1566944979e4d2aa029a1d396d86c12"
      }
     },
     "metadata": {},
     "output_type": "display_data"
    },
    {
     "data": {
      "text/plain": [
       "Validation: |          | 0/? [00:00<?, ?it/s]"
      ],
      "application/vnd.jupyter.widget-view+json": {
       "version_major": 2,
       "version_minor": 0,
       "model_id": "30628ef293f548f48a8f6c226ecbe463"
      }
     },
     "metadata": {},
     "output_type": "display_data"
    },
    {
     "data": {
      "text/plain": [
       "Validation: |          | 0/? [00:00<?, ?it/s]"
      ],
      "application/vnd.jupyter.widget-view+json": {
       "version_major": 2,
       "version_minor": 0,
       "model_id": "199982115d6d4d02ad230c350634661b"
      }
     },
     "metadata": {},
     "output_type": "display_data"
    },
    {
     "data": {
      "text/plain": [
       "Validation: |          | 0/? [00:00<?, ?it/s]"
      ],
      "application/vnd.jupyter.widget-view+json": {
       "version_major": 2,
       "version_minor": 0,
       "model_id": "f130284e3c32487b909d394c97119771"
      }
     },
     "metadata": {},
     "output_type": "display_data"
    },
    {
     "data": {
      "text/plain": [
       "Validation: |          | 0/? [00:00<?, ?it/s]"
      ],
      "application/vnd.jupyter.widget-view+json": {
       "version_major": 2,
       "version_minor": 0,
       "model_id": "046442bd41344751944280b6dc89a918"
      }
     },
     "metadata": {},
     "output_type": "display_data"
    },
    {
     "data": {
      "text/plain": [
       "Validation: |          | 0/? [00:00<?, ?it/s]"
      ],
      "application/vnd.jupyter.widget-view+json": {
       "version_major": 2,
       "version_minor": 0,
       "model_id": "0ec85ebb3ea449189669cc5f0deab56b"
      }
     },
     "metadata": {},
     "output_type": "display_data"
    },
    {
     "data": {
      "text/plain": [
       "Validation: |          | 0/? [00:00<?, ?it/s]"
      ],
      "application/vnd.jupyter.widget-view+json": {
       "version_major": 2,
       "version_minor": 0,
       "model_id": "fa651ea6ae134a27a888cbaebcb12339"
      }
     },
     "metadata": {},
     "output_type": "display_data"
    },
    {
     "data": {
      "text/plain": [
       "Validation: |          | 0/? [00:00<?, ?it/s]"
      ],
      "application/vnd.jupyter.widget-view+json": {
       "version_major": 2,
       "version_minor": 0,
       "model_id": "733712248f7d43eb87c039830e3e5fe9"
      }
     },
     "metadata": {},
     "output_type": "display_data"
    },
    {
     "data": {
      "text/plain": [
       "Validation: |          | 0/? [00:00<?, ?it/s]"
      ],
      "application/vnd.jupyter.widget-view+json": {
       "version_major": 2,
       "version_minor": 0,
       "model_id": "3608caeade6e48e1a84efddb96e098cd"
      }
     },
     "metadata": {},
     "output_type": "display_data"
    },
    {
     "data": {
      "text/plain": [
       "Validation: |          | 0/? [00:00<?, ?it/s]"
      ],
      "application/vnd.jupyter.widget-view+json": {
       "version_major": 2,
       "version_minor": 0,
       "model_id": "294218d6cc3942d08c4fa077ddf407dd"
      }
     },
     "metadata": {},
     "output_type": "display_data"
    },
    {
     "data": {
      "text/plain": [
       "Validation: |          | 0/? [00:00<?, ?it/s]"
      ],
      "application/vnd.jupyter.widget-view+json": {
       "version_major": 2,
       "version_minor": 0,
       "model_id": "7b6f0eac1d3e479a8fe3a6081923e97d"
      }
     },
     "metadata": {},
     "output_type": "display_data"
    },
    {
     "data": {
      "text/plain": [
       "Validation: |          | 0/? [00:00<?, ?it/s]"
      ],
      "application/vnd.jupyter.widget-view+json": {
       "version_major": 2,
       "version_minor": 0,
       "model_id": "a1cc15decb82469bb1c6508b41b60f48"
      }
     },
     "metadata": {},
     "output_type": "display_data"
    },
    {
     "data": {
      "text/plain": [
       "Validation: |          | 0/? [00:00<?, ?it/s]"
      ],
      "application/vnd.jupyter.widget-view+json": {
       "version_major": 2,
       "version_minor": 0,
       "model_id": "b1325ede4f024447915d8a64ec61a813"
      }
     },
     "metadata": {},
     "output_type": "display_data"
    },
    {
     "data": {
      "text/plain": [
       "Validation: |          | 0/? [00:00<?, ?it/s]"
      ],
      "application/vnd.jupyter.widget-view+json": {
       "version_major": 2,
       "version_minor": 0,
       "model_id": "90c387a4a6a049f6b155ec2596944dd3"
      }
     },
     "metadata": {},
     "output_type": "display_data"
    },
    {
     "data": {
      "text/plain": [
       "Validation: |          | 0/? [00:00<?, ?it/s]"
      ],
      "application/vnd.jupyter.widget-view+json": {
       "version_major": 2,
       "version_minor": 0,
       "model_id": "04a7be2ce7b241d89db25a20a2288c13"
      }
     },
     "metadata": {},
     "output_type": "display_data"
    },
    {
     "data": {
      "text/plain": [
       "Validation: |          | 0/? [00:00<?, ?it/s]"
      ],
      "application/vnd.jupyter.widget-view+json": {
       "version_major": 2,
       "version_minor": 0,
       "model_id": "7125f4e6ccc6402289c2f266c8831dea"
      }
     },
     "metadata": {},
     "output_type": "display_data"
    },
    {
     "data": {
      "text/plain": [
       "Validation: |          | 0/? [00:00<?, ?it/s]"
      ],
      "application/vnd.jupyter.widget-view+json": {
       "version_major": 2,
       "version_minor": 0,
       "model_id": "769943967ed74343b2e76f1bfe9e4822"
      }
     },
     "metadata": {},
     "output_type": "display_data"
    },
    {
     "data": {
      "text/plain": [
       "Validation: |          | 0/? [00:00<?, ?it/s]"
      ],
      "application/vnd.jupyter.widget-view+json": {
       "version_major": 2,
       "version_minor": 0,
       "model_id": "247e9f87dd9b4cd09365ad390d7fd41b"
      }
     },
     "metadata": {},
     "output_type": "display_data"
    },
    {
     "data": {
      "text/plain": [
       "Validation: |          | 0/? [00:00<?, ?it/s]"
      ],
      "application/vnd.jupyter.widget-view+json": {
       "version_major": 2,
       "version_minor": 0,
       "model_id": "a9c5d64d49c64636a08b64c6feec1bf0"
      }
     },
     "metadata": {},
     "output_type": "display_data"
    },
    {
     "data": {
      "text/plain": [
       "Validation: |          | 0/? [00:00<?, ?it/s]"
      ],
      "application/vnd.jupyter.widget-view+json": {
       "version_major": 2,
       "version_minor": 0,
       "model_id": "9fbb1f9ed907478c817d4c513747b565"
      }
     },
     "metadata": {},
     "output_type": "display_data"
    },
    {
     "data": {
      "text/plain": [
       "Validation: |          | 0/? [00:00<?, ?it/s]"
      ],
      "application/vnd.jupyter.widget-view+json": {
       "version_major": 2,
       "version_minor": 0,
       "model_id": "c21246a167d74f058fe2562f809aa1db"
      }
     },
     "metadata": {},
     "output_type": "display_data"
    },
    {
     "data": {
      "text/plain": [
       "Validation: |          | 0/? [00:00<?, ?it/s]"
      ],
      "application/vnd.jupyter.widget-view+json": {
       "version_major": 2,
       "version_minor": 0,
       "model_id": "2ae0246a55544ceea286fad2f4f4cba3"
      }
     },
     "metadata": {},
     "output_type": "display_data"
    },
    {
     "data": {
      "text/plain": [
       "Validation: |          | 0/? [00:00<?, ?it/s]"
      ],
      "application/vnd.jupyter.widget-view+json": {
       "version_major": 2,
       "version_minor": 0,
       "model_id": "36b4f408ffd04b95ac5368f62f6fcee4"
      }
     },
     "metadata": {},
     "output_type": "display_data"
    },
    {
     "data": {
      "text/plain": [
       "Validation: |          | 0/? [00:00<?, ?it/s]"
      ],
      "application/vnd.jupyter.widget-view+json": {
       "version_major": 2,
       "version_minor": 0,
       "model_id": "59d100e5d62748fab63ee6d70d8d7292"
      }
     },
     "metadata": {},
     "output_type": "display_data"
    },
    {
     "data": {
      "text/plain": [
       "Validation: |          | 0/? [00:00<?, ?it/s]"
      ],
      "application/vnd.jupyter.widget-view+json": {
       "version_major": 2,
       "version_minor": 0,
       "model_id": "e4bd64cc77e64d7382bf480ff9d237a4"
      }
     },
     "metadata": {},
     "output_type": "display_data"
    },
    {
     "data": {
      "text/plain": [
       "Validation: |          | 0/? [00:00<?, ?it/s]"
      ],
      "application/vnd.jupyter.widget-view+json": {
       "version_major": 2,
       "version_minor": 0,
       "model_id": "56f4abcb3331449dabedbcb475122fac"
      }
     },
     "metadata": {},
     "output_type": "display_data"
    },
    {
     "data": {
      "text/plain": [
       "Validation: |          | 0/? [00:00<?, ?it/s]"
      ],
      "application/vnd.jupyter.widget-view+json": {
       "version_major": 2,
       "version_minor": 0,
       "model_id": "b55540ce7338476bb49819c58412a681"
      }
     },
     "metadata": {},
     "output_type": "display_data"
    },
    {
     "data": {
      "text/plain": [
       "Validation: |          | 0/? [00:00<?, ?it/s]"
      ],
      "application/vnd.jupyter.widget-view+json": {
       "version_major": 2,
       "version_minor": 0,
       "model_id": "edf3273bee884e86be414ef3c93c3be5"
      }
     },
     "metadata": {},
     "output_type": "display_data"
    },
    {
     "data": {
      "text/plain": [
       "Validation: |          | 0/? [00:00<?, ?it/s]"
      ],
      "application/vnd.jupyter.widget-view+json": {
       "version_major": 2,
       "version_minor": 0,
       "model_id": "c7936c9239704728add41c4972a63a93"
      }
     },
     "metadata": {},
     "output_type": "display_data"
    },
    {
     "data": {
      "text/plain": [
       "Validation: |          | 0/? [00:00<?, ?it/s]"
      ],
      "application/vnd.jupyter.widget-view+json": {
       "version_major": 2,
       "version_minor": 0,
       "model_id": "3ac3e8024b464a6da85c36005dd4d830"
      }
     },
     "metadata": {},
     "output_type": "display_data"
    },
    {
     "data": {
      "text/plain": [
       "Validation: |          | 0/? [00:00<?, ?it/s]"
      ],
      "application/vnd.jupyter.widget-view+json": {
       "version_major": 2,
       "version_minor": 0,
       "model_id": "ece6abeacbc54b24bac67cce0db0f4d4"
      }
     },
     "metadata": {},
     "output_type": "display_data"
    },
    {
     "data": {
      "text/plain": [
       "Validation: |          | 0/? [00:00<?, ?it/s]"
      ],
      "application/vnd.jupyter.widget-view+json": {
       "version_major": 2,
       "version_minor": 0,
       "model_id": "42ce4d70ea6748c298b4f1b30d5330da"
      }
     },
     "metadata": {},
     "output_type": "display_data"
    },
    {
     "data": {
      "text/plain": [
       "Validation: |          | 0/? [00:00<?, ?it/s]"
      ],
      "application/vnd.jupyter.widget-view+json": {
       "version_major": 2,
       "version_minor": 0,
       "model_id": "63e58693a0c1400985ff5e766a6a0be4"
      }
     },
     "metadata": {},
     "output_type": "display_data"
    },
    {
     "data": {
      "text/plain": [
       "Validation: |          | 0/? [00:00<?, ?it/s]"
      ],
      "application/vnd.jupyter.widget-view+json": {
       "version_major": 2,
       "version_minor": 0,
       "model_id": "6cba13d36d7f425882bdb5c11fe80278"
      }
     },
     "metadata": {},
     "output_type": "display_data"
    },
    {
     "data": {
      "text/plain": [
       "Validation: |          | 0/? [00:00<?, ?it/s]"
      ],
      "application/vnd.jupyter.widget-view+json": {
       "version_major": 2,
       "version_minor": 0,
       "model_id": "de2319a3f6ed4596a511e12bfde11160"
      }
     },
     "metadata": {},
     "output_type": "display_data"
    },
    {
     "data": {
      "text/plain": [
       "Validation: |          | 0/? [00:00<?, ?it/s]"
      ],
      "application/vnd.jupyter.widget-view+json": {
       "version_major": 2,
       "version_minor": 0,
       "model_id": "f4695b85ac704f0bab2774c7371be287"
      }
     },
     "metadata": {},
     "output_type": "display_data"
    },
    {
     "data": {
      "text/plain": [
       "Validation: |          | 0/? [00:00<?, ?it/s]"
      ],
      "application/vnd.jupyter.widget-view+json": {
       "version_major": 2,
       "version_minor": 0,
       "model_id": "b2c44da9cc254d2f8e8981e330d05bba"
      }
     },
     "metadata": {},
     "output_type": "display_data"
    },
    {
     "data": {
      "text/plain": [
       "Validation: |          | 0/? [00:00<?, ?it/s]"
      ],
      "application/vnd.jupyter.widget-view+json": {
       "version_major": 2,
       "version_minor": 0,
       "model_id": "91aa41183eeb4810ac7710b6b635f1f3"
      }
     },
     "metadata": {},
     "output_type": "display_data"
    },
    {
     "data": {
      "text/plain": [
       "Validation: |          | 0/? [00:00<?, ?it/s]"
      ],
      "application/vnd.jupyter.widget-view+json": {
       "version_major": 2,
       "version_minor": 0,
       "model_id": "ebb66d299add4edc845a0511d25e2f0e"
      }
     },
     "metadata": {},
     "output_type": "display_data"
    },
    {
     "data": {
      "text/plain": [
       "Validation: |          | 0/? [00:00<?, ?it/s]"
      ],
      "application/vnd.jupyter.widget-view+json": {
       "version_major": 2,
       "version_minor": 0,
       "model_id": "53e268ff1554494a984af37d8bc040b1"
      }
     },
     "metadata": {},
     "output_type": "display_data"
    },
    {
     "data": {
      "text/plain": [
       "Validation: |          | 0/? [00:00<?, ?it/s]"
      ],
      "application/vnd.jupyter.widget-view+json": {
       "version_major": 2,
       "version_minor": 0,
       "model_id": "e161b0db28a841f999620b2ac83920c1"
      }
     },
     "metadata": {},
     "output_type": "display_data"
    },
    {
     "data": {
      "text/plain": [
       "Validation: |          | 0/? [00:00<?, ?it/s]"
      ],
      "application/vnd.jupyter.widget-view+json": {
       "version_major": 2,
       "version_minor": 0,
       "model_id": "ae7c59981bc2430e91af4a4f00d61c75"
      }
     },
     "metadata": {},
     "output_type": "display_data"
    },
    {
     "data": {
      "text/plain": [
       "Validation: |          | 0/? [00:00<?, ?it/s]"
      ],
      "application/vnd.jupyter.widget-view+json": {
       "version_major": 2,
       "version_minor": 0,
       "model_id": "caee27114093454eb3a7179ade2149f9"
      }
     },
     "metadata": {},
     "output_type": "display_data"
    },
    {
     "name": "stderr",
     "output_type": "stream",
     "text": [
      "`Trainer.fit` stopped: `max_epochs=101` reached.\n"
     ]
    },
    {
     "data": {
      "text/plain": [
       "<rectools.models.nn.transformers.hstu.HSTUModel at 0x7ced305d30a0>"
      ]
     },
     "execution_count": 13,
     "metadata": {},
     "output_type": "execute_result"
    }
   ],
   "execution_count": 13
  },
  {
   "cell_type": "markdown",
   "metadata": {},
   "source": [
    "Let's look at model logs. We can access logs directory with `model.fit_trainer.log_dir`"
   ]
  }
 ],
 "metadata": {
  "kernelspec": {
   "display_name": ".venv",
   "language": "python",
   "name": "python3"
  },
  "language_info": {
   "codemirror_mode": {
    "name": "ipython",
    "version": 3
   },
   "file_extension": ".py",
   "mimetype": "text/x-python",
   "name": "python",
   "nbconvert_exporter": "python",
   "pygments_lexer": "ipython3",
   "version": "3.10.13"
  }
 },
 "nbformat": 4,
 "nbformat_minor": 2
}
