{
 "cells": [
  {
   "cell_type": "markdown",
   "metadata": {},
   "source": [
    "# Transformer *HSTU* tutorial\n",
    "This guide tells about *Hierarchical Sequential Transduction Unit* *(HSTU)* - self-attention mechanism proposed in paper [Actions Speak Louder than Words: Trillion-Parameter Sequential Transducers\n",
    "for Generative Recommendations](https://arxiv.org/abs/2402.17152). Also we show RecTools implementation metrics results on datasets movielens-1m and movielens-20m preprocessed by authors of the paper and preprocessed by RecTools framework\n",
    "\n",
    "### Table of Contents\n",
    "\n",
    "*  Review of HSTU\n",
    "*  Reproduce RecTools implementation in fully original paper setup\n",
    "*  Variation relative positional and time attentions\n",
    "*  Time context implementation details\n",
    "\n"
   ]
  },
  {
   "cell_type": "markdown",
   "metadata": {},
   "source": [
    "### Review of *HSTU*"
   ]
  },
  {
   "cell_type": "markdown",
   "metadata": {},
   "source": "*HSTU* - is self-attention mechanism challenging recommendation systems problems. We make short overview."
  },
  {
   "cell_type": "markdown",
   "metadata": {},
   "source": [
    "\n",
    "<div style=\"text-align:center\">\n",
    "    <img src=\"src/hstu_overview.png\" alt=\"Описание\" width=\"30%\">\n",
    "</div>"
   ]
  },
  {
   "metadata": {},
   "cell_type": "markdown",
   "source": "In the simplest case, a unified sequence refers to a sequence of user interactions — even without interleaving actions. Using this setup, the paper reports its main experimental results (metrics). The training objective follows the standard shifted-language-modeling approach. Additionally, the paper proposes a modified training procedure that generates multiple training examples at the end of each sequence. This variant is designed for large industrial-scale applications, where it helps reduce the time complexity of streaming and fine-tuning setups."
  },
  {
   "cell_type": "markdown",
   "metadata": {},
   "source": [
    "\\begin{equation}\n",
    "U(X), V(X), Q(X), K(X) = \\text{Split}(\\phi_1(f_1(X))) \\tag{1}\n",
    "\\end{equation}\n",
    "\n",
    "\\begin{equation}\n",
    "A(X)V(X) = \\frac{\\phi_2 \\left( Q(X)K(X)^T + \\text{rab}^{p,t} \\right) V(X)}{N} \\tag{2}\n",
    "\\end{equation}\n",
    "\n",
    "\\begin{equation}\n",
    "Y(X) = f_2 \\left( \\text{Norm}(A(X)V(X)) \\odot U(X) \\right) \\tag{3}\n",
    "\\end{equation}"
   ]
  },
  {
   "cell_type": "markdown",
   "metadata": {},
   "source": "where $ f_{i} $ is a linear mapping, $\\phi$ is the SiLU function, and $\\text{rab}^{p,t} $ is the sum of two attention matrices: relative positional attention  and relative time attention. The first important change is the use of elementwise SiLU instead of SoftMax. This approach allows for faster learning in a setting where the set of items is constantly changing. Moreover, the denominator of the softmax normalizes attention, capturing all the previous context of user interactions, and this is not always justified. SiLU changes the absolute value of token-to-token attention. The second change is the weighting of the classic self-attention output by the $U(X)$ matrix, which solves the DLRM problem of feature interaction.\n"
  },
  {
   "cell_type": "markdown",
   "metadata": {},
   "source": [
    "$\\text{rab}^{t}$ - relative time attention, the picture shows first stage matrice formation\n",
    "\n",
    "<div style=\"text-align:center\">\n",
    "    <img src=\"src/time_attention.jpg\" alt=\"Описание\" width=\"40%\">\n",
    "</div>"
   ]
  },
  {
   "cell_type": "markdown",
   "metadata": {},
   "source": [
    "\n",
    "\\begin{equation}\n",
    "    a_{i,j} = t_{i+1} - t_j\n",
    "\\end{equation}\n",
    "\\begin{equation}\n",
    "\\text{bucket}(a_{i,j}) =\n",
    "\\left\\lfloor\n",
    "\\frac{\\log(|a_{i,j}| \\vee 1)}{0.301}\n",
    "\\right\\rfloor\n",
    "\\end{equation}"
   ]
  },
  {
   "cell_type": "markdown",
   "metadata": {},
   "source": [
    "To predict the next item, we use the time of its appearance. This is a simulation of inference with time aware setup. In the current formulation, this is a candidate generation model, and based on real interest, in addition to the user's history, we would also provide the start time of his session. In this case, the last token, or the last row in the attention matrix, will be conditioned on the start time of the user's session. In this way, the consistency of the model is maintained between training and testing (real-world inference).That is, all possible differences $a_{i,j}$ are quantized into buckets with logarithmic asymptotics. If the banquet values are greater than the specified $b_{max}$, then it is truncated to the maximum. Each bucket value corresponds to the learning parameter $w_{i}$, which is substituted instead of $a_{i,j}$. Thus, we form the matrix $\\text{rab}^{t}$. Moreover, we note that the time quantization function and the maximum number of buckets are hyperparameters. We can vary them depending on the nature of the content.\n",
    "\n",
    "Quantification of the timestamp difference actually breaks down the user's previous history into time microsessions relative to the query generation moment.\n",
    "\n"
   ]
  },
  {
   "cell_type": "markdown",
   "metadata": {},
   "source": [
    "### RecTools implementation"
   ]
  },
  {
   "cell_type": "markdown",
   "metadata": {},
   "source": [
    "Details of the implementation.\n",
    "1) Has been written from jagged tensors to usual torch tensors\n",
    "2) Has been droped original paper init distributions over all parameters where it possible, and replaced by xavier distribution\n",
    "3) Left padding isntead of right for consistency to RecTools\n",
    "4) No Q,K caching option"
   ]
  },
  {
   "cell_type": "code",
   "metadata": {
    "ExecuteTime": {
     "end_time": "2025-07-18T14:46:05.728Z",
     "start_time": "2025-07-18T14:46:05.723403Z"
    }
   },
   "source": [
    "import os\n",
    "import warnings\n",
    "\n",
    "import torch\n",
    "from lightning_fabric import seed_everything\n",
    "from pytorch_lightning import Trainer\n",
    "from pytorch_lightning.loggers import CSVLogger\n",
    "import pandas as pd\n",
    "import ast\n",
    "from rectools.dataset import Dataset\n",
    "from rectools.models import HSTUModel\n",
    "from rectools import Columns\n",
    "from scipy import sparse\n",
    "from pytorch_lightning.callbacks import EarlyStopping, ModelCheckpoint\n",
    "# Enable deterministic behaviour with CUDA >= 10.2\n",
    "os.environ[\"CUBLAS_WORKSPACE_CONFIG\"] = \":4096:8\"\n",
    "from rectools.model_selection.splitter import Splitter\n",
    "from rectools.model_selection import LastNSplitter\n",
    "warnings.simplefilter(\"ignore\", UserWarning)\n",
    "warnings.simplefilter(\"ignore\", FutureWarning)\n",
    "from rectools.metrics import (\n",
    "    CoveredUsers,\n",
    "    Serendipity,\n",
    "    NDCG,\n",
    "    AvgRecPopularity,\n",
    "    CatalogCoverage,\n",
    "    Recall,\n",
    "    HitRate,\n",
    "    SufficientReco,\n",
    ")\n",
    "from rectools.models import  SASRecModel\n",
    "from rectools.model_selection import  cross_validate\n",
    "from rectools.models.nn.item_net import IdEmbeddingsItemNet\n",
    "from rectools.models.nn.transformers.utils import  leave_one_out_mask\n",
    "import json\n",
    "from utils import  RecallCallback, BestModelLoad, get_results"
   ],
   "outputs": [],
   "execution_count": 39
  },
  {
   "metadata": {
    "ExecuteTime": {
     "end_time": "2025-07-18T14:46:06.810976Z",
     "start_time": "2025-07-18T14:46:06.806325Z"
    }
   },
   "cell_type": "code",
   "source": [
    "RANDOM_STATE=42\n",
    "torch.use_deterministic_algorithms(True)\n",
    "seed_everything(RANDOM_STATE, workers=True)"
   ],
   "outputs": [
    {
     "name": "stderr",
     "output_type": "stream",
     "text": [
      "Seed set to 42\n"
     ]
    },
    {
     "data": {
      "text/plain": [
       "42"
      ]
     },
     "execution_count": 40,
     "metadata": {},
     "output_type": "execute_result"
    }
   ],
   "execution_count": 40
  },
  {
   "metadata": {},
   "cell_type": "markdown",
   "source": "### RecTools reproduce"
  },
  {
   "metadata": {},
   "cell_type": "markdown",
   "source": [
    "#### Results on MovieLens-1M (ml-1m)\n",
    "| Method              | HR@10  | NDCG@10 | HR@50  | NDCG@50 | HR@200 | NDCG@200 |\n",
    "|---------------------|--------|---------|--------|---------|--------|----------|\n",
    "| HSTU paper          | 0.3097 | 0.1720  | 0.5754 | 0.2307  | 0.7716 | 0.2606   |\n",
    "| HSTU RecTools       | 0.3077 | 0.1724  | 0.5818 | 0.2330  | 0.7829 | 0.2636   |\n",
    "| HSTU-large paper    | 0.3294 | 0.1893  | 0.5935 | 0.2481  | 0.7839 | 0.2771   |\n",
    "| HSTU-large RecTools | 0.3350 | 0.1891  | 0.5977 | 0.2474  | 0.7950 | 0.2775   |\n"
   ]
  },
  {
   "metadata": {},
   "cell_type": "markdown",
   "source": [
    "\n",
    "#### Results on MovieLens-20M (ml-20m)\n",
    "| Method              | HR@10  | NDCG@10 | HR@50  | NDCG@50 | HR@200 | NDCG@200 |\n",
    "|---------------------|--------|---------|--------|---------|--------|----------|\n",
    "| HSTU paper          | 0.3273 | 0.1895  | 0.5889 | 0.2473  | 0.7952 | 0.2787   |\n",
    "| HSTU RecTools       | TBD    | TBD     | TBD | TBD  | TBD | TBD   |"
   ]
  },
  {
   "cell_type": "code",
   "metadata": {
    "ExecuteTime": {
     "end_time": "2025-07-18T10:33:51.522839Z",
     "start_time": "2025-07-18T10:33:51.517926Z"
    }
   },
   "source": [
    "def get_paper_df(dataset_name: str = \"ml-1m\") -> pd.DataFrame:\n",
    "    path  = f\"paper_{dataset_name}.csv\"\n",
    "\n",
    "    with warnings.catch_warnings():\n",
    "        warnings.warn(f\"You can download the dataset from the article using the link above and rename it to {path}\", UserWarning)\n",
    "        paper_df = pd.read_csv(path)\n",
    "    paper_df = paper_df[[\"index\",\"user_id\", \"sequence_item_ids\", \"sequence_ratings\", \"sequence_timestamps\"]]\n",
    "    cols_to_expand = [\"sequence_item_ids\", \"sequence_ratings\", \"sequence_timestamps\"]\n",
    "    for col in cols_to_expand:\n",
    "        paper_df[col] = paper_df[col].apply(ast.literal_eval)\n",
    "\n",
    "    expanded_df = paper_df[[\"user_id\"] + cols_to_expand]\n",
    "    expanded_df = expanded_df.explode(cols_to_expand)\n",
    "    expanded_df = (\n",
    "        expanded_df\n",
    "        .rename(columns={\n",
    "            \"sequence_item_ids\": \"item_id\",\n",
    "            \"sequence_ratings\": \"rating\",\n",
    "            \"sequence_timestamps\": \"timestamp\"\n",
    "        })\n",
    "        .astype({\n",
    "            \"item_id\": int,\n",
    "            \"rating\": float,\n",
    "            \"timestamp\": int\n",
    "        })\n",
    "    )\n",
    "    expanded_df[\"datetime\"] = pd.to_datetime(expanded_df[\"timestamp\"], unit=\"s\")\n",
    "    expanded_df.drop(columns=[\"timestamp\"], inplace= True)\n",
    "    expanded_df.reset_index(drop=True, inplace=True)\n",
    "    df = expanded_df[[\"user_id\", \"item_id\", \"datetime\"]]\n",
    "    df[\"weight\"] = 1\n",
    "    return df"
   ],
   "outputs": [],
   "execution_count": 3
  },
  {
   "cell_type": "markdown",
   "metadata": {},
   "source": [
    "#### LOO validation, LOO test setup"
   ]
  },
  {
   "cell_type": "code",
   "metadata": {
    "ExecuteTime": {
     "end_time": "2025-07-18T10:33:52.642457Z",
     "start_time": "2025-07-18T10:33:52.639681Z"
    }
   },
   "source": [
    "loo_splitter = LastNSplitter(1,1)"
   ],
   "outputs": [],
   "execution_count": 5
  },
  {
   "cell_type": "code",
   "metadata": {
    "ExecuteTime": {
     "end_time": "2025-07-18T10:33:54.326827Z",
     "start_time": "2025-07-18T10:33:54.322609Z"
    }
   },
   "source": [
    "# Callback for calculating RecSys metrics\n",
    "RECALL_K = 10\n",
    "PATIENCE = 5\n",
    "DIVERGENCE_TRESHOLD = 0.01\n",
    "recall_callback = RecallCallback(k=RECALL_K, prog_bar=True)\n",
    "# Checkpoints based on best recall\n",
    "max_recall_ckpt = ModelCheckpoint(\n",
    "    monitor=f\"recall@{RECALL_K}\",   # or just pass \"val_loss\" here,\n",
    "    mode=\"max\",\n",
    "    filename=\"best_recall\",\n",
    ")\n",
    "early_stopping_recall = EarlyStopping(\n",
    "    monitor=f\"recall@{RECALL_K}\",\n",
    "    mode=\"max\",\n",
    "    patience=PATIENCE,\n",
    "    divergence_threshold=DIVERGENCE_TRESHOLD,\n",
    ")\n",
    "best_model_load = BestModelLoad(\"best_recall\")\n",
    "callbacks = [recall_callback, max_recall_ckpt, best_model_load]"
   ],
   "outputs": [],
   "execution_count": 6
  },
  {
   "cell_type": "code",
   "metadata": {
    "ExecuteTime": {
     "end_time": "2025-07-18T10:33:54.876624Z",
     "start_time": "2025-07-18T10:33:54.871944Z"
    }
   },
   "source": [
    "# Function to get custom trainer\n",
    "def get_trainer() -> Trainer:\n",
    "    return Trainer(\n",
    "        accelerator=\"gpu\",\n",
    "        devices=1,\n",
    "        min_epochs=100,\n",
    "        max_epochs=100,\n",
    "        deterministic=True,\n",
    "        enable_model_summary=False,\n",
    "        enable_progress_bar=True,\n",
    "        callbacks=callbacks,\n",
    "        logger = CSVLogger(\"test_logs\"),  # We use CSV logging for this guide but there are many other options\n",
    "    )"
   ],
   "outputs": [],
   "execution_count": 7
  },
  {
   "cell_type": "code",
   "metadata": {
    "ExecuteTime": {
     "end_time": "2025-07-18T10:33:55.258725Z",
     "start_time": "2025-07-18T10:33:55.254691Z"
    }
   },
   "source": [
    "metrics_add = {}\n",
    "metrics_recall ={}\n",
    "metrics_ndcg = {}\n",
    "k_base =  10\n",
    "K = [10, 50,100,200]\n",
    "K_RECS= max(K)\n",
    "for k in K:\n",
    "    metrics_recall.update({\n",
    "            f\"HR@{k}\": HitRate(k=k),\n",
    "        })\n",
    "    metrics_ndcg.update({\n",
    "            f\"ndcg@{k}\": NDCG(k=k, divide_by_achievable=True),\n",
    "        })\n",
    "metrics_add = {\n",
    "    f\"arp@{k_base}\": AvgRecPopularity(k=k_base, normalize=True),\n",
    "    f\"coverage@{k_base}\": CatalogCoverage(k=k_base, normalize=True),\n",
    "    f\"covered_users@{k_base}\": CoveredUsers(k=k_base),\n",
    "    f\"sufficient_reco@{k_base}\": SufficientReco(k=k_base),\n",
    "    f\"serendipity@{k_base}\": Serendipity(k=k_base),\n",
    "}\n",
    "metrics  = metrics_recall | metrics_ndcg | metrics_add\n",
    "metrics_to_show = ['HR@10', 'ndcg@10', 'HR@50', 'ndcg@50', 'HR@200', 'ndcg@200', 'coverage@10',\n",
    "                       'serendipity@10']"
   ],
   "outputs": [],
   "execution_count": 8
  },
  {
   "cell_type": "code",
   "metadata": {
    "ExecuteTime": {
     "end_time": "2025-07-18T10:33:55.651259Z",
     "start_time": "2025-07-18T10:33:55.648005Z"
    }
   },
   "source": [
    "def evaluate(models: dict, splitter:Splitter,dataset: Dataset, path_to_save_res:str) -> None:\n",
    "    cv_results = cross_validate(\n",
    "        dataset=dataset,\n",
    "        splitter=splitter,\n",
    "        models=models,\n",
    "        metrics=metrics,\n",
    "        k=K_RECS,\n",
    "        filter_viewed=True,\n",
    "    )\n",
    "    cv_results[\"models_log_dir\"] = {}\n",
    "    for model_name, model in models.items():\n",
    "        cv_results[\"models_log_dir\"].update({model_name:model.fit_trainer.log_dir})\n",
    "    with open(path_to_save_res, 'w', encoding='utf-8') as f:\n",
    "        json.dump(cv_results, f, ensure_ascii=False, indent=4)"
   ],
   "outputs": [],
   "execution_count": 9
  },
  {
   "cell_type": "markdown",
   "metadata": {},
   "source": "#### Paper config"
  },
  {
   "cell_type": "code",
   "metadata": {
    "ExecuteTime": {
     "end_time": "2025-07-18T10:33:56.550724Z",
     "start_time": "2025-07-18T10:33:56.547361Z"
    }
   },
   "source": [
    "config = {\n",
    "    \"session_max_len\": 200,\n",
    "    \"lightning_module_kwargs\": {\"logits_t\": 0.05}, # logits scale factor\n",
    "    \"item_net_block_types\": (IdEmbeddingsItemNet,),\n",
    "    \"get_val_mask_func\": leave_one_out_mask,\n",
    "    \"get_trainer_func\": get_trainer,\n",
    "    \"verbose\": 1,\n",
    "    \"loss\": 'sampled_softmax',\n",
    "    \"n_negatives\": 128,\n",
    "    \"use_pos_emb\": True,\n",
    "    \"dropout_rate\": 0.2,\n",
    "    \"n_factors\": 50, # embedding dim\n",
    "    \"n_heads\": 1,\n",
    "    \"n_blocks\": 2,\n",
    "    \"lr\": 0.001,\n",
    "    \"batch_size\": 128,\n",
    "}\n",
    "config_large = config.copy()\n",
    "config_large[\"n_blocks\"] = 8\n",
    "config_large[\"n_heads\"] = 2"
   ],
   "outputs": [],
   "execution_count": 10
  },
  {
   "metadata": {},
   "cell_type": "markdown",
   "source": [
    "#### MovieLens-1M (ml-1m)  preprocessed by authors of the paper\n",
    "Before starting the training, you should download the preprocessed dataset of the original article and rename it to **paper_ml_1m.csv**. Details on uploading the dataset can be found in the article repository.  [Actions Speak Louder than Words: Trillion-Parameter Sequential Transducers\n",
    "for Generative Recommendations](https://arxiv.org/abs/2402.17152)"
   ]
  },
  {
   "cell_type": "code",
   "metadata": {
    "ExecuteTime": {
     "end_time": "2025-07-18T10:33:58.403944Z",
     "start_time": "2025-07-18T10:33:58.401291Z"
    }
   },
   "source": [
    "dataset_name = \"ml-1m\"\n",
    "path_to_save_res = f\"pivot_results_paper_{dataset_name}.json\"\n",
    "paper_df = get_paper_df(dataset_name)\n",
    "dataset_paper = Dataset.construct(paper_df)"
   ],
   "outputs": [],
   "execution_count": 11
  },
  {
   "cell_type": "code",
   "metadata": {
    "ExecuteTime": {
     "end_time": "2025-07-18T10:18:43.726325100Z",
     "start_time": "2025-07-15T23:12:51.676171Z"
    }
   },
   "source": [
    "hstu  = HSTUModel(\n",
    "    relative_time_attention=True,\n",
    "    relative_pos_attention=True,\n",
    "    **config\n",
    ")\n",
    "hstu_large  = HSTUModel(\n",
    "    relative_time_attention=True,\n",
    "    relative_pos_attention=True,\n",
    "    **config_large\n",
    ")\n",
    "models = {\n",
    "    \"hstu\": hstu,\n",
    "    \"hstu_large\": hstu_large,\n",
    "}"
   ],
   "outputs": [
    {
     "name": "stderr",
     "output_type": "stream",
     "text": [
      "GPU available: True (cuda), used: True\n",
      "TPU available: False, using: 0 TPU cores\n",
      "HPU available: False, using: 0 HPUs\n",
      "GPU available: True (cuda), used: True\n",
      "TPU available: False, using: 0 TPU cores\n",
      "HPU available: False, using: 0 HPUs\n"
     ]
    }
   ],
   "execution_count": 15
  },
  {
   "cell_type": "code",
   "metadata": {},
   "source": "evaluate(models,loo_splitter,dataset_paper,path_to_save_res)",
   "outputs": [],
   "execution_count": null
  },
  {
   "cell_type": "code",
   "metadata": {
    "ExecuteTime": {
     "end_time": "2025-07-18T10:18:43.727325500Z",
     "start_time": "2025-07-16T02:56:35.091664Z"
    }
   },
   "source": [
    "pivot_table = get_results(path_to_save_res,metrics_to_show, show_loss=False)\n",
    "pivot_table"
   ],
   "outputs": [
    {
     "data": {
      "text/plain": [
       "<Figure size 1000x600 with 1 Axes>"
      ],
      "image/png": "[encoded data removed]"
     },
     "metadata": {},
     "output_type": "display_data"
    },
    {
     "data": {
      "text/plain": [
       "            recall@10   ndcg@10  recall@50   ndcg@50  recall@200  ndcg@200  \\\n",
       "model                                                                        \n",
       "hstu         0.307718  0.172418   0.581815  0.232952    0.782875  0.263622   \n",
       "hstu_large   0.335045  0.189121   0.597714  0.247423    0.794965  0.277541   \n",
       "\n",
       "            coverage@10  serendipity@10  \n",
       "model                                    \n",
       "hstu           0.627700        0.002674  \n",
       "hstu_large     0.659017        0.002914  "
      ],
      "text/html": [
       "<div>\n",
       "<style scoped>\n",
       "    .dataframe tbody tr th:only-of-type {\n",
       "        vertical-align: middle;\n",
       "    }\n",
       "\n",
       "    .dataframe tbody tr th {\n",
       "        vertical-align: top;\n",
       "    }\n",
       "\n",
       "    .dataframe thead th {\n",
       "        text-align: right;\n",
       "    }\n",
       "</style>\n",
       "<table border=\"1\" class=\"dataframe\">\n",
       "  <thead>\n",
       "    <tr style=\"text-align: right;\">\n",
       "      <th></th>\n",
       "      <th>recall@10</th>\n",
       "      <th>ndcg@10</th>\n",
       "      <th>recall@50</th>\n",
       "      <th>ndcg@50</th>\n",
       "      <th>recall@200</th>\n",
       "      <th>ndcg@200</th>\n",
       "      <th>coverage@10</th>\n",
       "      <th>serendipity@10</th>\n",
       "    </tr>\n",
       "    <tr>\n",
       "      <th>model</th>\n",
       "      <th></th>\n",
       "      <th></th>\n",
       "      <th></th>\n",
       "      <th></th>\n",
       "      <th></th>\n",
       "      <th></th>\n",
       "      <th></th>\n",
       "      <th></th>\n",
       "    </tr>\n",
       "  </thead>\n",
       "  <tbody>\n",
       "    <tr>\n",
       "      <th>hstu</th>\n",
       "      <td>0.307718</td>\n",
       "      <td>0.172418</td>\n",
       "      <td>0.581815</td>\n",
       "      <td>0.232952</td>\n",
       "      <td>0.782875</td>\n",
       "      <td>0.263622</td>\n",
       "      <td>0.627700</td>\n",
       "      <td>0.002674</td>\n",
       "    </tr>\n",
       "    <tr>\n",
       "      <th>hstu_large</th>\n",
       "      <td>0.335045</td>\n",
       "      <td>0.189121</td>\n",
       "      <td>0.597714</td>\n",
       "      <td>0.247423</td>\n",
       "      <td>0.794965</td>\n",
       "      <td>0.277541</td>\n",
       "      <td>0.659017</td>\n",
       "      <td>0.002914</td>\n",
       "    </tr>\n",
       "  </tbody>\n",
       "</table>\n",
       "</div>"
      ]
     },
     "execution_count": 17,
     "metadata": {},
     "output_type": "execute_result"
    }
   ],
   "execution_count": 17
  },
  {
   "metadata": {},
   "cell_type": "markdown",
   "source": [
    "#### MovieLens-20M (ml-20m) preprocessed by authors of the paper\n",
    "Before starting the training, you should download the preprocessed dataset of the original article and rename it to **paper_ml_20m.csv**. Details on uploading the dataset can be found in the article repository.  [Actions Speak Louder than Words: Trillion-Parameter Sequential Transducers\n",
    "for Generative Recommendations](https://arxiv.org/abs/2402.17152)"
   ]
  },
  {
   "metadata": {},
   "cell_type": "markdown",
   "source": [
    "#TODO launch\n",
    "torch.use_deterministic_algorithms(True)\n",
    "seed_everything(RANDOM_STATE, workers=True)"
   ]
  },
  {
   "metadata": {},
   "cell_type": "markdown",
   "source": [
    "In the original article, the dataset was preprocessed incorrectly. The user interactions were sorted by timestamp without a stable sorting option, which means that interactions with the same timestamp could be reordered.\n",
    "See the reference code:\n",
    "https://github.com/meta-recsys/generative-recommenders/blob/88512dbd71b053226bc4ef8ec1630e3db53e55e5/generative_recommenders/research/data/preprocessor.py#L267\n",
    "\n",
    "Therefore, we also report results on a dataset preprocessed using RecTools, where interactions are sorted stably by timestamp. Additionally, we provide an ablation study to highlight the impact of this preprocessing difference."
   ]
  },
  {
   "metadata": {},
   "cell_type": "markdown",
   "source": [
    "### Ablation study \n",
    "\n"
   ]
  },
  {
   "metadata": {},
   "cell_type": "code",
   "outputs": [],
   "execution_count": null,
   "source": [
    "%%time\n",
    "!wget -q https://files.grouplens.org/datasets/movielens/ml-1m.zip -O ml-1m.zip\n",
    "!unzip -o ml-1m.zip\n",
    "!rm ml-1m.zip"
   ]
  },
  {
   "metadata": {},
   "cell_type": "code",
   "outputs": [],
   "execution_count": null,
   "source": [
    "def get_original_df(dataset_name: str = \"ml-1m\") -> pd.DataFrame:\n",
    "    df = pd.read_csv(\n",
    "        f\"{dataset_name}/ratings.dat\",\n",
    "        sep=\"::\",\n",
    "        engine=\"python\",  # Because of 2-chars separators\n",
    "        header=None,\n",
    "        names=[Columns.User, Columns.Item, Columns.Weight, Columns.Datetime],\n",
    "    )\n",
    "    df[Columns.Datetime] = df[Columns.Datetime].astype(\"datetime64[s]\")\n",
    "    df[Columns.Weight] = 1\n",
    "    return df"
   ]
  },
  {
   "cell_type": "code",
   "metadata": {
    "ExecuteTime": {
     "end_time": "2025-07-18T10:34:08.132942Z",
     "start_time": "2025-07-18T10:34:08.130241Z"
    }
   },
   "source": [
    "torch.use_deterministic_algorithms(True)\n",
    "seed_everything(RANDOM_STATE, workers=True)\n",
    "dataset_name = \"ml-1m\"\n",
    "path_to_save_res = f\"pivot_results_RecTools_{dataset_name}.json\"\n",
    "original_df = get_original_df(\"ml-1m\")\n",
    "dataset_original = Dataset.construct(original_df)"
   ],
   "outputs": [],
   "execution_count": 12
  },
  {
   "metadata": {},
   "cell_type": "markdown",
   "source": "#### rab - relativate attention bias"
  },
  {
   "cell_type": "code",
   "metadata": {},
   "source": [
    "hstu  = HSTUModel(\n",
    "    relative_time_attention=True,\n",
    "    relative_pos_attention=True,\n",
    "    **config\n",
    ")\n",
    "hstu_rab_p  = HSTUModel(\n",
    "    relative_time_attention=False,\n",
    "    relative_pos_attention=True,\n",
    "    **config\n",
    ")\n",
    "hstu_rab_t  = HSTUModel(\n",
    "    relative_time_attention=True,\n",
    "    relative_pos_attention=False,\n",
    "    **config\n",
    ")\n",
    "hstu_no_rab  = HSTUModel(\n",
    "    relative_time_attention=False,\n",
    "    relative_pos_attention=False,\n",
    "    **config\n",
    ")\n",
    "sasrec = SASRecModel(\n",
    "    **config\n",
    ")\n",
    "models = {\n",
    "    \"hstu_rab_t\": hstu_rab_t,\n",
    "    \"hstu_rab_p\": hstu_rab_p,\n",
    "    \"hstu\": hstu,\n",
    "    \"hstu_no_rab\": hstu_no_rab,\n",
    "    \"sasrec\": sasrec,\n",
    "}"
   ],
   "outputs": [],
   "execution_count": null
  },
  {
   "metadata": {},
   "cell_type": "code",
   "outputs": [],
   "execution_count": null,
   "source": "evaluate(models,loo_splitter,dataset_original,path_to_save_res)"
  },
  {
   "metadata": {
    "ExecuteTime": {
     "end_time": "2025-07-18T12:31:46.322913Z",
     "start_time": "2025-07-18T12:31:46.153169Z"
    }
   },
   "cell_type": "code",
   "source": [
    "pivot_table = get_results(path_to_save_res,metrics_to_show, show_loss=False)\n",
    "pivot_table"
   ],
   "outputs": [
    {
     "data": {
      "text/plain": [
       "<Figure size 1000x600 with 1 Axes>"
      ],
      "image/png": "[encoded data removed]"
     },
     "metadata": {},
     "output_type": "display_data"
    },
    {
     "data": {
      "text/plain": [
       "             recall@10   ndcg@10  recall@50   ndcg@50  recall@200  ndcg@200  \\\n",
       "model                                                                         \n",
       "hstu_rab_t    0.318814  0.184871   0.590924  0.245234    0.787844  0.275194   \n",
       "hstu_rab_p    0.308711  0.174533   0.577675  0.234028    0.770619  0.263473   \n",
       "hstu          0.325936  0.189529   0.590096  0.248143    0.784863  0.277654   \n",
       "hstu_no_rab   0.298112  0.168615   0.560119  0.226426    0.766313  0.257878   \n",
       "sasrec        0.287844  0.162249   0.552004  0.220467    0.763498  0.252593   \n",
       "\n",
       "             coverage@10  serendipity@10  \n",
       "model                                     \n",
       "hstu_rab_t      0.639309        0.002822  \n",
       "hstu_rab_p      0.647948        0.002749  \n",
       "hstu            0.643359        0.002861  \n",
       "hstu_no_rab     0.618251        0.002536  \n",
       "sasrec          0.660367        0.002624  "
      ],
      "text/html": [
       "<div>\n",
       "<style scoped>\n",
       "    .dataframe tbody tr th:only-of-type {\n",
       "        vertical-align: middle;\n",
       "    }\n",
       "\n",
       "    .dataframe tbody tr th {\n",
       "        vertical-align: top;\n",
       "    }\n",
       "\n",
       "    .dataframe thead th {\n",
       "        text-align: right;\n",
       "    }\n",
       "</style>\n",
       "<table border=\"1\" class=\"dataframe\">\n",
       "  <thead>\n",
       "    <tr style=\"text-align: right;\">\n",
       "      <th></th>\n",
       "      <th>recall@10</th>\n",
       "      <th>ndcg@10</th>\n",
       "      <th>recall@50</th>\n",
       "      <th>ndcg@50</th>\n",
       "      <th>recall@200</th>\n",
       "      <th>ndcg@200</th>\n",
       "      <th>coverage@10</th>\n",
       "      <th>serendipity@10</th>\n",
       "    </tr>\n",
       "    <tr>\n",
       "      <th>model</th>\n",
       "      <th></th>\n",
       "      <th></th>\n",
       "      <th></th>\n",
       "      <th></th>\n",
       "      <th></th>\n",
       "      <th></th>\n",
       "      <th></th>\n",
       "      <th></th>\n",
       "    </tr>\n",
       "  </thead>\n",
       "  <tbody>\n",
       "    <tr>\n",
       "      <th>hstu_rab_t</th>\n",
       "      <td>0.318814</td>\n",
       "      <td>0.184871</td>\n",
       "      <td>0.590924</td>\n",
       "      <td>0.245234</td>\n",
       "      <td>0.787844</td>\n",
       "      <td>0.275194</td>\n",
       "      <td>0.639309</td>\n",
       "      <td>0.002822</td>\n",
       "    </tr>\n",
       "    <tr>\n",
       "      <th>hstu_rab_p</th>\n",
       "      <td>0.308711</td>\n",
       "      <td>0.174533</td>\n",
       "      <td>0.577675</td>\n",
       "      <td>0.234028</td>\n",
       "      <td>0.770619</td>\n",
       "      <td>0.263473</td>\n",
       "      <td>0.647948</td>\n",
       "      <td>0.002749</td>\n",
       "    </tr>\n",
       "    <tr>\n",
       "      <th>hstu</th>\n",
       "      <td>0.325936</td>\n",
       "      <td>0.189529</td>\n",
       "      <td>0.590096</td>\n",
       "      <td>0.248143</td>\n",
       "      <td>0.784863</td>\n",
       "      <td>0.277654</td>\n",
       "      <td>0.643359</td>\n",
       "      <td>0.002861</td>\n",
       "    </tr>\n",
       "    <tr>\n",
       "      <th>hstu_no_rab</th>\n",
       "      <td>0.298112</td>\n",
       "      <td>0.168615</td>\n",
       "      <td>0.560119</td>\n",
       "      <td>0.226426</td>\n",
       "      <td>0.766313</td>\n",
       "      <td>0.257878</td>\n",
       "      <td>0.618251</td>\n",
       "      <td>0.002536</td>\n",
       "    </tr>\n",
       "    <tr>\n",
       "      <th>sasrec</th>\n",
       "      <td>0.287844</td>\n",
       "      <td>0.162249</td>\n",
       "      <td>0.552004</td>\n",
       "      <td>0.220467</td>\n",
       "      <td>0.763498</td>\n",
       "      <td>0.252593</td>\n",
       "      <td>0.660367</td>\n",
       "      <td>0.002624</td>\n",
       "    </tr>\n",
       "  </tbody>\n",
       "</table>\n",
       "</div>"
      ]
     },
     "execution_count": 15,
     "metadata": {},
     "output_type": "execute_result"
    }
   ],
   "execution_count": 15
  },
  {
   "metadata": {},
   "cell_type": "markdown",
   "source": [
    "### Context-aware recommendation details\n",
    "\n",
    "If you use relative_time_attention, it's required to pass the query generation moment for users to make correct recommendations"
   ]
  },
  {
   "metadata": {
    "ExecuteTime": {
     "end_time": "2025-07-18T14:38:20.029577Z",
     "start_time": "2025-07-18T14:38:17.859546Z"
    }
   },
   "cell_type": "code",
   "source": [
    "from rectools.dataset.context import  get_context\n",
    "users = [1,2,3] # users we are recommending for\n",
    "query_time = max(original_df[Columns.Datetime]) # for example\n",
    "context_df = pd.DataFrame(\n",
    "    {\n",
    "        Columns.User: [1, 2, 3],\n",
    "        Columns.Datetime: [query_time]*3,\n",
    "    }\n",
    ")\n",
    "context = get_context(context_df) # context preprocessing"
   ],
   "outputs": [
    {
     "data": {
      "text/plain": [
       "Timestamp('2003-02-28 17:49:50')"
      ]
     },
     "execution_count": 21,
     "metadata": {},
     "output_type": "execute_result"
    }
   ],
   "execution_count": 21
  },
  {
   "cell_type": "code",
   "metadata": {
    "ExecuteTime": {
     "end_time": "2025-07-18T14:39:43.003065Z",
     "start_time": "2025-07-18T14:39:42.954284Z"
    }
   },
   "source": [
    "hstu.recommend(\n",
    "    users =users,\n",
    "    dataset= dataset_original,\n",
    "    k =3,\n",
    "    filter_viewed=True,\n",
    "    context=context)"
   ],
   "outputs": [
    {
     "data": {
      "text/plain": [
       "   user_id  item_id     score  rank\n",
       "0        1      318  0.230197     1\n",
       "1        1     2858  0.219218     2\n",
       "2        1      593  0.213117     3\n",
       "3        2      260  0.249361     1\n",
       "4        2        1  0.221973     2\n",
       "5        2     1270  0.213058     3\n",
       "6        3     2804  0.329420     1\n",
       "7        3     2918  0.328336     2\n",
       "8        3        1  0.324877     3"
      ],
      "text/html": [
       "<div>\n",
       "<style scoped>\n",
       "    .dataframe tbody tr th:only-of-type {\n",
       "        vertical-align: middle;\n",
       "    }\n",
       "\n",
       "    .dataframe tbody tr th {\n",
       "        vertical-align: top;\n",
       "    }\n",
       "\n",
       "    .dataframe thead th {\n",
       "        text-align: right;\n",
       "    }\n",
       "</style>\n",
       "<table border=\"1\" class=\"dataframe\">\n",
       "  <thead>\n",
       "    <tr style=\"text-align: right;\">\n",
       "      <th></th>\n",
       "      <th>user_id</th>\n",
       "      <th>item_id</th>\n",
       "      <th>score</th>\n",
       "      <th>rank</th>\n",
       "    </tr>\n",
       "  </thead>\n",
       "  <tbody>\n",
       "    <tr>\n",
       "      <th>0</th>\n",
       "      <td>1</td>\n",
       "      <td>318</td>\n",
       "      <td>0.230197</td>\n",
       "      <td>1</td>\n",
       "    </tr>\n",
       "    <tr>\n",
       "      <th>1</th>\n",
       "      <td>1</td>\n",
       "      <td>2858</td>\n",
       "      <td>0.219218</td>\n",
       "      <td>2</td>\n",
       "    </tr>\n",
       "    <tr>\n",
       "      <th>2</th>\n",
       "      <td>1</td>\n",
       "      <td>593</td>\n",
       "      <td>0.213117</td>\n",
       "      <td>3</td>\n",
       "    </tr>\n",
       "    <tr>\n",
       "      <th>3</th>\n",
       "      <td>2</td>\n",
       "      <td>260</td>\n",
       "      <td>0.249361</td>\n",
       "      <td>1</td>\n",
       "    </tr>\n",
       "    <tr>\n",
       "      <th>4</th>\n",
       "      <td>2</td>\n",
       "      <td>1</td>\n",
       "      <td>0.221973</td>\n",
       "      <td>2</td>\n",
       "    </tr>\n",
       "    <tr>\n",
       "      <th>5</th>\n",
       "      <td>2</td>\n",
       "      <td>1270</td>\n",
       "      <td>0.213058</td>\n",
       "      <td>3</td>\n",
       "    </tr>\n",
       "    <tr>\n",
       "      <th>6</th>\n",
       "      <td>3</td>\n",
       "      <td>2804</td>\n",
       "      <td>0.329420</td>\n",
       "      <td>1</td>\n",
       "    </tr>\n",
       "    <tr>\n",
       "      <th>7</th>\n",
       "      <td>3</td>\n",
       "      <td>2918</td>\n",
       "      <td>0.328336</td>\n",
       "      <td>2</td>\n",
       "    </tr>\n",
       "    <tr>\n",
       "      <th>8</th>\n",
       "      <td>3</td>\n",
       "      <td>1</td>\n",
       "      <td>0.324877</td>\n",
       "      <td>3</td>\n",
       "    </tr>\n",
       "  </tbody>\n",
       "</table>\n",
       "</div>"
      ]
     },
     "execution_count": 25,
     "metadata": {},
     "output_type": "execute_result"
    }
   ],
   "execution_count": 25
  },
  {
   "metadata": {},
   "cell_type": "markdown",
   "source": "To use the recommend method, you must provide the appropriate context based on the model's requirements. See the details below"
  },
  {
   "metadata": {
    "ExecuteTime": {
     "end_time": "2025-07-18T14:40:07.017137Z",
     "start_time": "2025-07-18T14:40:07.013280Z"
    }
   },
   "cell_type": "code",
   "source": "hstu.require_recommend_context, hstu_rab_p.require_recommend_context",
   "outputs": [
    {
     "data": {
      "text/plain": [
       "(True, False)"
      ]
     },
     "execution_count": 26,
     "metadata": {},
     "output_type": "execute_result"
    }
   ],
   "execution_count": 26
  },
  {
   "metadata": {
    "ExecuteTime": {
     "end_time": "2025-07-18T14:46:17.222808Z",
     "start_time": "2025-07-18T14:46:17.218842Z"
    }
   },
   "cell_type": "code",
   "source": [
    "hstu.recommend(\n",
    "    users=users,\n",
    "    dataset=dataset_original,\n",
    "    k=3,\n",
    "    filter_viewed=True,\n",
    "    context=None)"
   ],
   "outputs": [
    {
     "ename": "ValueError",
     "evalue": "Mismatch between require_recommend_context (True) and context presence (False). Context must be provided when 'require_recommend_context' is True.",
     "output_type": "error",
     "traceback": [
      "Traceback \u001B[0;36m(most recent call last)\u001B[0m:\n",
      "\u001B[0m  Cell \u001B[1;32mIn[41], line 1\u001B[0m\n    hstu.recommend(\u001B[0m\n",
      "\u001B[0;36m  File \u001B[0;32m~/kuzin/python_project/RecTools/rectools/models/base.py:473\u001B[0;36m in \u001B[0;35mrecommend\u001B[0;36m\n\u001B[0;31m    sorted_item_ids_to_recommend = self._get_sorted_item_ids_to_recommend(items_to_recommend, dataset)\u001B[0;36m\n",
      "\u001B[0;31mValueError\u001B[0m\u001B[0;31m:\u001B[0m Mismatch between require_recommend_context (True) and context presence (False). Context must be provided when 'require_recommend_context' is True.\n"
     ]
    }
   ],
   "execution_count": 41
  }
 ],
 "metadata": {
  "kernelspec": {
   "display_name": "Python 3 (ipykernel)",
   "language": "python",
   "name": "python3"
  },
  "language_info": {
   "codemirror_mode": {
    "name": "ipython",
    "version": 3
   },
   "file_extension": ".py",
   "mimetype": "text/x-python",
   "name": "python",
   "nbconvert_exporter": "python",
   "pygments_lexer": "ipython3",
   "version": "3.11.5"
  }
 },
 "nbformat": 4,
 "nbformat_minor": 4
}
