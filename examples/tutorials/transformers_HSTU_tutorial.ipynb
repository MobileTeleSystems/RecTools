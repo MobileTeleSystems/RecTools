{
 "cells": [
  {
   "cell_type": "markdown",
   "metadata": {},
   "source": [
    "# Transformer *HSTU* tutorial\n",
    "This guide tells about *Hierarchical Sequential Transduction Unit* *(HSTU)* - self-attention mechanism proposed in paper [Actions Speak Louder than Words: Trillion-Parameter Sequential Transducers\n",
    "for Generative Recommendations](https://arxiv.org/abs/2402.17152). Also we show RecTools implementation metrics results on datasets movielens-1m and movielens-20m preprocessed by authors of the paper and preprocessed by RecTools framework\n",
    "\n",
    "### Table of Contents\n",
    "\n",
    "*  Review of HSTU\n",
    "*  Reproduce RecTools implementation in fully original paper setup\n",
    "*  Variation relative positional and time attentions\n",
    "*  Time context implementation details\n",
    "\n"
   ]
  },
  {
   "cell_type": "markdown",
   "metadata": {},
   "source": [
    "### Review of *HSTU*"
   ]
  },
  {
   "cell_type": "markdown",
   "metadata": {},
   "source": "*HSTU* - is self-attention mechanism challenging recommendation systems problems. We make short overview."
  },
  {
   "cell_type": "markdown",
   "metadata": {},
   "source": [
    "\n",
    "<div style=\"text-align:center\">\n",
    "    <img src=\"src/hstu_overview.png\" alt=\"Описание\" width=\"30%\">\n",
    "</div>"
   ]
  },
  {
   "metadata": {},
   "cell_type": "markdown",
   "source": "In the simplest case, a unified sequence refers to a sequence of user interactions — even without interleaving actions. Using this setup, the paper reports its main experimental results (metrics). The training objective follows the standard shifted-language-modeling approach. Additionally, the paper proposes a modified training procedure that generates multiple training examples at the end of each sequence. This variant is designed for large industrial-scale applications, where it helps reduce the time complexity of streaming and fine-tuning setups."
  },
  {
   "cell_type": "markdown",
   "metadata": {},
   "source": [
    "\\begin{equation}\n",
    "U(X), V(X), Q(X), K(X) = \\text{Split}(\\phi_1(f_1(X))) \\tag{1}\n",
    "\\end{equation}\n",
    "\n",
    "\\begin{equation}\n",
    "A(X)V(X) = \\frac{\\phi_2 \\left( Q(X)K(X)^T + \\text{rab}^{p,t} \\right) V(X)}{N} \\tag{2}\n",
    "\\end{equation}\n",
    "\n",
    "\\begin{equation}\n",
    "Y(X) = f_2 \\left( \\text{Norm}(A(X)V(X)) \\odot U(X) \\right) \\tag{3}\n",
    "\\end{equation}"
   ]
  },
  {
   "cell_type": "markdown",
   "metadata": {},
   "source": "where $ f_{i} $ is a linear mapping, $\\phi$ is the SiLU function, and $\\text{rab}^{p,t} $ is the sum of two attention matrices: relative positional attention  and relative time attention. The first important change is the use of elementwise SiLU instead of SoftMax. This approach allows for faster learning in a setting where the set of items is constantly changing. Moreover, the denominator of the softmax normalizes attention, capturing all the previous context of user interactions, and this is not always justified. SiLU changes the absolute value of token-to-token attention. The second change is the weighting of the classic self-attention output by the $U(X)$ matrix, which solves the DLRM problem of feature interaction.\n"
  },
  {
   "cell_type": "markdown",
   "metadata": {},
   "source": [
    "$\\text{rab}^{t}$ - relative time attention, the picture shows first stage matrice formation\n",
    "\n",
    "<div style=\"text-align:center\">\n",
    "    <img src=\"src/time_attention.jpg\" alt=\"Описание\" width=\"40%\">\n",
    "</div>"
   ]
  },
  {
   "cell_type": "markdown",
   "metadata": {},
   "source": [
    "\n",
    "\\begin{equation}\n",
    "    a_{i,j} = t_{i+1} - t_j\n",
    "\\end{equation}\n",
    "\\begin{equation}\n",
    "\\text{bucket}(a_{i,j}) =\n",
    "\\left\\lfloor\n",
    "\\frac{\\log(|a_{i,j}| \\vee 1)}{0.301}\n",
    "\\right\\rfloor\n",
    "\\end{equation}"
   ]
  },
  {
   "cell_type": "markdown",
   "metadata": {},
   "source": [
    "To predict the next item, we use the time of its appearance. This is a simulation of inference with time aware setup. In the current formulation, this is a candidate generation model, and based on real interest, in addition to the user's history, we would also provide the start time of his session. In this case, the last token, or the last row in the attention matrix, will be conditioned on the start time of the user's session. In this way, the consistency of the model is maintained between training and testing (real-world inference).That is, all possible differences $a_{i,j}$ are quantized into buckets with logarithmic asymptotics. If the banquet values are greater than the specified $b_{max}$, then it is truncated to the maximum. Each bucket value corresponds to the learning parameter $w_{i}$, which is substituted instead of $a_{i,j}$. Thus, we form the matrix $\\text{rab}^{t}$. Moreover, we note that the time quantization function and the maximum number of buckets are hyperparameters. We can vary them depending on the nature of the content.\n",
    "\n",
    "Quantification of the timestamp difference actually breaks down the user's previous history into time microsessions relative to the query generation moment.\n",
    "\n"
   ]
  },
  {
   "cell_type": "markdown",
   "metadata": {},
   "source": [
    "### RecTools implementation"
   ]
  },
  {
   "cell_type": "markdown",
   "metadata": {},
   "source": [
    "Details of the implementation.\n",
    "1) Has been written from jagged tensors to usual torch tensors\n",
    "2) Has been droped original paper init distributions over all parameters where it possible, and replaced by xavier distribution\n",
    "3) Left padding isntead of right for consistency to RecTools\n",
    "4) No Q,K caching option"
   ]
  },
  {
   "cell_type": "code",
   "metadata": {
    "ExecuteTime": {
     "end_time": "2025-07-23T11:18:29.691409Z",
     "start_time": "2025-07-23T11:18:26.509252Z"
    }
   },
   "source": [
    "import os\n",
    "import warnings\n",
    "\n",
    "import torch\n",
    "from lightning_fabric import seed_everything\n",
    "from pytorch_lightning import Trainer\n",
    "from pytorch_lightning.loggers import CSVLogger\n",
    "import pandas as pd\n",
    "import ast\n",
    "from rectools.dataset import Dataset\n",
    "from rectools.models import HSTUModel\n",
    "from rectools import Columns\n",
    "from scipy import sparse\n",
    "from pytorch_lightning.callbacks import EarlyStopping, ModelCheckpoint\n",
    "# Enable deterministic behaviour with CUDA >= 10.2\n",
    "os.environ[\"CUBLAS_WORKSPACE_CONFIG\"] = \":4096:8\"\n",
    "from rectools.model_selection.splitter import Splitter\n",
    "from rectools.model_selection import LastNSplitter\n",
    "warnings.simplefilter(\"ignore\", UserWarning)\n",
    "warnings.simplefilter(\"ignore\", FutureWarning)\n",
    "from rectools.metrics import (\n",
    "    CoveredUsers,\n",
    "    Serendipity,\n",
    "    NDCG,\n",
    "    AvgRecPopularity,\n",
    "    CatalogCoverage,\n",
    "    Recall,\n",
    "    SufficientReco,\n",
    ")\n",
    "from rectools.models import  SASRecModel\n",
    "from rectools.model_selection import  cross_validate\n",
    "from rectools.models.nn.item_net import IdEmbeddingsItemNet\n",
    "from rectools.models.nn.transformers.utils import  leave_one_out_mask\n",
    "import json\n",
    "from utils import  RecallCallback, BestModelLoadCallback, get_results"
   ],
   "outputs": [],
   "execution_count": 3
  },
  {
   "metadata": {
    "ExecuteTime": {
     "end_time": "2025-07-23T11:18:29.714101Z",
     "start_time": "2025-07-23T11:18:29.706994Z"
    }
   },
   "cell_type": "code",
   "source": [
    "RANDOM_STATE=42\n",
    "torch.use_deterministic_algorithms(True)\n",
    "seed_everything(RANDOM_STATE, workers=True)"
   ],
   "outputs": [
    {
     "name": "stderr",
     "output_type": "stream",
     "text": [
      "Seed set to 42\n"
     ]
    },
    {
     "data": {
      "text/plain": [
       "42"
      ]
     },
     "execution_count": 4,
     "metadata": {},
     "output_type": "execute_result"
    }
   ],
   "execution_count": 4
  },
  {
   "metadata": {},
   "cell_type": "markdown",
   "source": "### RecTools recalculated"
  },
  {
   "metadata": {},
   "cell_type": "markdown",
   "source": [
    "#### Results on MovieLens-1M (ml-1m)\n",
    "| Method              | HR@10  | NDCG@10 | HR@50  | NDCG@50 | HR@200 | NDCG@200 |\n",
    "|---------------------|--------|---------|--------|---------|--------|----------|\n",
    "| HSTU paper          | 0.3097 | 0.1720  | 0.5754 | 0.2307  | 0.7716 | 0.2606   |\n",
    "| HSTU RecTools       | 0.3077 | 0.1724  | 0.5818 | 0.2330  | 0.7829 | 0.2636   |\n",
    "| HSTU-large paper    | 0.3294 | 0.1893  | 0.5935 | 0.2481  | 0.7839 | 0.2771   |\n",
    "| HSTU-large RecTools | 0.3291 | 0.1871  | 0.6007 | 0.2471  | 0.7957 | 0.2770   |\n"
   ]
  },
  {
   "metadata": {},
   "cell_type": "markdown",
   "source": [
    "\n",
    "#### Results on MovieLens-20M (ml-20m)\n",
    "| Method              | HR@10  | NDCG@10 | HR@50  | NDCG@50 | HR@200 | NDCG@200 |\n",
    "|---------------------|--------|---------|--------|---------|--------|----------|\n",
    "| HSTU paper          | 0.3273 | 0.1895  | 0.5889 | 0.2473  | 0.7952 | 0.2787   |\n",
    "| HSTU RecTools       | 0.3309 | 0.1914  | 0.5946 | 0.2450  | 0.8009 | 0.2812   |"
   ]
  },
  {
   "cell_type": "markdown",
   "metadata": {},
   "source": [
    "#### LOO validation, LOO test setup"
   ]
  },
  {
   "cell_type": "code",
   "metadata": {
    "ExecuteTime": {
     "end_time": "2025-07-23T11:18:29.829132Z",
     "start_time": "2025-07-23T11:18:29.826950Z"
    }
   },
   "source": "loo_splitter = LastNSplitter(1,1,filter_cold_users = False, filter_cold_items = False)",
   "outputs": [],
   "execution_count": 5
  },
  {
   "metadata": {
    "ExecuteTime": {
     "end_time": "2025-07-23T11:20:38.091353Z",
     "start_time": "2025-07-23T11:20:38.087383Z"
    }
   },
   "cell_type": "code",
   "source": [
    "def get_movielens_df(dataset_name: str = \"ml-1m\") -> pd.DataFrame:\n",
    "    if dataset_name == \"ml-1m\":\n",
    "        \n",
    "        ratings = pd.read_csv(\n",
    "            \"ml-1m/ratings.dat\",\n",
    "            sep=\"::\",\n",
    "            names=[\"userId\", \"movieId\", \"rating\", \"timestamp\"],\n",
    "            engine=\"python\",\n",
    "        )\n",
    "    elif dataset_name == \"ml-20m\":\n",
    "        ratings = pd.read_csv(\"ml-20m/ratings.csv\")\n",
    "    ratings = ratings[ratings[\"rating\"] >= 0]\n",
    "    ratings.rename(\n",
    "        columns={\n",
    "            \"userId\": Columns.User,\n",
    "            \"movieId\": Columns.Item,\n",
    "            \"timestamp\": Columns.Datetime,\n",
    "        },\n",
    "        inplace=True,\n",
    "    )\n",
    "    ratings[Columns.Datetime] = pd.to_datetime(ratings[Columns.Datetime], unit=\"s\")\n",
    "    ratings[Columns.Weight] = 1\n",
    "    return ratings"
   ],
   "outputs": [],
   "execution_count": 18
  },
  {
   "cell_type": "code",
   "metadata": {
    "ExecuteTime": {
     "end_time": "2025-07-23T11:20:39.500184Z",
     "start_time": "2025-07-23T11:20:39.496134Z"
    }
   },
   "source": [
    "# Callback for calculating RecSys metrics\n",
    "RECALL_K = 10\n",
    "PATIENCE = 5\n",
    "DIVERGENCE_TRESHOLD = 0.01\n",
    "recall_callback = RecallCallback(k=RECALL_K, progress_bar=True)\n",
    "# Checkpoints based on best recall\n",
    "max_recall_ckpt = ModelCheckpoint(\n",
    "    monitor=f\"recall@{RECALL_K}\",   # or just pass \"val_loss\" here,\n",
    "    mode=\"max\",\n",
    "    filename=\"best_recall\",\n",
    ")\n",
    "early_stopping_recall = EarlyStopping(\n",
    "    monitor=f\"recall@{RECALL_K}\",\n",
    "    mode=\"max\",\n",
    "    patience=PATIENCE,\n",
    "    divergence_threshold=DIVERGENCE_TRESHOLD,\n",
    ")\n",
    "best_model_load = BestModelLoadCallback(\"best_recall\")\n",
    "callbacks = [recall_callback, max_recall_ckpt, best_model_load]"
   ],
   "outputs": [],
   "execution_count": 19
  },
  {
   "cell_type": "code",
   "metadata": {
    "ExecuteTime": {
     "end_time": "2025-07-23T11:20:39.864427Z",
     "start_time": "2025-07-23T11:20:39.861660Z"
    }
   },
   "source": [
    "# Function to get custom trainer\n",
    "def get_trainer() -> Trainer:\n",
    "    return Trainer(\n",
    "        accelerator=\"gpu\",\n",
    "        devices=1,\n",
    "        min_epochs=100,\n",
    "        max_epochs=100,\n",
    "        deterministic=True,\n",
    "        enable_model_summary=False,\n",
    "        enable_progress_bar=True,\n",
    "        callbacks=callbacks,\n",
    "        logger = CSVLogger(\"test_logs\"),  # We use CSV logging for this guide but there are many other options\n",
    "    )"
   ],
   "outputs": [],
   "execution_count": 20
  },
  {
   "cell_type": "code",
   "metadata": {
    "ExecuteTime": {
     "end_time": "2025-07-23T11:20:40.929868Z",
     "start_time": "2025-07-23T11:20:40.924586Z"
    }
   },
   "source": [
    "metrics_add = {}\n",
    "metrics_recall ={}\n",
    "metrics_ndcg = {}\n",
    "k_base =  10\n",
    "K = [10, 50,100,200]\n",
    "K_RECS= max(K)\n",
    "for k in K:\n",
    "    metrics_recall.update({\n",
    "            f\"recall@{k}\": Recall(k=k),\n",
    "        })\n",
    "    metrics_ndcg.update({\n",
    "            f\"ndcg@{k}\": NDCG(k=k, divide_by_achievable=True),\n",
    "        })\n",
    "metrics_add = {\n",
    "    f\"arp@{k_base}\": AvgRecPopularity(k=k_base, normalize=True),\n",
    "    f\"coverage@{k_base}\": CatalogCoverage(k=k_base, normalize=True),\n",
    "    f\"covered_users@{k_base}\": CoveredUsers(k=k_base),\n",
    "    f\"sufficient_reco@{k_base}\": SufficientReco(k=k_base),\n",
    "    f\"serendipity@{k_base}\": Serendipity(k=k_base),\n",
    "}\n",
    "metrics  = metrics_recall | metrics_ndcg | metrics_add\n",
    "metrics_to_show = ['recall@10', 'ndcg@10', 'recall@50', 'ndcg@50', 'recall@200', 'ndcg@200', 'coverage@10',\n",
    "                       'serendipity@10']"
   ],
   "outputs": [],
   "execution_count": 21
  },
  {
   "cell_type": "code",
   "metadata": {
    "ExecuteTime": {
     "end_time": "2025-07-23T11:18:31.368514Z",
     "start_time": "2025-07-23T11:18:31.364863Z"
    }
   },
   "source": [
    "def evaluate(models: dict, splitter:Splitter,dataset: Dataset, path_to_save_res:str) -> None:\n",
    "    cv_results = cross_validate(\n",
    "        dataset=dataset,\n",
    "        splitter=splitter,\n",
    "        models=models,\n",
    "        metrics=metrics,\n",
    "        k=K_RECS,\n",
    "        filter_viewed=True,\n",
    "    )\n",
    "    cv_results[\"models_log_dir\"] = {}\n",
    "    for model_name, model in models.items():\n",
    "        cv_results[\"models_log_dir\"].update({model_name:model.fit_trainer.log_dir})\n",
    "    with open(path_to_save_res, 'w', encoding='utf-8') as f:\n",
    "        json.dump(cv_results, f, ensure_ascii=False, indent=4)"
   ],
   "outputs": [],
   "execution_count": 10
  },
  {
   "metadata": {},
   "cell_type": "markdown",
   "source": "#### MovieLens-1M (ml-1m)"
  },
  {
   "metadata": {
    "ExecuteTime": {
     "end_time": "2025-07-23T11:18:34.660643Z",
     "start_time": "2025-07-23T11:18:32.306967Z"
    }
   },
   "cell_type": "code",
   "source": [
    "%%time\n",
    "!wget -q https://files.grouplens.org/datasets/movielens/ml-1m.zip -O ml-1m.zip\n",
    "!unzip -o ml-1m.zip\n",
    "!rm ml-1m.zip"
   ],
   "outputs": [
    {
     "name": "stdout",
     "output_type": "stream",
     "text": [
      "Archive:  ml-1m.zip\r\n",
      "  inflating: ml-1m/movies.dat        \r\n",
      "  inflating: ml-1m/ratings.dat       \r\n",
      "  inflating: ml-1m/README            \r\n",
      "  inflating: ml-1m/users.dat         \r\n",
      "CPU times: user 7.41 ms, sys: 49.8 ms, total: 57.2 ms\n",
      "Wall time: 2.35 s\n"
     ]
    }
   ],
   "execution_count": 11
  },
  {
   "metadata": {
    "ExecuteTime": {
     "end_time": "2025-07-23T11:18:34.672443Z",
     "start_time": "2025-07-23T11:18:34.669008Z"
    }
   },
   "cell_type": "code",
   "source": [
    "config = {\n",
    "    \"session_max_len\": 200,\n",
    "    \"lightning_module_kwargs\": {\"logits_t\": 0.05}, # logits scale factor\n",
    "    \"item_net_block_types\": (IdEmbeddingsItemNet,),\n",
    "    \"get_val_mask_func\": leave_one_out_mask,\n",
    "    \"get_trainer_func\": get_trainer,\n",
    "    \"verbose\": 1,\n",
    "    \"loss\": 'sampled_softmax',\n",
    "    \"n_negatives\": 128,\n",
    "    \"use_pos_emb\": True,\n",
    "    \"dropout_rate\": 0.2,\n",
    "    \"n_factors\": 50, # embedding dim\n",
    "    \"n_heads\": 1,\n",
    "    \"n_blocks\": 2,\n",
    "    \"lr\": 0.001,\n",
    "    \"batch_size\": 128,\n",
    "}\n",
    "config_large = config.copy()\n",
    "config_large[\"n_blocks\"] = 8\n",
    "config_large[\"n_heads\"] = 2"
   ],
   "outputs": [],
   "execution_count": 12
  },
  {
   "cell_type": "code",
   "metadata": {
    "ExecuteTime": {
     "end_time": "2025-07-23T11:18:44.546134Z",
     "start_time": "2025-07-23T11:18:40.738403Z"
    }
   },
   "source": [
    "dataset_name = \"ml-1m\"\n",
    "pivot_name = f\"pivot_results_{dataset_name}.json\"\n",
    "ml_df = get_movielens_df(dataset_name)\n",
    "dataset = Dataset.construct(ml_df)"
   ],
   "outputs": [],
   "execution_count": 13
  },
  {
   "cell_type": "code",
   "metadata": {
    "ExecuteTime": {
     "end_time": "2025-07-23T11:08:57.043588Z",
     "start_time": "2025-07-23T11:08:57.021958Z"
    }
   },
   "source": [
    "hstu  = HSTUModel(\n",
    "    relative_time_attention=True,\n",
    "    relative_pos_attention=True,\n",
    "    **config\n",
    ")\n",
    "hstu_large  = HSTUModel(\n",
    "    relative_time_attention=True,\n",
    "    relative_pos_attention=True,\n",
    "    **config_large\n",
    ")\n",
    "models = {\n",
    "    \"hstu\": hstu,\n",
    "    \"hstu_large\": hstu_large,\n",
    "}"
   ],
   "outputs": [
    {
     "name": "stderr",
     "output_type": "stream",
     "text": [
      "GPU available: True (cuda), used: True\n",
      "TPU available: False, using: 0 TPU cores\n",
      "HPU available: False, using: 0 HPUs\n",
      "GPU available: True (cuda), used: True\n",
      "TPU available: False, using: 0 TPU cores\n",
      "HPU available: False, using: 0 HPUs\n"
     ]
    }
   ],
   "execution_count": 37
  },
  {
   "cell_type": "code",
   "metadata": {},
   "source": "evaluate(models,loo_splitter,dataset,pivot_name)",
   "outputs": [],
   "execution_count": null
  },
  {
   "cell_type": "code",
   "metadata": {
    "ExecuteTime": {
     "end_time": "2025-07-22T18:59:56.958732Z",
     "start_time": "2025-07-22T18:59:56.812389Z"
    }
   },
   "source": [
    "pivot_table = get_results(pivot_name,metrics_to_show, show_loss=False)\n",
    "pivot_table"
   ],
   "outputs": [
    {
     "data": {
      "text/plain": [
       "<Figure size 1000x600 with 1 Axes>"
      ],
      "image/png": "[encoded data removed]"
     },
     "metadata": {},
     "output_type": "display_data"
    },
    {
     "data": {
      "text/plain": [
       "            recall@10   ndcg@10  recall@50   ndcg@50  recall@200  ndcg@200  \\\n",
       "model                                                                        \n",
       "hstu         0.322682  0.187915   0.589404  0.247056    0.785762  0.276861   \n",
       "hstu_large   0.364238  0.216433   0.619371  0.273545    0.803146  0.301466   \n",
       "\n",
       "            coverage@10  serendipity@10  \n",
       "model                                    \n",
       "hstu           0.650378        0.002877  \n",
       "hstu_large     0.684665        0.003299  "
      ],
      "text/html": [
       "<div>\n",
       "<style scoped>\n",
       "    .dataframe tbody tr th:only-of-type {\n",
       "        vertical-align: middle;\n",
       "    }\n",
       "\n",
       "    .dataframe tbody tr th {\n",
       "        vertical-align: top;\n",
       "    }\n",
       "\n",
       "    .dataframe thead th {\n",
       "        text-align: right;\n",
       "    }\n",
       "</style>\n",
       "<table border=\"1\" class=\"dataframe\">\n",
       "  <thead>\n",
       "    <tr style=\"text-align: right;\">\n",
       "      <th></th>\n",
       "      <th>recall@10</th>\n",
       "      <th>ndcg@10</th>\n",
       "      <th>recall@50</th>\n",
       "      <th>ndcg@50</th>\n",
       "      <th>recall@200</th>\n",
       "      <th>ndcg@200</th>\n",
       "      <th>coverage@10</th>\n",
       "      <th>serendipity@10</th>\n",
       "    </tr>\n",
       "    <tr>\n",
       "      <th>model</th>\n",
       "      <th></th>\n",
       "      <th></th>\n",
       "      <th></th>\n",
       "      <th></th>\n",
       "      <th></th>\n",
       "      <th></th>\n",
       "      <th></th>\n",
       "      <th></th>\n",
       "    </tr>\n",
       "  </thead>\n",
       "  <tbody>\n",
       "    <tr>\n",
       "      <th>hstu</th>\n",
       "      <td>0.322682</td>\n",
       "      <td>0.187915</td>\n",
       "      <td>0.589404</td>\n",
       "      <td>0.247056</td>\n",
       "      <td>0.785762</td>\n",
       "      <td>0.276861</td>\n",
       "      <td>0.650378</td>\n",
       "      <td>0.002877</td>\n",
       "    </tr>\n",
       "    <tr>\n",
       "      <th>hstu_large</th>\n",
       "      <td>0.364238</td>\n",
       "      <td>0.216433</td>\n",
       "      <td>0.619371</td>\n",
       "      <td>0.273545</td>\n",
       "      <td>0.803146</td>\n",
       "      <td>0.301466</td>\n",
       "      <td>0.684665</td>\n",
       "      <td>0.003299</td>\n",
       "    </tr>\n",
       "  </tbody>\n",
       "</table>\n",
       "</div>"
      ]
     },
     "execution_count": 14,
     "metadata": {},
     "output_type": "execute_result"
    }
   ],
   "execution_count": 14
  },
  {
   "metadata": {},
   "cell_type": "markdown",
   "source": "#### MovieLens-20M (ml-20m)"
  },
  {
   "metadata": {
    "ExecuteTime": {
     "end_time": "2025-07-23T11:18:13.987157Z",
     "start_time": "2025-07-23T11:17:59.391632Z"
    }
   },
   "cell_type": "code",
   "source": [
    "%%time\n",
    "!wget -q https://files.grouplens.org/datasets/movielens/ml-20m.zip -O ml-20m.zip\n",
    "!unzip -o ml-20m.zip\n",
    "!rm ml-20m.zip"
   ],
   "outputs": [
    {
     "name": "stdout",
     "output_type": "stream",
     "text": [
      "Archive:  ml-20m.zip\r\n",
      "  inflating: ml-20m/genome-scores.csv  \r\n",
      "  inflating: ml-20m/genome-tags.csv  \r\n",
      "  inflating: ml-20m/links.csv        \r\n",
      "  inflating: ml-20m/movies.csv       \r\n",
      "  inflating: ml-20m/ratings.csv      \r\n",
      "  inflating: ml-20m/README.txt       \r\n",
      "  inflating: ml-20m/tags.csv         \r\n",
      "CPU times: user 77.8 ms, sys: 32.8 ms, total: 111 ms\n",
      "Wall time: 14.6 s\n"
     ]
    }
   ],
   "execution_count": 1
  },
  {
   "metadata": {
    "ExecuteTime": {
     "end_time": "2025-07-23T11:18:51.085515Z",
     "start_time": "2025-07-23T11:18:51.082625Z"
    }
   },
   "cell_type": "code",
   "source": [
    "config_ml_20m  = config.copy()\n",
    "config_ml_20m[\"n_factors\"] = 256\n",
    "config_ml_20m[\"n_heads\"] = 4\n",
    "config_ml_20m[\"n_blocks\"] = 4"
   ],
   "outputs": [],
   "execution_count": 14
  },
  {
   "metadata": {
    "ExecuteTime": {
     "end_time": "2025-07-23T11:18:53.380358Z",
     "start_time": "2025-07-23T11:18:53.342478Z"
    }
   },
   "cell_type": "code",
   "source": [
    "hstu  = HSTUModel(\n",
    "    relative_time_attention=True,\n",
    "    relative_pos_attention=True,\n",
    "    **config_ml_20m\n",
    ")\n",
    "models = {\n",
    "    \"hstu\": hstu,\n",
    "}"
   ],
   "outputs": [
    {
     "name": "stderr",
     "output_type": "stream",
     "text": [
      "GPU available: True (cuda), used: True\n",
      "TPU available: False, using: 0 TPU cores\n",
      "HPU available: False, using: 0 HPUs\n"
     ]
    }
   ],
   "execution_count": 15
  },
  {
   "metadata": {
    "ExecuteTime": {
     "end_time": "2025-07-23T11:20:52.946023Z",
     "start_time": "2025-07-23T11:20:52.941976Z"
    }
   },
   "cell_type": "code",
   "source": [
    "torch.use_deterministic_algorithms(True)\n",
    "seed_everything(RANDOM_STATE, workers=True)\n",
    "dataset_name = \"ml-20m\"\n",
    "pivot_name = f\"pivot_results_{dataset_name}.json\""
   ],
   "outputs": [
    {
     "name": "stderr",
     "output_type": "stream",
     "text": [
      "Seed set to 42\n"
     ]
    }
   ],
   "execution_count": 22
  },
  {
   "metadata": {
    "ExecuteTime": {
     "end_time": "2025-07-23T11:21:05.783713Z",
     "start_time": "2025-07-23T11:20:53.773688Z"
    }
   },
   "cell_type": "code",
   "source": [
    "ml_df = get_movielens_df(dataset_name)\n",
    "dataset = Dataset.construct(ml_df)"
   ],
   "outputs": [],
   "execution_count": 23
  },
  {
   "metadata": {
    "jupyter": {
     "is_executing": true
    },
    "ExecuteTime": {
     "start_time": "2025-07-23T11:21:17.628391Z"
    }
   },
   "cell_type": "code",
   "source": "evaluate(models,loo_splitter,dataset,pivot_name)",
   "outputs": [],
   "execution_count": null
  },
  {
   "metadata": {
    "ExecuteTime": {
     "end_time": "2025-07-21T15:32:26.442688Z",
     "start_time": "2025-07-21T15:32:26.327275Z"
    }
   },
   "cell_type": "code",
   "source": [
    "pivot_table = get_results(pivot_name,metrics_to_show, show_loss=False)\n",
    "pivot_table"
   ],
   "outputs": [
    {
     "data": {
      "text/plain": [
       "<Figure size 1000x600 with 1 Axes>"
      ],
      "image/png": "[encoded data removed]"
     },
     "metadata": {},
     "output_type": "display_data"
    },
    {
     "data": {
      "text/plain": [
       "       recall@10   ndcg@10  recall@50   ndcg@50  recall@200  ndcg@200  \\\n",
       "model                                                                   \n",
       "hstu    0.330856  0.191414   0.594629  0.249778    0.800861  0.281208   \n",
       "\n",
       "       coverage@10  serendipity@10  \n",
       "model                               \n",
       "hstu       0.31898        0.000785  "
      ],
      "text/html": [
       "<div>\n",
       "<style scoped>\n",
       "    .dataframe tbody tr th:only-of-type {\n",
       "        vertical-align: middle;\n",
       "    }\n",
       "\n",
       "    .dataframe tbody tr th {\n",
       "        vertical-align: top;\n",
       "    }\n",
       "\n",
       "    .dataframe thead th {\n",
       "        text-align: right;\n",
       "    }\n",
       "</style>\n",
       "<table border=\"1\" class=\"dataframe\">\n",
       "  <thead>\n",
       "    <tr style=\"text-align: right;\">\n",
       "      <th></th>\n",
       "      <th>recall@10</th>\n",
       "      <th>ndcg@10</th>\n",
       "      <th>recall@50</th>\n",
       "      <th>ndcg@50</th>\n",
       "      <th>recall@200</th>\n",
       "      <th>ndcg@200</th>\n",
       "      <th>coverage@10</th>\n",
       "      <th>serendipity@10</th>\n",
       "    </tr>\n",
       "    <tr>\n",
       "      <th>model</th>\n",
       "      <th></th>\n",
       "      <th></th>\n",
       "      <th></th>\n",
       "      <th></th>\n",
       "      <th></th>\n",
       "      <th></th>\n",
       "      <th></th>\n",
       "      <th></th>\n",
       "    </tr>\n",
       "  </thead>\n",
       "  <tbody>\n",
       "    <tr>\n",
       "      <th>hstu</th>\n",
       "      <td>0.330856</td>\n",
       "      <td>0.191414</td>\n",
       "      <td>0.594629</td>\n",
       "      <td>0.249778</td>\n",
       "      <td>0.800861</td>\n",
       "      <td>0.281208</td>\n",
       "      <td>0.31898</td>\n",
       "      <td>0.000785</td>\n",
       "    </tr>\n",
       "  </tbody>\n",
       "</table>\n",
       "</div>"
      ]
     },
     "execution_count": 22,
     "metadata": {},
     "output_type": "execute_result"
    }
   ],
   "execution_count": 22
  },
  {
   "metadata": {},
   "cell_type": "markdown",
   "source": [
    "#TODO launch\n",
    "torch.use_deterministic_algorithms(True)\n",
    "seed_everything(RANDOM_STATE, workers=True)"
   ]
  },
  {
   "metadata": {},
   "cell_type": "markdown",
   "source": [
    "In the original article, the dataset was preprocessed incorrectly. The user interactions were sorted by timestamp without a stable sorting option, which means that interactions with the same timestamp could be reordered.\n",
    "See the reference code:\n",
    "https://github.com/meta-recsys/generative-recommenders/blob/88512dbd71b053226bc4ef8ec1630e3db53e55e5/generative_recommenders/research/data/preprocessor.py#L267\n",
    "\n",
    "Therefore, we also report results on a dataset preprocessed using RecTools, where interactions are sorted stably by timestamp. Additionally, we provide an ablation study to highlight the impact of this preprocessing difference."
   ]
  },
  {
   "metadata": {},
   "cell_type": "markdown",
   "source": [
    "### Ablation study \n",
    "\n"
   ]
  },
  {
   "cell_type": "code",
   "metadata": {
    "ExecuteTime": {
     "end_time": "2025-07-22T19:26:02.591737Z",
     "start_time": "2025-07-22T19:25:58.807219Z"
    }
   },
   "source": [
    "torch.use_deterministic_algorithms(True)\n",
    "seed_everything(RANDOM_STATE, workers=True)\n",
    "dataset_name = \"ml-1m\"\n",
    "pivot_name = f\"pivot_results_ablation_{dataset_name}.json\"\n",
    "ml_df = get_movielens_df(\"ml-1m\")\n",
    "dataset = Dataset.construct(ml_df)"
   ],
   "outputs": [
    {
     "name": "stderr",
     "output_type": "stream",
     "text": [
      "Seed set to 42\n"
     ]
    }
   ],
   "execution_count": 10
  },
  {
   "metadata": {},
   "cell_type": "markdown",
   "source": "#### rab - relativate attention bias"
  },
  {
   "cell_type": "code",
   "metadata": {
    "ExecuteTime": {
     "end_time": "2025-07-22T19:26:08.555820Z",
     "start_time": "2025-07-22T19:26:08.472774Z"
    }
   },
   "source": [
    "hstu  = HSTUModel(\n",
    "    relative_time_attention=True,\n",
    "    relative_pos_attention=True,\n",
    "    **config\n",
    ")\n",
    "hstu_rab_p  = HSTUModel(\n",
    "    relative_time_attention=False,\n",
    "    relative_pos_attention=True,\n",
    "    **config\n",
    ")\n",
    "hstu_rab_t  = HSTUModel(\n",
    "    relative_time_attention=True,\n",
    "    relative_pos_attention=False,\n",
    "    **config\n",
    ")\n",
    "hstu_no_rab  = HSTUModel(\n",
    "    relative_time_attention=False,\n",
    "    relative_pos_attention=False,\n",
    "    **config\n",
    ")\n",
    "sasrec = SASRecModel(\n",
    "    **config\n",
    ")\n",
    "models = {\n",
    "    \"hstu_rab_t\": hstu_rab_t,\n",
    "    \"hstu_rab_p\": hstu_rab_p,\n",
    "    \"hstu\": hstu,\n",
    "    \"hstu_no_rab\": hstu_no_rab,\n",
    "    \"sasrec\": sasrec,\n",
    "}"
   ],
   "outputs": [
    {
     "name": "stderr",
     "output_type": "stream",
     "text": [
      "GPU available: True (cuda), used: True\n",
      "TPU available: False, using: 0 TPU cores\n",
      "HPU available: False, using: 0 HPUs\n",
      "GPU available: True (cuda), used: True\n",
      "TPU available: False, using: 0 TPU cores\n",
      "HPU available: False, using: 0 HPUs\n",
      "GPU available: True (cuda), used: True\n",
      "TPU available: False, using: 0 TPU cores\n",
      "HPU available: False, using: 0 HPUs\n",
      "GPU available: True (cuda), used: True\n",
      "TPU available: False, using: 0 TPU cores\n",
      "HPU available: False, using: 0 HPUs\n",
      "GPU available: True (cuda), used: True\n",
      "TPU available: False, using: 0 TPU cores\n",
      "HPU available: False, using: 0 HPUs\n"
     ]
    }
   ],
   "execution_count": 11
  },
  {
   "metadata": {},
   "cell_type": "code",
   "source": "evaluate(models,loo_splitter,dataset,pivot_name)",
   "outputs": [],
   "execution_count": null
  },
  {
   "metadata": {
    "ExecuteTime": {
     "end_time": "2025-07-22T19:27:11.893051Z",
     "start_time": "2025-07-22T19:27:11.722285Z"
    }
   },
   "cell_type": "code",
   "source": [
    "pivot_table = get_results(pivot_name,metrics_to_show, show_loss=False)\n",
    "pivot_table"
   ],
   "outputs": [
    {
     "data": {
      "text/plain": [
       "<Figure size 1000x600 with 1 Axes>"
      ],
      "image/png": "[encoded data removed]"
     },
     "metadata": {},
     "output_type": "display_data"
    },
    {
     "data": {
      "text/plain": [
       "             recall@10   ndcg@10  recall@50   ndcg@50  recall@200  ndcg@200  \\\n",
       "model                                                                         \n",
       "hstu_rab_t    0.318709  0.184810   0.590728  0.245153    0.787583  0.275103   \n",
       "hstu_rab_p    0.308609  0.174476   0.577483  0.233951    0.770364  0.263386   \n",
       "hstu          0.325828  0.189466   0.589901  0.248061    0.784603  0.277562   \n",
       "hstu_no_rab   0.298013  0.168559   0.559934  0.226351    0.766060  0.257793   \n",
       "sasrec        0.287748  0.162196   0.551821  0.220394    0.763245  0.252509   \n",
       "\n",
       "             coverage@10  serendipity@10  \n",
       "model                                     \n",
       "hstu_rab_t      0.639309        0.002821  \n",
       "hstu_rab_p      0.647948        0.002748  \n",
       "hstu            0.643359        0.002860  \n",
       "hstu_no_rab     0.618251        0.002535  \n",
       "sasrec          0.660367        0.002623  "
      ],
      "text/html": [
       "<div>\n",
       "<style scoped>\n",
       "    .dataframe tbody tr th:only-of-type {\n",
       "        vertical-align: middle;\n",
       "    }\n",
       "\n",
       "    .dataframe tbody tr th {\n",
       "        vertical-align: top;\n",
       "    }\n",
       "\n",
       "    .dataframe thead th {\n",
       "        text-align: right;\n",
       "    }\n",
       "</style>\n",
       "<table border=\"1\" class=\"dataframe\">\n",
       "  <thead>\n",
       "    <tr style=\"text-align: right;\">\n",
       "      <th></th>\n",
       "      <th>recall@10</th>\n",
       "      <th>ndcg@10</th>\n",
       "      <th>recall@50</th>\n",
       "      <th>ndcg@50</th>\n",
       "      <th>recall@200</th>\n",
       "      <th>ndcg@200</th>\n",
       "      <th>coverage@10</th>\n",
       "      <th>serendipity@10</th>\n",
       "    </tr>\n",
       "    <tr>\n",
       "      <th>model</th>\n",
       "      <th></th>\n",
       "      <th></th>\n",
       "      <th></th>\n",
       "      <th></th>\n",
       "      <th></th>\n",
       "      <th></th>\n",
       "      <th></th>\n",
       "      <th></th>\n",
       "    </tr>\n",
       "  </thead>\n",
       "  <tbody>\n",
       "    <tr>\n",
       "      <th>hstu_rab_t</th>\n",
       "      <td>0.318709</td>\n",
       "      <td>0.184810</td>\n",
       "      <td>0.590728</td>\n",
       "      <td>0.245153</td>\n",
       "      <td>0.787583</td>\n",
       "      <td>0.275103</td>\n",
       "      <td>0.639309</td>\n",
       "      <td>0.002821</td>\n",
       "    </tr>\n",
       "    <tr>\n",
       "      <th>hstu_rab_p</th>\n",
       "      <td>0.308609</td>\n",
       "      <td>0.174476</td>\n",
       "      <td>0.577483</td>\n",
       "      <td>0.233951</td>\n",
       "      <td>0.770364</td>\n",
       "      <td>0.263386</td>\n",
       "      <td>0.647948</td>\n",
       "      <td>0.002748</td>\n",
       "    </tr>\n",
       "    <tr>\n",
       "      <th>hstu</th>\n",
       "      <td>0.325828</td>\n",
       "      <td>0.189466</td>\n",
       "      <td>0.589901</td>\n",
       "      <td>0.248061</td>\n",
       "      <td>0.784603</td>\n",
       "      <td>0.277562</td>\n",
       "      <td>0.643359</td>\n",
       "      <td>0.002860</td>\n",
       "    </tr>\n",
       "    <tr>\n",
       "      <th>hstu_no_rab</th>\n",
       "      <td>0.298013</td>\n",
       "      <td>0.168559</td>\n",
       "      <td>0.559934</td>\n",
       "      <td>0.226351</td>\n",
       "      <td>0.766060</td>\n",
       "      <td>0.257793</td>\n",
       "      <td>0.618251</td>\n",
       "      <td>0.002535</td>\n",
       "    </tr>\n",
       "    <tr>\n",
       "      <th>sasrec</th>\n",
       "      <td>0.287748</td>\n",
       "      <td>0.162196</td>\n",
       "      <td>0.551821</td>\n",
       "      <td>0.220394</td>\n",
       "      <td>0.763245</td>\n",
       "      <td>0.252509</td>\n",
       "      <td>0.660367</td>\n",
       "      <td>0.002623</td>\n",
       "    </tr>\n",
       "  </tbody>\n",
       "</table>\n",
       "</div>"
      ]
     },
     "execution_count": 13,
     "metadata": {},
     "output_type": "execute_result"
    }
   ],
   "execution_count": 13
  },
  {
   "metadata": {},
   "cell_type": "markdown",
   "source": [
    "### Context-aware recommendation details\n",
    "\n",
    "If you use relative_time_attention, it's required to pass the query generation moment for users to make correct recommendations"
   ]
  },
  {
   "metadata": {
    "ExecuteTime": {
     "end_time": "2025-07-22T15:12:54.369545Z",
     "start_time": "2025-07-22T15:12:52.429923Z"
    }
   },
   "cell_type": "code",
   "source": [
    "from rectools.dataset.context import  get_context\n",
    "users = [1,2,3] # users we are recommending for\n",
    "query_time = max(ml_df[Columns.Datetime]) # for example\n",
    "context_df = pd.DataFrame(\n",
    "    {\n",
    "        Columns.User: [1, 2, 3],\n",
    "        Columns.Datetime: [query_time]*3,\n",
    "    }\n",
    ")\n",
    "context = get_context(context_df) # context preprocessing"
   ],
   "outputs": [],
   "execution_count": 16
  },
  {
   "cell_type": "code",
   "metadata": {
    "ExecuteTime": {
     "end_time": "2025-07-22T15:13:01.895263Z",
     "start_time": "2025-07-22T15:13:01.850216Z"
    }
   },
   "source": [
    "hstu.recommend(\n",
    "    users =users,\n",
    "    dataset= dataset,\n",
    "    k =3,\n",
    "    filter_viewed=True,\n",
    "    context=context)"
   ],
   "outputs": [
    {
     "data": {
      "text/plain": [
       "   user_id  item_id     score  rank\n",
       "0        1      318  0.230197     1\n",
       "1        1     2858  0.219218     2\n",
       "2        1      593  0.213117     3\n",
       "3        2      260  0.249361     1\n",
       "4        2        1  0.221973     2\n",
       "5        2     1270  0.213058     3\n",
       "6        3     2804  0.329420     1\n",
       "7        3     2918  0.328336     2\n",
       "8        3        1  0.324877     3"
      ],
      "text/html": [
       "<div>\n",
       "<style scoped>\n",
       "    .dataframe tbody tr th:only-of-type {\n",
       "        vertical-align: middle;\n",
       "    }\n",
       "\n",
       "    .dataframe tbody tr th {\n",
       "        vertical-align: top;\n",
       "    }\n",
       "\n",
       "    .dataframe thead th {\n",
       "        text-align: right;\n",
       "    }\n",
       "</style>\n",
       "<table border=\"1\" class=\"dataframe\">\n",
       "  <thead>\n",
       "    <tr style=\"text-align: right;\">\n",
       "      <th></th>\n",
       "      <th>user_id</th>\n",
       "      <th>item_id</th>\n",
       "      <th>score</th>\n",
       "      <th>rank</th>\n",
       "    </tr>\n",
       "  </thead>\n",
       "  <tbody>\n",
       "    <tr>\n",
       "      <th>0</th>\n",
       "      <td>1</td>\n",
       "      <td>318</td>\n",
       "      <td>0.230197</td>\n",
       "      <td>1</td>\n",
       "    </tr>\n",
       "    <tr>\n",
       "      <th>1</th>\n",
       "      <td>1</td>\n",
       "      <td>2858</td>\n",
       "      <td>0.219218</td>\n",
       "      <td>2</td>\n",
       "    </tr>\n",
       "    <tr>\n",
       "      <th>2</th>\n",
       "      <td>1</td>\n",
       "      <td>593</td>\n",
       "      <td>0.213117</td>\n",
       "      <td>3</td>\n",
       "    </tr>\n",
       "    <tr>\n",
       "      <th>3</th>\n",
       "      <td>2</td>\n",
       "      <td>260</td>\n",
       "      <td>0.249361</td>\n",
       "      <td>1</td>\n",
       "    </tr>\n",
       "    <tr>\n",
       "      <th>4</th>\n",
       "      <td>2</td>\n",
       "      <td>1</td>\n",
       "      <td>0.221973</td>\n",
       "      <td>2</td>\n",
       "    </tr>\n",
       "    <tr>\n",
       "      <th>5</th>\n",
       "      <td>2</td>\n",
       "      <td>1270</td>\n",
       "      <td>0.213058</td>\n",
       "      <td>3</td>\n",
       "    </tr>\n",
       "    <tr>\n",
       "      <th>6</th>\n",
       "      <td>3</td>\n",
       "      <td>2804</td>\n",
       "      <td>0.329420</td>\n",
       "      <td>1</td>\n",
       "    </tr>\n",
       "    <tr>\n",
       "      <th>7</th>\n",
       "      <td>3</td>\n",
       "      <td>2918</td>\n",
       "      <td>0.328336</td>\n",
       "      <td>2</td>\n",
       "    </tr>\n",
       "    <tr>\n",
       "      <th>8</th>\n",
       "      <td>3</td>\n",
       "      <td>1</td>\n",
       "      <td>0.324877</td>\n",
       "      <td>3</td>\n",
       "    </tr>\n",
       "  </tbody>\n",
       "</table>\n",
       "</div>"
      ]
     },
     "execution_count": 18,
     "metadata": {},
     "output_type": "execute_result"
    }
   ],
   "execution_count": 18
  },
  {
   "metadata": {},
   "cell_type": "markdown",
   "source": "To use the recommend method, you must provide the appropriate context based on the model's requirements. See the details below"
  },
  {
   "metadata": {
    "ExecuteTime": {
     "end_time": "2025-07-22T15:13:06.877626Z",
     "start_time": "2025-07-22T15:13:06.873861Z"
    }
   },
   "cell_type": "code",
   "source": "hstu.require_recommend_context, hstu_rab_p.require_recommend_context",
   "outputs": [
    {
     "data": {
      "text/plain": [
       "(True, False)"
      ]
     },
     "execution_count": 19,
     "metadata": {},
     "output_type": "execute_result"
    }
   ],
   "execution_count": 19
  },
  {
   "metadata": {
    "ExecuteTime": {
     "end_time": "2025-07-22T15:13:13.243351Z",
     "start_time": "2025-07-22T15:13:13.190885Z"
    }
   },
   "cell_type": "code",
   "source": [
    "hstu.recommend(\n",
    "    users=users,\n",
    "    dataset=dataset,\n",
    "    k=3,\n",
    "    filter_viewed=True,\n",
    "    context=None)"
   ],
   "outputs": [
    {
     "ename": "ValueError",
     "evalue": "This model requires `context` to be provided for recommendations generation (model.require_recommend_context is True).Check docs and examples for details.",
     "output_type": "error",
     "traceback": [
      "\u001B[0;31m---------------------------------------------------------------------------\u001B[0m",
      "\u001B[0;31mValueError\u001B[0m                                Traceback (most recent call last)",
      "Cell \u001B[0;32mIn[21], line 1\u001B[0m\n\u001B[0;32m----> 1\u001B[0m \u001B[43mhstu\u001B[49m\u001B[38;5;241;43m.\u001B[39;49m\u001B[43mrecommend\u001B[49m\u001B[43m(\u001B[49m\n\u001B[1;32m      2\u001B[0m \u001B[43m    \u001B[49m\u001B[43musers\u001B[49m\u001B[38;5;241;43m=\u001B[39;49m\u001B[43musers\u001B[49m\u001B[43m,\u001B[49m\n\u001B[1;32m      3\u001B[0m \u001B[43m    \u001B[49m\u001B[43mdataset\u001B[49m\u001B[38;5;241;43m=\u001B[39;49m\u001B[43mdataset\u001B[49m\u001B[43m,\u001B[49m\n\u001B[1;32m      4\u001B[0m \u001B[43m    \u001B[49m\u001B[43mk\u001B[49m\u001B[38;5;241;43m=\u001B[39;49m\u001B[38;5;241;43m3\u001B[39;49m\u001B[43m,\u001B[49m\n\u001B[1;32m      5\u001B[0m \u001B[43m    \u001B[49m\u001B[43mfilter_viewed\u001B[49m\u001B[38;5;241;43m=\u001B[39;49m\u001B[38;5;28;43;01mTrue\u001B[39;49;00m\u001B[43m,\u001B[49m\n\u001B[1;32m      6\u001B[0m \u001B[43m    \u001B[49m\u001B[43mcontext\u001B[49m\u001B[38;5;241;43m=\u001B[39;49m\u001B[38;5;28;43;01mNone\u001B[39;49;00m\u001B[43m)\u001B[49m\n",
      "File \u001B[0;32m~/kuzin/python_project/RecTools/rectools/models/base.py:455\u001B[0m, in \u001B[0;36mModelBase.recommend\u001B[0;34m(self, users, dataset, k, filter_viewed, items_to_recommend, add_rank_col, on_unsupported_targets, context)\u001B[0m\n\u001B[1;32m    396\u001B[0m \u001B[38;5;250m\u001B[39m\u001B[38;5;124mr\u001B[39m\u001B[38;5;124;03m\"\"\"\u001B[39;00m\n\u001B[1;32m    397\u001B[0m \u001B[38;5;124;03mRecommend items for users.\u001B[39;00m\n\u001B[1;32m    398\u001B[0m \n\u001B[0;32m   (...)\u001B[0m\n\u001B[1;32m    452\u001B[0m \u001B[38;5;124;03m    `on_unsupported_targets` is set to \"raise\".\u001B[39;00m\n\u001B[1;32m    453\u001B[0m \u001B[38;5;124;03m\"\"\"\u001B[39;00m\n\u001B[1;32m    454\u001B[0m \u001B[38;5;28;01mif\u001B[39;00m \u001B[38;5;28mself\u001B[39m\u001B[38;5;241m.\u001B[39mrequire_recommend_context \u001B[38;5;129;01mand\u001B[39;00m (context \u001B[38;5;129;01mis\u001B[39;00m \u001B[38;5;28;01mNone\u001B[39;00m):\n\u001B[0;32m--> 455\u001B[0m     \u001B[38;5;28;01mraise\u001B[39;00m \u001B[38;5;167;01mValueError\u001B[39;00m(\n\u001B[1;32m    456\u001B[0m         \u001B[38;5;124m\"\u001B[39m\u001B[38;5;124mThis model requires `context` to be provided for recommendations generation \u001B[39m\u001B[38;5;124m\"\u001B[39m\n\u001B[1;32m    457\u001B[0m         \u001B[38;5;124mf\u001B[39m\u001B[38;5;124m\"\u001B[39m\u001B[38;5;124m(model.require_recommend_context is \u001B[39m\u001B[38;5;132;01m{\u001B[39;00m\u001B[38;5;28mself\u001B[39m\u001B[38;5;241m.\u001B[39mrequire_recommend_context\u001B[38;5;132;01m}\u001B[39;00m\u001B[38;5;124m).\u001B[39m\u001B[38;5;124m\"\u001B[39m\n\u001B[1;32m    458\u001B[0m         \u001B[38;5;124m\"\u001B[39m\u001B[38;5;124mCheck docs and examples for details.\u001B[39m\u001B[38;5;124m\"\u001B[39m\n\u001B[1;32m    459\u001B[0m     )\n\u001B[1;32m    460\u001B[0m \u001B[38;5;28;01mif\u001B[39;00m \u001B[38;5;129;01mnot\u001B[39;00m \u001B[38;5;28mself\u001B[39m\u001B[38;5;241m.\u001B[39mrequire_recommend_context \u001B[38;5;129;01mand\u001B[39;00m (context \u001B[38;5;129;01mis\u001B[39;00m \u001B[38;5;129;01mnot\u001B[39;00m \u001B[38;5;28;01mNone\u001B[39;00m):\n\u001B[1;32m    461\u001B[0m     context \u001B[38;5;241m=\u001B[39m \u001B[38;5;28;01mNone\u001B[39;00m\n",
      "\u001B[0;31mValueError\u001B[0m: This model requires `context` to be provided for recommendations generation (model.require_recommend_context is True).Check docs and examples for details."
     ]
    }
   ],
   "execution_count": 21
  },
  {
   "metadata": {},
   "cell_type": "code",
   "outputs": [],
   "execution_count": null,
   "source": ""
  }
 ],
 "metadata": {
  "kernelspec": {
   "display_name": "Python 3 (ipykernel)",
   "language": "python",
   "name": "python3"
  },
  "language_info": {
   "codemirror_mode": {
    "name": "ipython",
    "version": 3
   },
   "file_extension": ".py",
   "mimetype": "text/x-python",
   "name": "python",
   "nbconvert_exporter": "python",
   "pygments_lexer": "ipython3",
   "version": "3.11.5"
  }
 },
 "nbformat": 4,
 "nbformat_minor": 4
}
