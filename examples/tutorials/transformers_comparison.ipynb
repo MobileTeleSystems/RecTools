{
 "cells": [
  {
   "cell_type": "markdown",
   "metadata": {},
   "source": [
    "# Transformer comparison *HSTU* to *SASRec*\n",
    "This guide tells about *Hierarchical Sequential Transduction Unit* *(HSTU)* - self-attention mechanism proposed in paper \"Actions Speak Louder than Words: Trillion-Parameter Sequential Transducers\n",
    "for Generative Recommendations\n",
    "\". Also we show RecTools implementation metrics results on datasets movielens-1m and movielens-20m preprocessed by authors of the paper and preprocessed by RecTools framework\n",
    "\n",
    "### Table of Contents\n",
    "\n",
    "*  Review of HSTU\n",
    "*  Reproduce RecTools implementation in fully original paper setup\n",
    "*  Variation relative positional and time attentions\n",
    "*  Time context implementation details \n",
    "  \n"
   ]
  },
  {
   "metadata": {},
   "cell_type": "markdown",
   "source": "### Review of *HSTU*"
  },
  {
   "metadata": {},
   "cell_type": "markdown",
   "source": [
    "*HSTU* - is self-attention mechanism challenging recommendation systems problems. We make short overview.\n",
    "\n",
    "It was important to say that the hierarchy of the *HSTU* lies in the way\n",
    "it builds a unified sequence of features. In the case of *DLRM*, this is an end-to-end\n",
    "accounting of all features in one training example, *HSTU* selectively takes features to\n",
    "build contextual embeddings,passed to the beginning of sequence, to form\n",
    "the main sequence of the user's interaction history. In a simple case, by a unified sequence, we will simply mean a sequence of user interactions, even without interleaving with actions. In this setup paper metrics are shown. Paper training objective setup is shifted sequence, but also proposed approach emitting several training examples at the end of sequence for industrial scale setup for reducing steaming fine-tune training time complexity."
   ]
  },
  {
   "metadata": {},
   "cell_type": "markdown",
   "source": [
    "\n",
    "<div style=\"text-align:center\">\n",
    "    <img src=\"src/hstu_overview.png\" alt=\"Описание\" width=\"30%\">\n",
    "</div>"
   ]
  },
  {
   "metadata": {},
   "cell_type": "markdown",
   "source": [
    "\\begin{equation}\n",
    "U(X), V(X), Q(X), K(X) = \\text{Split}(\\phi_1(f_1(X))) \\tag{1}\n",
    "\\end{equation}\n",
    "\n",
    "\\begin{equation}\n",
    "A(X)V(X) = \\frac{\\phi_2 \\left( Q(X)K(X)^T + \\text{rab}^{p,t} \\right) V(X)}{N} \\tag{2}\n",
    "\\end{equation}\n",
    "\n",
    "\\begin{equation}\n",
    "Y(X) = f_2 \\left( \\text{Norm}(A(X)V(X)) \\odot U(X) \\right) \\tag{3}\n",
    "\\end{equation}"
   ]
  },
  {
   "metadata": {},
   "cell_type": "markdown",
   "source": "where $ f_{i} $ is a linear mapping, $\\phi$ is the SiLU function, and $\\text{rab}^{p,t} $ is the sum of two attention matrices: relative positional attention  and relative time attention. The first important change is the use of elementwise SiLU instead of SoftMax. This approach allows for faster learning in a setting where the set of items is constantly changing. Moreover, the denominator of the softmax normalizes attention, capturing all the previous context of user interactions, and this is not always justified. SiLU changes the absolute value of token-to-token attention. The second change is the weighting of the classic self-attention output by the $U(X)$ matrix, which solves the DLRM problem of feature linking.\n"
  },
  {
   "metadata": {},
   "cell_type": "markdown",
   "source": [
    "$\\text{rab}^{t}$ - relative time attention, the picture shows first stage matrice formation\n",
    "\n",
    "<div style=\"text-align:center\">\n",
    "    <img src=\"src/time_attention.jpg\" alt=\"Описание\" width=\"40%\">\n",
    "</div>"
   ]
  },
  {
   "metadata": {},
   "cell_type": "markdown",
   "source": [
    "\n",
    "\\begin{equation}\n",
    "    a_{i,j} = t_{i+1} - t_j\n",
    "\\end{equation}\n",
    "\\begin{equation}\n",
    "\\text{bucket}(a_{i,j}) = \n",
    "\\left\\lfloor \n",
    "\\frac{\\log(|a_{i,j}| \\vee 1)}{0.301} \n",
    "\\right\\rfloor\n",
    "\\end{equation}"
   ]
  },
  {
   "metadata": {},
   "cell_type": "markdown",
   "source": [
    "To predict the next item, we use the time of its appearance. This is a simulation of inference with  time aware setup. In the current formulation, this is a candidate generation model, and based on real interest, in addition to the user's history, we would also provide the start time of his session. In this case, the last token, or the last row in the attention matrix, will be conditioned on the start time of the user's session. In this way, the consistency of the model is maintained between training and testing (real-world inference).That is, all possible differences $a_{i,j}$ are quantized into buckets with logarithmic asymptotics. If the banquet values are greater than the specified $b_{max}$, then it is truncated to the maximum. Each bucket value corresponds to the learning parameter $w_{i}$, which is substituted instead of $a_{i,j}$. Thus, we form the matrix $\\text{rab}^{t}$. Moreover, we note that the time quantization function and the maximum number of buckets are hyperparameters. We can vary them depending on the nature of the content.\n",
    "\n",
    "Quantification of the timestamp difference actually breaks down the user's previous history into time microsessions relative to the current generation moment.\n",
    "\n"
   ]
  },
  {
   "metadata": {},
   "cell_type": "markdown",
   "source": "### RecTools implementation"
  },
  {
   "metadata": {},
   "cell_type": "markdown",
   "source": [
    "Details of the implementation.\n",
    "1) Has been written from jagged tensors to usual torch tensors\n",
    "2) Has been droped original paper init distributions over all parameters where it possible, and replaced by xavier distribution\n",
    "3) Left padding isntead of right for consistency to RecTools \n",
    "4) No Q,K caching option  "
   ]
  },
  {
   "cell_type": "code",
   "metadata": {
    "ExecuteTime": {
     "end_time": "2025-07-08T11:48:14.173436Z",
     "start_time": "2025-07-08T11:48:14.168180Z"
    }
   },
   "source": [
    "import os\n",
    "import typing as tp\n",
    "import warnings\n",
    "\n",
    "import pandas as pd\n",
    "import numpy as np\n",
    "import torch\n",
    "from lightning_fabric import seed_everything\n",
    "from pytorch_lightning import Trainer, LightningModule\n",
    "from pytorch_lightning.loggers import CSVLogger\n",
    "import pandas as pd\n",
    "import ast\n",
    "from pathlib import Path\n",
    "from pytorch_lightning.callbacks import   Callback\n",
    "from rectools.dataset import Dataset\n",
    "from rectools.models import HSTUModel\n",
    "from rectools.models.nn.item_net import IdEmbeddingsItemNet\n",
    "from rectools import Columns\n",
    "from scipy import sparse\n",
    "from pytorch_lightning.callbacks import EarlyStopping, ModelCheckpoint, Callback\n",
    "# Enable deterministic behaviour with CUDA >= 10.2\n",
    "os.environ[\"CUBLAS_WORKSPACE_CONFIG\"] = \":4096:8\"\n",
    "from rectools.model_selection.splitter import Splitter\n",
    "from rectools.model_selection import LastNSplitter, TimeRangeSplitter\n",
    "warnings.simplefilter(\"ignore\", UserWarning)\n",
    "warnings.simplefilter(\"ignore\", FutureWarning)\n",
    "from rectools.metrics import (\n",
    "    MAP,\n",
    "    CoveredUsers,\n",
    "    Intersection,\n",
    "    Serendipity,\n",
    "    NDCG,\n",
    "    AvgRecPopularity,\n",
    "    CatalogCoverage,\n",
    "    Recall,\n",
    "    SufficientReco,\n",
    ")\n",
    "from rectools.models import  SASRecModel, BERT4RecModel\n",
    "from rectools.model_selection import  cross_validate\n",
    "from rectools.models.nn.item_net import IdEmbeddingsItemNet\n",
    "import json\n",
    "from rectools.visuals import MetricsApp\n",
    "import cffi\n",
    "import zmq  # pyzmq\n",
    "import notebook  # jupyter\n",
    "import seaborn as sns\n",
    "import matplotlib.pyplot as plt\n",
    "from utils import  RecallCallback, BestModelLoad, show_results"
   ],
   "outputs": [],
   "execution_count": 8
  },
  {
   "metadata": {
    "ExecuteTime": {
     "end_time": "2025-07-08T11:48:14.510803Z",
     "start_time": "2025-07-08T11:48:14.505530Z"
    }
   },
   "cell_type": "code",
   "source": [
    "RANDOM_STATE=42\n",
    "torch.use_deterministic_algorithms(True)\n",
    "seed_everything(RANDOM_STATE, workers=True)"
   ],
   "outputs": [
    {
     "name": "stderr",
     "output_type": "stream",
     "text": [
      "Seed set to 42\n"
     ]
    },
    {
     "data": {
      "text/plain": [
       "42"
      ]
     },
     "execution_count": 9,
     "metadata": {},
     "output_type": "execute_result"
    }
   ],
   "execution_count": 9
  },
  {
   "cell_type": "markdown",
   "metadata": {},
   "source": "### Movielens-1m"
  },
  {
   "metadata": {
    "ExecuteTime": {
     "end_time": "2025-07-08T11:48:18.022568Z",
     "start_time": "2025-07-08T11:48:15.328351Z"
    }
   },
   "cell_type": "code",
   "source": [
    "%%time\n",
    "!wget -q https://files.grouplens.org/datasets/movielens/ml-1m.zip -O ml-1m.zip\n",
    "!unzip -o ml-1m.zip\n",
    "!rm ml-1m.zip"
   ],
   "outputs": [
    {
     "name": "stdout",
     "output_type": "stream",
     "text": [
      "Archive:  ml-1m.zip\r\n",
      "  inflating: ml-1m/movies.dat        \r\n",
      "  inflating: ml-1m/ratings.dat       \r\n",
      "  inflating: ml-1m/README            \r\n",
      "  inflating: ml-1m/users.dat         \r\n",
      "CPU times: user 20.9 ms, sys: 39.2 ms, total: 60.1 ms\n",
      "Wall time: 2.69 s\n"
     ]
    }
   ],
   "execution_count": 10
  },
  {
   "metadata": {},
   "cell_type": "markdown",
   "source": "please sam razberis"
  },
  {
   "metadata": {
    "ExecuteTime": {
     "end_time": "2025-07-08T11:48:18.033823Z",
     "start_time": "2025-07-08T11:48:18.028851Z"
    }
   },
   "cell_type": "code",
   "source": [
    "def get_paper_df(dataset_name: str = \"ml-1m\") -> pd.DataFrame:\n",
    "    path  = f\"paper_{dataset_name}.csv\"\n",
    "    \n",
    "    with warnings.catch_warnings():\n",
    "        warnings.warn(f\"You can download the dataset from the article using the link above and rename it to {path}\", UserWarning)\n",
    "        paper_df = pd.read_csv(path)\n",
    "    paper_df = paper_df[[\"index\",\"user_id\", \"sequence_item_ids\", \"sequence_ratings\", \"sequence_timestamps\"]]\n",
    "    cols_to_expand = [\"sequence_item_ids\", \"sequence_ratings\", \"sequence_timestamps\"]\n",
    "    for col in cols_to_expand:\n",
    "        paper_df[col] = paper_df[col].apply(ast.literal_eval)\n",
    "    \n",
    "    expanded_df = paper_df[[\"user_id\"] + cols_to_expand]\n",
    "    expanded_df = expanded_df.explode(cols_to_expand)\n",
    "    expanded_df = expanded_df.rename(columns={\n",
    "        \"sequence_item_ids\": \"item_id\",\n",
    "        \"sequence_ratings\": \"rating\",\n",
    "        \"sequence_timestamps\": \"timestamp\"\n",
    "    })\n",
    "    expanded_df[\"item_id\"] = expanded_df[\"item_id\"].astype(int)\n",
    "    expanded_df[\"rating\"] = expanded_df[\"rating\"].astype(float)\n",
    "    expanded_df[\"timestamp\"] = expanded_df[\"timestamp\"].astype(int)\n",
    "    expanded_df[\"datetime\"] = pd.to_datetime(expanded_df[\"timestamp\"], unit=\"s\")\n",
    "    expanded_df = expanded_df.drop(columns=[\"timestamp\"])\n",
    "    expanded_df.reset_index(drop=True, inplace=True)\n",
    "    df = expanded_df[[\"user_id\", \"item_id\", \"datetime\"]]\n",
    "    df[\"weight\"] = 1\n",
    "    return df"
   ],
   "outputs": [],
   "execution_count": 11
  },
  {
   "metadata": {
    "ExecuteTime": {
     "end_time": "2025-07-08T11:48:18.082454Z",
     "start_time": "2025-07-08T11:48:18.079624Z"
    }
   },
   "cell_type": "code",
   "source": [
    "def get_original_df(dataset_name: str = \"ml-1m\") -> pd.DataFrame:\n",
    "    df = pd.read_csv(\n",
    "        f\"{dataset_name}/ratings.dat\", \n",
    "        sep=\"::\",\n",
    "        engine=\"python\",  # Because of 2-chars separators\n",
    "        header=None,\n",
    "        names=[Columns.User, Columns.Item, Columns.Weight, Columns.Datetime],\n",
    "    )\n",
    "    df[Columns.Datetime] = df[Columns.Datetime].astype(\"datetime64[s]\")\n",
    "    df[Columns.Weight] = 1\n",
    "    return df"
   ],
   "outputs": [],
   "execution_count": 12
  },
  {
   "metadata": {},
   "cell_type": "markdown",
   "source": "#### LOO validation, LOO test setup"
  },
  {
   "metadata": {
    "ExecuteTime": {
     "end_time": "2025-07-08T11:48:18.103973Z",
     "start_time": "2025-07-08T11:48:18.101946Z"
    }
   },
   "cell_type": "code",
   "source": "loo_splitter = LastNSplitter(1,1)",
   "outputs": [],
   "execution_count": 13
  },
  {
   "metadata": {},
   "cell_type": "markdown",
   "source": [
    "### Validation fold\n",
    "\n",
    "Models do not create validation fold during `fit` by default. However, there is a simple way to force it.\n",
    "\n",
    "Let's assume that we want to use Leave-One-Out validation for specific set of users. To apply it we need to implement `get_val_mask_func` with required logic and pass it to model during initialization.\n",
    "\n",
    "This function should receive interactions with standard RecTools columns and return a binary mask which identifies interactions that should not be used during model training. But instrad should be used for validation loss calculation. They will also be available for Lightning Callbacks to allow RecSys metrics computations.\n",
    "\n",
    "*Please make sure you do not use `partial` while doing this. Partial functions cannot be by serialized using RecTools.*"
   ]
  },
  {
   "metadata": {
    "ExecuteTime": {
     "end_time": "2025-07-08T11:48:18.693539Z",
     "start_time": "2025-07-08T11:48:18.689748Z"
    }
   },
   "cell_type": "code",
   "source": [
    "def leave_one_out_mask_for_users(\n",
    "    interactions: pd.DataFrame, val_users: tp.Optional[np.ndarray] = None\n",
    ") -> np.ndarray:\n",
    "    groups = interactions.groupby(Columns.User)\n",
    "    time_order = (\n",
    "        groups[Columns.Datetime]\n",
    "        .rank(method=\"first\", ascending=True)\n",
    "        .astype(int)\n",
    "    )\n",
    "    n_interactions = groups.transform(\"size\").astype(int)\n",
    "    inv_ranks = n_interactions - time_order\n",
    "    last_interact_mask  = inv_ranks == 0\n",
    "    if  val_users is not None:\n",
    "        return (interactions[Columns.User].isin(val_users)) & last_interact_mask\n",
    "    return last_interact_mask"
   ],
   "outputs": [],
   "execution_count": 14
  },
  {
   "metadata": {
    "ExecuteTime": {
     "end_time": "2025-07-08T11:48:19.061671Z",
     "start_time": "2025-07-08T11:48:19.057108Z"
    }
   },
   "cell_type": "code",
   "source": [
    "# Callback for calculating RecSys metrics\n",
    "RECALL_K = 10\n",
    "PATIENCE = 5\n",
    "DIVERGENCE_TRESHOLD = 0.01\n",
    "recall_callback = RecallCallback(k=RECALL_K, prog_bar=True)\n",
    "# Checkpoints based on validation loss\n",
    "max_recall_ckpt = ModelCheckpoint(\n",
    "    monitor=f\"recall@{RECALL_K}\",   # or just pass \"val_loss\" here,\n",
    "    mode=\"max\",\n",
    "    filename=\"best_recall\",\n",
    ")\n",
    "early_stopping_recall = EarlyStopping(\n",
    "    monitor=f\"recall@{RECALL_K}\",\n",
    "    mode=\"max\",\n",
    "    patience=PATIENCE,\n",
    "    divergence_threshold=DIVERGENCE_TRESHOLD,\n",
    ")\n",
    "best_model_load = BestModelLoad(\"best_recall\")\n",
    "callbacks = [recall_callback, max_recall_ckpt, best_model_load]"
   ],
   "outputs": [],
   "execution_count": 15
  },
  {
   "cell_type": "code",
   "metadata": {
    "ExecuteTime": {
     "end_time": "2025-07-08T11:48:19.697029Z",
     "start_time": "2025-07-08T11:48:19.693935Z"
    }
   },
   "source": [
    "# Function to get custom trainer\n",
    "def get_trainer() -> Trainer: \n",
    "    return Trainer(\n",
    "        accelerator=\"gpu\",\n",
    "        devices=1,\n",
    "        min_epochs=100,\n",
    "        max_epochs=100,\n",
    "        deterministic=True,\n",
    "        enable_model_summary=False,\n",
    "        enable_progress_bar=True,\n",
    "        callbacks=callbacks,\n",
    "        logger = CSVLogger(\"test_logs\"),  # We use CSV logging for this guide but there are many other options\n",
    "    )"
   ],
   "outputs": [],
   "execution_count": 16
  },
  {
   "metadata": {
    "ExecuteTime": {
     "end_time": "2025-07-08T11:48:44.848363Z",
     "start_time": "2025-07-08T11:48:44.844212Z"
    }
   },
   "cell_type": "code",
   "source": [
    "metrics_add = {}\n",
    "metrics_recall ={}\n",
    "metrics_ndcg = {}\n",
    "k_base =  10\n",
    "K = [10, 50,100,200]\n",
    "K_RECS= max(K)\n",
    "for k in K:\n",
    "    metrics_recall.update({\n",
    "            f\"recall@{k}\": Recall(k=k),\n",
    "        })\n",
    "    metrics_ndcg.update({\n",
    "            f\"ndcg@{k}\": NDCG(k=k, divide_by_achievable=True),\n",
    "        })\n",
    "metrics_add = {\n",
    "    f\"arp@{k_base}\": AvgRecPopularity(k=k_base, normalize=True),\n",
    "    f\"coverage@{k_base}\": CatalogCoverage(k=k_base, normalize=True),\n",
    "    f\"covered_users@{k_base}\": CoveredUsers(k=k_base),\n",
    "    f\"sufficient_reco@{k_base}\": SufficientReco(k=k_base),\n",
    "    f\"serendipity@{k_base}\": Serendipity(k=k_base),\n",
    "}\n",
    "metrics  = metrics_recall | metrics_ndcg | metrics_add"
   ],
   "outputs": [],
   "execution_count": 18
  },
  {
   "metadata": {
    "ExecuteTime": {
     "end_time": "2025-07-08T11:48:45.308246Z",
     "start_time": "2025-07-08T11:48:45.304458Z"
    }
   },
   "cell_type": "code",
   "source": [
    "def eval(models: dict, splitter:Splitter,dataset: Dataset, path_to_save_res:str) -> None:\n",
    "    cv_results = cross_validate(\n",
    "        dataset=dataset,\n",
    "        splitter=splitter,\n",
    "        models=models,\n",
    "        metrics=metrics,\n",
    "        k=K_RECS,\n",
    "        filter_viewed=True,\n",
    "    )\n",
    "    cv_results[\"models_log_dir\"] = {}\n",
    "    for model_name, model in models.items():\n",
    "        cv_results[\"models_log_dir\"].update({model_name:model.fit_trainer.log_dir})\n",
    "    with open(path_to_save_res, 'w', encoding='utf-8') as f:\n",
    "        json.dump(cv_results, f, ensure_ascii=False, indent=4)"
   ],
   "outputs": [],
   "execution_count": 19
  },
  {
   "metadata": {},
   "cell_type": "markdown",
   "source": "### Paper config"
  },
  {
   "metadata": {
    "ExecuteTime": {
     "end_time": "2025-07-08T11:49:02.008678Z",
     "start_time": "2025-07-08T11:49:02.004802Z"
    }
   },
   "cell_type": "code",
   "source": [
    "config = {\n",
    "    \"session_max_len\": 200,\n",
    "    \"lightning_module_kwargs\": {\"temperature\": 0.05}, # logits scale factor\n",
    "    \"item_net_block_types\": (IdEmbeddingsItemNet,),\n",
    "    \"get_val_mask_func\": leave_one_out_mask_for_users,\n",
    "    \"get_trainer_func\": get_trainer,\n",
    "    \"verbose\": 1,\n",
    "    \"loss\": 'sampled_softmax',\n",
    "    \"n_negatives\": 128,\n",
    "    \"use_pos_emb\": True,\n",
    "    \"dropout_rate\": 0.2,\n",
    "    \"n_factors\": 50, # embedding dim\n",
    "    \"n_heads\": 1,\n",
    "    \"n_blocks\": 2,\n",
    "    \"lr\": 0.001,\n",
    "    \"batch_size\": 128,\n",
    "    \"similarity_module_kwargs\": {\"distance\":\"cosine\"}\n",
    "}\n",
    "config_large = config.copy()\n",
    "config_large[\"n_blocks\"] = 8\n",
    "config_large[\"n_heads\"] = 2"
   ],
   "outputs": [],
   "execution_count": 21
  },
  {
   "metadata": {},
   "cell_type": "markdown",
   "source": "### RecTools reproduce"
  },
  {
   "metadata": {
    "ExecuteTime": {
     "end_time": "2025-07-08T11:49:05.618091Z",
     "start_time": "2025-07-08T11:49:05.615505Z"
    }
   },
   "cell_type": "code",
   "source": [
    "dataset_name = \"ml-1m\"\n",
    "path_to_save_res = f\"pivot_results_cosine_test_paper_{dataset_name}.json\""
   ],
   "outputs": [],
   "execution_count": 22
  },
  {
   "metadata": {},
   "cell_type": "code",
   "source": [
    "hstu  = HSTUModel(    \n",
    "    relative_time_attention=True,\n",
    "    relative_pos_attention=True,\n",
    "    **config\n",
    ")\n",
    "hstu_large  = HSTUModel(    \n",
    "    relative_time_attention=True,\n",
    "    relative_pos_attention=True,\n",
    "    **config_large\n",
    ")\n",
    "models = {\n",
    "    \"hstu\": hstu,\n",
    "    \"hstu_large\": hstu_large,\n",
    "}\n",
    "paper_df = get_paper_df(dataset_name)\n",
    "dataset_paper = Dataset.construct(paper_df)\n",
    "eval(models,loo_splitter,dataset_paper,path_to_save_res)"
   ],
   "outputs": [],
   "execution_count": null
  },
  {
   "metadata": {
    "ExecuteTime": {
     "end_time": "2025-07-08T11:43:20.897985Z",
     "start_time": "2025-07-08T11:43:20.758129Z"
    }
   },
   "cell_type": "code",
   "source": "show_results(path_to_save_res, show_loss=False)",
   "outputs": [
    {
     "data": {
      "text/plain": [
       "<pandas.io.formats.style.Styler at 0x79b3a99a8520>"
      ],
      "text/html": [
       "<style type=\"text/css\">\n",
       "#T_71fa4_row0_col0, #T_71fa4_row0_col1, #T_71fa4_row0_col2, #T_71fa4_row0_col3, #T_71fa4_row0_col4, #T_71fa4_row0_col5, #T_71fa4_row0_col6, #T_71fa4_row0_col7 {\n",
       "  text-align: center;\n",
       "  background-color: #f7fbff;\n",
       "  color: #000000;\n",
       "}\n",
       "#T_71fa4_row1_col0, #T_71fa4_row1_col1, #T_71fa4_row1_col2, #T_71fa4_row1_col3, #T_71fa4_row1_col4, #T_71fa4_row1_col5, #T_71fa4_row1_col6, #T_71fa4_row1_col7 {\n",
       "  text-align: center;\n",
       "  background-color: #08306b;\n",
       "  color: #f1f1f1;\n",
       "}\n",
       "</style>\n",
       "<table id=\"T_71fa4\">\n",
       "  <caption>Metrics Comparison</caption>\n",
       "  <thead>\n",
       "    <tr>\n",
       "      <th class=\"blank level0\" >&nbsp;</th>\n",
       "      <th id=\"T_71fa4_level0_col0\" class=\"col_heading level0 col0\" >recall@10</th>\n",
       "      <th id=\"T_71fa4_level0_col1\" class=\"col_heading level0 col1\" >ndcg@10</th>\n",
       "      <th id=\"T_71fa4_level0_col2\" class=\"col_heading level0 col2\" >recall@50</th>\n",
       "      <th id=\"T_71fa4_level0_col3\" class=\"col_heading level0 col3\" >ndcg@50</th>\n",
       "      <th id=\"T_71fa4_level0_col4\" class=\"col_heading level0 col4\" >recall@200</th>\n",
       "      <th id=\"T_71fa4_level0_col5\" class=\"col_heading level0 col5\" >ndcg@200</th>\n",
       "      <th id=\"T_71fa4_level0_col6\" class=\"col_heading level0 col6\" >coverage@10</th>\n",
       "      <th id=\"T_71fa4_level0_col7\" class=\"col_heading level0 col7\" >serendipity@10</th>\n",
       "    </tr>\n",
       "    <tr>\n",
       "      <th class=\"index_name level0\" >model</th>\n",
       "      <th class=\"blank col0\" >&nbsp;</th>\n",
       "      <th class=\"blank col1\" >&nbsp;</th>\n",
       "      <th class=\"blank col2\" >&nbsp;</th>\n",
       "      <th class=\"blank col3\" >&nbsp;</th>\n",
       "      <th class=\"blank col4\" >&nbsp;</th>\n",
       "      <th class=\"blank col5\" >&nbsp;</th>\n",
       "      <th class=\"blank col6\" >&nbsp;</th>\n",
       "      <th class=\"blank col7\" >&nbsp;</th>\n",
       "    </tr>\n",
       "  </thead>\n",
       "  <tbody>\n",
       "    <tr>\n",
       "      <th id=\"T_71fa4_level0_row0\" class=\"row_heading level0 row0\" >hstu</th>\n",
       "      <td id=\"T_71fa4_row0_col0\" class=\"data row0 col0\" >0.3076</td>\n",
       "      <td id=\"T_71fa4_row0_col1\" class=\"data row0 col1\" >0.1724</td>\n",
       "      <td id=\"T_71fa4_row0_col2\" class=\"data row0 col2\" >0.5818</td>\n",
       "      <td id=\"T_71fa4_row0_col3\" class=\"data row0 col3\" >0.2330</td>\n",
       "      <td id=\"T_71fa4_row0_col4\" class=\"data row0 col4\" >0.7825</td>\n",
       "      <td id=\"T_71fa4_row0_col5\" class=\"data row0 col5\" >0.2636</td>\n",
       "      <td id=\"T_71fa4_row0_col6\" class=\"data row0 col6\" >0.6274</td>\n",
       "      <td id=\"T_71fa4_row0_col7\" class=\"data row0 col7\" >0.0027</td>\n",
       "    </tr>\n",
       "    <tr>\n",
       "      <th id=\"T_71fa4_level0_row1\" class=\"row_heading level0 row1\" >hstu_large</th>\n",
       "      <td id=\"T_71fa4_row1_col0\" class=\"data row1 col0\" >0.3349</td>\n",
       "      <td id=\"T_71fa4_row1_col1\" class=\"data row1 col1\" >0.1891</td>\n",
       "      <td id=\"T_71fa4_row1_col2\" class=\"data row1 col2\" >0.5977</td>\n",
       "      <td id=\"T_71fa4_row1_col3\" class=\"data row1 col3\" >0.2474</td>\n",
       "      <td id=\"T_71fa4_row1_col4\" class=\"data row1 col4\" >0.7948</td>\n",
       "      <td id=\"T_71fa4_row1_col5\" class=\"data row1 col5\" >0.2775</td>\n",
       "      <td id=\"T_71fa4_row1_col6\" class=\"data row1 col6\" >0.6587</td>\n",
       "      <td id=\"T_71fa4_row1_col7\" class=\"data row1 col7\" >0.0029</td>\n",
       "    </tr>\n",
       "  </tbody>\n",
       "</table>\n"
      ]
     },
     "metadata": {},
     "output_type": "display_data"
    },
    {
     "data": {
      "text/plain": [
       "<Figure size 1000x600 with 1 Axes>"
      ],
      "image/png": "[encoded data removed]"
     },
     "metadata": {},
     "output_type": "display_data"
    }
   ],
   "execution_count": 5
  },
  {
   "metadata": {},
   "cell_type": "markdown",
   "source": "#### Comparison"
  },
  {
   "metadata": {},
   "cell_type": "markdown",
   "source": [
    "| Method              | HR@10  | NDCG@10 | HR@50  | NDCG@50 | HR@200 | NDCG@200 |\n",
    "|---------------------|--------|---------|--------|---------|--------|----------|\n",
    "| HSTU paper          | 0.3097 | 0.1720  | 0.5754 | 0.2307  | 0.7716 | 0.2606   |\n",
    "| HSTU RecTools       | 0.3076 | 0.1724  | 0.5818 | 0.2330  | 0.7825 | 0.2636   |\n",
    "| HSTU-large paper    | 0.3294 | 0.1893  | 0.5935 | 0.2481  | 0.7839 | 0.2771   |\n",
    "| HSTU-large RecTools | 0.3349 | 0.1891  | 0.5977 | 0.2474  | 0.7948 | 0.2775   |"
   ]
  },
  {
   "metadata": {},
   "cell_type": "markdown",
   "source": "Pad"
  },
  {
   "metadata": {
    "ExecuteTime": {
     "end_time": "2025-07-08T11:49:09.438727Z",
     "start_time": "2025-07-08T11:49:09.436011Z"
    }
   },
   "cell_type": "code",
   "source": "path_to_save_res = f\"pivot_results_RecTools_{dataset_name}.json\"",
   "outputs": [],
   "execution_count": 23
  },
  {
   "metadata": {
    "jupyter": {
     "is_executing": true
    },
    "ExecuteTime": {
     "start_time": "2025-07-08T11:49:18.673521Z"
    }
   },
   "cell_type": "code",
   "source": [
    "hstu  = HSTUModel(    \n",
    "    relative_time_attention=True,\n",
    "    relative_pos_attention=True,\n",
    "    **config\n",
    ")\n",
    "hstu_rab_p  = HSTUModel(    \n",
    "    relative_time_attention=False,\n",
    "    relative_pos_attention=True,\n",
    "    **config\n",
    ")\n",
    "hstu_rab_t  = HSTUModel(    \n",
    "    relative_time_attention=True,\n",
    "    relative_pos_attention=False,\n",
    "    **config\n",
    ")\n",
    "hstu_no_rab  = HSTUModel(    \n",
    "    relative_time_attention=False,\n",
    "    relative_pos_attention=False,\n",
    "    **config\n",
    ")\n",
    "sasrec = SASRecModel(\n",
    "    **config\n",
    ")\n",
    "models = {\n",
    "    \"hstu_rab_t\": hstu_rab_t,\n",
    "    \"hstu_rab_p\": hstu_rab_p,\n",
    "    \"hstu\": hstu,\n",
    "    \"hstu_no_rab\": hstu_no_rab,\n",
    "    \"sasrec\": sasrec,\n",
    "}\n",
    "original_df = get_original_df(\"ml-1m\")\n",
    "dataset_original = Dataset.construct(original_df)\n",
    "eval(models,loo_splitter,dataset_original,path_to_save_res)"
   ],
   "outputs": [
    {
     "name": "stderr",
     "output_type": "stream",
     "text": [
      "GPU available: True (cuda), used: True\n",
      "TPU available: False, using: 0 TPU cores\n",
      "HPU available: False, using: 0 HPUs\n",
      "GPU available: True (cuda), used: True\n",
      "TPU available: False, using: 0 TPU cores\n",
      "HPU available: False, using: 0 HPUs\n",
      "GPU available: True (cuda), used: True\n",
      "TPU available: False, using: 0 TPU cores\n",
      "HPU available: False, using: 0 HPUs\n",
      "GPU available: True (cuda), used: True\n",
      "TPU available: False, using: 0 TPU cores\n",
      "HPU available: False, using: 0 HPUs\n",
      "GPU available: True (cuda), used: True\n",
      "TPU available: False, using: 0 TPU cores\n",
      "HPU available: False, using: 0 HPUs\n",
      "You are using a CUDA device ('NVIDIA A100 80GB PCIe') that has Tensor Cores. To properly utilize them, you should set `torch.set_float32_matmul_precision('medium' | 'high')` which will trade-off precision for performance. For more details, read https://pytorch.org/docs/stable/generated/torch.set_float32_matmul_precision.html#torch.set_float32_matmul_precision\n",
      "LOCAL_RANK: 0 - CUDA_VISIBLE_DEVICES: [0]\n"
     ]
    },
    {
     "name": "stdout",
     "output_type": "stream",
     "text": [
      "item_model.item_net_blocks.0.ids_emb.weight torch.Size([3648, 50])\n",
      "pos_encoding_layer.pos_emb.weight torch.Size([200, 50])\n",
      "transformer_layers.stu_blocks.0.uvqk_proj torch.Size([50, 200])\n",
      "transformer_layers.stu_blocks.0.rel_attn.time_weights torch.Size([129])\n",
      "transformer_layers.stu_blocks.0.output_mlp.weight torch.Size([50, 50])\n",
      "transformer_layers.stu_blocks.0.output_mlp.bias torch.Size([50])\n",
      "transformer_layers.stu_blocks.0.norm_input.weight torch.Size([50])\n",
      "transformer_layers.stu_blocks.0.norm_input.bias torch.Size([50])\n",
      "transformer_layers.stu_blocks.0.norm_attn_output.weight torch.Size([50])\n",
      "transformer_layers.stu_blocks.0.norm_attn_output.bias torch.Size([50])\n",
      "transformer_layers.stu_blocks.1.uvqk_proj torch.Size([50, 200])\n",
      "transformer_layers.stu_blocks.1.rel_attn.time_weights torch.Size([129])\n",
      "transformer_layers.stu_blocks.1.output_mlp.weight torch.Size([50, 50])\n",
      "transformer_layers.stu_blocks.1.output_mlp.bias torch.Size([50])\n",
      "transformer_layers.stu_blocks.1.norm_input.weight torch.Size([50])\n",
      "transformer_layers.stu_blocks.1.norm_input.bias torch.Size([50])\n",
      "transformer_layers.stu_blocks.1.norm_attn_output.weight torch.Size([50])\n",
      "transformer_layers.stu_blocks.1.norm_attn_output.bias torch.Size([50])\n"
     ]
    },
    {
     "data": {
      "text/plain": [
       "Sanity Checking: |          | 0/? [00:00<?, ?it/s]"
      ],
      "application/vnd.jupyter.widget-view+json": {
       "version_major": 2,
       "version_minor": 0,
       "model_id": "63f3d9d3e5e44cd4947c142574dedcc5"
      }
     },
     "metadata": {},
     "output_type": "display_data"
    },
    {
     "data": {
      "text/plain": [
       "Training: |          | 0/? [00:00<?, ?it/s]"
      ],
      "application/vnd.jupyter.widget-view+json": {
       "version_major": 2,
       "version_minor": 0,
       "model_id": "76c359f0860547f3b9fc2982261fccbe"
      }
     },
     "metadata": {},
     "output_type": "display_data"
    },
    {
     "data": {
      "text/plain": [
       "Validation: |          | 0/? [00:00<?, ?it/s]"
      ],
      "application/vnd.jupyter.widget-view+json": {
       "version_major": 2,
       "version_minor": 0,
       "model_id": "7d5ff83b16c140ffa2e6c8592f1dde2a"
      }
     },
     "metadata": {},
     "output_type": "display_data"
    },
    {
     "data": {
      "text/plain": [
       "Validation: |          | 0/? [00:00<?, ?it/s]"
      ],
      "application/vnd.jupyter.widget-view+json": {
       "version_major": 2,
       "version_minor": 0,
       "model_id": "019d019976164a03a4230c2eaf2bd343"
      }
     },
     "metadata": {},
     "output_type": "display_data"
    },
    {
     "data": {
      "text/plain": [
       "Validation: |          | 0/? [00:00<?, ?it/s]"
      ],
      "application/vnd.jupyter.widget-view+json": {
       "version_major": 2,
       "version_minor": 0,
       "model_id": "bb107312701d43ef9d9f5376edf3719d"
      }
     },
     "metadata": {},
     "output_type": "display_data"
    },
    {
     "data": {
      "text/plain": [
       "Validation: |          | 0/? [00:00<?, ?it/s]"
      ],
      "application/vnd.jupyter.widget-view+json": {
       "version_major": 2,
       "version_minor": 0,
       "model_id": "03a26c9175df4131a6d776dc88cd3206"
      }
     },
     "metadata": {},
     "output_type": "display_data"
    },
    {
     "data": {
      "text/plain": [
       "Validation: |          | 0/? [00:00<?, ?it/s]"
      ],
      "application/vnd.jupyter.widget-view+json": {
       "version_major": 2,
       "version_minor": 0,
       "model_id": "f3877ad6ad0643b892590aef753b77f9"
      }
     },
     "metadata": {},
     "output_type": "display_data"
    },
    {
     "data": {
      "text/plain": [
       "Validation: |          | 0/? [00:00<?, ?it/s]"
      ],
      "application/vnd.jupyter.widget-view+json": {
       "version_major": 2,
       "version_minor": 0,
       "model_id": "8ba858ce7a7b466e9add9b4e0f3b3c5b"
      }
     },
     "metadata": {},
     "output_type": "display_data"
    },
    {
     "data": {
      "text/plain": [
       "Validation: |          | 0/? [00:00<?, ?it/s]"
      ],
      "application/vnd.jupyter.widget-view+json": {
       "version_major": 2,
       "version_minor": 0,
       "model_id": "11eb0ff938fc4f00948030610163973a"
      }
     },
     "metadata": {},
     "output_type": "display_data"
    },
    {
     "data": {
      "text/plain": [
       "Validation: |          | 0/? [00:00<?, ?it/s]"
      ],
      "application/vnd.jupyter.widget-view+json": {
       "version_major": 2,
       "version_minor": 0,
       "model_id": "cb80a2ed2e824e55857a9b5263e83939"
      }
     },
     "metadata": {},
     "output_type": "display_data"
    },
    {
     "data": {
      "text/plain": [
       "Validation: |          | 0/? [00:00<?, ?it/s]"
      ],
      "application/vnd.jupyter.widget-view+json": {
       "version_major": 2,
       "version_minor": 0,
       "model_id": "6b281470837f4e8a841f649040227397"
      }
     },
     "metadata": {},
     "output_type": "display_data"
    },
    {
     "data": {
      "text/plain": [
       "Validation: |          | 0/? [00:00<?, ?it/s]"
      ],
      "application/vnd.jupyter.widget-view+json": {
       "version_major": 2,
       "version_minor": 0,
       "model_id": "5ccd4bd2ec804ea6849c9fbe1e973ac7"
      }
     },
     "metadata": {},
     "output_type": "display_data"
    },
    {
     "data": {
      "text/plain": [
       "Validation: |          | 0/? [00:00<?, ?it/s]"
      ],
      "application/vnd.jupyter.widget-view+json": {
       "version_major": 2,
       "version_minor": 0,
       "model_id": "a25bb86065714a3c95590188e47a80cf"
      }
     },
     "metadata": {},
     "output_type": "display_data"
    },
    {
     "data": {
      "text/plain": [
       "Validation: |          | 0/? [00:00<?, ?it/s]"
      ],
      "application/vnd.jupyter.widget-view+json": {
       "version_major": 2,
       "version_minor": 0,
       "model_id": "a61b93b4ee0a4d3da5de738c7a6051b6"
      }
     },
     "metadata": {},
     "output_type": "display_data"
    },
    {
     "data": {
      "text/plain": [
       "Validation: |          | 0/? [00:00<?, ?it/s]"
      ],
      "application/vnd.jupyter.widget-view+json": {
       "version_major": 2,
       "version_minor": 0,
       "model_id": "ba8cdf63c2994062ab022f95a628becf"
      }
     },
     "metadata": {},
     "output_type": "display_data"
    },
    {
     "data": {
      "text/plain": [
       "Validation: |          | 0/? [00:00<?, ?it/s]"
      ],
      "application/vnd.jupyter.widget-view+json": {
       "version_major": 2,
       "version_minor": 0,
       "model_id": "66840df10fb9475da67c9f38e9e917bd"
      }
     },
     "metadata": {},
     "output_type": "display_data"
    },
    {
     "data": {
      "text/plain": [
       "Validation: |          | 0/? [00:00<?, ?it/s]"
      ],
      "application/vnd.jupyter.widget-view+json": {
       "version_major": 2,
       "version_minor": 0,
       "model_id": "4bfa76cc9cac491694d9d721936ccf26"
      }
     },
     "metadata": {},
     "output_type": "display_data"
    },
    {
     "data": {
      "text/plain": [
       "Validation: |          | 0/? [00:00<?, ?it/s]"
      ],
      "application/vnd.jupyter.widget-view+json": {
       "version_major": 2,
       "version_minor": 0,
       "model_id": "20ffbb9b083949348d703e425a0add46"
      }
     },
     "metadata": {},
     "output_type": "display_data"
    },
    {
     "data": {
      "text/plain": [
       "Validation: |          | 0/? [00:00<?, ?it/s]"
      ],
      "application/vnd.jupyter.widget-view+json": {
       "version_major": 2,
       "version_minor": 0,
       "model_id": "34a5c9fddba94c5f87e422694d6bd6f6"
      }
     },
     "metadata": {},
     "output_type": "display_data"
    },
    {
     "data": {
      "text/plain": [
       "Validation: |          | 0/? [00:00<?, ?it/s]"
      ],
      "application/vnd.jupyter.widget-view+json": {
       "version_major": 2,
       "version_minor": 0,
       "model_id": "238721c558ad4ce6a330241c306cc7f4"
      }
     },
     "metadata": {},
     "output_type": "display_data"
    },
    {
     "data": {
      "text/plain": [
       "Validation: |          | 0/? [00:00<?, ?it/s]"
      ],
      "application/vnd.jupyter.widget-view+json": {
       "version_major": 2,
       "version_minor": 0,
       "model_id": "7f1b0e4aa6bc4de0890d4e4a391f69e3"
      }
     },
     "metadata": {},
     "output_type": "display_data"
    },
    {
     "data": {
      "text/plain": [
       "Validation: |          | 0/? [00:00<?, ?it/s]"
      ],
      "application/vnd.jupyter.widget-view+json": {
       "version_major": 2,
       "version_minor": 0,
       "model_id": "de169f1e7a0d4f1d9027b785dc7ae5c1"
      }
     },
     "metadata": {},
     "output_type": "display_data"
    },
    {
     "data": {
      "text/plain": [
       "Validation: |          | 0/? [00:00<?, ?it/s]"
      ],
      "application/vnd.jupyter.widget-view+json": {
       "version_major": 2,
       "version_minor": 0,
       "model_id": "bddb072e6e7740eca417a68bcd2d6736"
      }
     },
     "metadata": {},
     "output_type": "display_data"
    },
    {
     "data": {
      "text/plain": [
       "Validation: |          | 0/? [00:00<?, ?it/s]"
      ],
      "application/vnd.jupyter.widget-view+json": {
       "version_major": 2,
       "version_minor": 0,
       "model_id": "d174fff208e44ba0a9e7fb14d89f9528"
      }
     },
     "metadata": {},
     "output_type": "display_data"
    },
    {
     "data": {
      "text/plain": [
       "Validation: |          | 0/? [00:00<?, ?it/s]"
      ],
      "application/vnd.jupyter.widget-view+json": {
       "version_major": 2,
       "version_minor": 0,
       "model_id": "ff90f0f6ab774b27acc42e4021671e24"
      }
     },
     "metadata": {},
     "output_type": "display_data"
    },
    {
     "data": {
      "text/plain": [
       "Validation: |          | 0/? [00:00<?, ?it/s]"
      ],
      "application/vnd.jupyter.widget-view+json": {
       "version_major": 2,
       "version_minor": 0,
       "model_id": "409c91acb531406ca1fd5ee2a8eb0a0d"
      }
     },
     "metadata": {},
     "output_type": "display_data"
    },
    {
     "data": {
      "text/plain": [
       "Validation: |          | 0/? [00:00<?, ?it/s]"
      ],
      "application/vnd.jupyter.widget-view+json": {
       "version_major": 2,
       "version_minor": 0,
       "model_id": "d8825631d22d48a4ac5eca601ac4d7d5"
      }
     },
     "metadata": {},
     "output_type": "display_data"
    },
    {
     "data": {
      "text/plain": [
       "Validation: |          | 0/? [00:00<?, ?it/s]"
      ],
      "application/vnd.jupyter.widget-view+json": {
       "version_major": 2,
       "version_minor": 0,
       "model_id": "b3b603a421ef47979665742af67ace5d"
      }
     },
     "metadata": {},
     "output_type": "display_data"
    },
    {
     "data": {
      "text/plain": [
       "Validation: |          | 0/? [00:00<?, ?it/s]"
      ],
      "application/vnd.jupyter.widget-view+json": {
       "version_major": 2,
       "version_minor": 0,
       "model_id": "7b1776fedc4a4d9ab6a87b2b1fa41423"
      }
     },
     "metadata": {},
     "output_type": "display_data"
    },
    {
     "data": {
      "text/plain": [
       "Validation: |          | 0/? [00:00<?, ?it/s]"
      ],
      "application/vnd.jupyter.widget-view+json": {
       "version_major": 2,
       "version_minor": 0,
       "model_id": "41de8a01312c4c7faf0034e774f995d9"
      }
     },
     "metadata": {},
     "output_type": "display_data"
    },
    {
     "data": {
      "text/plain": [
       "Validation: |          | 0/? [00:00<?, ?it/s]"
      ],
      "application/vnd.jupyter.widget-view+json": {
       "version_major": 2,
       "version_minor": 0,
       "model_id": "86de6bac03de49e29061eb167a344950"
      }
     },
     "metadata": {},
     "output_type": "display_data"
    },
    {
     "data": {
      "text/plain": [
       "Validation: |          | 0/? [00:00<?, ?it/s]"
      ],
      "application/vnd.jupyter.widget-view+json": {
       "version_major": 2,
       "version_minor": 0,
       "model_id": "97b6cc78e951425d8bf0379c60123193"
      }
     },
     "metadata": {},
     "output_type": "display_data"
    },
    {
     "data": {
      "text/plain": [
       "Validation: |          | 0/? [00:00<?, ?it/s]"
      ],
      "application/vnd.jupyter.widget-view+json": {
       "version_major": 2,
       "version_minor": 0,
       "model_id": "9080d7540b034e5792c3a6a19c63f9b1"
      }
     },
     "metadata": {},
     "output_type": "display_data"
    },
    {
     "data": {
      "text/plain": [
       "Validation: |          | 0/? [00:00<?, ?it/s]"
      ],
      "application/vnd.jupyter.widget-view+json": {
       "version_major": 2,
       "version_minor": 0,
       "model_id": "e7aafbc1946c40d0a8fd95a1093bb2b8"
      }
     },
     "metadata": {},
     "output_type": "display_data"
    },
    {
     "data": {
      "text/plain": [
       "Validation: |          | 0/? [00:00<?, ?it/s]"
      ],
      "application/vnd.jupyter.widget-view+json": {
       "version_major": 2,
       "version_minor": 0,
       "model_id": "07b5498b5f3b4e50b8f94ac5a0eefbfb"
      }
     },
     "metadata": {},
     "output_type": "display_data"
    },
    {
     "data": {
      "text/plain": [
       "Validation: |          | 0/? [00:00<?, ?it/s]"
      ],
      "application/vnd.jupyter.widget-view+json": {
       "version_major": 2,
       "version_minor": 0,
       "model_id": "a6392ec3aec04222ba115e48aabb0f1e"
      }
     },
     "metadata": {},
     "output_type": "display_data"
    },
    {
     "data": {
      "text/plain": [
       "Validation: |          | 0/? [00:00<?, ?it/s]"
      ],
      "application/vnd.jupyter.widget-view+json": {
       "version_major": 2,
       "version_minor": 0,
       "model_id": "dea1b107f31d4f7390ea19f12d741f36"
      }
     },
     "metadata": {},
     "output_type": "display_data"
    },
    {
     "data": {
      "text/plain": [
       "Validation: |          | 0/? [00:00<?, ?it/s]"
      ],
      "application/vnd.jupyter.widget-view+json": {
       "version_major": 2,
       "version_minor": 0,
       "model_id": "670523128db04611b4dc2aea77d8e774"
      }
     },
     "metadata": {},
     "output_type": "display_data"
    },
    {
     "data": {
      "text/plain": [
       "Validation: |          | 0/? [00:00<?, ?it/s]"
      ],
      "application/vnd.jupyter.widget-view+json": {
       "version_major": 2,
       "version_minor": 0,
       "model_id": "190795bf70e54686b76b2170b6fb4e05"
      }
     },
     "metadata": {},
     "output_type": "display_data"
    },
    {
     "data": {
      "text/plain": [
       "Validation: |          | 0/? [00:00<?, ?it/s]"
      ],
      "application/vnd.jupyter.widget-view+json": {
       "version_major": 2,
       "version_minor": 0,
       "model_id": "ba0af69f867047d8a64e5cfd6467ce44"
      }
     },
     "metadata": {},
     "output_type": "display_data"
    },
    {
     "data": {
      "text/plain": [
       "Validation: |          | 0/? [00:00<?, ?it/s]"
      ],
      "application/vnd.jupyter.widget-view+json": {
       "version_major": 2,
       "version_minor": 0,
       "model_id": "34c00d077b0642659d144c422e7c5095"
      }
     },
     "metadata": {},
     "output_type": "display_data"
    },
    {
     "data": {
      "text/plain": [
       "Validation: |          | 0/? [00:00<?, ?it/s]"
      ],
      "application/vnd.jupyter.widget-view+json": {
       "version_major": 2,
       "version_minor": 0,
       "model_id": "1a8606d527b34f62a370cd606b4fec5c"
      }
     },
     "metadata": {},
     "output_type": "display_data"
    },
    {
     "data": {
      "text/plain": [
       "Validation: |          | 0/? [00:00<?, ?it/s]"
      ],
      "application/vnd.jupyter.widget-view+json": {
       "version_major": 2,
       "version_minor": 0,
       "model_id": "2fad350a1f6b4cf9a823c539bd46d2db"
      }
     },
     "metadata": {},
     "output_type": "display_data"
    },
    {
     "data": {
      "text/plain": [
       "Validation: |          | 0/? [00:00<?, ?it/s]"
      ],
      "application/vnd.jupyter.widget-view+json": {
       "version_major": 2,
       "version_minor": 0,
       "model_id": "a6a4dd90f5474df9906a109c59db9de8"
      }
     },
     "metadata": {},
     "output_type": "display_data"
    },
    {
     "data": {
      "text/plain": [
       "Validation: |          | 0/? [00:00<?, ?it/s]"
      ],
      "application/vnd.jupyter.widget-view+json": {
       "version_major": 2,
       "version_minor": 0,
       "model_id": "ad6ef8fa83e14f0a955dc68a2282e1ab"
      }
     },
     "metadata": {},
     "output_type": "display_data"
    },
    {
     "data": {
      "text/plain": [
       "Validation: |          | 0/? [00:00<?, ?it/s]"
      ],
      "application/vnd.jupyter.widget-view+json": {
       "version_major": 2,
       "version_minor": 0,
       "model_id": "f85e7d80557543eb9d3748fb680bd372"
      }
     },
     "metadata": {},
     "output_type": "display_data"
    }
   ],
   "execution_count": null
  },
  {
   "metadata": {
    "ExecuteTime": {
     "end_time": "2025-07-07T19:30:59.335582600Z",
     "start_time": "2025-07-07T00:19:08.932263Z"
    }
   },
   "cell_type": "code",
   "source": "show_results(path_to_save_res, show_loss=False)",
   "outputs": [
    {
     "data": {
      "text/plain": [
       "<pandas.io.formats.style.Styler at 0x701065740220>"
      ],
      "text/html": [
       "<style type=\"text/css\">\n",
       "#T_0f686_row0_col0 {\n",
       "  text-align: center;\n",
       "  background-color: #084488;\n",
       "  color: #f1f1f1;\n",
       "}\n",
       "#T_0f686_row0_col1 {\n",
       "  text-align: center;\n",
       "  background-color: #083471;\n",
       "  color: #f1f1f1;\n",
       "}\n",
       "#T_0f686_row0_col2 {\n",
       "  text-align: center;\n",
       "  background-color: #083a7a;\n",
       "  color: #f1f1f1;\n",
       "}\n",
       "#T_0f686_row0_col3 {\n",
       "  text-align: center;\n",
       "  background-color: #083e81;\n",
       "  color: #f1f1f1;\n",
       "}\n",
       "#T_0f686_row1_col0 {\n",
       "  text-align: center;\n",
       "  background-color: #61a7d2;\n",
       "  color: #f1f1f1;\n",
       "}\n",
       "#T_0f686_row1_col1 {\n",
       "  text-align: center;\n",
       "  background-color: #6aaed6;\n",
       "  color: #f1f1f1;\n",
       "}\n",
       "#T_0f686_row1_col2 {\n",
       "  text-align: center;\n",
       "  background-color: #5aa2cf;\n",
       "  color: #f1f1f1;\n",
       "}\n",
       "#T_0f686_row1_col3 {\n",
       "  text-align: center;\n",
       "  background-color: #71b1d7;\n",
       "  color: #f1f1f1;\n",
       "}\n",
       "#T_0f686_row2_col0, #T_0f686_row2_col1, #T_0f686_row2_col2, #T_0f686_row2_col3 {\n",
       "  text-align: center;\n",
       "  background-color: #08306b;\n",
       "  color: #f1f1f1;\n",
       "}\n",
       "#T_0f686_row3_col0 {\n",
       "  text-align: center;\n",
       "  background-color: #c4daee;\n",
       "  color: #000000;\n",
       "}\n",
       "#T_0f686_row3_col1, #T_0f686_row3_col2 {\n",
       "  text-align: center;\n",
       "  background-color: #c3daee;\n",
       "  color: #000000;\n",
       "}\n",
       "#T_0f686_row3_col3 {\n",
       "  text-align: center;\n",
       "  background-color: #c9ddf0;\n",
       "  color: #000000;\n",
       "}\n",
       "#T_0f686_row4_col0, #T_0f686_row4_col1, #T_0f686_row4_col2, #T_0f686_row4_col3 {\n",
       "  text-align: center;\n",
       "  background-color: #f7fbff;\n",
       "  color: #000000;\n",
       "}\n",
       "</style>\n",
       "<table id=\"T_0f686\">\n",
       "  <caption>NDCG Metrics Comparison</caption>\n",
       "  <thead>\n",
       "    <tr>\n",
       "      <th class=\"blank level0\" >&nbsp;</th>\n",
       "      <th id=\"T_0f686_level0_col0\" class=\"col_heading level0 col0\" >ndcg@10</th>\n",
       "      <th id=\"T_0f686_level0_col1\" class=\"col_heading level0 col1\" >ndcg@50</th>\n",
       "      <th id=\"T_0f686_level0_col2\" class=\"col_heading level0 col2\" >ndcg@100</th>\n",
       "      <th id=\"T_0f686_level0_col3\" class=\"col_heading level0 col3\" >ndcg@200</th>\n",
       "    </tr>\n",
       "    <tr>\n",
       "      <th class=\"index_name level0\" >model</th>\n",
       "      <th class=\"blank col0\" >&nbsp;</th>\n",
       "      <th class=\"blank col1\" >&nbsp;</th>\n",
       "      <th class=\"blank col2\" >&nbsp;</th>\n",
       "      <th class=\"blank col3\" >&nbsp;</th>\n",
       "    </tr>\n",
       "  </thead>\n",
       "  <tbody>\n",
       "    <tr>\n",
       "      <th id=\"T_0f686_level0_row0\" class=\"row_heading level0 row0\" >hstu_rab_t</th>\n",
       "      <td id=\"T_0f686_row0_col0\" class=\"data row0 col0\" >0.1858</td>\n",
       "      <td id=\"T_0f686_row0_col1\" class=\"data row0 col1\" >0.2458</td>\n",
       "      <td id=\"T_0f686_row0_col2\" class=\"data row0 col2\" >0.2614</td>\n",
       "      <td id=\"T_0f686_row0_col3\" class=\"data row0 col3\" >0.2743</td>\n",
       "    </tr>\n",
       "    <tr>\n",
       "      <th id=\"T_0f686_level0_row1\" class=\"row_heading level0 row1\" >hstu_rab_p</th>\n",
       "      <td id=\"T_0f686_row1_col0\" class=\"data row1 col0\" >0.1763</td>\n",
       "      <td id=\"T_0f686_row1_col1\" class=\"data row1 col1\" >0.2339</td>\n",
       "      <td id=\"T_0f686_row1_col2\" class=\"data row1 col2\" >0.2522</td>\n",
       "      <td id=\"T_0f686_row1_col3\" class=\"data row1 col3\" >0.2646</td>\n",
       "    </tr>\n",
       "    <tr>\n",
       "      <th id=\"T_0f686_level0_row2\" class=\"row_heading level0 row2\" >hstu</th>\n",
       "      <td id=\"T_0f686_row2_col0\" class=\"data row2 col0\" >0.1876</td>\n",
       "      <td id=\"T_0f686_row2_col1\" class=\"data row2 col1\" >0.2462</td>\n",
       "      <td id=\"T_0f686_row2_col2\" class=\"data row2 col2\" >0.2623</td>\n",
       "      <td id=\"T_0f686_row2_col3\" class=\"data row2 col3\" >0.2756</td>\n",
       "    </tr>\n",
       "    <tr>\n",
       "      <th id=\"T_0f686_level0_row3\" class=\"row_heading level0 row3\" >hstu_no_rab</th>\n",
       "      <td id=\"T_0f686_row3_col0\" class=\"data row3 col0\" >0.1698</td>\n",
       "      <td id=\"T_0f686_row3_col1\" class=\"data row3 col1\" >0.2279</td>\n",
       "      <td id=\"T_0f686_row3_col2\" class=\"data row3 col2\" >0.2456</td>\n",
       "      <td id=\"T_0f686_row3_col3\" class=\"data row3 col3\" >0.2592</td>\n",
       "    </tr>\n",
       "    <tr>\n",
       "      <th id=\"T_0f686_level0_row4\" class=\"row_heading level0 row4\" >sasrec</th>\n",
       "      <td id=\"T_0f686_row4_col0\" class=\"data row4 col0\" >0.1636</td>\n",
       "      <td id=\"T_0f686_row4_col1\" class=\"data row4 col1\" >0.2214</td>\n",
       "      <td id=\"T_0f686_row4_col2\" class=\"data row4 col2\" >0.2397</td>\n",
       "      <td id=\"T_0f686_row4_col3\" class=\"data row4 col3\" >0.2541</td>\n",
       "    </tr>\n",
       "  </tbody>\n",
       "</table>\n"
      ]
     },
     "metadata": {},
     "output_type": "display_data"
    },
    {
     "data": {
      "text/plain": [
       "<pandas.io.formats.style.Styler at 0x701065740220>"
      ],
      "text/html": [
       "<style type=\"text/css\">\n",
       "#T_a4e51_row0_col0 {\n",
       "  text-align: center;\n",
       "  background-color: #0b559f;\n",
       "  color: #f1f1f1;\n",
       "}\n",
       "#T_a4e51_row0_col1 {\n",
       "  text-align: center;\n",
       "  background-color: #083573;\n",
       "  color: #f1f1f1;\n",
       "}\n",
       "#T_a4e51_row0_col2 {\n",
       "  text-align: center;\n",
       "  background-color: #08509b;\n",
       "  color: #f1f1f1;\n",
       "}\n",
       "#T_a4e51_row0_col3 {\n",
       "  text-align: center;\n",
       "  background-color: #2b7bba;\n",
       "  color: #f1f1f1;\n",
       "}\n",
       "#T_a4e51_row1_col0 {\n",
       "  text-align: center;\n",
       "  background-color: #5da5d1;\n",
       "  color: #f1f1f1;\n",
       "}\n",
       "#T_a4e51_row1_col1 {\n",
       "  text-align: center;\n",
       "  background-color: #82bbdb;\n",
       "  color: #000000;\n",
       "}\n",
       "#T_a4e51_row1_col2 {\n",
       "  text-align: center;\n",
       "  background-color: #3787c0;\n",
       "  color: #f1f1f1;\n",
       "}\n",
       "#T_a4e51_row1_col3 {\n",
       "  text-align: center;\n",
       "  background-color: #c8dcf0;\n",
       "  color: #000000;\n",
       "}\n",
       "#T_a4e51_row2_col0, #T_a4e51_row2_col1, #T_a4e51_row2_col2, #T_a4e51_row2_col3 {\n",
       "  text-align: center;\n",
       "  background-color: #08306b;\n",
       "  color: #f1f1f1;\n",
       "}\n",
       "#T_a4e51_row3_col0 {\n",
       "  text-align: center;\n",
       "  background-color: #cddff1;\n",
       "  color: #000000;\n",
       "}\n",
       "#T_a4e51_row3_col1, #T_a4e51_row3_col2 {\n",
       "  text-align: center;\n",
       "  background-color: #cadef0;\n",
       "  color: #000000;\n",
       "}\n",
       "#T_a4e51_row3_col3 {\n",
       "  text-align: center;\n",
       "  background-color: #eef5fc;\n",
       "  color: #000000;\n",
       "}\n",
       "#T_a4e51_row4_col0, #T_a4e51_row4_col1, #T_a4e51_row4_col2, #T_a4e51_row4_col3 {\n",
       "  text-align: center;\n",
       "  background-color: #f7fbff;\n",
       "  color: #000000;\n",
       "}\n",
       "</style>\n",
       "<table id=\"T_a4e51\">\n",
       "  <caption>Recall Metrics Comparison</caption>\n",
       "  <thead>\n",
       "    <tr>\n",
       "      <th class=\"blank level0\" >&nbsp;</th>\n",
       "      <th id=\"T_a4e51_level0_col0\" class=\"col_heading level0 col0\" >recall@10</th>\n",
       "      <th id=\"T_a4e51_level0_col1\" class=\"col_heading level0 col1\" >recall@50</th>\n",
       "      <th id=\"T_a4e51_level0_col2\" class=\"col_heading level0 col2\" >recall@100</th>\n",
       "      <th id=\"T_a4e51_level0_col3\" class=\"col_heading level0 col3\" >recall@200</th>\n",
       "    </tr>\n",
       "    <tr>\n",
       "      <th class=\"index_name level0\" >model</th>\n",
       "      <th class=\"blank col0\" >&nbsp;</th>\n",
       "      <th class=\"blank col1\" >&nbsp;</th>\n",
       "      <th class=\"blank col2\" >&nbsp;</th>\n",
       "      <th class=\"blank col3\" >&nbsp;</th>\n",
       "    </tr>\n",
       "  </thead>\n",
       "  <tbody>\n",
       "    <tr>\n",
       "      <th id=\"T_a4e51_level0_row0\" class=\"row_heading level0 row0\" >hstu_rab_t</th>\n",
       "      <td id=\"T_a4e51_row0_col0\" class=\"data row0 col0\" >0.3228</td>\n",
       "      <td id=\"T_a4e51_row0_col1\" class=\"data row0 col1\" >0.5936</td>\n",
       "      <td id=\"T_a4e51_row0_col2\" class=\"data row0 col2\" >0.6896</td>\n",
       "      <td id=\"T_a4e51_row0_col3\" class=\"data row0 col3\" >0.7817</td>\n",
       "    </tr>\n",
       "    <tr>\n",
       "      <th id=\"T_a4e51_level0_row1\" class=\"row_heading level0 row1\" >hstu_rab_p</th>\n",
       "      <td id=\"T_a4e51_row1_col0\" class=\"data row1 col0\" >0.3105</td>\n",
       "      <td id=\"T_a4e51_row1_col1\" class=\"data row1 col1\" >0.5704</td>\n",
       "      <td id=\"T_a4e51_row1_col2\" class=\"data row1 col2\" >0.6833</td>\n",
       "      <td id=\"T_a4e51_row1_col3\" class=\"data row1 col3\" >0.7716</td>\n",
       "    </tr>\n",
       "    <tr>\n",
       "      <th id=\"T_a4e51_level0_row2\" class=\"row_heading level0 row2\" >hstu</th>\n",
       "      <td id=\"T_a4e51_row2_col0\" class=\"data row2 col0\" >0.3284</td>\n",
       "      <td id=\"T_a4e51_row2_col1\" class=\"data row2 col1\" >0.5946</td>\n",
       "      <td id=\"T_a4e51_row2_col2\" class=\"data row2 col2\" >0.6933</td>\n",
       "      <td id=\"T_a4e51_row2_col3\" class=\"data row2 col3\" >0.7878</td>\n",
       "    </tr>\n",
       "    <tr>\n",
       "      <th id=\"T_a4e51_level0_row3\" class=\"row_heading level0 row3\" >hstu_no_rab</th>\n",
       "      <td id=\"T_a4e51_row3_col0\" class=\"data row3 col0\" >0.2978</td>\n",
       "      <td id=\"T_a4e51_row3_col1\" class=\"data row3 col1\" >0.5611</td>\n",
       "      <td id=\"T_a4e51_row3_col2\" class=\"data row3 col2\" >0.6704</td>\n",
       "      <td id=\"T_a4e51_row3_col3\" class=\"data row3 col3\" >0.7675</td>\n",
       "    </tr>\n",
       "    <tr>\n",
       "      <th id=\"T_a4e51_level0_row4\" class=\"row_heading level0 row4\" >sasrec</th>\n",
       "      <td id=\"T_a4e51_row4_col0\" class=\"data row4 col0\" >0.2893</td>\n",
       "      <td id=\"T_a4e51_row4_col1\" class=\"data row4 col1\" >0.5512</td>\n",
       "      <td id=\"T_a4e51_row4_col2\" class=\"data row4 col2\" >0.6636</td>\n",
       "      <td id=\"T_a4e51_row4_col3\" class=\"data row4 col3\" >0.7665</td>\n",
       "    </tr>\n",
       "  </tbody>\n",
       "</table>\n"
      ]
     },
     "metadata": {},
     "output_type": "display_data"
    },
    {
     "data": {
      "text/plain": [
       "<pandas.io.formats.style.Styler at 0x700fee33f910>"
      ],
      "text/html": [
       "<style type=\"text/css\">\n",
       "#T_8e7a3_row0_col0 {\n",
       "  text-align: center;\n",
       "  background-color: #6aaed6;\n",
       "  color: #f1f1f1;\n",
       "}\n",
       "#T_8e7a3_row0_col1 {\n",
       "  text-align: center;\n",
       "  background-color: #56a0ce;\n",
       "  color: #f1f1f1;\n",
       "}\n",
       "#T_8e7a3_row0_col2, #T_8e7a3_row0_col3, #T_8e7a3_row1_col2, #T_8e7a3_row1_col3, #T_8e7a3_row2_col2, #T_8e7a3_row2_col3, #T_8e7a3_row3_col1, #T_8e7a3_row3_col2, #T_8e7a3_row3_col3, #T_8e7a3_row3_col4, #T_8e7a3_row4_col0, #T_8e7a3_row4_col2, #T_8e7a3_row4_col3 {\n",
       "  text-align: center;\n",
       "  background-color: #f7fbff;\n",
       "  color: #000000;\n",
       "}\n",
       "#T_8e7a3_row0_col4, #T_8e7a3_row2_col0, #T_8e7a3_row4_col1 {\n",
       "  text-align: center;\n",
       "  background-color: #08306b;\n",
       "  color: #f1f1f1;\n",
       "}\n",
       "#T_8e7a3_row1_col0 {\n",
       "  text-align: center;\n",
       "  background-color: #a8cee4;\n",
       "  color: #000000;\n",
       "}\n",
       "#T_8e7a3_row1_col1 {\n",
       "  text-align: center;\n",
       "  background-color: #7fb9da;\n",
       "  color: #000000;\n",
       "}\n",
       "#T_8e7a3_row1_col4 {\n",
       "  text-align: center;\n",
       "  background-color: #4493c7;\n",
       "  color: #f1f1f1;\n",
       "}\n",
       "#T_8e7a3_row2_col1 {\n",
       "  text-align: center;\n",
       "  background-color: #ccdff1;\n",
       "  color: #000000;\n",
       "}\n",
       "#T_8e7a3_row2_col4 {\n",
       "  text-align: center;\n",
       "  background-color: #084f99;\n",
       "  color: #f1f1f1;\n",
       "}\n",
       "#T_8e7a3_row3_col0 {\n",
       "  text-align: center;\n",
       "  background-color: #74b3d8;\n",
       "  color: #000000;\n",
       "}\n",
       "#T_8e7a3_row4_col4 {\n",
       "  text-align: center;\n",
       "  background-color: #edf4fc;\n",
       "  color: #000000;\n",
       "}\n",
       "</style>\n",
       "<table id=\"T_8e7a3\">\n",
       "  <caption>Additional Metrics Comparison</caption>\n",
       "  <thead>\n",
       "    <tr>\n",
       "      <th class=\"blank level0\" >&nbsp;</th>\n",
       "      <th id=\"T_8e7a3_level0_col0\" class=\"col_heading level0 col0\" >arp@10</th>\n",
       "      <th id=\"T_8e7a3_level0_col1\" class=\"col_heading level0 col1\" >coverage@10</th>\n",
       "      <th id=\"T_8e7a3_level0_col2\" class=\"col_heading level0 col2\" >covered_users@10</th>\n",
       "      <th id=\"T_8e7a3_level0_col3\" class=\"col_heading level0 col3\" >sufficient_reco@10</th>\n",
       "      <th id=\"T_8e7a3_level0_col4\" class=\"col_heading level0 col4\" >serendipity@10</th>\n",
       "    </tr>\n",
       "    <tr>\n",
       "      <th class=\"index_name level0\" >model</th>\n",
       "      <th class=\"blank col0\" >&nbsp;</th>\n",
       "      <th class=\"blank col1\" >&nbsp;</th>\n",
       "      <th class=\"blank col2\" >&nbsp;</th>\n",
       "      <th class=\"blank col3\" >&nbsp;</th>\n",
       "      <th class=\"blank col4\" >&nbsp;</th>\n",
       "    </tr>\n",
       "  </thead>\n",
       "  <tbody>\n",
       "    <tr>\n",
       "      <th id=\"T_8e7a3_level0_row0\" class=\"row_heading level0 row0\" >hstu_rab_t</th>\n",
       "      <td id=\"T_8e7a3_row0_col0\" class=\"data row0 col0\" >0.0009</td>\n",
       "      <td id=\"T_8e7a3_row0_col1\" class=\"data row0 col1\" >0.6617</td>\n",
       "      <td id=\"T_8e7a3_row0_col2\" class=\"data row0 col2\" >1.0000</td>\n",
       "      <td id=\"T_8e7a3_row0_col3\" class=\"data row0 col3\" >1.0000</td>\n",
       "      <td id=\"T_8e7a3_row0_col4\" class=\"data row0 col4\" >0.0029</td>\n",
       "    </tr>\n",
       "    <tr>\n",
       "      <th id=\"T_8e7a3_level0_row1\" class=\"row_heading level0 row1\" >hstu_rab_p</th>\n",
       "      <td id=\"T_8e7a3_row1_col0\" class=\"data row1 col0\" >0.0009</td>\n",
       "      <td id=\"T_8e7a3_row1_col1\" class=\"data row1 col1\" >0.6577</td>\n",
       "      <td id=\"T_8e7a3_row1_col2\" class=\"data row1 col2\" >1.0000</td>\n",
       "      <td id=\"T_8e7a3_row1_col3\" class=\"data row1 col3\" >1.0000</td>\n",
       "      <td id=\"T_8e7a3_row1_col4\" class=\"data row1 col4\" >0.0028</td>\n",
       "    </tr>\n",
       "    <tr>\n",
       "      <th id=\"T_8e7a3_level0_row2\" class=\"row_heading level0 row2\" >hstu</th>\n",
       "      <td id=\"T_8e7a3_row2_col0\" class=\"data row2 col0\" >0.0009</td>\n",
       "      <td id=\"T_8e7a3_row2_col1\" class=\"data row2 col1\" >0.6493</td>\n",
       "      <td id=\"T_8e7a3_row2_col2\" class=\"data row2 col2\" >1.0000</td>\n",
       "      <td id=\"T_8e7a3_row2_col3\" class=\"data row2 col3\" >1.0000</td>\n",
       "      <td id=\"T_8e7a3_row2_col4\" class=\"data row2 col4\" >0.0028</td>\n",
       "    </tr>\n",
       "    <tr>\n",
       "      <th id=\"T_8e7a3_level0_row3\" class=\"row_heading level0 row3\" >hstu_no_rab</th>\n",
       "      <td id=\"T_8e7a3_row3_col0\" class=\"data row3 col0\" >0.0009</td>\n",
       "      <td id=\"T_8e7a3_row3_col1\" class=\"data row3 col1\" >0.6412</td>\n",
       "      <td id=\"T_8e7a3_row3_col2\" class=\"data row3 col2\" >1.0000</td>\n",
       "      <td id=\"T_8e7a3_row3_col3\" class=\"data row3 col3\" >1.0000</td>\n",
       "      <td id=\"T_8e7a3_row3_col4\" class=\"data row3 col4\" >0.0026</td>\n",
       "    </tr>\n",
       "    <tr>\n",
       "      <th id=\"T_8e7a3_level0_row4\" class=\"row_heading level0 row4\" >sasrec</th>\n",
       "      <td id=\"T_8e7a3_row4_col0\" class=\"data row4 col0\" >0.0008</td>\n",
       "      <td id=\"T_8e7a3_row4_col1\" class=\"data row4 col1\" >0.6776</td>\n",
       "      <td id=\"T_8e7a3_row4_col2\" class=\"data row4 col2\" >1.0000</td>\n",
       "      <td id=\"T_8e7a3_row4_col3\" class=\"data row4 col3\" >1.0000</td>\n",
       "      <td id=\"T_8e7a3_row4_col4\" class=\"data row4 col4\" >0.0026</td>\n",
       "    </tr>\n",
       "  </tbody>\n",
       "</table>\n"
      ]
     },
     "metadata": {},
     "output_type": "display_data"
    },
    {
     "data": {
      "text/plain": [
       "<Figure size 1200x1200 with 6 Axes>"
      ],
      "image/png": "[encoded data removed]"
     },
     "metadata": {},
     "output_type": "display_data"
    },
    {
     "data": {
      "text/plain": [
       "<Figure size 1000x600 with 1 Axes>"
      ],
      "image/png": "[encoded data removed]"
     },
     "metadata": {},
     "output_type": "display_data"
    }
   ],
   "execution_count": 63
  },
  {
   "metadata": {},
   "cell_type": "code",
   "outputs": [],
   "execution_count": null,
   "source": ""
  }
 ],
 "metadata": {
  "kernelspec": {
   "display_name": ".venv",
   "language": "python",
   "name": "python3"
  },
  "language_info": {
   "codemirror_mode": {
    "name": "ipython",
    "version": 3
   },
   "file_extension": ".py",
   "mimetype": "text/x-python",
   "name": "python",
   "nbconvert_exporter": "python",
   "pygments_lexer": "ipython3",
   "version": "3.10.13"
  }
 },
 "nbformat": 4,
 "nbformat_minor": 2
}
