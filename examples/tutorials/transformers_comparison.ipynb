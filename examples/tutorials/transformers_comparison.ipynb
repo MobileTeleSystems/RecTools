{
 "cells": [
  {
   "cell_type": "markdown",
   "metadata": {},
   "source": [
    "# Transformer comparison *HSTU* to *SASRec*\n",
    "This guide tells about *Hierarchical Sequential Transduction Unit* *(HSTU)* - self-attention mechanism proposed in paper \"Actions Speak Louder than Words: Trillion-Parameter Sequential Transducers\n",
    "for Generative Recommendations\n",
    "\". Also we show RecTools implementation metrics results on datasets movielens-1m and movielens-20m preprocessed by authors of the paper and preprocessed by RecTools framework\n",
    "\n",
    "### Table of Contents\n",
    "\n",
    "*  Review of HSTU\n",
    "*  Reproduce RecTools implementation in fully original paper setup\n",
    "*  Variation relative positional and time attentions\n",
    "*  Time context implementation details \n",
    "  \n"
   ]
  },
  {
   "metadata": {},
   "cell_type": "markdown",
   "source": "### Review of *HSTU*"
  },
  {
   "metadata": {},
   "cell_type": "markdown",
   "source": [
    "*HSTU* - is self-attention mechanism challenging recommendation systems problems. We make short overview.\n",
    "\n",
    "It was important to say that the hierarchy of the *HSTU* lies in the way\n",
    "it builds a unified sequence of features. In the case of *DLRM*, this is an end-to-end\n",
    "accounting of all features in one training example, *HSTU* selectively takes features to\n",
    "build contextual embeddings,passed to the beginning of sequence, to form\n",
    "the main sequence of the user's interaction history. In a simple case, by a unified sequence, we will simply mean a sequence of user interactions, even without interleaving with actions. In this setup paper metrics are shown. Paper training setup is shifted sequence, but also proposed approach emitting several training examples at the end of sequence for industrial scale setup for reducing steaming fine-tune training time complexity."
   ]
  },
  {
   "metadata": {},
   "cell_type": "raw",
   "source": ""
  },
  {
   "metadata": {},
   "cell_type": "markdown",
   "source": [
    "\n",
    "<div style=\"text-align:center\">\n",
    "    <img src=\"src/hstu_overview.png\" alt=\"Описание\" width=\"30%\">\n",
    "</div>"
   ]
  },
  {
   "metadata": {},
   "cell_type": "markdown",
   "source": [
    "\\begin{equation}\n",
    "U(X), V(X), Q(X), K(X) = \\text{Split}(\\phi_1(f_1(X))) \\tag{1}\n",
    "\\end{equation}\n",
    "\n",
    "\\begin{equation}\n",
    "A(X)V(X) = \\frac{\\phi_2 \\left( Q(X)K(X)^T + \\text{rab}^{p,t} \\right) V(X)}{N} \\tag{2}\n",
    "\\end{equation}\n",
    "\n",
    "\\begin{equation}\n",
    "Y(X) = f_2 \\left( \\text{Norm}(A(X)V(X)) \\odot U(X) \\right) \\tag{3}\n",
    "\\end{equation}"
   ]
  },
  {
   "metadata": {},
   "cell_type": "markdown",
   "source": "where $ f_{i} $ is a linear mapping, $\\phi$ is the SiLU function, and $\\text{rab}^{p,t} $ is the sum of two attention matrices: relative positional attention  and relative time attention. The first important change is the use of elementwise SiLU instead of SoftMax. This approach allows for faster learning in a setting where the set of items is constantly changing. Moreover, the denominator of the softmax normalizes attention, capturing all the previous context of user interactions, and this is not always justified. SiLU changes the absolute value of token-to-token attention. The second change is the weighting of the classic self-attention output by the $U(X)$ matrix, which solves the DLRM problem of feature linking.\n"
  },
  {
   "metadata": {},
   "cell_type": "markdown",
   "source": [
    "$\\text{rab}^{t}$ - relative time attention, the picture shows first stage matrice formation\n",
    "\n",
    "<div style=\"text-align:center\">\n",
    "    <img src=\"src/time_attention.jpg\" alt=\"Описание\" width=\"40%\">\n",
    "</div>"
   ]
  },
  {
   "metadata": {},
   "cell_type": "markdown",
   "source": [
    "\n",
    "\\begin{equation}\n",
    "    a_{i,j} = t_{i+1} - t_j\n",
    "\\end{equation}\n",
    "\\begin{equation}\n",
    "\\text{bucket}(a_{i,j}) = \n",
    "\\left\\lfloor \n",
    "\\frac{\\log(|a_{i,j}| \\vee 1)}{0.301} \n",
    "\\right\\rfloor\n",
    "\\end{equation}"
   ]
  },
  {
   "metadata": {},
   "cell_type": "markdown",
   "source": [
    "To predict the next item, we use the time of its appearance. This is a simulation of inference with  time aware setup. In the current formulation, this is a candidate generation model, and based on real interest, in addition to the user's history, we would also provide the start time of his session. In this case, the last token, or the last row in the attention matrix, will be conditioned on the start time of the user's session. In this way, the consistency of the model is maintained between training and testing (real-world inference).That is, all possible differences $a_{i,j}$ are quantized into buckets with logarithmic asymptotics. If the banquet values are greater than the specified $b_{max}$, then it is truncated to the maximum. Each bucket value corresponds to the learning parameter $w_{i}$, which is substituted instead of $a_{i,j}$. Thus, we form the matrix $\\text{rab}^{t}$. Moreover, we note that the time quantization function and the maximum number of buckets are hyperparameters. We can vary them depending on the nature of the content.\n",
    "\n",
    "Quantification of the timestamp difference actually breaks down the user's previous history into time microsessions relative to the current generation moment.\n",
    "\n"
   ]
  },
  {
   "metadata": {},
   "cell_type": "markdown",
   "source": "### RecTools implementation"
  },
  {
   "metadata": {},
   "cell_type": "markdown",
   "source": [
    "Details of the implementation.\n",
    "1) Has been written from jagged tensors to usual torch tensors\n",
    "2) Has been droped original paper parametrs init distribution over all parameters where it possible, and replaced by xavier distribution\n",
    "3) Right padding isntead of left for consistency to RecTools \n",
    "4) No Q,K caching option  "
   ]
  },
  {
   "cell_type": "code",
   "metadata": {
    "ExecuteTime": {
     "end_time": "2025-07-06T17:53:30.292089Z",
     "start_time": "2025-07-06T17:53:27.695251Z"
    }
   },
   "source": [
    "import os\n",
    "import typing as tp\n",
    "import warnings\n",
    "\n",
    "import pandas as pd\n",
    "import numpy as np\n",
    "import torch\n",
    "from lightning_fabric import seed_everything\n",
    "from pytorch_lightning import Trainer, LightningModule\n",
    "from pytorch_lightning.loggers import CSVLogger\n",
    "import pandas as pd\n",
    "import ast\n",
    "from pytorch_lightning.callbacks import   Callback\n",
    "from rectools.dataset import Dataset\n",
    "from rectools.models import HSTUModel\n",
    "from rectools.models.nn.item_net import IdEmbeddingsItemNet\n",
    "from rectools import Columns\n",
    "from scipy import sparse\n",
    "from pytorch_lightning.callbacks import EarlyStopping, ModelCheckpoint, Callback\n",
    "# Enable deterministic behaviour with CUDA >= 10.2\n",
    "os.environ[\"CUBLAS_WORKSPACE_CONFIG\"] = \":4096:8\"\n",
    "from rectools.model_selection.splitter import Splitter\n",
    "from rectools.model_selection import LastNSplitter, TimeRangeSplitter\n",
    "warnings.simplefilter(\"ignore\", UserWarning)\n",
    "warnings.simplefilter(\"ignore\", FutureWarning)\n",
    "from rectools.metrics import (\n",
    "    MAP,\n",
    "    CoveredUsers,\n",
    "    Intersection,\n",
    "    Serendipity,\n",
    "    NDCG,\n",
    "    AvgRecPopularity,\n",
    "    CatalogCoverage,\n",
    "    Recall,\n",
    "    SufficientReco,\n",
    ")\n",
    "from rectools.models import  SASRecModel, BERT4RecModel\n",
    "from rectools.model_selection import  cross_validate\n",
    "from rectools.models.nn.item_net import IdEmbeddingsItemNet\n",
    "import json\n",
    "from rectools.visuals import MetricsApp\n",
    "import cffi\n",
    "import zmq  # pyzmq\n",
    "import notebook  # jupyter\n",
    "import seaborn as sns\n",
    "import matplotlib.pyplot as plt\n",
    "RANDOM_STATE=42\n",
    "torch.use_deterministic_algorithms(True)\n",
    "seed_everything(RANDOM_STATE, workers=True)"
   ],
   "outputs": [
    {
     "name": "stderr",
     "output_type": "stream",
     "text": [
      "Seed set to 42\n"
     ]
    },
    {
     "data": {
      "text/plain": [
       "42"
      ]
     },
     "execution_count": 1,
     "metadata": {},
     "output_type": "execute_result"
    }
   ],
   "execution_count": 1
  },
  {
   "cell_type": "markdown",
   "metadata": {},
   "source": "### Movielens-1m"
  },
  {
   "metadata": {
    "ExecuteTime": {
     "end_time": "2025-07-06T17:53:32.754586Z",
     "start_time": "2025-07-06T17:53:30.326049Z"
    }
   },
   "cell_type": "code",
   "source": [
    "%%time\n",
    "!wget -q https://files.grouplens.org/datasets/movielens/ml-1m.zip -O ml-1m.zip\n",
    "!unzip -o ml-1m.zip\n",
    "!rm ml-1m.zip"
   ],
   "outputs": [
    {
     "name": "stdout",
     "output_type": "stream",
     "text": [
      "Archive:  ml-1m.zip\r\n",
      "  inflating: ml-1m/movies.dat        \r\n",
      "  inflating: ml-1m/ratings.dat       \r\n",
      "  inflating: ml-1m/README            \r\n",
      "  inflating: ml-1m/users.dat         \r\n",
      "CPU times: user 9.65 ms, sys: 43.9 ms, total: 53.5 ms\n",
      "Wall time: 2.42 s\n"
     ]
    }
   ],
   "execution_count": 2
  },
  {
   "metadata": {
    "ExecuteTime": {
     "end_time": "2025-07-06T17:53:33.094977Z",
     "start_time": "2025-07-06T17:53:33.090754Z"
    }
   },
   "cell_type": "code",
   "source": [
    "def get_paper_df(dataset_name: str = \"ml-1m\") -> pd.DataFrame:\n",
    "    path  = f\"paper_{dataset_name}.csv\"\n",
    "    paper_df =  pd.read_csv(path)\n",
    "    paper_df = paper_df[[\"index\",\"user_id\", \"sequence_item_ids\", \"sequence_ratings\", \"sequence_timestamps\"]]\n",
    "    cols_to_expand = [\"sequence_item_ids\", \"sequence_ratings\", \"sequence_timestamps\"]\n",
    "    for col in cols_to_expand:\n",
    "        paper_df[col] = paper_df[col].apply(ast.literal_eval)\n",
    "    \n",
    "    expanded_df = paper_df[[\"user_id\"] + cols_to_expand]\n",
    "    expanded_df = expanded_df.explode(cols_to_expand)\n",
    "    expanded_df = expanded_df.rename(columns={\n",
    "        \"sequence_item_ids\": \"item_id\",\n",
    "        \"sequence_ratings\": \"rating\",\n",
    "        \"sequence_timestamps\": \"timestamp\"\n",
    "    })\n",
    "    expanded_df[\"item_id\"] = expanded_df[\"item_id\"].astype(int)\n",
    "    expanded_df[\"rating\"] = expanded_df[\"rating\"].astype(float)\n",
    "    expanded_df[\"timestamp\"] = expanded_df[\"timestamp\"].astype(int)\n",
    "    expanded_df[\"datetime\"] = pd.to_datetime(expanded_df[\"timestamp\"], unit=\"s\")\n",
    "    expanded_df = expanded_df.drop(columns=[\"timestamp\"])\n",
    "    expanded_df.reset_index(drop=True, inplace=True)\n",
    "    df = expanded_df[[\"user_id\", \"item_id\", \"datetime\"]]\n",
    "    df[\"weight\"] = 1\n",
    "    return df"
   ],
   "outputs": [],
   "execution_count": 3
  },
  {
   "metadata": {
    "ExecuteTime": {
     "end_time": "2025-07-06T17:53:33.141230Z",
     "start_time": "2025-07-06T17:53:33.138513Z"
    }
   },
   "cell_type": "code",
   "source": [
    "def get_original_df(dataset_name: str = \"ml-1m\") -> pd.DataFrame:\n",
    "    df = pd.read_csv(\n",
    "        f\"{dataset_name}/ratings.dat\", \n",
    "        sep=\"::\",\n",
    "        engine=\"python\",  # Because of 2-chars separators\n",
    "        header=None,\n",
    "        names=[Columns.User, Columns.Item, Columns.Weight, Columns.Datetime],\n",
    "    )\n",
    "    df[Columns.Datetime] = df[Columns.Datetime].astype(\"datetime64[s]\")\n",
    "    df[Columns.Weight] = 1\n",
    "    return df"
   ],
   "outputs": [],
   "execution_count": 4
  },
  {
   "metadata": {},
   "cell_type": "markdown",
   "source": "#### LOO validation, LOO test setup"
  },
  {
   "metadata": {
    "ExecuteTime": {
     "end_time": "2025-07-06T17:53:33.193887Z",
     "start_time": "2025-07-06T17:53:33.191142Z"
    }
   },
   "cell_type": "code",
   "source": "loo_splitter = LastNSplitter(1,1)",
   "outputs": [],
   "execution_count": 5
  },
  {
   "metadata": {},
   "cell_type": "markdown",
   "source": [
    "### Validation fold\n",
    "\n",
    "Models do not create validation fold during `fit` by default. However, there is a simple way to force it.\n",
    "\n",
    "Let's assume that we want to use Leave-One-Out validation for specific set of users. To apply it we need to implement `get_val_mask_func` with required logic and pass it to model during initialization.\n",
    "\n",
    "This function should receive interactions with standard RecTools columns and return a binary mask which identifies interactions that should not be used during model training. But instrad should be used for validation loss calculation. They will also be available for Lightning Callbacks to allow RecSys metrics computations.\n",
    "\n",
    "*Please make sure you do not use `partial` while doing this. Partial functions cannot be by serialized using RecTools.*"
   ]
  },
  {
   "metadata": {
    "ExecuteTime": {
     "end_time": "2025-07-06T17:53:33.216614Z",
     "start_time": "2025-07-06T17:53:33.213402Z"
    }
   },
   "cell_type": "code",
   "source": [
    "def leave_one_out_mask_for_users(\n",
    "    interactions: pd.DataFrame, val_users: tp.Optional[np.ndarray] = None\n",
    ") -> np.ndarray:\n",
    "    groups = interactions.groupby(Columns.User)\n",
    "    time_order = (\n",
    "        groups[Columns.Datetime]\n",
    "        .rank(method=\"first\", ascending=True)\n",
    "        .astype(int)\n",
    "    )\n",
    "    n_interactions = groups.transform(\"size\").astype(int)\n",
    "    inv_ranks = n_interactions - time_order\n",
    "    last_interact_mask  = inv_ranks == 0\n",
    "    if  val_users is not None:\n",
    "        return (interactions[Columns.User].isin(val_users)) & last_interact_mask\n",
    "    return last_interact_mask\n",
    "\n",
    "def get_val_mask_func(interactions: pd.DataFrame):\n",
    "    return leave_one_out_mask_for_users(interactions, val_users = None)"
   ],
   "outputs": [],
   "execution_count": 6
  },
  {
   "metadata": {
    "ExecuteTime": {
     "end_time": "2025-07-06T17:53:33.272334Z",
     "start_time": "2025-07-06T17:53:33.266003Z"
    }
   },
   "cell_type": "code",
   "source": [
    "class RecallCallback(Callback):\n",
    "    name: str = \"recall\"\n",
    "    def __init__(self, k: int, prog_bar: bool = True) -> None:\n",
    "        self.k = k\n",
    "        self.name += f\"@{k}\"\n",
    "        self.prog_bar = prog_bar\n",
    "\n",
    "        self.batch_recall_per_users: tp.List[torch.Tensor] = []\n",
    "\n",
    "    def on_validation_batch_end(\n",
    "        self,\n",
    "        trainer: Trainer,\n",
    "        pl_module: LightningModule,\n",
    "        outputs: tp.Dict[str, torch.Tensor],\n",
    "        batch: tp.Dict[str, torch.Tensor],\n",
    "        batch_idx: int,\n",
    "        dataloader_idx: int = 0,\n",
    "    ) -> None:\n",
    "\n",
    "        if \"logits\" not in outputs:\n",
    "            session_embs = pl_module.torch_model.encode_sessions(\n",
    "                batch, pl_module.item_embs\n",
    "            )[:, -1, :]\n",
    "            logits = pl_module.torch_model.similarity_module(\n",
    "                session_embs, pl_module.item_embs\n",
    "            )\n",
    "        else:\n",
    "            logits = outputs[\"logits\"]\n",
    "\n",
    "        x = batch[\"x\"]\n",
    "        users = x.shape[0]\n",
    "        row_ind = np.arange(users).repeat(x.shape[1])\n",
    "        col_ind = x.flatten().detach().cpu().numpy()\n",
    "        mask = col_ind != 0\n",
    "        data = np.ones_like(row_ind[mask])\n",
    "        filter_csr = sparse.csr_matrix(\n",
    "            (data, (row_ind[mask], col_ind[mask])),\n",
    "            shape=(users, pl_module.torch_model.item_model.n_items),\n",
    "        )\n",
    "        mask = torch.from_numpy((filter_csr != 0).toarray()).to(logits.device)\n",
    "        scores = torch.masked_fill(logits, mask, float(\"-inf\"))\n",
    "\n",
    "        _, batch_recos = scores.topk(k=self.k)\n",
    "\n",
    "        targets = batch[\"y\"]\n",
    "\n",
    "        # assume all users have the same amount of TP\n",
    "        liked = targets.shape[1]\n",
    "        tp_mask = torch.stack(\n",
    "            [\n",
    "                torch.isin(batch_recos[uid], targets[uid])\n",
    "                for uid in range(batch_recos.shape[0])\n",
    "            ]\n",
    "        )\n",
    "        recall_per_users = tp_mask.sum(dim=1) / liked\n",
    "\n",
    "        self.batch_recall_per_users.append(recall_per_users)\n",
    "\n",
    "    def on_validation_epoch_end(\n",
    "        self, trainer: Trainer, pl_module: LightningModule\n",
    "    ) -> None:\n",
    "        recall = float(torch.concat(self.batch_recall_per_users).mean())\n",
    "        self.log_dict(\n",
    "            {self.name: recall}, on_step=False, on_epoch=True, prog_bar=self.prog_bar\n",
    "        )\n",
    "\n",
    "        self.batch_recall_per_users.clear()"
   ],
   "outputs": [],
   "execution_count": 7
  },
  {
   "metadata": {
    "ExecuteTime": {
     "end_time": "2025-07-06T17:53:33.321665Z",
     "start_time": "2025-07-06T17:53:33.318460Z"
    }
   },
   "cell_type": "code",
   "source": [
    "# Callback for calculating RecSys metrics\n",
    "recall_callback = RecallCallback(k=10, prog_bar=True)\n",
    "# Checkpoint last epoch\n",
    "last_epoch_ckpt = ModelCheckpoint(filename=\"last_epoch\")\n",
    "# Checkpoints based on validation loss\n",
    "least_val_loss_ckpt = ModelCheckpoint(\n",
    "    monitor=\"val_loss\",   # or just pass \"val_loss\" here,\n",
    "    mode=\"min\",\n",
    "    filename=\"{epoch}-{val_loss:.2f}\",\n",
    "    save_top_k=2,  # Let's save top 2 checkpoints for validation loss\n",
    ")"
   ],
   "outputs": [],
   "execution_count": 8
  },
  {
   "cell_type": "code",
   "metadata": {
    "ExecuteTime": {
     "end_time": "2025-07-06T17:53:33.341872Z",
     "start_time": "2025-07-06T17:53:33.339412Z"
    }
   },
   "source": [
    "# Function to get custom trainer\n",
    "def get_debug_trainer() -> Trainer:\n",
    "    return Trainer(\n",
    "        accelerator=\"gpu\",\n",
    "        devices=1,\n",
    "        min_epochs=101,\n",
    "        max_epochs=101,\n",
    "        deterministic=True,\n",
    "        enable_model_summary=False,\n",
    "        enable_progress_bar=True,\n",
    "        callbacks=[recall_callback, last_epoch_ckpt, least_val_loss_ckpt],  # pass our callbacks\n",
    "        logger = CSVLogger(\"test_logs\"),  # We use CSV logging for this guide but there are many other options\n",
    "    )"
   ],
   "outputs": [],
   "execution_count": 9
  },
  {
   "metadata": {
    "ExecuteTime": {
     "end_time": "2025-07-06T17:53:33.388313Z",
     "start_time": "2025-07-06T17:53:33.385232Z"
    }
   },
   "cell_type": "code",
   "source": [
    "def get_logs(log_dir_path) -> tp.Tuple[pd.DataFrame, ...]:\n",
    "    log_path = os.path.join(log_dir_path, \"metrics.csv\")\n",
    "    epoch_metrics_df = pd.read_csv(log_path)\n",
    "\n",
    "    loss_df = epoch_metrics_df[[\"epoch\", \"train_loss\"]].dropna()\n",
    "    val_loss_df = epoch_metrics_df[[\"epoch\", \"val_loss\"]].dropna()\n",
    "    loss_df = pd.merge(loss_df, val_loss_df, how=\"inner\", on=\"epoch\")\n",
    "    loss_df.reset_index(drop=True, inplace=True)\n",
    "\n",
    "    metrics_df = epoch_metrics_df.drop(columns=[\"train_loss\", \"val_loss\"]).dropna()\n",
    "    metrics_df.reset_index(drop=True, inplace=True)\n",
    "\n",
    "    return loss_df, metrics_df"
   ],
   "outputs": [],
   "execution_count": 10
  },
  {
   "metadata": {
    "ExecuteTime": {
     "end_time": "2025-07-06T17:53:33.409360Z",
     "start_time": "2025-07-06T17:53:33.406679Z"
    }
   },
   "cell_type": "code",
   "source": [
    "def create_subplots_grid(n_plots:int):\n",
    "    n_rows = (n_plots + 1) // 2\n",
    "    figsize=(12, 4 * n_rows)\n",
    "    fig, axes = plt.subplots(n_rows, 2, figsize=figsize)\n",
    "\n",
    "    if n_rows == 1:\n",
    "        axes = axes.reshape(1, -1)\n",
    "\n",
    "    if n_plots % 2 == 1:\n",
    "        axes[-1, -1].axis('off')\n",
    "\n",
    "    return fig, axes"
   ],
   "outputs": [],
   "execution_count": 11
  },
  {
   "metadata": {
    "ExecuteTime": {
     "end_time": "2025-07-06T17:53:33.454498Z",
     "start_time": "2025-07-06T17:53:33.452029Z"
    }
   },
   "cell_type": "code",
   "source": [
    "def rolling_avg(x, y, window=3):\n",
    "    df = pd.DataFrame({'x': x, 'y': y}).sort_values('x')\n",
    "    df['y_smooth'] = df['y'].rolling(window=window, center=True).mean()\n",
    "    return df['x'], df['y_smooth']"
   ],
   "outputs": [],
   "execution_count": 12
  },
  {
   "metadata": {
    "ExecuteTime": {
     "end_time": "2025-07-06T17:53:33.476024Z",
     "start_time": "2025-07-06T17:53:33.472718Z"
    }
   },
   "cell_type": "code",
   "source": [
    "metrics_add = {}\n",
    "metrics_recall ={}\n",
    "metrics_ndcg = {}\n",
    "k_base =  10\n",
    "K = [10, 50,100,200]\n",
    "K_RECS= max(K)\n",
    "for k in K:\n",
    "    metrics_recall.update({\n",
    "            f\"recall@{k}\": Recall(k=k),\n",
    "        })\n",
    "    metrics_ndcg.update({\n",
    "            f\"ndcg@{k}\": NDCG(k=k, divide_by_achievable=True),\n",
    "        })\n",
    "metrics_add = {\n",
    "    f\"arp@{k_base}\": AvgRecPopularity(k=k_base, normalize=True),\n",
    "    f\"coverage@{k_base}\": CatalogCoverage(k=k_base, normalize=True),\n",
    "    f\"covered_users@{k_base}\": CoveredUsers(k=k_base),\n",
    "    f\"sufficient_reco@{k_base}\": SufficientReco(k=k_base),\n",
    "    f\"serendipity@{k_base}\": Serendipity(k=k_base),\n",
    "}\n",
    "metrics  = metrics_recall | metrics_ndcg | metrics_add"
   ],
   "outputs": [],
   "execution_count": 13
  },
  {
   "metadata": {
    "ExecuteTime": {
     "end_time": "2025-07-06T17:53:33.520951Z",
     "start_time": "2025-07-06T17:53:33.517790Z"
    }
   },
   "cell_type": "code",
   "source": [
    "def show_val_metrics(train_stage_metrics):\n",
    "    n_plots = len(train_stage_metrics)\n",
    "    models_name = list(train_stage_metrics.keys())\n",
    "    fig, axes = create_subplots_grid(n_plots=n_plots)\n",
    "    \n",
    "    for i, (ax, model_name) in enumerate(zip(axes.flat,models_name)):\n",
    "        if i < 5:\n",
    "            y1 = train_stage_metrics[model_name][0][\"val_loss\"]\n",
    "            y2 = train_stage_metrics[model_name][0][\"train_loss\"]\n",
    "            x = train_stage_metrics[model_name][0][\"epoch\"]\n",
    "            ax.plot(x, y1, label= \"val_loss\")\n",
    "            ax.plot(x, y2, label= \"train_loss\")\n",
    "            ax.set_title(f\"{model_name}\")\n",
    "            ax.legend()\n",
    "    plt.show()"
   ],
   "outputs": [],
   "execution_count": 14
  },
  {
   "metadata": {
    "ExecuteTime": {
     "end_time": "2025-07-06T17:53:33.541664Z",
     "start_time": "2025-07-06T17:53:33.539257Z"
    }
   },
   "cell_type": "code",
   "source": [
    "def print_styled_metrics(df, metrics_dict, title):\n",
    "    filtered_df = df[list(metrics_dict.keys())]\n",
    "    styled_df = filtered_df.style \\\n",
    "        .format('{:.4f}') \\\n",
    "        .set_caption(title) \\\n",
    "        .set_properties(**{'text-align': 'center'}) \\\n",
    "        .background_gradient(cmap='Blues')\n",
    "    display(styled_df)"
   ],
   "outputs": [],
   "execution_count": 15
  },
  {
   "metadata": {
    "ExecuteTime": {
     "end_time": "2025-07-06T17:53:33.594628Z",
     "start_time": "2025-07-06T17:53:33.589605Z"
    }
   },
   "cell_type": "code",
   "source": [
    "def show_results(path_to_load_res:str)-> None:\n",
    "    with open(path_to_load_res, 'r', encoding='utf-8') as f:\n",
    "        exp_data = json.load(f)\n",
    "    pivot_results = (\n",
    "        pd.DataFrame(exp_data[\"metrics\"])\n",
    "        .drop(columns=\"i_split\")\n",
    "        .groupby([\"model\"], sort=False)\n",
    "        .agg([\"mean\"])\n",
    "    )\n",
    "    pivot_results.columns = pivot_results.columns.droplevel(1)\n",
    "  \n",
    "    print_styled_metrics(pivot_results, metrics_ndcg, 'NDCG Metrics Comparison')\n",
    "    print_styled_metrics(pivot_results, metrics_recall, 'Recall Metrics Comparison')\n",
    "    print_styled_metrics(pivot_results, metrics_add, 'Additional Metrics Comparison')\n",
    "    \n",
    "    train_stage_metrics = {\n",
    "        model_name: get_logs(log_dir_path)\n",
    "        for model_name, log_dir_path in  exp_data[\"models_log_dir\"].items()\n",
    "    }\n",
    "    show_val_metrics(train_stage_metrics)\n",
    "    \n",
    "    plt.figure(figsize=(10, 6))\n",
    "    for  model_name, tr_results in train_stage_metrics.items():\n",
    "        x = tr_results[1][\"epoch\"]\n",
    "        y = tr_results[1][\"recall@10\"]\n",
    "        x_smooth, y_smooth = rolling_avg(x, y, window=3)\n",
    "        plt.plot(x_smooth, y_smooth, label=model_name)\n",
    "        \n",
    "    plt.title(\"Validation smoothed recall@10 dynamic\")\n",
    "    plt.xlabel(\"Epoch\")\n",
    "    plt.ylabel(\"Recall@10\")\n",
    "    plt.legend()\n",
    "    plt.show()\n",
    "    "
   ],
   "outputs": [],
   "execution_count": 16
  },
  {
   "metadata": {
    "ExecuteTime": {
     "end_time": "2025-07-06T17:53:33.642999Z",
     "start_time": "2025-07-06T17:53:33.639706Z"
    }
   },
   "cell_type": "code",
   "source": [
    "def eval(models: dict, splitter:Splitter,dataset: Dataset, path_to_save_res:str) -> None:\n",
    "    cv_results = cross_validate(\n",
    "        dataset=dataset,\n",
    "        splitter=splitter,\n",
    "        models=models,\n",
    "        metrics=metrics,\n",
    "        k=K_RECS,\n",
    "        filter_viewed=True,\n",
    "    )\n",
    "    for model_name, model in models.items():\n",
    "        cv_results.update({\"models_log_dir\":{model_name:model.fit_trainer.log_dir}})\n",
    "    with open(path_to_save_res, 'w', encoding='utf-8') as f:\n",
    "        json.dump(cv_results, f, ensure_ascii=False, indent=4)"
   ],
   "outputs": [],
   "execution_count": 17
  },
  {
   "metadata": {},
   "cell_type": "markdown",
   "source": "### Paper config"
  },
  {
   "metadata": {
    "ExecuteTime": {
     "end_time": "2025-07-06T17:53:33.667616Z",
     "start_time": "2025-07-06T17:53:33.664292Z"
    }
   },
   "cell_type": "code",
   "source": [
    "config = {\n",
    "    \"session_max_len\": 200,\n",
    "    \"lightning_module_kwargs\": {\"temperature\": 0.05}, # logits scale factor\n",
    "    \"item_net_block_types\": (IdEmbeddingsItemNet,),\n",
    "    \"get_val_mask_func\": get_val_mask_func,\n",
    "    \"get_trainer_func\": get_debug_trainer,\n",
    "    \"verbose\": 1,\n",
    "    \"loss\": 'sampled_softmax',\n",
    "    \"n_negatives\": 128,\n",
    "    \"use_pos_emb\": True,\n",
    "    \"dropout_rate\": 0.2,\n",
    "    \"n_factors\": 50, # embedding dim\n",
    "    \"n_heads\": 1,\n",
    "    \"n_blocks\": 2,\n",
    "    \"lr\": 0.001,\n",
    "    \"batch_size\": 128,\n",
    "}\n",
    "config_large = config.copy()\n",
    "config_large[\"n_blocks\"] = 8\n",
    "config_large[\"n_heads\"] = 2"
   ],
   "outputs": [],
   "execution_count": 18
  },
  {
   "metadata": {},
   "cell_type": "markdown",
   "source": "### RecTools reproduce"
  },
  {
   "metadata": {
    "jupyter": {
     "is_executing": true
    },
    "ExecuteTime": {
     "start_time": "2025-07-06T17:53:33.714524Z"
    }
   },
   "cell_type": "code",
   "source": [
    "hstu  = HSTUModel(    \n",
    "    relative_time_attention=True,\n",
    "    relative_pos_attention=True,\n",
    "    **config\n",
    ")\n",
    "hstu_large  = HSTUModel(    \n",
    "    relative_time_attention=True,\n",
    "    relative_pos_attention=True,\n",
    "    **config_large\n",
    ")\n",
    "sarec  = SASRecModel(    \n",
    "    **config\n",
    ")\n",
    "models = {\n",
    "    \"hstu\": hstu,\n",
    "    \"hstu_large\": hstu_large,\n",
    "    #\"sasrec\": sarec\n",
    "}\n",
    "dataset_name = \"ml-1m\"\n",
    "path_to_save_res = f\"pivot_results_paper_{dataset_name}.json\"\n",
    "paper_df = get_paper_df(dataset_name)\n",
    "dataset_paper = Dataset.construct(paper_df)\n",
    "eval(models,loo_splitter,dataset_paper,path_to_save_res)"
   ],
   "outputs": [
    {
     "name": "stderr",
     "output_type": "stream",
     "text": [
      "GPU available: True (cuda), used: True\n",
      "TPU available: False, using: 0 TPU cores\n",
      "HPU available: False, using: 0 HPUs\n",
      "GPU available: True (cuda), used: True\n",
      "TPU available: False, using: 0 TPU cores\n",
      "HPU available: False, using: 0 HPUs\n",
      "GPU available: True (cuda), used: True\n",
      "TPU available: False, using: 0 TPU cores\n",
      "HPU available: False, using: 0 HPUs\n",
      "You are using a CUDA device ('NVIDIA A100 80GB PCIe') that has Tensor Cores. To properly utilize them, you should set `torch.set_float32_matmul_precision('medium' | 'high')` which will trade-off precision for performance. For more details, read https://pytorch.org/docs/stable/generated/torch.set_float32_matmul_precision.html#torch.set_float32_matmul_precision\n",
      "LOCAL_RANK: 0 - CUDA_VISIBLE_DEVICES: [0]\n"
     ]
    },
    {
     "name": "stdout",
     "output_type": "stream",
     "text": [
      "item_model.item_net_blocks.0.ids_emb.weight torch.Size([3647, 50])\n",
      "pos_encoding_layer.pos_emb.weight torch.Size([200, 50])\n",
      "transformer_layers.stu_blocks.0.uvqk_proj torch.Size([50, 200])\n",
      "transformer_layers.stu_blocks.0.rel_attn.time_weights torch.Size([129])\n",
      "transformer_layers.stu_blocks.0.rel_attn.pos_weights torch.Size([399])\n",
      "transformer_layers.stu_blocks.0.output_mlp.weight torch.Size([50, 50])\n",
      "transformer_layers.stu_blocks.0.output_mlp.bias torch.Size([50])\n",
      "transformer_layers.stu_blocks.0.norm_input.weight torch.Size([50])\n",
      "transformer_layers.stu_blocks.0.norm_input.bias torch.Size([50])\n",
      "transformer_layers.stu_blocks.0.norm_attn_output.weight torch.Size([50])\n",
      "transformer_layers.stu_blocks.0.norm_attn_output.bias torch.Size([50])\n",
      "transformer_layers.stu_blocks.1.uvqk_proj torch.Size([50, 200])\n",
      "transformer_layers.stu_blocks.1.rel_attn.time_weights torch.Size([129])\n",
      "transformer_layers.stu_blocks.1.rel_attn.pos_weights torch.Size([399])\n",
      "transformer_layers.stu_blocks.1.output_mlp.weight torch.Size([50, 50])\n",
      "transformer_layers.stu_blocks.1.output_mlp.bias torch.Size([50])\n",
      "transformer_layers.stu_blocks.1.norm_input.weight torch.Size([50])\n",
      "transformer_layers.stu_blocks.1.norm_input.bias torch.Size([50])\n",
      "transformer_layers.stu_blocks.1.norm_attn_output.weight torch.Size([50])\n",
      "transformer_layers.stu_blocks.1.norm_attn_output.bias torch.Size([50])\n"
     ]
    },
    {
     "data": {
      "text/plain": [
       "Sanity Checking: |          | 0/? [00:00<?, ?it/s]"
      ],
      "application/vnd.jupyter.widget-view+json": {
       "version_major": 2,
       "version_minor": 0,
       "model_id": "9c4beb69d6c04353a1ea4d7e2cdcab12"
      }
     },
     "metadata": {},
     "output_type": "display_data"
    },
    {
     "data": {
      "text/plain": [
       "Training: |          | 0/? [00:00<?, ?it/s]"
      ],
      "application/vnd.jupyter.widget-view+json": {
       "version_major": 2,
       "version_minor": 0,
       "model_id": "0fdc96c7c36e47ac99c4b8d798b40e7a"
      }
     },
     "metadata": {},
     "output_type": "display_data"
    },
    {
     "data": {
      "text/plain": [
       "Validation: |          | 0/? [00:00<?, ?it/s]"
      ],
      "application/vnd.jupyter.widget-view+json": {
       "version_major": 2,
       "version_minor": 0,
       "model_id": "aa3bb26166ee47908bb23b793eab2461"
      }
     },
     "metadata": {},
     "output_type": "display_data"
    },
    {
     "data": {
      "text/plain": [
       "Validation: |          | 0/? [00:00<?, ?it/s]"
      ],
      "application/vnd.jupyter.widget-view+json": {
       "version_major": 2,
       "version_minor": 0,
       "model_id": "b5036a8fbb7d4081877c5eef5a5a1974"
      }
     },
     "metadata": {},
     "output_type": "display_data"
    },
    {
     "data": {
      "text/plain": [
       "Validation: |          | 0/? [00:00<?, ?it/s]"
      ],
      "application/vnd.jupyter.widget-view+json": {
       "version_major": 2,
       "version_minor": 0,
       "model_id": "7e9e9df34df24ffb8748821f991a335c"
      }
     },
     "metadata": {},
     "output_type": "display_data"
    },
    {
     "data": {
      "text/plain": [
       "Validation: |          | 0/? [00:00<?, ?it/s]"
      ],
      "application/vnd.jupyter.widget-view+json": {
       "version_major": 2,
       "version_minor": 0,
       "model_id": "9a40266c81f84c3da08fe0d176bced8d"
      }
     },
     "metadata": {},
     "output_type": "display_data"
    },
    {
     "data": {
      "text/plain": [
       "Validation: |          | 0/? [00:00<?, ?it/s]"
      ],
      "application/vnd.jupyter.widget-view+json": {
       "version_major": 2,
       "version_minor": 0,
       "model_id": "bedbc2a4767644e08f5aed3b4884357b"
      }
     },
     "metadata": {},
     "output_type": "display_data"
    },
    {
     "data": {
      "text/plain": [
       "Validation: |          | 0/? [00:00<?, ?it/s]"
      ],
      "application/vnd.jupyter.widget-view+json": {
       "version_major": 2,
       "version_minor": 0,
       "model_id": "989cb58d2d3f436ca7309578465902d4"
      }
     },
     "metadata": {},
     "output_type": "display_data"
    },
    {
     "data": {
      "text/plain": [
       "Validation: |          | 0/? [00:00<?, ?it/s]"
      ],
      "application/vnd.jupyter.widget-view+json": {
       "version_major": 2,
       "version_minor": 0,
       "model_id": "06511276e616481dbf5f279d699a2a51"
      }
     },
     "metadata": {},
     "output_type": "display_data"
    },
    {
     "data": {
      "text/plain": [
       "Validation: |          | 0/? [00:00<?, ?it/s]"
      ],
      "application/vnd.jupyter.widget-view+json": {
       "version_major": 2,
       "version_minor": 0,
       "model_id": "e77e31adb0344f4d8307157fcfda39d7"
      }
     },
     "metadata": {},
     "output_type": "display_data"
    },
    {
     "data": {
      "text/plain": [
       "Validation: |          | 0/? [00:00<?, ?it/s]"
      ],
      "application/vnd.jupyter.widget-view+json": {
       "version_major": 2,
       "version_minor": 0,
       "model_id": "c72c380eb91044999f71285f8f3fa5fe"
      }
     },
     "metadata": {},
     "output_type": "display_data"
    },
    {
     "data": {
      "text/plain": [
       "Validation: |          | 0/? [00:00<?, ?it/s]"
      ],
      "application/vnd.jupyter.widget-view+json": {
       "version_major": 2,
       "version_minor": 0,
       "model_id": "8e69d340060140779656e05422bee27b"
      }
     },
     "metadata": {},
     "output_type": "display_data"
    },
    {
     "data": {
      "text/plain": [
       "Validation: |          | 0/? [00:00<?, ?it/s]"
      ],
      "application/vnd.jupyter.widget-view+json": {
       "version_major": 2,
       "version_minor": 0,
       "model_id": "78fa4b6a634a4c509b977f8e6e69c7b4"
      }
     },
     "metadata": {},
     "output_type": "display_data"
    },
    {
     "data": {
      "text/plain": [
       "Validation: |          | 0/? [00:00<?, ?it/s]"
      ],
      "application/vnd.jupyter.widget-view+json": {
       "version_major": 2,
       "version_minor": 0,
       "model_id": "d02026ec0ad049f190da62f40cd6103f"
      }
     },
     "metadata": {},
     "output_type": "display_data"
    },
    {
     "data": {
      "text/plain": [
       "Validation: |          | 0/? [00:00<?, ?it/s]"
      ],
      "application/vnd.jupyter.widget-view+json": {
       "version_major": 2,
       "version_minor": 0,
       "model_id": "ca7a629ac2e04feb9fff151c4cd557ea"
      }
     },
     "metadata": {},
     "output_type": "display_data"
    },
    {
     "data": {
      "text/plain": [
       "Validation: |          | 0/? [00:00<?, ?it/s]"
      ],
      "application/vnd.jupyter.widget-view+json": {
       "version_major": 2,
       "version_minor": 0,
       "model_id": "13cb3fe642674e0d833e67d61e44c905"
      }
     },
     "metadata": {},
     "output_type": "display_data"
    },
    {
     "data": {
      "text/plain": [
       "Validation: |          | 0/? [00:00<?, ?it/s]"
      ],
      "application/vnd.jupyter.widget-view+json": {
       "version_major": 2,
       "version_minor": 0,
       "model_id": "54ed3d80e5194080add6b20e94de8728"
      }
     },
     "metadata": {},
     "output_type": "display_data"
    },
    {
     "data": {
      "text/plain": [
       "Validation: |          | 0/? [00:00<?, ?it/s]"
      ],
      "application/vnd.jupyter.widget-view+json": {
       "version_major": 2,
       "version_minor": 0,
       "model_id": "db18eea2b3d847798bccf834d0db47c9"
      }
     },
     "metadata": {},
     "output_type": "display_data"
    },
    {
     "data": {
      "text/plain": [
       "Validation: |          | 0/? [00:00<?, ?it/s]"
      ],
      "application/vnd.jupyter.widget-view+json": {
       "version_major": 2,
       "version_minor": 0,
       "model_id": "620022cbde2a48e9b9d7bab029188fa1"
      }
     },
     "metadata": {},
     "output_type": "display_data"
    },
    {
     "data": {
      "text/plain": [
       "Validation: |          | 0/? [00:00<?, ?it/s]"
      ],
      "application/vnd.jupyter.widget-view+json": {
       "version_major": 2,
       "version_minor": 0,
       "model_id": "a350c95667d946bb99df588c8ecea3a0"
      }
     },
     "metadata": {},
     "output_type": "display_data"
    },
    {
     "data": {
      "text/plain": [
       "Validation: |          | 0/? [00:00<?, ?it/s]"
      ],
      "application/vnd.jupyter.widget-view+json": {
       "version_major": 2,
       "version_minor": 0,
       "model_id": "563d238d91614dfbaa93ef22157e3099"
      }
     },
     "metadata": {},
     "output_type": "display_data"
    },
    {
     "data": {
      "text/plain": [
       "Validation: |          | 0/? [00:00<?, ?it/s]"
      ],
      "application/vnd.jupyter.widget-view+json": {
       "version_major": 2,
       "version_minor": 0,
       "model_id": "57c7a60752154cef9bffc043198dbb65"
      }
     },
     "metadata": {},
     "output_type": "display_data"
    },
    {
     "data": {
      "text/plain": [
       "Validation: |          | 0/? [00:00<?, ?it/s]"
      ],
      "application/vnd.jupyter.widget-view+json": {
       "version_major": 2,
       "version_minor": 0,
       "model_id": "9a10a10dcddc49ed972e6f62055dae7c"
      }
     },
     "metadata": {},
     "output_type": "display_data"
    },
    {
     "data": {
      "text/plain": [
       "Validation: |          | 0/? [00:00<?, ?it/s]"
      ],
      "application/vnd.jupyter.widget-view+json": {
       "version_major": 2,
       "version_minor": 0,
       "model_id": "472329ec20f441df9a65b952a50cc8ad"
      }
     },
     "metadata": {},
     "output_type": "display_data"
    },
    {
     "data": {
      "text/plain": [
       "Validation: |          | 0/? [00:00<?, ?it/s]"
      ],
      "application/vnd.jupyter.widget-view+json": {
       "version_major": 2,
       "version_minor": 0,
       "model_id": "6156c9b0b37347eb8ecd954fd4b0c515"
      }
     },
     "metadata": {},
     "output_type": "display_data"
    },
    {
     "data": {
      "text/plain": [
       "Validation: |          | 0/? [00:00<?, ?it/s]"
      ],
      "application/vnd.jupyter.widget-view+json": {
       "version_major": 2,
       "version_minor": 0,
       "model_id": "048dcc3c40974c77a1bc952d2931a47f"
      }
     },
     "metadata": {},
     "output_type": "display_data"
    },
    {
     "data": {
      "text/plain": [
       "Validation: |          | 0/? [00:00<?, ?it/s]"
      ],
      "application/vnd.jupyter.widget-view+json": {
       "version_major": 2,
       "version_minor": 0,
       "model_id": "6662f1b1ab204a4688cf3629653dbaef"
      }
     },
     "metadata": {},
     "output_type": "display_data"
    },
    {
     "data": {
      "text/plain": [
       "Validation: |          | 0/? [00:00<?, ?it/s]"
      ],
      "application/vnd.jupyter.widget-view+json": {
       "version_major": 2,
       "version_minor": 0,
       "model_id": "f7ab78e5b42b459c9d5f51eb8a9dc2a1"
      }
     },
     "metadata": {},
     "output_type": "display_data"
    },
    {
     "data": {
      "text/plain": [
       "Validation: |          | 0/? [00:00<?, ?it/s]"
      ],
      "application/vnd.jupyter.widget-view+json": {
       "version_major": 2,
       "version_minor": 0,
       "model_id": "52f3fb0729bd4a9b94a25cbe02217f41"
      }
     },
     "metadata": {},
     "output_type": "display_data"
    },
    {
     "data": {
      "text/plain": [
       "Validation: |          | 0/? [00:00<?, ?it/s]"
      ],
      "application/vnd.jupyter.widget-view+json": {
       "version_major": 2,
       "version_minor": 0,
       "model_id": "6a71910b166a44ac94629f90f73e7ce9"
      }
     },
     "metadata": {},
     "output_type": "display_data"
    },
    {
     "data": {
      "text/plain": [
       "Validation: |          | 0/? [00:00<?, ?it/s]"
      ],
      "application/vnd.jupyter.widget-view+json": {
       "version_major": 2,
       "version_minor": 0,
       "model_id": "e3ee7208daa74592b41dd89c3413749a"
      }
     },
     "metadata": {},
     "output_type": "display_data"
    },
    {
     "data": {
      "text/plain": [
       "Validation: |          | 0/? [00:00<?, ?it/s]"
      ],
      "application/vnd.jupyter.widget-view+json": {
       "version_major": 2,
       "version_minor": 0,
       "model_id": "726372e27fd84546809c21a74b11bea0"
      }
     },
     "metadata": {},
     "output_type": "display_data"
    },
    {
     "data": {
      "text/plain": [
       "Validation: |          | 0/? [00:00<?, ?it/s]"
      ],
      "application/vnd.jupyter.widget-view+json": {
       "version_major": 2,
       "version_minor": 0,
       "model_id": "93a851e0d15343afa5d3a00e208c7b5a"
      }
     },
     "metadata": {},
     "output_type": "display_data"
    },
    {
     "data": {
      "text/plain": [
       "Validation: |          | 0/? [00:00<?, ?it/s]"
      ],
      "application/vnd.jupyter.widget-view+json": {
       "version_major": 2,
       "version_minor": 0,
       "model_id": "fe1080ec6699451ca3b56c0649d49fc7"
      }
     },
     "metadata": {},
     "output_type": "display_data"
    },
    {
     "data": {
      "text/plain": [
       "Validation: |          | 0/? [00:00<?, ?it/s]"
      ],
      "application/vnd.jupyter.widget-view+json": {
       "version_major": 2,
       "version_minor": 0,
       "model_id": "b4f211ed173343e8b99576a99ee3eeb8"
      }
     },
     "metadata": {},
     "output_type": "display_data"
    },
    {
     "data": {
      "text/plain": [
       "Validation: |          | 0/? [00:00<?, ?it/s]"
      ],
      "application/vnd.jupyter.widget-view+json": {
       "version_major": 2,
       "version_minor": 0,
       "model_id": "1815be38d1394fdcbadd84d2ccc96b5e"
      }
     },
     "metadata": {},
     "output_type": "display_data"
    },
    {
     "data": {
      "text/plain": [
       "Validation: |          | 0/? [00:00<?, ?it/s]"
      ],
      "application/vnd.jupyter.widget-view+json": {
       "version_major": 2,
       "version_minor": 0,
       "model_id": "c5d5766ab40f4261906bfbb2f1632c39"
      }
     },
     "metadata": {},
     "output_type": "display_data"
    },
    {
     "data": {
      "text/plain": [
       "Validation: |          | 0/? [00:00<?, ?it/s]"
      ],
      "application/vnd.jupyter.widget-view+json": {
       "version_major": 2,
       "version_minor": 0,
       "model_id": "810bbb40f8af42729607790bc18a058a"
      }
     },
     "metadata": {},
     "output_type": "display_data"
    },
    {
     "data": {
      "text/plain": [
       "Validation: |          | 0/? [00:00<?, ?it/s]"
      ],
      "application/vnd.jupyter.widget-view+json": {
       "version_major": 2,
       "version_minor": 0,
       "model_id": "13b11545db81408db8d6e43e9c80de09"
      }
     },
     "metadata": {},
     "output_type": "display_data"
    }
   ],
   "execution_count": null
  },
  {
   "metadata": {
    "ExecuteTime": {
     "end_time": "2025-07-06T17:50:33.324695100Z",
     "start_time": "2025-07-06T17:40:28.872540Z"
    }
   },
   "cell_type": "code",
   "source": "show_results(path_to_save_res)",
   "outputs": [
    {
     "data": {
      "text/plain": [
       "<pandas.io.formats.style.Styler at 0x7066fb52f250>"
      ],
      "text/html": [
       "<style type=\"text/css\">\n",
       "#T_27a6b_row0_col0, #T_27a6b_row0_col1, #T_27a6b_row0_col2, #T_27a6b_row0_col3 {\n",
       "  text-align: center;\n",
       "  background-color: #f7fbff;\n",
       "  color: #000000;\n",
       "}\n",
       "</style>\n",
       "<table id=\"T_27a6b\">\n",
       "  <caption>NDCG Metrics Comparison</caption>\n",
       "  <thead>\n",
       "    <tr>\n",
       "      <th class=\"blank level0\" >&nbsp;</th>\n",
       "      <th id=\"T_27a6b_level0_col0\" class=\"col_heading level0 col0\" >ndcg@10</th>\n",
       "      <th id=\"T_27a6b_level0_col1\" class=\"col_heading level0 col1\" >ndcg@50</th>\n",
       "      <th id=\"T_27a6b_level0_col2\" class=\"col_heading level0 col2\" >ndcg@100</th>\n",
       "      <th id=\"T_27a6b_level0_col3\" class=\"col_heading level0 col3\" >ndcg@200</th>\n",
       "    </tr>\n",
       "    <tr>\n",
       "      <th class=\"index_name level0\" >model</th>\n",
       "      <th class=\"blank col0\" >&nbsp;</th>\n",
       "      <th class=\"blank col1\" >&nbsp;</th>\n",
       "      <th class=\"blank col2\" >&nbsp;</th>\n",
       "      <th class=\"blank col3\" >&nbsp;</th>\n",
       "    </tr>\n",
       "  </thead>\n",
       "  <tbody>\n",
       "    <tr>\n",
       "      <th id=\"T_27a6b_level0_row0\" class=\"row_heading level0 row0\" >sasrec</th>\n",
       "      <td id=\"T_27a6b_row0_col0\" class=\"data row0 col0\" >0.0221</td>\n",
       "      <td id=\"T_27a6b_row0_col1\" class=\"data row0 col1\" >0.0431</td>\n",
       "      <td id=\"T_27a6b_row0_col2\" class=\"data row0 col2\" >0.0564</td>\n",
       "      <td id=\"T_27a6b_row0_col3\" class=\"data row0 col3\" >0.0736</td>\n",
       "    </tr>\n",
       "  </tbody>\n",
       "</table>\n"
      ]
     },
     "metadata": {},
     "output_type": "display_data"
    },
    {
     "data": {
      "text/plain": [
       "<pandas.io.formats.style.Styler at 0x7066fb52f100>"
      ],
      "text/html": [
       "<style type=\"text/css\">\n",
       "#T_7fabc_row0_col0, #T_7fabc_row0_col1, #T_7fabc_row0_col2, #T_7fabc_row0_col3 {\n",
       "  text-align: center;\n",
       "  background-color: #f7fbff;\n",
       "  color: #000000;\n",
       "}\n",
       "</style>\n",
       "<table id=\"T_7fabc\">\n",
       "  <caption>Recall Metrics Comparison</caption>\n",
       "  <thead>\n",
       "    <tr>\n",
       "      <th class=\"blank level0\" >&nbsp;</th>\n",
       "      <th id=\"T_7fabc_level0_col0\" class=\"col_heading level0 col0\" >recall@10</th>\n",
       "      <th id=\"T_7fabc_level0_col1\" class=\"col_heading level0 col1\" >recall@50</th>\n",
       "      <th id=\"T_7fabc_level0_col2\" class=\"col_heading level0 col2\" >recall@100</th>\n",
       "      <th id=\"T_7fabc_level0_col3\" class=\"col_heading level0 col3\" >recall@200</th>\n",
       "    </tr>\n",
       "    <tr>\n",
       "      <th class=\"index_name level0\" >model</th>\n",
       "      <th class=\"blank col0\" >&nbsp;</th>\n",
       "      <th class=\"blank col1\" >&nbsp;</th>\n",
       "      <th class=\"blank col2\" >&nbsp;</th>\n",
       "      <th class=\"blank col3\" >&nbsp;</th>\n",
       "    </tr>\n",
       "  </thead>\n",
       "  <tbody>\n",
       "    <tr>\n",
       "      <th id=\"T_7fabc_level0_row0\" class=\"row_heading level0 row0\" >sasrec</th>\n",
       "      <td id=\"T_7fabc_row0_col0\" class=\"data row0 col0\" >0.0465</td>\n",
       "      <td id=\"T_7fabc_row0_col1\" class=\"data row0 col1\" >0.1451</td>\n",
       "      <td id=\"T_7fabc_row0_col2\" class=\"data row0 col2\" >0.2281</td>\n",
       "      <td id=\"T_7fabc_row0_col3\" class=\"data row0 col3\" >0.3508</td>\n",
       "    </tr>\n",
       "  </tbody>\n",
       "</table>\n"
      ]
     },
     "metadata": {},
     "output_type": "display_data"
    },
    {
     "data": {
      "text/plain": [
       "<pandas.io.formats.style.Styler at 0x7065604ffb50>"
      ],
      "text/html": [
       "<style type=\"text/css\">\n",
       "#T_f8a67_row0_col0, #T_f8a67_row0_col1, #T_f8a67_row0_col2, #T_f8a67_row0_col3, #T_f8a67_row0_col4 {\n",
       "  text-align: center;\n",
       "  background-color: #f7fbff;\n",
       "  color: #000000;\n",
       "}\n",
       "</style>\n",
       "<table id=\"T_f8a67\">\n",
       "  <caption>Additional Metrics Comparison</caption>\n",
       "  <thead>\n",
       "    <tr>\n",
       "      <th class=\"blank level0\" >&nbsp;</th>\n",
       "      <th id=\"T_f8a67_level0_col0\" class=\"col_heading level0 col0\" >arp@10</th>\n",
       "      <th id=\"T_f8a67_level0_col1\" class=\"col_heading level0 col1\" >coverage@10</th>\n",
       "      <th id=\"T_f8a67_level0_col2\" class=\"col_heading level0 col2\" >covered_users@10</th>\n",
       "      <th id=\"T_f8a67_level0_col3\" class=\"col_heading level0 col3\" >sufficient_reco@10</th>\n",
       "      <th id=\"T_f8a67_level0_col4\" class=\"col_heading level0 col4\" >serendipity@10</th>\n",
       "    </tr>\n",
       "    <tr>\n",
       "      <th class=\"index_name level0\" >model</th>\n",
       "      <th class=\"blank col0\" >&nbsp;</th>\n",
       "      <th class=\"blank col1\" >&nbsp;</th>\n",
       "      <th class=\"blank col2\" >&nbsp;</th>\n",
       "      <th class=\"blank col3\" >&nbsp;</th>\n",
       "      <th class=\"blank col4\" >&nbsp;</th>\n",
       "    </tr>\n",
       "  </thead>\n",
       "  <tbody>\n",
       "    <tr>\n",
       "      <th id=\"T_f8a67_level0_row0\" class=\"row_heading level0 row0\" >sasrec</th>\n",
       "      <td id=\"T_f8a67_row0_col0\" class=\"data row0 col0\" >0.0018</td>\n",
       "      <td id=\"T_f8a67_row0_col1\" class=\"data row0 col1\" >0.0459</td>\n",
       "      <td id=\"T_f8a67_row0_col2\" class=\"data row0 col2\" >1.0000</td>\n",
       "      <td id=\"T_f8a67_row0_col3\" class=\"data row0 col3\" >1.0000</td>\n",
       "      <td id=\"T_f8a67_row0_col4\" class=\"data row0 col4\" >0.0001</td>\n",
       "    </tr>\n",
       "  </tbody>\n",
       "</table>\n"
      ]
     },
     "metadata": {},
     "output_type": "display_data"
    },
    {
     "data": {
      "text/plain": [
       "<Figure size 1200x400 with 2 Axes>"
      ],
      "image/png": "[encoded data removed]"
     },
     "metadata": {},
     "output_type": "display_data"
    },
    {
     "data": {
      "text/plain": [
       "<Figure size 1000x600 with 1 Axes>"
      ],
      "image/png": "[encoded data removed]"
     },
     "metadata": {},
     "output_type": "display_data"
    }
   ],
   "execution_count": 109
  },
  {
   "metadata": {},
   "cell_type": "markdown",
   "source": [
    "| Method        | HR@10  | NDCG@10 | HR@50  | NDCG@50 | HR@200 | NDCG@200 |\n",
    "|---------------|--------|---------|--------|---------|--------|----------|\n",
    "| HSTU paper    | 0.3097 | 0.1720  | 0.5754 | 0.2307  | 0.7716 | 0.2606   |\n",
    "| HSTU RecTools | 0.3062 | 0.1726  | 0.5843 | 0.2344  | 0.7825 | 0.2646   |"
   ]
  },
  {
   "metadata": {
    "ExecuteTime": {
     "end_time": "2025-07-06T17:50:33.324695100Z",
     "start_time": "2025-07-06T16:29:44.304259Z"
    }
   },
   "cell_type": "code",
   "source": [
    "hstu  = HSTUModel(    \n",
    "    relative_time_attention=True,\n",
    "    relative_pos_attention=True,\n",
    "    **config\n",
    ")\n",
    "hstu_rab_p  = HSTUModel(    \n",
    "    relative_time_attention=False,\n",
    "    relative_pos_attention=True,\n",
    "    **config\n",
    ")\n",
    "hstu_rab_t  = HSTUModel(    \n",
    "    relative_time_attention=True,\n",
    "    relative_pos_attention=False,\n",
    "    **config\n",
    ")\n",
    "hstu_no_rab  = HSTUModel(    \n",
    "    relative_time_attention=False,\n",
    "    relative_pos_attention=False,\n",
    "    **config\n",
    ")\n",
    "sasrec = SASRecModel(\n",
    "    **config\n",
    ")\n",
    "models = {\n",
    "    \"hstu_rab_t\": hstu_rab_t,\n",
    "    \"hstu_rab_p\": hstu_rab_p,\n",
    "    \"hstu\": hstu,\n",
    "    \"hstu_no_rab\": hstu_no_rab,\n",
    "    \"sasrec\": sasrec,\n",
    "}\n",
    "original_df = get_original_df(\"ml-1m\")\n",
    "dataset_original = Dataset.construct(original_df)\n",
    "path_to_save_res = f\"pivot_results_rectools_{dataset_name}.csv\"\n",
    "eval(models,loo_splitter,dataset_original)"
   ],
   "outputs": [
    {
     "name": "stderr",
     "output_type": "stream",
     "text": [
      "GPU available: True (cuda), used: True\n",
      "TPU available: False, using: 0 TPU cores\n",
      "HPU available: False, using: 0 HPUs\n",
      "GPU available: True (cuda), used: True\n",
      "TPU available: False, using: 0 TPU cores\n",
      "HPU available: False, using: 0 HPUs\n",
      "GPU available: True (cuda), used: True\n",
      "TPU available: False, using: 0 TPU cores\n",
      "HPU available: False, using: 0 HPUs\n",
      "GPU available: True (cuda), used: True\n",
      "TPU available: False, using: 0 TPU cores\n",
      "HPU available: False, using: 0 HPUs\n",
      "GPU available: True (cuda), used: True\n",
      "TPU available: False, using: 0 TPU cores\n",
      "HPU available: False, using: 0 HPUs\n"
     ]
    },
    {
     "ename": "TypeError",
     "evalue": "eval() missing 1 required positional argument: 'path_to_save_res'",
     "output_type": "error",
     "traceback": [
      "\u001B[0;31m---------------------------------------------------------------------------\u001B[0m",
      "\u001B[0;31mTypeError\u001B[0m                                 Traceback (most recent call last)",
      "Cell \u001B[0;32mIn[21], line 34\u001B[0m\n\u001B[1;32m     32\u001B[0m dataset_original \u001B[38;5;241m=\u001B[39m Dataset\u001B[38;5;241m.\u001B[39mconstruct(original_df)\n\u001B[1;32m     33\u001B[0m path_to_save_res \u001B[38;5;241m=\u001B[39m \u001B[38;5;124mf\u001B[39m\u001B[38;5;124m\"\u001B[39m\u001B[38;5;124mpivot_results_rectools_\u001B[39m\u001B[38;5;132;01m{\u001B[39;00mdataset_name\u001B[38;5;132;01m}\u001B[39;00m\u001B[38;5;124m.csv\u001B[39m\u001B[38;5;124m\"\u001B[39m\n\u001B[0;32m---> 34\u001B[0m \u001B[38;5;28;43meval\u001B[39;49m\u001B[43m(\u001B[49m\u001B[43mmodels\u001B[49m\u001B[43m,\u001B[49m\u001B[43mloo_splitter\u001B[49m\u001B[43m,\u001B[49m\u001B[43mdataset_original\u001B[49m\u001B[43m)\u001B[49m\n",
      "\u001B[0;31mTypeError\u001B[0m: eval() missing 1 required positional argument: 'path_to_save_res'"
     ]
    }
   ],
   "execution_count": 21
  },
  {
   "metadata": {
    "ExecuteTime": {
     "end_time": "2025-07-06T17:50:33.324695100Z",
     "start_time": "2025-07-04T15:17:46.438898Z"
    }
   },
   "cell_type": "code",
   "source": "#eval(models,loo_splitter,dataset_original)",
   "outputs": [],
   "execution_count": 21
  }
 ],
 "metadata": {
  "kernelspec": {
   "display_name": ".venv",
   "language": "python",
   "name": "python3"
  },
  "language_info": {
   "codemirror_mode": {
    "name": "ipython",
    "version": 3
   },
   "file_extension": ".py",
   "mimetype": "text/x-python",
   "name": "python",
   "nbconvert_exporter": "python",
   "pygments_lexer": "ipython3",
   "version": "3.10.13"
  }
 },
 "nbformat": 4,
 "nbformat_minor": 2
}
