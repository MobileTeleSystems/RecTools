{
 "cells": [
  {
   "cell_type": "markdown",
   "metadata": {},
   "source": [
    "# Transformer comparison *HSTU* to *SASRec*\n",
    "This guide tells about *Hierarchical Sequential Transduction Unit* *(HSTU)* - self-attention mechanism proposed in paper \"Actions Speak Louder than Words: Trillion-Parameter Sequential Transducers\n",
    "for Generative Recommendations\n",
    "\". Also we show RecTools implementation metrics results on datasets movielens-1m and movielens-20m preprocessed by authors of the paper and preprocessed by RecTools framework\n",
    "\n",
    "### Table of Contents\n",
    "\n",
    "*  Review of HSTU\n",
    "*  Reproduce RecTools implementation in fully original paper setup\n",
    "*  Variation relative positional and time attentions\n",
    "*  Time context implementation details \n",
    "  \n"
   ]
  },
  {
   "metadata": {},
   "cell_type": "markdown",
   "source": "### Review of *HSTU*"
  },
  {
   "metadata": {},
   "cell_type": "markdown",
   "source": [
    "*HSTU* - is self-attention mechanism challenging recommendation systems problems. We make short overview.\n",
    "\n",
    "It was important to say that the hierarchy of the *HSTU* lies in the way\n",
    "it builds a unified sequence of features. In the case of *DLRM*, this is an end-to-end\n",
    "accounting of all features in one training example, *HSTU* selectively takes features to\n",
    "build contextual embeddings,passed to the beginning of sequence, to form\n",
    "the main sequence of the user's interaction history. In a simple case, by a unified sequence, we will simply mean a sequence of user interactions, even without interleaving with actions. In this setup paper metrics are shown. Paper training objective setup is shifted sequence, but also proposed approach emitting several training examples at the end of sequence for industrial scale setup for reducing steaming fine-tune training time complexity."
   ]
  },
  {
   "metadata": {},
   "cell_type": "markdown",
   "source": [
    "\n",
    "<div style=\"text-align:center\">\n",
    "    <img src=\"src/hstu_overview.png\" alt=\"Описание\" width=\"30%\">\n",
    "</div>"
   ]
  },
  {
   "metadata": {},
   "cell_type": "markdown",
   "source": [
    "\\begin{equation}\n",
    "U(X), V(X), Q(X), K(X) = \\text{Split}(\\phi_1(f_1(X))) \\tag{1}\n",
    "\\end{equation}\n",
    "\n",
    "\\begin{equation}\n",
    "A(X)V(X) = \\frac{\\phi_2 \\left( Q(X)K(X)^T + \\text{rab}^{p,t} \\right) V(X)}{N} \\tag{2}\n",
    "\\end{equation}\n",
    "\n",
    "\\begin{equation}\n",
    "Y(X) = f_2 \\left( \\text{Norm}(A(X)V(X)) \\odot U(X) \\right) \\tag{3}\n",
    "\\end{equation}"
   ]
  },
  {
   "metadata": {},
   "cell_type": "markdown",
   "source": "where $ f_{i} $ is a linear mapping, $\\phi$ is the SiLU function, and $\\text{rab}^{p,t} $ is the sum of two attention matrices: relative positional attention  and relative time attention. The first important change is the use of elementwise SiLU instead of SoftMax. This approach allows for faster learning in a setting where the set of items is constantly changing. Moreover, the denominator of the softmax normalizes attention, capturing all the previous context of user interactions, and this is not always justified. SiLU changes the absolute value of token-to-token attention. The second change is the weighting of the classic self-attention output by the $U(X)$ matrix, which solves the DLRM problem of feature linking.\n"
  },
  {
   "metadata": {},
   "cell_type": "markdown",
   "source": [
    "$\\text{rab}^{t}$ - relative time attention, the picture shows first stage matrice formation\n",
    "\n",
    "<div style=\"text-align:center\">\n",
    "    <img src=\"src/time_attention.jpg\" alt=\"Описание\" width=\"40%\">\n",
    "</div>"
   ]
  },
  {
   "metadata": {},
   "cell_type": "markdown",
   "source": [
    "\n",
    "\\begin{equation}\n",
    "    a_{i,j} = t_{i+1} - t_j\n",
    "\\end{equation}\n",
    "\\begin{equation}\n",
    "\\text{bucket}(a_{i,j}) = \n",
    "\\left\\lfloor \n",
    "\\frac{\\log(|a_{i,j}| \\vee 1)}{0.301} \n",
    "\\right\\rfloor\n",
    "\\end{equation}"
   ]
  },
  {
   "metadata": {},
   "cell_type": "markdown",
   "source": [
    "To predict the next item, we use the time of its appearance. This is a simulation of inference with  time aware setup. In the current formulation, this is a candidate generation model, and based on real interest, in addition to the user's history, we would also provide the start time of his session. In this case, the last token, or the last row in the attention matrix, will be conditioned on the start time of the user's session. In this way, the consistency of the model is maintained between training and testing (real-world inference).That is, all possible differences $a_{i,j}$ are quantized into buckets with logarithmic asymptotics. If the banquet values are greater than the specified $b_{max}$, then it is truncated to the maximum. Each bucket value corresponds to the learning parameter $w_{i}$, which is substituted instead of $a_{i,j}$. Thus, we form the matrix $\\text{rab}^{t}$. Moreover, we note that the time quantization function and the maximum number of buckets are hyperparameters. We can vary them depending on the nature of the content.\n",
    "\n",
    "Quantification of the timestamp difference actually breaks down the user's previous history into time microsessions relative to the current generation moment.\n",
    "\n"
   ]
  },
  {
   "metadata": {},
   "cell_type": "markdown",
   "source": "### RecTools implementation"
  },
  {
   "metadata": {},
   "cell_type": "markdown",
   "source": [
    "Details of the implementation.\n",
    "1) Has been written from jagged tensors to usual torch tensors\n",
    "2) Has been droped original paper init distributions over all parameters where it possible, and replaced by xavier distribution\n",
    "3) Left padding isntead of right for consistency to RecTools \n",
    "4) No Q,K caching option  "
   ]
  },
  {
   "cell_type": "code",
   "metadata": {
    "ExecuteTime": {
     "end_time": "2025-07-10T08:56:21.704096Z",
     "start_time": "2025-07-10T08:56:18.441535Z"
    }
   },
   "source": [
    "import os\n",
    "import typing as tp\n",
    "import warnings\n",
    "\n",
    "import pandas as pd\n",
    "import numpy as np\n",
    "import torch\n",
    "from lightning_fabric import seed_everything\n",
    "from pytorch_lightning import Trainer, LightningModule\n",
    "from pytorch_lightning.loggers import CSVLogger\n",
    "import pandas as pd\n",
    "import ast\n",
    "from pathlib import Path\n",
    "from pytorch_lightning.callbacks import   Callback\n",
    "from rectools.dataset import Dataset\n",
    "from rectools.models import HSTUModel\n",
    "from rectools.models.nn.item_net import IdEmbeddingsItemNet\n",
    "from rectools import Columns\n",
    "from scipy import sparse\n",
    "from pytorch_lightning.callbacks import EarlyStopping, ModelCheckpoint, Callback\n",
    "# Enable deterministic behaviour with CUDA >= 10.2\n",
    "os.environ[\"CUBLAS_WORKSPACE_CONFIG\"] = \":4096:8\"\n",
    "from rectools.model_selection.splitter import Splitter\n",
    "from rectools.model_selection import LastNSplitter, TimeRangeSplitter\n",
    "warnings.simplefilter(\"ignore\", UserWarning)\n",
    "warnings.simplefilter(\"ignore\", FutureWarning)\n",
    "from rectools.metrics import (\n",
    "    MAP,\n",
    "    CoveredUsers,\n",
    "    Intersection,\n",
    "    Serendipity,\n",
    "    NDCG,\n",
    "    AvgRecPopularity,\n",
    "    CatalogCoverage,\n",
    "    Recall,\n",
    "    SufficientReco,\n",
    ")\n",
    "from rectools.models import  SASRecModel\n",
    "from rectools.model_selection import  cross_validate\n",
    "from rectools.models.nn.item_net import IdEmbeddingsItemNet\n",
    "import json\n",
    "from utils import  RecallCallback, BestModelLoad, show_results"
   ],
   "outputs": [],
   "execution_count": 1
  },
  {
   "metadata": {
    "ExecuteTime": {
     "end_time": "2025-07-10T08:56:21.725219Z",
     "start_time": "2025-07-10T08:56:21.717776Z"
    }
   },
   "cell_type": "code",
   "source": [
    "RANDOM_STATE=42\n",
    "torch.use_deterministic_algorithms(True)\n",
    "seed_everything(RANDOM_STATE, workers=True)"
   ],
   "outputs": [
    {
     "name": "stderr",
     "output_type": "stream",
     "text": [
      "Seed set to 42\n"
     ]
    },
    {
     "data": {
      "text/plain": [
       "42"
      ]
     },
     "execution_count": 2,
     "metadata": {},
     "output_type": "execute_result"
    }
   ],
   "execution_count": 2
  },
  {
   "cell_type": "markdown",
   "metadata": {},
   "source": "### Movielens-1m"
  },
  {
   "metadata": {
    "ExecuteTime": {
     "end_time": "2025-07-10T08:56:24.524154Z",
     "start_time": "2025-07-10T08:56:21.919573Z"
    }
   },
   "cell_type": "code",
   "source": [
    "%%time\n",
    "!wget -q https://files.grouplens.org/datasets/movielens/ml-1m.zip -O ml-1m.zip\n",
    "!unzip -o ml-1m.zip\n",
    "!rm ml-1m.zip"
   ],
   "outputs": [
    {
     "name": "stdout",
     "output_type": "stream",
     "text": [
      "Archive:  ml-1m.zip\r\n",
      "  inflating: ml-1m/movies.dat        \r\n",
      "  inflating: ml-1m/ratings.dat       \r\n",
      "  inflating: ml-1m/README            \r\n",
      "  inflating: ml-1m/users.dat         \r\n",
      "CPU times: user 18.5 ms, sys: 40.1 ms, total: 58.6 ms\n",
      "Wall time: 2.6 s\n"
     ]
    }
   ],
   "execution_count": 3
  },
  {
   "metadata": {},
   "cell_type": "markdown",
   "source": "please sam razberis"
  },
  {
   "metadata": {
    "ExecuteTime": {
     "end_time": "2025-07-10T08:56:24.555901Z",
     "start_time": "2025-07-10T08:56:24.551567Z"
    }
   },
   "cell_type": "code",
   "source": [
    "def get_paper_df(dataset_name: str = \"ml-1m\") -> pd.DataFrame:\n",
    "    path  = f\"paper_{dataset_name}.csv\"\n",
    "    \n",
    "    with warnings.catch_warnings():\n",
    "        warnings.warn(f\"You can download the dataset from the article using the link above and rename it to {path}\", UserWarning)\n",
    "        paper_df = pd.read_csv(path)\n",
    "    paper_df = paper_df[[\"index\",\"user_id\", \"sequence_item_ids\", \"sequence_ratings\", \"sequence_timestamps\"]]\n",
    "    cols_to_expand = [\"sequence_item_ids\", \"sequence_ratings\", \"sequence_timestamps\"]\n",
    "    for col in cols_to_expand:\n",
    "        paper_df[col] = paper_df[col].apply(ast.literal_eval)\n",
    "    \n",
    "    expanded_df = paper_df[[\"user_id\"] + cols_to_expand]\n",
    "    expanded_df = expanded_df.explode(cols_to_expand)\n",
    "    expanded_df = expanded_df.rename(columns={\n",
    "        \"sequence_item_ids\": \"item_id\",\n",
    "        \"sequence_ratings\": \"rating\",\n",
    "        \"sequence_timestamps\": \"timestamp\"\n",
    "    })\n",
    "    expanded_df[\"item_id\"] = expanded_df[\"item_id\"].astype(int)\n",
    "    expanded_df[\"rating\"] = expanded_df[\"rating\"].astype(float)\n",
    "    expanded_df[\"timestamp\"] = expanded_df[\"timestamp\"].astype(int)\n",
    "    expanded_df[\"datetime\"] = pd.to_datetime(expanded_df[\"timestamp\"], unit=\"s\")\n",
    "    expanded_df = expanded_df.drop(columns=[\"timestamp\"])\n",
    "    expanded_df.reset_index(drop=True, inplace=True)\n",
    "    df = expanded_df[[\"user_id\", \"item_id\", \"datetime\"]]\n",
    "    df[\"weight\"] = 1\n",
    "    return df"
   ],
   "outputs": [],
   "execution_count": 4
  },
  {
   "metadata": {
    "ExecuteTime": {
     "end_time": "2025-07-10T08:56:24.602106Z",
     "start_time": "2025-07-10T08:56:24.599437Z"
    }
   },
   "cell_type": "code",
   "source": [
    "def get_original_df(dataset_name: str = \"ml-1m\") -> pd.DataFrame:\n",
    "    df = pd.read_csv(\n",
    "        f\"{dataset_name}/ratings.dat\", \n",
    "        sep=\"::\",\n",
    "        engine=\"python\",  # Because of 2-chars separators\n",
    "        header=None,\n",
    "        names=[Columns.User, Columns.Item, Columns.Weight, Columns.Datetime],\n",
    "    )\n",
    "    df[Columns.Datetime] = df[Columns.Datetime].astype(\"datetime64[s]\")\n",
    "    df[Columns.Weight] = 1\n",
    "    return df"
   ],
   "outputs": [],
   "execution_count": 5
  },
  {
   "metadata": {},
   "cell_type": "markdown",
   "source": "#### LOO validation, LOO test setup"
  },
  {
   "metadata": {
    "ExecuteTime": {
     "end_time": "2025-07-10T08:56:24.622944Z",
     "start_time": "2025-07-10T08:56:24.620981Z"
    }
   },
   "cell_type": "code",
   "source": "loo_splitter = LastNSplitter(1,1)",
   "outputs": [],
   "execution_count": 6
  },
  {
   "metadata": {},
   "cell_type": "markdown",
   "source": [
    "### Validation fold\n",
    "\n",
    "Models do not create validation fold during `fit` by default. However, there is a simple way to force it.\n",
    "\n",
    "Let's assume that we want to use Leave-One-Out validation for specific set of users. To apply it we need to implement `get_val_mask_func` with required logic and pass it to model during initialization.\n",
    "\n",
    "This function should receive interactions with standard RecTools columns and return a binary mask which identifies interactions that should not be used during model training. But instrad should be used for validation loss calculation. They will also be available for Lightning Callbacks to allow RecSys metrics computations.\n",
    "\n",
    "*Please make sure you do not use `partial` while doing this. Partial functions cannot be by serialized using RecTools.*"
   ]
  },
  {
   "metadata": {
    "ExecuteTime": {
     "end_time": "2025-07-10T08:56:24.697372Z",
     "start_time": "2025-07-10T08:56:24.694294Z"
    }
   },
   "cell_type": "code",
   "source": [
    "def leave_one_out_mask_for_users(\n",
    "    interactions: pd.DataFrame, val_users: tp.Optional[np.ndarray] = None\n",
    ") -> np.ndarray:\n",
    "    groups = interactions.groupby(Columns.User)\n",
    "    time_order = (\n",
    "        groups[Columns.Datetime]\n",
    "        .rank(method=\"first\", ascending=True)\n",
    "        .astype(int)\n",
    "    )\n",
    "    n_interactions = groups.transform(\"size\").astype(int)\n",
    "    inv_ranks = n_interactions - time_order\n",
    "    last_interact_mask  = inv_ranks == 0\n",
    "    if  val_users is not None:\n",
    "        return (interactions[Columns.User].isin(val_users)) & last_interact_mask\n",
    "    return last_interact_mask"
   ],
   "outputs": [],
   "execution_count": 7
  },
  {
   "metadata": {
    "ExecuteTime": {
     "end_time": "2025-07-10T08:56:24.782444Z",
     "start_time": "2025-07-10T08:56:24.778233Z"
    }
   },
   "cell_type": "code",
   "source": [
    "# Callback for calculating RecSys metrics\n",
    "RECALL_K = 10\n",
    "PATIENCE = 5\n",
    "DIVERGENCE_TRESHOLD = 0.01\n",
    "recall_callback = RecallCallback(k=RECALL_K, prog_bar=True)\n",
    "# Checkpoints based on validation loss\n",
    "max_recall_ckpt = ModelCheckpoint(\n",
    "    monitor=f\"recall@{RECALL_K}\",   # or just pass \"val_loss\" here,\n",
    "    mode=\"max\",\n",
    "    filename=\"best_recall\",\n",
    ")\n",
    "early_stopping_recall = EarlyStopping(\n",
    "    monitor=f\"recall@{RECALL_K}\",\n",
    "    mode=\"max\",\n",
    "    patience=PATIENCE,\n",
    "    divergence_threshold=DIVERGENCE_TRESHOLD,\n",
    ")\n",
    "best_model_load = BestModelLoad(\"best_recall\")\n",
    "callbacks = [recall_callback, max_recall_ckpt, best_model_load]"
   ],
   "outputs": [],
   "execution_count": 8
  },
  {
   "cell_type": "code",
   "metadata": {
    "ExecuteTime": {
     "end_time": "2025-07-10T08:56:24.904901Z",
     "start_time": "2025-07-10T08:56:24.902386Z"
    }
   },
   "source": [
    "# Function to get custom trainer\n",
    "def get_trainer() -> Trainer: \n",
    "    return Trainer(\n",
    "        accelerator=\"gpu\",\n",
    "        devices=1,\n",
    "        min_epochs=100,\n",
    "        max_epochs=100,\n",
    "        deterministic=True,\n",
    "        enable_model_summary=False,\n",
    "        enable_progress_bar=True,\n",
    "        callbacks=callbacks,\n",
    "        logger = CSVLogger(\"test_logs\"),  # We use CSV logging for this guide but there are many other options\n",
    "    )"
   ],
   "outputs": [],
   "execution_count": 9
  },
  {
   "metadata": {
    "ExecuteTime": {
     "end_time": "2025-07-10T08:56:25.256777Z",
     "start_time": "2025-07-10T08:56:25.252748Z"
    }
   },
   "cell_type": "code",
   "source": [
    "metrics_add = {}\n",
    "metrics_recall ={}\n",
    "metrics_ndcg = {}\n",
    "k_base =  10\n",
    "K = [10, 50,100,200]\n",
    "K_RECS= max(K)\n",
    "for k in K:\n",
    "    metrics_recall.update({\n",
    "            f\"recall@{k}\": Recall(k=k),\n",
    "        })\n",
    "    metrics_ndcg.update({\n",
    "            f\"ndcg@{k}\": NDCG(k=k, divide_by_achievable=True),\n",
    "        })\n",
    "metrics_add = {\n",
    "    f\"arp@{k_base}\": AvgRecPopularity(k=k_base, normalize=True),\n",
    "    f\"coverage@{k_base}\": CatalogCoverage(k=k_base, normalize=True),\n",
    "    f\"covered_users@{k_base}\": CoveredUsers(k=k_base),\n",
    "    f\"sufficient_reco@{k_base}\": SufficientReco(k=k_base),\n",
    "    f\"serendipity@{k_base}\": Serendipity(k=k_base),\n",
    "}\n",
    "metrics  = metrics_recall | metrics_ndcg | metrics_add"
   ],
   "outputs": [],
   "execution_count": 10
  },
  {
   "metadata": {
    "ExecuteTime": {
     "end_time": "2025-07-10T08:56:25.547531Z",
     "start_time": "2025-07-10T08:56:25.544236Z"
    }
   },
   "cell_type": "code",
   "source": [
    "def eval(models: dict, splitter:Splitter,dataset: Dataset, path_to_save_res:str) -> None:\n",
    "    cv_results = cross_validate(\n",
    "        dataset=dataset,\n",
    "        splitter=splitter,\n",
    "        models=models,\n",
    "        metrics=metrics,\n",
    "        k=K_RECS,\n",
    "        filter_viewed=True,\n",
    "    )\n",
    "    cv_results[\"models_log_dir\"] = {}\n",
    "    for model_name, model in models.items():\n",
    "        cv_results[\"models_log_dir\"].update({model_name:model.fit_trainer.log_dir})\n",
    "    with open(path_to_save_res, 'w', encoding='utf-8') as f:\n",
    "        json.dump(cv_results, f, ensure_ascii=False, indent=4)"
   ],
   "outputs": [],
   "execution_count": 11
  },
  {
   "metadata": {},
   "cell_type": "markdown",
   "source": "### Paper config"
  },
  {
   "metadata": {
    "ExecuteTime": {
     "end_time": "2025-07-10T08:56:26.148153Z",
     "start_time": "2025-07-10T08:56:26.144732Z"
    }
   },
   "cell_type": "code",
   "source": [
    "config = {\n",
    "    \"session_max_len\": 200,\n",
    "    \"lightning_module_kwargs\": {\"temperature\": 0.05}, # logits scale factor\n",
    "    \"item_net_block_types\": (IdEmbeddingsItemNet,),\n",
    "    \"get_val_mask_func\": leave_one_out_mask_for_users,\n",
    "    \"get_trainer_func\": get_trainer,\n",
    "    \"verbose\": 1,\n",
    "    \"loss\": 'sampled_softmax',\n",
    "    \"n_negatives\": 128,\n",
    "    \"use_pos_emb\": True,\n",
    "    \"dropout_rate\": 0.2,\n",
    "    \"n_factors\": 50, # embedding dim\n",
    "    \"n_heads\": 1,\n",
    "    \"n_blocks\": 2,\n",
    "    \"lr\": 0.001,\n",
    "    \"batch_size\": 128,\n",
    "    \"similarity_module_kwargs\": {\"distance\":\"cosine\"}\n",
    "}\n",
    "config_large = config.copy()\n",
    "config_large[\"n_blocks\"] = 8\n",
    "config_large[\"n_heads\"] = 2"
   ],
   "outputs": [],
   "execution_count": 12
  },
  {
   "metadata": {},
   "cell_type": "markdown",
   "source": "### RecTools reproduce"
  },
  {
   "metadata": {
    "ExecuteTime": {
     "end_time": "2025-07-10T08:56:26.972499Z",
     "start_time": "2025-07-10T08:56:26.970040Z"
    }
   },
   "cell_type": "code",
   "source": [
    "dataset_name = \"ml-1m\"\n",
    "path_to_save_res = f\"pivot_results_cosine_test_paper_{dataset_name}.json\""
   ],
   "outputs": [],
   "execution_count": 13
  },
  {
   "metadata": {
    "ExecuteTime": {
     "end_time": "2025-07-10T08:56:27.469830Z",
     "start_time": "2025-07-10T08:56:27.415132Z"
    }
   },
   "cell_type": "code",
   "source": [
    "hstu  = HSTUModel(    \n",
    "    relative_time_attention=False,\n",
    "    relative_pos_attention=True,\n",
    "    **config\n",
    ")\n",
    "hstu_large  = HSTUModel(    \n",
    "    relative_time_attention=True,\n",
    "    relative_pos_attention=True,\n",
    "    **config_large\n",
    ")\n",
    "models = {\n",
    "    \"hstu\": hstu,\n",
    "    \"hstu_large\": hstu_large,\n",
    "}"
   ],
   "outputs": [
    {
     "name": "stderr",
     "output_type": "stream",
     "text": [
      "GPU available: True (cuda), used: True\n",
      "TPU available: False, using: 0 TPU cores\n",
      "HPU available: False, using: 0 HPUs\n",
      "GPU available: True (cuda), used: True\n",
      "TPU available: False, using: 0 TPU cores\n",
      "HPU available: False, using: 0 HPUs\n"
     ]
    }
   ],
   "execution_count": 14
  },
  {
   "metadata": {},
   "cell_type": "code",
   "source": [
    "paper_df = get_paper_df(dataset_name)\n",
    "dataset_paper = Dataset.construct(paper_df)\n",
    "eval(models,loo_splitter,dataset_paper,path_to_save_res)"
   ],
   "outputs": [],
   "execution_count": null
  },
  {
   "metadata": {
    "ExecuteTime": {
     "end_time": "2025-07-08T13:45:48.978424Z",
     "start_time": "2025-07-08T13:45:48.840400Z"
    }
   },
   "cell_type": "code",
   "source": "show_results(path_to_save_res, show_loss=False)",
   "outputs": [
    {
     "data": {
      "text/plain": [
       "<pandas.io.formats.style.Styler at 0x79b399fbb010>"
      ],
      "text/html": [
       "<style type=\"text/css\">\n",
       "#T_ded8f_row0_col0, #T_ded8f_row0_col1, #T_ded8f_row0_col2, #T_ded8f_row0_col3, #T_ded8f_row0_col4, #T_ded8f_row0_col5, #T_ded8f_row0_col6, #T_ded8f_row0_col7 {\n",
       "  text-align: center;\n",
       "  background-color: #f7fbff;\n",
       "  color: #000000;\n",
       "}\n",
       "#T_ded8f_row1_col0, #T_ded8f_row1_col1, #T_ded8f_row1_col2, #T_ded8f_row1_col3, #T_ded8f_row1_col4, #T_ded8f_row1_col5, #T_ded8f_row1_col6, #T_ded8f_row1_col7 {\n",
       "  text-align: center;\n",
       "  background-color: #08306b;\n",
       "  color: #f1f1f1;\n",
       "}\n",
       "</style>\n",
       "<table id=\"T_ded8f\">\n",
       "  <caption>Metrics Comparison</caption>\n",
       "  <thead>\n",
       "    <tr>\n",
       "      <th class=\"blank level0\" >&nbsp;</th>\n",
       "      <th id=\"T_ded8f_level0_col0\" class=\"col_heading level0 col0\" >recall@10</th>\n",
       "      <th id=\"T_ded8f_level0_col1\" class=\"col_heading level0 col1\" >ndcg@10</th>\n",
       "      <th id=\"T_ded8f_level0_col2\" class=\"col_heading level0 col2\" >recall@50</th>\n",
       "      <th id=\"T_ded8f_level0_col3\" class=\"col_heading level0 col3\" >ndcg@50</th>\n",
       "      <th id=\"T_ded8f_level0_col4\" class=\"col_heading level0 col4\" >recall@200</th>\n",
       "      <th id=\"T_ded8f_level0_col5\" class=\"col_heading level0 col5\" >ndcg@200</th>\n",
       "      <th id=\"T_ded8f_level0_col6\" class=\"col_heading level0 col6\" >coverage@10</th>\n",
       "      <th id=\"T_ded8f_level0_col7\" class=\"col_heading level0 col7\" >serendipity@10</th>\n",
       "    </tr>\n",
       "    <tr>\n",
       "      <th class=\"index_name level0\" >model</th>\n",
       "      <th class=\"blank col0\" >&nbsp;</th>\n",
       "      <th class=\"blank col1\" >&nbsp;</th>\n",
       "      <th class=\"blank col2\" >&nbsp;</th>\n",
       "      <th class=\"blank col3\" >&nbsp;</th>\n",
       "      <th class=\"blank col4\" >&nbsp;</th>\n",
       "      <th class=\"blank col5\" >&nbsp;</th>\n",
       "      <th class=\"blank col6\" >&nbsp;</th>\n",
       "      <th class=\"blank col7\" >&nbsp;</th>\n",
       "    </tr>\n",
       "  </thead>\n",
       "  <tbody>\n",
       "    <tr>\n",
       "      <th id=\"T_ded8f_level0_row0\" class=\"row_heading level0 row0\" >hstu</th>\n",
       "      <td id=\"T_ded8f_row0_col0\" class=\"data row0 col0\" >0.3076</td>\n",
       "      <td id=\"T_ded8f_row0_col1\" class=\"data row0 col1\" >0.1724</td>\n",
       "      <td id=\"T_ded8f_row0_col2\" class=\"data row0 col2\" >0.5818</td>\n",
       "      <td id=\"T_ded8f_row0_col3\" class=\"data row0 col3\" >0.2330</td>\n",
       "      <td id=\"T_ded8f_row0_col4\" class=\"data row0 col4\" >0.7825</td>\n",
       "      <td id=\"T_ded8f_row0_col5\" class=\"data row0 col5\" >0.2636</td>\n",
       "      <td id=\"T_ded8f_row0_col6\" class=\"data row0 col6\" >0.6274</td>\n",
       "      <td id=\"T_ded8f_row0_col7\" class=\"data row0 col7\" >0.0027</td>\n",
       "    </tr>\n",
       "    <tr>\n",
       "      <th id=\"T_ded8f_level0_row1\" class=\"row_heading level0 row1\" >hstu_large</th>\n",
       "      <td id=\"T_ded8f_row1_col0\" class=\"data row1 col0\" >0.3349</td>\n",
       "      <td id=\"T_ded8f_row1_col1\" class=\"data row1 col1\" >0.1891</td>\n",
       "      <td id=\"T_ded8f_row1_col2\" class=\"data row1 col2\" >0.5977</td>\n",
       "      <td id=\"T_ded8f_row1_col3\" class=\"data row1 col3\" >0.2474</td>\n",
       "      <td id=\"T_ded8f_row1_col4\" class=\"data row1 col4\" >0.7948</td>\n",
       "      <td id=\"T_ded8f_row1_col5\" class=\"data row1 col5\" >0.2775</td>\n",
       "      <td id=\"T_ded8f_row1_col6\" class=\"data row1 col6\" >0.6587</td>\n",
       "      <td id=\"T_ded8f_row1_col7\" class=\"data row1 col7\" >0.0029</td>\n",
       "    </tr>\n",
       "  </tbody>\n",
       "</table>\n"
      ]
     },
     "metadata": {},
     "output_type": "display_data"
    },
    {
     "data": {
      "text/plain": [
       "<Figure size 1000x600 with 1 Axes>"
      ],
      "image/png": "[encoded data removed]"
     },
     "metadata": {},
     "output_type": "display_data"
    }
   ],
   "execution_count": 27
  },
  {
   "metadata": {},
   "cell_type": "markdown",
   "source": "#### Comparison"
  },
  {
   "metadata": {},
   "cell_type": "markdown",
   "source": [
    "| Method              | HR@10  | NDCG@10 | HR@50  | NDCG@50 | HR@200 | NDCG@200 |\n",
    "|---------------------|--------|---------|--------|---------|--------|----------|\n",
    "| HSTU paper          | 0.3097 | 0.1720  | 0.5754 | 0.2307  | 0.7716 | 0.2606   |\n",
    "| HSTU RecTools       | 0.3076 | 0.1724  | 0.5818 | 0.2330  | 0.7825 | 0.2636   |\n",
    "| HSTU-large paper    | 0.3294 | 0.1893  | 0.5935 | 0.2481  | 0.7839 | 0.2771   |\n",
    "| HSTU-large RecTools | 0.3349 | 0.1891  | 0.5977 | 0.2474  | 0.7948 | 0.2775   |"
   ]
  },
  {
   "metadata": {
    "ExecuteTime": {
     "end_time": "2025-07-08T15:37:32.817508Z",
     "start_time": "2025-07-08T15:37:32.814990Z"
    }
   },
   "cell_type": "code",
   "source": "path_to_save_res = f\"pivot_results_RecTools_{dataset_name}.json\"",
   "outputs": [],
   "execution_count": 13
  },
  {
   "metadata": {},
   "cell_type": "code",
   "source": [
    "hstu  = HSTUModel(    \n",
    "    relative_time_attention=True,\n",
    "    relative_pos_attention=True,\n",
    "    **config\n",
    ")\n",
    "hstu_rab_p  = HSTUModel(    \n",
    "    relative_time_attention=False,\n",
    "    relative_pos_attention=True,\n",
    "    **config\n",
    ")\n",
    "hstu_rab_t  = HSTUModel(    \n",
    "    relative_time_attention=True,\n",
    "    relative_pos_attention=False,\n",
    "    **config\n",
    ")\n",
    "hstu_no_rab  = HSTUModel(    \n",
    "    relative_time_attention=False,\n",
    "    relative_pos_attention=False,\n",
    "    **config\n",
    ")\n",
    "sasrec = SASRecModel(\n",
    "    **config\n",
    ")\n",
    "models = {\n",
    "    \"hstu_rab_t\": hstu_rab_t,\n",
    "    \"hstu_rab_p\": hstu_rab_p,\n",
    "    \"hstu\": hstu,\n",
    "    \"hstu_no_rab\": hstu_no_rab,\n",
    "    \"sasrec\": sasrec,\n",
    "}\n",
    "original_df = get_original_df(\"ml-1m\")\n",
    "dataset_original = Dataset.construct(original_df)\n",
    "eval(models,loo_splitter,dataset_original,path_to_save_res)"
   ],
   "outputs": [],
   "execution_count": null
  },
  {
   "metadata": {
    "ExecuteTime": {
     "end_time": "2025-07-08T13:40:15.091594Z",
     "start_time": "2025-07-08T13:40:14.919883Z"
    }
   },
   "cell_type": "code",
   "source": "show_results(path_to_save_res, show_loss=False)",
   "outputs": [
    {
     "data": {
      "text/plain": [
       "<pandas.io.formats.style.Styler at 0x79b2f7713910>"
      ],
      "text/html": [
       "<style type=\"text/css\">\n",
       "#T_64f5f_row0_col0 {\n",
       "  text-align: center;\n",
       "  background-color: #1966ad;\n",
       "  color: #f1f1f1;\n",
       "}\n",
       "#T_64f5f_row0_col1 {\n",
       "  text-align: center;\n",
       "  background-color: #125ea6;\n",
       "  color: #f1f1f1;\n",
       "}\n",
       "#T_64f5f_row0_col2, #T_64f5f_row0_col4, #T_64f5f_row2_col0, #T_64f5f_row2_col1, #T_64f5f_row2_col3, #T_64f5f_row2_col5, #T_64f5f_row2_col7, #T_64f5f_row4_col6 {\n",
       "  text-align: center;\n",
       "  background-color: #08306b;\n",
       "  color: #f1f1f1;\n",
       "}\n",
       "#T_64f5f_row0_col3 {\n",
       "  text-align: center;\n",
       "  background-color: #084d96;\n",
       "  color: #f1f1f1;\n",
       "}\n",
       "#T_64f5f_row0_col5 {\n",
       "  text-align: center;\n",
       "  background-color: #084a91;\n",
       "  color: #f1f1f1;\n",
       "}\n",
       "#T_64f5f_row0_col6 {\n",
       "  text-align: center;\n",
       "  background-color: #3888c1;\n",
       "  color: #f1f1f1;\n",
       "}\n",
       "#T_64f5f_row0_col7 {\n",
       "  text-align: center;\n",
       "  background-color: #084f99;\n",
       "  color: #f1f1f1;\n",
       "}\n",
       "#T_64f5f_row1_col0 {\n",
       "  text-align: center;\n",
       "  background-color: #6caed6;\n",
       "  color: #f1f1f1;\n",
       "}\n",
       "#T_64f5f_row1_col1 {\n",
       "  text-align: center;\n",
       "  background-color: #87bddc;\n",
       "  color: #000000;\n",
       "}\n",
       "#T_64f5f_row1_col2 {\n",
       "  text-align: center;\n",
       "  background-color: #4594c7;\n",
       "  color: #f1f1f1;\n",
       "}\n",
       "#T_64f5f_row1_col3 {\n",
       "  text-align: center;\n",
       "  background-color: #79b5d9;\n",
       "  color: #000000;\n",
       "}\n",
       "#T_64f5f_row1_col4 {\n",
       "  text-align: center;\n",
       "  background-color: #b8d5ea;\n",
       "  color: #000000;\n",
       "}\n",
       "#T_64f5f_row1_col5 {\n",
       "  text-align: center;\n",
       "  background-color: #8abfdd;\n",
       "  color: #000000;\n",
       "}\n",
       "#T_64f5f_row1_col6 {\n",
       "  text-align: center;\n",
       "  background-color: #083d7f;\n",
       "  color: #f1f1f1;\n",
       "}\n",
       "#T_64f5f_row1_col7 {\n",
       "  text-align: center;\n",
       "  background-color: #3989c1;\n",
       "  color: #f1f1f1;\n",
       "}\n",
       "#T_64f5f_row2_col2 {\n",
       "  text-align: center;\n",
       "  background-color: #083674;\n",
       "  color: #f1f1f1;\n",
       "}\n",
       "#T_64f5f_row2_col4 {\n",
       "  text-align: center;\n",
       "  background-color: #08509b;\n",
       "  color: #f1f1f1;\n",
       "}\n",
       "#T_64f5f_row2_col6 {\n",
       "  text-align: center;\n",
       "  background-color: #1865ac;\n",
       "  color: #f1f1f1;\n",
       "}\n",
       "#T_64f5f_row3_col0 {\n",
       "  text-align: center;\n",
       "  background-color: #d2e3f3;\n",
       "  color: #000000;\n",
       "}\n",
       "#T_64f5f_row3_col1 {\n",
       "  text-align: center;\n",
       "  background-color: #cee0f2;\n",
       "  color: #000000;\n",
       "}\n",
       "#T_64f5f_row3_col2 {\n",
       "  text-align: center;\n",
       "  background-color: #e2edf8;\n",
       "  color: #000000;\n",
       "}\n",
       "#T_64f5f_row3_col3 {\n",
       "  text-align: center;\n",
       "  background-color: #d3e4f3;\n",
       "  color: #000000;\n",
       "}\n",
       "#T_64f5f_row3_col4 {\n",
       "  text-align: center;\n",
       "  background-color: #e0ecf8;\n",
       "  color: #000000;\n",
       "}\n",
       "#T_64f5f_row3_col5 {\n",
       "  text-align: center;\n",
       "  background-color: #d0e2f2;\n",
       "  color: #000000;\n",
       "}\n",
       "#T_64f5f_row3_col6, #T_64f5f_row3_col7, #T_64f5f_row4_col0, #T_64f5f_row4_col1, #T_64f5f_row4_col2, #T_64f5f_row4_col3, #T_64f5f_row4_col4, #T_64f5f_row4_col5 {\n",
       "  text-align: center;\n",
       "  background-color: #f7fbff;\n",
       "  color: #000000;\n",
       "}\n",
       "#T_64f5f_row4_col7 {\n",
       "  text-align: center;\n",
       "  background-color: #cddff1;\n",
       "  color: #000000;\n",
       "}\n",
       "</style>\n",
       "<table id=\"T_64f5f\">\n",
       "  <caption>Metrics Comparison</caption>\n",
       "  <thead>\n",
       "    <tr>\n",
       "      <th class=\"blank level0\" >&nbsp;</th>\n",
       "      <th id=\"T_64f5f_level0_col0\" class=\"col_heading level0 col0\" >recall@10</th>\n",
       "      <th id=\"T_64f5f_level0_col1\" class=\"col_heading level0 col1\" >ndcg@10</th>\n",
       "      <th id=\"T_64f5f_level0_col2\" class=\"col_heading level0 col2\" >recall@50</th>\n",
       "      <th id=\"T_64f5f_level0_col3\" class=\"col_heading level0 col3\" >ndcg@50</th>\n",
       "      <th id=\"T_64f5f_level0_col4\" class=\"col_heading level0 col4\" >recall@200</th>\n",
       "      <th id=\"T_64f5f_level0_col5\" class=\"col_heading level0 col5\" >ndcg@200</th>\n",
       "      <th id=\"T_64f5f_level0_col6\" class=\"col_heading level0 col6\" >coverage@10</th>\n",
       "      <th id=\"T_64f5f_level0_col7\" class=\"col_heading level0 col7\" >serendipity@10</th>\n",
       "    </tr>\n",
       "    <tr>\n",
       "      <th class=\"index_name level0\" >model</th>\n",
       "      <th class=\"blank col0\" >&nbsp;</th>\n",
       "      <th class=\"blank col1\" >&nbsp;</th>\n",
       "      <th class=\"blank col2\" >&nbsp;</th>\n",
       "      <th class=\"blank col3\" >&nbsp;</th>\n",
       "      <th class=\"blank col4\" >&nbsp;</th>\n",
       "      <th class=\"blank col5\" >&nbsp;</th>\n",
       "      <th class=\"blank col6\" >&nbsp;</th>\n",
       "      <th class=\"blank col7\" >&nbsp;</th>\n",
       "    </tr>\n",
       "  </thead>\n",
       "  <tbody>\n",
       "    <tr>\n",
       "      <th id=\"T_64f5f_level0_row0\" class=\"row_heading level0 row0\" >hstu_rab_t</th>\n",
       "      <td id=\"T_64f5f_row0_col0\" class=\"data row0 col0\" >0.3188</td>\n",
       "      <td id=\"T_64f5f_row0_col1\" class=\"data row0 col1\" >0.1849</td>\n",
       "      <td id=\"T_64f5f_row0_col2\" class=\"data row0 col2\" >0.5909</td>\n",
       "      <td id=\"T_64f5f_row0_col3\" class=\"data row0 col3\" >0.2452</td>\n",
       "      <td id=\"T_64f5f_row0_col4\" class=\"data row0 col4\" >0.7877</td>\n",
       "      <td id=\"T_64f5f_row0_col5\" class=\"data row0 col5\" >0.2752</td>\n",
       "      <td id=\"T_64f5f_row0_col6\" class=\"data row0 col6\" >0.6390</td>\n",
       "      <td id=\"T_64f5f_row0_col7\" class=\"data row0 col7\" >0.0028</td>\n",
       "    </tr>\n",
       "    <tr>\n",
       "      <th id=\"T_64f5f_level0_row1\" class=\"row_heading level0 row1\" >hstu_rab_p</th>\n",
       "      <td id=\"T_64f5f_row1_col0\" class=\"data row1 col0\" >0.3087</td>\n",
       "      <td id=\"T_64f5f_row1_col1\" class=\"data row1 col1\" >0.1745</td>\n",
       "      <td id=\"T_64f5f_row1_col2\" class=\"data row1 col2\" >0.5777</td>\n",
       "      <td id=\"T_64f5f_row1_col3\" class=\"data row1 col3\" >0.2340</td>\n",
       "      <td id=\"T_64f5f_row1_col4\" class=\"data row1 col4\" >0.7706</td>\n",
       "      <td id=\"T_64f5f_row1_col5\" class=\"data row1 col5\" >0.2635</td>\n",
       "      <td id=\"T_64f5f_row1_col6\" class=\"data row1 col6\" >0.6479</td>\n",
       "      <td id=\"T_64f5f_row1_col7\" class=\"data row1 col7\" >0.0027</td>\n",
       "    </tr>\n",
       "    <tr>\n",
       "      <th id=\"T_64f5f_level0_row2\" class=\"row_heading level0 row2\" >hstu</th>\n",
       "      <td id=\"T_64f5f_row2_col0\" class=\"data row2 col0\" >0.3259</td>\n",
       "      <td id=\"T_64f5f_row2_col1\" class=\"data row2 col1\" >0.1895</td>\n",
       "      <td id=\"T_64f5f_row2_col2\" class=\"data row2 col2\" >0.5901</td>\n",
       "      <td id=\"T_64f5f_row2_col3\" class=\"data row2 col3\" >0.2481</td>\n",
       "      <td id=\"T_64f5f_row2_col4\" class=\"data row2 col4\" >0.7847</td>\n",
       "      <td id=\"T_64f5f_row2_col5\" class=\"data row2 col5\" >0.2776</td>\n",
       "      <td id=\"T_64f5f_row2_col6\" class=\"data row2 col6\" >0.6431</td>\n",
       "      <td id=\"T_64f5f_row2_col7\" class=\"data row2 col7\" >0.0029</td>\n",
       "    </tr>\n",
       "    <tr>\n",
       "      <th id=\"T_64f5f_level0_row3\" class=\"row_heading level0 row3\" >hstu_no_rab</th>\n",
       "      <td id=\"T_64f5f_row3_col0\" class=\"data row3 col0\" >0.2981</td>\n",
       "      <td id=\"T_64f5f_row3_col1\" class=\"data row3 col1\" >0.1686</td>\n",
       "      <td id=\"T_64f5f_row3_col2\" class=\"data row3 col2\" >0.5601</td>\n",
       "      <td id=\"T_64f5f_row3_col3\" class=\"data row3 col3\" >0.2264</td>\n",
       "      <td id=\"T_64f5f_row3_col4\" class=\"data row3 col4\" >0.7663</td>\n",
       "      <td id=\"T_64f5f_row3_col5\" class=\"data row3 col5\" >0.2579</td>\n",
       "      <td id=\"T_64f5f_row3_col6\" class=\"data row3 col6\" >0.6183</td>\n",
       "      <td id=\"T_64f5f_row3_col7\" class=\"data row3 col7\" >0.0025</td>\n",
       "    </tr>\n",
       "    <tr>\n",
       "      <th id=\"T_64f5f_level0_row4\" class=\"row_heading level0 row4\" >sasrec</th>\n",
       "      <td id=\"T_64f5f_row4_col0\" class=\"data row4 col0\" >0.2917</td>\n",
       "      <td id=\"T_64f5f_row4_col1\" class=\"data row4 col1\" >0.1631</td>\n",
       "      <td id=\"T_64f5f_row4_col2\" class=\"data row4 col2\" >0.5565</td>\n",
       "      <td id=\"T_64f5f_row4_col3\" class=\"data row4 col3\" >0.2216</td>\n",
       "      <td id=\"T_64f5f_row4_col4\" class=\"data row4 col4\" >0.7635</td>\n",
       "      <td id=\"T_64f5f_row4_col5\" class=\"data row4 col5\" >0.2531</td>\n",
       "      <td id=\"T_64f5f_row4_col6\" class=\"data row4 col6\" >0.6496</td>\n",
       "      <td id=\"T_64f5f_row4_col7\" class=\"data row4 col7\" >0.0026</td>\n",
       "    </tr>\n",
       "  </tbody>\n",
       "</table>\n"
      ]
     },
     "metadata": {},
     "output_type": "display_data"
    },
    {
     "data": {
      "text/plain": [
       "<Figure size 1000x600 with 1 Axes>"
      ],
      "image/png": "[encoded data removed]"
     },
     "metadata": {},
     "output_type": "display_data"
    }
   ],
   "execution_count": 25
  }
 ],
 "metadata": {
  "kernelspec": {
   "display_name": ".venv",
   "language": "python",
   "name": "python3"
  },
  "language_info": {
   "codemirror_mode": {
    "name": "ipython",
    "version": 3
   },
   "file_extension": ".py",
   "mimetype": "text/x-python",
   "name": "python",
   "nbconvert_exporter": "python",
   "pygments_lexer": "ipython3",
   "version": "3.10.13"
  }
 },
 "nbformat": 4,
 "nbformat_minor": 2
}
