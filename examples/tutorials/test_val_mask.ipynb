{
 "cells": [
  {
   "cell_type": "code",
   "id": "initial_id",
   "metadata": {
    "collapsed": true,
    "ExecuteTime": {
     "end_time": "2025-07-01T04:17:19.607129Z",
     "start_time": "2025-07-01T04:17:19.603508Z"
    }
   },
   "source": [
    "import typing as tp\n",
    "import warnings\n",
    "from pathlib import Path\n",
    "\n",
    "import numpy as np\n",
    "import pandas as pd\n",
    "from rectools import Columns\n",
    "from rectools.models.base import ModelBase\n",
    "from scipy import sparse\n",
    "\n",
    "def leave_one_out_mask_for_users(\n",
    "    interactions: pd.DataFrame, val_users: tp.Optional[np.ndarray] = None\n",
    ") -> np.ndarray:\n",
    "    rank = (\n",
    "        interactions.sort_values(Columns.Datetime, ascending=False, kind=\"stable\")\n",
    "        .groupby(Columns.User, sort=False)\n",
    "        .cumcount()\n",
    "    )\n",
    "    return rank"
   ],
   "outputs": [],
   "execution_count": 83
  },
  {
   "metadata": {
    "ExecuteTime": {
     "end_time": "2025-07-01T04:17:20.305364Z",
     "start_time": "2025-07-01T04:17:20.301779Z"
    }
   },
   "cell_type": "code",
   "source": [
    "def interactions():\n",
    "    df = pd.DataFrame(\n",
    "        [\n",
    "            [1, 1, 1, \"2021-09-01\"],  # 0\n",
    "            [1, 2, 1, \"2021-09-02\"],  # 1\n",
    "            [1, 6, 1, \"2021-09-03\"],  # 2\n",
    "            [1, 2, 1, \"2021-09-04\"],  # 3\n",
    "            [1, 4, 1, \"2021-09-05\"],  # 4\n",
    "            [2, 3, 1, \"2021-09-05\"],  # 5\n",
    "            [2, 2, 1, \"2021-08-20\"],  # 6\n",
    "            [2, 2, 1, \"2021-09-06\"],  # 7\n",
    "            [3, 1, 1, \"2021-09-05\"],  # 8\n",
    "            [1, 3, 1, \"2021-09-05\"],  # 9\n",
    "        ],\n",
    "        columns=[Columns.User, Columns.Item, Columns.Weight, Columns.Datetime],\n",
    "    ).astype({Columns.Datetime: \"datetime64[ns]\"})\n",
    "    return df"
   ],
   "id": "6416703d140a1e84",
   "outputs": [],
   "execution_count": 85
  },
  {
   "metadata": {
    "ExecuteTime": {
     "end_time": "2025-07-01T04:17:20.752946Z",
     "start_time": "2025-07-01T04:17:20.745847Z"
    }
   },
   "cell_type": "code",
   "source": [
    "df = interactions()\n",
    "df"
   ],
   "id": "2406129eb3693e98",
   "outputs": [
    {
     "data": {
      "text/plain": [
       "   user_id  item_id  weight   datetime\n",
       "0        1        1       1 2021-09-01\n",
       "1        1        2       1 2021-09-02\n",
       "2        1        6       1 2021-09-03\n",
       "3        1        2       1 2021-09-04\n",
       "4        1        4       1 2021-09-05\n",
       "5        2        3       1 2021-09-05\n",
       "6        2        2       1 2021-08-20\n",
       "7        2        2       1 2021-09-06\n",
       "8        3        1       1 2021-09-05\n",
       "9        1        3       1 2021-09-05"
      ],
      "text/html": [
       "<div>\n",
       "<style scoped>\n",
       "    .dataframe tbody tr th:only-of-type {\n",
       "        vertical-align: middle;\n",
       "    }\n",
       "\n",
       "    .dataframe tbody tr th {\n",
       "        vertical-align: top;\n",
       "    }\n",
       "\n",
       "    .dataframe thead th {\n",
       "        text-align: right;\n",
       "    }\n",
       "</style>\n",
       "<table border=\"1\" class=\"dataframe\">\n",
       "  <thead>\n",
       "    <tr style=\"text-align: right;\">\n",
       "      <th></th>\n",
       "      <th>user_id</th>\n",
       "      <th>item_id</th>\n",
       "      <th>weight</th>\n",
       "      <th>datetime</th>\n",
       "    </tr>\n",
       "  </thead>\n",
       "  <tbody>\n",
       "    <tr>\n",
       "      <th>0</th>\n",
       "      <td>1</td>\n",
       "      <td>1</td>\n",
       "      <td>1</td>\n",
       "      <td>2021-09-01</td>\n",
       "    </tr>\n",
       "    <tr>\n",
       "      <th>1</th>\n",
       "      <td>1</td>\n",
       "      <td>2</td>\n",
       "      <td>1</td>\n",
       "      <td>2021-09-02</td>\n",
       "    </tr>\n",
       "    <tr>\n",
       "      <th>2</th>\n",
       "      <td>1</td>\n",
       "      <td>6</td>\n",
       "      <td>1</td>\n",
       "      <td>2021-09-03</td>\n",
       "    </tr>\n",
       "    <tr>\n",
       "      <th>3</th>\n",
       "      <td>1</td>\n",
       "      <td>2</td>\n",
       "      <td>1</td>\n",
       "      <td>2021-09-04</td>\n",
       "    </tr>\n",
       "    <tr>\n",
       "      <th>4</th>\n",
       "      <td>1</td>\n",
       "      <td>4</td>\n",
       "      <td>1</td>\n",
       "      <td>2021-09-05</td>\n",
       "    </tr>\n",
       "    <tr>\n",
       "      <th>5</th>\n",
       "      <td>2</td>\n",
       "      <td>3</td>\n",
       "      <td>1</td>\n",
       "      <td>2021-09-05</td>\n",
       "    </tr>\n",
       "    <tr>\n",
       "      <th>6</th>\n",
       "      <td>2</td>\n",
       "      <td>2</td>\n",
       "      <td>1</td>\n",
       "      <td>2021-08-20</td>\n",
       "    </tr>\n",
       "    <tr>\n",
       "      <th>7</th>\n",
       "      <td>2</td>\n",
       "      <td>2</td>\n",
       "      <td>1</td>\n",
       "      <td>2021-09-06</td>\n",
       "    </tr>\n",
       "    <tr>\n",
       "      <th>8</th>\n",
       "      <td>3</td>\n",
       "      <td>1</td>\n",
       "      <td>1</td>\n",
       "      <td>2021-09-05</td>\n",
       "    </tr>\n",
       "    <tr>\n",
       "      <th>9</th>\n",
       "      <td>1</td>\n",
       "      <td>3</td>\n",
       "      <td>1</td>\n",
       "      <td>2021-09-05</td>\n",
       "    </tr>\n",
       "  </tbody>\n",
       "</table>\n",
       "</div>"
      ]
     },
     "execution_count": 86,
     "metadata": {},
     "output_type": "execute_result"
    }
   ],
   "execution_count": 86
  },
  {
   "metadata": {
    "ExecuteTime": {
     "end_time": "2025-07-01T04:17:22.072608Z",
     "start_time": "2025-07-01T04:17:22.068220Z"
    }
   },
   "cell_type": "code",
   "source": "rank = leave_one_out_mask_for_users(df)",
   "id": "c8b3eb1db1fb6aed",
   "outputs": [],
   "execution_count": 87
  },
  {
   "metadata": {
    "ExecuteTime": {
     "end_time": "2025-07-01T04:17:22.410641Z",
     "start_time": "2025-07-01T04:17:22.406397Z"
    }
   },
   "cell_type": "code",
   "source": [
    "mask = rank==0\n",
    "mask"
   ],
   "id": "5f1413071c303f64",
   "outputs": [
    {
     "data": {
      "text/plain": [
       "7     True\n",
       "4     True\n",
       "5    False\n",
       "8     True\n",
       "9    False\n",
       "3    False\n",
       "2    False\n",
       "1    False\n",
       "0    False\n",
       "6    False\n",
       "dtype: bool"
      ]
     },
     "execution_count": 88,
     "metadata": {},
     "output_type": "execute_result"
    }
   ],
   "execution_count": 88
  },
  {
   "metadata": {
    "ExecuteTime": {
     "end_time": "2025-07-01T04:17:24.901173Z",
     "start_time": "2025-07-01T04:17:24.894476Z"
    }
   },
   "cell_type": "code",
   "source": "df[mask]",
   "id": "b4c7b728738131ad",
   "outputs": [
    {
     "name": "stderr",
     "output_type": "stream",
     "text": [
      "/tmp/ipykernel_2906290/978709595.py:1: UserWarning: Boolean Series key will be reindexed to match DataFrame index.\n",
      "  df[mask]\n"
     ]
    },
    {
     "data": {
      "text/plain": [
       "   user_id  item_id  weight   datetime\n",
       "4        1        4       1 2021-09-05\n",
       "7        2        2       1 2021-09-06\n",
       "8        3        1       1 2021-09-05"
      ],
      "text/html": [
       "<div>\n",
       "<style scoped>\n",
       "    .dataframe tbody tr th:only-of-type {\n",
       "        vertical-align: middle;\n",
       "    }\n",
       "\n",
       "    .dataframe tbody tr th {\n",
       "        vertical-align: top;\n",
       "    }\n",
       "\n",
       "    .dataframe thead th {\n",
       "        text-align: right;\n",
       "    }\n",
       "</style>\n",
       "<table border=\"1\" class=\"dataframe\">\n",
       "  <thead>\n",
       "    <tr style=\"text-align: right;\">\n",
       "      <th></th>\n",
       "      <th>user_id</th>\n",
       "      <th>item_id</th>\n",
       "      <th>weight</th>\n",
       "      <th>datetime</th>\n",
       "    </tr>\n",
       "  </thead>\n",
       "  <tbody>\n",
       "    <tr>\n",
       "      <th>4</th>\n",
       "      <td>1</td>\n",
       "      <td>4</td>\n",
       "      <td>1</td>\n",
       "      <td>2021-09-05</td>\n",
       "    </tr>\n",
       "    <tr>\n",
       "      <th>7</th>\n",
       "      <td>2</td>\n",
       "      <td>2</td>\n",
       "      <td>1</td>\n",
       "      <td>2021-09-06</td>\n",
       "    </tr>\n",
       "    <tr>\n",
       "      <th>8</th>\n",
       "      <td>3</td>\n",
       "      <td>1</td>\n",
       "      <td>1</td>\n",
       "      <td>2021-09-05</td>\n",
       "    </tr>\n",
       "  </tbody>\n",
       "</table>\n",
       "</div>"
      ]
     },
     "execution_count": 89,
     "metadata": {},
     "output_type": "execute_result"
    }
   ],
   "execution_count": 89
  },
  {
   "metadata": {},
   "cell_type": "markdown",
   "source": "#### Буквально взята функция val_mask из бенчей и она для  1 юзера возвращает интеракцию с индексом 4, а  не 9",
   "id": "5abc7fcb6a2ec4c0"
  },
  {
   "metadata": {
    "ExecuteTime": {
     "end_time": "2025-07-01T04:40:10.073496Z",
     "start_time": "2025-07-01T04:40:10.065155Z"
    }
   },
   "cell_type": "code",
   "source": [
    "df_copy = df.copy()\n",
    "time_order = (\n",
    "    df.groupby(Columns.User)[Columns.Datetime]\n",
    "    .rank(method=\"first\", ascending=True)\n",
    "    .astype(int)\n",
    ")\n",
    "df_copy[\"order\"] = time_order\n",
    "df_copy"
   ],
   "id": "bb29ebad77271491",
   "outputs": [
    {
     "data": {
      "text/plain": [
       "   user_id  item_id  weight   datetime  order\n",
       "0        1        1       1 2021-09-01      1\n",
       "1        1        2       1 2021-09-02      2\n",
       "2        1        6       1 2021-09-03      3\n",
       "3        1        2       1 2021-09-04      4\n",
       "4        1        4       1 2021-09-05      5\n",
       "5        2        3       1 2021-09-05      2\n",
       "6        2        2       1 2021-08-20      1\n",
       "7        2        2       1 2021-09-06      3\n",
       "8        3        1       1 2021-09-05      1\n",
       "9        1        3       1 2021-09-05      6"
      ],
      "text/html": [
       "<div>\n",
       "<style scoped>\n",
       "    .dataframe tbody tr th:only-of-type {\n",
       "        vertical-align: middle;\n",
       "    }\n",
       "\n",
       "    .dataframe tbody tr th {\n",
       "        vertical-align: top;\n",
       "    }\n",
       "\n",
       "    .dataframe thead th {\n",
       "        text-align: right;\n",
       "    }\n",
       "</style>\n",
       "<table border=\"1\" class=\"dataframe\">\n",
       "  <thead>\n",
       "    <tr style=\"text-align: right;\">\n",
       "      <th></th>\n",
       "      <th>user_id</th>\n",
       "      <th>item_id</th>\n",
       "      <th>weight</th>\n",
       "      <th>datetime</th>\n",
       "      <th>order</th>\n",
       "    </tr>\n",
       "  </thead>\n",
       "  <tbody>\n",
       "    <tr>\n",
       "      <th>0</th>\n",
       "      <td>1</td>\n",
       "      <td>1</td>\n",
       "      <td>1</td>\n",
       "      <td>2021-09-01</td>\n",
       "      <td>1</td>\n",
       "    </tr>\n",
       "    <tr>\n",
       "      <th>1</th>\n",
       "      <td>1</td>\n",
       "      <td>2</td>\n",
       "      <td>1</td>\n",
       "      <td>2021-09-02</td>\n",
       "      <td>2</td>\n",
       "    </tr>\n",
       "    <tr>\n",
       "      <th>2</th>\n",
       "      <td>1</td>\n",
       "      <td>6</td>\n",
       "      <td>1</td>\n",
       "      <td>2021-09-03</td>\n",
       "      <td>3</td>\n",
       "    </tr>\n",
       "    <tr>\n",
       "      <th>3</th>\n",
       "      <td>1</td>\n",
       "      <td>2</td>\n",
       "      <td>1</td>\n",
       "      <td>2021-09-04</td>\n",
       "      <td>4</td>\n",
       "    </tr>\n",
       "    <tr>\n",
       "      <th>4</th>\n",
       "      <td>1</td>\n",
       "      <td>4</td>\n",
       "      <td>1</td>\n",
       "      <td>2021-09-05</td>\n",
       "      <td>5</td>\n",
       "    </tr>\n",
       "    <tr>\n",
       "      <th>5</th>\n",
       "      <td>2</td>\n",
       "      <td>3</td>\n",
       "      <td>1</td>\n",
       "      <td>2021-09-05</td>\n",
       "      <td>2</td>\n",
       "    </tr>\n",
       "    <tr>\n",
       "      <th>6</th>\n",
       "      <td>2</td>\n",
       "      <td>2</td>\n",
       "      <td>1</td>\n",
       "      <td>2021-08-20</td>\n",
       "      <td>1</td>\n",
       "    </tr>\n",
       "    <tr>\n",
       "      <th>7</th>\n",
       "      <td>2</td>\n",
       "      <td>2</td>\n",
       "      <td>1</td>\n",
       "      <td>2021-09-06</td>\n",
       "      <td>3</td>\n",
       "    </tr>\n",
       "    <tr>\n",
       "      <th>8</th>\n",
       "      <td>3</td>\n",
       "      <td>1</td>\n",
       "      <td>1</td>\n",
       "      <td>2021-09-05</td>\n",
       "      <td>1</td>\n",
       "    </tr>\n",
       "    <tr>\n",
       "      <th>9</th>\n",
       "      <td>1</td>\n",
       "      <td>3</td>\n",
       "      <td>1</td>\n",
       "      <td>2021-09-05</td>\n",
       "      <td>6</td>\n",
       "    </tr>\n",
       "  </tbody>\n",
       "</table>\n",
       "</div>"
      ]
     },
     "execution_count": 111,
     "metadata": {},
     "output_type": "execute_result"
    }
   ],
   "execution_count": 111
  },
  {
   "metadata": {
    "ExecuteTime": {
     "end_time": "2025-07-01T04:19:43.427416Z",
     "start_time": "2025-07-01T04:19:43.421799Z"
    }
   },
   "cell_type": "code",
   "source": [
    "last_interactions_index = df_copy.groupby([Columns.User])[\"order\"].idxmax()\n",
    "last_interactions_index"
   ],
   "id": "e62a135827503fb9",
   "outputs": [
    {
     "data": {
      "text/plain": [
       "user_id\n",
       "1    9\n",
       "2    7\n",
       "3    8\n",
       "Name: order, dtype: int64"
      ]
     },
     "execution_count": 97,
     "metadata": {},
     "output_type": "execute_result"
    }
   ],
   "execution_count": 97
  },
  {
   "metadata": {
    "ExecuteTime": {
     "end_time": "2025-07-01T04:19:54.714004Z",
     "start_time": "2025-07-01T04:19:54.710068Z"
    }
   },
   "cell_type": "code",
   "source": [
    "mask = df_copy.index.isin(last_interactions_index)\n",
    "mask"
   ],
   "id": "6e8c3b35ec47bf84",
   "outputs": [
    {
     "data": {
      "text/plain": [
       "array([False, False, False, False, False, False, False,  True,  True,\n",
       "        True])"
      ]
     },
     "execution_count": 99,
     "metadata": {},
     "output_type": "execute_result"
    }
   ],
   "execution_count": 99
  },
  {
   "metadata": {
    "ExecuteTime": {
     "end_time": "2025-07-01T04:20:27.217725Z",
     "start_time": "2025-07-01T04:20:27.211344Z"
    }
   },
   "cell_type": "code",
   "source": "df.loc[mask]",
   "id": "bc49610ff72d2baa",
   "outputs": [
    {
     "data": {
      "text/plain": [
       "   user_id  item_id  weight   datetime\n",
       "7        2        2       1 2021-09-06\n",
       "8        3        1       1 2021-09-05\n",
       "9        1        3       1 2021-09-05"
      ],
      "text/html": [
       "<div>\n",
       "<style scoped>\n",
       "    .dataframe tbody tr th:only-of-type {\n",
       "        vertical-align: middle;\n",
       "    }\n",
       "\n",
       "    .dataframe tbody tr th {\n",
       "        vertical-align: top;\n",
       "    }\n",
       "\n",
       "    .dataframe thead th {\n",
       "        text-align: right;\n",
       "    }\n",
       "</style>\n",
       "<table border=\"1\" class=\"dataframe\">\n",
       "  <thead>\n",
       "    <tr style=\"text-align: right;\">\n",
       "      <th></th>\n",
       "      <th>user_id</th>\n",
       "      <th>item_id</th>\n",
       "      <th>weight</th>\n",
       "      <th>datetime</th>\n",
       "    </tr>\n",
       "  </thead>\n",
       "  <tbody>\n",
       "    <tr>\n",
       "      <th>7</th>\n",
       "      <td>2</td>\n",
       "      <td>2</td>\n",
       "      <td>1</td>\n",
       "      <td>2021-09-06</td>\n",
       "    </tr>\n",
       "    <tr>\n",
       "      <th>8</th>\n",
       "      <td>3</td>\n",
       "      <td>1</td>\n",
       "      <td>1</td>\n",
       "      <td>2021-09-05</td>\n",
       "    </tr>\n",
       "    <tr>\n",
       "      <th>9</th>\n",
       "      <td>1</td>\n",
       "      <td>3</td>\n",
       "      <td>1</td>\n",
       "      <td>2021-09-05</td>\n",
       "    </tr>\n",
       "  </tbody>\n",
       "</table>\n",
       "</div>"
      ]
     },
     "execution_count": 102,
     "metadata": {},
     "output_type": "execute_result"
    }
   ],
   "execution_count": 102
  },
  {
   "metadata": {
    "ExecuteTime": {
     "end_time": "2025-07-01T04:54:17.947357Z",
     "start_time": "2025-07-01T04:54:17.943581Z"
    }
   },
   "cell_type": "code",
   "source": [
    "def correct_loo_mask(\n",
    "    interactions: pd.DataFrame, val_users: tp.Optional[np.ndarray] = None\n",
    ") -> np.ndarray:\n",
    "    time_order = (\n",
    "        interactions.groupby(Columns.User)[Columns.Datetime]\n",
    "        .rank(method=\"first\", ascending=True)\n",
    "        .astype(int)\n",
    "    )\n",
    "    df_copy  = df.copy()\n",
    "    df_copy[\"order\"] = time_order\n",
    "    last_interactions_indexes = df_copy.groupby([Columns.User])[\"order\"].idxmax()\n",
    "    last_interact_mask  = df_copy.index.isin(last_interactions_indexes)\n",
    "    if  val_users is not None:\n",
    "        return (interactions[Columns.User].isin(val_users)) & last_interact_mask\n",
    "    return last_interact_mask"
   ],
   "id": "b748ff8ae0ef6908",
   "outputs": [],
   "execution_count": 119
  },
  {
   "metadata": {
    "ExecuteTime": {
     "end_time": "2025-07-01T04:54:18.238680Z",
     "start_time": "2025-07-01T04:54:18.234129Z"
    }
   },
   "cell_type": "code",
   "source": "mask = correct_loo_mask(df)",
   "id": "d066f06c8ce06727",
   "outputs": [],
   "execution_count": 120
  },
  {
   "metadata": {
    "ExecuteTime": {
     "end_time": "2025-07-01T04:54:18.720423Z",
     "start_time": "2025-07-01T04:54:18.714363Z"
    }
   },
   "cell_type": "code",
   "source": "df[mask]",
   "id": "36f825b3016fc520",
   "outputs": [
    {
     "data": {
      "text/plain": [
       "   user_id  item_id  weight   datetime\n",
       "7        2        2       1 2021-09-06\n",
       "8        3        1       1 2021-09-05\n",
       "9        1        3       1 2021-09-05"
      ],
      "text/html": [
       "<div>\n",
       "<style scoped>\n",
       "    .dataframe tbody tr th:only-of-type {\n",
       "        vertical-align: middle;\n",
       "    }\n",
       "\n",
       "    .dataframe tbody tr th {\n",
       "        vertical-align: top;\n",
       "    }\n",
       "\n",
       "    .dataframe thead th {\n",
       "        text-align: right;\n",
       "    }\n",
       "</style>\n",
       "<table border=\"1\" class=\"dataframe\">\n",
       "  <thead>\n",
       "    <tr style=\"text-align: right;\">\n",
       "      <th></th>\n",
       "      <th>user_id</th>\n",
       "      <th>item_id</th>\n",
       "      <th>weight</th>\n",
       "      <th>datetime</th>\n",
       "    </tr>\n",
       "  </thead>\n",
       "  <tbody>\n",
       "    <tr>\n",
       "      <th>7</th>\n",
       "      <td>2</td>\n",
       "      <td>2</td>\n",
       "      <td>1</td>\n",
       "      <td>2021-09-06</td>\n",
       "    </tr>\n",
       "    <tr>\n",
       "      <th>8</th>\n",
       "      <td>3</td>\n",
       "      <td>1</td>\n",
       "      <td>1</td>\n",
       "      <td>2021-09-05</td>\n",
       "    </tr>\n",
       "    <tr>\n",
       "      <th>9</th>\n",
       "      <td>1</td>\n",
       "      <td>3</td>\n",
       "      <td>1</td>\n",
       "      <td>2021-09-05</td>\n",
       "    </tr>\n",
       "  </tbody>\n",
       "</table>\n",
       "</div>"
      ]
     },
     "execution_count": 121,
     "metadata": {},
     "output_type": "execute_result"
    }
   ],
   "execution_count": 121
  },
  {
   "metadata": {},
   "cell_type": "code",
   "outputs": [],
   "execution_count": null,
   "source": "",
   "id": "9340855d379aaef2"
  }
 ],
 "metadata": {
  "kernelspec": {
   "display_name": "Python 3",
   "language": "python",
   "name": "python3"
  },
  "language_info": {
   "codemirror_mode": {
    "name": "ipython",
    "version": 2
   },
   "file_extension": ".py",
   "mimetype": "text/x-python",
   "name": "python",
   "nbconvert_exporter": "python",
   "pygments_lexer": "ipython2",
   "version": "2.7.6"
  }
 },
 "nbformat": 4,
 "nbformat_minor": 5
}
