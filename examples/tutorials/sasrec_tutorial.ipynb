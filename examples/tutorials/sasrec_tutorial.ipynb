{
 "cells": [
  {
   "cell_type": "markdown",
   "metadata": {},
   "source": [
    "# SASRec model"
   ]
  },
  {
   "cell_type": "code",
   "execution_count": 1,
   "metadata": {},
   "outputs": [],
   "source": [
    "import pandas as pd\n",
    "import numpy as np\n",
    "import os\n",
    "import torch\n",
    "from lightning_fabric import seed_everything\n",
    "\n",
    "from pathlib import Path\n",
    "\n",
    "from rectools import Columns\n",
    "from rectools.dataset import Dataset\n",
    "from rectools.models.sasrec import SasRecModel\n",
    "\n",
    "os.environ[\"CUBLAS_WORKSPACE_CONFIG\"] = \":4096:8\""
   ]
  },
  {
   "cell_type": "markdown",
   "metadata": {},
   "source": [
    "# Prepare data"
   ]
  },
  {
   "cell_type": "markdown",
   "metadata": {},
   "source": [
    "We are using KION dataset for this tutorial. The data was gathered from the users of MTS KION video streaming platform. To make recommendations only user-item interactions are required, as SASRec implementation does not support user and item features."
   ]
  },
  {
   "cell_type": "code",
   "execution_count": 2,
   "metadata": {},
   "outputs": [
    {
     "name": "stdout",
     "output_type": "stream",
     "text": [
      "Archive:  data_en.zip\n",
      "  inflating: data_en/items_en.csv    \n",
      "  inflating: __MACOSX/data_en/._items_en.csv  \n",
      "  inflating: data_en/interactions.csv  \n",
      "  inflating: __MACOSX/data_en/._interactions.csv  \n",
      "  inflating: data_en/users_en.csv    \n",
      "  inflating: __MACOSX/data_en/._users_en.csv  \n",
      "CPU times: user 119 ms, sys: 76.4 ms, total: 195 ms\n",
      "Wall time: 9.43 s\n"
     ]
    }
   ],
   "source": [
    "%%time\n",
    "!wget -q https://github.com/irsafilo/KION_DATASET/raw/f69775be31fa5779907cf0a92ddedb70037fb5ae/data_en.zip -O data_en.zip\n",
    "!unzip -o data_en.zip\n",
    "!rm data_en.zip"
   ]
  },
  {
   "cell_type": "code",
   "execution_count": 2,
   "metadata": {},
   "outputs": [
    {
     "data": {
      "text/html": [
       "<div>\n",
       "<style scoped>\n",
       "    .dataframe tbody tr th:only-of-type {\n",
       "        vertical-align: middle;\n",
       "    }\n",
       "\n",
       "    .dataframe tbody tr th {\n",
       "        vertical-align: top;\n",
       "    }\n",
       "\n",
       "    .dataframe thead th {\n",
       "        text-align: right;\n",
       "    }\n",
       "</style>\n",
       "<table border=\"1\" class=\"dataframe\">\n",
       "  <thead>\n",
       "    <tr style=\"text-align: right;\">\n",
       "      <th></th>\n",
       "      <th>user_id</th>\n",
       "      <th>item_id</th>\n",
       "      <th>datetime</th>\n",
       "      <th>total_dur</th>\n",
       "      <th>watched_pct</th>\n",
       "    </tr>\n",
       "  </thead>\n",
       "  <tbody>\n",
       "    <tr>\n",
       "      <th>0</th>\n",
       "      <td>176549</td>\n",
       "      <td>9506</td>\n",
       "      <td>2021-05-11</td>\n",
       "      <td>4250</td>\n",
       "      <td>72.0</td>\n",
       "    </tr>\n",
       "    <tr>\n",
       "      <th>1</th>\n",
       "      <td>699317</td>\n",
       "      <td>1659</td>\n",
       "      <td>2021-05-29</td>\n",
       "      <td>8317</td>\n",
       "      <td>100.0</td>\n",
       "    </tr>\n",
       "    <tr>\n",
       "      <th>2</th>\n",
       "      <td>656683</td>\n",
       "      <td>7107</td>\n",
       "      <td>2021-05-09</td>\n",
       "      <td>10</td>\n",
       "      <td>0.0</td>\n",
       "    </tr>\n",
       "  </tbody>\n",
       "</table>\n",
       "</div>"
      ],
      "text/plain": [
       "   user_id  item_id   datetime  total_dur  watched_pct\n",
       "0   176549     9506 2021-05-11       4250         72.0\n",
       "1   699317     1659 2021-05-29       8317        100.0\n",
       "2   656683     7107 2021-05-09         10          0.0"
      ]
     },
     "execution_count": 2,
     "metadata": {},
     "output_type": "execute_result"
    }
   ],
   "source": [
    "# Read data\n",
    "DATA_PATH = Path(\"data_en\")\n",
    "items_features = pd.read_csv(DATA_PATH / 'items_en.csv', index_col=0)\n",
    "interactions = (\n",
    "    pd.read_csv(DATA_PATH / 'interactions.csv', parse_dates=[\"last_watch_dt\"])\n",
    "    .rename(columns={\"last_watch_dt\": Columns.Datetime})\n",
    ")\n",
    "interactions.head(3)"
   ]
  },
  {
   "cell_type": "code",
   "execution_count": 3,
   "metadata": {},
   "outputs": [],
   "source": [
    "interactions[Columns.Weight] = np.where(interactions['watched_pct'] > 10, 3, 1)\n",
    "interactions.drop(interactions.query(\"total_dur < 300\").index, inplace=True)\n",
    "interactions = interactions[[\"user_id\", \"item_id\", \"datetime\", \"weight\"]]\n",
    "\n",
    "# drop items with less than MIN_ITEM_FREQUENCY interactions in train\n",
    "MIN_ITEM_FREQUENCY = 20\n",
    "items = interactions[Columns.Item].value_counts()\n",
    "items = items[items >= MIN_ITEM_FREQUENCY]\n",
    "interactions = interactions[interactions[Columns.Item].isin(items.index)]"
   ]
  },
  {
   "cell_type": "markdown",
   "metadata": {},
   "source": [
    "SASRec filters out users with less than 2 interactions during train stage, as target is a shifted interaction sequence. However, it is still possible to make recommendations for user with one interaction in history if this interaction item was present at training."
   ]
  },
  {
   "cell_type": "code",
   "execution_count": 4,
   "metadata": {},
   "outputs": [
    {
     "name": "stdout",
     "output_type": "stream",
     "text": [
      "(440, 4)\n"
     ]
    },
    {
     "data": {
      "text/html": [
       "<div>\n",
       "<style scoped>\n",
       "    .dataframe tbody tr th:only-of-type {\n",
       "        vertical-align: middle;\n",
       "    }\n",
       "\n",
       "    .dataframe tbody tr th {\n",
       "        vertical-align: top;\n",
       "    }\n",
       "\n",
       "    .dataframe thead th {\n",
       "        text-align: right;\n",
       "    }\n",
       "</style>\n",
       "<table border=\"1\" class=\"dataframe\">\n",
       "  <thead>\n",
       "    <tr style=\"text-align: right;\">\n",
       "      <th></th>\n",
       "      <th>user_id</th>\n",
       "      <th>item_id</th>\n",
       "      <th>datetime</th>\n",
       "      <th>weight</th>\n",
       "      <th>title_orig</th>\n",
       "    </tr>\n",
       "  </thead>\n",
       "  <tbody>\n",
       "    <tr>\n",
       "      <th>0</th>\n",
       "      <td>11526</td>\n",
       "      <td>14959</td>\n",
       "      <td>2021-07-12</td>\n",
       "      <td>1</td>\n",
       "      <td>Inconceivable</td>\n",
       "    </tr>\n",
       "    <tr>\n",
       "      <th>1</th>\n",
       "      <td>11526</td>\n",
       "      <td>6911</td>\n",
       "      <td>2021-04-01</td>\n",
       "      <td>3</td>\n",
       "      <td>Anonymes</td>\n",
       "    </tr>\n",
       "  </tbody>\n",
       "</table>\n",
       "</div>"
      ],
      "text/plain": [
       "   user_id  item_id   datetime  weight     title_orig\n",
       "0    11526    14959 2021-07-12       1  Inconceivable\n",
       "1    11526     6911 2021-04-01       3       Anonymes"
      ]
     },
     "execution_count": 4,
     "metadata": {},
     "output_type": "execute_result"
    }
   ],
   "source": [
    "# prepare test user with more than 1 interaction\n",
    "test_user = np.array([11526])\n",
    "print(interactions[interactions[Columns.User] == test_user[0]].shape)\n",
    "\n",
    "interactions[interactions[Columns.User] == test_user[0]].head(2).merge(items_features[[Columns.Item, \"title_orig\"]], on=Columns.Item)"
   ]
  },
  {
   "cell_type": "code",
   "execution_count": 5,
   "metadata": {},
   "outputs": [
    {
     "name": "stdout",
     "output_type": "stream",
     "text": [
      "(1, 4)\n"
     ]
    },
    {
     "data": {
      "text/html": [
       "<div>\n",
       "<style scoped>\n",
       "    .dataframe tbody tr th:only-of-type {\n",
       "        vertical-align: middle;\n",
       "    }\n",
       "\n",
       "    .dataframe tbody tr th {\n",
       "        vertical-align: top;\n",
       "    }\n",
       "\n",
       "    .dataframe thead th {\n",
       "        text-align: right;\n",
       "    }\n",
       "</style>\n",
       "<table border=\"1\" class=\"dataframe\">\n",
       "  <thead>\n",
       "    <tr style=\"text-align: right;\">\n",
       "      <th></th>\n",
       "      <th>user_id</th>\n",
       "      <th>item_id</th>\n",
       "      <th>datetime</th>\n",
       "      <th>weight</th>\n",
       "      <th>title_orig</th>\n",
       "    </tr>\n",
       "  </thead>\n",
       "  <tbody>\n",
       "    <tr>\n",
       "      <th>0</th>\n",
       "      <td>324373</td>\n",
       "      <td>10440</td>\n",
       "      <td>2021-06-24</td>\n",
       "      <td>3</td>\n",
       "      <td>Khrustal'nyy</td>\n",
       "    </tr>\n",
       "  </tbody>\n",
       "</table>\n",
       "</div>"
      ],
      "text/plain": [
       "   user_id  item_id   datetime  weight    title_orig\n",
       "0   324373    10440 2021-06-24       3  Khrustal'nyy"
      ]
     },
     "execution_count": 5,
     "metadata": {},
     "output_type": "execute_result"
    }
   ],
   "source": [
    "# prepare test user with 1 interaction\n",
    "test_user_one_interaction = np.array([324373])\n",
    "print(interactions[interactions[Columns.User] == test_user_one_interaction[0]].shape)\n",
    "interactions[interactions[Columns.User] == test_user_one_interaction[0]].merge(items_features[[Columns.Item, \"title_orig\"]], on=Columns.Item)"
   ]
  },
  {
   "cell_type": "code",
   "execution_count": 6,
   "metadata": {},
   "outputs": [],
   "source": [
    "# Create dataset \n",
    "dataset = Dataset.construct(\n",
    "    interactions_df=interactions,\n",
    ")"
   ]
  },
  {
   "cell_type": "code",
   "execution_count": 7,
   "metadata": {},
   "outputs": [
    {
     "name": "stderr",
     "output_type": "stream",
     "text": [
      "Seed set to 32\n"
     ]
    },
    {
     "data": {
      "text/plain": [
       "32"
      ]
     },
     "execution_count": 7,
     "metadata": {},
     "output_type": "execute_result"
    }
   ],
   "source": [
    "RANDOM_SEED = 32\n",
    "torch.use_deterministic_algorithms(True)\n",
    "seed_everything(RANDOM_SEED, workers=True)"
   ]
  },
  {
   "cell_type": "markdown",
   "metadata": {},
   "source": [
    "# Model description"
   ]
  },
  {
   "cell_type": "markdown",
   "metadata": {},
   "source": [
    "SASRec stands for a self-attention based sequential recommendation model. As the naming states, SASRec is trained on user sessions with the aim to predict next-item in the sequence. For that transformer blocks with multi-head attention are applied to capture long-term dependencies in an efficient way. \n",
    "\n",
    "### Preprocessing\n",
    "Preprocessing steps will be shown using toy dataset:"
   ]
  },
  {
   "cell_type": "markdown",
   "metadata": {},
   "source": [
    "<table>\n",
    "    <tr>\n",
    "        <th> user_id </th>\n",
    "        <th> item_id </th>\n",
    "        <th> weight </th> \n",
    "        <th> datetime </th>\n",
    "    </tr>\n",
    "    <tr>\n",
    "        <td>u1</td>\n",
    "        <td>i1</td>\n",
    "        <td>0.1</td>\n",
    "        <td>2021-09-09</td>\n",
    "    </tr>\n",
    "        <tr>\n",
    "        <td>u2</td>\n",
    "        <td>i1</td>\n",
    "        <td>0.3</td>\n",
    "        <td>2021-09-09</td>\n",
    "    </tr>\n",
    "        <tr>\n",
    "        <td>u2</td>\n",
    "        <td>i3</td>\n",
    "        <td>0.2</td>\n",
    "        <td>2021-09-05</td>\n",
    "    </tr>\n",
    "        <tr>\n",
    "        <td>u1</td>\n",
    "        <td>i2</td>\n",
    "        <td>0.3</td>\n",
    "        <td>2021-09-07</td>\n",
    "    </tr>\n",
    "        <tr>\n",
    "        <td>u3</td>\n",
    "        <td>i2</td>\n",
    "        <td>0.4</td>\n",
    "        <td>2021-09-05</td>\n",
    "    </tr>\n",
    "        <tr>\n",
    "        <td>u1</td>\n",
    "        <td>i3</td>\n",
    "        <td>0.5</td>\n",
    "        <td>2021-09-08</td>\n",
    "    </tr>\n",
    "</table>"
   ]
  },
  {
   "cell_type": "markdown",
   "metadata": {},
   "source": [
    "1. Filter out users with less than 2 interactions in train dataset. The model uses shifted user interactions to make next item prediction, thus at least 2 items should be in the history. \n",
    "\n",
    "2. Leave `session_maxlen` most recent interactions for each user.\n",
    "\n",
    "After first 2 steps, some users and/or items may be filtered out from train dataset. However, as it will be shown further, it is still possible to make recommendations for a previously unmet user, if interaction is known.\n",
    "\n",
    "3. Create user sessions: for each user specify items with which there was an interaction in the order from earliest to most recent. Sessions for example dataset are the following:\n",
    "$$S^1 = (i2, i3, i1)$$\n",
    "$$S^2 = (i3, i1)$$\n",
    "\n",
    "4. Before train stage each session is divided into train and target. As the task is to predict next item, shifted sequence is considered as target.\n",
    "$$S^1_{train} = (i2, i3), S^1_{target} = (i3, i1)$$\n",
    "$$S^2_{train} = (i3), S^2_{target} = (i1)$$\n",
    "5. Both train and target sequences are adjusted to have user-defined `session_maxlen`:\n",
    "    * If session is longer than `session_maxlen`, cut earliest items\n",
    "    * If session is shorter than `session_maxlen`, pad earliest items with PAD element\n",
    "$$S^1_{train} = (PAD, PAD, PAD, i2, i3), S^1_{target} = (PAD, PAD, PAD, i3, i1)$$\n",
    "$$S^2_{train} = (PAD, PAD, PAD, PAD, i3), S^2_{target} = (PAD, PAD, PAD, PAD, i1)$$\n",
    "\n",
    "### Train procedure\n"
   ]
  },
  {
   "attachments": {
    "295edee0-a975-479c-abbb-e4ea4e5a54c7.jpg": {
     "image/jpeg": "[encoded data removed]"
    }
   },
   "cell_type": "markdown",
   "metadata": {},
   "source": [
    "![photo_2024-08-09_14-43-50.jpg](attachment:295edee0-a975-479c-abbb-e4ea4e5a54c7.jpg)"
   ]
  },
  {
   "cell_type": "markdown",
   "metadata": {},
   "source": [
    "* Positional embedding is used to capture order of user-item interactions\n",
    "* Timeline mask allows to mask padded items in session embeddings with 0\n",
    "\n",
    "<b>Self-attention block structure</b>\n",
    "\n",
    "* Multi-head attention layer receives queries after layer normalisarion, keys and values without it. Masked attention is required to forbid model consider future interactions: cannot access element t+2 when predicting element t+1. Following notation from original article: \n",
    "$$ \\text{Attention}(Q, K, V) = \\text{softmax} (\\frac {QK^T}{\\sqrt{d}})V $$\n",
    "$$S = SA(\\hat{E}) = \\text{Attention} (\\hat{E}W^Q, \\hat{E}W^K, \\hat{E}W^V)$$\n",
    "* Point-wise feed-forward network has the following structure: $F_i = \\text{FFN}(S_i) = \\text{ReLU}(S_i \\cdot W^{(1)} + b^{(1)}) \\cdot W^{(2)} + b^{(2)}$,\n",
    "\n",
    "where $S_i, S_j$ - items of user sequence\n",
    "\n",
    "$W_1, W_2$ - weights\n",
    "\n",
    "$b_1, b_2$ - biases\n",
    "* To avoid overfitting and stabelize training process, 2 residual connections are applied adding data after layer normalization.\n",
    "\n",
    "<b>Prediction</b>\n",
    "* Apply LayerNorm to self-attention block output. Output represents current session embeddings\n",
    "* logits = session embeddings  @  item embeddings $^T$\n",
    "\n",
    "### Additional details\n",
    "1. CrossEntropyLoss without reduction is applied. 0 index is ignored not to take into account pad element\n",
    "2. Loss function output is multiplied by weight of each item in session\n",
    "3. Adam optimizer with betas=(0.9, 0.98) is used\n",
    "4. Xavier normal initialization for model parameters"
   ]
  },
  {
   "cell_type": "markdown",
   "metadata": {},
   "source": [
    "# Recommendations"
   ]
  },
  {
   "cell_type": "markdown",
   "metadata": {},
   "source": [
    "### Preprocessing\n",
    "1. Filter out items from test dataset, which were not present in train dataset.\n",
    "2. Leave only target users, for whom all interaction items are known from train\n",
    "\n",
    "### Recommendation prediction\n",
    "1. For each test user calculate user embeddings by passing sessions through transformer blocks and layer normalisation.\n",
    "2. For each item get item embedding\n",
    "3. Apply implicit ranker to make recommendations. Implicit ranker uses implicit library matrix factorization topk method that:\n",
    "    * Receives item and user embeddings\n",
    "    * Finds relevanace of each item by multiplication of user and item embeddings\n",
    "    * Returns items within topk with greates relevance\n",
    "\n",
    "\n",
    "For u2i recommendations DOT distance is applied, for i2i - COSINE"
   ]
  },
  {
   "cell_type": "markdown",
   "metadata": {},
   "source": [
    "# Model Application"
   ]
  },
  {
   "cell_type": "markdown",
   "metadata": {},
   "source": [
    "* Specify latent embeddings size with `n_factors`\n",
    "* Specify number of self-attention blocks with `n_blocks` \n",
    "* Specify number of attention heads with `n_heads`\n",
    "* Specify `dropout_rate`\n",
    "* Specify whether positional encoding should be used with `use_pos_emb`\n",
    "* Specify maximum length of user-item interaction history with `session_maxlen`\n",
    "* Specify `lr` for learning rate \n",
    "* Specify `batch_size`\n",
    "* Specify `epochs` for number of model training epochs"
   ]
  },
  {
   "cell_type": "code",
   "execution_count": 8,
   "metadata": {},
   "outputs": [],
   "source": [
    "factors=128\n",
    "session_maxlen=32\n",
    "model = SasRecModel(\n",
    "    n_factors=factors,  # 50\n",
    "    n_blocks=2,\n",
    "    n_heads=1,\n",
    "    dropout_rate=0.2,\n",
    "    use_pos_emb=True,\n",
    "    session_maxlen=session_maxlen,\n",
    "    lr=1e-3,\n",
    "    batch_size=128,\n",
    "    epochs=5,\n",
    "    device=\"cuda:1\",\n",
    "    loss=\"softmax\",\n",
    ")"
   ]
  },
  {
   "cell_type": "code",
   "execution_count": 9,
   "metadata": {},
   "outputs": [
    {
     "name": "stdout",
     "output_type": "stream",
     "text": [
      "CPU times: user 5min 26s, sys: 7.25 s, total: 5min 34s\n",
      "Wall time: 5min 30s\n"
     ]
    },
    {
     "data": {
      "text/plain": [
       "<rectools.models.sasrec.SasRecModel at 0x7f273402a2e0>"
      ]
     },
     "execution_count": 9,
     "metadata": {},
     "output_type": "execute_result"
    }
   ],
   "source": [
    "%%time\n",
    "model.fit(dataset)"
   ]
  },
  {
   "cell_type": "code",
   "execution_count": 10,
   "metadata": {},
   "outputs": [
    {
     "name": "stderr",
     "output_type": "stream",
     "text": [
      "100%|██████████| 1/1 [00:00<00:00, 194.68it/s]"
     ]
    },
    {
     "name": "stdout",
     "output_type": "stream",
     "text": [
      "CPU times: user 600 ms, sys: 1.1 s, total: 1.7 s\n",
      "Wall time: 150 ms\n"
     ]
    },
    {
     "name": "stderr",
     "output_type": "stream",
     "text": [
      "\n"
     ]
    },
    {
     "data": {
      "text/html": [
       "<div>\n",
       "<style scoped>\n",
       "    .dataframe tbody tr th:only-of-type {\n",
       "        vertical-align: middle;\n",
       "    }\n",
       "\n",
       "    .dataframe tbody tr th {\n",
       "        vertical-align: top;\n",
       "    }\n",
       "\n",
       "    .dataframe thead th {\n",
       "        text-align: right;\n",
       "    }\n",
       "</style>\n",
       "<table border=\"1\" class=\"dataframe\">\n",
       "  <thead>\n",
       "    <tr style=\"text-align: right;\">\n",
       "      <th></th>\n",
       "      <th>user_id</th>\n",
       "      <th>item_id</th>\n",
       "      <th>score</th>\n",
       "      <th>rank</th>\n",
       "      <th>title_orig</th>\n",
       "    </tr>\n",
       "  </thead>\n",
       "  <tbody>\n",
       "    <tr>\n",
       "      <th>0</th>\n",
       "      <td>11526</td>\n",
       "      <td>9728</td>\n",
       "      <td>2.480423</td>\n",
       "      <td>1</td>\n",
       "      <td>Wrath of Man</td>\n",
       "    </tr>\n",
       "    <tr>\n",
       "      <th>1</th>\n",
       "      <td>11526</td>\n",
       "      <td>10440</td>\n",
       "      <td>2.229481</td>\n",
       "      <td>2</td>\n",
       "      <td>Khrustal'nyy</td>\n",
       "    </tr>\n",
       "    <tr>\n",
       "      <th>2</th>\n",
       "      <td>11526</td>\n",
       "      <td>5732</td>\n",
       "      <td>1.930403</td>\n",
       "      <td>3</td>\n",
       "      <td>Adore</td>\n",
       "    </tr>\n",
       "  </tbody>\n",
       "</table>\n",
       "</div>"
      ],
      "text/plain": [
       "   user_id item_id     score  rank    title_orig\n",
       "0    11526    9728  2.480423     1  Wrath of Man\n",
       "1    11526   10440  2.229481     2  Khrustal'nyy\n",
       "2    11526    5732  1.930403     3         Adore"
      ]
     },
     "execution_count": 10,
     "metadata": {},
     "output_type": "execute_result"
    }
   ],
   "source": [
    "%%time\n",
    "recs = model.recommend(\n",
    "    users = test_user, \n",
    "    dataset = dataset,\n",
    "    k = 3,\n",
    "    filter_viewed = True,\n",
    ")\n",
    "recs.merge(items_features[[\"item_id\", \"title_orig\"]], on=\"item_id\")"
   ]
  },
  {
   "cell_type": "code",
   "execution_count": 11,
   "metadata": {},
   "outputs": [
    {
     "name": "stderr",
     "output_type": "stream",
     "text": [
      "100%|██████████| 1/1 [00:00<00:00, 170.44it/s]"
     ]
    },
    {
     "name": "stdout",
     "output_type": "stream",
     "text": [
      "CPU times: user 878 ms, sys: 799 ms, total: 1.68 s\n",
      "Wall time: 132 ms\n"
     ]
    },
    {
     "name": "stderr",
     "output_type": "stream",
     "text": [
      "\n"
     ]
    },
    {
     "data": {
      "text/html": [
       "<div>\n",
       "<style scoped>\n",
       "    .dataframe tbody tr th:only-of-type {\n",
       "        vertical-align: middle;\n",
       "    }\n",
       "\n",
       "    .dataframe tbody tr th {\n",
       "        vertical-align: top;\n",
       "    }\n",
       "\n",
       "    .dataframe thead th {\n",
       "        text-align: right;\n",
       "    }\n",
       "</style>\n",
       "<table border=\"1\" class=\"dataframe\">\n",
       "  <thead>\n",
       "    <tr style=\"text-align: right;\">\n",
       "      <th></th>\n",
       "      <th>user_id</th>\n",
       "      <th>item_id</th>\n",
       "      <th>score</th>\n",
       "      <th>rank</th>\n",
       "      <th>title_orig</th>\n",
       "    </tr>\n",
       "  </thead>\n",
       "  <tbody>\n",
       "    <tr>\n",
       "      <th>0</th>\n",
       "      <td>324373</td>\n",
       "      <td>15297</td>\n",
       "      <td>5.265191</td>\n",
       "      <td>1</td>\n",
       "      <td>Klinika schast'ya</td>\n",
       "    </tr>\n",
       "    <tr>\n",
       "      <th>1</th>\n",
       "      <td>324373</td>\n",
       "      <td>9728</td>\n",
       "      <td>3.936543</td>\n",
       "      <td>2</td>\n",
       "      <td>Wrath of Man</td>\n",
       "    </tr>\n",
       "    <tr>\n",
       "      <th>2</th>\n",
       "      <td>324373</td>\n",
       "      <td>13865</td>\n",
       "      <td>3.849568</td>\n",
       "      <td>3</td>\n",
       "      <td>V2. Escape from Hell</td>\n",
       "    </tr>\n",
       "  </tbody>\n",
       "</table>\n",
       "</div>"
      ],
      "text/plain": [
       "   user_id item_id     score  rank            title_orig\n",
       "0   324373   15297  5.265191     1     Klinika schast'ya\n",
       "1   324373    9728  3.936543     2          Wrath of Man\n",
       "2   324373   13865  3.849568     3  V2. Escape from Hell"
      ]
     },
     "execution_count": 11,
     "metadata": {},
     "output_type": "execute_result"
    }
   ],
   "source": [
    "%%time\n",
    "recs = model.recommend(\n",
    "    users = test_user_one_interaction, \n",
    "    dataset = dataset,\n",
    "    k = 3,\n",
    "    filter_viewed = True,\n",
    ")\n",
    "recs.merge(items_features[[\"item_id\", \"title_orig\"]], on=\"item_id\")"
   ]
  },
  {
   "cell_type": "markdown",
   "metadata": {},
   "source": [
    "# Links"
   ]
  },
  {
   "cell_type": "markdown",
   "metadata": {},
   "source": [
    "1. SASRec original paper: [Self-Attentive Sequential Recommendation](https://arxiv.org/abs/1808.09781)"
   ]
  },
  {
   "cell_type": "code",
   "execution_count": null,
   "metadata": {},
   "outputs": [],
   "source": []
  }
 ],
 "metadata": {
  "kernelspec": {
   "display_name": "Python 3 (ipykernel)",
   "language": "python",
   "name": "python3"
  },
  "language_info": {
   "codemirror_mode": {
    "name": "ipython",
    "version": 3
   },
   "file_extension": ".py",
   "mimetype": "text/x-python",
   "name": "python",
   "nbconvert_exporter": "python",
   "pygments_lexer": "ipython3",
   "version": "3.8.2"
  }
 },
 "nbformat": 4,
 "nbformat_minor": 4
}
