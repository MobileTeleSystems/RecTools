{
 "cells": [
  {
   "cell_type": "code",
   "execution_count": 1,
   "metadata": {},
   "outputs": [],
   "source": [
    "# TODO: will remove\n",
    "import sys\n",
    "sys.path.append(\"../../\")"
   ]
  },
  {
   "cell_type": "code",
   "execution_count": 2,
   "metadata": {},
   "outputs": [],
   "source": [
    "import numpy as np\n",
    "import os\n",
    "import pandas as pd\n",
    "import itertools\n",
    "import torch\n",
    "import typing as tp\n",
    "import warnings\n",
    "from pathlib import Path\n",
    "from functools import partial\n",
    "\n",
    "from lightning_fabric import seed_everything\n",
    "from pytorch_lightning import Trainer\n",
    "from pytorch_lightning.callbacks import EarlyStopping\n",
    "from rectools import Columns, ExternalIds\n",
    "from rectools.dataset import Dataset\n",
    "from rectools.metrics import NDCG, Recall, Serendipity, calc_metrics\n",
    "\n",
    "from rectools.models.sasrec import (\n",
    "    SASRecModel,\n",
    "    SASRecDataPreparator,\n",
    "    SessionEncoderLightningModule,\n",
    "    IdEmbeddingsItemNet,\n",
    ")\n",
    "\n",
    "# Enable deterministic behaviour with CUDA >= 10.2\n",
    "os.environ[\"CUBLAS_WORKSPACE_CONFIG\"] = \":4096:8\"\n",
    "warnings.simplefilter(\"ignore\", UserWarning)"
   ]
  },
  {
   "cell_type": "markdown",
   "metadata": {},
   "source": [
    "# Load data"
   ]
  },
  {
   "cell_type": "code",
   "execution_count": 3,
   "metadata": {},
   "outputs": [],
   "source": [
    "# %%time\n",
    "# !wget -q https://github.com/irsafilo/KION_DATASET/raw/f69775be31fa5779907cf0a92ddedb70037fb5ae/data_en.zip -O data_en.zip\n",
    "# !unzip -o data_en.zip\n",
    "# !rm data_en.zip"
   ]
  },
  {
   "cell_type": "code",
   "execution_count": 4,
   "metadata": {},
   "outputs": [
    {
     "name": "stdout",
     "output_type": "stream",
     "text": [
      "(5476251, 5)\n"
     ]
    },
    {
     "data": {
      "text/html": [
       "<div>\n",
       "<style scoped>\n",
       "    .dataframe tbody tr th:only-of-type {\n",
       "        vertical-align: middle;\n",
       "    }\n",
       "\n",
       "    .dataframe tbody tr th {\n",
       "        vertical-align: top;\n",
       "    }\n",
       "\n",
       "    .dataframe thead th {\n",
       "        text-align: right;\n",
       "    }\n",
       "</style>\n",
       "<table border=\"1\" class=\"dataframe\">\n",
       "  <thead>\n",
       "    <tr style=\"text-align: right;\">\n",
       "      <th></th>\n",
       "      <th>user_id</th>\n",
       "      <th>item_id</th>\n",
       "      <th>datetime</th>\n",
       "      <th>total_dur</th>\n",
       "      <th>watched_pct</th>\n",
       "    </tr>\n",
       "  </thead>\n",
       "  <tbody>\n",
       "    <tr>\n",
       "      <th>0</th>\n",
       "      <td>176549</td>\n",
       "      <td>9506</td>\n",
       "      <td>2021-05-11</td>\n",
       "      <td>4250</td>\n",
       "      <td>72.0</td>\n",
       "    </tr>\n",
       "    <tr>\n",
       "      <th>1</th>\n",
       "      <td>699317</td>\n",
       "      <td>1659</td>\n",
       "      <td>2021-05-29</td>\n",
       "      <td>8317</td>\n",
       "      <td>100.0</td>\n",
       "    </tr>\n",
       "  </tbody>\n",
       "</table>\n",
       "</div>"
      ],
      "text/plain": [
       "   user_id  item_id   datetime  total_dur  watched_pct\n",
       "0   176549     9506 2021-05-11       4250         72.0\n",
       "1   699317     1659 2021-05-29       8317        100.0"
      ]
     },
     "execution_count": 4,
     "metadata": {},
     "output_type": "execute_result"
    }
   ],
   "source": [
    "# Download dataset\n",
    "DATA_PATH = Path(\"data_en\")\n",
    "items = pd.read_csv(DATA_PATH / 'items_en.csv', index_col=0)\n",
    "raw_interactions = (\n",
    "    pd.read_csv(DATA_PATH / 'interactions.csv', parse_dates=[\"last_watch_dt\"])\n",
    "    .rename(columns={\"last_watch_dt\": Columns.Datetime})\n",
    ")\n",
    "\n",
    "print(raw_interactions.shape)\n",
    "raw_interactions.head(2)"
   ]
  },
  {
   "cell_type": "code",
   "execution_count": 5,
   "metadata": {},
   "outputs": [
    {
     "data": {
      "text/plain": [
       "(962179, 15706)"
      ]
     },
     "execution_count": 5,
     "metadata": {},
     "output_type": "execute_result"
    }
   ],
   "source": [
    "raw_interactions[Columns.User].nunique(), raw_interactions[Columns.Item].nunique()"
   ]
  },
  {
   "cell_type": "code",
   "execution_count": 6,
   "metadata": {},
   "outputs": [
    {
     "name": "stdout",
     "output_type": "stream",
     "text": [
      "(5476251, 4)\n"
     ]
    },
    {
     "data": {
      "text/html": [
       "<div>\n",
       "<style scoped>\n",
       "    .dataframe tbody tr th:only-of-type {\n",
       "        vertical-align: middle;\n",
       "    }\n",
       "\n",
       "    .dataframe tbody tr th {\n",
       "        vertical-align: top;\n",
       "    }\n",
       "\n",
       "    .dataframe thead th {\n",
       "        text-align: right;\n",
       "    }\n",
       "</style>\n",
       "<table border=\"1\" class=\"dataframe\">\n",
       "  <thead>\n",
       "    <tr style=\"text-align: right;\">\n",
       "      <th></th>\n",
       "      <th>user_id</th>\n",
       "      <th>item_id</th>\n",
       "      <th>datetime</th>\n",
       "      <th>weight</th>\n",
       "    </tr>\n",
       "  </thead>\n",
       "  <tbody>\n",
       "    <tr>\n",
       "      <th>0</th>\n",
       "      <td>176549</td>\n",
       "      <td>9506</td>\n",
       "      <td>2021-05-11</td>\n",
       "      <td>3</td>\n",
       "    </tr>\n",
       "    <tr>\n",
       "      <th>1</th>\n",
       "      <td>699317</td>\n",
       "      <td>1659</td>\n",
       "      <td>2021-05-29</td>\n",
       "      <td>3</td>\n",
       "    </tr>\n",
       "  </tbody>\n",
       "</table>\n",
       "</div>"
      ],
      "text/plain": [
       "   user_id  item_id   datetime  weight\n",
       "0   176549     9506 2021-05-11       3\n",
       "1   699317     1659 2021-05-29       3"
      ]
     },
     "execution_count": 6,
     "metadata": {},
     "output_type": "execute_result"
    }
   ],
   "source": [
    "# Process interactions\n",
    "raw_interactions[Columns.Weight] = np.where(raw_interactions['watched_pct'] > 10, 3, 1)\n",
    "raw_interactions = raw_interactions[[\"user_id\", \"item_id\", \"datetime\", \"weight\"]]\n",
    "print(raw_interactions.shape)\n",
    "raw_interactions.head(2)"
   ]
  },
  {
   "cell_type": "code",
   "execution_count": 7,
   "metadata": {},
   "outputs": [],
   "source": [
    "# Process item features\n",
    "items = items.loc[items[Columns.Item].isin(raw_interactions[Columns.Item])].copy()\n",
    "items[\"genre\"] = items[\"genres\"].str.lower().str.replace(\", \", \",\", regex=False).str.split(\",\")\n",
    "genre_feature = items[[\"item_id\", \"genre\"]].explode(\"genre\")\n",
    "genre_feature.columns = [\"id\", \"value\"]\n",
    "genre_feature[\"feature\"] = \"genre\"\n",
    "content_feature = items.reindex(columns=[Columns.Item, \"content_type\"])\n",
    "content_feature.columns = [\"id\", \"value\"]\n",
    "content_feature[\"feature\"] = \"content_type\"\n",
    "item_features = pd.concat((genre_feature, content_feature))"
   ]
  },
  {
   "cell_type": "code",
   "execution_count": 8,
   "metadata": {},
   "outputs": [
    {
     "name": "stderr",
     "output_type": "stream",
     "text": [
      "Seed set to 60\n"
     ]
    },
    {
     "data": {
      "text/plain": [
       "60"
      ]
     },
     "execution_count": 8,
     "metadata": {},
     "output_type": "execute_result"
    }
   ],
   "source": [
    "RANDOM_STATE=60\n",
    "torch.use_deterministic_algorithms(True)\n",
    "seed_everything(RANDOM_STATE, workers=True)"
   ]
  },
  {
   "cell_type": "code",
   "execution_count": 9,
   "metadata": {},
   "outputs": [
    {
     "data": {
      "text/plain": [
       "Dataset(user_id_map=IdMap(external_ids=array([176549, 699317, 656683, ..., 805174, 648596, 697262])), item_id_map=IdMap(external_ids=array([ 9506,  1659,  7107, ..., 10064, 13019, 10542])), interactions=Interactions(df=         user_id  item_id  weight   datetime\n",
       "0              0        0     3.0 2021-05-11\n",
       "1              1        1     3.0 2021-05-29\n",
       "2              2        2     1.0 2021-05-09\n",
       "3              3        3     3.0 2021-07-05\n",
       "4              4        0     3.0 2021-04-30\n",
       "...          ...      ...     ...        ...\n",
       "5476246   962177      208     1.0 2021-08-13\n",
       "5476247   224686     2690     3.0 2021-04-13\n",
       "5476248   962178       21     3.0 2021-08-20\n",
       "5476249     7934     1725     3.0 2021-04-19\n",
       "5476250   631989      157     3.0 2021-08-15\n",
       "\n",
       "[5476251 rows x 4 columns]), user_features=None, item_features=None)"
      ]
     },
     "execution_count": 9,
     "metadata": {},
     "output_type": "execute_result"
    }
   ],
   "source": [
    "dataset_no_features = Dataset.construct(raw_interactions)\n",
    "dataset_no_features"
   ]
  },
  {
   "cell_type": "markdown",
   "metadata": {},
   "source": [
    "# **Custome Validation** (Leave-One-Out Strategy)"
   ]
  },
  {
   "cell_type": "markdown",
   "metadata": {},
   "source": [
    "**Functionality for obtaining logged metrics after fitting model:**"
   ]
  },
  {
   "cell_type": "code",
   "execution_count": 10,
   "metadata": {},
   "outputs": [],
   "source": [
    "def get_log_dir(trainer: Trainer) -> Path:\n",
    "    \"\"\"\n",
    "    Get logging directory.\n",
    "    \"\"\"\n",
    "    path = trainer.logger.log_dir\n",
    "    vesrion = int(path.split(\"version_\")[-1])\n",
    "    last_path = path.split(\"version_\")[0] + f\"version_{vesrion - 1}\"\n",
    "    return Path(last_path) / \"metrics.csv\"\n",
    "\n",
    "\n",
    "def get_losses(epoch_metrics_df: pd.DataFrame, is_val: bool) -> pd.DataFrame:\n",
    "    loss_df = epoch_metrics_df[[\"epoch\", \"train/loss\"]].dropna()\n",
    "    if is_val:\n",
    "        val_loss_df = epoch_metrics_df[[\"epoch\", \"val/loss\"]].dropna()\n",
    "        loss_df = pd.merge(loss_df, val_loss_df, how=\"inner\", on=\"epoch\")\n",
    "    return loss_df.reset_index(drop=True)\n",
    "\n",
    "\n",
    "def get_val_metrics(epoch_metrics_df: pd.DataFrame) -> pd.DataFrame:\n",
    "    metrics_df = epoch_metrics_df.drop(columns=[\"train/loss\", \"val/loss\"]).dropna()\n",
    "    return metrics_df.reset_index(drop=True)\n",
    "\n",
    "\n",
    "def get_log_values(trainer: Trainer, is_val: bool = False) -> tp.Tuple[pd.DataFrame, tp.Optional[pd.DataFrame]]:\n",
    "    log_path = get_log_dir(trainer)\n",
    "    epoch_metrics_df = pd.read_csv(log_path)\n",
    "\n",
    "    loss_df = get_losses(epoch_metrics_df, is_val)\n",
    "    val_metrics = None\n",
    "    if is_val:\n",
    "        val_metrics = get_val_metrics(epoch_metrics_df)\n",
    "    return loss_df, val_metrics"
   ]
  },
  {
   "cell_type": "markdown",
   "metadata": {},
   "source": [
    "**Callback for calculation RecSys metrics on validation step:**"
   ]
  },
  {
   "cell_type": "code",
   "execution_count": 11,
   "metadata": {},
   "outputs": [],
   "source": [
    "from pytorch_lightning import LightningModule\n",
    "from pytorch_lightning.callbacks import Callback\n",
    "\n",
    "\n",
    "class ValidationMetrics(Callback):\n",
    "    \n",
    "    def __init__(self, val_metrics: tp.Dict) -> None:\n",
    "        self.val_metrics = val_metrics\n",
    "        self.prev_interactions = None\n",
    "        self.catalog = None\n",
    "\n",
    "    def on_validation_epoch_end(self, trainer: Trainer, pl_module: LightningModule):\n",
    "        if self.prev_interactions is None:\n",
    "            self.prev_interactions = pl_module.data_preparator.processed_dataset_train.interactions.df\n",
    "            self.catalog = self.prev_interactions[Columns.Item].unique()\n",
    "\n",
    "        epoch_val_recos = []\n",
    "        for val_recos in pl_module.epoch_val_recos:\n",
    "            epoch_val_recos.extend(val_recos)\n",
    "\n",
    "        epoch_targets = [] \n",
    "        for batch_targets in pl_module.epoch_targets:\n",
    "            epoch_targets.extend(batch_targets)\n",
    "\n",
    "        epoch_val_users = list(\n",
    "            itertools.chain.from_iterable(\n",
    "                itertools.repeat(idx, len(batch_val_recos)) for idx, batch_val_recos in enumerate(pl_module.epoch_val_recos)\n",
    "            )\n",
    "        )\n",
    "\n",
    "        epoch_target_users = list(\n",
    "            itertools.chain.from_iterable(\n",
    "                itertools.repeat(idx, len(batch_targets)) for idx, batch_targets in enumerate(pl_module.epoch_targets)\n",
    "            )\n",
    "        )\n",
    "\n",
    "        epoch_recos_df = pd.DataFrame(\n",
    "            {\n",
    "                Columns.User: epoch_val_users,\n",
    "                Columns.Item: epoch_val_recos,\n",
    "            }\n",
    "        )\n",
    "        epoch_recos_df[Columns.Rank] = epoch_recos_df.groupby(Columns.User, sort=False).cumcount() + 1\n",
    "\n",
    "        interactions = pd.DataFrame(\n",
    "            {\n",
    "                Columns.User: epoch_target_users,\n",
    "                Columns.Item: epoch_targets,\n",
    "            }\n",
    "        )\n",
    "        result_metrics = calc_metrics(\n",
    "            self.val_metrics, \n",
    "            epoch_recos_df,\n",
    "            interactions, \n",
    "            self.prev_interactions, \n",
    "            self.catalog\n",
    "        )\n",
    "        \n",
    "        self.log_dict(result_metrics)\n",
    "\n",
    "        pl_module.epoch_val_recos.clear()\n",
    "        pl_module.epoch_targets.clear()"
   ]
  },
  {
   "cell_type": "markdown",
   "metadata": {},
   "source": [
    "**Set up hyperparameters**"
   ]
  },
  {
   "cell_type": "code",
   "execution_count": 12,
   "metadata": {},
   "outputs": [
    {
     "data": {
      "text/plain": [
       "((962179,), (2048,))"
      ]
     },
     "execution_count": 12,
     "metadata": {},
     "output_type": "execute_result"
    }
   ],
   "source": [
    "VAL_K_OUT = 1\n",
    "N_VAL_USERS = 2048\n",
    "\n",
    "unique_users = raw_interactions[Columns.User].unique()\n",
    "VAL_USERS = unique_users[: N_VAL_USERS]\n",
    "\n",
    "VAL_METRICS = {\n",
    "    \"NDCG@10\": NDCG(k=10),\n",
    "    \"Recall@10\": Recall(k=10),\n",
    "    \"Serendipity@10\": Serendipity(k=10),\n",
    "}\n",
    "VAL_MAX_K = max([metric.k for metric in VAL_METRICS.values()])\n",
    "\n",
    "MIN_EPOCHS = 10\n",
    "MAX_EPOCHS = 100\n",
    "\n",
    "MONITOR_METRIC = \"NDCG@10\"\n",
    "MODE_MONITOR_METRIC = \"max\"\n",
    "\n",
    "callback_metrics = ValidationMetrics(val_metrics=VAL_METRICS)\n",
    "callback_early_stopping = EarlyStopping(monitor=MONITOR_METRIC, patience=MIN_EPOCHS, min_delta=0.0, mode=MODE_MONITOR_METRIC)\n",
    "CALLBACKS = [callback_metrics, callback_early_stopping]\n",
    "\n",
    "TRAIN_MIN_USER_INTERACTIONS = 5\n",
    "SESSION_MAX_LEN = 50\n",
    "\n",
    "unique_users.shape, VAL_USERS.shape"
   ]
  },
  {
   "cell_type": "markdown",
   "metadata": {},
   "source": [
    "**Custom function for split data on train and validation:**"
   ]
  },
  {
   "cell_type": "code",
   "execution_count": 13,
   "metadata": {},
   "outputs": [],
   "source": [
    "def process_interactions_val(\n",
    "    interactions: pd.DataFrame,\n",
    "    interactions_train: pd.DataFrame, \n",
    "    val_k_out: int,\n",
    "    val_users: ExternalIds,\n",
    ") -> pd.DataFrame:\n",
    "    interactions_val = interactions.copy()\n",
    "    interactions_val = interactions_val[\n",
    "        (interactions_val[Columns.User].isin(val_users))\n",
    "        & (interactions_val[Columns.User].isin(interactions_train[Columns.User].unique()))\n",
    "        & (interactions_val[Columns.Item].isin(interactions_train[Columns.Item].unique()))\n",
    "    ]\n",
    "    interactions_val[f\"{Columns.Rank}_inverse\"] = (\n",
    "        interactions_val.sort_values(Columns.Datetime, ascending=False).groupby(Columns.User).cumcount() + 1\n",
    "    )\n",
    "    mask_val = interactions_val[f\"{Columns.Rank}_inverse\"].isin(range(1, val_k_out + 1))\n",
    "    interactions_val.drop(columns=f\"{Columns.Rank}_inverse\", inplace=True)\n",
    "\n",
    "    interactions_val.loc[~mask_val, Columns.Weight] = 0\n",
    "    processed_interactions_val = interactions_val.sort_values(Columns.Datetime)\n",
    "    return processed_interactions_val\n",
    "\n",
    "\n",
    "def process_interactions_train(\n",
    "    interactions: pd.DataFrame, \n",
    "    train_min_user_interactions: int, \n",
    "    val_k_out: int,\n",
    "    val_users: ExternalIds\n",
    ") -> pd.DataFrame:\n",
    "    interactions_train = interactions.copy()\n",
    "    interactions_train[f\"{Columns.Rank}_inverse\"] = (\n",
    "        interactions_train.sort_values(Columns.Datetime, ascending=False).groupby(Columns.User).cumcount() + 1\n",
    "    )\n",
    "    mask_train = ~(\n",
    "        (interactions_train[Columns.User].isin(val_users))\n",
    "        & (interactions_train[f\"{Columns.Rank}_inverse\"].isin(range(1, val_k_out + 1)))\n",
    "    )\n",
    "    interactions_train.drop(columns=f\"{Columns.Rank}_inverse\", inplace=True)\n",
    "\n",
    "    interactions_train = interactions_train[mask_train]\n",
    "\n",
    "    # Filter interactions\n",
    "    user_stats = interactions_train[Columns.User].value_counts()\n",
    "    users = user_stats[user_stats >= train_min_user_interactions].index\n",
    "    interactions_train = interactions_train[(interactions_train[Columns.User].isin(users))]\n",
    "\n",
    "    processed_interactions_train = interactions_train.sort_values(Columns.Datetime)\n",
    "    return processed_interactions_train\n",
    "\n",
    "\n",
    "def split_interactions_leave_k_out(\n",
    "    dataset: Dataset, \n",
    "    train_min_user_interactions: int, \n",
    "    val_k_out: int, \n",
    "    val_users: ExternalIds,\n",
    ") -> tp.Tuple[pd.DataFrame, pd.DataFrame]:\n",
    "    raw_interactions = dataset.get_raw_interactions()\n",
    "\n",
    "    processed_interactions_train = process_interactions_train(\n",
    "        raw_interactions, train_min_user_interactions, val_k_out, val_users\n",
    "    )\n",
    "\n",
    "    processed_interactions_val = process_interactions_val(\n",
    "        raw_interactions, processed_interactions_train, val_k_out, val_users\n",
    "    )\n",
    "\n",
    "    return processed_interactions_train, processed_interactions_val    \n",
    "\n",
    "\n",
    "SPLIT_INTERACTIONS_TRAIN_VAL = partial(\n",
    "    split_interactions_leave_k_out, \n",
    "    train_min_user_interactions=TRAIN_MIN_USER_INTERACTIONS, \n",
    "    val_k_out=VAL_K_OUT, \n",
    "    val_users=VAL_USERS,   \n",
    ")"
   ]
  },
  {
   "cell_type": "code",
   "execution_count": 14,
   "metadata": {},
   "outputs": [
    {
     "name": "stderr",
     "output_type": "stream",
     "text": [
      "GPU available: True (cuda), used: True\n",
      "TPU available: False, using: 0 TPU cores\n",
      "IPU available: False, using: 0 IPUs\n",
      "HPU available: False, using: 0 HPUs\n"
     ]
    }
   ],
   "source": [
    "trainer = Trainer(\n",
    "    accelerator='gpu',\n",
    "    devices=[1],\n",
    "    min_epochs=MIN_EPOCHS,\n",
    "    max_epochs=MAX_EPOCHS, \n",
    "    deterministic=True,\n",
    "    callbacks=CALLBACKS,\n",
    ")"
   ]
  },
  {
   "cell_type": "code",
   "execution_count": 15,
   "metadata": {},
   "outputs": [],
   "source": [
    "sasrec_non_default_model = SASRecModel(\n",
    "    n_factors=64,\n",
    "    n_blocks=2,\n",
    "    n_heads=2,\n",
    "    dropout_rate=0.2,\n",
    "    use_pos_emb=True,\n",
    "    train_min_user_interaction=TRAIN_MIN_USER_INTERACTIONS,\n",
    "    session_max_len=SESSION_MAX_LEN,\n",
    "    lr=1e-3,\n",
    "    batch_size=128,\n",
    "    loss=\"softmax\",\n",
    "    verbose=1,\n",
    "    deterministic=True,\n",
    "    item_net_block_types=(IdEmbeddingsItemNet, ),  # Use only item ids in ItemNetBlock\n",
    "    data_preparator_type=SASRecDataPreparator,  # SASRecDataPreparator, \n",
    "    lightning_module_type=SessionEncoderLightningModule,  # SessionEncoderLightningModule,\n",
    "    trainer=trainer,\n",
    "    val_max_k=VAL_MAX_K,\n",
    ")"
   ]
  },
  {
   "cell_type": "code",
   "execution_count": 16,
   "metadata": {},
   "outputs": [
    {
     "name": "stderr",
     "output_type": "stream",
     "text": [
      "LOCAL_RANK: 0 - CUDA_VISIBLE_DEVICES: [0,1]\n",
      "\n",
      "  | Name        | Type                           | Params\n",
      "---------------------------------------------------------------\n",
      "0 | torch_model | TransformerBasedSessionEncoder | 988 K \n",
      "---------------------------------------------------------------\n",
      "988 K     Trainable params\n",
      "0         Non-trainable params\n",
      "988 K     Total params\n",
      "3.953     Total estimated model params size (MB)\n"
     ]
    },
    {
     "data": {
      "application/vnd.jupyter.widget-view+json": {
       "model_id": "d83e03246cc041ab92a520b17c144836",
       "version_major": 2,
       "version_minor": 0
      },
      "text/plain": [
       "Sanity Checking: |          | 0/? [00:00<?, ?it/s]"
      ]
     },
     "metadata": {},
     "output_type": "display_data"
    },
    {
     "data": {
      "application/vnd.jupyter.widget-view+json": {
       "model_id": "572f2d7a1a2d4c79b65c87f9539a31db",
       "version_major": 2,
       "version_minor": 0
      },
      "text/plain": [
       "Training: |          | 0/? [00:00<?, ?it/s]"
      ]
     },
     "metadata": {},
     "output_type": "display_data"
    },
    {
     "data": {
      "application/vnd.jupyter.widget-view+json": {
       "model_id": "315ae88c5d4044b595ddf02878e1684c",
       "version_major": 2,
       "version_minor": 0
      },
      "text/plain": [
       "Validation: |          | 0/? [00:00<?, ?it/s]"
      ]
     },
     "metadata": {},
     "output_type": "display_data"
    },
    {
     "data": {
      "application/vnd.jupyter.widget-view+json": {
       "model_id": "f8780f94ddfc4a72a339b5d268480099",
       "version_major": 2,
       "version_minor": 0
      },
      "text/plain": [
       "Validation: |          | 0/? [00:00<?, ?it/s]"
      ]
     },
     "metadata": {},
     "output_type": "display_data"
    },
    {
     "data": {
      "application/vnd.jupyter.widget-view+json": {
       "model_id": "8d2cc48ab3ee4566af4c130444d0e8d7",
       "version_major": 2,
       "version_minor": 0
      },
      "text/plain": [
       "Validation: |          | 0/? [00:00<?, ?it/s]"
      ]
     },
     "metadata": {},
     "output_type": "display_data"
    },
    {
     "data": {
      "application/vnd.jupyter.widget-view+json": {
       "model_id": "78b42902e00f41418e5bd49689e02ea9",
       "version_major": 2,
       "version_minor": 0
      },
      "text/plain": [
       "Validation: |          | 0/? [00:00<?, ?it/s]"
      ]
     },
     "metadata": {},
     "output_type": "display_data"
    },
    {
     "data": {
      "application/vnd.jupyter.widget-view+json": {
       "model_id": "f3e78285b4184f27a867c2af219e22ec",
       "version_major": 2,
       "version_minor": 0
      },
      "text/plain": [
       "Validation: |          | 0/? [00:00<?, ?it/s]"
      ]
     },
     "metadata": {},
     "output_type": "display_data"
    },
    {
     "data": {
      "application/vnd.jupyter.widget-view+json": {
       "model_id": "bb883c946d6e42e4a3b91637ff719a1a",
       "version_major": 2,
       "version_minor": 0
      },
      "text/plain": [
       "Validation: |          | 0/? [00:00<?, ?it/s]"
      ]
     },
     "metadata": {},
     "output_type": "display_data"
    },
    {
     "data": {
      "application/vnd.jupyter.widget-view+json": {
       "model_id": "d108ff3186f54299b1f505235acba6ad",
       "version_major": 2,
       "version_minor": 0
      },
      "text/plain": [
       "Validation: |          | 0/? [00:00<?, ?it/s]"
      ]
     },
     "metadata": {},
     "output_type": "display_data"
    },
    {
     "data": {
      "application/vnd.jupyter.widget-view+json": {
       "model_id": "5793d7049e5240e797d3a9daa342fa5a",
       "version_major": 2,
       "version_minor": 0
      },
      "text/plain": [
       "Validation: |          | 0/? [00:00<?, ?it/s]"
      ]
     },
     "metadata": {},
     "output_type": "display_data"
    },
    {
     "data": {
      "application/vnd.jupyter.widget-view+json": {
       "model_id": "28086287e21040c1b1dc518d9c0154da",
       "version_major": 2,
       "version_minor": 0
      },
      "text/plain": [
       "Validation: |          | 0/? [00:00<?, ?it/s]"
      ]
     },
     "metadata": {},
     "output_type": "display_data"
    },
    {
     "data": {
      "application/vnd.jupyter.widget-view+json": {
       "model_id": "361281c008e84b778a00022678cf3ea5",
       "version_major": 2,
       "version_minor": 0
      },
      "text/plain": [
       "Validation: |          | 0/? [00:00<?, ?it/s]"
      ]
     },
     "metadata": {},
     "output_type": "display_data"
    },
    {
     "data": {
      "application/vnd.jupyter.widget-view+json": {
       "model_id": "78ab26c74ef14966bcc482c6fc0d3286",
       "version_major": 2,
       "version_minor": 0
      },
      "text/plain": [
       "Validation: |          | 0/? [00:00<?, ?it/s]"
      ]
     },
     "metadata": {},
     "output_type": "display_data"
    },
    {
     "data": {
      "application/vnd.jupyter.widget-view+json": {
       "model_id": "d5a54beabee14a8f87ed5e5b8de22599",
       "version_major": 2,
       "version_minor": 0
      },
      "text/plain": [
       "Validation: |          | 0/? [00:00<?, ?it/s]"
      ]
     },
     "metadata": {},
     "output_type": "display_data"
    },
    {
     "data": {
      "application/vnd.jupyter.widget-view+json": {
       "model_id": "4b346a145cf14f11b34d018f95df7f10",
       "version_major": 2,
       "version_minor": 0
      },
      "text/plain": [
       "Validation: |          | 0/? [00:00<?, ?it/s]"
      ]
     },
     "metadata": {},
     "output_type": "display_data"
    },
    {
     "data": {
      "application/vnd.jupyter.widget-view+json": {
       "model_id": "fadeb3104d844107b48dd232494334cc",
       "version_major": 2,
       "version_minor": 0
      },
      "text/plain": [
       "Validation: |          | 0/? [00:00<?, ?it/s]"
      ]
     },
     "metadata": {},
     "output_type": "display_data"
    },
    {
     "data": {
      "application/vnd.jupyter.widget-view+json": {
       "model_id": "ac6cb1145dff42fdb40045cd02167f0d",
       "version_major": 2,
       "version_minor": 0
      },
      "text/plain": [
       "Validation: |          | 0/? [00:00<?, ?it/s]"
      ]
     },
     "metadata": {},
     "output_type": "display_data"
    },
    {
     "data": {
      "application/vnd.jupyter.widget-view+json": {
       "model_id": "847e84ca95ed45f781a491c491455edf",
       "version_major": 2,
       "version_minor": 0
      },
      "text/plain": [
       "Validation: |          | 0/? [00:00<?, ?it/s]"
      ]
     },
     "metadata": {},
     "output_type": "display_data"
    },
    {
     "data": {
      "application/vnd.jupyter.widget-view+json": {
       "model_id": "a710b647079b4345851b0f83a7714cc7",
       "version_major": 2,
       "version_minor": 0
      },
      "text/plain": [
       "Validation: |          | 0/? [00:00<?, ?it/s]"
      ]
     },
     "metadata": {},
     "output_type": "display_data"
    },
    {
     "data": {
      "application/vnd.jupyter.widget-view+json": {
       "model_id": "6c796c90fe054ab8afdd5ebcd7e2ec82",
       "version_major": 2,
       "version_minor": 0
      },
      "text/plain": [
       "Validation: |          | 0/? [00:00<?, ?it/s]"
      ]
     },
     "metadata": {},
     "output_type": "display_data"
    },
    {
     "data": {
      "application/vnd.jupyter.widget-view+json": {
       "model_id": "d2c41dbac95846099003783e70e995fd",
       "version_major": 2,
       "version_minor": 0
      },
      "text/plain": [
       "Validation: |          | 0/? [00:00<?, ?it/s]"
      ]
     },
     "metadata": {},
     "output_type": "display_data"
    },
    {
     "data": {
      "application/vnd.jupyter.widget-view+json": {
       "model_id": "12d4be9d7db34349a069e6aa8f5cf4a8",
       "version_major": 2,
       "version_minor": 0
      },
      "text/plain": [
       "Validation: |          | 0/? [00:00<?, ?it/s]"
      ]
     },
     "metadata": {},
     "output_type": "display_data"
    },
    {
     "data": {
      "application/vnd.jupyter.widget-view+json": {
       "model_id": "c220fe7f2610482cb26aba2517076c79",
       "version_major": 2,
       "version_minor": 0
      },
      "text/plain": [
       "Validation: |          | 0/? [00:00<?, ?it/s]"
      ]
     },
     "metadata": {},
     "output_type": "display_data"
    },
    {
     "data": {
      "application/vnd.jupyter.widget-view+json": {
       "model_id": "4372339ae4284c429006738dac55435e",
       "version_major": 2,
       "version_minor": 0
      },
      "text/plain": [
       "Validation: |          | 0/? [00:00<?, ?it/s]"
      ]
     },
     "metadata": {},
     "output_type": "display_data"
    },
    {
     "data": {
      "application/vnd.jupyter.widget-view+json": {
       "model_id": "0e3edf9adf7a475b9c3541560bed4cce",
       "version_major": 2,
       "version_minor": 0
      },
      "text/plain": [
       "Validation: |          | 0/? [00:00<?, ?it/s]"
      ]
     },
     "metadata": {},
     "output_type": "display_data"
    },
    {
     "data": {
      "application/vnd.jupyter.widget-view+json": {
       "model_id": "b756446c211d45c9a69001bc9cfb3a27",
       "version_major": 2,
       "version_minor": 0
      },
      "text/plain": [
       "Validation: |          | 0/? [00:00<?, ?it/s]"
      ]
     },
     "metadata": {},
     "output_type": "display_data"
    },
    {
     "data": {
      "application/vnd.jupyter.widget-view+json": {
       "model_id": "a673f2ea36f54e52aadd29986dba5790",
       "version_major": 2,
       "version_minor": 0
      },
      "text/plain": [
       "Validation: |          | 0/? [00:00<?, ?it/s]"
      ]
     },
     "metadata": {},
     "output_type": "display_data"
    },
    {
     "data": {
      "application/vnd.jupyter.widget-view+json": {
       "model_id": "815f4770b7ca495b8b6974a28a4b432b",
       "version_major": 2,
       "version_minor": 0
      },
      "text/plain": [
       "Validation: |          | 0/? [00:00<?, ?it/s]"
      ]
     },
     "metadata": {},
     "output_type": "display_data"
    },
    {
     "data": {
      "application/vnd.jupyter.widget-view+json": {
       "model_id": "20ac27f1ba514a51b0dd28c7cba7fa78",
       "version_major": 2,
       "version_minor": 0
      },
      "text/plain": [
       "Validation: |          | 0/? [00:00<?, ?it/s]"
      ]
     },
     "metadata": {},
     "output_type": "display_data"
    },
    {
     "data": {
      "application/vnd.jupyter.widget-view+json": {
       "model_id": "70834038787a499ead8a51a5bb91d908",
       "version_major": 2,
       "version_minor": 0
      },
      "text/plain": [
       "Validation: |          | 0/? [00:00<?, ?it/s]"
      ]
     },
     "metadata": {},
     "output_type": "display_data"
    },
    {
     "data": {
      "application/vnd.jupyter.widget-view+json": {
       "model_id": "40596398e8084ef2843cb6fecc4fd30f",
       "version_major": 2,
       "version_minor": 0
      },
      "text/plain": [
       "Validation: |          | 0/? [00:00<?, ?it/s]"
      ]
     },
     "metadata": {},
     "output_type": "display_data"
    },
    {
     "data": {
      "application/vnd.jupyter.widget-view+json": {
       "model_id": "5cb17c14324d40a69f36ef0c58a848a9",
       "version_major": 2,
       "version_minor": 0
      },
      "text/plain": [
       "Validation: |          | 0/? [00:00<?, ?it/s]"
      ]
     },
     "metadata": {},
     "output_type": "display_data"
    },
    {
     "data": {
      "application/vnd.jupyter.widget-view+json": {
       "model_id": "05eb1d53de594a6b8dc89bcd8933accc",
       "version_major": 2,
       "version_minor": 0
      },
      "text/plain": [
       "Validation: |          | 0/? [00:00<?, ?it/s]"
      ]
     },
     "metadata": {},
     "output_type": "display_data"
    },
    {
     "data": {
      "application/vnd.jupyter.widget-view+json": {
       "model_id": "69a36e75a4684bb7a6b3315eb16ed7cd",
       "version_major": 2,
       "version_minor": 0
      },
      "text/plain": [
       "Validation: |          | 0/? [00:00<?, ?it/s]"
      ]
     },
     "metadata": {},
     "output_type": "display_data"
    },
    {
     "data": {
      "application/vnd.jupyter.widget-view+json": {
       "model_id": "37c85a64c8ef48c4b267354071fa38b1",
       "version_major": 2,
       "version_minor": 0
      },
      "text/plain": [
       "Validation: |          | 0/? [00:00<?, ?it/s]"
      ]
     },
     "metadata": {},
     "output_type": "display_data"
    },
    {
     "data": {
      "application/vnd.jupyter.widget-view+json": {
       "model_id": "b9b53418b90440f19c1e283f4623193e",
       "version_major": 2,
       "version_minor": 0
      },
      "text/plain": [
       "Validation: |          | 0/? [00:00<?, ?it/s]"
      ]
     },
     "metadata": {},
     "output_type": "display_data"
    },
    {
     "data": {
      "application/vnd.jupyter.widget-view+json": {
       "model_id": "1c79246ea5cb4a27bda8100c14dae004",
       "version_major": 2,
       "version_minor": 0
      },
      "text/plain": [
       "Validation: |          | 0/? [00:00<?, ?it/s]"
      ]
     },
     "metadata": {},
     "output_type": "display_data"
    },
    {
     "data": {
      "application/vnd.jupyter.widget-view+json": {
       "model_id": "9ff162e69f7a4eaf869b44e2bd9ffd57",
       "version_major": 2,
       "version_minor": 0
      },
      "text/plain": [
       "Validation: |          | 0/? [00:00<?, ?it/s]"
      ]
     },
     "metadata": {},
     "output_type": "display_data"
    },
    {
     "data": {
      "application/vnd.jupyter.widget-view+json": {
       "model_id": "ddd4ea18148e44719fe61a1ec0ec48f9",
       "version_major": 2,
       "version_minor": 0
      },
      "text/plain": [
       "Validation: |          | 0/? [00:00<?, ?it/s]"
      ]
     },
     "metadata": {},
     "output_type": "display_data"
    },
    {
     "data": {
      "application/vnd.jupyter.widget-view+json": {
       "model_id": "b673c16d8509432c9eb410ea9628e039",
       "version_major": 2,
       "version_minor": 0
      },
      "text/plain": [
       "Validation: |          | 0/? [00:00<?, ?it/s]"
      ]
     },
     "metadata": {},
     "output_type": "display_data"
    },
    {
     "data": {
      "application/vnd.jupyter.widget-view+json": {
       "model_id": "f4072a31cdb74a13af835d6adcf70654",
       "version_major": 2,
       "version_minor": 0
      },
      "text/plain": [
       "Validation: |          | 0/? [00:00<?, ?it/s]"
      ]
     },
     "metadata": {},
     "output_type": "display_data"
    },
    {
     "data": {
      "application/vnd.jupyter.widget-view+json": {
       "model_id": "cc7d892a9e4c4d9680e6498102670ebd",
       "version_major": 2,
       "version_minor": 0
      },
      "text/plain": [
       "Validation: |          | 0/? [00:00<?, ?it/s]"
      ]
     },
     "metadata": {},
     "output_type": "display_data"
    },
    {
     "data": {
      "application/vnd.jupyter.widget-view+json": {
       "model_id": "b8f189b535dd40519e3ba7e0fc07f47d",
       "version_major": 2,
       "version_minor": 0
      },
      "text/plain": [
       "Validation: |          | 0/? [00:00<?, ?it/s]"
      ]
     },
     "metadata": {},
     "output_type": "display_data"
    },
    {
     "data": {
      "application/vnd.jupyter.widget-view+json": {
       "model_id": "102367851b91489298303bf92589aa88",
       "version_major": 2,
       "version_minor": 0
      },
      "text/plain": [
       "Validation: |          | 0/? [00:00<?, ?it/s]"
      ]
     },
     "metadata": {},
     "output_type": "display_data"
    },
    {
     "data": {
      "application/vnd.jupyter.widget-view+json": {
       "model_id": "b8e3e3d2442646de88c2fd6373cd2874",
       "version_major": 2,
       "version_minor": 0
      },
      "text/plain": [
       "Validation: |          | 0/? [00:00<?, ?it/s]"
      ]
     },
     "metadata": {},
     "output_type": "display_data"
    },
    {
     "data": {
      "application/vnd.jupyter.widget-view+json": {
       "model_id": "2dfe00ebcc434b5485c90803f572bd39",
       "version_major": 2,
       "version_minor": 0
      },
      "text/plain": [
       "Validation: |          | 0/? [00:00<?, ?it/s]"
      ]
     },
     "metadata": {},
     "output_type": "display_data"
    },
    {
     "data": {
      "application/vnd.jupyter.widget-view+json": {
       "model_id": "b651524728a4414fb20ced9a5aba88ba",
       "version_major": 2,
       "version_minor": 0
      },
      "text/plain": [
       "Validation: |          | 0/? [00:00<?, ?it/s]"
      ]
     },
     "metadata": {},
     "output_type": "display_data"
    },
    {
     "data": {
      "application/vnd.jupyter.widget-view+json": {
       "model_id": "d01cdfc076384d1f96f84c595002a908",
       "version_major": 2,
       "version_minor": 0
      },
      "text/plain": [
       "Validation: |          | 0/? [00:00<?, ?it/s]"
      ]
     },
     "metadata": {},
     "output_type": "display_data"
    },
    {
     "data": {
      "application/vnd.jupyter.widget-view+json": {
       "model_id": "a7040f42f17845f0883373ad1dcd1a04",
       "version_major": 2,
       "version_minor": 0
      },
      "text/plain": [
       "Validation: |          | 0/? [00:00<?, ?it/s]"
      ]
     },
     "metadata": {},
     "output_type": "display_data"
    },
    {
     "data": {
      "application/vnd.jupyter.widget-view+json": {
       "model_id": "16012ae0c34b4a1984855fd8ccc4e88f",
       "version_major": 2,
       "version_minor": 0
      },
      "text/plain": [
       "Validation: |          | 0/? [00:00<?, ?it/s]"
      ]
     },
     "metadata": {},
     "output_type": "display_data"
    },
    {
     "name": "stdout",
     "output_type": "stream",
     "text": [
      "CPU times: user 1h 16min 28s, sys: 1min 1s, total: 1h 17min 29s\n",
      "Wall time: 1h 16min 31s\n"
     ]
    },
    {
     "data": {
      "text/plain": [
       "<rectools.models.sasrec.SASRecModel at 0x7fd88f2fbfa0>"
      ]
     },
     "execution_count": 16,
     "metadata": {},
     "output_type": "execute_result"
    }
   ],
   "source": [
    "%%time\n",
    "sasrec_non_default_model.fit(dataset_no_features, SPLIT_INTERACTIONS_TRAIN_VAL)"
   ]
  },
  {
   "cell_type": "code",
   "execution_count": 17,
   "metadata": {},
   "outputs": [],
   "source": [
    "loss_df, val_metrics_df = get_log_values(trainer, is_val=True)"
   ]
  },
  {
   "cell_type": "code",
   "execution_count": 18,
   "metadata": {},
   "outputs": [
    {
     "data": {
      "text/html": [
       "<div>\n",
       "<style scoped>\n",
       "    .dataframe tbody tr th:only-of-type {\n",
       "        vertical-align: middle;\n",
       "    }\n",
       "\n",
       "    .dataframe tbody tr th {\n",
       "        vertical-align: top;\n",
       "    }\n",
       "\n",
       "    .dataframe thead th {\n",
       "        text-align: right;\n",
       "    }\n",
       "</style>\n",
       "<table border=\"1\" class=\"dataframe\">\n",
       "  <thead>\n",
       "    <tr style=\"text-align: right;\">\n",
       "      <th></th>\n",
       "      <th>epoch</th>\n",
       "      <th>train/loss</th>\n",
       "      <th>val/loss</th>\n",
       "    </tr>\n",
       "  </thead>\n",
       "  <tbody>\n",
       "    <tr>\n",
       "      <th>0</th>\n",
       "      <td>0</td>\n",
       "      <td>16.408060</td>\n",
       "      <td>15.560390</td>\n",
       "    </tr>\n",
       "    <tr>\n",
       "      <th>1</th>\n",
       "      <td>1</td>\n",
       "      <td>15.719135</td>\n",
       "      <td>15.232821</td>\n",
       "    </tr>\n",
       "    <tr>\n",
       "      <th>2</th>\n",
       "      <td>2</td>\n",
       "      <td>15.557123</td>\n",
       "      <td>15.072414</td>\n",
       "    </tr>\n",
       "    <tr>\n",
       "      <th>3</th>\n",
       "      <td>3</td>\n",
       "      <td>15.489797</td>\n",
       "      <td>14.990514</td>\n",
       "    </tr>\n",
       "    <tr>\n",
       "      <th>4</th>\n",
       "      <td>4</td>\n",
       "      <td>15.450452</td>\n",
       "      <td>14.954260</td>\n",
       "    </tr>\n",
       "    <tr>\n",
       "      <th>5</th>\n",
       "      <td>5</td>\n",
       "      <td>15.424915</td>\n",
       "      <td>14.882754</td>\n",
       "    </tr>\n",
       "    <tr>\n",
       "      <th>6</th>\n",
       "      <td>6</td>\n",
       "      <td>15.404165</td>\n",
       "      <td>14.854184</td>\n",
       "    </tr>\n",
       "    <tr>\n",
       "      <th>7</th>\n",
       "      <td>7</td>\n",
       "      <td>15.384672</td>\n",
       "      <td>14.860785</td>\n",
       "    </tr>\n",
       "    <tr>\n",
       "      <th>8</th>\n",
       "      <td>8</td>\n",
       "      <td>15.370927</td>\n",
       "      <td>14.818472</td>\n",
       "    </tr>\n",
       "    <tr>\n",
       "      <th>9</th>\n",
       "      <td>9</td>\n",
       "      <td>15.361143</td>\n",
       "      <td>14.808467</td>\n",
       "    </tr>\n",
       "    <tr>\n",
       "      <th>10</th>\n",
       "      <td>10</td>\n",
       "      <td>15.352438</td>\n",
       "      <td>14.804443</td>\n",
       "    </tr>\n",
       "    <tr>\n",
       "      <th>11</th>\n",
       "      <td>11</td>\n",
       "      <td>15.347589</td>\n",
       "      <td>14.803108</td>\n",
       "    </tr>\n",
       "    <tr>\n",
       "      <th>12</th>\n",
       "      <td>12</td>\n",
       "      <td>15.341543</td>\n",
       "      <td>14.822948</td>\n",
       "    </tr>\n",
       "    <tr>\n",
       "      <th>13</th>\n",
       "      <td>13</td>\n",
       "      <td>15.337177</td>\n",
       "      <td>14.774311</td>\n",
       "    </tr>\n",
       "    <tr>\n",
       "      <th>14</th>\n",
       "      <td>14</td>\n",
       "      <td>15.333222</td>\n",
       "      <td>14.754923</td>\n",
       "    </tr>\n",
       "    <tr>\n",
       "      <th>15</th>\n",
       "      <td>15</td>\n",
       "      <td>15.330976</td>\n",
       "      <td>14.735578</td>\n",
       "    </tr>\n",
       "    <tr>\n",
       "      <th>16</th>\n",
       "      <td>16</td>\n",
       "      <td>15.326552</td>\n",
       "      <td>14.765899</td>\n",
       "    </tr>\n",
       "    <tr>\n",
       "      <th>17</th>\n",
       "      <td>17</td>\n",
       "      <td>15.323350</td>\n",
       "      <td>14.754254</td>\n",
       "    </tr>\n",
       "    <tr>\n",
       "      <th>18</th>\n",
       "      <td>18</td>\n",
       "      <td>15.321953</td>\n",
       "      <td>14.772099</td>\n",
       "    </tr>\n",
       "    <tr>\n",
       "      <th>19</th>\n",
       "      <td>19</td>\n",
       "      <td>15.318877</td>\n",
       "      <td>14.769415</td>\n",
       "    </tr>\n",
       "    <tr>\n",
       "      <th>20</th>\n",
       "      <td>20</td>\n",
       "      <td>15.315581</td>\n",
       "      <td>14.731729</td>\n",
       "    </tr>\n",
       "    <tr>\n",
       "      <th>21</th>\n",
       "      <td>21</td>\n",
       "      <td>15.311453</td>\n",
       "      <td>14.728435</td>\n",
       "    </tr>\n",
       "    <tr>\n",
       "      <th>22</th>\n",
       "      <td>22</td>\n",
       "      <td>15.308504</td>\n",
       "      <td>14.710700</td>\n",
       "    </tr>\n",
       "    <tr>\n",
       "      <th>23</th>\n",
       "      <td>23</td>\n",
       "      <td>15.304916</td>\n",
       "      <td>14.734838</td>\n",
       "    </tr>\n",
       "    <tr>\n",
       "      <th>24</th>\n",
       "      <td>24</td>\n",
       "      <td>15.302030</td>\n",
       "      <td>14.736806</td>\n",
       "    </tr>\n",
       "    <tr>\n",
       "      <th>25</th>\n",
       "      <td>25</td>\n",
       "      <td>15.300649</td>\n",
       "      <td>14.708930</td>\n",
       "    </tr>\n",
       "    <tr>\n",
       "      <th>26</th>\n",
       "      <td>26</td>\n",
       "      <td>15.298478</td>\n",
       "      <td>14.720180</td>\n",
       "    </tr>\n",
       "    <tr>\n",
       "      <th>27</th>\n",
       "      <td>27</td>\n",
       "      <td>15.298790</td>\n",
       "      <td>14.713898</td>\n",
       "    </tr>\n",
       "    <tr>\n",
       "      <th>28</th>\n",
       "      <td>28</td>\n",
       "      <td>15.299098</td>\n",
       "      <td>14.708858</td>\n",
       "    </tr>\n",
       "    <tr>\n",
       "      <th>29</th>\n",
       "      <td>29</td>\n",
       "      <td>15.297176</td>\n",
       "      <td>14.716374</td>\n",
       "    </tr>\n",
       "    <tr>\n",
       "      <th>30</th>\n",
       "      <td>30</td>\n",
       "      <td>15.297795</td>\n",
       "      <td>14.713484</td>\n",
       "    </tr>\n",
       "    <tr>\n",
       "      <th>31</th>\n",
       "      <td>31</td>\n",
       "      <td>15.298585</td>\n",
       "      <td>14.690504</td>\n",
       "    </tr>\n",
       "    <tr>\n",
       "      <th>32</th>\n",
       "      <td>32</td>\n",
       "      <td>15.296399</td>\n",
       "      <td>14.712950</td>\n",
       "    </tr>\n",
       "    <tr>\n",
       "      <th>33</th>\n",
       "      <td>33</td>\n",
       "      <td>15.296056</td>\n",
       "      <td>14.694804</td>\n",
       "    </tr>\n",
       "    <tr>\n",
       "      <th>34</th>\n",
       "      <td>34</td>\n",
       "      <td>15.296390</td>\n",
       "      <td>14.712308</td>\n",
       "    </tr>\n",
       "    <tr>\n",
       "      <th>35</th>\n",
       "      <td>35</td>\n",
       "      <td>15.294200</td>\n",
       "      <td>14.696954</td>\n",
       "    </tr>\n",
       "    <tr>\n",
       "      <th>36</th>\n",
       "      <td>36</td>\n",
       "      <td>15.294270</td>\n",
       "      <td>14.706256</td>\n",
       "    </tr>\n",
       "    <tr>\n",
       "      <th>37</th>\n",
       "      <td>37</td>\n",
       "      <td>15.293674</td>\n",
       "      <td>14.703575</td>\n",
       "    </tr>\n",
       "    <tr>\n",
       "      <th>38</th>\n",
       "      <td>38</td>\n",
       "      <td>15.291849</td>\n",
       "      <td>14.723973</td>\n",
       "    </tr>\n",
       "    <tr>\n",
       "      <th>39</th>\n",
       "      <td>39</td>\n",
       "      <td>15.290477</td>\n",
       "      <td>14.709560</td>\n",
       "    </tr>\n",
       "    <tr>\n",
       "      <th>40</th>\n",
       "      <td>40</td>\n",
       "      <td>15.289921</td>\n",
       "      <td>14.689914</td>\n",
       "    </tr>\n",
       "    <tr>\n",
       "      <th>41</th>\n",
       "      <td>41</td>\n",
       "      <td>15.289432</td>\n",
       "      <td>14.708713</td>\n",
       "    </tr>\n",
       "    <tr>\n",
       "      <th>42</th>\n",
       "      <td>42</td>\n",
       "      <td>15.287850</td>\n",
       "      <td>14.702631</td>\n",
       "    </tr>\n",
       "    <tr>\n",
       "      <th>43</th>\n",
       "      <td>43</td>\n",
       "      <td>15.286741</td>\n",
       "      <td>14.696682</td>\n",
       "    </tr>\n",
       "    <tr>\n",
       "      <th>44</th>\n",
       "      <td>44</td>\n",
       "      <td>15.286496</td>\n",
       "      <td>14.704562</td>\n",
       "    </tr>\n",
       "    <tr>\n",
       "      <th>45</th>\n",
       "      <td>45</td>\n",
       "      <td>15.288175</td>\n",
       "      <td>14.685524</td>\n",
       "    </tr>\n",
       "    <tr>\n",
       "      <th>46</th>\n",
       "      <td>46</td>\n",
       "      <td>15.285969</td>\n",
       "      <td>14.682360</td>\n",
       "    </tr>\n",
       "    <tr>\n",
       "      <th>47</th>\n",
       "      <td>47</td>\n",
       "      <td>15.286118</td>\n",
       "      <td>14.690392</td>\n",
       "    </tr>\n",
       "  </tbody>\n",
       "</table>\n",
       "</div>"
      ],
      "text/plain": [
       "    epoch  train/loss   val/loss\n",
       "0       0   16.408060  15.560390\n",
       "1       1   15.719135  15.232821\n",
       "2       2   15.557123  15.072414\n",
       "3       3   15.489797  14.990514\n",
       "4       4   15.450452  14.954260\n",
       "5       5   15.424915  14.882754\n",
       "6       6   15.404165  14.854184\n",
       "7       7   15.384672  14.860785\n",
       "8       8   15.370927  14.818472\n",
       "9       9   15.361143  14.808467\n",
       "10     10   15.352438  14.804443\n",
       "11     11   15.347589  14.803108\n",
       "12     12   15.341543  14.822948\n",
       "13     13   15.337177  14.774311\n",
       "14     14   15.333222  14.754923\n",
       "15     15   15.330976  14.735578\n",
       "16     16   15.326552  14.765899\n",
       "17     17   15.323350  14.754254\n",
       "18     18   15.321953  14.772099\n",
       "19     19   15.318877  14.769415\n",
       "20     20   15.315581  14.731729\n",
       "21     21   15.311453  14.728435\n",
       "22     22   15.308504  14.710700\n",
       "23     23   15.304916  14.734838\n",
       "24     24   15.302030  14.736806\n",
       "25     25   15.300649  14.708930\n",
       "26     26   15.298478  14.720180\n",
       "27     27   15.298790  14.713898\n",
       "28     28   15.299098  14.708858\n",
       "29     29   15.297176  14.716374\n",
       "30     30   15.297795  14.713484\n",
       "31     31   15.298585  14.690504\n",
       "32     32   15.296399  14.712950\n",
       "33     33   15.296056  14.694804\n",
       "34     34   15.296390  14.712308\n",
       "35     35   15.294200  14.696954\n",
       "36     36   15.294270  14.706256\n",
       "37     37   15.293674  14.703575\n",
       "38     38   15.291849  14.723973\n",
       "39     39   15.290477  14.709560\n",
       "40     40   15.289921  14.689914\n",
       "41     41   15.289432  14.708713\n",
       "42     42   15.287850  14.702631\n",
       "43     43   15.286741  14.696682\n",
       "44     44   15.286496  14.704562\n",
       "45     45   15.288175  14.685524\n",
       "46     46   15.285969  14.682360\n",
       "47     47   15.286118  14.690392"
      ]
     },
     "execution_count": 18,
     "metadata": {},
     "output_type": "execute_result"
    }
   ],
   "source": [
    "loss_df"
   ]
  },
  {
   "cell_type": "code",
   "execution_count": 19,
   "metadata": {},
   "outputs": [
    {
     "data": {
      "text/html": [
       "<div>\n",
       "<style scoped>\n",
       "    .dataframe tbody tr th:only-of-type {\n",
       "        vertical-align: middle;\n",
       "    }\n",
       "\n",
       "    .dataframe tbody tr th {\n",
       "        vertical-align: top;\n",
       "    }\n",
       "\n",
       "    .dataframe thead th {\n",
       "        text-align: right;\n",
       "    }\n",
       "</style>\n",
       "<table border=\"1\" class=\"dataframe\">\n",
       "  <thead>\n",
       "    <tr style=\"text-align: right;\">\n",
       "      <th></th>\n",
       "      <th>NDCG@10</th>\n",
       "      <th>Recall@10</th>\n",
       "      <th>Serendipity@10</th>\n",
       "      <th>epoch</th>\n",
       "      <th>step</th>\n",
       "    </tr>\n",
       "  </thead>\n",
       "  <tbody>\n",
       "    <tr>\n",
       "      <th>0</th>\n",
       "      <td>0.021974</td>\n",
       "      <td>0.177398</td>\n",
       "      <td>0.000046</td>\n",
       "      <td>0</td>\n",
       "      <td>2362</td>\n",
       "    </tr>\n",
       "    <tr>\n",
       "      <th>1</th>\n",
       "      <td>0.023695</td>\n",
       "      <td>0.200394</td>\n",
       "      <td>0.000087</td>\n",
       "      <td>1</td>\n",
       "      <td>4725</td>\n",
       "    </tr>\n",
       "    <tr>\n",
       "      <th>2</th>\n",
       "      <td>0.025254</td>\n",
       "      <td>0.201708</td>\n",
       "      <td>0.000115</td>\n",
       "      <td>2</td>\n",
       "      <td>7088</td>\n",
       "    </tr>\n",
       "    <tr>\n",
       "      <th>3</th>\n",
       "      <td>0.026382</td>\n",
       "      <td>0.208936</td>\n",
       "      <td>0.000107</td>\n",
       "      <td>3</td>\n",
       "      <td>9451</td>\n",
       "    </tr>\n",
       "    <tr>\n",
       "      <th>4</th>\n",
       "      <td>0.025813</td>\n",
       "      <td>0.201051</td>\n",
       "      <td>0.000128</td>\n",
       "      <td>4</td>\n",
       "      <td>11814</td>\n",
       "    </tr>\n",
       "    <tr>\n",
       "      <th>5</th>\n",
       "      <td>0.027095</td>\n",
       "      <td>0.206965</td>\n",
       "      <td>0.000151</td>\n",
       "      <td>5</td>\n",
       "      <td>14177</td>\n",
       "    </tr>\n",
       "    <tr>\n",
       "      <th>6</th>\n",
       "      <td>0.026697</td>\n",
       "      <td>0.205650</td>\n",
       "      <td>0.000118</td>\n",
       "      <td>6</td>\n",
       "      <td>16540</td>\n",
       "    </tr>\n",
       "    <tr>\n",
       "      <th>7</th>\n",
       "      <td>0.027147</td>\n",
       "      <td>0.212221</td>\n",
       "      <td>0.000124</td>\n",
       "      <td>7</td>\n",
       "      <td>18903</td>\n",
       "    </tr>\n",
       "    <tr>\n",
       "      <th>8</th>\n",
       "      <td>0.027826</td>\n",
       "      <td>0.210907</td>\n",
       "      <td>0.000124</td>\n",
       "      <td>8</td>\n",
       "      <td>21266</td>\n",
       "    </tr>\n",
       "    <tr>\n",
       "      <th>9</th>\n",
       "      <td>0.027500</td>\n",
       "      <td>0.211564</td>\n",
       "      <td>0.000140</td>\n",
       "      <td>9</td>\n",
       "      <td>23629</td>\n",
       "    </tr>\n",
       "    <tr>\n",
       "      <th>10</th>\n",
       "      <td>0.027416</td>\n",
       "      <td>0.213535</td>\n",
       "      <td>0.000126</td>\n",
       "      <td>10</td>\n",
       "      <td>25992</td>\n",
       "    </tr>\n",
       "    <tr>\n",
       "      <th>11</th>\n",
       "      <td>0.027841</td>\n",
       "      <td>0.213535</td>\n",
       "      <td>0.000135</td>\n",
       "      <td>11</td>\n",
       "      <td>28355</td>\n",
       "    </tr>\n",
       "    <tr>\n",
       "      <th>12</th>\n",
       "      <td>0.027413</td>\n",
       "      <td>0.209593</td>\n",
       "      <td>0.000131</td>\n",
       "      <td>12</td>\n",
       "      <td>30718</td>\n",
       "    </tr>\n",
       "    <tr>\n",
       "      <th>13</th>\n",
       "      <td>0.027666</td>\n",
       "      <td>0.212221</td>\n",
       "      <td>0.000153</td>\n",
       "      <td>13</td>\n",
       "      <td>33081</td>\n",
       "    </tr>\n",
       "    <tr>\n",
       "      <th>14</th>\n",
       "      <td>0.028304</td>\n",
       "      <td>0.212878</td>\n",
       "      <td>0.000143</td>\n",
       "      <td>14</td>\n",
       "      <td>35444</td>\n",
       "    </tr>\n",
       "    <tr>\n",
       "      <th>15</th>\n",
       "      <td>0.027754</td>\n",
       "      <td>0.212878</td>\n",
       "      <td>0.000146</td>\n",
       "      <td>15</td>\n",
       "      <td>37807</td>\n",
       "    </tr>\n",
       "    <tr>\n",
       "      <th>16</th>\n",
       "      <td>0.027787</td>\n",
       "      <td>0.206307</td>\n",
       "      <td>0.000125</td>\n",
       "      <td>16</td>\n",
       "      <td>40170</td>\n",
       "    </tr>\n",
       "    <tr>\n",
       "      <th>17</th>\n",
       "      <td>0.028036</td>\n",
       "      <td>0.212878</td>\n",
       "      <td>0.000130</td>\n",
       "      <td>17</td>\n",
       "      <td>42533</td>\n",
       "    </tr>\n",
       "    <tr>\n",
       "      <th>18</th>\n",
       "      <td>0.027674</td>\n",
       "      <td>0.210907</td>\n",
       "      <td>0.000121</td>\n",
       "      <td>18</td>\n",
       "      <td>44896</td>\n",
       "    </tr>\n",
       "    <tr>\n",
       "      <th>19</th>\n",
       "      <td>0.028262</td>\n",
       "      <td>0.215506</td>\n",
       "      <td>0.000143</td>\n",
       "      <td>19</td>\n",
       "      <td>47259</td>\n",
       "    </tr>\n",
       "    <tr>\n",
       "      <th>20</th>\n",
       "      <td>0.028127</td>\n",
       "      <td>0.214849</td>\n",
       "      <td>0.000137</td>\n",
       "      <td>20</td>\n",
       "      <td>49622</td>\n",
       "    </tr>\n",
       "    <tr>\n",
       "      <th>21</th>\n",
       "      <td>0.028093</td>\n",
       "      <td>0.214849</td>\n",
       "      <td>0.000143</td>\n",
       "      <td>21</td>\n",
       "      <td>51985</td>\n",
       "    </tr>\n",
       "    <tr>\n",
       "      <th>22</th>\n",
       "      <td>0.028219</td>\n",
       "      <td>0.215506</td>\n",
       "      <td>0.000157</td>\n",
       "      <td>22</td>\n",
       "      <td>54348</td>\n",
       "    </tr>\n",
       "    <tr>\n",
       "      <th>23</th>\n",
       "      <td>0.028360</td>\n",
       "      <td>0.214849</td>\n",
       "      <td>0.000140</td>\n",
       "      <td>23</td>\n",
       "      <td>56711</td>\n",
       "    </tr>\n",
       "    <tr>\n",
       "      <th>24</th>\n",
       "      <td>0.028718</td>\n",
       "      <td>0.215506</td>\n",
       "      <td>0.000136</td>\n",
       "      <td>24</td>\n",
       "      <td>59074</td>\n",
       "    </tr>\n",
       "    <tr>\n",
       "      <th>25</th>\n",
       "      <td>0.028528</td>\n",
       "      <td>0.218134</td>\n",
       "      <td>0.000149</td>\n",
       "      <td>25</td>\n",
       "      <td>61437</td>\n",
       "    </tr>\n",
       "    <tr>\n",
       "      <th>26</th>\n",
       "      <td>0.028579</td>\n",
       "      <td>0.222733</td>\n",
       "      <td>0.000168</td>\n",
       "      <td>26</td>\n",
       "      <td>63800</td>\n",
       "    </tr>\n",
       "    <tr>\n",
       "      <th>27</th>\n",
       "      <td>0.028567</td>\n",
       "      <td>0.216163</td>\n",
       "      <td>0.000151</td>\n",
       "      <td>27</td>\n",
       "      <td>66163</td>\n",
       "    </tr>\n",
       "    <tr>\n",
       "      <th>28</th>\n",
       "      <td>0.029166</td>\n",
       "      <td>0.222076</td>\n",
       "      <td>0.000178</td>\n",
       "      <td>28</td>\n",
       "      <td>68526</td>\n",
       "    </tr>\n",
       "    <tr>\n",
       "      <th>29</th>\n",
       "      <td>0.028037</td>\n",
       "      <td>0.212878</td>\n",
       "      <td>0.000129</td>\n",
       "      <td>29</td>\n",
       "      <td>70889</td>\n",
       "    </tr>\n",
       "    <tr>\n",
       "      <th>30</th>\n",
       "      <td>0.028466</td>\n",
       "      <td>0.217477</td>\n",
       "      <td>0.000147</td>\n",
       "      <td>30</td>\n",
       "      <td>73252</td>\n",
       "    </tr>\n",
       "    <tr>\n",
       "      <th>31</th>\n",
       "      <td>0.028722</td>\n",
       "      <td>0.222733</td>\n",
       "      <td>0.000162</td>\n",
       "      <td>31</td>\n",
       "      <td>75615</td>\n",
       "    </tr>\n",
       "    <tr>\n",
       "      <th>32</th>\n",
       "      <td>0.027889</td>\n",
       "      <td>0.212221</td>\n",
       "      <td>0.000153</td>\n",
       "      <td>32</td>\n",
       "      <td>77978</td>\n",
       "    </tr>\n",
       "    <tr>\n",
       "      <th>33</th>\n",
       "      <td>0.028661</td>\n",
       "      <td>0.219448</td>\n",
       "      <td>0.000151</td>\n",
       "      <td>33</td>\n",
       "      <td>80341</td>\n",
       "    </tr>\n",
       "    <tr>\n",
       "      <th>34</th>\n",
       "      <td>0.029014</td>\n",
       "      <td>0.218791</td>\n",
       "      <td>0.000144</td>\n",
       "      <td>34</td>\n",
       "      <td>82704</td>\n",
       "    </tr>\n",
       "    <tr>\n",
       "      <th>35</th>\n",
       "      <td>0.028990</td>\n",
       "      <td>0.218134</td>\n",
       "      <td>0.000147</td>\n",
       "      <td>35</td>\n",
       "      <td>85067</td>\n",
       "    </tr>\n",
       "    <tr>\n",
       "      <th>36</th>\n",
       "      <td>0.028223</td>\n",
       "      <td>0.212878</td>\n",
       "      <td>0.000155</td>\n",
       "      <td>36</td>\n",
       "      <td>87430</td>\n",
       "    </tr>\n",
       "    <tr>\n",
       "      <th>37</th>\n",
       "      <td>0.029290</td>\n",
       "      <td>0.218791</td>\n",
       "      <td>0.000149</td>\n",
       "      <td>37</td>\n",
       "      <td>89793</td>\n",
       "    </tr>\n",
       "    <tr>\n",
       "      <th>38</th>\n",
       "      <td>0.028617</td>\n",
       "      <td>0.214192</td>\n",
       "      <td>0.000153</td>\n",
       "      <td>38</td>\n",
       "      <td>92156</td>\n",
       "    </tr>\n",
       "    <tr>\n",
       "      <th>39</th>\n",
       "      <td>0.028748</td>\n",
       "      <td>0.218791</td>\n",
       "      <td>0.000151</td>\n",
       "      <td>39</td>\n",
       "      <td>94519</td>\n",
       "    </tr>\n",
       "    <tr>\n",
       "      <th>40</th>\n",
       "      <td>0.029008</td>\n",
       "      <td>0.219448</td>\n",
       "      <td>0.000157</td>\n",
       "      <td>40</td>\n",
       "      <td>96882</td>\n",
       "    </tr>\n",
       "    <tr>\n",
       "      <th>41</th>\n",
       "      <td>0.028525</td>\n",
       "      <td>0.212878</td>\n",
       "      <td>0.000146</td>\n",
       "      <td>41</td>\n",
       "      <td>99245</td>\n",
       "    </tr>\n",
       "    <tr>\n",
       "      <th>42</th>\n",
       "      <td>0.028953</td>\n",
       "      <td>0.220762</td>\n",
       "      <td>0.000156</td>\n",
       "      <td>42</td>\n",
       "      <td>101608</td>\n",
       "    </tr>\n",
       "    <tr>\n",
       "      <th>43</th>\n",
       "      <td>0.028874</td>\n",
       "      <td>0.214192</td>\n",
       "      <td>0.000144</td>\n",
       "      <td>43</td>\n",
       "      <td>103971</td>\n",
       "    </tr>\n",
       "    <tr>\n",
       "      <th>44</th>\n",
       "      <td>0.028968</td>\n",
       "      <td>0.216163</td>\n",
       "      <td>0.000135</td>\n",
       "      <td>44</td>\n",
       "      <td>106334</td>\n",
       "    </tr>\n",
       "    <tr>\n",
       "      <th>45</th>\n",
       "      <td>0.028129</td>\n",
       "      <td>0.211564</td>\n",
       "      <td>0.000159</td>\n",
       "      <td>45</td>\n",
       "      <td>108697</td>\n",
       "    </tr>\n",
       "    <tr>\n",
       "      <th>46</th>\n",
       "      <td>0.028558</td>\n",
       "      <td>0.216163</td>\n",
       "      <td>0.000168</td>\n",
       "      <td>46</td>\n",
       "      <td>111060</td>\n",
       "    </tr>\n",
       "    <tr>\n",
       "      <th>47</th>\n",
       "      <td>0.029267</td>\n",
       "      <td>0.222733</td>\n",
       "      <td>0.000159</td>\n",
       "      <td>47</td>\n",
       "      <td>113423</td>\n",
       "    </tr>\n",
       "  </tbody>\n",
       "</table>\n",
       "</div>"
      ],
      "text/plain": [
       "     NDCG@10  Recall@10  Serendipity@10  epoch    step\n",
       "0   0.021974   0.177398        0.000046      0    2362\n",
       "1   0.023695   0.200394        0.000087      1    4725\n",
       "2   0.025254   0.201708        0.000115      2    7088\n",
       "3   0.026382   0.208936        0.000107      3    9451\n",
       "4   0.025813   0.201051        0.000128      4   11814\n",
       "5   0.027095   0.206965        0.000151      5   14177\n",
       "6   0.026697   0.205650        0.000118      6   16540\n",
       "7   0.027147   0.212221        0.000124      7   18903\n",
       "8   0.027826   0.210907        0.000124      8   21266\n",
       "9   0.027500   0.211564        0.000140      9   23629\n",
       "10  0.027416   0.213535        0.000126     10   25992\n",
       "11  0.027841   0.213535        0.000135     11   28355\n",
       "12  0.027413   0.209593        0.000131     12   30718\n",
       "13  0.027666   0.212221        0.000153     13   33081\n",
       "14  0.028304   0.212878        0.000143     14   35444\n",
       "15  0.027754   0.212878        0.000146     15   37807\n",
       "16  0.027787   0.206307        0.000125     16   40170\n",
       "17  0.028036   0.212878        0.000130     17   42533\n",
       "18  0.027674   0.210907        0.000121     18   44896\n",
       "19  0.028262   0.215506        0.000143     19   47259\n",
       "20  0.028127   0.214849        0.000137     20   49622\n",
       "21  0.028093   0.214849        0.000143     21   51985\n",
       "22  0.028219   0.215506        0.000157     22   54348\n",
       "23  0.028360   0.214849        0.000140     23   56711\n",
       "24  0.028718   0.215506        0.000136     24   59074\n",
       "25  0.028528   0.218134        0.000149     25   61437\n",
       "26  0.028579   0.222733        0.000168     26   63800\n",
       "27  0.028567   0.216163        0.000151     27   66163\n",
       "28  0.029166   0.222076        0.000178     28   68526\n",
       "29  0.028037   0.212878        0.000129     29   70889\n",
       "30  0.028466   0.217477        0.000147     30   73252\n",
       "31  0.028722   0.222733        0.000162     31   75615\n",
       "32  0.027889   0.212221        0.000153     32   77978\n",
       "33  0.028661   0.219448        0.000151     33   80341\n",
       "34  0.029014   0.218791        0.000144     34   82704\n",
       "35  0.028990   0.218134        0.000147     35   85067\n",
       "36  0.028223   0.212878        0.000155     36   87430\n",
       "37  0.029290   0.218791        0.000149     37   89793\n",
       "38  0.028617   0.214192        0.000153     38   92156\n",
       "39  0.028748   0.218791        0.000151     39   94519\n",
       "40  0.029008   0.219448        0.000157     40   96882\n",
       "41  0.028525   0.212878        0.000146     41   99245\n",
       "42  0.028953   0.220762        0.000156     42  101608\n",
       "43  0.028874   0.214192        0.000144     43  103971\n",
       "44  0.028968   0.216163        0.000135     44  106334\n",
       "45  0.028129   0.211564        0.000159     45  108697\n",
       "46  0.028558   0.216163        0.000168     46  111060\n",
       "47  0.029267   0.222733        0.000159     47  113423"
      ]
     },
     "execution_count": 19,
     "metadata": {},
     "output_type": "execute_result"
    }
   ],
   "source": [
    "val_metrics_df"
   ]
  },
  {
   "cell_type": "code",
   "execution_count": null,
   "metadata": {},
   "outputs": [],
   "source": []
  }
 ],
 "metadata": {
  "kernelspec": {
   "display_name": ".venv",
   "language": "python",
   "name": "python3"
  },
  "language_info": {
   "codemirror_mode": {
    "name": "ipython",
    "version": 3
   },
   "file_extension": ".py",
   "mimetype": "text/x-python",
   "name": "python",
   "nbconvert_exporter": "python",
   "pygments_lexer": "ipython3",
   "version": "3.9.12"
  }
 },
 "nbformat": 4,
 "nbformat_minor": 2
}
