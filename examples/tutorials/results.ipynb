{
 "cells": [
  {
   "cell_type": "code",
   "id": "initial_id",
   "metadata": {
    "collapsed": true,
    "ExecuteTime": {
     "end_time": "2025-06-20T11:30:58.145723Z",
     "start_time": "2025-06-20T11:30:58.143093Z"
    }
   },
   "source": [
    "import os\n",
    "\n",
    "import pandas as pd\n",
    "path = os.getcwd()"
   ],
   "outputs": [],
   "execution_count": 3
  },
  {
   "metadata": {
    "ExecuteTime": {
     "end_time": "2025-06-20T11:31:01.766915Z",
     "start_time": "2025-06-20T11:31:01.762018Z"
    }
   },
   "cell_type": "code",
   "source": "path",
   "id": "36b1cd9afeeb802f",
   "outputs": [
    {
     "data": {
      "text/plain": [
       "'/home/student/kuzin/python_project/RecTools/examples/tutorials'"
      ]
     },
     "execution_count": 4,
     "metadata": {},
     "output_type": "execute_result"
    }
   ],
   "execution_count": 4
  },
  {
   "metadata": {
    "ExecuteTime": {
     "end_time": "2025-06-20T11:36:20.651966Z",
     "start_time": "2025-06-20T11:36:20.645736Z"
    }
   },
   "cell_type": "code",
   "source": [
    "res_ml_1m = pd.read_csv(os.path.join(path,\"teodor-r_hstu_ml-1m.csv\" ))\n",
    "res_ml_20m = pd.read_csv(os.path.join(path,\"teodor-r_hstu_ml-20m.csv\" ))"
   ],
   "id": "93d9ffeee181bda2",
   "outputs": [],
   "execution_count": 18
  },
  {
   "metadata": {
    "ExecuteTime": {
     "end_time": "2025-06-20T11:36:22.735526Z",
     "start_time": "2025-06-20T11:36:22.732608Z"
    }
   },
   "cell_type": "code",
   "source": [
    "valid_columns = [ f\"recall@{k}\" for k in [10,50,100,200]]\n",
    "valid_columns += [ f\"ndcg@{k}\" for k in [10,50,100,200]]"
   ],
   "id": "594d7a2ef738382e",
   "outputs": [],
   "execution_count": 19
  },
  {
   "metadata": {
    "ExecuteTime": {
     "end_time": "2025-06-20T11:36:23.030335Z",
     "start_time": "2025-06-20T11:36:23.027043Z"
    }
   },
   "cell_type": "code",
   "source": "valid_columns",
   "id": "cf3816593ca9ae1",
   "outputs": [
    {
     "data": {
      "text/plain": [
       "['recall@10',\n",
       " 'recall@50',\n",
       " 'recall@100',\n",
       " 'recall@200',\n",
       " 'ndcg@10',\n",
       " 'ndcg@50',\n",
       " 'ndcg@100',\n",
       " 'ndcg@200']"
      ]
     },
     "execution_count": 20,
     "metadata": {},
     "output_type": "execute_result"
    }
   ],
   "execution_count": 20
  },
  {
   "metadata": {
    "ExecuteTime": {
     "end_time": "2025-06-20T11:36:38.065881Z",
     "start_time": "2025-06-20T11:36:38.062102Z"
    }
   },
   "cell_type": "code",
   "source": [
    "res_ml_1m = res_ml_1m[valid_columns].iloc[1:]\n",
    "res_ml_20m = res_ml_20m[valid_columns]"
   ],
   "id": "cbaa4315eaa37fd2",
   "outputs": [],
   "execution_count": 22
  },
  {
   "metadata": {
    "ExecuteTime": {
     "end_time": "2025-06-20T11:37:17.257674Z",
     "start_time": "2025-06-20T11:37:17.250900Z"
    }
   },
   "cell_type": "code",
   "source": "res_ml_1m, res_ml_20m",
   "id": "b426dbe2140705c2",
   "outputs": [
    {
     "data": {
      "text/plain": [
       "(   recall@10  recall@50  recall@100  recall@200   ndcg@10   ndcg@50  ndcg@100  \\\n",
       " 1   0.301259   0.575025    0.679033    0.780556  0.171199  0.231868  0.248752   \n",
       " \n",
       "    ndcg@200  \n",
       " 1  0.263005  ,\n",
       "    recall@10  recall@50  recall@100  recall@200   ndcg@10   ndcg@50  ndcg@100  \\\n",
       " 0    0.33961   0.598378     0.70509    0.797177  0.202918  0.260186  0.277524   \n",
       " \n",
       "    ndcg@200  \n",
       " 0  0.290443  )"
      ]
     },
     "execution_count": 26,
     "metadata": {},
     "output_type": "execute_result"
    }
   ],
   "execution_count": 26
  },
  {
   "metadata": {
    "ExecuteTime": {
     "end_time": "2025-06-20T11:40:56.357722Z",
     "start_time": "2025-06-20T11:40:56.354381Z"
    }
   },
   "cell_type": "code",
   "source": "res = pd.concat([res_ml_1m,res_ml_20m])",
   "id": "3e942d3557ec83d7",
   "outputs": [],
   "execution_count": 32
  },
  {
   "metadata": {
    "ExecuteTime": {
     "end_time": "2025-06-20T11:42:53.066372Z",
     "start_time": "2025-06-20T11:42:53.063509Z"
    }
   },
   "cell_type": "code",
   "source": [
    "model_names = ['RecTools', 'Reference']\n",
    "\n",
    "# Замена индексов\n",
    "res.index = model_names"
   ],
   "id": "34ac935f283e2192",
   "outputs": [],
   "execution_count": 36
  },
  {
   "metadata": {
    "ExecuteTime": {
     "end_time": "2025-06-20T11:42:53.812724Z",
     "start_time": "2025-06-20T11:42:53.805555Z"
    }
   },
   "cell_type": "code",
   "source": "res",
   "id": "f024210d0130f614",
   "outputs": [
    {
     "data": {
      "text/plain": [
       "           recall@10  recall@50  recall@100  recall@200   ndcg@10   ndcg@50  \\\n",
       "RecTools    0.301259   0.575025    0.679033    0.780556  0.171199  0.231868   \n",
       "Reference   0.339610   0.598378    0.705090    0.797177  0.202918  0.260186   \n",
       "\n",
       "           ndcg@100  ndcg@200  \n",
       "RecTools   0.248752  0.263005  \n",
       "Reference  0.277524  0.290443  "
      ],
      "text/html": [
       "<div>\n",
       "<style scoped>\n",
       "    .dataframe tbody tr th:only-of-type {\n",
       "        vertical-align: middle;\n",
       "    }\n",
       "\n",
       "    .dataframe tbody tr th {\n",
       "        vertical-align: top;\n",
       "    }\n",
       "\n",
       "    .dataframe thead th {\n",
       "        text-align: right;\n",
       "    }\n",
       "</style>\n",
       "<table border=\"1\" class=\"dataframe\">\n",
       "  <thead>\n",
       "    <tr style=\"text-align: right;\">\n",
       "      <th></th>\n",
       "      <th>recall@10</th>\n",
       "      <th>recall@50</th>\n",
       "      <th>recall@100</th>\n",
       "      <th>recall@200</th>\n",
       "      <th>ndcg@10</th>\n",
       "      <th>ndcg@50</th>\n",
       "      <th>ndcg@100</th>\n",
       "      <th>ndcg@200</th>\n",
       "    </tr>\n",
       "  </thead>\n",
       "  <tbody>\n",
       "    <tr>\n",
       "      <th>RecTools</th>\n",
       "      <td>0.301259</td>\n",
       "      <td>0.575025</td>\n",
       "      <td>0.679033</td>\n",
       "      <td>0.780556</td>\n",
       "      <td>0.171199</td>\n",
       "      <td>0.231868</td>\n",
       "      <td>0.248752</td>\n",
       "      <td>0.263005</td>\n",
       "    </tr>\n",
       "    <tr>\n",
       "      <th>Reference</th>\n",
       "      <td>0.339610</td>\n",
       "      <td>0.598378</td>\n",
       "      <td>0.705090</td>\n",
       "      <td>0.797177</td>\n",
       "      <td>0.202918</td>\n",
       "      <td>0.260186</td>\n",
       "      <td>0.277524</td>\n",
       "      <td>0.290443</td>\n",
       "    </tr>\n",
       "  </tbody>\n",
       "</table>\n",
       "</div>"
      ]
     },
     "execution_count": 37,
     "metadata": {},
     "output_type": "execute_result"
    }
   ],
   "execution_count": 37
  },
  {
   "metadata": {},
   "cell_type": "code",
   "outputs": [],
   "execution_count": null,
   "source": "",
   "id": "cdf1edf2cdc443c4"
  }
 ],
 "metadata": {
  "kernelspec": {
   "display_name": "Python 3",
   "language": "python",
   "name": "python3"
  },
  "language_info": {
   "codemirror_mode": {
    "name": "ipython",
    "version": 2
   },
   "file_extension": ".py",
   "mimetype": "text/x-python",
   "name": "python",
   "nbconvert_exporter": "python",
   "pygments_lexer": "ipython2",
   "version": "2.7.6"
  }
 },
 "nbformat": 4,
 "nbformat_minor": 5
}
