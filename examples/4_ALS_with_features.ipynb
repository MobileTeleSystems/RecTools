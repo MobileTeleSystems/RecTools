{
 "cells": [
  {
   "cell_type": "markdown",
   "metadata": {},
   "source": [
    "# Examples of using explicit features in implicit.ALS model with RecTools\n",
    "\n",
    "Some models allow using explicit user (sex, age, etc.) and item (genre, year, ...) features.\n",
    "\n",
    "\n",
    "\n",
    "- Building ALS model\n",
    "- Adding features to model\n",
    "- Advanced feature usage"
   ]
  },
  {
   "cell_type": "code",
   "execution_count": 2,
   "metadata": {},
   "outputs": [],
   "source": [
    "import os\n",
    "\n",
    "import numpy as np\n",
    "import pandas as pd\n",
    "\n",
    "from implicit.als import AlternatingLeastSquares\n",
    "\n",
    "from rectools import Columns\n",
    "from rectools.dataset import Dataset, SparseFeatures, DenseFeatures, IdMap, Interactions\n",
    "from rectools.metrics import (\n",
    "    MAP,\n",
    "    MeanInvUserFreq,\n",
    "    calc_metrics,\n",
    ")\n",
    "from rectools.models import ImplicitALSWrapperModel"
   ]
  },
  {
   "cell_type": "code",
   "execution_count": 3,
   "metadata": {},
   "outputs": [],
   "source": [
    "os.environ[\"OPENBLAS_NUM_THREADS\"] = \"1\"  # For implicit ALS"
   ]
  },
  {
   "cell_type": "markdown",
   "metadata": {},
   "source": [
    "## Load data"
   ]
  },
  {
   "cell_type": "code",
   "execution_count": 4,
   "metadata": {},
   "outputs": [
    {
     "name": "stdout",
     "output_type": "stream",
     "text": [
      "--2022-07-28 11:32:59--  https://files.grouplens.org/datasets/movielens/ml-1m.zip\n",
      "Resolving files.grouplens.org (files.grouplens.org)... 128.101.65.152\n",
      "Connecting to files.grouplens.org (files.grouplens.org)|128.101.65.152|:443... connected.\n",
      "HTTP request sent, awaiting response... 200 OK\n",
      "Length: 5917549 (5,6M) [application/zip]\n",
      "Saving to: ‘ml-1m.zip.5’\n",
      "\n",
      "ml-1m.zip.5         100%[===================>]   5,64M  3,88MB/s    in 1,5s    \n",
      "\n",
      "2022-07-28 11:33:01 (3,88 MB/s) - ‘ml-1m.zip.5’ saved [5917549/5917549]\n",
      "\n",
      "Archive:  ml-1m.zip\n",
      "   creating: ml-1m/\n",
      "  inflating: ml-1m/movies.dat        \n",
      "  inflating: ml-1m/ratings.dat       \n",
      "  inflating: ml-1m/README            \n",
      "  inflating: ml-1m/users.dat         \n",
      "CPU times: user 41.1 ms, sys: 26.6 ms, total: 67.7 ms\n",
      "Wall time: 2.45 s\n"
     ]
    }
   ],
   "source": [
    "%%time\n",
    "!wget https://files.grouplens.org/datasets/movielens/ml-1m.zip\n",
    "!unzip ml-1m.zip"
   ]
  },
  {
   "cell_type": "code",
   "execution_count": 5,
   "metadata": {},
   "outputs": [
    {
     "name": "stdout",
     "output_type": "stream",
     "text": [
      "(1000209, 4)\n",
      "CPU times: user 4.01 s, sys: 177 ms, total: 4.19 s\n",
      "Wall time: 4.21 s\n"
     ]
    },
    {
     "data": {
      "text/html": [
       "<div>\n",
       "<style scoped>\n",
       "    .dataframe tbody tr th:only-of-type {\n",
       "        vertical-align: middle;\n",
       "    }\n",
       "\n",
       "    .dataframe tbody tr th {\n",
       "        vertical-align: top;\n",
       "    }\n",
       "\n",
       "    .dataframe thead th {\n",
       "        text-align: right;\n",
       "    }\n",
       "</style>\n",
       "<table border=\"1\" class=\"dataframe\">\n",
       "  <thead>\n",
       "    <tr style=\"text-align: right;\">\n",
       "      <th></th>\n",
       "      <th>user_id</th>\n",
       "      <th>item_id</th>\n",
       "      <th>weight</th>\n",
       "      <th>datetime</th>\n",
       "    </tr>\n",
       "  </thead>\n",
       "  <tbody>\n",
       "    <tr>\n",
       "      <th>0</th>\n",
       "      <td>1</td>\n",
       "      <td>1193</td>\n",
       "      <td>5</td>\n",
       "      <td>978300760</td>\n",
       "    </tr>\n",
       "    <tr>\n",
       "      <th>1</th>\n",
       "      <td>1</td>\n",
       "      <td>661</td>\n",
       "      <td>3</td>\n",
       "      <td>978302109</td>\n",
       "    </tr>\n",
       "    <tr>\n",
       "      <th>2</th>\n",
       "      <td>1</td>\n",
       "      <td>914</td>\n",
       "      <td>3</td>\n",
       "      <td>978301968</td>\n",
       "    </tr>\n",
       "    <tr>\n",
       "      <th>3</th>\n",
       "      <td>1</td>\n",
       "      <td>3408</td>\n",
       "      <td>4</td>\n",
       "      <td>978300275</td>\n",
       "    </tr>\n",
       "    <tr>\n",
       "      <th>4</th>\n",
       "      <td>1</td>\n",
       "      <td>2355</td>\n",
       "      <td>5</td>\n",
       "      <td>978824291</td>\n",
       "    </tr>\n",
       "  </tbody>\n",
       "</table>\n",
       "</div>"
      ],
      "text/plain": [
       "   user_id  item_id  weight   datetime\n",
       "0        1     1193       5  978300760\n",
       "1        1      661       3  978302109\n",
       "2        1      914       3  978301968\n",
       "3        1     3408       4  978300275\n",
       "4        1     2355       5  978824291"
      ]
     },
     "execution_count": 5,
     "metadata": {},
     "output_type": "execute_result"
    }
   ],
   "source": [
    "%%time\n",
    "ratings = pd.read_csv(\n",
    "    \"ml-1m/ratings.dat\",\n",
    "    sep=\"::\",\n",
    "    engine=\"python\",  # Because of 2-chars separators\n",
    "    header=None,\n",
    "    names=[Columns.User, Columns.Item, Columns.Weight, Columns.Datetime],\n",
    ")\n",
    "print(ratings.shape)\n",
    "ratings.head()"
   ]
  },
  {
   "cell_type": "code",
   "execution_count": 6,
   "metadata": {},
   "outputs": [
    {
     "data": {
      "text/plain": [
       "(Timestamp('2000-04-25 23:05:32'), Timestamp('2003-02-28 17:49:50'))"
      ]
     },
     "execution_count": 6,
     "metadata": {},
     "output_type": "execute_result"
    }
   ],
   "source": [
    "ratings[\"datetime\"] = pd.to_datetime(ratings[\"datetime\"] * 10 ** 9)\n",
    "ratings[\"datetime\"].min(), ratings[\"datetime\"].max()"
   ]
  },
  {
   "cell_type": "code",
   "execution_count": 7,
   "metadata": {},
   "outputs": [
    {
     "name": "stdout",
     "output_type": "stream",
     "text": [
      "(3883, 3)\n",
      "CPU times: user 11.5 ms, sys: 1.6 ms, total: 13.1 ms\n",
      "Wall time: 12.1 ms\n"
     ]
    },
    {
     "data": {
      "text/html": [
       "<div>\n",
       "<style scoped>\n",
       "    .dataframe tbody tr th:only-of-type {\n",
       "        vertical-align: middle;\n",
       "    }\n",
       "\n",
       "    .dataframe tbody tr th {\n",
       "        vertical-align: top;\n",
       "    }\n",
       "\n",
       "    .dataframe thead th {\n",
       "        text-align: right;\n",
       "    }\n",
       "</style>\n",
       "<table border=\"1\" class=\"dataframe\">\n",
       "  <thead>\n",
       "    <tr style=\"text-align: right;\">\n",
       "      <th></th>\n",
       "      <th>item_id</th>\n",
       "      <th>title</th>\n",
       "      <th>genres</th>\n",
       "    </tr>\n",
       "  </thead>\n",
       "  <tbody>\n",
       "    <tr>\n",
       "      <th>0</th>\n",
       "      <td>1</td>\n",
       "      <td>Toy Story (1995)</td>\n",
       "      <td>Animation|Children's|Comedy</td>\n",
       "    </tr>\n",
       "    <tr>\n",
       "      <th>1</th>\n",
       "      <td>2</td>\n",
       "      <td>Jumanji (1995)</td>\n",
       "      <td>Adventure|Children's|Fantasy</td>\n",
       "    </tr>\n",
       "    <tr>\n",
       "      <th>2</th>\n",
       "      <td>3</td>\n",
       "      <td>Grumpier Old Men (1995)</td>\n",
       "      <td>Comedy|Romance</td>\n",
       "    </tr>\n",
       "    <tr>\n",
       "      <th>3</th>\n",
       "      <td>4</td>\n",
       "      <td>Waiting to Exhale (1995)</td>\n",
       "      <td>Comedy|Drama</td>\n",
       "    </tr>\n",
       "    <tr>\n",
       "      <th>4</th>\n",
       "      <td>5</td>\n",
       "      <td>Father of the Bride Part II (1995)</td>\n",
       "      <td>Comedy</td>\n",
       "    </tr>\n",
       "  </tbody>\n",
       "</table>\n",
       "</div>"
      ],
      "text/plain": [
       "   item_id                               title                        genres\n",
       "0        1                    Toy Story (1995)   Animation|Children's|Comedy\n",
       "1        2                      Jumanji (1995)  Adventure|Children's|Fantasy\n",
       "2        3             Grumpier Old Men (1995)                Comedy|Romance\n",
       "3        4            Waiting to Exhale (1995)                  Comedy|Drama\n",
       "4        5  Father of the Bride Part II (1995)                        Comedy"
      ]
     },
     "execution_count": 7,
     "metadata": {},
     "output_type": "execute_result"
    }
   ],
   "source": [
    "%%time\n",
    "movies = pd.read_csv(\n",
    "    \"ml-1m/movies.dat\",\n",
    "    sep=\"::\",\n",
    "    engine=\"python\",  # Because of 2-chars separators\n",
    "    header=None,\n",
    "    names=[Columns.Item, \"title\", \"genres\"],\n",
    ")\n",
    "print(movies.shape)\n",
    "movies.head()"
   ]
  },
  {
   "cell_type": "code",
   "execution_count": 8,
   "metadata": {},
   "outputs": [
    {
     "name": "stdout",
     "output_type": "stream",
     "text": [
      "(6040, 5)\n",
      "CPU times: user 22.8 ms, sys: 3.26 ms, total: 26 ms\n",
      "Wall time: 25.1 ms\n"
     ]
    },
    {
     "data": {
      "text/html": [
       "<div>\n",
       "<style scoped>\n",
       "    .dataframe tbody tr th:only-of-type {\n",
       "        vertical-align: middle;\n",
       "    }\n",
       "\n",
       "    .dataframe tbody tr th {\n",
       "        vertical-align: top;\n",
       "    }\n",
       "\n",
       "    .dataframe thead th {\n",
       "        text-align: right;\n",
       "    }\n",
       "</style>\n",
       "<table border=\"1\" class=\"dataframe\">\n",
       "  <thead>\n",
       "    <tr style=\"text-align: right;\">\n",
       "      <th></th>\n",
       "      <th>user_id</th>\n",
       "      <th>sex</th>\n",
       "      <th>age</th>\n",
       "      <th>occupation</th>\n",
       "      <th>zip_code</th>\n",
       "    </tr>\n",
       "  </thead>\n",
       "  <tbody>\n",
       "    <tr>\n",
       "      <th>0</th>\n",
       "      <td>1</td>\n",
       "      <td>F</td>\n",
       "      <td>1</td>\n",
       "      <td>10</td>\n",
       "      <td>48067</td>\n",
       "    </tr>\n",
       "    <tr>\n",
       "      <th>1</th>\n",
       "      <td>2</td>\n",
       "      <td>M</td>\n",
       "      <td>56</td>\n",
       "      <td>16</td>\n",
       "      <td>70072</td>\n",
       "    </tr>\n",
       "    <tr>\n",
       "      <th>2</th>\n",
       "      <td>3</td>\n",
       "      <td>M</td>\n",
       "      <td>25</td>\n",
       "      <td>15</td>\n",
       "      <td>55117</td>\n",
       "    </tr>\n",
       "    <tr>\n",
       "      <th>3</th>\n",
       "      <td>4</td>\n",
       "      <td>M</td>\n",
       "      <td>45</td>\n",
       "      <td>7</td>\n",
       "      <td>02460</td>\n",
       "    </tr>\n",
       "    <tr>\n",
       "      <th>4</th>\n",
       "      <td>5</td>\n",
       "      <td>M</td>\n",
       "      <td>25</td>\n",
       "      <td>20</td>\n",
       "      <td>55455</td>\n",
       "    </tr>\n",
       "  </tbody>\n",
       "</table>\n",
       "</div>"
      ],
      "text/plain": [
       "   user_id sex  age  occupation zip_code\n",
       "0        1   F    1          10    48067\n",
       "1        2   M   56          16    70072\n",
       "2        3   M   25          15    55117\n",
       "3        4   M   45           7    02460\n",
       "4        5   M   25          20    55455"
      ]
     },
     "execution_count": 8,
     "metadata": {},
     "output_type": "execute_result"
    }
   ],
   "source": [
    "%%time\n",
    "users = pd.read_csv(\n",
    "    \"ml-1m/users.dat\",\n",
    "    sep=\"::\",\n",
    "    engine=\"python\",  # Because of 2-chars separators\n",
    "    header=None,\n",
    "    names=[Columns.User, \"sex\", \"age\", \"occupation\", \"zip_code\"],\n",
    ")\n",
    "print(users.shape)\n",
    "users.head()"
   ]
  },
  {
   "cell_type": "markdown",
   "metadata": {},
   "source": [
    "## Split by train / test and build model without features"
   ]
  },
  {
   "cell_type": "markdown",
   "metadata": {},
   "source": [
    "For correct model comparison it's better to use cross-valiation, but for simplicity here we are splitting only once"
   ]
  },
  {
   "cell_type": "code",
   "execution_count": 9,
   "metadata": {},
   "outputs": [],
   "source": [
    "split_dt = pd.Timestamp(\"2003-01-01\")\n",
    "df_train = ratings.loc[ratings[\"datetime\"] < split_dt]\n",
    "df_test = ratings.loc[ratings[\"datetime\"] >= split_dt]"
   ]
  },
  {
   "cell_type": "code",
   "execution_count": 10,
   "metadata": {},
   "outputs": [],
   "source": [
    "metrics = {\"MAP\": MAP(10), \"Novelty\": MeanInvUserFreq(10)}"
   ]
  },
  {
   "cell_type": "code",
   "execution_count": 11,
   "metadata": {},
   "outputs": [],
   "source": [
    "dataset = Dataset.construct(df_train)"
   ]
  },
  {
   "cell_type": "code",
   "execution_count": 12,
   "metadata": {},
   "outputs": [],
   "source": [
    "def make_base_model():\n",
    "    # Need to create new base model every time to use same random initializations\n",
    "    return AlternatingLeastSquares(factors=32, random_state=42, num_threads=4)"
   ]
  },
  {
   "cell_type": "code",
   "execution_count": 13,
   "metadata": {
    "scrolled": true
   },
   "outputs": [
    {
     "name": "stdout",
     "output_type": "stream",
     "text": [
      "CPU times: user 29.1 s, sys: 12.6 s, total: 41.7 s\n",
      "Wall time: 7.66 s\n"
     ]
    },
    {
     "data": {
      "text/plain": [
       "{'MAP': 0.017172445629322065, 'Novelty': 2.5387145697434614}"
      ]
     },
     "execution_count": 13,
     "metadata": {},
     "output_type": "execute_result"
    }
   ],
   "source": [
    "%%time\n",
    "model = ImplicitALSWrapperModel(make_base_model())\n",
    "model.fit(dataset)\n",
    "recos = model.recommend(\n",
    "    users=df_test[Columns.User].unique(),\n",
    "    dataset=dataset,\n",
    "    k=10,\n",
    "    filter_viewed=True,\n",
    ")\n",
    "calc_metrics(metrics, recos, df_test, df_train)"
   ]
  },
  {
   "cell_type": "markdown",
   "metadata": {},
   "source": [
    "## Prepare features"
   ]
  },
  {
   "cell_type": "markdown",
   "metadata": {},
   "source": [
    "There are 2 kind of features: categorical that are represented as sparse and numerical that are represented as dense.\n",
    "\n",
    "Sparse is much more popular, even if you have dense features it's often better to binarize them.\n",
    "\n",
    "Here we have mostly categorical features, only 2 numerical:\n",
    "- user age, but it's binarized already;\n",
    "- movie year, we'll binarize it now.\n",
    "\n",
    "We represent user and item features as flatten dataframes."
   ]
  },
  {
   "cell_type": "markdown",
   "metadata": {},
   "source": [
    "### User features"
   ]
  },
  {
   "cell_type": "code",
   "execution_count": 14,
   "metadata": {},
   "outputs": [
    {
     "data": {
      "text/plain": [
       "user_id       0\n",
       "sex           0\n",
       "age           0\n",
       "occupation    0\n",
       "zip_code      0\n",
       "dtype: int64"
      ]
     },
     "execution_count": 14,
     "metadata": {},
     "output_type": "execute_result"
    }
   ],
   "source": [
    "users.isna().sum()"
   ]
  },
  {
   "cell_type": "code",
   "execution_count": 15,
   "metadata": {},
   "outputs": [
    {
     "data": {
      "text/plain": [
       "user_id       6040\n",
       "sex              2\n",
       "age              7\n",
       "occupation      21\n",
       "zip_code      3439\n",
       "dtype: int64"
      ]
     },
     "execution_count": 15,
     "metadata": {},
     "output_type": "execute_result"
    }
   ],
   "source": [
    "users.nunique()"
   ]
  },
  {
   "cell_type": "code",
   "execution_count": 16,
   "metadata": {},
   "outputs": [],
   "source": [
    "# Select only users that present in 'ratings' table\n",
    "users = users.loc[users[\"user_id\"].isin(ratings[\"user_id\"])].copy()"
   ]
  },
  {
   "cell_type": "markdown",
   "metadata": {},
   "source": [
    "There are too many zip codes, we will not use them now because methods of using features that are available for now work badly with big number of features"
   ]
  },
  {
   "cell_type": "code",
   "execution_count": 17,
   "metadata": {},
   "outputs": [
    {
     "data": {
      "text/html": [
       "<div>\n",
       "<style scoped>\n",
       "    .dataframe tbody tr th:only-of-type {\n",
       "        vertical-align: middle;\n",
       "    }\n",
       "\n",
       "    .dataframe tbody tr th {\n",
       "        vertical-align: top;\n",
       "    }\n",
       "\n",
       "    .dataframe thead th {\n",
       "        text-align: right;\n",
       "    }\n",
       "</style>\n",
       "<table border=\"1\" class=\"dataframe\">\n",
       "  <thead>\n",
       "    <tr style=\"text-align: right;\">\n",
       "      <th></th>\n",
       "      <th>id</th>\n",
       "      <th>value</th>\n",
       "      <th>feature</th>\n",
       "    </tr>\n",
       "  </thead>\n",
       "  <tbody>\n",
       "    <tr>\n",
       "      <th>0</th>\n",
       "      <td>1</td>\n",
       "      <td>F</td>\n",
       "      <td>sex</td>\n",
       "    </tr>\n",
       "    <tr>\n",
       "      <th>1</th>\n",
       "      <td>2</td>\n",
       "      <td>M</td>\n",
       "      <td>sex</td>\n",
       "    </tr>\n",
       "    <tr>\n",
       "      <th>2</th>\n",
       "      <td>3</td>\n",
       "      <td>M</td>\n",
       "      <td>sex</td>\n",
       "    </tr>\n",
       "    <tr>\n",
       "      <th>3</th>\n",
       "      <td>4</td>\n",
       "      <td>M</td>\n",
       "      <td>sex</td>\n",
       "    </tr>\n",
       "    <tr>\n",
       "      <th>4</th>\n",
       "      <td>5</td>\n",
       "      <td>M</td>\n",
       "      <td>sex</td>\n",
       "    </tr>\n",
       "  </tbody>\n",
       "</table>\n",
       "</div>"
      ],
      "text/plain": [
       "   id value feature\n",
       "0   1     F     sex\n",
       "1   2     M     sex\n",
       "2   3     M     sex\n",
       "3   4     M     sex\n",
       "4   5     M     sex"
      ]
     },
     "execution_count": 17,
     "metadata": {},
     "output_type": "execute_result"
    }
   ],
   "source": [
    "# For 3 features generate common flatten table with its values\n",
    "# Here all features have 1 value per user\n",
    "# But there can be more than 1 value of feature per user (item) if feature is categorical\n",
    "user_features_frames = []\n",
    "for feature in [\"sex\", \"age\", \"occupation\"]:\n",
    "    feature_frame = users.reindex(columns=[\"user_id\", feature])\n",
    "    feature_frame.columns = [\"id\", \"value\"]\n",
    "    feature_frame[\"feature\"] = feature\n",
    "    user_features_frames.append(feature_frame)\n",
    "user_features = pd.concat(user_features_frames)\n",
    "user_features.head()"
   ]
  },
  {
   "cell_type": "markdown",
   "metadata": {},
   "source": [
    "### Item features"
   ]
  },
  {
   "cell_type": "markdown",
   "metadata": {},
   "source": [
    "Here we will use movie genre and year"
   ]
  },
  {
   "cell_type": "code",
   "execution_count": 18,
   "metadata": {},
   "outputs": [
    {
     "data": {
      "text/plain": [
       "item_id    0\n",
       "title      0\n",
       "genres     0\n",
       "dtype: int64"
      ]
     },
     "execution_count": 18,
     "metadata": {},
     "output_type": "execute_result"
    }
   ],
   "source": [
    "movies.isna().sum()"
   ]
  },
  {
   "cell_type": "code",
   "execution_count": 19,
   "metadata": {},
   "outputs": [],
   "source": [
    "# Select only items that present in 'ratings' table\n",
    "movies = movies.loc[movies[\"item_id\"].isin(ratings[\"item_id\"])].copy()"
   ]
  },
  {
   "cell_type": "markdown",
   "metadata": {},
   "source": [
    "#### Genre"
   ]
  },
  {
   "cell_type": "code",
   "execution_count": 20,
   "metadata": {},
   "outputs": [
    {
     "data": {
      "text/html": [
       "<div>\n",
       "<style scoped>\n",
       "    .dataframe tbody tr th:only-of-type {\n",
       "        vertical-align: middle;\n",
       "    }\n",
       "\n",
       "    .dataframe tbody tr th {\n",
       "        vertical-align: top;\n",
       "    }\n",
       "\n",
       "    .dataframe thead th {\n",
       "        text-align: right;\n",
       "    }\n",
       "</style>\n",
       "<table border=\"1\" class=\"dataframe\">\n",
       "  <thead>\n",
       "    <tr style=\"text-align: right;\">\n",
       "      <th></th>\n",
       "      <th>id</th>\n",
       "      <th>value</th>\n",
       "      <th>feature</th>\n",
       "    </tr>\n",
       "  </thead>\n",
       "  <tbody>\n",
       "    <tr>\n",
       "      <th>0</th>\n",
       "      <td>1</td>\n",
       "      <td>Animation</td>\n",
       "      <td>genre</td>\n",
       "    </tr>\n",
       "    <tr>\n",
       "      <th>0</th>\n",
       "      <td>1</td>\n",
       "      <td>Children's</td>\n",
       "      <td>genre</td>\n",
       "    </tr>\n",
       "    <tr>\n",
       "      <th>0</th>\n",
       "      <td>1</td>\n",
       "      <td>Comedy</td>\n",
       "      <td>genre</td>\n",
       "    </tr>\n",
       "    <tr>\n",
       "      <th>1</th>\n",
       "      <td>2</td>\n",
       "      <td>Adventure</td>\n",
       "      <td>genre</td>\n",
       "    </tr>\n",
       "    <tr>\n",
       "      <th>1</th>\n",
       "      <td>2</td>\n",
       "      <td>Children's</td>\n",
       "      <td>genre</td>\n",
       "    </tr>\n",
       "  </tbody>\n",
       "</table>\n",
       "</div>"
      ],
      "text/plain": [
       "   id       value feature\n",
       "0   1   Animation   genre\n",
       "0   1  Children's   genre\n",
       "0   1      Comedy   genre\n",
       "1   2   Adventure   genre\n",
       "1   2  Children's   genre"
      ]
     },
     "execution_count": 20,
     "metadata": {},
     "output_type": "execute_result"
    }
   ],
   "source": [
    "# Explode genres to flatten table\n",
    "movies[\"genre\"] = movies[\"genres\"].str.split(\"|\")\n",
    "genre_feature = movies[[\"item_id\", \"genre\"]].explode(\"genre\")\n",
    "genre_feature.columns = [\"id\", \"value\"]\n",
    "genre_feature[\"feature\"] = \"genre\"\n",
    "genre_feature.head()"
   ]
  },
  {
   "cell_type": "markdown",
   "metadata": {},
   "source": [
    "#### Year"
   ]
  },
  {
   "cell_type": "code",
   "execution_count": 21,
   "metadata": {},
   "outputs": [
    {
     "name": "stdout",
     "output_type": "stream",
     "text": [
      "[1919. 1959. 1977. 1986. 1991. 1994. 1995. 1996. 1997. 1999.]\n"
     ]
    }
   ],
   "source": [
    "# Binarize year to 10 bins and use it as categorica feature\n",
    "movies[\"year\"] = movies[\"title\"].str.extract(r\"\\((\\d{4})\\)\").astype(int)\n",
    "_, bins = pd.qcut(movies[\"year\"], 10, retbins=True)\n",
    "labels = bins[:-1]\n",
    "print(labels)"
   ]
  },
  {
   "cell_type": "code",
   "execution_count": 22,
   "metadata": {},
   "outputs": [
    {
     "data": {
      "text/html": [
       "<div>\n",
       "<style scoped>\n",
       "    .dataframe tbody tr th:only-of-type {\n",
       "        vertical-align: middle;\n",
       "    }\n",
       "\n",
       "    .dataframe tbody tr th {\n",
       "        vertical-align: top;\n",
       "    }\n",
       "\n",
       "    .dataframe thead th {\n",
       "        text-align: right;\n",
       "    }\n",
       "</style>\n",
       "<table border=\"1\" class=\"dataframe\">\n",
       "  <thead>\n",
       "    <tr style=\"text-align: right;\">\n",
       "      <th></th>\n",
       "      <th>id</th>\n",
       "      <th>value</th>\n",
       "      <th>feature</th>\n",
       "    </tr>\n",
       "  </thead>\n",
       "  <tbody>\n",
       "    <tr>\n",
       "      <th>0</th>\n",
       "      <td>1</td>\n",
       "      <td>1994.0</td>\n",
       "      <td>year</td>\n",
       "    </tr>\n",
       "    <tr>\n",
       "      <th>1</th>\n",
       "      <td>2</td>\n",
       "      <td>1994.0</td>\n",
       "      <td>year</td>\n",
       "    </tr>\n",
       "    <tr>\n",
       "      <th>2</th>\n",
       "      <td>3</td>\n",
       "      <td>1994.0</td>\n",
       "      <td>year</td>\n",
       "    </tr>\n",
       "    <tr>\n",
       "      <th>3</th>\n",
       "      <td>4</td>\n",
       "      <td>1994.0</td>\n",
       "      <td>year</td>\n",
       "    </tr>\n",
       "    <tr>\n",
       "      <th>4</th>\n",
       "      <td>5</td>\n",
       "      <td>1994.0</td>\n",
       "      <td>year</td>\n",
       "    </tr>\n",
       "  </tbody>\n",
       "</table>\n",
       "</div>"
      ],
      "text/plain": [
       "   id   value feature\n",
       "0   1  1994.0    year\n",
       "1   2  1994.0    year\n",
       "2   3  1994.0    year\n",
       "3   4  1994.0    year\n",
       "4   5  1994.0    year"
      ]
     },
     "execution_count": 22,
     "metadata": {},
     "output_type": "execute_result"
    }
   ],
   "source": [
    "year_feature = pd.DataFrame(\n",
    "    {\n",
    "        \"id\": movies[\"item_id\"],\n",
    "        \"value\": pd.cut(movies[\"year\"], bins=bins, labels=labels),\n",
    "        \"feature\": \"year\",\n",
    "    }\n",
    ")\n",
    "year_feature.head()"
   ]
  },
  {
   "cell_type": "markdown",
   "metadata": {},
   "source": [
    "#### Combine"
   ]
  },
  {
   "cell_type": "code",
   "execution_count": 23,
   "metadata": {},
   "outputs": [],
   "source": [
    "item_features = pd.concat((genre_feature, year_feature))"
   ]
  },
  {
   "cell_type": "markdown",
   "metadata": {},
   "source": [
    "## Build model with features"
   ]
  },
  {
   "cell_type": "markdown",
   "metadata": {},
   "source": [
    "There are 2 ways to use features in ALS that implemented in RecTools: 'separately' and 'together'.\n",
    "\n",
    "Both methods work with dense features. But we prepared data for sparse features because it's more convenient here.\n",
    "In model sparse matrix will be converted to dense. Be carefull with big datasets, limit the number of features.\n",
    "\n",
    "**Note:** Training model with features is available for CPU and GPU (as well as training native ALS without features). It is managed by `use_gpu` parameter in `implicit.als.AlternatingLeastSquares`."
   ]
  },
  {
   "cell_type": "markdown",
   "metadata": {},
   "source": [
    "### Attempt to use all features"
   ]
  },
  {
   "cell_type": "code",
   "execution_count": 24,
   "metadata": {},
   "outputs": [
    {
     "name": "stderr",
     "output_type": "stream",
     "text": [
      "/Users/eofeldman/opt/anaconda3/lib/python3.8/site-packages/rectools/dataset/features.py:384: UserWarning: Converting sparse features to dense array may cause MemoryError\n",
      "  warnings.warn(\"Converting sparse features to dense array may cause MemoryError\")\n"
     ]
    },
    {
     "name": "stdout",
     "output_type": "stream",
     "text": [
      "Fit features together: True.  Metrics: {'MAP': 0.01388652631210521, 'Novelty': 2.5681515162134265}\n",
      "Fit features together: False.  Metrics: {'MAP': 0.01998701037744824, 'Novelty': 2.2928462029811394}\n",
      "CPU times: user 1min 54s, sys: 42.5 s, total: 2min 36s\n",
      "Wall time: 27.5 s\n"
     ]
    }
   ],
   "source": [
    "%%time\n",
    "dataset = Dataset.construct(\n",
    "    interactions_df=df_train,\n",
    "    user_features_df=user_features,\n",
    "    cat_user_features=[\"sex\", \"age\", \"occupation\"],\n",
    "    item_features_df=item_features,\n",
    "    cat_item_features=[\"year\", \"genre\"],  # If we didn't binarize year, we wouldn't set it here\n",
    ")\n",
    "\n",
    "for fit_features_together in (True, False):\n",
    "    model = ImplicitALSWrapperModel(make_base_model(), fit_features_together=fit_features_together)\n",
    "    model.fit(dataset)\n",
    "    recos = model.recommend(\n",
    "        users=df_test[Columns.User].unique(),\n",
    "        dataset=dataset,\n",
    "        k=10,\n",
    "        filter_viewed=True,\n",
    "    )\n",
    "    metric_values = calc_metrics(metrics, recos, df_test, df_train)\n",
    "    print(f\"Fit features together: {fit_features_together}.  Metrics: {metric_values}\")"
   ]
  },
  {
   "cell_type": "markdown",
   "metadata": {},
   "source": [
    "Here we can see decreased MAP for joint feature fitting and increased MAP for separate fitting.\n",
    "\n",
    "Let's analyze which features have greater influence."
   ]
  },
  {
   "cell_type": "markdown",
   "metadata": {},
   "source": [
    "**Note:** We get warning because for methods of using features that are implemented for now features must be represented as dense array, so be careful and do not use big number of features."
   ]
  },
  {
   "cell_type": "markdown",
   "metadata": {},
   "source": [
    "### Attempt to use only item features"
   ]
  },
  {
   "cell_type": "code",
   "execution_count": 25,
   "metadata": {},
   "outputs": [
    {
     "name": "stdout",
     "output_type": "stream",
     "text": [
      "Fit features together: True.  Metrics: {'MAP': 0.01520886994621532, 'Novelty': 2.5870053665186767}\n",
      "Fit features together: False.  Metrics: {'MAP': 0.014805021434661019, 'Novelty': 2.8426244093501594}\n",
      "CPU times: user 1min 43s, sys: 34.9 s, total: 2min 18s\n",
      "Wall time: 22.9 s\n"
     ]
    }
   ],
   "source": [
    "%%time\n",
    "dataset = Dataset.construct(\n",
    "    interactions_df=df_train,\n",
    "    item_features_df=item_features,\n",
    "    cat_item_features=[\"year\", \"genre\"],\n",
    ")\n",
    "\n",
    "for fit_features_together in (True, False):\n",
    "    model = ImplicitALSWrapperModel(make_base_model(), fit_features_together=fit_features_together)\n",
    "    model.fit(dataset)\n",
    "    recos = model.recommend(\n",
    "        users=df_test[Columns.User].unique(),\n",
    "        dataset=dataset,\n",
    "        k=10,\n",
    "        filter_viewed=True,\n",
    "    )\n",
    "    metric_values = calc_metrics(metrics, recos, df_test, df_train)\n",
    "    print(f\"Fit features together: {fit_features_together}.  Metrics: {metric_values}\")"
   ]
  },
  {
   "cell_type": "markdown",
   "metadata": {},
   "source": [
    "Here we see decreased MAP values."
   ]
  },
  {
   "cell_type": "markdown",
   "metadata": {},
   "source": [
    "### Attempt to use only user features"
   ]
  },
  {
   "cell_type": "code",
   "execution_count": 26,
   "metadata": {},
   "outputs": [
    {
     "name": "stdout",
     "output_type": "stream",
     "text": [
      "Fit features together: True.  Metrics: {'MAP': 0.013806802876374652, 'Novelty': 2.506039447145849}\n",
      "Fit features together: False.  Metrics: {'MAP': 0.02285698694879273, 'Novelty': 1.9870892804731672}\n",
      "CPU times: user 1min 46s, sys: 40.2 s, total: 2min 27s\n",
      "Wall time: 30.3 s\n"
     ]
    }
   ],
   "source": [
    "%%time\n",
    "dataset = Dataset.construct(\n",
    "    interactions_df=df_train,\n",
    "    user_features_df=user_features,\n",
    "    cat_user_features=[\"sex\", \"age\", \"occupation\"],\n",
    ")\n",
    "\n",
    "for fit_features_together in (True, False):\n",
    "    model = ImplicitALSWrapperModel(make_base_model(), fit_features_together=fit_features_together)\n",
    "    model.fit(dataset)\n",
    "    recos = model.recommend(\n",
    "        users=df_test[Columns.User].unique(),\n",
    "        dataset=dataset,\n",
    "        k=10,\n",
    "        filter_viewed=True,\n",
    "    )\n",
    "    metric_values = calc_metrics(metrics, recos, df_test, df_train)\n",
    "    print(f\"Fit features together: {fit_features_together}.  Metrics: {metric_values}\")"
   ]
  },
  {
   "cell_type": "markdown",
   "metadata": {},
   "source": [
    "Here we see that user features increase MAP a lot if fit separately, but Novelty decreases."
   ]
  },
  {
   "cell_type": "markdown",
   "metadata": {},
   "source": [
    "### Attempt to use only user features with increased features weight"
   ]
  },
  {
   "cell_type": "code",
   "execution_count": 27,
   "metadata": {},
   "outputs": [
    {
     "name": "stderr",
     "output_type": "stream",
     "text": [
      "/Users/eofeldman/opt/anaconda3/lib/python3.8/site-packages/rectools/dataset/features.py:384: UserWarning: Converting sparse features to dense array may cause MemoryError\n",
      "  warnings.warn(\"Converting sparse features to dense array may cause MemoryError\")\n"
     ]
    },
    {
     "name": "stdout",
     "output_type": "stream",
     "text": [
      "Fit features together: True.  Metrics: {'MAP': 0.01676492598017664, 'Novelty': 2.2798496191085693}\n",
      "Fit features together: False.  Metrics: {'MAP': 0.016931541817397328, 'Novelty': 2.069402889295814}\n",
      "CPU times: user 1min 29s, sys: 28 s, total: 1min 57s\n",
      "Wall time: 21.1 s\n"
     ]
    }
   ],
   "source": [
    "%%time\n",
    "dataset = Dataset.construct(\n",
    "    interactions_df=df_train.eval(\"weight = weight / 10\"),  # decrease interactions weight => increase features weight\n",
    "    user_features_df=user_features,\n",
    "    cat_user_features=[\"sex\", \"age\", \"occupation\"],\n",
    ")\n",
    "for fit_features_together in (True, False):\n",
    "    model = ImplicitALSWrapperModel(make_base_model(), fit_features_together=fit_features_together)\n",
    "    model.fit(dataset)\n",
    "    recos = model.recommend(\n",
    "        users=df_test[Columns.User].unique(),\n",
    "        dataset=dataset,\n",
    "        k=10,\n",
    "        filter_viewed=True,\n",
    "    )\n",
    "    metric_values = calc_metrics(metrics, recos, df_test, df_train)\n",
    "    print(f\"Fit features together: {fit_features_together}.  Metrics: {metric_values}\")"
   ]
  },
  {
   "cell_type": "markdown",
   "metadata": {},
   "source": [
    "If we use much bigger weight for features compared to weight of interactions, values of metrics become more similar."
   ]
  },
  {
   "cell_type": "markdown",
   "metadata": {},
   "source": [
    "## Advanced features usage"
   ]
  },
  {
   "cell_type": "code",
   "execution_count": 28,
   "metadata": {},
   "outputs": [
    {
     "data": {
      "text/plain": [
       "u1    0\n",
       "u2    1\n",
       "u3    2\n",
       "dtype: int64"
      ]
     },
     "metadata": {},
     "output_type": "display_data"
    },
    {
     "data": {
      "text/plain": [
       "0    u1\n",
       "1    u2\n",
       "2    u3\n",
       "dtype: object"
      ]
     },
     "metadata": {},
     "output_type": "display_data"
    }
   ],
   "source": [
    "# Prepare explicit_id <-> implicit_id mapping\n",
    "id_map = IdMap.from_values([\"u1\", \"u2\", \"u3\"])\n",
    "display(id_map.to_internal)\n",
    "display(id_map.to_external)"
   ]
  },
  {
   "cell_type": "markdown",
   "metadata": {},
   "source": [
    "### Sparse features"
   ]
  },
  {
   "cell_type": "markdown",
   "metadata": {},
   "source": [
    "When using `Dataset.construct` with features, we call `SparseFeatures.from_flatten`.\n",
    "\n",
    "All features are converted to CSR matrix."
   ]
  },
  {
   "cell_type": "code",
   "execution_count": 29,
   "metadata": {},
   "outputs": [],
   "source": [
    "features_df = pd.DataFrame(\n",
    "    [\n",
    "        [\"u1\", \"feature_1\", \"x\"],\n",
    "        [\"u1\", \"feature_1\", \"y\"],\n",
    "        [\"u1\", \"feature_2\", 123],\n",
    "        [\"u2\", \"feature_2\", 123],\n",
    "        [\"u3\", \"feature_2\", 150],\n",
    "        [\"u3\", \"feature_1\", \"x\"],\n",
    "    ],\n",
    "    columns=[\"id\", \"feature\", \"value\"],\n",
    ")"
   ]
  },
  {
   "cell_type": "code",
   "execution_count": 30,
   "metadata": {},
   "outputs": [
    {
     "name": "stdout",
     "output_type": "stream",
     "text": [
      "(('feature_1', 'x'), ('feature_1', 'y'), ('feature_2', 123), ('feature_2', 150))\n"
     ]
    },
    {
     "data": {
      "text/plain": [
       "array([[1., 1., 1., 0.],\n",
       "       [0., 0., 1., 0.],\n",
       "       [1., 0., 0., 1.]], dtype=float32)"
      ]
     },
     "execution_count": 30,
     "metadata": {},
     "output_type": "execute_result"
    }
   ],
   "source": [
    "# Categorical features are converted to one-hot encoded format\n",
    "sf = SparseFeatures.from_flatten(features_df, id_map, cat_features=[\"feature_1\", \"feature_2\"])\n",
    "print(sf.names)\n",
    "sf.values.toarray()"
   ]
  },
  {
   "cell_type": "code",
   "execution_count": 31,
   "metadata": {},
   "outputs": [
    {
     "name": "stdout",
     "output_type": "stream",
     "text": [
      "(('feature_2', '__is_direct_feature'), ('feature_1', 'x'), ('feature_1', 'y'))\n"
     ]
    },
    {
     "data": {
      "text/plain": [
       "array([[123.,   1.,   1.],\n",
       "       [123.,   0.,   0.],\n",
       "       [150.,   1.,   0.]], dtype=float32)"
      ]
     },
     "execution_count": 31,
     "metadata": {},
     "output_type": "execute_result"
    }
   ],
   "source": [
    "# Non-categorical features remain 'as is'\n",
    "sf = SparseFeatures.from_flatten(features_df, id_map, cat_features=[\"feature_1\"])\n",
    "print(sf.names)\n",
    "sf.values.toarray()"
   ]
  },
  {
   "cell_type": "markdown",
   "metadata": {},
   "source": [
    "**Important:** All non-numeric features must be categorical"
   ]
  },
  {
   "cell_type": "code",
   "execution_count": 32,
   "metadata": {},
   "outputs": [
    {
     "name": "stdout",
     "output_type": "stream",
     "text": [
      "(('feature_2', '__is_direct_feature'), ('feature_1', 'x'), ('feature_1', 'y'))\n"
     ]
    },
    {
     "data": {
      "text/plain": [
       "array([[246.,   2.,   2.],\n",
       "       [123.,   0.,   0.],\n",
       "       [150.,   1.,   0.]], dtype=float32)"
      ]
     },
     "execution_count": 32,
     "metadata": {},
     "output_type": "execute_result"
    }
   ],
   "source": [
    "# If you want to increase feature weight you can use 'weight' column\n",
    "features_weighted_df = features_df.copy()\n",
    "features_weighted_df[\"weight\"] = 1\n",
    "features_weighted_df.loc[[0, 1, 2], \"weight\"] = 2\n",
    "sf = SparseFeatures.from_flatten(features_weighted_df, id_map, cat_features=[\"feature_1\"])\n",
    "print(sf.names)\n",
    "sf.values.toarray()"
   ]
  },
  {
   "cell_type": "markdown",
   "metadata": {},
   "source": [
    "### Dense features"
   ]
  },
  {
   "cell_type": "markdown",
   "metadata": {},
   "source": [
    "If you have features in 'classic' format, you can use `DenseFeatures`.\n",
    "\n",
    "When creating dataset with `Dataset.construct` use parameter `make_dense_user_features` (`make_dense_item_features`), in this case `DenseFeatures.from_dataframe` will be used.\n",
    "\n",
    "All features are saved 'as is'.\n",
    "\n",
    "**Important:** Use only numeric features.\n",
    "\n",
    "**Important:** You must set features for all objects (users or features). If you do not have some feature for some user (item) then use any method (zero, mean value, etc.) to fill it."
   ]
  },
  {
   "cell_type": "code",
   "execution_count": 33,
   "metadata": {},
   "outputs": [],
   "source": [
    "features_df = pd.DataFrame(\n",
    "    [\n",
    "        [\"u1\", 10, 0.5, 22],\n",
    "        [\"u2\", 202, 0, 2.5],\n",
    "        [\"u3\", 0.01, 1, 10],\n",
    "    ],\n",
    "    columns=[\"id\", \"feature_1\", \"feature_2\", \"feature_3\"],\n",
    ")"
   ]
  },
  {
   "cell_type": "code",
   "execution_count": 34,
   "metadata": {},
   "outputs": [
    {
     "name": "stdout",
     "output_type": "stream",
     "text": [
      "('feature_1', 'feature_2', 'feature_3')\n"
     ]
    },
    {
     "data": {
      "text/plain": [
       "array([[1.00e+01, 5.00e-01, 2.20e+01],\n",
       "       [2.02e+02, 0.00e+00, 2.50e+00],\n",
       "       [1.00e-02, 1.00e+00, 1.00e+01]], dtype=float32)"
      ]
     },
     "execution_count": 34,
     "metadata": {},
     "output_type": "execute_result"
    }
   ],
   "source": [
    "dense_features = DenseFeatures.from_dataframe(features_df, id_map)\n",
    "print(dense_features.names)\n",
    "dense_features.values"
   ]
  },
  {
   "cell_type": "markdown",
   "metadata": {},
   "source": [
    "### Building dataset with manually created features"
   ]
  },
  {
   "cell_type": "markdown",
   "metadata": {},
   "source": [
    "If you want, you can create features manually and then build dataset with it"
   ]
  },
  {
   "cell_type": "code",
   "execution_count": 35,
   "metadata": {},
   "outputs": [
    {
     "data": {
      "text/plain": [
       "u1    0\n",
       "u2    1\n",
       "u3    2\n",
       "dtype: int64"
      ]
     },
     "metadata": {},
     "output_type": "display_data"
    },
    {
     "data": {
      "text/plain": [
       "i1    0\n",
       "i2    1\n",
       "dtype: int64"
      ]
     },
     "metadata": {},
     "output_type": "display_data"
    }
   ],
   "source": [
    "# Prepare id maps\n",
    "user_id_map = IdMap.from_values([\"u1\", \"u2\", \"u3\"])\n",
    "item_id_map = IdMap.from_values([\"i1\", \"i2\"])\n",
    "display(user_id_map.to_internal)\n",
    "display(item_id_map.to_internal)"
   ]
  },
  {
   "cell_type": "code",
   "execution_count": 36,
   "metadata": {},
   "outputs": [
    {
     "data": {
      "text/html": [
       "<div>\n",
       "<style scoped>\n",
       "    .dataframe tbody tr th:only-of-type {\n",
       "        vertical-align: middle;\n",
       "    }\n",
       "\n",
       "    .dataframe tbody tr th {\n",
       "        vertical-align: top;\n",
       "    }\n",
       "\n",
       "    .dataframe thead th {\n",
       "        text-align: right;\n",
       "    }\n",
       "</style>\n",
       "<table border=\"1\" class=\"dataframe\">\n",
       "  <thead>\n",
       "    <tr style=\"text-align: right;\">\n",
       "      <th></th>\n",
       "      <th>user_id</th>\n",
       "      <th>item_id</th>\n",
       "      <th>weight</th>\n",
       "      <th>datetime</th>\n",
       "    </tr>\n",
       "  </thead>\n",
       "  <tbody>\n",
       "    <tr>\n",
       "      <th>0</th>\n",
       "      <td>0</td>\n",
       "      <td>0</td>\n",
       "      <td>1.0</td>\n",
       "      <td>1970-01-01 00:00:00.000000001</td>\n",
       "    </tr>\n",
       "    <tr>\n",
       "      <th>1</th>\n",
       "      <td>0</td>\n",
       "      <td>1</td>\n",
       "      <td>1.0</td>\n",
       "      <td>1970-01-01 00:00:00.000000001</td>\n",
       "    </tr>\n",
       "    <tr>\n",
       "      <th>2</th>\n",
       "      <td>1</td>\n",
       "      <td>0</td>\n",
       "      <td>1.0</td>\n",
       "      <td>1970-01-01 00:00:00.000000001</td>\n",
       "    </tr>\n",
       "  </tbody>\n",
       "</table>\n",
       "</div>"
      ],
      "text/plain": [
       "   user_id  item_id  weight                      datetime\n",
       "0        0        0     1.0 1970-01-01 00:00:00.000000001\n",
       "1        0        1     1.0 1970-01-01 00:00:00.000000001\n",
       "2        1        0     1.0 1970-01-01 00:00:00.000000001"
      ]
     },
     "execution_count": 36,
     "metadata": {},
     "output_type": "execute_result"
    }
   ],
   "source": [
    "# Prepare interactions\n",
    "interactions_df = pd.DataFrame(\n",
    "    {\n",
    "        Columns.User: [\"u1\", \"u1\", \"u2\"],\n",
    "        Columns.Item: [\"i1\", \"i2\", \"i1\"],\n",
    "        Columns.Weight: 1,\n",
    "        Columns.Datetime: 1,\n",
    "    }\n",
    ")\n",
    "interactions = Interactions.from_raw(interactions_df, user_id_map, item_id_map)\n",
    "interactions.df"
   ]
  },
  {
   "cell_type": "code",
   "execution_count": 37,
   "metadata": {},
   "outputs": [
    {
     "data": {
      "text/plain": [
       "array([[123.,   1.,   1.],\n",
       "       [123.,   0.,   0.],\n",
       "       [150.,   1.,   0.]], dtype=float32)"
      ]
     },
     "execution_count": 37,
     "metadata": {},
     "output_type": "execute_result"
    }
   ],
   "source": [
    "# Prepare user features\n",
    "user_features_df = pd.DataFrame(\n",
    "    [\n",
    "        [\"u1\", \"feature_1\", \"x\"],\n",
    "        [\"u1\", \"feature_1\", \"y\"],\n",
    "        [\"u1\", \"feature_2\", 123],\n",
    "        [\"u2\", \"feature_2\", 123],\n",
    "        [\"u3\", \"feature_2\", 150],\n",
    "        [\"u3\", \"feature_1\", \"x\"],\n",
    "    ],\n",
    "    columns=[\"id\", \"feature\", \"value\"],\n",
    ")\n",
    "user_features = SparseFeatures.from_flatten(user_features_df, user_id_map, cat_features=[\"feature_1\"])\n",
    "user_features.values.toarray()"
   ]
  },
  {
   "cell_type": "code",
   "execution_count": 38,
   "metadata": {},
   "outputs": [
    {
     "data": {
      "text/plain": [
       "array([[ 10. ,   0.5,  22. ],\n",
       "       [202. ,   0. ,   2.5]], dtype=float32)"
      ]
     },
     "execution_count": 38,
     "metadata": {},
     "output_type": "execute_result"
    }
   ],
   "source": [
    "# Prepare item features\n",
    "item_features_df = pd.DataFrame(\n",
    "    [\n",
    "        [\"i1\", 10, 0.5, 22],\n",
    "        [\"i2\", 202, 0, 2.5],\n",
    "    ],\n",
    "    columns=[\"id\", \"feature_1\", \"feature_2\", \"feature_3\"],\n",
    ")\n",
    "item_features = DenseFeatures.from_dataframe(item_features_df, item_id_map)\n",
    "item_features.values"
   ]
  },
  {
   "cell_type": "markdown",
   "metadata": {},
   "source": [
    "**Note:** `\"u3\"` not in `interactions_df` but we can add it manually to dataset (and features) using `IdMap`. It's not possible if you use `Dataset.construct`."
   ]
  },
  {
   "cell_type": "code",
   "execution_count": 39,
   "metadata": {},
   "outputs": [
    {
     "data": {
      "text/plain": [
       "Dataset(user_id_map=IdMap(to_internal=u1    0\n",
       "u2    1\n",
       "u3    2\n",
       "dtype: int64), item_id_map=IdMap(to_internal=i1    0\n",
       "i2    1\n",
       "dtype: int64), interactions=Interactions(df=   user_id  item_id  weight                      datetime\n",
       "0        0        0     1.0 1970-01-01 00:00:00.000000001\n",
       "1        0        1     1.0 1970-01-01 00:00:00.000000001\n",
       "2        1        0     1.0 1970-01-01 00:00:00.000000001), user_features=SparseFeatures(values=<3x3 sparse matrix of type '<class 'numpy.float32'>'\n",
       "\twith 6 stored elements in Compressed Sparse Row format>, names=(('feature_2', '__is_direct_feature'), ('feature_1', 'x'), ('feature_1', 'y'))), item_features=DenseFeatures(values=array([[ 10. ,   0.5,  22. ],\n",
       "       [202. ,   0. ,   2.5]], dtype=float32), names=('feature_1', 'feature_2', 'feature_3')))"
      ]
     },
     "execution_count": 39,
     "metadata": {},
     "output_type": "execute_result"
    }
   ],
   "source": [
    "Dataset(\n",
    "    user_id_map=user_id_map,\n",
    "    item_id_map=item_id_map,\n",
    "    interactions=interactions,\n",
    "    user_features=user_features,\n",
    "    item_features=item_features,\n",
    ")"
   ]
  }
 ],
 "metadata": {
  "kernelspec": {
   "display_name": "Python 3",
   "language": "python",
   "name": "python3"
  },
  "language_info": {
   "codemirror_mode": {
    "name": "ipython",
    "version": 3
   },
   "file_extension": ".py",
   "mimetype": "text/x-python",
   "name": "python",
   "nbconvert_exporter": "python",
   "pygments_lexer": "ipython3",
   "version": "3.8.8"
  },
  "toc": {
   "base_numbering": 1,
   "nav_menu": {},
   "number_sections": true,
   "sideBar": true,
   "skip_h1_title": false,
   "title_cell": "Table of Contents",
   "title_sidebar": "Contents",
   "toc_cell": false,
   "toc_position": {},
   "toc_section_display": true,
   "toc_window_display": false
  }
 },
 "nbformat": 4,
 "nbformat_minor": 1
}
