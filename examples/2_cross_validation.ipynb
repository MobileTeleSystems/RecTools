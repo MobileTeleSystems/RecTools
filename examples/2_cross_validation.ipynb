{
 "cells": [
  {
   "attachments": {},
   "cell_type": "markdown",
   "metadata": {},
   "source": [
    "# Example of model selection using cross-validation with RecTools\n",
    "\n",
    "- CV split\n",
    "- Training a variety of models\n",
    "- Measuring a variety of metrics"
   ]
  },
  {
   "cell_type": "code",
   "execution_count": 17,
   "metadata": {
    "tags": []
   },
   "outputs": [],
   "source": [
    "from pprint import pprint\n",
    "\n",
    "import numpy as np\n",
    "import pandas as pd\n",
    "\n",
    "from tqdm.auto import tqdm\n",
    "\n",
    "from implicit.nearest_neighbours import TFIDFRecommender, BM25Recommender\n",
    "from implicit.als import AlternatingLeastSquares\n",
    "\n",
    "from rectools import Columns\n",
    "from rectools.dataset import Dataset\n",
    "from rectools.metrics import Precision, Recall, MeanInvUserFreq, Serendipity, calc_metrics\n",
    "from rectools.models import ImplicitItemKNNWrapperModel, RandomModel, PopularModel\n",
    "from rectools.model_selection import TimeRangeSplitter, cross_validate\n",
    "from rectools.visuals import MetricsApp"
   ]
  },
  {
   "attachments": {},
   "cell_type": "markdown",
   "metadata": {},
   "source": [
    "## Load data"
   ]
  },
  {
   "cell_type": "code",
   "execution_count": 2,
   "metadata": {
    "execution": {
     "iopub.execute_input": "2022-12-05T13:55:02.641036Z",
     "iopub.status.busy": "2022-12-05T13:55:02.641036Z",
     "iopub.status.idle": "2022-12-05T13:55:04.735725Z",
     "shell.execute_reply": "2022-12-05T13:55:04.734722Z",
     "shell.execute_reply.started": "2022-12-05T13:55:02.641036Z"
    }
   },
   "outputs": [
    {
     "name": "stdout",
     "output_type": "stream",
     "text": [
      "Archive:  ml-1m.zip\n",
      "  inflating: ml-1m/movies.dat        \n",
      "  inflating: ml-1m/ratings.dat       \n",
      "  inflating: ml-1m/README            \n",
      "  inflating: ml-1m/users.dat         \n",
      "CPU times: user 230 ms, sys: 29.9 ms, total: 260 ms\n",
      "Wall time: 5.84 s\n"
     ]
    }
   ],
   "source": [
    "%%time\n",
    "!wget -q https://files.grouplens.org/datasets/movielens/ml-1m.zip -O ml-1m.zip\n",
    "!unzip -o ml-1m.zip\n",
    "!rm ml-1m.zip"
   ]
  },
  {
   "cell_type": "code",
   "execution_count": 3,
   "metadata": {
    "execution": {
     "iopub.execute_input": "2022-12-05T13:55:04.738725Z",
     "iopub.status.busy": "2022-12-05T13:55:04.737727Z",
     "iopub.status.idle": "2022-12-05T13:55:09.954460Z",
     "shell.execute_reply": "2022-12-05T13:55:09.953459Z",
     "shell.execute_reply.started": "2022-12-05T13:55:04.738725Z"
    }
   },
   "outputs": [
    {
     "name": "stdout",
     "output_type": "stream",
     "text": [
      "(1000209, 4)\n",
      "CPU times: user 7.55 s, sys: 218 ms, total: 7.77 s\n",
      "Wall time: 7.82 s\n"
     ]
    },
    {
     "data": {
      "text/html": [
       "<div>\n",
       "<style scoped>\n",
       "    .dataframe tbody tr th:only-of-type {\n",
       "        vertical-align: middle;\n",
       "    }\n",
       "\n",
       "    .dataframe tbody tr th {\n",
       "        vertical-align: top;\n",
       "    }\n",
       "\n",
       "    .dataframe thead th {\n",
       "        text-align: right;\n",
       "    }\n",
       "</style>\n",
       "<table border=\"1\" class=\"dataframe\">\n",
       "  <thead>\n",
       "    <tr style=\"text-align: right;\">\n",
       "      <th></th>\n",
       "      <th>user_id</th>\n",
       "      <th>item_id</th>\n",
       "      <th>weight</th>\n",
       "      <th>datetime</th>\n",
       "    </tr>\n",
       "  </thead>\n",
       "  <tbody>\n",
       "    <tr>\n",
       "      <th>0</th>\n",
       "      <td>1</td>\n",
       "      <td>1193</td>\n",
       "      <td>5</td>\n",
       "      <td>978300760</td>\n",
       "    </tr>\n",
       "    <tr>\n",
       "      <th>1</th>\n",
       "      <td>1</td>\n",
       "      <td>661</td>\n",
       "      <td>3</td>\n",
       "      <td>978302109</td>\n",
       "    </tr>\n",
       "    <tr>\n",
       "      <th>2</th>\n",
       "      <td>1</td>\n",
       "      <td>914</td>\n",
       "      <td>3</td>\n",
       "      <td>978301968</td>\n",
       "    </tr>\n",
       "    <tr>\n",
       "      <th>3</th>\n",
       "      <td>1</td>\n",
       "      <td>3408</td>\n",
       "      <td>4</td>\n",
       "      <td>978300275</td>\n",
       "    </tr>\n",
       "    <tr>\n",
       "      <th>4</th>\n",
       "      <td>1</td>\n",
       "      <td>2355</td>\n",
       "      <td>5</td>\n",
       "      <td>978824291</td>\n",
       "    </tr>\n",
       "  </tbody>\n",
       "</table>\n",
       "</div>"
      ],
      "text/plain": [
       "   user_id  item_id  weight   datetime\n",
       "0        1     1193       5  978300760\n",
       "1        1      661       3  978302109\n",
       "2        1      914       3  978301968\n",
       "3        1     3408       4  978300275\n",
       "4        1     2355       5  978824291"
      ]
     },
     "execution_count": 3,
     "metadata": {},
     "output_type": "execute_result"
    }
   ],
   "source": [
    "%%time\n",
    "ratings = pd.read_csv(\n",
    "    \"ml-1m/ratings.dat\",\n",
    "    sep=\"::\",\n",
    "    engine=\"python\",  # Because of 2-chars separators\n",
    "    header=None,\n",
    "    names=[Columns.User, Columns.Item, Columns.Weight, Columns.Datetime],\n",
    ")\n",
    "print(ratings.shape)\n",
    "ratings.head()"
   ]
  },
  {
   "cell_type": "code",
   "execution_count": 4,
   "metadata": {
    "execution": {
     "iopub.execute_input": "2022-12-05T13:55:09.955463Z",
     "iopub.status.busy": "2022-12-05T13:55:09.954460Z",
     "iopub.status.idle": "2022-12-05T13:55:09.985460Z",
     "shell.execute_reply": "2022-12-05T13:55:09.984462Z",
     "shell.execute_reply.started": "2022-12-05T13:55:09.955463Z"
    }
   },
   "outputs": [
    {
     "data": {
      "text/plain": [
       "(6040, 3706)"
      ]
     },
     "execution_count": 4,
     "metadata": {},
     "output_type": "execute_result"
    }
   ],
   "source": [
    "ratings[\"user_id\"].nunique(), ratings[\"item_id\"].nunique()"
   ]
  },
  {
   "cell_type": "code",
   "execution_count": 5,
   "metadata": {
    "execution": {
     "iopub.execute_input": "2022-12-05T13:55:09.987463Z",
     "iopub.status.busy": "2022-12-05T13:55:09.986461Z",
     "iopub.status.idle": "2022-12-05T13:55:10.000460Z",
     "shell.execute_reply": "2022-12-05T13:55:10.000460Z",
     "shell.execute_reply.started": "2022-12-05T13:55:09.987463Z"
    }
   },
   "outputs": [
    {
     "data": {
      "text/plain": [
       "weight\n",
       "4    348971\n",
       "3    261197\n",
       "5    226310\n",
       "2    107557\n",
       "1     56174\n",
       "Name: count, dtype: int64"
      ]
     },
     "execution_count": 5,
     "metadata": {},
     "output_type": "execute_result"
    }
   ],
   "source": [
    "ratings[\"weight\"].value_counts()"
   ]
  },
  {
   "cell_type": "code",
   "execution_count": 6,
   "metadata": {
    "execution": {
     "iopub.execute_input": "2022-12-05T13:55:10.002461Z",
     "iopub.status.busy": "2022-12-05T13:55:10.001460Z",
     "iopub.status.idle": "2022-12-05T13:55:10.175459Z",
     "shell.execute_reply": "2022-12-05T13:55:10.174460Z",
     "shell.execute_reply.started": "2022-12-05T13:55:10.002461Z"
    }
   },
   "outputs": [
    {
     "name": "stdout",
     "output_type": "stream",
     "text": [
      "Time period\n"
     ]
    },
    {
     "data": {
      "text/plain": [
       "(Timestamp('2000-04-25 23:05:32'), Timestamp('2003-02-28 17:49:50'))"
      ]
     },
     "execution_count": 6,
     "metadata": {},
     "output_type": "execute_result"
    }
   ],
   "source": [
    "ratings[\"datetime\"] = pd.to_datetime(ratings[\"datetime\"] * 10 ** 9)\n",
    "print(\"Time period\")\n",
    "ratings[\"datetime\"].min(), ratings[\"datetime\"].max()"
   ]
  },
  {
   "attachments": {},
   "cell_type": "markdown",
   "metadata": {},
   "source": [
    "Create `Dataset` class. It's a wrapper for interactions. User and item features can also be added (see next examples for details)."
   ]
  },
  {
   "cell_type": "code",
   "execution_count": 7,
   "metadata": {
    "execution": {
     "iopub.execute_input": "2022-12-05T13:55:10.176459Z",
     "iopub.status.busy": "2022-12-05T13:55:10.176459Z",
     "iopub.status.idle": "2022-12-05T13:55:10.207463Z",
     "shell.execute_reply": "2022-12-05T13:55:10.206460Z",
     "shell.execute_reply.started": "2022-12-05T13:55:10.176459Z"
    }
   },
   "outputs": [
    {
     "name": "stdout",
     "output_type": "stream",
     "text": [
      "CPU times: user 89.9 ms, sys: 12.4 ms, total: 102 ms\n",
      "Wall time: 225 ms\n"
     ]
    }
   ],
   "source": [
    "%%time\n",
    "dataset = Dataset.construct(ratings)"
   ]
  },
  {
   "attachments": {},
   "cell_type": "markdown",
   "metadata": {},
   "source": [
    "## Prepare cross-validation splitter"
   ]
  },
  {
   "attachments": {},
   "cell_type": "markdown",
   "metadata": {},
   "source": [
    "We'll use last 3 periods of 2 weeks to validate our models."
   ]
  },
  {
   "cell_type": "code",
   "execution_count": 8,
   "metadata": {},
   "outputs": [],
   "source": [
    "n_splits = 3\n",
    "\n",
    "splitter = TimeRangeSplitter(\n",
    "    test_size=\"14D\",\n",
    "    n_splits=n_splits,\n",
    "    filter_already_seen=True,\n",
    "    filter_cold_items=True,\n",
    "    filter_cold_users=True,\n",
    ")"
   ]
  },
  {
   "cell_type": "code",
   "execution_count": 9,
   "metadata": {},
   "outputs": [
    {
     "data": {
      "text/plain": [
       "[(Timestamp('2003-01-18 00:00:00'), Timestamp('2003-02-01 00:00:00')),\n",
       " (Timestamp('2003-02-01 00:00:00'), Timestamp('2003-02-15 00:00:00')),\n",
       " (Timestamp('2003-02-15 00:00:00'), Timestamp('2003-03-01 00:00:00'))]"
      ]
     },
     "execution_count": 9,
     "metadata": {},
     "output_type": "execute_result"
    }
   ],
   "source": [
    "splitter.get_test_fold_borders(dataset.interactions)"
   ]
  },
  {
   "attachments": {},
   "cell_type": "markdown",
   "metadata": {},
   "source": [
    "For test folds left border is always included in fold and the right one is excluded.\n",
    "\n",
    "Train folds don't have left border, and the right one is always excluded."
   ]
  },
  {
   "attachments": {},
   "cell_type": "markdown",
   "metadata": {},
   "source": [
    "## Train models"
   ]
  },
  {
   "cell_type": "code",
   "execution_count": 10,
   "metadata": {
    "execution": {
     "iopub.execute_input": "2022-12-05T13:55:10.240459Z",
     "iopub.status.busy": "2022-12-05T13:55:10.240459Z",
     "iopub.status.idle": "2022-12-05T13:55:10.255462Z",
     "shell.execute_reply": "2022-12-05T13:55:10.254459Z",
     "shell.execute_reply.started": "2022-12-05T13:55:10.240459Z"
    }
   },
   "outputs": [],
   "source": [
    "# Take few simple models to compare\n",
    "models = {\n",
    "    \"random\": RandomModel(random_state=42),\n",
    "    \"popular\": PopularModel(),\n",
    "    \"most_raited\": PopularModel(popularity=\"sum_weight\"),\n",
    "    \"tfidf_k=5\": ImplicitItemKNNWrapperModel(model=TFIDFRecommender(K=5)),\n",
    "    \"tfidf_k=10\": ImplicitItemKNNWrapperModel(model=TFIDFRecommender(K=10)),\n",
    "    \"bm25_k=10_k1=0.05_b=0.1\": ImplicitItemKNNWrapperModel(model=BM25Recommender(K=5, K1=0.05, B=0.1)),\n",
    "}\n",
    "\n",
    "# We will calculate several classic (precision@k and recall@k) and \"beyond accuracy\" metrics\n",
    "metrics = {\n",
    "    \"prec@1\": Precision(k=1),\n",
    "    \"prec@10\": Precision(k=10),\n",
    "    \"recall@10\": Recall(k=10),\n",
    "    \"novelty@10\": MeanInvUserFreq(k=10),\n",
    "    \"serendipity@10\": Serendipity(k=10),\n",
    "}\n",
    "\n",
    "K_RECS = 10"
   ]
  },
  {
   "cell_type": "code",
   "execution_count": 11,
   "metadata": {
    "execution": {
     "iopub.execute_input": "2022-12-05T13:55:10.256554Z",
     "iopub.status.busy": "2022-12-05T13:55:10.256554Z",
     "iopub.status.idle": "2022-12-05T13:55:18.438419Z",
     "shell.execute_reply": "2022-12-05T13:55:18.437419Z",
     "shell.execute_reply.started": "2022-12-05T13:55:10.256554Z"
    }
   },
   "outputs": [
    {
     "name": "stdout",
     "output_type": "stream",
     "text": [
      "CPU times: user 27.1 s, sys: 259 ms, total: 27.4 s\n",
      "Wall time: 15.2 s\n"
     ]
    }
   ],
   "source": [
    "%%time\n",
    "\n",
    "# For each fold generate train and test part of dataset\n",
    "# Then fit every model, generate recommendations and calculate metrics\n",
    "\n",
    "cv_results = cross_validate(\n",
    "    dataset=dataset,\n",
    "    splitter=splitter,\n",
    "    models=models,\n",
    "    metrics=metrics,\n",
    "    k=K_RECS,\n",
    "    filter_viewed=True,\n",
    ")"
   ]
  },
  {
   "attachments": {},
   "cell_type": "markdown",
   "metadata": {},
   "source": [
    "We can get some split stats"
   ]
  },
  {
   "cell_type": "code",
   "execution_count": 12,
   "metadata": {},
   "outputs": [
    {
     "data": {
      "text/html": [
       "<div>\n",
       "<style scoped>\n",
       "    .dataframe tbody tr th:only-of-type {\n",
       "        vertical-align: middle;\n",
       "    }\n",
       "\n",
       "    .dataframe tbody tr th {\n",
       "        vertical-align: top;\n",
       "    }\n",
       "\n",
       "    .dataframe thead th {\n",
       "        text-align: right;\n",
       "    }\n",
       "</style>\n",
       "<table border=\"1\" class=\"dataframe\">\n",
       "  <thead>\n",
       "    <tr style=\"text-align: right;\">\n",
       "      <th></th>\n",
       "      <th>i_split</th>\n",
       "      <th>start</th>\n",
       "      <th>end</th>\n",
       "      <th>train</th>\n",
       "      <th>train_users</th>\n",
       "      <th>train_items</th>\n",
       "      <th>test</th>\n",
       "      <th>test_users</th>\n",
       "      <th>test_items</th>\n",
       "    </tr>\n",
       "  </thead>\n",
       "  <tbody>\n",
       "    <tr>\n",
       "      <th>0</th>\n",
       "      <td>0</td>\n",
       "      <td>2003-01-18</td>\n",
       "      <td>2003-02-01</td>\n",
       "      <td>998083</td>\n",
       "      <td>6040</td>\n",
       "      <td>3706</td>\n",
       "      <td>630</td>\n",
       "      <td>75</td>\n",
       "      <td>540</td>\n",
       "    </tr>\n",
       "    <tr>\n",
       "      <th>1</th>\n",
       "      <td>1</td>\n",
       "      <td>2003-02-01</td>\n",
       "      <td>2003-02-15</td>\n",
       "      <td>998713</td>\n",
       "      <td>6040</td>\n",
       "      <td>3706</td>\n",
       "      <td>899</td>\n",
       "      <td>57</td>\n",
       "      <td>704</td>\n",
       "    </tr>\n",
       "    <tr>\n",
       "      <th>2</th>\n",
       "      <td>2</td>\n",
       "      <td>2003-02-15</td>\n",
       "      <td>2003-03-01</td>\n",
       "      <td>999612</td>\n",
       "      <td>6040</td>\n",
       "      <td>3706</td>\n",
       "      <td>597</td>\n",
       "      <td>66</td>\n",
       "      <td>501</td>\n",
       "    </tr>\n",
       "  </tbody>\n",
       "</table>\n",
       "</div>"
      ],
      "text/plain": [
       "   i_split      start        end   train  train_users  train_items  test  \\\n",
       "0        0 2003-01-18 2003-02-01  998083         6040         3706   630   \n",
       "1        1 2003-02-01 2003-02-15  998713         6040         3706   899   \n",
       "2        2 2003-02-15 2003-03-01  999612         6040         3706   597   \n",
       "\n",
       "   test_users  test_items  \n",
       "0          75         540  \n",
       "1          57         704  \n",
       "2          66         501  "
      ]
     },
     "execution_count": 12,
     "metadata": {},
     "output_type": "execute_result"
    }
   ],
   "source": [
    "pd.DataFrame(cv_results[\"splits\"])"
   ]
  },
  {
   "attachments": {},
   "cell_type": "markdown",
   "metadata": {},
   "source": [
    "And the main result is metrics"
   ]
  },
  {
   "cell_type": "code",
   "execution_count": 13,
   "metadata": {},
   "outputs": [
    {
     "data": {
      "text/html": [
       "<div>\n",
       "<style scoped>\n",
       "    .dataframe tbody tr th:only-of-type {\n",
       "        vertical-align: middle;\n",
       "    }\n",
       "\n",
       "    .dataframe tbody tr th {\n",
       "        vertical-align: top;\n",
       "    }\n",
       "\n",
       "    .dataframe thead th {\n",
       "        text-align: right;\n",
       "    }\n",
       "</style>\n",
       "<table border=\"1\" class=\"dataframe\">\n",
       "  <thead>\n",
       "    <tr style=\"text-align: right;\">\n",
       "      <th></th>\n",
       "      <th>model</th>\n",
       "      <th>i_split</th>\n",
       "      <th>prec@1</th>\n",
       "      <th>prec@10</th>\n",
       "      <th>recall@10</th>\n",
       "      <th>novelty@10</th>\n",
       "      <th>serendipity@10</th>\n",
       "    </tr>\n",
       "  </thead>\n",
       "  <tbody>\n",
       "    <tr>\n",
       "      <th>0</th>\n",
       "      <td>random</td>\n",
       "      <td>0</td>\n",
       "      <td>0.000000</td>\n",
       "      <td>0.002667</td>\n",
       "      <td>0.000832</td>\n",
       "      <td>6.520987</td>\n",
       "      <td>0.000422</td>\n",
       "    </tr>\n",
       "    <tr>\n",
       "      <th>1</th>\n",
       "      <td>popular</td>\n",
       "      <td>0</td>\n",
       "      <td>0.053333</td>\n",
       "      <td>0.024000</td>\n",
       "      <td>0.037410</td>\n",
       "      <td>1.580736</td>\n",
       "      <td>0.000123</td>\n",
       "    </tr>\n",
       "    <tr>\n",
       "      <th>2</th>\n",
       "      <td>most_raited</td>\n",
       "      <td>0</td>\n",
       "      <td>0.053333</td>\n",
       "      <td>0.026667</td>\n",
       "      <td>0.042251</td>\n",
       "      <td>1.592543</td>\n",
       "      <td>0.000151</td>\n",
       "    </tr>\n",
       "    <tr>\n",
       "      <th>3</th>\n",
       "      <td>tfidf_k=5</td>\n",
       "      <td>0</td>\n",
       "      <td>0.053333</td>\n",
       "      <td>0.021333</td>\n",
       "      <td>0.023866</td>\n",
       "      <td>2.361189</td>\n",
       "      <td>0.000465</td>\n",
       "    </tr>\n",
       "    <tr>\n",
       "      <th>4</th>\n",
       "      <td>tfidf_k=10</td>\n",
       "      <td>0</td>\n",
       "      <td>0.026667</td>\n",
       "      <td>0.021333</td>\n",
       "      <td>0.039926</td>\n",
       "      <td>2.137451</td>\n",
       "      <td>0.000327</td>\n",
       "    </tr>\n",
       "    <tr>\n",
       "      <th>5</th>\n",
       "      <td>bm25_k=10_k1=0.05_b=0.1</td>\n",
       "      <td>0</td>\n",
       "      <td>0.026667</td>\n",
       "      <td>0.029333</td>\n",
       "      <td>0.046645</td>\n",
       "      <td>1.781881</td>\n",
       "      <td>0.000271</td>\n",
       "    </tr>\n",
       "    <tr>\n",
       "      <th>6</th>\n",
       "      <td>random</td>\n",
       "      <td>1</td>\n",
       "      <td>0.017544</td>\n",
       "      <td>0.005263</td>\n",
       "      <td>0.000732</td>\n",
       "      <td>6.490783</td>\n",
       "      <td>0.000605</td>\n",
       "    </tr>\n",
       "    <tr>\n",
       "      <th>7</th>\n",
       "      <td>popular</td>\n",
       "      <td>1</td>\n",
       "      <td>0.052632</td>\n",
       "      <td>0.057895</td>\n",
       "      <td>0.015707</td>\n",
       "      <td>1.588414</td>\n",
       "      <td>0.000183</td>\n",
       "    </tr>\n",
       "    <tr>\n",
       "      <th>8</th>\n",
       "      <td>most_raited</td>\n",
       "      <td>1</td>\n",
       "      <td>0.035088</td>\n",
       "      <td>0.056140</td>\n",
       "      <td>0.009919</td>\n",
       "      <td>1.600628</td>\n",
       "      <td>0.000155</td>\n",
       "    </tr>\n",
       "    <tr>\n",
       "      <th>9</th>\n",
       "      <td>tfidf_k=5</td>\n",
       "      <td>1</td>\n",
       "      <td>0.052632</td>\n",
       "      <td>0.057895</td>\n",
       "      <td>0.048591</td>\n",
       "      <td>2.326116</td>\n",
       "      <td>0.002616</td>\n",
       "    </tr>\n",
       "    <tr>\n",
       "      <th>10</th>\n",
       "      <td>tfidf_k=10</td>\n",
       "      <td>1</td>\n",
       "      <td>0.052632</td>\n",
       "      <td>0.052632</td>\n",
       "      <td>0.010033</td>\n",
       "      <td>2.143504</td>\n",
       "      <td>0.000917</td>\n",
       "    </tr>\n",
       "    <tr>\n",
       "      <th>11</th>\n",
       "      <td>bm25_k=10_k1=0.05_b=0.1</td>\n",
       "      <td>1</td>\n",
       "      <td>0.070175</td>\n",
       "      <td>0.059649</td>\n",
       "      <td>0.010321</td>\n",
       "      <td>1.809416</td>\n",
       "      <td>0.000341</td>\n",
       "    </tr>\n",
       "    <tr>\n",
       "      <th>12</th>\n",
       "      <td>random</td>\n",
       "      <td>2</td>\n",
       "      <td>0.015152</td>\n",
       "      <td>0.003030</td>\n",
       "      <td>0.000877</td>\n",
       "      <td>6.336690</td>\n",
       "      <td>0.000579</td>\n",
       "    </tr>\n",
       "    <tr>\n",
       "      <th>13</th>\n",
       "      <td>popular</td>\n",
       "      <td>2</td>\n",
       "      <td>0.045455</td>\n",
       "      <td>0.042424</td>\n",
       "      <td>0.039984</td>\n",
       "      <td>1.656638</td>\n",
       "      <td>0.000450</td>\n",
       "    </tr>\n",
       "    <tr>\n",
       "      <th>14</th>\n",
       "      <td>most_raited</td>\n",
       "      <td>2</td>\n",
       "      <td>0.045455</td>\n",
       "      <td>0.039394</td>\n",
       "      <td>0.024521</td>\n",
       "      <td>1.668108</td>\n",
       "      <td>0.000332</td>\n",
       "    </tr>\n",
       "    <tr>\n",
       "      <th>15</th>\n",
       "      <td>tfidf_k=5</td>\n",
       "      <td>2</td>\n",
       "      <td>0.090909</td>\n",
       "      <td>0.050000</td>\n",
       "      <td>0.039606</td>\n",
       "      <td>2.378988</td>\n",
       "      <td>0.001500</td>\n",
       "    </tr>\n",
       "    <tr>\n",
       "      <th>16</th>\n",
       "      <td>tfidf_k=10</td>\n",
       "      <td>2</td>\n",
       "      <td>0.060606</td>\n",
       "      <td>0.051515</td>\n",
       "      <td>0.053531</td>\n",
       "      <td>2.206921</td>\n",
       "      <td>0.001346</td>\n",
       "    </tr>\n",
       "    <tr>\n",
       "      <th>17</th>\n",
       "      <td>bm25_k=10_k1=0.05_b=0.1</td>\n",
       "      <td>2</td>\n",
       "      <td>0.090909</td>\n",
       "      <td>0.039394</td>\n",
       "      <td>0.038426</td>\n",
       "      <td>1.901316</td>\n",
       "      <td>0.000397</td>\n",
       "    </tr>\n",
       "  </tbody>\n",
       "</table>\n",
       "</div>"
      ],
      "text/plain": [
       "                      model  i_split    prec@1   prec@10  recall@10  \\\n",
       "0                    random        0  0.000000  0.002667   0.000832   \n",
       "1                   popular        0  0.053333  0.024000   0.037410   \n",
       "2               most_raited        0  0.053333  0.026667   0.042251   \n",
       "3                 tfidf_k=5        0  0.053333  0.021333   0.023866   \n",
       "4                tfidf_k=10        0  0.026667  0.021333   0.039926   \n",
       "5   bm25_k=10_k1=0.05_b=0.1        0  0.026667  0.029333   0.046645   \n",
       "6                    random        1  0.017544  0.005263   0.000732   \n",
       "7                   popular        1  0.052632  0.057895   0.015707   \n",
       "8               most_raited        1  0.035088  0.056140   0.009919   \n",
       "9                 tfidf_k=5        1  0.052632  0.057895   0.048591   \n",
       "10               tfidf_k=10        1  0.052632  0.052632   0.010033   \n",
       "11  bm25_k=10_k1=0.05_b=0.1        1  0.070175  0.059649   0.010321   \n",
       "12                   random        2  0.015152  0.003030   0.000877   \n",
       "13                  popular        2  0.045455  0.042424   0.039984   \n",
       "14              most_raited        2  0.045455  0.039394   0.024521   \n",
       "15                tfidf_k=5        2  0.090909  0.050000   0.039606   \n",
       "16               tfidf_k=10        2  0.060606  0.051515   0.053531   \n",
       "17  bm25_k=10_k1=0.05_b=0.1        2  0.090909  0.039394   0.038426   \n",
       "\n",
       "    novelty@10  serendipity@10  \n",
       "0     6.520987        0.000422  \n",
       "1     1.580736        0.000123  \n",
       "2     1.592543        0.000151  \n",
       "3     2.361189        0.000465  \n",
       "4     2.137451        0.000327  \n",
       "5     1.781881        0.000271  \n",
       "6     6.490783        0.000605  \n",
       "7     1.588414        0.000183  \n",
       "8     1.600628        0.000155  \n",
       "9     2.326116        0.002616  \n",
       "10    2.143504        0.000917  \n",
       "11    1.809416        0.000341  \n",
       "12    6.336690        0.000579  \n",
       "13    1.656638        0.000450  \n",
       "14    1.668108        0.000332  \n",
       "15    2.378988        0.001500  \n",
       "16    2.206921        0.001346  \n",
       "17    1.901316        0.000397  "
      ]
     },
     "execution_count": 13,
     "metadata": {},
     "output_type": "execute_result"
    }
   ],
   "source": [
    "pd.DataFrame(cv_results[\"metrics\"])"
   ]
  },
  {
   "attachments": {},
   "cell_type": "markdown",
   "metadata": {},
   "source": [
    "Let's now aggregate metrics by folds and compare models"
   ]
  },
  {
   "cell_type": "code",
   "execution_count": 14,
   "metadata": {},
   "outputs": [
    {
     "data": {
      "text/html": [
       "<style type=\"text/css\">\n",
       "#T_c7c0d_row0_col0, #T_c7c0d_row0_col1, #T_c7c0d_row0_col2, #T_c7c0d_row1_col3, #T_c7c0d_row2_col4 {\n",
       "  background-color: lightcoral;\n",
       "}\n",
       "#T_c7c0d_row0_col3, #T_c7c0d_row3_col0, #T_c7c0d_row3_col1, #T_c7c0d_row3_col2, #T_c7c0d_row3_col4 {\n",
       "  background-color: lightgreen;\n",
       "}\n",
       "</style>\n",
       "<table id=\"T_c7c0d\">\n",
       "  <caption>Mean values of metrics</caption>\n",
       "  <thead>\n",
       "    <tr>\n",
       "      <th class=\"blank level0\" >&nbsp;</th>\n",
       "      <th id=\"T_c7c0d_level0_col0\" class=\"col_heading level0 col0\" >prec@1</th>\n",
       "      <th id=\"T_c7c0d_level0_col1\" class=\"col_heading level0 col1\" >prec@10</th>\n",
       "      <th id=\"T_c7c0d_level0_col2\" class=\"col_heading level0 col2\" >recall@10</th>\n",
       "      <th id=\"T_c7c0d_level0_col3\" class=\"col_heading level0 col3\" >novelty@10</th>\n",
       "      <th id=\"T_c7c0d_level0_col4\" class=\"col_heading level0 col4\" >serendipity@10</th>\n",
       "    </tr>\n",
       "    <tr>\n",
       "      <th class=\"index_name level0\" >model</th>\n",
       "      <th class=\"blank col0\" >&nbsp;</th>\n",
       "      <th class=\"blank col1\" >&nbsp;</th>\n",
       "      <th class=\"blank col2\" >&nbsp;</th>\n",
       "      <th class=\"blank col3\" >&nbsp;</th>\n",
       "      <th class=\"blank col4\" >&nbsp;</th>\n",
       "    </tr>\n",
       "  </thead>\n",
       "  <tbody>\n",
       "    <tr>\n",
       "      <th id=\"T_c7c0d_level0_row0\" class=\"row_heading level0 row0\" >random</th>\n",
       "      <td id=\"T_c7c0d_row0_col0\" class=\"data row0 col0\" >0.010898</td>\n",
       "      <td id=\"T_c7c0d_row0_col1\" class=\"data row0 col1\" >0.003653</td>\n",
       "      <td id=\"T_c7c0d_row0_col2\" class=\"data row0 col2\" >0.000813</td>\n",
       "      <td id=\"T_c7c0d_row0_col3\" class=\"data row0 col3\" >6.449487</td>\n",
       "      <td id=\"T_c7c0d_row0_col4\" class=\"data row0 col4\" >0.000535</td>\n",
       "    </tr>\n",
       "    <tr>\n",
       "      <th id=\"T_c7c0d_level0_row1\" class=\"row_heading level0 row1\" >popular</th>\n",
       "      <td id=\"T_c7c0d_row1_col0\" class=\"data row1 col0\" >0.050473</td>\n",
       "      <td id=\"T_c7c0d_row1_col1\" class=\"data row1 col1\" >0.041440</td>\n",
       "      <td id=\"T_c7c0d_row1_col2\" class=\"data row1 col2\" >0.031034</td>\n",
       "      <td id=\"T_c7c0d_row1_col3\" class=\"data row1 col3\" >1.608596</td>\n",
       "      <td id=\"T_c7c0d_row1_col4\" class=\"data row1 col4\" >0.000252</td>\n",
       "    </tr>\n",
       "    <tr>\n",
       "      <th id=\"T_c7c0d_level0_row2\" class=\"row_heading level0 row2\" >most_raited</th>\n",
       "      <td id=\"T_c7c0d_row2_col0\" class=\"data row2 col0\" >0.044625</td>\n",
       "      <td id=\"T_c7c0d_row2_col1\" class=\"data row2 col1\" >0.040734</td>\n",
       "      <td id=\"T_c7c0d_row2_col2\" class=\"data row2 col2\" >0.025564</td>\n",
       "      <td id=\"T_c7c0d_row2_col3\" class=\"data row2 col3\" >1.620426</td>\n",
       "      <td id=\"T_c7c0d_row2_col4\" class=\"data row2 col4\" >0.000213</td>\n",
       "    </tr>\n",
       "    <tr>\n",
       "      <th id=\"T_c7c0d_level0_row3\" class=\"row_heading level0 row3\" >tfidf_k=5</th>\n",
       "      <td id=\"T_c7c0d_row3_col0\" class=\"data row3 col0\" >0.065625</td>\n",
       "      <td id=\"T_c7c0d_row3_col1\" class=\"data row3 col1\" >0.043076</td>\n",
       "      <td id=\"T_c7c0d_row3_col2\" class=\"data row3 col2\" >0.037354</td>\n",
       "      <td id=\"T_c7c0d_row3_col3\" class=\"data row3 col3\" >2.355431</td>\n",
       "      <td id=\"T_c7c0d_row3_col4\" class=\"data row3 col4\" >0.001527</td>\n",
       "    </tr>\n",
       "    <tr>\n",
       "      <th id=\"T_c7c0d_level0_row4\" class=\"row_heading level0 row4\" >tfidf_k=10</th>\n",
       "      <td id=\"T_c7c0d_row4_col0\" class=\"data row4 col0\" >0.046635</td>\n",
       "      <td id=\"T_c7c0d_row4_col1\" class=\"data row4 col1\" >0.041827</td>\n",
       "      <td id=\"T_c7c0d_row4_col2\" class=\"data row4 col2\" >0.034497</td>\n",
       "      <td id=\"T_c7c0d_row4_col3\" class=\"data row4 col3\" >2.162626</td>\n",
       "      <td id=\"T_c7c0d_row4_col4\" class=\"data row4 col4\" >0.000863</td>\n",
       "    </tr>\n",
       "    <tr>\n",
       "      <th id=\"T_c7c0d_level0_row5\" class=\"row_heading level0 row5\" >bm25_k=10_k1=0.05_b=0.1</th>\n",
       "      <td id=\"T_c7c0d_row5_col0\" class=\"data row5 col0\" >0.062584</td>\n",
       "      <td id=\"T_c7c0d_row5_col1\" class=\"data row5 col1\" >0.042792</td>\n",
       "      <td id=\"T_c7c0d_row5_col2\" class=\"data row5 col2\" >0.031797</td>\n",
       "      <td id=\"T_c7c0d_row5_col3\" class=\"data row5 col3\" >1.830871</td>\n",
       "      <td id=\"T_c7c0d_row5_col4\" class=\"data row5 col4\" >0.000337</td>\n",
       "    </tr>\n",
       "  </tbody>\n",
       "</table>\n"
      ],
      "text/plain": [
       "<pandas.io.formats.style.Styler at 0x7f978ea8a1d0>"
      ]
     },
     "execution_count": 14,
     "metadata": {},
     "output_type": "execute_result"
    }
   ],
   "source": [
    "pivot_results = (\n",
    "    pd.DataFrame(cv_results[\"metrics\"])\n",
    "    .drop(columns=\"i_split\")\n",
    "    .groupby([\"model\"], sort=False)\n",
    "    .agg([\"mean\"])\n",
    ")\n",
    "pivot_results.columns = pivot_results.columns.droplevel(1)\n",
    "\n",
    "(\n",
    "    pivot_results.style\n",
    "    .set_caption(\"Mean values of metrics\")\n",
    "    .highlight_min(color='lightcoral', axis=0)\n",
    "    .highlight_max(color='lightgreen', axis=0)\n",
    ")"
   ]
  },
  {
   "attachments": {
    "cv.png": {
     "image/png": "[encoded data removed]"
    }
   },
   "cell_type": "markdown",
   "metadata": {},
   "source": [
    "![cv.png](attachment:cv.png)"
   ]
  },
  {
   "attachments": {},
   "cell_type": "markdown",
   "metadata": {},
   "source": [
    "In RecTools we have interactive `MetricsApp` for detailed analysis of metrics trade-off between different models.\n",
    "`visuals` extension is required to run the path of code below. You can install it with `pip install rectools[visuals]`"
   ]
  },
  {
   "cell_type": "code",
   "execution_count": 15,
   "metadata": {},
   "outputs": [
    {
     "data": {
      "application/vnd.jupyter.widget-view+json": {
       "model_id": "49d27e34d73c411ea50e09b44066d4e2",
       "version_major": 2,
       "version_minor": 0
      },
      "text/plain": [
       "VBox(children=(HBox(children=(Checkbox(value=True, description='Avg folds'), Dropdown(description='Fold number…"
      ]
     },
     "metadata": {},
     "output_type": "display_data"
    }
   ],
   "source": [
    "app = MetricsApp.construct(pd.DataFrame(cv_results[\"metrics\"]))"
   ]
  },
  {
   "attachments": {},
   "cell_type": "markdown",
   "metadata": {},
   "source": [
    "If you run this notebook, you will get **interactive** widgets with active buttons to select metrics and folds. For offline presentation we keep **static** screenshots of the actual app."
   ]
  },
  {
   "attachments": {
    "widget_img.png": {
     "image/png": "[encoded data removed]"
    }
   },
   "cell_type": "markdown",
   "metadata": {},
   "source": [
    "![widget_img.png](attachment:widget_img.png)"
   ]
  },
  {
   "attachments": {},
   "cell_type": "markdown",
   "metadata": {},
   "source": [
    "If you want to save static image from your app, you can access `plotly.graph_objs.Figure` and render it as an image. Make sure you have `kaleido` package to process rendering. You can install it with `pip install kaleido==0.2.1` and restart the kernel."
   ]
  },
  {
   "cell_type": "code",
   "execution_count": 19,
   "metadata": {},
   "outputs": [
    {
     "data": {
      "image/png": "[encoded data removed]"
     },
     "metadata": {},
     "output_type": "display_data"
    }
   ],
   "source": [
    "fig = app.fig\n",
    "fig.update_layout(title=\"Metrics: recall@10 vs novelty@10\")\n",
    "fig.show(\"png\")"
   ]
  },
  {
   "attachments": {},
   "cell_type": "markdown",
   "metadata": {},
   "source": []
  }
 ],
 "metadata": {
  "kernelspec": {
   "display_name": "Python 3 (ipykernel)",
   "language": "python",
   "name": "python3"
  },
  "language_info": {
   "codemirror_mode": {
    "name": "ipython",
    "version": 3
   },
   "file_extension": ".py",
   "mimetype": "text/x-python",
   "name": "python",
   "nbconvert_exporter": "python",
   "pygments_lexer": "ipython3",
   "version": "3.10.10"
  },
  "toc": {
   "base_numbering": 1,
   "nav_menu": {},
   "number_sections": true,
   "sideBar": true,
   "skip_h1_title": false,
   "title_cell": "Table of Contents",
   "title_sidebar": "Contents",
   "toc_cell": false,
   "toc_position": {},
   "toc_section_display": true,
   "toc_window_display": false
  },
  "widgets": {
   "application/vnd.jupyter.widget-state+json": {
    "state": {
     "0bff511cc0734a72b0abd07e2c0cdc9b": {
      "model_module": "@jupyter-widgets/controls",
      "model_module_version": "1.5.0",
      "model_name": "ProgressStyleModel",
      "state": {
       "description_width": ""
      }
     },
     "1f9919bc95894a7ba163226724f5c2d3": {
      "model_module": "@jupyter-widgets/controls",
      "model_module_version": "1.5.0",
      "model_name": "HBoxModel",
      "state": {
       "children": [
        "IPY_MODEL_98bdc91ca71f4fb28f78fe121421199f",
        "IPY_MODEL_2dc23b592eaf4292aadc30278e755ee9",
        "IPY_MODEL_e510272ad62248a8bf5b91f4f64b205c"
       ],
       "layout": "IPY_MODEL_4f07759368fd43af98757f0093a6a1c8"
      }
     },
     "2459ad47e8934d5c9035acff862fa835": {
      "model_module": "@jupyter-widgets/controls",
      "model_module_version": "1.5.0",
      "model_name": "DescriptionStyleModel",
      "state": {
       "description_width": ""
      }
     },
     "2dc23b592eaf4292aadc30278e755ee9": {
      "model_module": "@jupyter-widgets/controls",
      "model_module_version": "1.5.0",
      "model_name": "FloatProgressModel",
      "state": {
       "bar_style": "success",
       "layout": "IPY_MODEL_de52fb764a594f3ca08b1e5256ac7686",
       "max": 3,
       "style": "IPY_MODEL_0bff511cc0734a72b0abd07e2c0cdc9b",
       "value": 3
      }
     },
     "34e3d01ac2394bfb8c1ed864d435b887": {
      "model_module": "@jupyter-widgets/base",
      "model_module_version": "1.2.0",
      "model_name": "LayoutModel",
      "state": {}
     },
     "4f07759368fd43af98757f0093a6a1c8": {
      "model_module": "@jupyter-widgets/base",
      "model_module_version": "1.2.0",
      "model_name": "LayoutModel",
      "state": {}
     },
     "81877382813d452d8d2261bb24a32e29": {
      "model_module": "@jupyter-widgets/controls",
      "model_module_version": "1.5.0",
      "model_name": "DescriptionStyleModel",
      "state": {
       "description_width": ""
      }
     },
     "98bdc91ca71f4fb28f78fe121421199f": {
      "model_module": "@jupyter-widgets/controls",
      "model_module_version": "1.5.0",
      "model_name": "HTMLModel",
      "state": {
       "layout": "IPY_MODEL_34e3d01ac2394bfb8c1ed864d435b887",
       "style": "IPY_MODEL_2459ad47e8934d5c9035acff862fa835",
       "value": "100%"
      }
     },
     "a87dee1f0b424983962c1388cc83a5eb": {
      "model_module": "@jupyter-widgets/base",
      "model_module_version": "1.2.0",
      "model_name": "LayoutModel",
      "state": {}
     },
     "de52fb764a594f3ca08b1e5256ac7686": {
      "model_module": "@jupyter-widgets/base",
      "model_module_version": "1.2.0",
      "model_name": "LayoutModel",
      "state": {}
     },
     "e510272ad62248a8bf5b91f4f64b205c": {
      "model_module": "@jupyter-widgets/controls",
      "model_module_version": "1.5.0",
      "model_name": "HTMLModel",
      "state": {
       "layout": "IPY_MODEL_a87dee1f0b424983962c1388cc83a5eb",
       "style": "IPY_MODEL_81877382813d452d8d2261bb24a32e29",
       "value": " 3/3 [00:08&lt;00:00,  2.70s/it]"
      }
     }
    },
    "version_major": 2,
    "version_minor": 0
   }
  }
 },
 "nbformat": 4,
 "nbformat_minor": 4
}
