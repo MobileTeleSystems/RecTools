{
 "cells": [
  {
   "cell_type": "markdown",
   "metadata": {},
   "source": [
    "# Example of model selection using cross-validation with RecTools\n",
    "\n",
    "- CV split\n",
    "- Training a variety of models\n",
    "- Measuring a variety of metrics"
   ]
  },
  {
   "cell_type": "code",
   "execution_count": 1,
   "metadata": {
    "execution": {
     "iopub.execute_input": "2022-12-05T13:55:01.997033Z",
     "iopub.status.busy": "2022-12-05T13:55:01.997033Z",
     "iopub.status.idle": "2022-12-05T13:55:02.639035Z",
     "shell.execute_reply": "2022-12-05T13:55:02.639035Z",
     "shell.execute_reply.started": "2022-12-05T13:55:01.997033Z"
    },
    "tags": []
   },
   "outputs": [
    {
     "name": "stderr",
     "output_type": "stream",
     "text": [
      "C:\\Users\\shart\\anaconda3\\envs\\rectools_py38\\lib\\site-packages\\lightfm\\_lightfm_fast.py:9: UserWarning: LightFM was compiled without OpenMP support. Only a single thread will be used.\n",
      "  warnings.warn(\n"
     ]
    }
   ],
   "source": [
    "from pprint import pprint\n",
    "\n",
    "import numpy as np\n",
    "import pandas as pd\n",
    "\n",
    "from tqdm.auto import tqdm\n",
    "\n",
    "from implicit.nearest_neighbours import TFIDFRecommender, BM25Recommender\n",
    "from implicit.als import AlternatingLeastSquares\n",
    "\n",
    "from rectools import Columns\n",
    "from rectools.dataset import Interactions, Dataset\n",
    "from rectools.metrics import Precision, Recall, MeanInvUserFreq, Serendipity, calc_metrics\n",
    "from rectools.models import ImplicitItemKNNWrapperModel, RandomModel, PopularModel\n",
    "from rectools.model_selection import TimeRangeSplitter"
   ]
  },
  {
   "cell_type": "markdown",
   "metadata": {},
   "source": [
    "## Load data"
   ]
  },
  {
   "cell_type": "code",
   "execution_count": 2,
   "metadata": {
    "execution": {
     "iopub.execute_input": "2022-12-05T13:55:02.641036Z",
     "iopub.status.busy": "2022-12-05T13:55:02.641036Z",
     "iopub.status.idle": "2022-12-05T13:55:04.735725Z",
     "shell.execute_reply": "2022-12-05T13:55:04.734722Z",
     "shell.execute_reply.started": "2022-12-05T13:55:02.641036Z"
    }
   },
   "outputs": [],
   "source": [
    "# !wget https://files.grouplens.org/datasets/movielens/ml-1m.zip\n",
    "# !unzip ml-1m.zip\n",
    "\n",
    "import urllib.request\n",
    "import zipfile as zf\n",
    "\n",
    "urllib.request.urlretrieve('https://files.grouplens.org/datasets/movielens/ml-1m.zip', 'ml-1m.zip')\n",
    "files = zf.ZipFile('ml-1m.zip','r')\n",
    "files.extractall()\n",
    "files.close()"
   ]
  },
  {
   "cell_type": "code",
   "execution_count": 3,
   "metadata": {
    "execution": {
     "iopub.execute_input": "2022-12-05T13:55:04.738725Z",
     "iopub.status.busy": "2022-12-05T13:55:04.737727Z",
     "iopub.status.idle": "2022-12-05T13:55:09.954460Z",
     "shell.execute_reply": "2022-12-05T13:55:09.953459Z",
     "shell.execute_reply.started": "2022-12-05T13:55:04.738725Z"
    }
   },
   "outputs": [
    {
     "name": "stdout",
     "output_type": "stream",
     "text": [
      "(1000209, 4)\n",
      "CPU times: total: 5.19 s\n",
      "Wall time: 5.19 s\n"
     ]
    },
    {
     "data": {
      "text/html": [
       "<div>\n",
       "<style scoped>\n",
       "    .dataframe tbody tr th:only-of-type {\n",
       "        vertical-align: middle;\n",
       "    }\n",
       "\n",
       "    .dataframe tbody tr th {\n",
       "        vertical-align: top;\n",
       "    }\n",
       "\n",
       "    .dataframe thead th {\n",
       "        text-align: right;\n",
       "    }\n",
       "</style>\n",
       "<table border=\"1\" class=\"dataframe\">\n",
       "  <thead>\n",
       "    <tr style=\"text-align: right;\">\n",
       "      <th></th>\n",
       "      <th>user_id</th>\n",
       "      <th>item_id</th>\n",
       "      <th>weight</th>\n",
       "      <th>datetime</th>\n",
       "    </tr>\n",
       "  </thead>\n",
       "  <tbody>\n",
       "    <tr>\n",
       "      <th>0</th>\n",
       "      <td>1</td>\n",
       "      <td>1193</td>\n",
       "      <td>5</td>\n",
       "      <td>978300760</td>\n",
       "    </tr>\n",
       "    <tr>\n",
       "      <th>1</th>\n",
       "      <td>1</td>\n",
       "      <td>661</td>\n",
       "      <td>3</td>\n",
       "      <td>978302109</td>\n",
       "    </tr>\n",
       "    <tr>\n",
       "      <th>2</th>\n",
       "      <td>1</td>\n",
       "      <td>914</td>\n",
       "      <td>3</td>\n",
       "      <td>978301968</td>\n",
       "    </tr>\n",
       "    <tr>\n",
       "      <th>3</th>\n",
       "      <td>1</td>\n",
       "      <td>3408</td>\n",
       "      <td>4</td>\n",
       "      <td>978300275</td>\n",
       "    </tr>\n",
       "    <tr>\n",
       "      <th>4</th>\n",
       "      <td>1</td>\n",
       "      <td>2355</td>\n",
       "      <td>5</td>\n",
       "      <td>978824291</td>\n",
       "    </tr>\n",
       "  </tbody>\n",
       "</table>\n",
       "</div>"
      ],
      "text/plain": [
       "   user_id  item_id  weight   datetime\n",
       "0        1     1193       5  978300760\n",
       "1        1      661       3  978302109\n",
       "2        1      914       3  978301968\n",
       "3        1     3408       4  978300275\n",
       "4        1     2355       5  978824291"
      ]
     },
     "execution_count": 3,
     "metadata": {},
     "output_type": "execute_result"
    }
   ],
   "source": [
    "%%time\n",
    "ratings = pd.read_csv(\n",
    "    \"ml-1m/ratings.dat\",\n",
    "    sep=\"::\",\n",
    "    engine=\"python\",  # Because of 2-chars separators\n",
    "    header=None,\n",
    "    names=[Columns.User, Columns.Item, Columns.Weight, Columns.Datetime],\n",
    ")\n",
    "print(ratings.shape)\n",
    "ratings.head()"
   ]
  },
  {
   "cell_type": "code",
   "execution_count": 4,
   "metadata": {
    "execution": {
     "iopub.execute_input": "2022-12-05T13:55:09.955463Z",
     "iopub.status.busy": "2022-12-05T13:55:09.954460Z",
     "iopub.status.idle": "2022-12-05T13:55:09.985460Z",
     "shell.execute_reply": "2022-12-05T13:55:09.984462Z",
     "shell.execute_reply.started": "2022-12-05T13:55:09.955463Z"
    }
   },
   "outputs": [
    {
     "data": {
      "text/plain": [
       "(6040, 3706)"
      ]
     },
     "execution_count": 4,
     "metadata": {},
     "output_type": "execute_result"
    }
   ],
   "source": [
    "ratings[\"user_id\"].nunique(), ratings[\"item_id\"].nunique()"
   ]
  },
  {
   "cell_type": "code",
   "execution_count": 5,
   "metadata": {
    "execution": {
     "iopub.execute_input": "2022-12-05T13:55:09.987463Z",
     "iopub.status.busy": "2022-12-05T13:55:09.986461Z",
     "iopub.status.idle": "2022-12-05T13:55:10.000460Z",
     "shell.execute_reply": "2022-12-05T13:55:10.000460Z",
     "shell.execute_reply.started": "2022-12-05T13:55:09.987463Z"
    }
   },
   "outputs": [
    {
     "data": {
      "text/plain": [
       "4    348971\n",
       "3    261197\n",
       "5    226310\n",
       "2    107557\n",
       "1     56174\n",
       "Name: weight, dtype: int64"
      ]
     },
     "execution_count": 5,
     "metadata": {},
     "output_type": "execute_result"
    }
   ],
   "source": [
    "ratings[\"weight\"].value_counts()"
   ]
  },
  {
   "cell_type": "code",
   "execution_count": 6,
   "metadata": {
    "execution": {
     "iopub.execute_input": "2022-12-05T13:55:10.002461Z",
     "iopub.status.busy": "2022-12-05T13:55:10.001460Z",
     "iopub.status.idle": "2022-12-05T13:55:10.175459Z",
     "shell.execute_reply": "2022-12-05T13:55:10.174460Z",
     "shell.execute_reply.started": "2022-12-05T13:55:10.002461Z"
    }
   },
   "outputs": [
    {
     "name": "stdout",
     "output_type": "stream",
     "text": [
      "Time period\n"
     ]
    },
    {
     "data": {
      "text/plain": [
       "(Timestamp('2000-04-25 23:05:32'), Timestamp('2003-02-28 17:49:50'))"
      ]
     },
     "execution_count": 6,
     "metadata": {},
     "output_type": "execute_result"
    }
   ],
   "source": [
    "ratings[\"datetime\"] = pd.to_datetime(ratings[\"datetime\"] * 10 ** 9)\n",
    "print(\"Time period\")\n",
    "ratings[\"datetime\"].min(), ratings[\"datetime\"].max()"
   ]
  },
  {
   "cell_type": "markdown",
   "metadata": {},
   "source": [
    "Optimize dataframe for further usage. `Interactions` will cast types and save new `pd.DataFrame` inside in `Interactions.df`"
   ]
  },
  {
   "cell_type": "code",
   "execution_count": 7,
   "metadata": {
    "execution": {
     "iopub.execute_input": "2022-12-05T13:55:10.176459Z",
     "iopub.status.busy": "2022-12-05T13:55:10.176459Z",
     "iopub.status.idle": "2022-12-05T13:55:10.207463Z",
     "shell.execute_reply": "2022-12-05T13:55:10.206460Z",
     "shell.execute_reply.started": "2022-12-05T13:55:10.176459Z"
    }
   },
   "outputs": [
    {
     "data": {
      "text/html": [
       "<div>\n",
       "<style scoped>\n",
       "    .dataframe tbody tr th:only-of-type {\n",
       "        vertical-align: middle;\n",
       "    }\n",
       "\n",
       "    .dataframe tbody tr th {\n",
       "        vertical-align: top;\n",
       "    }\n",
       "\n",
       "    .dataframe thead th {\n",
       "        text-align: right;\n",
       "    }\n",
       "</style>\n",
       "<table border=\"1\" class=\"dataframe\">\n",
       "  <thead>\n",
       "    <tr style=\"text-align: right;\">\n",
       "      <th></th>\n",
       "      <th>user_id</th>\n",
       "      <th>item_id</th>\n",
       "      <th>weight</th>\n",
       "      <th>datetime</th>\n",
       "    </tr>\n",
       "  </thead>\n",
       "  <tbody>\n",
       "    <tr>\n",
       "      <th>0</th>\n",
       "      <td>1</td>\n",
       "      <td>1193</td>\n",
       "      <td>5.0</td>\n",
       "      <td>2000-12-31 22:12:40</td>\n",
       "    </tr>\n",
       "    <tr>\n",
       "      <th>1</th>\n",
       "      <td>1</td>\n",
       "      <td>661</td>\n",
       "      <td>3.0</td>\n",
       "      <td>2000-12-31 22:35:09</td>\n",
       "    </tr>\n",
       "    <tr>\n",
       "      <th>2</th>\n",
       "      <td>1</td>\n",
       "      <td>914</td>\n",
       "      <td>3.0</td>\n",
       "      <td>2000-12-31 22:32:48</td>\n",
       "    </tr>\n",
       "    <tr>\n",
       "      <th>3</th>\n",
       "      <td>1</td>\n",
       "      <td>3408</td>\n",
       "      <td>4.0</td>\n",
       "      <td>2000-12-31 22:04:35</td>\n",
       "    </tr>\n",
       "    <tr>\n",
       "      <th>4</th>\n",
       "      <td>1</td>\n",
       "      <td>2355</td>\n",
       "      <td>5.0</td>\n",
       "      <td>2001-01-06 23:38:11</td>\n",
       "    </tr>\n",
       "  </tbody>\n",
       "</table>\n",
       "</div>"
      ],
      "text/plain": [
       "   user_id  item_id  weight            datetime\n",
       "0        1     1193     5.0 2000-12-31 22:12:40\n",
       "1        1      661     3.0 2000-12-31 22:35:09\n",
       "2        1      914     3.0 2000-12-31 22:32:48\n",
       "3        1     3408     4.0 2000-12-31 22:04:35\n",
       "4        1     2355     5.0 2001-01-06 23:38:11"
      ]
     },
     "execution_count": 7,
     "metadata": {},
     "output_type": "execute_result"
    }
   ],
   "source": [
    "inters = Interactions(ratings)\n",
    "del ratings\n",
    "inters.df.head()"
   ]
  },
  {
   "cell_type": "markdown",
   "metadata": {},
   "source": [
    "## Split interactions for CV"
   ]
  },
  {
   "cell_type": "markdown",
   "metadata": {},
   "source": [
    "We'll use last 3 periods of 2 weeks to validate our models."
   ]
  },
  {
   "cell_type": "code",
   "execution_count": 8,
   "metadata": {
    "execution": {
     "iopub.execute_input": "2022-12-05T13:55:10.208461Z",
     "iopub.status.busy": "2022-12-05T13:55:10.208461Z",
     "iopub.status.idle": "2022-12-05T13:55:10.239460Z",
     "shell.execute_reply": "2022-12-05T13:55:10.238461Z",
     "shell.execute_reply.started": "2022-12-05T13:55:10.208461Z"
    }
   },
   "outputs": [
    {
     "name": "stdout",
     "output_type": "stream",
     "text": [
      "start_date: 2003-01-10 00:00:00\n",
      "last_date: 2003-02-28 00:00:00\n",
      "periods: 4\n",
      "freq: 2W\n",
      "\n",
      "Test fold borders: ['2003-01-12' '2003-01-26' '2003-02-09' '2003-02-23']\n",
      "Real number of folds: 3\n"
     ]
    }
   ],
   "source": [
    "n_folds = 3\n",
    "unit = \"W\"\n",
    "n_units = 2\n",
    "\n",
    "last_date = inters.df[Columns.Datetime].max().normalize()\n",
    "start_date=last_date - pd.Timedelta(n_folds * n_units + 1, unit=unit)  # Start date of first test fold\n",
    "periods=n_folds + 1\n",
    "freq=f\"{n_units}{unit}\"\n",
    "print(\n",
    "    f\"start_date: {start_date}\\n\"\n",
    "    f\"last_date: {last_date}\\n\"\n",
    "    f\"periods: {periods}\\n\"\n",
    "    f\"freq: {freq}\\n\"\n",
    ")\n",
    "\n",
    "date_range = pd.date_range(start=start_date, periods=periods, freq=freq, tz=last_date.tz)\n",
    "print(f\"Test fold borders: {date_range.values.astype('datetime64[D]')}\")\n",
    "\n",
    "# Init generator of folds\n",
    "cv = TimeRangeSplitter(\n",
    "    date_range=date_range,\n",
    "    filter_already_seen=True,\n",
    "    filter_cold_items=True,\n",
    "    filter_cold_users=True,\n",
    ")\n",
    "print(f\"Real number of folds: {cv.get_n_splits(inters)}\")"
   ]
  },
  {
   "cell_type": "markdown",
   "metadata": {},
   "source": [
    "## Train models"
   ]
  },
  {
   "cell_type": "code",
   "execution_count": 9,
   "metadata": {
    "execution": {
     "iopub.execute_input": "2022-12-05T13:55:10.240459Z",
     "iopub.status.busy": "2022-12-05T13:55:10.240459Z",
     "iopub.status.idle": "2022-12-05T13:55:10.255462Z",
     "shell.execute_reply": "2022-12-05T13:55:10.254459Z",
     "shell.execute_reply.started": "2022-12-05T13:55:10.240459Z"
    }
   },
   "outputs": [],
   "source": [
    "# Take few simple models to compare\n",
    "models = {\n",
    "    \"random\": RandomModel(),\n",
    "    \"popular\": PopularModel(),\n",
    "    \"most_raited\": PopularModel(popularity=\"sum_weight\"),\n",
    "    \"tfidf_k=5\": ImplicitItemKNNWrapperModel(model=TFIDFRecommender(K=5)),\n",
    "    \"tfidf_k=10\": ImplicitItemKNNWrapperModel(model=TFIDFRecommender(K=10)),\n",
    "    \"bm25_k=10_k1=0.05_b=0.1\": ImplicitItemKNNWrapperModel(model=BM25Recommender(K=5, K1=0.05, B=0.1)),\n",
    "}\n",
    "\n",
    "# We will calculate several classic (precision@k and recall@k) and \"beyond accuracy\" metrics\n",
    "metrics = {\n",
    "    \"prec@1\": Precision(k=1),\n",
    "    \"prec@10\": Precision(k=10),\n",
    "    \"recall\": Recall(k=10),\n",
    "    \"novelty\": MeanInvUserFreq(k=10),\n",
    "    \"serendipity\": Serendipity(k=10),\n",
    "}\n",
    "\n",
    "K_RECOS = 10"
   ]
  },
  {
   "cell_type": "code",
   "execution_count": 10,
   "metadata": {
    "execution": {
     "iopub.execute_input": "2022-12-05T13:55:10.256554Z",
     "iopub.status.busy": "2022-12-05T13:55:10.256554Z",
     "iopub.status.idle": "2022-12-05T13:55:18.438419Z",
     "shell.execute_reply": "2022-12-05T13:55:18.437419Z",
     "shell.execute_reply.started": "2022-12-05T13:55:10.256554Z"
    }
   },
   "outputs": [
    {
     "data": {
      "application/vnd.jupyter.widget-view+json": {
       "model_id": "1f9919bc95894a7ba163226724f5c2d3",
       "version_major": 2,
       "version_minor": 0
      },
      "text/plain": [
       "  0%|          | 0/3 [00:00<?, ?it/s]"
      ]
     },
     "metadata": {},
     "output_type": "display_data"
    },
    {
     "name": "stdout",
     "output_type": "stream",
     "text": [
      "\n",
      "==================== Fold 0\n",
      "{'End date': Timestamp('2003-01-26 00:00:00', freq='2W-SUN'),\n",
      " 'Start date': Timestamp('2003-01-12 00:00:00', freq='2W-SUN'),\n",
      " 'Test': 419,\n",
      " 'Test items': 339,\n",
      " 'Test users': 78,\n",
      " 'Train': 997837,\n",
      " 'Train items': 3706,\n",
      " 'Train users': 6040}\n",
      "\n",
      "==================== Fold 1\n",
      "{'End date': Timestamp('2003-02-09 00:00:00', freq='2W-SUN'),\n",
      " 'Start date': Timestamp('2003-01-26 00:00:00', freq='2W-SUN'),\n",
      " 'Test': 1105,\n",
      " 'Test items': 817,\n",
      " 'Test users': 71,\n",
      " 'Train': 998256,\n",
      " 'Train items': 3706,\n",
      " 'Train users': 6040}\n",
      "\n",
      "==================== Fold 2\n",
      "{'End date': Timestamp('2003-02-23 00:00:00', freq='2W-SUN'),\n",
      " 'Start date': Timestamp('2003-02-09 00:00:00', freq='2W-SUN'),\n",
      " 'Test': 535,\n",
      " 'Test items': 443,\n",
      " 'Test users': 68,\n",
      " 'Train': 999361,\n",
      " 'Train items': 3706,\n",
      " 'Train users': 6040}\n"
     ]
    }
   ],
   "source": [
    "# For each fold generate train and test part of dataset\n",
    "# Then fit every model, generate recommendations and calculate metrics\n",
    "\n",
    "results = []\n",
    "\n",
    "fold_iterator = cv.split(inters, collect_fold_stats=True)\n",
    "n_splits = cv.get_n_splits(inters)\n",
    "\n",
    "for i_fold, (train_ids, test_ids, fold_info) in tqdm(enumerate(fold_iterator), total=n_splits):\n",
    "    print(f\"\\n==================== Fold {i_fold}\")\n",
    "    pprint(fold_info)\n",
    "\n",
    "    df_train = inters.df.iloc[train_ids]\n",
    "    dataset = Dataset.construct(df_train)\n",
    "\n",
    "    df_test = inters.df.iloc[test_ids][Columns.UserItem]\n",
    "    test_users = np.unique(df_test[Columns.User])\n",
    "\n",
    "    # Catalog is set of items that we recommend.\n",
    "    # Sometimes we recommend not all items from train.\n",
    "    catalog = df_train[Columns.Item].unique()\n",
    "\n",
    "    for model_name, model in models.items():\n",
    "        model.fit(dataset)\n",
    "        recos = model.recommend(\n",
    "            users=test_users,\n",
    "            dataset=dataset,\n",
    "            k=K_RECOS,\n",
    "            filter_viewed=True,\n",
    "        )\n",
    "        metric_values = calc_metrics(\n",
    "            metrics,\n",
    "            reco=recos,\n",
    "            interactions=df_test,\n",
    "            prev_interactions=df_train,\n",
    "            catalog=catalog,\n",
    "        )\n",
    "        res = {\"fold\": i_fold, \"model\": model_name}\n",
    "        res.update(metric_values)\n",
    "        results.append(res)"
   ]
  },
  {
   "cell_type": "code",
   "execution_count": 11,
   "metadata": {
    "execution": {
     "iopub.execute_input": "2022-12-05T13:55:18.439419Z",
     "iopub.status.busy": "2022-12-05T13:55:18.439419Z",
     "iopub.status.idle": "2022-12-05T13:55:18.467419Z",
     "shell.execute_reply": "2022-12-05T13:55:18.467419Z",
     "shell.execute_reply.started": "2022-12-05T13:55:18.439419Z"
    }
   },
   "outputs": [
    {
     "data": {
      "text/html": [
       "<div>\n",
       "<style scoped>\n",
       "    .dataframe tbody tr th:only-of-type {\n",
       "        vertical-align: middle;\n",
       "    }\n",
       "\n",
       "    .dataframe tbody tr th {\n",
       "        vertical-align: top;\n",
       "    }\n",
       "\n",
       "    .dataframe thead tr th {\n",
       "        text-align: left;\n",
       "    }\n",
       "\n",
       "    .dataframe thead tr:last-of-type th {\n",
       "        text-align: right;\n",
       "    }\n",
       "</style>\n",
       "<table border=\"1\" class=\"dataframe\">\n",
       "  <thead>\n",
       "    <tr>\n",
       "      <th></th>\n",
       "      <th colspan=\"2\" halign=\"left\">prec@1</th>\n",
       "      <th colspan=\"2\" halign=\"left\">prec@10</th>\n",
       "      <th colspan=\"2\" halign=\"left\">recall</th>\n",
       "      <th colspan=\"2\" halign=\"left\">novelty</th>\n",
       "      <th colspan=\"2\" halign=\"left\">serendipity</th>\n",
       "    </tr>\n",
       "    <tr>\n",
       "      <th></th>\n",
       "      <th>mean</th>\n",
       "      <th>std</th>\n",
       "      <th>mean</th>\n",
       "      <th>std</th>\n",
       "      <th>mean</th>\n",
       "      <th>std</th>\n",
       "      <th>mean</th>\n",
       "      <th>std</th>\n",
       "      <th>mean</th>\n",
       "      <th>std</th>\n",
       "    </tr>\n",
       "    <tr>\n",
       "      <th>model</th>\n",
       "      <th></th>\n",
       "      <th></th>\n",
       "      <th></th>\n",
       "      <th></th>\n",
       "      <th></th>\n",
       "      <th></th>\n",
       "      <th></th>\n",
       "      <th></th>\n",
       "      <th></th>\n",
       "      <th></th>\n",
       "    </tr>\n",
       "  </thead>\n",
       "  <tbody>\n",
       "    <tr>\n",
       "      <th>random</th>\n",
       "      <td>0.00000</td>\n",
       "      <td>0.00000</td>\n",
       "      <td>0.00324</td>\n",
       "      <td>0.00455</td>\n",
       "      <td>0.00105</td>\n",
       "      <td>0.00091</td>\n",
       "      <td>6.41292</td>\n",
       "      <td>0.11337</td>\n",
       "      <td>0.00033</td>\n",
       "      <td>0.00034</td>\n",
       "    </tr>\n",
       "    <tr>\n",
       "      <th>popular</th>\n",
       "      <td>0.04224</td>\n",
       "      <td>0.01659</td>\n",
       "      <td>0.03695</td>\n",
       "      <td>0.01355</td>\n",
       "      <td>0.03498</td>\n",
       "      <td>0.00764</td>\n",
       "      <td>1.59682</td>\n",
       "      <td>0.05620</td>\n",
       "      <td>0.00020</td>\n",
       "      <td>0.00009</td>\n",
       "    </tr>\n",
       "    <tr>\n",
       "      <th>most_raited</th>\n",
       "      <td>0.03734</td>\n",
       "      <td>0.01017</td>\n",
       "      <td>0.03691</td>\n",
       "      <td>0.01450</td>\n",
       "      <td>0.02871</td>\n",
       "      <td>0.00691</td>\n",
       "      <td>1.60840</td>\n",
       "      <td>0.05644</td>\n",
       "      <td>0.00017</td>\n",
       "      <td>0.00005</td>\n",
       "    </tr>\n",
       "    <tr>\n",
       "      <th>tfidf_k=5</th>\n",
       "      <td>0.05121</td>\n",
       "      <td>0.01111</td>\n",
       "      <td>0.03477</td>\n",
       "      <td>0.01460</td>\n",
       "      <td>0.02991</td>\n",
       "      <td>0.01059</td>\n",
       "      <td>2.34470</td>\n",
       "      <td>0.05885</td>\n",
       "      <td>0.00120</td>\n",
       "      <td>0.00057</td>\n",
       "    </tr>\n",
       "    <tr>\n",
       "      <th>tfidf_k=10</th>\n",
       "      <td>0.03306</td>\n",
       "      <td>0.01756</td>\n",
       "      <td>0.03580</td>\n",
       "      <td>0.01633</td>\n",
       "      <td>0.02912</td>\n",
       "      <td>0.01059</td>\n",
       "      <td>2.15511</td>\n",
       "      <td>0.06599</td>\n",
       "      <td>0.00079</td>\n",
       "      <td>0.00048</td>\n",
       "    </tr>\n",
       "    <tr>\n",
       "      <th>bm25_k=10_k1=0.05_b=0.1</th>\n",
       "      <td>0.04756</td>\n",
       "      <td>0.03129</td>\n",
       "      <td>0.03964</td>\n",
       "      <td>0.01330</td>\n",
       "      <td>0.04094</td>\n",
       "      <td>0.00231</td>\n",
       "      <td>1.80611</td>\n",
       "      <td>0.09575</td>\n",
       "      <td>0.00033</td>\n",
       "      <td>0.00000</td>\n",
       "    </tr>\n",
       "  </tbody>\n",
       "</table>\n",
       "</div>"
      ],
      "text/plain": [
       "                          prec@1           prec@10            recall           \\\n",
       "                            mean      std     mean      std     mean      std   \n",
       "model                                                                           \n",
       "random                   0.00000  0.00000  0.00324  0.00455  0.00105  0.00091   \n",
       "popular                  0.04224  0.01659  0.03695  0.01355  0.03498  0.00764   \n",
       "most_raited              0.03734  0.01017  0.03691  0.01450  0.02871  0.00691   \n",
       "tfidf_k=5                0.05121  0.01111  0.03477  0.01460  0.02991  0.01059   \n",
       "tfidf_k=10               0.03306  0.01756  0.03580  0.01633  0.02912  0.01059   \n",
       "bm25_k=10_k1=0.05_b=0.1  0.04756  0.03129  0.03964  0.01330  0.04094  0.00231   \n",
       "\n",
       "                         novelty          serendipity           \n",
       "                            mean      std        mean      std  \n",
       "model                                                           \n",
       "random                   6.41292  0.11337     0.00033  0.00034  \n",
       "popular                  1.59682  0.05620     0.00020  0.00009  \n",
       "most_raited              1.60840  0.05644     0.00017  0.00005  \n",
       "tfidf_k=5                2.34470  0.05885     0.00120  0.00057  \n",
       "tfidf_k=10               2.15511  0.06599     0.00079  0.00048  \n",
       "bm25_k=10_k1=0.05_b=0.1  1.80611  0.09575     0.00033  0.00000  "
      ]
     },
     "execution_count": 11,
     "metadata": {},
     "output_type": "execute_result"
    }
   ],
   "source": [
    "# Aggregate metrics by folds and compare models\n",
    "pivot_results = pd.DataFrame(results).drop(columns=\"fold\").groupby([\"model\"], sort=False).agg([\"mean\", \"std\"])\n",
    "pivot_results.round(5)"
   ]
  },
  {
   "cell_type": "code",
   "execution_count": 12,
   "metadata": {
    "execution": {
     "iopub.execute_input": "2022-12-05T13:55:18.470423Z",
     "iopub.status.busy": "2022-12-05T13:55:18.470423Z",
     "iopub.status.idle": "2022-12-05T13:55:18.497422Z",
     "shell.execute_reply": "2022-12-05T13:55:18.497422Z",
     "shell.execute_reply.started": "2022-12-05T13:55:18.470423Z"
    }
   },
   "outputs": [
    {
     "data": {
      "text/html": [
       "<div>\n",
       "<style scoped>\n",
       "    .dataframe tbody tr th:only-of-type {\n",
       "        vertical-align: middle;\n",
       "    }\n",
       "\n",
       "    .dataframe tbody tr th {\n",
       "        vertical-align: top;\n",
       "    }\n",
       "\n",
       "    .dataframe thead tr th {\n",
       "        text-align: left;\n",
       "    }\n",
       "\n",
       "    .dataframe thead tr:last-of-type th {\n",
       "        text-align: right;\n",
       "    }\n",
       "</style>\n",
       "<table border=\"1\" class=\"dataframe\">\n",
       "  <thead>\n",
       "    <tr>\n",
       "      <th></th>\n",
       "      <th colspan=\"2\" halign=\"left\">prec@1</th>\n",
       "      <th colspan=\"2\" halign=\"left\">prec@10</th>\n",
       "      <th colspan=\"2\" halign=\"left\">recall</th>\n",
       "      <th colspan=\"2\" halign=\"left\">novelty</th>\n",
       "      <th colspan=\"2\" halign=\"left\">serendipity</th>\n",
       "    </tr>\n",
       "    <tr>\n",
       "      <th></th>\n",
       "      <th>mean</th>\n",
       "      <th>std</th>\n",
       "      <th>mean</th>\n",
       "      <th>std</th>\n",
       "      <th>mean</th>\n",
       "      <th>std</th>\n",
       "      <th>mean</th>\n",
       "      <th>std</th>\n",
       "      <th>mean</th>\n",
       "      <th>std</th>\n",
       "    </tr>\n",
       "    <tr>\n",
       "      <th>model</th>\n",
       "      <th></th>\n",
       "      <th></th>\n",
       "      <th></th>\n",
       "      <th></th>\n",
       "      <th></th>\n",
       "      <th></th>\n",
       "      <th></th>\n",
       "      <th></th>\n",
       "      <th></th>\n",
       "      <th></th>\n",
       "    </tr>\n",
       "  </thead>\n",
       "  <tbody>\n",
       "    <tr>\n",
       "      <th>bm25_k=10_k1=0.05_b=0.1</th>\n",
       "      <td>0.047563</td>\n",
       "      <td>0.031291</td>\n",
       "      <td>0.039643</td>\n",
       "      <td>0.013302</td>\n",
       "      <td>0.040941</td>\n",
       "      <td>0.002308</td>\n",
       "      <td>1.806109</td>\n",
       "      <td>0.095750</td>\n",
       "      <td>0.000331</td>\n",
       "      <td>0.000005</td>\n",
       "    </tr>\n",
       "    <tr>\n",
       "      <th>popular</th>\n",
       "      <td>0.042239</td>\n",
       "      <td>0.016591</td>\n",
       "      <td>0.036953</td>\n",
       "      <td>0.013549</td>\n",
       "      <td>0.034979</td>\n",
       "      <td>0.007638</td>\n",
       "      <td>1.596825</td>\n",
       "      <td>0.056199</td>\n",
       "      <td>0.000204</td>\n",
       "      <td>0.000089</td>\n",
       "    </tr>\n",
       "    <tr>\n",
       "      <th>tfidf_k=5</th>\n",
       "      <td>0.051208</td>\n",
       "      <td>0.011108</td>\n",
       "      <td>0.034773</td>\n",
       "      <td>0.014600</td>\n",
       "      <td>0.029908</td>\n",
       "      <td>0.010592</td>\n",
       "      <td>2.344700</td>\n",
       "      <td>0.058846</td>\n",
       "      <td>0.001201</td>\n",
       "      <td>0.000567</td>\n",
       "    </tr>\n",
       "    <tr>\n",
       "      <th>tfidf_k=10</th>\n",
       "      <td>0.033064</td>\n",
       "      <td>0.017556</td>\n",
       "      <td>0.035795</td>\n",
       "      <td>0.016333</td>\n",
       "      <td>0.029116</td>\n",
       "      <td>0.010594</td>\n",
       "      <td>2.155112</td>\n",
       "      <td>0.065987</td>\n",
       "      <td>0.000787</td>\n",
       "      <td>0.000478</td>\n",
       "    </tr>\n",
       "    <tr>\n",
       "      <th>most_raited</th>\n",
       "      <td>0.037337</td>\n",
       "      <td>0.010172</td>\n",
       "      <td>0.036911</td>\n",
       "      <td>0.014500</td>\n",
       "      <td>0.028706</td>\n",
       "      <td>0.006912</td>\n",
       "      <td>1.608399</td>\n",
       "      <td>0.056444</td>\n",
       "      <td>0.000171</td>\n",
       "      <td>0.000049</td>\n",
       "    </tr>\n",
       "    <tr>\n",
       "      <th>random</th>\n",
       "      <td>0.000000</td>\n",
       "      <td>0.000000</td>\n",
       "      <td>0.003244</td>\n",
       "      <td>0.004554</td>\n",
       "      <td>0.001049</td>\n",
       "      <td>0.000909</td>\n",
       "      <td>6.412918</td>\n",
       "      <td>0.113372</td>\n",
       "      <td>0.000333</td>\n",
       "      <td>0.000342</td>\n",
       "    </tr>\n",
       "  </tbody>\n",
       "</table>\n",
       "</div>"
      ],
      "text/plain": [
       "                           prec@1             prec@10              recall  \\\n",
       "                             mean       std      mean       std      mean   \n",
       "model                                                                       \n",
       "bm25_k=10_k1=0.05_b=0.1  0.047563  0.031291  0.039643  0.013302  0.040941   \n",
       "popular                  0.042239  0.016591  0.036953  0.013549  0.034979   \n",
       "tfidf_k=5                0.051208  0.011108  0.034773  0.014600  0.029908   \n",
       "tfidf_k=10               0.033064  0.017556  0.035795  0.016333  0.029116   \n",
       "most_raited              0.037337  0.010172  0.036911  0.014500  0.028706   \n",
       "random                   0.000000  0.000000  0.003244  0.004554  0.001049   \n",
       "\n",
       "                                    novelty           serendipity            \n",
       "                              std      mean       std        mean       std  \n",
       "model                                                                        \n",
       "bm25_k=10_k1=0.05_b=0.1  0.002308  1.806109  0.095750    0.000331  0.000005  \n",
       "popular                  0.007638  1.596825  0.056199    0.000204  0.000089  \n",
       "tfidf_k=5                0.010592  2.344700  0.058846    0.001201  0.000567  \n",
       "tfidf_k=10               0.010594  2.155112  0.065987    0.000787  0.000478  \n",
       "most_raited              0.006912  1.608399  0.056444    0.000171  0.000049  \n",
       "random                   0.000909  6.412918  0.113372    0.000333  0.000342  "
      ]
     },
     "execution_count": 12,
     "metadata": {},
     "output_type": "execute_result"
    }
   ],
   "source": [
    "final_results = pivot_results.sort_values(by=[('recall', 'mean'), ('serendipity', 'mean')], ascending=False)\n",
    "final_results"
   ]
  },
  {
   "cell_type": "code",
   "execution_count": 13,
   "metadata": {
    "execution": {
     "iopub.execute_input": "2022-12-05T13:55:18.499422Z",
     "iopub.status.busy": "2022-12-05T13:55:18.498421Z",
     "iopub.status.idle": "2022-12-05T13:55:18.622419Z",
     "shell.execute_reply": "2022-12-05T13:55:18.622419Z",
     "shell.execute_reply.started": "2022-12-05T13:55:18.499422Z"
    }
   },
   "outputs": [
    {
     "data": {
      "text/html": [
       "<style type=\"text/css\">\n",
       "#T_fff3d_row0_col2, #T_fff3d_row0_col4, #T_fff3d_row2_col0, #T_fff3d_row2_col8, #T_fff3d_row5_col6 {\n",
       "  background-color: lightgreen;\n",
       "}\n",
       "#T_fff3d_row1_col6, #T_fff3d_row4_col8, #T_fff3d_row5_col0, #T_fff3d_row5_col2, #T_fff3d_row5_col4 {\n",
       "  background-color: red;\n",
       "}\n",
       "</style>\n",
       "<table id=\"T_fff3d_\">\n",
       "  <thead>\n",
       "    <tr>\n",
       "      <th class=\"blank level0\" >&nbsp;</th>\n",
       "      <th class=\"col_heading level0 col0\" colspan=\"2\">prec@1</th>\n",
       "      <th class=\"col_heading level0 col2\" colspan=\"2\">prec@10</th>\n",
       "      <th class=\"col_heading level0 col4\" colspan=\"2\">recall</th>\n",
       "      <th class=\"col_heading level0 col6\" colspan=\"2\">novelty</th>\n",
       "      <th class=\"col_heading level0 col8\" colspan=\"2\">serendipity</th>\n",
       "    </tr>\n",
       "    <tr>\n",
       "      <th class=\"blank level1\" >&nbsp;</th>\n",
       "      <th class=\"col_heading level1 col0\" >mean</th>\n",
       "      <th class=\"col_heading level1 col1\" >std</th>\n",
       "      <th class=\"col_heading level1 col2\" >mean</th>\n",
       "      <th class=\"col_heading level1 col3\" >std</th>\n",
       "      <th class=\"col_heading level1 col4\" >mean</th>\n",
       "      <th class=\"col_heading level1 col5\" >std</th>\n",
       "      <th class=\"col_heading level1 col6\" >mean</th>\n",
       "      <th class=\"col_heading level1 col7\" >std</th>\n",
       "      <th class=\"col_heading level1 col8\" >mean</th>\n",
       "      <th class=\"col_heading level1 col9\" >std</th>\n",
       "    </tr>\n",
       "    <tr>\n",
       "      <th class=\"index_name level0\" >model</th>\n",
       "      <th class=\"blank col0\" >&nbsp;</th>\n",
       "      <th class=\"blank col1\" >&nbsp;</th>\n",
       "      <th class=\"blank col2\" >&nbsp;</th>\n",
       "      <th class=\"blank col3\" >&nbsp;</th>\n",
       "      <th class=\"blank col4\" >&nbsp;</th>\n",
       "      <th class=\"blank col5\" >&nbsp;</th>\n",
       "      <th class=\"blank col6\" >&nbsp;</th>\n",
       "      <th class=\"blank col7\" >&nbsp;</th>\n",
       "      <th class=\"blank col8\" >&nbsp;</th>\n",
       "      <th class=\"blank col9\" >&nbsp;</th>\n",
       "    </tr>\n",
       "  </thead>\n",
       "  <tbody>\n",
       "    <tr>\n",
       "      <th id=\"T_fff3d_level0_row0\" class=\"row_heading level0 row0\" >bm25_k=10_k1=0.05_b=0.1</th>\n",
       "      <td id=\"T_fff3d_row0_col0\" class=\"data row0 col0\" >0.047563</td>\n",
       "      <td id=\"T_fff3d_row0_col1\" class=\"data row0 col1\" >0.031291</td>\n",
       "      <td id=\"T_fff3d_row0_col2\" class=\"data row0 col2\" >0.039643</td>\n",
       "      <td id=\"T_fff3d_row0_col3\" class=\"data row0 col3\" >0.013302</td>\n",
       "      <td id=\"T_fff3d_row0_col4\" class=\"data row0 col4\" >0.040941</td>\n",
       "      <td id=\"T_fff3d_row0_col5\" class=\"data row0 col5\" >0.002308</td>\n",
       "      <td id=\"T_fff3d_row0_col6\" class=\"data row0 col6\" >1.806109</td>\n",
       "      <td id=\"T_fff3d_row0_col7\" class=\"data row0 col7\" >0.095750</td>\n",
       "      <td id=\"T_fff3d_row0_col8\" class=\"data row0 col8\" >0.000331</td>\n",
       "      <td id=\"T_fff3d_row0_col9\" class=\"data row0 col9\" >0.000005</td>\n",
       "    </tr>\n",
       "    <tr>\n",
       "      <th id=\"T_fff3d_level0_row1\" class=\"row_heading level0 row1\" >popular</th>\n",
       "      <td id=\"T_fff3d_row1_col0\" class=\"data row1 col0\" >0.042239</td>\n",
       "      <td id=\"T_fff3d_row1_col1\" class=\"data row1 col1\" >0.016591</td>\n",
       "      <td id=\"T_fff3d_row1_col2\" class=\"data row1 col2\" >0.036953</td>\n",
       "      <td id=\"T_fff3d_row1_col3\" class=\"data row1 col3\" >0.013549</td>\n",
       "      <td id=\"T_fff3d_row1_col4\" class=\"data row1 col4\" >0.034979</td>\n",
       "      <td id=\"T_fff3d_row1_col5\" class=\"data row1 col5\" >0.007638</td>\n",
       "      <td id=\"T_fff3d_row1_col6\" class=\"data row1 col6\" >1.596825</td>\n",
       "      <td id=\"T_fff3d_row1_col7\" class=\"data row1 col7\" >0.056199</td>\n",
       "      <td id=\"T_fff3d_row1_col8\" class=\"data row1 col8\" >0.000204</td>\n",
       "      <td id=\"T_fff3d_row1_col9\" class=\"data row1 col9\" >0.000089</td>\n",
       "    </tr>\n",
       "    <tr>\n",
       "      <th id=\"T_fff3d_level0_row2\" class=\"row_heading level0 row2\" >tfidf_k=5</th>\n",
       "      <td id=\"T_fff3d_row2_col0\" class=\"data row2 col0\" >0.051208</td>\n",
       "      <td id=\"T_fff3d_row2_col1\" class=\"data row2 col1\" >0.011108</td>\n",
       "      <td id=\"T_fff3d_row2_col2\" class=\"data row2 col2\" >0.034773</td>\n",
       "      <td id=\"T_fff3d_row2_col3\" class=\"data row2 col3\" >0.014600</td>\n",
       "      <td id=\"T_fff3d_row2_col4\" class=\"data row2 col4\" >0.029908</td>\n",
       "      <td id=\"T_fff3d_row2_col5\" class=\"data row2 col5\" >0.010592</td>\n",
       "      <td id=\"T_fff3d_row2_col6\" class=\"data row2 col6\" >2.344700</td>\n",
       "      <td id=\"T_fff3d_row2_col7\" class=\"data row2 col7\" >0.058846</td>\n",
       "      <td id=\"T_fff3d_row2_col8\" class=\"data row2 col8\" >0.001201</td>\n",
       "      <td id=\"T_fff3d_row2_col9\" class=\"data row2 col9\" >0.000567</td>\n",
       "    </tr>\n",
       "    <tr>\n",
       "      <th id=\"T_fff3d_level0_row3\" class=\"row_heading level0 row3\" >tfidf_k=10</th>\n",
       "      <td id=\"T_fff3d_row3_col0\" class=\"data row3 col0\" >0.033064</td>\n",
       "      <td id=\"T_fff3d_row3_col1\" class=\"data row3 col1\" >0.017556</td>\n",
       "      <td id=\"T_fff3d_row3_col2\" class=\"data row3 col2\" >0.035795</td>\n",
       "      <td id=\"T_fff3d_row3_col3\" class=\"data row3 col3\" >0.016333</td>\n",
       "      <td id=\"T_fff3d_row3_col4\" class=\"data row3 col4\" >0.029116</td>\n",
       "      <td id=\"T_fff3d_row3_col5\" class=\"data row3 col5\" >0.010594</td>\n",
       "      <td id=\"T_fff3d_row3_col6\" class=\"data row3 col6\" >2.155112</td>\n",
       "      <td id=\"T_fff3d_row3_col7\" class=\"data row3 col7\" >0.065987</td>\n",
       "      <td id=\"T_fff3d_row3_col8\" class=\"data row3 col8\" >0.000787</td>\n",
       "      <td id=\"T_fff3d_row3_col9\" class=\"data row3 col9\" >0.000478</td>\n",
       "    </tr>\n",
       "    <tr>\n",
       "      <th id=\"T_fff3d_level0_row4\" class=\"row_heading level0 row4\" >most_raited</th>\n",
       "      <td id=\"T_fff3d_row4_col0\" class=\"data row4 col0\" >0.037337</td>\n",
       "      <td id=\"T_fff3d_row4_col1\" class=\"data row4 col1\" >0.010172</td>\n",
       "      <td id=\"T_fff3d_row4_col2\" class=\"data row4 col2\" >0.036911</td>\n",
       "      <td id=\"T_fff3d_row4_col3\" class=\"data row4 col3\" >0.014500</td>\n",
       "      <td id=\"T_fff3d_row4_col4\" class=\"data row4 col4\" >0.028706</td>\n",
       "      <td id=\"T_fff3d_row4_col5\" class=\"data row4 col5\" >0.006912</td>\n",
       "      <td id=\"T_fff3d_row4_col6\" class=\"data row4 col6\" >1.608399</td>\n",
       "      <td id=\"T_fff3d_row4_col7\" class=\"data row4 col7\" >0.056444</td>\n",
       "      <td id=\"T_fff3d_row4_col8\" class=\"data row4 col8\" >0.000171</td>\n",
       "      <td id=\"T_fff3d_row4_col9\" class=\"data row4 col9\" >0.000049</td>\n",
       "    </tr>\n",
       "    <tr>\n",
       "      <th id=\"T_fff3d_level0_row5\" class=\"row_heading level0 row5\" >random</th>\n",
       "      <td id=\"T_fff3d_row5_col0\" class=\"data row5 col0\" >0.000000</td>\n",
       "      <td id=\"T_fff3d_row5_col1\" class=\"data row5 col1\" >0.000000</td>\n",
       "      <td id=\"T_fff3d_row5_col2\" class=\"data row5 col2\" >0.003244</td>\n",
       "      <td id=\"T_fff3d_row5_col3\" class=\"data row5 col3\" >0.004554</td>\n",
       "      <td id=\"T_fff3d_row5_col4\" class=\"data row5 col4\" >0.001049</td>\n",
       "      <td id=\"T_fff3d_row5_col5\" class=\"data row5 col5\" >0.000909</td>\n",
       "      <td id=\"T_fff3d_row5_col6\" class=\"data row5 col6\" >6.412918</td>\n",
       "      <td id=\"T_fff3d_row5_col7\" class=\"data row5 col7\" >0.113372</td>\n",
       "      <td id=\"T_fff3d_row5_col8\" class=\"data row5 col8\" >0.000333</td>\n",
       "      <td id=\"T_fff3d_row5_col9\" class=\"data row5 col9\" >0.000342</td>\n",
       "    </tr>\n",
       "  </tbody>\n",
       "</table>\n"
      ],
      "text/plain": [
       "<pandas.io.formats.style.Styler at 0x2100e35f430>"
      ]
     },
     "execution_count": 13,
     "metadata": {},
     "output_type": "execute_result"
    }
   ],
   "source": [
    "subset = [(metric, agg) for metric, agg in final_results.columns if agg == 'mean']\n",
    "(final_results.style\n",
    "    .highlight_min(subset=subset, color='red', axis=0)\n",
    "    .highlight_max(subset=subset, color='lightgreen', axis=0))"
   ]
  },
  {
   "cell_type": "code",
   "execution_count": null,
   "metadata": {},
   "outputs": [],
   "source": []
  },
  {
   "cell_type": "code",
   "execution_count": null,
   "metadata": {},
   "outputs": [],
   "source": []
  }
 ],
 "metadata": {
  "kernelspec": {
   "display_name": "RecTools (py38)",
   "language": "python",
   "name": "rectools_py38"
  },
  "language_info": {
   "codemirror_mode": {
    "name": "ipython",
    "version": 3
   },
   "file_extension": ".py",
   "mimetype": "text/x-python",
   "name": "python",
   "nbconvert_exporter": "python",
   "pygments_lexer": "ipython3",
   "version": "3.8.15"
  },
  "toc": {
   "base_numbering": 1,
   "nav_menu": {},
   "number_sections": true,
   "sideBar": true,
   "skip_h1_title": false,
   "title_cell": "Table of Contents",
   "title_sidebar": "Contents",
   "toc_cell": false,
   "toc_position": {},
   "toc_section_display": true,
   "toc_window_display": false
  },
  "widgets": {
   "application/vnd.jupyter.widget-state+json": {
    "state": {
     "0bff511cc0734a72b0abd07e2c0cdc9b": {
      "model_module": "@jupyter-widgets/controls",
      "model_module_version": "1.5.0",
      "model_name": "ProgressStyleModel",
      "state": {
       "description_width": ""
      }
     },
     "1f9919bc95894a7ba163226724f5c2d3": {
      "model_module": "@jupyter-widgets/controls",
      "model_module_version": "1.5.0",
      "model_name": "HBoxModel",
      "state": {
       "children": [
        "IPY_MODEL_98bdc91ca71f4fb28f78fe121421199f",
        "IPY_MODEL_2dc23b592eaf4292aadc30278e755ee9",
        "IPY_MODEL_e510272ad62248a8bf5b91f4f64b205c"
       ],
       "layout": "IPY_MODEL_4f07759368fd43af98757f0093a6a1c8"
      }
     },
     "2459ad47e8934d5c9035acff862fa835": {
      "model_module": "@jupyter-widgets/controls",
      "model_module_version": "1.5.0",
      "model_name": "DescriptionStyleModel",
      "state": {
       "description_width": ""
      }
     },
     "2dc23b592eaf4292aadc30278e755ee9": {
      "model_module": "@jupyter-widgets/controls",
      "model_module_version": "1.5.0",
      "model_name": "FloatProgressModel",
      "state": {
       "bar_style": "success",
       "layout": "IPY_MODEL_de52fb764a594f3ca08b1e5256ac7686",
       "max": 3,
       "style": "IPY_MODEL_0bff511cc0734a72b0abd07e2c0cdc9b",
       "value": 3
      }
     },
     "34e3d01ac2394bfb8c1ed864d435b887": {
      "model_module": "@jupyter-widgets/base",
      "model_module_version": "1.2.0",
      "model_name": "LayoutModel",
      "state": {}
     },
     "4f07759368fd43af98757f0093a6a1c8": {
      "model_module": "@jupyter-widgets/base",
      "model_module_version": "1.2.0",
      "model_name": "LayoutModel",
      "state": {}
     },
     "81877382813d452d8d2261bb24a32e29": {
      "model_module": "@jupyter-widgets/controls",
      "model_module_version": "1.5.0",
      "model_name": "DescriptionStyleModel",
      "state": {
       "description_width": ""
      }
     },
     "98bdc91ca71f4fb28f78fe121421199f": {
      "model_module": "@jupyter-widgets/controls",
      "model_module_version": "1.5.0",
      "model_name": "HTMLModel",
      "state": {
       "layout": "IPY_MODEL_34e3d01ac2394bfb8c1ed864d435b887",
       "style": "IPY_MODEL_2459ad47e8934d5c9035acff862fa835",
       "value": "100%"
      }
     },
     "a87dee1f0b424983962c1388cc83a5eb": {
      "model_module": "@jupyter-widgets/base",
      "model_module_version": "1.2.0",
      "model_name": "LayoutModel",
      "state": {}
     },
     "de52fb764a594f3ca08b1e5256ac7686": {
      "model_module": "@jupyter-widgets/base",
      "model_module_version": "1.2.0",
      "model_name": "LayoutModel",
      "state": {}
     },
     "e510272ad62248a8bf5b91f4f64b205c": {
      "model_module": "@jupyter-widgets/controls",
      "model_module_version": "1.5.0",
      "model_name": "HTMLModel",
      "state": {
       "layout": "IPY_MODEL_a87dee1f0b424983962c1388cc83a5eb",
       "style": "IPY_MODEL_81877382813d452d8d2261bb24a32e29",
       "value": " 3/3 [00:08&lt;00:00,  2.70s/it]"
      }
     }
    },
    "version_major": 2,
    "version_minor": 0
   }
  }
 },
 "nbformat": 4,
 "nbformat_minor": 4
}
