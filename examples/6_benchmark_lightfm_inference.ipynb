{
 "cells": [
  {
   "cell_type": "markdown",
   "id": "a5cabd6c",
   "metadata": {},
   "source": [
    "# Benchmark inference speed: RecTools wrapper for LightFM\n",
    "\n",
    "Comparing speed of inference: RecTools LightFM wrapper vs original LightFM framework. Inference on Movielens 20-m dataset\n",
    "\n",
    "Real speed may vary depending on actual hardware and library versions\n",
    "\n",
    "LightFM library is required to run this notebook. You can install it with `pip install rectools[lightfm]`"
   ]
  },
  {
   "cell_type": "code",
   "execution_count": 2,
   "id": "1f08be62",
   "metadata": {},
   "outputs": [
    {
     "name": "stdout",
     "output_type": "stream",
     "text": [
      "0.4.0\n",
      "1.17\n"
     ]
    }
   ],
   "source": [
    "import rectools\n",
    "import lightfm\n",
    "print(rectools.__version__)\n",
    "print(lightfm.__version__)"
   ]
  },
  {
   "cell_type": "code",
   "execution_count": null,
   "id": "b2ebfbf0",
   "metadata": {},
   "outputs": [],
   "source": [
    "import os\n",
    "import warnings\n",
    "import time\n",
    "\n",
    "from pathlib import Path\n",
    "from pprint import pprint\n",
    "\n",
    "import pandas as pd\n",
    "import numpy as np\n",
    "import seaborn as sns\n",
    "import matplotlib.pyplot as plt\n",
    "\n",
    "from rectools import Columns\n",
    "from rectools.dataset import Dataset\n",
    "from rectools.models import LightFMWrapperModel\n",
    "\n",
    "from lightfm import LightFM\n",
    "\n",
    "os.environ[\"OPENBLAS_NUM_THREADS\"] = \"1\"\n",
    "sns.set_theme(style=\"whitegrid\")"
   ]
  },
  {
   "cell_type": "markdown",
   "id": "f282396f",
   "metadata": {},
   "source": [
    "## Load data: Movielens 20m"
   ]
  },
  {
   "cell_type": "code",
   "execution_count": 3,
   "id": "887df4ed",
   "metadata": {},
   "outputs": [
    {
     "name": "stdout",
     "output_type": "stream",
     "text": [
      "Archive:  ml-20m.zip\n",
      "  inflating: ml-20m/genome-scores.csv  \n",
      "  inflating: ml-20m/genome-tags.csv  \n",
      "  inflating: ml-20m/links.csv        \n",
      "  inflating: ml-20m/movies.csv       \n",
      "  inflating: ml-20m/ratings.csv      \n",
      "  inflating: ml-20m/README.txt       \n",
      "  inflating: ml-20m/tags.csv         \n",
      "CPU times: user 266 ms, sys: 105 ms, total: 371 ms\n",
      "Wall time: 32.5 s\n"
     ]
    }
   ],
   "source": [
    "%%time\n",
    "!wget -q https://files.grouplens.org/datasets/movielens/ml-20m.zip -O ml-20m.zip\n",
    "!unzip -o ml-20m.zip\n",
    "!rm ml-20m.zip"
   ]
  },
  {
   "cell_type": "code",
   "execution_count": 4,
   "id": "d51c0ce5",
   "metadata": {},
   "outputs": [
    {
     "name": "stdout",
     "output_type": "stream",
     "text": [
      "(20000263, 4)\n"
     ]
    },
    {
     "data": {
      "text/html": [
       "<div>\n",
       "<style scoped>\n",
       "    .dataframe tbody tr th:only-of-type {\n",
       "        vertical-align: middle;\n",
       "    }\n",
       "\n",
       "    .dataframe tbody tr th {\n",
       "        vertical-align: top;\n",
       "    }\n",
       "\n",
       "    .dataframe thead th {\n",
       "        text-align: right;\n",
       "    }\n",
       "</style>\n",
       "<table border=\"1\" class=\"dataframe\">\n",
       "  <thead>\n",
       "    <tr style=\"text-align: right;\">\n",
       "      <th></th>\n",
       "      <th>user_id</th>\n",
       "      <th>item_id</th>\n",
       "      <th>weight</th>\n",
       "      <th>datetime</th>\n",
       "    </tr>\n",
       "  </thead>\n",
       "  <tbody>\n",
       "    <tr>\n",
       "      <th>0</th>\n",
       "      <td>1</td>\n",
       "      <td>2</td>\n",
       "      <td>3.5</td>\n",
       "      <td>1112486027</td>\n",
       "    </tr>\n",
       "    <tr>\n",
       "      <th>1</th>\n",
       "      <td>1</td>\n",
       "      <td>29</td>\n",
       "      <td>3.5</td>\n",
       "      <td>1112484676</td>\n",
       "    </tr>\n",
       "    <tr>\n",
       "      <th>2</th>\n",
       "      <td>1</td>\n",
       "      <td>32</td>\n",
       "      <td>3.5</td>\n",
       "      <td>1112484819</td>\n",
       "    </tr>\n",
       "    <tr>\n",
       "      <th>3</th>\n",
       "      <td>1</td>\n",
       "      <td>47</td>\n",
       "      <td>3.5</td>\n",
       "      <td>1112484727</td>\n",
       "    </tr>\n",
       "    <tr>\n",
       "      <th>4</th>\n",
       "      <td>1</td>\n",
       "      <td>50</td>\n",
       "      <td>3.5</td>\n",
       "      <td>1112484580</td>\n",
       "    </tr>\n",
       "  </tbody>\n",
       "</table>\n",
       "</div>"
      ],
      "text/plain": [
       "   user_id  item_id  weight    datetime\n",
       "0        1        2     3.5  1112486027\n",
       "1        1       29     3.5  1112484676\n",
       "2        1       32     3.5  1112484819\n",
       "3        1       47     3.5  1112484727\n",
       "4        1       50     3.5  1112484580"
      ]
     },
     "execution_count": 4,
     "metadata": {},
     "output_type": "execute_result"
    }
   ],
   "source": [
    "ratings = pd.read_csv(\n",
    "    \"ml-20m/ratings.csv\",\n",
    "    header=0,\n",
    "    names=[Columns.User, Columns.Item, Columns.Weight, Columns.Datetime],\n",
    ")\n",
    "print(ratings.shape)\n",
    "ratings.head()"
   ]
  },
  {
   "cell_type": "markdown",
   "id": "c5a14248",
   "metadata": {},
   "source": [
    "## Train LightFM model with different latent factors dimension size"
   ]
  },
  {
   "cell_type": "code",
   "execution_count": 5,
   "id": "3d5dd974",
   "metadata": {},
   "outputs": [],
   "source": [
    "def make_base_model(factors: int):\n",
    "    return LightFMWrapperModel(LightFM(no_components=factors, loss=\"bpr\"))\n",
    "\n",
    "dataset = Dataset.construct(ratings)\n",
    "\n",
    "fitted_models = {}\n",
    "\n",
    "factors = list(range(64, 257, 64))\n",
    "for n_factors in factors:\n",
    "    model = make_base_model(n_factors)\n",
    "    model.fit(dataset)\n",
    "    fitted_models[n_factors] = model"
   ]
  },
  {
   "cell_type": "markdown",
   "id": "ba8aabb7",
   "metadata": {},
   "source": [
    "## Compute inference speed for both frameworks on all models"
   ]
  },
  {
   "cell_type": "code",
   "execution_count": 6,
   "id": "28beba31",
   "metadata": {},
   "outputs": [],
   "source": [
    "# we will use 8 threads for both RecTools and LightFM inference\n",
    "# we will run each experiment 10 times to get mean values\n",
    "NUM_THREADS = 8\n",
    "K_RECOS = 10\n",
    "NUM_REPEATS = 10"
   ]
  },
  {
   "cell_type": "code",
   "execution_count": 7,
   "id": "353d3651",
   "metadata": {},
   "outputs": [
    {
     "name": "stdout",
     "output_type": "stream",
     "text": [
      "138493\n"
     ]
    }
   ],
   "source": [
    "# prepare external (real) movielens user ids for RecTools inference\n",
    "train_users = dataset.user_id_map.external_ids\n",
    "\n",
    "# prepare internal sparse matrix user and items ids for LightFM inference\n",
    "user_ids = dataset.user_id_map.internal_ids\n",
    "item_ids = dataset.item_id_map.internal_ids\n",
    "n_users = len(user_ids)\n",
    "n_items = len(item_ids)\n",
    "\n",
    "assert len(train_users) == len(user_ids)\n",
    "print(len(train_users))"
   ]
  },
  {
   "cell_type": "code",
   "execution_count": 8,
   "id": "7ad97dfc",
   "metadata": {},
   "outputs": [],
   "source": [
    "def benchmark_rectools(models, n_users):\n",
    "    results = []\n",
    "    users = train_users[:n_users]\n",
    "    for run in range(NUM_REPEATS):\n",
    "        for n_factors, model in models.items():\n",
    "            start = time.time()\n",
    "            \n",
    "            # RecTools inference. It is processed by batches of users internally\n",
    "            model.n_threads = NUM_THREADS\n",
    "            recos = model.recommend(\n",
    "                users=users,\n",
    "                dataset=dataset,\n",
    "                k=K_RECOS,\n",
    "                filter_viewed=False,\n",
    "                add_rank_col=False\n",
    "            )\n",
    "            \n",
    "            elapsed = time.time() - start\n",
    "            results.append({\"factors\": n_factors, \"framework\": \"rectools\", \"inference_speed\": elapsed, \"run\": run})\n",
    "    return results"
   ]
  },
  {
   "cell_type": "code",
   "execution_count": 9,
   "id": "e49dc8fc",
   "metadata": {},
   "outputs": [],
   "source": [
    "def benchmark_lightfm_batch(models, n_users, batch_size = 1000):\n",
    "    results = []\n",
    "    users = user_ids[:n_users]\n",
    "    for run in range(NUM_REPEATS):\n",
    "        for n_factors, model in models.items():\n",
    "            # get LightFM framework model from RecTools wrapper\n",
    "            lightfm_model = model.model\n",
    "            start = time.time()\n",
    "\n",
    "            # LightFM inference. We proceed it by batches to avoid memory problems\n",
    "            reco_by_batch = []\n",
    "            n_batches = n_users // batch_size \n",
    "            if n_users % batch_size > 0:\n",
    "                n_batches += 1\n",
    "            for i_batch in range(n_batches):\n",
    "                batch_users_ids = users[i_batch * batch_size : (i_batch + 1) * batch_size]\n",
    "                batch_scores = lightfm_model.predict(\n",
    "                    user_ids = np.repeat(batch_users_ids, n_items),\n",
    "                    item_ids = np.tile(item_ids, len(batch_users_ids)),\n",
    "                    num_threads = NUM_THREADS\n",
    "                ).reshape(len(batch_users_ids), n_items)            \n",
    "                # scores are not sorted so we need to sort them and get top K_RECOS items for each user\n",
    "                batch_unsorted_reco_positions = batch_scores.argpartition(-K_RECOS, axis=1)[:, -K_RECOS:]\n",
    "                batch_unsorted_reco_scores = np.take_along_axis(batch_scores, batch_unsorted_reco_positions, axis=1)\n",
    "                batch_recs = np.take_along_axis(\n",
    "                        batch_unsorted_reco_positions, batch_unsorted_reco_scores.argsort()[:, ::-1], axis=1\n",
    "                    )\n",
    "                reco_by_batch.append(batch_recs)\n",
    "            reco_by_batch = np.vstack(reco_by_batch)\n",
    "\n",
    "            elapsed = time.time() - start\n",
    "            results.append({\"factors\": n_factors, \"framework\": \"lightfm\", \"inference_speed\": elapsed, \"run\": run})\n",
    "    return results"
   ]
  },
  {
   "cell_type": "markdown",
   "id": "ffe77189",
   "metadata": {},
   "source": [
    "## Benchmark frameworks\n",
    "\n",
    "Be careful when running this code. Inference with all the repeats and settings for all 140k train users takes a lot of time. \n",
    "\n",
    "We advice to select about 10k users for comparison on regular hardware and skip full comparison"
   ]
  },
  {
   "cell_type": "code",
   "execution_count": 10,
   "id": "4be0aa77",
   "metadata": {},
   "outputs": [
    {
     "name": "stdout",
     "output_type": "stream",
     "text": [
      "Num users for inference: 10000\n"
     ]
    }
   ],
   "source": [
    "# inference for 10k users on Movielens-20m\n",
    "\n",
    "N_USERS = 10000\n",
    "print(f\"Num users for inference: {N_USERS}\")\n",
    "rectools_results_ten_k = benchmark_rectools(fitted_models, n_users=N_USERS)\n",
    "lightfm_results_batch_ten_k = benchmark_lightfm_batch(fitted_models, n_users=N_USERS)\n",
    "results_ten_k = pd.DataFrame(lightfm_results_batch_ten_k + rectools_results_ten_k)"
   ]
  },
  {
   "cell_type": "code",
   "execution_count": 11,
   "id": "7052bf5d",
   "metadata": {},
   "outputs": [
    {
     "name": "stdout",
     "output_type": "stream",
     "text": [
      "Num users for inference: 138493\n"
     ]
    }
   ],
   "source": [
    "# inference for all train users on Movielens-20m\n",
    "\n",
    "print(f\"Num users for inference: {n_users}\")\n",
    "rectools_results = benchmark_rectools(fitted_models, n_users=n_users)\n",
    "lightfm_results_batch = benchmark_lightfm_batch(fitted_models, n_users=n_users)\n",
    "results_all = pd.DataFrame(lightfm_results_batch + rectools_results)"
   ]
  },
  {
   "cell_type": "code",
   "execution_count": 12,
   "id": "54d610e9",
   "metadata": {},
   "outputs": [
    {
     "data": {
      "text/html": [
       "<div>\n",
       "<style scoped>\n",
       "    .dataframe tbody tr th:only-of-type {\n",
       "        vertical-align: middle;\n",
       "    }\n",
       "\n",
       "    .dataframe tbody tr th {\n",
       "        vertical-align: top;\n",
       "    }\n",
       "\n",
       "    .dataframe thead th {\n",
       "        text-align: right;\n",
       "    }\n",
       "</style>\n",
       "<table border=\"1\" class=\"dataframe\">\n",
       "  <thead>\n",
       "    <tr style=\"text-align: right;\">\n",
       "      <th></th>\n",
       "      <th>factors</th>\n",
       "      <th>framework</th>\n",
       "      <th>inference_speed</th>\n",
       "      <th>run</th>\n",
       "    </tr>\n",
       "  </thead>\n",
       "  <tbody>\n",
       "    <tr>\n",
       "      <th>0</th>\n",
       "      <td>64</td>\n",
       "      <td>lightfm</td>\n",
       "      <td>135.769374</td>\n",
       "      <td>0</td>\n",
       "    </tr>\n",
       "    <tr>\n",
       "      <th>1</th>\n",
       "      <td>128</td>\n",
       "      <td>lightfm</td>\n",
       "      <td>160.676028</td>\n",
       "      <td>0</td>\n",
       "    </tr>\n",
       "    <tr>\n",
       "      <th>2</th>\n",
       "      <td>192</td>\n",
       "      <td>lightfm</td>\n",
       "      <td>190.658902</td>\n",
       "      <td>0</td>\n",
       "    </tr>\n",
       "    <tr>\n",
       "      <th>3</th>\n",
       "      <td>256</td>\n",
       "      <td>lightfm</td>\n",
       "      <td>204.438340</td>\n",
       "      <td>0</td>\n",
       "    </tr>\n",
       "    <tr>\n",
       "      <th>4</th>\n",
       "      <td>64</td>\n",
       "      <td>lightfm</td>\n",
       "      <td>134.842623</td>\n",
       "      <td>1</td>\n",
       "    </tr>\n",
       "  </tbody>\n",
       "</table>\n",
       "</div>"
      ],
      "text/plain": [
       "   factors framework  inference_speed  run\n",
       "0       64   lightfm       135.769374    0\n",
       "1      128   lightfm       160.676028    0\n",
       "2      192   lightfm       190.658902    0\n",
       "3      256   lightfm       204.438340    0\n",
       "4       64   lightfm       134.842623    1"
      ]
     },
     "execution_count": 12,
     "metadata": {},
     "output_type": "execute_result"
    }
   ],
   "source": [
    "results_all.head()"
   ]
  },
  {
   "cell_type": "markdown",
   "id": "035c3c13",
   "metadata": {},
   "source": [
    "## Compare the difference\n",
    "\n",
    "### Inference speed\n",
    "- RecTools wrapper has 5 to 25 times faster inference then original LightFM framework on the same number of threads"
   ]
  },
  {
   "cell_type": "code",
   "execution_count": 13,
   "id": "92e283e1",
   "metadata": {},
   "outputs": [
    {
     "data": {
      "image/png": "[encoded data removed]",
      "text/plain": [
       "<Figure size 640x480 with 1 Axes>"
      ]
     },
     "metadata": {},
     "output_type": "display_data"
    }
   ],
   "source": [
    "# Comparison on 10k users\n",
    "sns.barplot(data=results_ten_k, x=\"factors\", y=\"inference_speed\", hue=\"framework\", palette=[\"steelblue\", \"crimson\"]);\n",
    "plt.xlabel('Factors')\n",
    "plt.ylabel('Seconds')\n",
    "plt.title(\"LightFM model inference speed for 10k users on Movielens 20m\")\n",
    "plt.show()"
   ]
  },
  {
   "cell_type": "code",
   "execution_count": 14,
   "id": "8afea9f4",
   "metadata": {},
   "outputs": [
    {
     "data": {
      "image/png": "[encoded data removed]",
      "text/plain": [
       "<Figure size 640x480 with 1 Axes>"
      ]
     },
     "metadata": {},
     "output_type": "display_data"
    }
   ],
   "source": [
    "# Comparison on 140k users\n",
    "sns.barplot(data=results_all, x=\"factors\", y=\"inference_speed\", hue=\"framework\", palette=[\"steelblue\", \"crimson\"]);\n",
    "plt.xlabel('Factors')\n",
    "plt.ylabel('Seconds')\n",
    "plt.title(\"LightFM model inference speed for all 140k users on Movielens 20m\")\n",
    "plt.show()"
   ]
  },
  {
   "cell_type": "markdown",
   "id": "bbb92b60",
   "metadata": {},
   "source": [
    "### Other benefits of RecTools wrapper\n",
    "- No need for manual construction of sparse matrixes over interactions and users/items features\n",
    "- No need for manual processing of retrived scores and ranking\n",
    "- Model has the same interface with all other RecTools models and can be compared easily\n",
    "- `filter_viewed` and `items_to_recommend` options\n",
    "\n",
    "### How is the speed optimized?\n",
    "We are using vectorization of LightFM user/item feature factors and biases (which already provided x2 speed boost to the original library). For even faster inference we use implicit library optimized matrix_factorization top_k method over the constructed vectors."
   ]
  }
 ],
 "metadata": {
  "kernelspec": {
   "display_name": "rect",
   "language": "python",
   "name": "rect"
  },
  "language_info": {
   "codemirror_mode": {
    "name": "ipython",
    "version": 3
   },
   "file_extension": ".py",
   "mimetype": "text/x-python",
   "name": "python",
   "nbconvert_exporter": "python",
   "pygments_lexer": "ipython3",
   "version": "3.7.10"
  }
 },
 "nbformat": 4,
 "nbformat_minor": 5
}
